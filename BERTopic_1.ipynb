{
  "nbformat": 4,
  "nbformat_minor": 0,
  "metadata": {
    "colab": {
      "name": "BERTopic.ipynb",
      "provenance": [],
      "collapsed_sections": [
        "53hj_AicVI1t",
        "rQJ3GNrCFw79",
        "izFLfR90gsqO",
        "Fjs2sxPCQ7SE",
        "I3ixijZxtNBi",
        "2ooIJNWr4uhe"
      ]
    },
    "kernelspec": {
      "name": "python3",
      "display_name": "Python 3"
    },
    "language_info": {
      "name": "python"
    },
    "widgets": {
      "application/vnd.jupyter.widget-state+json": {
        "3793ea3b083a4ecf81edf29c5552506e": {
          "model_module": "@jupyter-widgets/controls",
          "model_name": "HBoxModel",
          "model_module_version": "1.5.0",
          "state": {
            "_dom_classes": [],
            "_model_module": "@jupyter-widgets/controls",
            "_model_module_version": "1.5.0",
            "_model_name": "HBoxModel",
            "_view_count": null,
            "_view_module": "@jupyter-widgets/controls",
            "_view_module_version": "1.5.0",
            "_view_name": "HBoxView",
            "box_style": "",
            "children": [
              "IPY_MODEL_c78f14dde02544d99a993e3e5410859e",
              "IPY_MODEL_fe468478d1a541718d5303823d9182da",
              "IPY_MODEL_194696b96cc44e3998da5be705a38030"
            ],
            "layout": "IPY_MODEL_b5cc2e71f4604a888220d1c22f8b6f02"
          }
        },
        "c78f14dde02544d99a993e3e5410859e": {
          "model_module": "@jupyter-widgets/controls",
          "model_name": "HTMLModel",
          "model_module_version": "1.5.0",
          "state": {
            "_dom_classes": [],
            "_model_module": "@jupyter-widgets/controls",
            "_model_module_version": "1.5.0",
            "_model_name": "HTMLModel",
            "_view_count": null,
            "_view_module": "@jupyter-widgets/controls",
            "_view_module_version": "1.5.0",
            "_view_name": "HTMLView",
            "description": "",
            "description_tooltip": null,
            "layout": "IPY_MODEL_e76ba67160ab43c7817f8fc91ad51c2d",
            "placeholder": "​",
            "style": "IPY_MODEL_b94c783affe6462dafe919a2d10dd34a",
            "value": "Downloading config.json: 100%"
          }
        },
        "fe468478d1a541718d5303823d9182da": {
          "model_module": "@jupyter-widgets/controls",
          "model_name": "FloatProgressModel",
          "model_module_version": "1.5.0",
          "state": {
            "_dom_classes": [],
            "_model_module": "@jupyter-widgets/controls",
            "_model_module_version": "1.5.0",
            "_model_name": "FloatProgressModel",
            "_view_count": null,
            "_view_module": "@jupyter-widgets/controls",
            "_view_module_version": "1.5.0",
            "_view_name": "ProgressView",
            "bar_style": "success",
            "description": "",
            "description_tooltip": null,
            "layout": "IPY_MODEL_cadc180d524940199192e86ea9275f43",
            "max": 481,
            "min": 0,
            "orientation": "horizontal",
            "style": "IPY_MODEL_b7688764380f49879ed38dd90dcbfa07",
            "value": 481
          }
        },
        "194696b96cc44e3998da5be705a38030": {
          "model_module": "@jupyter-widgets/controls",
          "model_name": "HTMLModel",
          "model_module_version": "1.5.0",
          "state": {
            "_dom_classes": [],
            "_model_module": "@jupyter-widgets/controls",
            "_model_module_version": "1.5.0",
            "_model_name": "HTMLModel",
            "_view_count": null,
            "_view_module": "@jupyter-widgets/controls",
            "_view_module_version": "1.5.0",
            "_view_name": "HTMLView",
            "description": "",
            "description_tooltip": null,
            "layout": "IPY_MODEL_292df9e815b54a6a82c860ec2bd4682a",
            "placeholder": "​",
            "style": "IPY_MODEL_567aed32fd70467682fe2d4f36a9a145",
            "value": " 481/481 [00:00&lt;00:00, 6.97kB/s]"
          }
        },
        "b5cc2e71f4604a888220d1c22f8b6f02": {
          "model_module": "@jupyter-widgets/base",
          "model_name": "LayoutModel",
          "model_module_version": "1.2.0",
          "state": {
            "_model_module": "@jupyter-widgets/base",
            "_model_module_version": "1.2.0",
            "_model_name": "LayoutModel",
            "_view_count": null,
            "_view_module": "@jupyter-widgets/base",
            "_view_module_version": "1.2.0",
            "_view_name": "LayoutView",
            "align_content": null,
            "align_items": null,
            "align_self": null,
            "border": null,
            "bottom": null,
            "display": null,
            "flex": null,
            "flex_flow": null,
            "grid_area": null,
            "grid_auto_columns": null,
            "grid_auto_flow": null,
            "grid_auto_rows": null,
            "grid_column": null,
            "grid_gap": null,
            "grid_row": null,
            "grid_template_areas": null,
            "grid_template_columns": null,
            "grid_template_rows": null,
            "height": null,
            "justify_content": null,
            "justify_items": null,
            "left": null,
            "margin": null,
            "max_height": null,
            "max_width": null,
            "min_height": null,
            "min_width": null,
            "object_fit": null,
            "object_position": null,
            "order": null,
            "overflow": null,
            "overflow_x": null,
            "overflow_y": null,
            "padding": null,
            "right": null,
            "top": null,
            "visibility": null,
            "width": null
          }
        },
        "e76ba67160ab43c7817f8fc91ad51c2d": {
          "model_module": "@jupyter-widgets/base",
          "model_name": "LayoutModel",
          "model_module_version": "1.2.0",
          "state": {
            "_model_module": "@jupyter-widgets/base",
            "_model_module_version": "1.2.0",
            "_model_name": "LayoutModel",
            "_view_count": null,
            "_view_module": "@jupyter-widgets/base",
            "_view_module_version": "1.2.0",
            "_view_name": "LayoutView",
            "align_content": null,
            "align_items": null,
            "align_self": null,
            "border": null,
            "bottom": null,
            "display": null,
            "flex": null,
            "flex_flow": null,
            "grid_area": null,
            "grid_auto_columns": null,
            "grid_auto_flow": null,
            "grid_auto_rows": null,
            "grid_column": null,
            "grid_gap": null,
            "grid_row": null,
            "grid_template_areas": null,
            "grid_template_columns": null,
            "grid_template_rows": null,
            "height": null,
            "justify_content": null,
            "justify_items": null,
            "left": null,
            "margin": null,
            "max_height": null,
            "max_width": null,
            "min_height": null,
            "min_width": null,
            "object_fit": null,
            "object_position": null,
            "order": null,
            "overflow": null,
            "overflow_x": null,
            "overflow_y": null,
            "padding": null,
            "right": null,
            "top": null,
            "visibility": null,
            "width": null
          }
        },
        "b94c783affe6462dafe919a2d10dd34a": {
          "model_module": "@jupyter-widgets/controls",
          "model_name": "DescriptionStyleModel",
          "model_module_version": "1.5.0",
          "state": {
            "_model_module": "@jupyter-widgets/controls",
            "_model_module_version": "1.5.0",
            "_model_name": "DescriptionStyleModel",
            "_view_count": null,
            "_view_module": "@jupyter-widgets/base",
            "_view_module_version": "1.2.0",
            "_view_name": "StyleView",
            "description_width": ""
          }
        },
        "cadc180d524940199192e86ea9275f43": {
          "model_module": "@jupyter-widgets/base",
          "model_name": "LayoutModel",
          "model_module_version": "1.2.0",
          "state": {
            "_model_module": "@jupyter-widgets/base",
            "_model_module_version": "1.2.0",
            "_model_name": "LayoutModel",
            "_view_count": null,
            "_view_module": "@jupyter-widgets/base",
            "_view_module_version": "1.2.0",
            "_view_name": "LayoutView",
            "align_content": null,
            "align_items": null,
            "align_self": null,
            "border": null,
            "bottom": null,
            "display": null,
            "flex": null,
            "flex_flow": null,
            "grid_area": null,
            "grid_auto_columns": null,
            "grid_auto_flow": null,
            "grid_auto_rows": null,
            "grid_column": null,
            "grid_gap": null,
            "grid_row": null,
            "grid_template_areas": null,
            "grid_template_columns": null,
            "grid_template_rows": null,
            "height": null,
            "justify_content": null,
            "justify_items": null,
            "left": null,
            "margin": null,
            "max_height": null,
            "max_width": null,
            "min_height": null,
            "min_width": null,
            "object_fit": null,
            "object_position": null,
            "order": null,
            "overflow": null,
            "overflow_x": null,
            "overflow_y": null,
            "padding": null,
            "right": null,
            "top": null,
            "visibility": null,
            "width": null
          }
        },
        "b7688764380f49879ed38dd90dcbfa07": {
          "model_module": "@jupyter-widgets/controls",
          "model_name": "ProgressStyleModel",
          "model_module_version": "1.5.0",
          "state": {
            "_model_module": "@jupyter-widgets/controls",
            "_model_module_version": "1.5.0",
            "_model_name": "ProgressStyleModel",
            "_view_count": null,
            "_view_module": "@jupyter-widgets/base",
            "_view_module_version": "1.2.0",
            "_view_name": "StyleView",
            "bar_color": null,
            "description_width": ""
          }
        },
        "292df9e815b54a6a82c860ec2bd4682a": {
          "model_module": "@jupyter-widgets/base",
          "model_name": "LayoutModel",
          "model_module_version": "1.2.0",
          "state": {
            "_model_module": "@jupyter-widgets/base",
            "_model_module_version": "1.2.0",
            "_model_name": "LayoutModel",
            "_view_count": null,
            "_view_module": "@jupyter-widgets/base",
            "_view_module_version": "1.2.0",
            "_view_name": "LayoutView",
            "align_content": null,
            "align_items": null,
            "align_self": null,
            "border": null,
            "bottom": null,
            "display": null,
            "flex": null,
            "flex_flow": null,
            "grid_area": null,
            "grid_auto_columns": null,
            "grid_auto_flow": null,
            "grid_auto_rows": null,
            "grid_column": null,
            "grid_gap": null,
            "grid_row": null,
            "grid_template_areas": null,
            "grid_template_columns": null,
            "grid_template_rows": null,
            "height": null,
            "justify_content": null,
            "justify_items": null,
            "left": null,
            "margin": null,
            "max_height": null,
            "max_width": null,
            "min_height": null,
            "min_width": null,
            "object_fit": null,
            "object_position": null,
            "order": null,
            "overflow": null,
            "overflow_x": null,
            "overflow_y": null,
            "padding": null,
            "right": null,
            "top": null,
            "visibility": null,
            "width": null
          }
        },
        "567aed32fd70467682fe2d4f36a9a145": {
          "model_module": "@jupyter-widgets/controls",
          "model_name": "DescriptionStyleModel",
          "model_module_version": "1.5.0",
          "state": {
            "_model_module": "@jupyter-widgets/controls",
            "_model_module_version": "1.5.0",
            "_model_name": "DescriptionStyleModel",
            "_view_count": null,
            "_view_module": "@jupyter-widgets/base",
            "_view_module_version": "1.2.0",
            "_view_name": "StyleView",
            "description_width": ""
          }
        },
        "b8f7ea26b0814bb7b274dab5a726cf8a": {
          "model_module": "@jupyter-widgets/controls",
          "model_name": "HBoxModel",
          "model_module_version": "1.5.0",
          "state": {
            "_dom_classes": [],
            "_model_module": "@jupyter-widgets/controls",
            "_model_module_version": "1.5.0",
            "_model_name": "HBoxModel",
            "_view_count": null,
            "_view_module": "@jupyter-widgets/controls",
            "_view_module_version": "1.5.0",
            "_view_name": "HBoxView",
            "box_style": "",
            "children": [
              "IPY_MODEL_a608b894e7834501a47dfa2d6cefde1b",
              "IPY_MODEL_9490e70a7ace4e65811c23064d6fa5f7",
              "IPY_MODEL_62d3fee9477547e1b33c0a78a3905ac3"
            ],
            "layout": "IPY_MODEL_701b2cb2ae64408a8367898e3d2ad9ff"
          }
        },
        "a608b894e7834501a47dfa2d6cefde1b": {
          "model_module": "@jupyter-widgets/controls",
          "model_name": "HTMLModel",
          "model_module_version": "1.5.0",
          "state": {
            "_dom_classes": [],
            "_model_module": "@jupyter-widgets/controls",
            "_model_module_version": "1.5.0",
            "_model_name": "HTMLModel",
            "_view_count": null,
            "_view_module": "@jupyter-widgets/controls",
            "_view_module_version": "1.5.0",
            "_view_name": "HTMLView",
            "description": "",
            "description_tooltip": null,
            "layout": "IPY_MODEL_ea8c1847c82f406d859518569201249d",
            "placeholder": "​",
            "style": "IPY_MODEL_7d983ebfd94d480c89a0b064076ef0ec",
            "value": "Downloading vocab.json: 100%"
          }
        },
        "9490e70a7ace4e65811c23064d6fa5f7": {
          "model_module": "@jupyter-widgets/controls",
          "model_name": "FloatProgressModel",
          "model_module_version": "1.5.0",
          "state": {
            "_dom_classes": [],
            "_model_module": "@jupyter-widgets/controls",
            "_model_module_version": "1.5.0",
            "_model_name": "FloatProgressModel",
            "_view_count": null,
            "_view_module": "@jupyter-widgets/controls",
            "_view_module_version": "1.5.0",
            "_view_name": "ProgressView",
            "bar_style": "success",
            "description": "",
            "description_tooltip": null,
            "layout": "IPY_MODEL_0b842965de4142399d14f249101e8990",
            "max": 898823,
            "min": 0,
            "orientation": "horizontal",
            "style": "IPY_MODEL_ca14983710364a8aadc3129d30644b3e",
            "value": 898823
          }
        },
        "62d3fee9477547e1b33c0a78a3905ac3": {
          "model_module": "@jupyter-widgets/controls",
          "model_name": "HTMLModel",
          "model_module_version": "1.5.0",
          "state": {
            "_dom_classes": [],
            "_model_module": "@jupyter-widgets/controls",
            "_model_module_version": "1.5.0",
            "_model_name": "HTMLModel",
            "_view_count": null,
            "_view_module": "@jupyter-widgets/controls",
            "_view_module_version": "1.5.0",
            "_view_name": "HTMLView",
            "description": "",
            "description_tooltip": null,
            "layout": "IPY_MODEL_3a6f902650724f4784a75af8ea939edc",
            "placeholder": "​",
            "style": "IPY_MODEL_b9c1de8665094b2ba6ca9f221e3129bc",
            "value": " 878k/878k [00:00&lt;00:00, 712kB/s]"
          }
        },
        "701b2cb2ae64408a8367898e3d2ad9ff": {
          "model_module": "@jupyter-widgets/base",
          "model_name": "LayoutModel",
          "model_module_version": "1.2.0",
          "state": {
            "_model_module": "@jupyter-widgets/base",
            "_model_module_version": "1.2.0",
            "_model_name": "LayoutModel",
            "_view_count": null,
            "_view_module": "@jupyter-widgets/base",
            "_view_module_version": "1.2.0",
            "_view_name": "LayoutView",
            "align_content": null,
            "align_items": null,
            "align_self": null,
            "border": null,
            "bottom": null,
            "display": null,
            "flex": null,
            "flex_flow": null,
            "grid_area": null,
            "grid_auto_columns": null,
            "grid_auto_flow": null,
            "grid_auto_rows": null,
            "grid_column": null,
            "grid_gap": null,
            "grid_row": null,
            "grid_template_areas": null,
            "grid_template_columns": null,
            "grid_template_rows": null,
            "height": null,
            "justify_content": null,
            "justify_items": null,
            "left": null,
            "margin": null,
            "max_height": null,
            "max_width": null,
            "min_height": null,
            "min_width": null,
            "object_fit": null,
            "object_position": null,
            "order": null,
            "overflow": null,
            "overflow_x": null,
            "overflow_y": null,
            "padding": null,
            "right": null,
            "top": null,
            "visibility": null,
            "width": null
          }
        },
        "ea8c1847c82f406d859518569201249d": {
          "model_module": "@jupyter-widgets/base",
          "model_name": "LayoutModel",
          "model_module_version": "1.2.0",
          "state": {
            "_model_module": "@jupyter-widgets/base",
            "_model_module_version": "1.2.0",
            "_model_name": "LayoutModel",
            "_view_count": null,
            "_view_module": "@jupyter-widgets/base",
            "_view_module_version": "1.2.0",
            "_view_name": "LayoutView",
            "align_content": null,
            "align_items": null,
            "align_self": null,
            "border": null,
            "bottom": null,
            "display": null,
            "flex": null,
            "flex_flow": null,
            "grid_area": null,
            "grid_auto_columns": null,
            "grid_auto_flow": null,
            "grid_auto_rows": null,
            "grid_column": null,
            "grid_gap": null,
            "grid_row": null,
            "grid_template_areas": null,
            "grid_template_columns": null,
            "grid_template_rows": null,
            "height": null,
            "justify_content": null,
            "justify_items": null,
            "left": null,
            "margin": null,
            "max_height": null,
            "max_width": null,
            "min_height": null,
            "min_width": null,
            "object_fit": null,
            "object_position": null,
            "order": null,
            "overflow": null,
            "overflow_x": null,
            "overflow_y": null,
            "padding": null,
            "right": null,
            "top": null,
            "visibility": null,
            "width": null
          }
        },
        "7d983ebfd94d480c89a0b064076ef0ec": {
          "model_module": "@jupyter-widgets/controls",
          "model_name": "DescriptionStyleModel",
          "model_module_version": "1.5.0",
          "state": {
            "_model_module": "@jupyter-widgets/controls",
            "_model_module_version": "1.5.0",
            "_model_name": "DescriptionStyleModel",
            "_view_count": null,
            "_view_module": "@jupyter-widgets/base",
            "_view_module_version": "1.2.0",
            "_view_name": "StyleView",
            "description_width": ""
          }
        },
        "0b842965de4142399d14f249101e8990": {
          "model_module": "@jupyter-widgets/base",
          "model_name": "LayoutModel",
          "model_module_version": "1.2.0",
          "state": {
            "_model_module": "@jupyter-widgets/base",
            "_model_module_version": "1.2.0",
            "_model_name": "LayoutModel",
            "_view_count": null,
            "_view_module": "@jupyter-widgets/base",
            "_view_module_version": "1.2.0",
            "_view_name": "LayoutView",
            "align_content": null,
            "align_items": null,
            "align_self": null,
            "border": null,
            "bottom": null,
            "display": null,
            "flex": null,
            "flex_flow": null,
            "grid_area": null,
            "grid_auto_columns": null,
            "grid_auto_flow": null,
            "grid_auto_rows": null,
            "grid_column": null,
            "grid_gap": null,
            "grid_row": null,
            "grid_template_areas": null,
            "grid_template_columns": null,
            "grid_template_rows": null,
            "height": null,
            "justify_content": null,
            "justify_items": null,
            "left": null,
            "margin": null,
            "max_height": null,
            "max_width": null,
            "min_height": null,
            "min_width": null,
            "object_fit": null,
            "object_position": null,
            "order": null,
            "overflow": null,
            "overflow_x": null,
            "overflow_y": null,
            "padding": null,
            "right": null,
            "top": null,
            "visibility": null,
            "width": null
          }
        },
        "ca14983710364a8aadc3129d30644b3e": {
          "model_module": "@jupyter-widgets/controls",
          "model_name": "ProgressStyleModel",
          "model_module_version": "1.5.0",
          "state": {
            "_model_module": "@jupyter-widgets/controls",
            "_model_module_version": "1.5.0",
            "_model_name": "ProgressStyleModel",
            "_view_count": null,
            "_view_module": "@jupyter-widgets/base",
            "_view_module_version": "1.2.0",
            "_view_name": "StyleView",
            "bar_color": null,
            "description_width": ""
          }
        },
        "3a6f902650724f4784a75af8ea939edc": {
          "model_module": "@jupyter-widgets/base",
          "model_name": "LayoutModel",
          "model_module_version": "1.2.0",
          "state": {
            "_model_module": "@jupyter-widgets/base",
            "_model_module_version": "1.2.0",
            "_model_name": "LayoutModel",
            "_view_count": null,
            "_view_module": "@jupyter-widgets/base",
            "_view_module_version": "1.2.0",
            "_view_name": "LayoutView",
            "align_content": null,
            "align_items": null,
            "align_self": null,
            "border": null,
            "bottom": null,
            "display": null,
            "flex": null,
            "flex_flow": null,
            "grid_area": null,
            "grid_auto_columns": null,
            "grid_auto_flow": null,
            "grid_auto_rows": null,
            "grid_column": null,
            "grid_gap": null,
            "grid_row": null,
            "grid_template_areas": null,
            "grid_template_columns": null,
            "grid_template_rows": null,
            "height": null,
            "justify_content": null,
            "justify_items": null,
            "left": null,
            "margin": null,
            "max_height": null,
            "max_width": null,
            "min_height": null,
            "min_width": null,
            "object_fit": null,
            "object_position": null,
            "order": null,
            "overflow": null,
            "overflow_x": null,
            "overflow_y": null,
            "padding": null,
            "right": null,
            "top": null,
            "visibility": null,
            "width": null
          }
        },
        "b9c1de8665094b2ba6ca9f221e3129bc": {
          "model_module": "@jupyter-widgets/controls",
          "model_name": "DescriptionStyleModel",
          "model_module_version": "1.5.0",
          "state": {
            "_model_module": "@jupyter-widgets/controls",
            "_model_module_version": "1.5.0",
            "_model_name": "DescriptionStyleModel",
            "_view_count": null,
            "_view_module": "@jupyter-widgets/base",
            "_view_module_version": "1.2.0",
            "_view_name": "StyleView",
            "description_width": ""
          }
        },
        "51b012d142434d5ab73e37b86fbb6d39": {
          "model_module": "@jupyter-widgets/controls",
          "model_name": "HBoxModel",
          "model_module_version": "1.5.0",
          "state": {
            "_dom_classes": [],
            "_model_module": "@jupyter-widgets/controls",
            "_model_module_version": "1.5.0",
            "_model_name": "HBoxModel",
            "_view_count": null,
            "_view_module": "@jupyter-widgets/controls",
            "_view_module_version": "1.5.0",
            "_view_name": "HBoxView",
            "box_style": "",
            "children": [
              "IPY_MODEL_77e69be035f3414693496472878c94d6",
              "IPY_MODEL_75eef58e878245169a43f6974606f97f",
              "IPY_MODEL_8be6f11fec434bb99fba6d2dd3674261"
            ],
            "layout": "IPY_MODEL_d443370ab0ed47a5bf406a77b65e46e5"
          }
        },
        "77e69be035f3414693496472878c94d6": {
          "model_module": "@jupyter-widgets/controls",
          "model_name": "HTMLModel",
          "model_module_version": "1.5.0",
          "state": {
            "_dom_classes": [],
            "_model_module": "@jupyter-widgets/controls",
            "_model_module_version": "1.5.0",
            "_model_name": "HTMLModel",
            "_view_count": null,
            "_view_module": "@jupyter-widgets/controls",
            "_view_module_version": "1.5.0",
            "_view_name": "HTMLView",
            "description": "",
            "description_tooltip": null,
            "layout": "IPY_MODEL_fca0064408404f56858f830dfc90c405",
            "placeholder": "​",
            "style": "IPY_MODEL_b331a7fa89144ce99edea2f5b064e40e",
            "value": "Downloading merges.txt: 100%"
          }
        },
        "75eef58e878245169a43f6974606f97f": {
          "model_module": "@jupyter-widgets/controls",
          "model_name": "FloatProgressModel",
          "model_module_version": "1.5.0",
          "state": {
            "_dom_classes": [],
            "_model_module": "@jupyter-widgets/controls",
            "_model_module_version": "1.5.0",
            "_model_name": "FloatProgressModel",
            "_view_count": null,
            "_view_module": "@jupyter-widgets/controls",
            "_view_module_version": "1.5.0",
            "_view_name": "ProgressView",
            "bar_style": "success",
            "description": "",
            "description_tooltip": null,
            "layout": "IPY_MODEL_090b6303cc69447693955445eddbd45c",
            "max": 456318,
            "min": 0,
            "orientation": "horizontal",
            "style": "IPY_MODEL_a4cedfeabcac4e06b3fd71ac48ce508c",
            "value": 456318
          }
        },
        "8be6f11fec434bb99fba6d2dd3674261": {
          "model_module": "@jupyter-widgets/controls",
          "model_name": "HTMLModel",
          "model_module_version": "1.5.0",
          "state": {
            "_dom_classes": [],
            "_model_module": "@jupyter-widgets/controls",
            "_model_module_version": "1.5.0",
            "_model_name": "HTMLModel",
            "_view_count": null,
            "_view_module": "@jupyter-widgets/controls",
            "_view_module_version": "1.5.0",
            "_view_name": "HTMLView",
            "description": "",
            "description_tooltip": null,
            "layout": "IPY_MODEL_7b8798ef7ef54c0cb6c786299bf7b5ee",
            "placeholder": "​",
            "style": "IPY_MODEL_0a7c55dec7ff45d1a3008d4b11f12a10",
            "value": " 446k/446k [00:00&lt;00:00, 669kB/s]"
          }
        },
        "d443370ab0ed47a5bf406a77b65e46e5": {
          "model_module": "@jupyter-widgets/base",
          "model_name": "LayoutModel",
          "model_module_version": "1.2.0",
          "state": {
            "_model_module": "@jupyter-widgets/base",
            "_model_module_version": "1.2.0",
            "_model_name": "LayoutModel",
            "_view_count": null,
            "_view_module": "@jupyter-widgets/base",
            "_view_module_version": "1.2.0",
            "_view_name": "LayoutView",
            "align_content": null,
            "align_items": null,
            "align_self": null,
            "border": null,
            "bottom": null,
            "display": null,
            "flex": null,
            "flex_flow": null,
            "grid_area": null,
            "grid_auto_columns": null,
            "grid_auto_flow": null,
            "grid_auto_rows": null,
            "grid_column": null,
            "grid_gap": null,
            "grid_row": null,
            "grid_template_areas": null,
            "grid_template_columns": null,
            "grid_template_rows": null,
            "height": null,
            "justify_content": null,
            "justify_items": null,
            "left": null,
            "margin": null,
            "max_height": null,
            "max_width": null,
            "min_height": null,
            "min_width": null,
            "object_fit": null,
            "object_position": null,
            "order": null,
            "overflow": null,
            "overflow_x": null,
            "overflow_y": null,
            "padding": null,
            "right": null,
            "top": null,
            "visibility": null,
            "width": null
          }
        },
        "fca0064408404f56858f830dfc90c405": {
          "model_module": "@jupyter-widgets/base",
          "model_name": "LayoutModel",
          "model_module_version": "1.2.0",
          "state": {
            "_model_module": "@jupyter-widgets/base",
            "_model_module_version": "1.2.0",
            "_model_name": "LayoutModel",
            "_view_count": null,
            "_view_module": "@jupyter-widgets/base",
            "_view_module_version": "1.2.0",
            "_view_name": "LayoutView",
            "align_content": null,
            "align_items": null,
            "align_self": null,
            "border": null,
            "bottom": null,
            "display": null,
            "flex": null,
            "flex_flow": null,
            "grid_area": null,
            "grid_auto_columns": null,
            "grid_auto_flow": null,
            "grid_auto_rows": null,
            "grid_column": null,
            "grid_gap": null,
            "grid_row": null,
            "grid_template_areas": null,
            "grid_template_columns": null,
            "grid_template_rows": null,
            "height": null,
            "justify_content": null,
            "justify_items": null,
            "left": null,
            "margin": null,
            "max_height": null,
            "max_width": null,
            "min_height": null,
            "min_width": null,
            "object_fit": null,
            "object_position": null,
            "order": null,
            "overflow": null,
            "overflow_x": null,
            "overflow_y": null,
            "padding": null,
            "right": null,
            "top": null,
            "visibility": null,
            "width": null
          }
        },
        "b331a7fa89144ce99edea2f5b064e40e": {
          "model_module": "@jupyter-widgets/controls",
          "model_name": "DescriptionStyleModel",
          "model_module_version": "1.5.0",
          "state": {
            "_model_module": "@jupyter-widgets/controls",
            "_model_module_version": "1.5.0",
            "_model_name": "DescriptionStyleModel",
            "_view_count": null,
            "_view_module": "@jupyter-widgets/base",
            "_view_module_version": "1.2.0",
            "_view_name": "StyleView",
            "description_width": ""
          }
        },
        "090b6303cc69447693955445eddbd45c": {
          "model_module": "@jupyter-widgets/base",
          "model_name": "LayoutModel",
          "model_module_version": "1.2.0",
          "state": {
            "_model_module": "@jupyter-widgets/base",
            "_model_module_version": "1.2.0",
            "_model_name": "LayoutModel",
            "_view_count": null,
            "_view_module": "@jupyter-widgets/base",
            "_view_module_version": "1.2.0",
            "_view_name": "LayoutView",
            "align_content": null,
            "align_items": null,
            "align_self": null,
            "border": null,
            "bottom": null,
            "display": null,
            "flex": null,
            "flex_flow": null,
            "grid_area": null,
            "grid_auto_columns": null,
            "grid_auto_flow": null,
            "grid_auto_rows": null,
            "grid_column": null,
            "grid_gap": null,
            "grid_row": null,
            "grid_template_areas": null,
            "grid_template_columns": null,
            "grid_template_rows": null,
            "height": null,
            "justify_content": null,
            "justify_items": null,
            "left": null,
            "margin": null,
            "max_height": null,
            "max_width": null,
            "min_height": null,
            "min_width": null,
            "object_fit": null,
            "object_position": null,
            "order": null,
            "overflow": null,
            "overflow_x": null,
            "overflow_y": null,
            "padding": null,
            "right": null,
            "top": null,
            "visibility": null,
            "width": null
          }
        },
        "a4cedfeabcac4e06b3fd71ac48ce508c": {
          "model_module": "@jupyter-widgets/controls",
          "model_name": "ProgressStyleModel",
          "model_module_version": "1.5.0",
          "state": {
            "_model_module": "@jupyter-widgets/controls",
            "_model_module_version": "1.5.0",
            "_model_name": "ProgressStyleModel",
            "_view_count": null,
            "_view_module": "@jupyter-widgets/base",
            "_view_module_version": "1.2.0",
            "_view_name": "StyleView",
            "bar_color": null,
            "description_width": ""
          }
        },
        "7b8798ef7ef54c0cb6c786299bf7b5ee": {
          "model_module": "@jupyter-widgets/base",
          "model_name": "LayoutModel",
          "model_module_version": "1.2.0",
          "state": {
            "_model_module": "@jupyter-widgets/base",
            "_model_module_version": "1.2.0",
            "_model_name": "LayoutModel",
            "_view_count": null,
            "_view_module": "@jupyter-widgets/base",
            "_view_module_version": "1.2.0",
            "_view_name": "LayoutView",
            "align_content": null,
            "align_items": null,
            "align_self": null,
            "border": null,
            "bottom": null,
            "display": null,
            "flex": null,
            "flex_flow": null,
            "grid_area": null,
            "grid_auto_columns": null,
            "grid_auto_flow": null,
            "grid_auto_rows": null,
            "grid_column": null,
            "grid_gap": null,
            "grid_row": null,
            "grid_template_areas": null,
            "grid_template_columns": null,
            "grid_template_rows": null,
            "height": null,
            "justify_content": null,
            "justify_items": null,
            "left": null,
            "margin": null,
            "max_height": null,
            "max_width": null,
            "min_height": null,
            "min_width": null,
            "object_fit": null,
            "object_position": null,
            "order": null,
            "overflow": null,
            "overflow_x": null,
            "overflow_y": null,
            "padding": null,
            "right": null,
            "top": null,
            "visibility": null,
            "width": null
          }
        },
        "0a7c55dec7ff45d1a3008d4b11f12a10": {
          "model_module": "@jupyter-widgets/controls",
          "model_name": "DescriptionStyleModel",
          "model_module_version": "1.5.0",
          "state": {
            "_model_module": "@jupyter-widgets/controls",
            "_model_module_version": "1.5.0",
            "_model_name": "DescriptionStyleModel",
            "_view_count": null,
            "_view_module": "@jupyter-widgets/base",
            "_view_module_version": "1.2.0",
            "_view_name": "StyleView",
            "description_width": ""
          }
        },
        "4b66042cd42e470ba965f74b5518209a": {
          "model_module": "@jupyter-widgets/controls",
          "model_name": "HBoxModel",
          "model_module_version": "1.5.0",
          "state": {
            "_dom_classes": [],
            "_model_module": "@jupyter-widgets/controls",
            "_model_module_version": "1.5.0",
            "_model_name": "HBoxModel",
            "_view_count": null,
            "_view_module": "@jupyter-widgets/controls",
            "_view_module_version": "1.5.0",
            "_view_name": "HBoxView",
            "box_style": "",
            "children": [
              "IPY_MODEL_c6bec595ce3542fabd12ce4128bf85cb",
              "IPY_MODEL_bcd1abb9105942d1b8a440a8880c14a5",
              "IPY_MODEL_754e8f83a79d49d4a804ebf953f6633a"
            ],
            "layout": "IPY_MODEL_81b55f14c4de411a83ade02e0ebbb90f"
          }
        },
        "c6bec595ce3542fabd12ce4128bf85cb": {
          "model_module": "@jupyter-widgets/controls",
          "model_name": "HTMLModel",
          "model_module_version": "1.5.0",
          "state": {
            "_dom_classes": [],
            "_model_module": "@jupyter-widgets/controls",
            "_model_module_version": "1.5.0",
            "_model_name": "HTMLModel",
            "_view_count": null,
            "_view_module": "@jupyter-widgets/controls",
            "_view_module_version": "1.5.0",
            "_view_name": "HTMLView",
            "description": "",
            "description_tooltip": null,
            "layout": "IPY_MODEL_179fc60a97ef400281a71d4fd9ce95b1",
            "placeholder": "​",
            "style": "IPY_MODEL_7b07e77b262a465c9463d571b60101fd",
            "value": "Downloading tokenizer.json: 100%"
          }
        },
        "bcd1abb9105942d1b8a440a8880c14a5": {
          "model_module": "@jupyter-widgets/controls",
          "model_name": "FloatProgressModel",
          "model_module_version": "1.5.0",
          "state": {
            "_dom_classes": [],
            "_model_module": "@jupyter-widgets/controls",
            "_model_module_version": "1.5.0",
            "_model_name": "FloatProgressModel",
            "_view_count": null,
            "_view_module": "@jupyter-widgets/controls",
            "_view_module_version": "1.5.0",
            "_view_name": "ProgressView",
            "bar_style": "success",
            "description": "",
            "description_tooltip": null,
            "layout": "IPY_MODEL_49440516e2bd4244b6056cb2a200f26a",
            "max": 1355863,
            "min": 0,
            "orientation": "horizontal",
            "style": "IPY_MODEL_22eb152d049949a9a2e1147820e45509",
            "value": 1355863
          }
        },
        "754e8f83a79d49d4a804ebf953f6633a": {
          "model_module": "@jupyter-widgets/controls",
          "model_name": "HTMLModel",
          "model_module_version": "1.5.0",
          "state": {
            "_dom_classes": [],
            "_model_module": "@jupyter-widgets/controls",
            "_model_module_version": "1.5.0",
            "_model_name": "HTMLModel",
            "_view_count": null,
            "_view_module": "@jupyter-widgets/controls",
            "_view_module_version": "1.5.0",
            "_view_name": "HTMLView",
            "description": "",
            "description_tooltip": null,
            "layout": "IPY_MODEL_03e4475acb4f4c68a76949a85afd8eaf",
            "placeholder": "​",
            "style": "IPY_MODEL_28d7714b97754e22a1e70b76b885260b",
            "value": " 1.29M/1.29M [00:01&lt;00:00, 1.73MB/s]"
          }
        },
        "81b55f14c4de411a83ade02e0ebbb90f": {
          "model_module": "@jupyter-widgets/base",
          "model_name": "LayoutModel",
          "model_module_version": "1.2.0",
          "state": {
            "_model_module": "@jupyter-widgets/base",
            "_model_module_version": "1.2.0",
            "_model_name": "LayoutModel",
            "_view_count": null,
            "_view_module": "@jupyter-widgets/base",
            "_view_module_version": "1.2.0",
            "_view_name": "LayoutView",
            "align_content": null,
            "align_items": null,
            "align_self": null,
            "border": null,
            "bottom": null,
            "display": null,
            "flex": null,
            "flex_flow": null,
            "grid_area": null,
            "grid_auto_columns": null,
            "grid_auto_flow": null,
            "grid_auto_rows": null,
            "grid_column": null,
            "grid_gap": null,
            "grid_row": null,
            "grid_template_areas": null,
            "grid_template_columns": null,
            "grid_template_rows": null,
            "height": null,
            "justify_content": null,
            "justify_items": null,
            "left": null,
            "margin": null,
            "max_height": null,
            "max_width": null,
            "min_height": null,
            "min_width": null,
            "object_fit": null,
            "object_position": null,
            "order": null,
            "overflow": null,
            "overflow_x": null,
            "overflow_y": null,
            "padding": null,
            "right": null,
            "top": null,
            "visibility": null,
            "width": null
          }
        },
        "179fc60a97ef400281a71d4fd9ce95b1": {
          "model_module": "@jupyter-widgets/base",
          "model_name": "LayoutModel",
          "model_module_version": "1.2.0",
          "state": {
            "_model_module": "@jupyter-widgets/base",
            "_model_module_version": "1.2.0",
            "_model_name": "LayoutModel",
            "_view_count": null,
            "_view_module": "@jupyter-widgets/base",
            "_view_module_version": "1.2.0",
            "_view_name": "LayoutView",
            "align_content": null,
            "align_items": null,
            "align_self": null,
            "border": null,
            "bottom": null,
            "display": null,
            "flex": null,
            "flex_flow": null,
            "grid_area": null,
            "grid_auto_columns": null,
            "grid_auto_flow": null,
            "grid_auto_rows": null,
            "grid_column": null,
            "grid_gap": null,
            "grid_row": null,
            "grid_template_areas": null,
            "grid_template_columns": null,
            "grid_template_rows": null,
            "height": null,
            "justify_content": null,
            "justify_items": null,
            "left": null,
            "margin": null,
            "max_height": null,
            "max_width": null,
            "min_height": null,
            "min_width": null,
            "object_fit": null,
            "object_position": null,
            "order": null,
            "overflow": null,
            "overflow_x": null,
            "overflow_y": null,
            "padding": null,
            "right": null,
            "top": null,
            "visibility": null,
            "width": null
          }
        },
        "7b07e77b262a465c9463d571b60101fd": {
          "model_module": "@jupyter-widgets/controls",
          "model_name": "DescriptionStyleModel",
          "model_module_version": "1.5.0",
          "state": {
            "_model_module": "@jupyter-widgets/controls",
            "_model_module_version": "1.5.0",
            "_model_name": "DescriptionStyleModel",
            "_view_count": null,
            "_view_module": "@jupyter-widgets/base",
            "_view_module_version": "1.2.0",
            "_view_name": "StyleView",
            "description_width": ""
          }
        },
        "49440516e2bd4244b6056cb2a200f26a": {
          "model_module": "@jupyter-widgets/base",
          "model_name": "LayoutModel",
          "model_module_version": "1.2.0",
          "state": {
            "_model_module": "@jupyter-widgets/base",
            "_model_module_version": "1.2.0",
            "_model_name": "LayoutModel",
            "_view_count": null,
            "_view_module": "@jupyter-widgets/base",
            "_view_module_version": "1.2.0",
            "_view_name": "LayoutView",
            "align_content": null,
            "align_items": null,
            "align_self": null,
            "border": null,
            "bottom": null,
            "display": null,
            "flex": null,
            "flex_flow": null,
            "grid_area": null,
            "grid_auto_columns": null,
            "grid_auto_flow": null,
            "grid_auto_rows": null,
            "grid_column": null,
            "grid_gap": null,
            "grid_row": null,
            "grid_template_areas": null,
            "grid_template_columns": null,
            "grid_template_rows": null,
            "height": null,
            "justify_content": null,
            "justify_items": null,
            "left": null,
            "margin": null,
            "max_height": null,
            "max_width": null,
            "min_height": null,
            "min_width": null,
            "object_fit": null,
            "object_position": null,
            "order": null,
            "overflow": null,
            "overflow_x": null,
            "overflow_y": null,
            "padding": null,
            "right": null,
            "top": null,
            "visibility": null,
            "width": null
          }
        },
        "22eb152d049949a9a2e1147820e45509": {
          "model_module": "@jupyter-widgets/controls",
          "model_name": "ProgressStyleModel",
          "model_module_version": "1.5.0",
          "state": {
            "_model_module": "@jupyter-widgets/controls",
            "_model_module_version": "1.5.0",
            "_model_name": "ProgressStyleModel",
            "_view_count": null,
            "_view_module": "@jupyter-widgets/base",
            "_view_module_version": "1.2.0",
            "_view_name": "StyleView",
            "bar_color": null,
            "description_width": ""
          }
        },
        "03e4475acb4f4c68a76949a85afd8eaf": {
          "model_module": "@jupyter-widgets/base",
          "model_name": "LayoutModel",
          "model_module_version": "1.2.0",
          "state": {
            "_model_module": "@jupyter-widgets/base",
            "_model_module_version": "1.2.0",
            "_model_name": "LayoutModel",
            "_view_count": null,
            "_view_module": "@jupyter-widgets/base",
            "_view_module_version": "1.2.0",
            "_view_name": "LayoutView",
            "align_content": null,
            "align_items": null,
            "align_self": null,
            "border": null,
            "bottom": null,
            "display": null,
            "flex": null,
            "flex_flow": null,
            "grid_area": null,
            "grid_auto_columns": null,
            "grid_auto_flow": null,
            "grid_auto_rows": null,
            "grid_column": null,
            "grid_gap": null,
            "grid_row": null,
            "grid_template_areas": null,
            "grid_template_columns": null,
            "grid_template_rows": null,
            "height": null,
            "justify_content": null,
            "justify_items": null,
            "left": null,
            "margin": null,
            "max_height": null,
            "max_width": null,
            "min_height": null,
            "min_width": null,
            "object_fit": null,
            "object_position": null,
            "order": null,
            "overflow": null,
            "overflow_x": null,
            "overflow_y": null,
            "padding": null,
            "right": null,
            "top": null,
            "visibility": null,
            "width": null
          }
        },
        "28d7714b97754e22a1e70b76b885260b": {
          "model_module": "@jupyter-widgets/controls",
          "model_name": "DescriptionStyleModel",
          "model_module_version": "1.5.0",
          "state": {
            "_model_module": "@jupyter-widgets/controls",
            "_model_module_version": "1.5.0",
            "_model_name": "DescriptionStyleModel",
            "_view_count": null,
            "_view_module": "@jupyter-widgets/base",
            "_view_module_version": "1.2.0",
            "_view_name": "StyleView",
            "description_width": ""
          }
        },
        "7df34096e6b94bf792ffcdfaa5897309": {
          "model_module": "@jupyter-widgets/controls",
          "model_name": "HBoxModel",
          "model_module_version": "1.5.0",
          "state": {
            "_dom_classes": [],
            "_model_module": "@jupyter-widgets/controls",
            "_model_module_version": "1.5.0",
            "_model_name": "HBoxModel",
            "_view_count": null,
            "_view_module": "@jupyter-widgets/controls",
            "_view_module_version": "1.5.0",
            "_view_name": "HBoxView",
            "box_style": "",
            "children": [
              "IPY_MODEL_a4448d5c770b49f0bfbc37e71ed4faed",
              "IPY_MODEL_a40b47cd2b8f4ea3ad15482fa39184cc",
              "IPY_MODEL_af3c1cde58c8428fa31c9c4e297f9fd5"
            ],
            "layout": "IPY_MODEL_c6f1931949844856a3a871f8a6153f44"
          }
        },
        "a4448d5c770b49f0bfbc37e71ed4faed": {
          "model_module": "@jupyter-widgets/controls",
          "model_name": "HTMLModel",
          "model_module_version": "1.5.0",
          "state": {
            "_dom_classes": [],
            "_model_module": "@jupyter-widgets/controls",
            "_model_module_version": "1.5.0",
            "_model_name": "HTMLModel",
            "_view_count": null,
            "_view_module": "@jupyter-widgets/controls",
            "_view_module_version": "1.5.0",
            "_view_name": "HTMLView",
            "description": "",
            "description_tooltip": null,
            "layout": "IPY_MODEL_cc1d35e5fbec439e88161d07b8c6c28d",
            "placeholder": "​",
            "style": "IPY_MODEL_8b78b7aa01e14c52bddae117e33f6ae1",
            "value": "Downloading pytorch_model.bin: 100%"
          }
        },
        "a40b47cd2b8f4ea3ad15482fa39184cc": {
          "model_module": "@jupyter-widgets/controls",
          "model_name": "FloatProgressModel",
          "model_module_version": "1.5.0",
          "state": {
            "_dom_classes": [],
            "_model_module": "@jupyter-widgets/controls",
            "_model_module_version": "1.5.0",
            "_model_name": "FloatProgressModel",
            "_view_count": null,
            "_view_module": "@jupyter-widgets/controls",
            "_view_module_version": "1.5.0",
            "_view_name": "ProgressView",
            "bar_style": "success",
            "description": "",
            "description_tooltip": null,
            "layout": "IPY_MODEL_c7c87b7c1ebf41cf8e1da57ab61d83b6",
            "max": 501200538,
            "min": 0,
            "orientation": "horizontal",
            "style": "IPY_MODEL_6aa7b7e19643447ab2e476d941b8ddda",
            "value": 501200538
          }
        },
        "af3c1cde58c8428fa31c9c4e297f9fd5": {
          "model_module": "@jupyter-widgets/controls",
          "model_name": "HTMLModel",
          "model_module_version": "1.5.0",
          "state": {
            "_dom_classes": [],
            "_model_module": "@jupyter-widgets/controls",
            "_model_module_version": "1.5.0",
            "_model_name": "HTMLModel",
            "_view_count": null,
            "_view_module": "@jupyter-widgets/controls",
            "_view_module_version": "1.5.0",
            "_view_name": "HTMLView",
            "description": "",
            "description_tooltip": null,
            "layout": "IPY_MODEL_00ee6641a0654870a0e729111fa15cdc",
            "placeholder": "​",
            "style": "IPY_MODEL_cd97c11a65fe492daba71a3d8fa2c613",
            "value": " 478M/478M [00:23&lt;00:00, 36.1MB/s]"
          }
        },
        "c6f1931949844856a3a871f8a6153f44": {
          "model_module": "@jupyter-widgets/base",
          "model_name": "LayoutModel",
          "model_module_version": "1.2.0",
          "state": {
            "_model_module": "@jupyter-widgets/base",
            "_model_module_version": "1.2.0",
            "_model_name": "LayoutModel",
            "_view_count": null,
            "_view_module": "@jupyter-widgets/base",
            "_view_module_version": "1.2.0",
            "_view_name": "LayoutView",
            "align_content": null,
            "align_items": null,
            "align_self": null,
            "border": null,
            "bottom": null,
            "display": null,
            "flex": null,
            "flex_flow": null,
            "grid_area": null,
            "grid_auto_columns": null,
            "grid_auto_flow": null,
            "grid_auto_rows": null,
            "grid_column": null,
            "grid_gap": null,
            "grid_row": null,
            "grid_template_areas": null,
            "grid_template_columns": null,
            "grid_template_rows": null,
            "height": null,
            "justify_content": null,
            "justify_items": null,
            "left": null,
            "margin": null,
            "max_height": null,
            "max_width": null,
            "min_height": null,
            "min_width": null,
            "object_fit": null,
            "object_position": null,
            "order": null,
            "overflow": null,
            "overflow_x": null,
            "overflow_y": null,
            "padding": null,
            "right": null,
            "top": null,
            "visibility": null,
            "width": null
          }
        },
        "cc1d35e5fbec439e88161d07b8c6c28d": {
          "model_module": "@jupyter-widgets/base",
          "model_name": "LayoutModel",
          "model_module_version": "1.2.0",
          "state": {
            "_model_module": "@jupyter-widgets/base",
            "_model_module_version": "1.2.0",
            "_model_name": "LayoutModel",
            "_view_count": null,
            "_view_module": "@jupyter-widgets/base",
            "_view_module_version": "1.2.0",
            "_view_name": "LayoutView",
            "align_content": null,
            "align_items": null,
            "align_self": null,
            "border": null,
            "bottom": null,
            "display": null,
            "flex": null,
            "flex_flow": null,
            "grid_area": null,
            "grid_auto_columns": null,
            "grid_auto_flow": null,
            "grid_auto_rows": null,
            "grid_column": null,
            "grid_gap": null,
            "grid_row": null,
            "grid_template_areas": null,
            "grid_template_columns": null,
            "grid_template_rows": null,
            "height": null,
            "justify_content": null,
            "justify_items": null,
            "left": null,
            "margin": null,
            "max_height": null,
            "max_width": null,
            "min_height": null,
            "min_width": null,
            "object_fit": null,
            "object_position": null,
            "order": null,
            "overflow": null,
            "overflow_x": null,
            "overflow_y": null,
            "padding": null,
            "right": null,
            "top": null,
            "visibility": null,
            "width": null
          }
        },
        "8b78b7aa01e14c52bddae117e33f6ae1": {
          "model_module": "@jupyter-widgets/controls",
          "model_name": "DescriptionStyleModel",
          "model_module_version": "1.5.0",
          "state": {
            "_model_module": "@jupyter-widgets/controls",
            "_model_module_version": "1.5.0",
            "_model_name": "DescriptionStyleModel",
            "_view_count": null,
            "_view_module": "@jupyter-widgets/base",
            "_view_module_version": "1.2.0",
            "_view_name": "StyleView",
            "description_width": ""
          }
        },
        "c7c87b7c1ebf41cf8e1da57ab61d83b6": {
          "model_module": "@jupyter-widgets/base",
          "model_name": "LayoutModel",
          "model_module_version": "1.2.0",
          "state": {
            "_model_module": "@jupyter-widgets/base",
            "_model_module_version": "1.2.0",
            "_model_name": "LayoutModel",
            "_view_count": null,
            "_view_module": "@jupyter-widgets/base",
            "_view_module_version": "1.2.0",
            "_view_name": "LayoutView",
            "align_content": null,
            "align_items": null,
            "align_self": null,
            "border": null,
            "bottom": null,
            "display": null,
            "flex": null,
            "flex_flow": null,
            "grid_area": null,
            "grid_auto_columns": null,
            "grid_auto_flow": null,
            "grid_auto_rows": null,
            "grid_column": null,
            "grid_gap": null,
            "grid_row": null,
            "grid_template_areas": null,
            "grid_template_columns": null,
            "grid_template_rows": null,
            "height": null,
            "justify_content": null,
            "justify_items": null,
            "left": null,
            "margin": null,
            "max_height": null,
            "max_width": null,
            "min_height": null,
            "min_width": null,
            "object_fit": null,
            "object_position": null,
            "order": null,
            "overflow": null,
            "overflow_x": null,
            "overflow_y": null,
            "padding": null,
            "right": null,
            "top": null,
            "visibility": null,
            "width": null
          }
        },
        "6aa7b7e19643447ab2e476d941b8ddda": {
          "model_module": "@jupyter-widgets/controls",
          "model_name": "ProgressStyleModel",
          "model_module_version": "1.5.0",
          "state": {
            "_model_module": "@jupyter-widgets/controls",
            "_model_module_version": "1.5.0",
            "_model_name": "ProgressStyleModel",
            "_view_count": null,
            "_view_module": "@jupyter-widgets/base",
            "_view_module_version": "1.2.0",
            "_view_name": "StyleView",
            "bar_color": null,
            "description_width": ""
          }
        },
        "00ee6641a0654870a0e729111fa15cdc": {
          "model_module": "@jupyter-widgets/base",
          "model_name": "LayoutModel",
          "model_module_version": "1.2.0",
          "state": {
            "_model_module": "@jupyter-widgets/base",
            "_model_module_version": "1.2.0",
            "_model_name": "LayoutModel",
            "_view_count": null,
            "_view_module": "@jupyter-widgets/base",
            "_view_module_version": "1.2.0",
            "_view_name": "LayoutView",
            "align_content": null,
            "align_items": null,
            "align_self": null,
            "border": null,
            "bottom": null,
            "display": null,
            "flex": null,
            "flex_flow": null,
            "grid_area": null,
            "grid_auto_columns": null,
            "grid_auto_flow": null,
            "grid_auto_rows": null,
            "grid_column": null,
            "grid_gap": null,
            "grid_row": null,
            "grid_template_areas": null,
            "grid_template_columns": null,
            "grid_template_rows": null,
            "height": null,
            "justify_content": null,
            "justify_items": null,
            "left": null,
            "margin": null,
            "max_height": null,
            "max_width": null,
            "min_height": null,
            "min_width": null,
            "object_fit": null,
            "object_position": null,
            "order": null,
            "overflow": null,
            "overflow_x": null,
            "overflow_y": null,
            "padding": null,
            "right": null,
            "top": null,
            "visibility": null,
            "width": null
          }
        },
        "cd97c11a65fe492daba71a3d8fa2c613": {
          "model_module": "@jupyter-widgets/controls",
          "model_name": "DescriptionStyleModel",
          "model_module_version": "1.5.0",
          "state": {
            "_model_module": "@jupyter-widgets/controls",
            "_model_module_version": "1.5.0",
            "_model_name": "DescriptionStyleModel",
            "_view_count": null,
            "_view_module": "@jupyter-widgets/base",
            "_view_module_version": "1.2.0",
            "_view_name": "StyleView",
            "description_width": ""
          }
        }
      }
    }
  },
  "cells": [
    {
      "cell_type": "markdown",
      "source": [
        "#problems\n",
        "1. The transcript data we have is a bit less to procede with extracting proper topics because all the models expect a bit more data.\n",
        "\n",
        "---\n",
        "#solutions\n",
        "1. Using a countvectorizer to remove stop words(default) and mentioning it in the model declaration seems to have drastically improved the suggestions by the model.\n",
        "\n"
      ],
      "metadata": {
        "id": "53hj_AicVI1t"
      }
    },
    {
      "cell_type": "code",
      "execution_count": 70,
      "metadata": {
        "colab": {
          "base_uri": "https://localhost:8080/"
        },
        "id": "AIaHz9je8IGV",
        "outputId": "e04447ab-03b9-48d7-9569-2a6de6c2a110"
      },
      "outputs": [
        {
          "output_type": "stream",
          "name": "stdout",
          "text": [
            "Looking in indexes: https://pypi.org/simple, https://us-python.pkg.dev/colab-wheels/public/simple/\n",
            "Requirement already satisfied: bertopic in /usr/local/lib/python3.7/dist-packages (0.11.0)\n",
            "Requirement already satisfied: umap-learn>=0.5.0 in /usr/local/lib/python3.7/dist-packages (from bertopic) (0.5.3)\n",
            "Requirement already satisfied: sentence-transformers>=0.4.1 in /usr/local/lib/python3.7/dist-packages (from bertopic) (2.2.2)\n",
            "Requirement already satisfied: pyyaml<6.0 in /usr/local/lib/python3.7/dist-packages (from bertopic) (5.4.1)\n",
            "Requirement already satisfied: numpy>=1.20.0 in /usr/local/lib/python3.7/dist-packages (from bertopic) (1.21.6)\n",
            "Requirement already satisfied: pandas>=1.1.5 in /usr/local/lib/python3.7/dist-packages (from bertopic) (1.3.5)\n",
            "Requirement already satisfied: hdbscan>=0.8.28 in /usr/local/lib/python3.7/dist-packages (from bertopic) (0.8.28)\n",
            "Requirement already satisfied: scikit-learn>=0.22.2.post1 in /usr/local/lib/python3.7/dist-packages (from bertopic) (1.0.2)\n",
            "Requirement already satisfied: tqdm>=4.41.1 in /usr/local/lib/python3.7/dist-packages (from bertopic) (4.64.0)\n",
            "Requirement already satisfied: plotly>=4.7.0 in /usr/local/lib/python3.7/dist-packages (from bertopic) (5.5.0)\n",
            "Requirement already satisfied: scipy>=1.0 in /usr/local/lib/python3.7/dist-packages (from hdbscan>=0.8.28->bertopic) (1.7.3)\n",
            "Requirement already satisfied: joblib>=1.0 in /usr/local/lib/python3.7/dist-packages (from hdbscan>=0.8.28->bertopic) (1.1.0)\n",
            "Requirement already satisfied: cython>=0.27 in /usr/local/lib/python3.7/dist-packages (from hdbscan>=0.8.28->bertopic) (0.29.31)\n",
            "Requirement already satisfied: python-dateutil>=2.7.3 in /usr/local/lib/python3.7/dist-packages (from pandas>=1.1.5->bertopic) (2.8.2)\n",
            "Requirement already satisfied: pytz>=2017.3 in /usr/local/lib/python3.7/dist-packages (from pandas>=1.1.5->bertopic) (2022.1)\n",
            "Requirement already satisfied: tenacity>=6.2.0 in /usr/local/lib/python3.7/dist-packages (from plotly>=4.7.0->bertopic) (8.0.1)\n",
            "Requirement already satisfied: six in /usr/local/lib/python3.7/dist-packages (from plotly>=4.7.0->bertopic) (1.15.0)\n",
            "Requirement already satisfied: threadpoolctl>=2.0.0 in /usr/local/lib/python3.7/dist-packages (from scikit-learn>=0.22.2.post1->bertopic) (3.1.0)\n",
            "Requirement already satisfied: nltk in /usr/local/lib/python3.7/dist-packages (from sentence-transformers>=0.4.1->bertopic) (3.7)\n",
            "Requirement already satisfied: sentencepiece in /usr/local/lib/python3.7/dist-packages (from sentence-transformers>=0.4.1->bertopic) (0.1.95)\n",
            "Requirement already satisfied: torchvision in /usr/local/lib/python3.7/dist-packages (from sentence-transformers>=0.4.1->bertopic) (0.13.0+cu113)\n",
            "Requirement already satisfied: transformers<5.0.0,>=4.6.0 in /usr/local/lib/python3.7/dist-packages (from sentence-transformers>=0.4.1->bertopic) (4.21.0)\n",
            "Requirement already satisfied: huggingface-hub>=0.4.0 in /usr/local/lib/python3.7/dist-packages (from sentence-transformers>=0.4.1->bertopic) (0.8.1)\n",
            "Requirement already satisfied: torch>=1.6.0 in /usr/local/lib/python3.7/dist-packages (from sentence-transformers>=0.4.1->bertopic) (1.12.0+cu113)\n",
            "Requirement already satisfied: filelock in /usr/local/lib/python3.7/dist-packages (from huggingface-hub>=0.4.0->sentence-transformers>=0.4.1->bertopic) (3.7.1)\n",
            "Requirement already satisfied: packaging>=20.9 in /usr/local/lib/python3.7/dist-packages (from huggingface-hub>=0.4.0->sentence-transformers>=0.4.1->bertopic) (21.3)\n",
            "Requirement already satisfied: requests in /usr/local/lib/python3.7/dist-packages (from huggingface-hub>=0.4.0->sentence-transformers>=0.4.1->bertopic) (2.28.1)\n",
            "Requirement already satisfied: importlib-metadata in /usr/local/lib/python3.7/dist-packages (from huggingface-hub>=0.4.0->sentence-transformers>=0.4.1->bertopic) (3.10.1)\n",
            "Requirement already satisfied: typing-extensions>=3.7.4.3 in /usr/local/lib/python3.7/dist-packages (from huggingface-hub>=0.4.0->sentence-transformers>=0.4.1->bertopic) (4.1.1)\n",
            "Requirement already satisfied: pyparsing!=3.0.5,>=2.0.2 in /usr/local/lib/python3.7/dist-packages (from packaging>=20.9->huggingface-hub>=0.4.0->sentence-transformers>=0.4.1->bertopic) (3.0.9)\n",
            "Requirement already satisfied: tokenizers!=0.11.3,<0.13,>=0.11.1 in /usr/local/lib/python3.7/dist-packages (from transformers<5.0.0,>=4.6.0->sentence-transformers>=0.4.1->bertopic) (0.12.1)\n",
            "Requirement already satisfied: regex!=2019.12.17 in /usr/local/lib/python3.7/dist-packages (from transformers<5.0.0,>=4.6.0->sentence-transformers>=0.4.1->bertopic) (2022.6.2)\n",
            "Requirement already satisfied: numba>=0.49 in /usr/local/lib/python3.7/dist-packages (from umap-learn>=0.5.0->bertopic) (0.56.0)\n",
            "Requirement already satisfied: pynndescent>=0.5 in /usr/local/lib/python3.7/dist-packages (from umap-learn>=0.5.0->bertopic) (0.5.7)\n",
            "Requirement already satisfied: llvmlite<0.40,>=0.39.0dev0 in /usr/local/lib/python3.7/dist-packages (from numba>=0.49->umap-learn>=0.5.0->bertopic) (0.39.0)\n",
            "Requirement already satisfied: setuptools in /usr/local/lib/python3.7/dist-packages (from numba>=0.49->umap-learn>=0.5.0->bertopic) (57.4.0)\n",
            "Requirement already satisfied: zipp>=0.5 in /usr/local/lib/python3.7/dist-packages (from importlib-metadata->huggingface-hub>=0.4.0->sentence-transformers>=0.4.1->bertopic) (3.8.1)\n",
            "Requirement already satisfied: click in /usr/local/lib/python3.7/dist-packages (from nltk->sentence-transformers>=0.4.1->bertopic) (7.1.2)\n",
            "Requirement already satisfied: certifi>=2017.4.17 in /usr/local/lib/python3.7/dist-packages (from requests->huggingface-hub>=0.4.0->sentence-transformers>=0.4.1->bertopic) (2022.6.15)\n",
            "Requirement already satisfied: urllib3<1.27,>=1.21.1 in /usr/local/lib/python3.7/dist-packages (from requests->huggingface-hub>=0.4.0->sentence-transformers>=0.4.1->bertopic) (1.24.3)\n",
            "Requirement already satisfied: charset-normalizer<3,>=2 in /usr/local/lib/python3.7/dist-packages (from requests->huggingface-hub>=0.4.0->sentence-transformers>=0.4.1->bertopic) (2.1.0)\n",
            "Requirement already satisfied: idna<4,>=2.5 in /usr/local/lib/python3.7/dist-packages (from requests->huggingface-hub>=0.4.0->sentence-transformers>=0.4.1->bertopic) (2.10)\n",
            "Requirement already satisfied: pillow!=8.3.*,>=5.3.0 in /usr/local/lib/python3.7/dist-packages (from torchvision->sentence-transformers>=0.4.1->bertopic) (7.1.2)\n"
          ]
        }
      ],
      "source": [
        "!pip install bertopic"
      ]
    },
    {
      "cell_type": "code",
      "source": [
        "from sklearn.feature_extraction.text import CountVectorizer\n",
        "from bertopic import BERTopic\n",
        "from sklearn.datasets import fetch_20newsgroups\n",
        "import pandas as pd\n"
      ],
      "metadata": {
        "id": "yLLLEO2RtmQ5",
        "colab": {
          "base_uri": "https://localhost:8080/"
        },
        "outputId": "48d1b1a5-4941-45c2-dad9-0d0c3d7e51e3"
      },
      "execution_count": 71,
      "outputs": [
        {
          "output_type": "stream",
          "name": "stderr",
          "text": [
            "/usr/local/lib/python3.7/dist-packages/dask/array/numpy_compat.py:21: DeprecationWarning: `np.float` is a deprecated alias for the builtin `float`. To silence this warning, use `float` by itself. Doing this will not modify any behavior and is safe. If you specifically wanted the numpy scalar type, use `np.float64` here.\n",
            "Deprecated in NumPy 1.20; for more details and guidance: https://numpy.org/devdocs/release/1.20.0-notes.html#deprecations\n",
            "  np.divide(0.4, 1, casting=\"unsafe\", dtype=np.float),\n"
          ]
        }
      ]
    },
    {
      "cell_type": "code",
      "source": [
        "\n",
        " \n",
        "docs = fetch_20newsgroups(subset='all',  remove=('headers', 'footers', 'quotes'))['data']\n",
        "\n",
        "topic_model = BERTopic()\n",
        "topics, probs = topic_model.fit_transform(docs)"
      ],
      "metadata": {
        "id": "5y3y9LwD9LgG"
      },
      "execution_count": null,
      "outputs": []
    },
    {
      "cell_type": "code",
      "source": [
        "topic_model.get_topic_info()"
      ],
      "metadata": {
        "id": "XvTTS6FB9tXO"
      },
      "execution_count": null,
      "outputs": []
    },
    {
      "cell_type": "code",
      "source": [
        "topic_model.visualize_topics()"
      ],
      "metadata": {
        "id": "2InVst0QFD2Z"
      },
      "execution_count": null,
      "outputs": []
    },
    {
      "cell_type": "code",
      "source": [
        "len(docs)"
      ],
      "metadata": {
        "id": "wbXAncRXFObp"
      },
      "execution_count": null,
      "outputs": []
    },
    {
      "cell_type": "code",
      "source": [
        ""
      ],
      "metadata": {
        "id": "bNxbcNPpFoxf"
      },
      "execution_count": null,
      "outputs": []
    },
    {
      "cell_type": "markdown",
      "source": [
        "#Using transcripts"
      ],
      "metadata": {
        "id": "rQJ3GNrCFw79"
      }
    },
    {
      "cell_type": "code",
      "source": [
        "with open(\"/content/wells fargo doc.txt\",\"r\") as f:\n",
        "  string = f.read()\n",
        "\n",
        "print(string)\n"
      ],
      "metadata": {
        "colab": {
          "base_uri": "https://localhost:8080/"
        },
        "id": "-4HT1HxuF1cQ",
        "outputId": "81c2ee43-2688-4289-c489-dbd8ad0ceb32"
      },
      "execution_count": null,
      "outputs": [
        {
          "output_type": "stream",
          "name": "stdout",
          "text": [
            "Operator\n",
            "Welcome, and thank you for joining the Wells Fargo Second Quarter 2022 Earnings Conference Call. All lines have been placed on mute to prevent any background noise. After the speakers' remarks, there will be a question-and-answer session. [Operator Instructions] Please note that today's call is being recorded. I would now like to turn the call over to your host, John Campbell, Director of Investor Relations. Sir, you may begin the conference.\n",
            "\n",
            "John Campbell\n",
            "Good morning. Thank you for joining our call today where our CEO, Charlie Scharf; and our CFO, Mike Santomassimo, will discuss second quarter results and answer your questions. This call is being recorded.\n",
            "\n",
            "Before we get started, I would like to remind you that our second quarter earnings materials, including the release, financial supplement, and presentation deck are available on our website at wellsfargo.com. I'd also like to caution you that we may make forward-looking statements during today's call that are subject to risks and uncertainties. Factors that may cause actual results to differ materially from expectations are detailed in our SEC filings, including the Form 8-K filed today containing our earnings materials. Information about any non-GAAP financial measures referenced, including a reconciliation of those measures to GAAP measures, can also be found in our SEC filings and the earnings materials available on our website. I will now turn the call over to Charlie.\n",
            "\n",
            "Charlie Scharf\n",
            "Thanks very much, John. Good morning. I'll make some brief comments about our second quarter results, the operating environment, and update you on our priorities. I'll then turn the call over to Mike to review second quarter results in more detail before we take your questions.\n",
            "\n",
            "Let me start with some second quarter highlights. We earned $3.1 billion in the second quarter, our results included a $576 million impairment of equity securities, predominantly in our venture capital business due to market conditions. Revenue declined as growth in net interest income driven by rising interest rates and higher loan balances was more than offset by lower non-interest income as market conditions negatively impacted our venture capital, mortgage banking, investment banking, and wealth management advisory businesses.\n",
            "\n",
            "We continued to execute on our efficiency initiatives and our expenses declined from a year ago even with inflationary pressures and higher operating losses. We had broad-based loan growth with both our consumer and commercial portfolios growing from the first quarter and a year ago. Credit performance remained strong, our allowance reflected an increase due to loan growth.\n",
            "\n",
            "While we're monitoring risks related to continued high inflation, increasing interest rates, and the slowing economy, which will impact our customers, consumers and businesses have been resilient so far. When looking at simple averages across our entire portfolio, consumer deposit balances per account increased from first quarter and a year ago and remained above pre-pandemic levels. Overall, our consumer deposit customers' health indicators, including cash flow, payroll, and overdraft trends are not showing elevated risk concerns.\n",
            "\n",
            "However, we're closely monitoring activity by segment for signs of potential stress and for certain cohorts of customers, we have seen average balances steadily decline to pre-pandemic levels.\n",
            "\n",
            "Following the final federal stimulus payments early last year and their debit card spend has also been declining. Overall, debit card spending was up 3% compared to a year ago when consumers receive stimulus payments and then sanction appears to be impacting certain categories of spending, including a 26% increase in fuel driven by higher prices, while discretionary categories like apparel and home improvement spending were down double digits, driven by fewer transactions. Credit card spend increased 28% from a year ago. Above the industry trend driven by the new products we launched last year, with double-digit increases across all spend categories.\n",
            "\n",
            "However, spending while still strong, started to slow in May and June. Consumer credit card utilization rates remain below pre-pandemic levels. Payment rates remained strong and delinquency rates remain low.\n",
            "\n",
            "Our small business portfolio continues to perform well in the aggregate in both delinquencies and losses. Leading indicators such as payment rates, deposit levels, utilization and revolving debt trends do not yet indicate signs of stress. Loan demand from our commercial customers remained strong with broad-based balance and commitment growth.\n",
            "\n",
            "Our commercial customers' credit performance remained strong with exceptionally low net charge-offs and non-accrual loans were at their lowest level in over 10 years.\n",
            "\n",
            "However, we are monitoring early warning indicators across portfolios including cash flow activity, credit line utilization rates and industry fundamentals for inflation impacts.\n",
            "\n",
            "Now let me update you on progress we've made on our strategic priorities.\n",
            "\n",
            "Our work to build an appropriate risk and control infrastructure is ongoing and remains our top priority, but we also continue to invest in our businesses to better serve our customers and to help drive growth. This week, we launched our fourth new credit card offering in the past year, Wells Fargo Autograph.\n",
            "\n",
            "Our latest card reflects our momentum in growing our consumer credit card business with new accounts up over 60% from a year ago. We're focused on delivering competitive offerings and our new reward card provides three times points across top spending categories including restaurants, travel and gas stations. This is the first of several rewards based cards we plan to introduce.\n",
            "\n",
            "We continue to improve the digital experience in the second quarter with the relaunch of Intuitive Investor, our automated digital investing platform. We simplified the account opening process and created a faster and better experience for both new and experienced investors.\n",
            "\n",
            "During the second quarter, we began rolling out Wells Fargo Premier, which provides differentiated products and experiences focused on strengthening and growing our affluent client relationships.\n",
            "\n",
            "We are working towards offering one set of products and services that are tailored to the needs of these customers regardless of where they sit within our individual businesses.\n",
            "\n",
            "We will be rolling out more enhancements in the coming quarters to provide a more compelling offering for Premier clients. We started to roll out overdraft policy changes late in the first quarter, which included the elimination of fees for non-sufficient funds and overdraft protection transactions.\n",
            "\n",
            "Additional changes will be rolled out in the second half of this year, including providing customers who overdraw their account with a 25-hour grace period to cure a negative balance before incurring an overdraft fee, giving early access to eligible direct deposits and providing a new easy short-term credit product.\n",
            "\n",
            "We expect these changes will help millions of consumer customers avoid overdraft fees and meet short-term cash needs, and we continue to review other ways we can help consumers manage their finances.\n",
            "\n",
            "We also continue to invest to better serve our commercial customers. And early in the second quarter, Tim O'Hara joined the Corporate Investment Bank for BlackRock as Head of Banking. Tim's expertise and insights will help us maximize our potential and achieve even greater partnership and strategic dialogue with our corporate and institutional clients, and he complements the strong leadership team in our markets and commercial real estate businesses, who have helped us navigate recent market volatility. We believe we have a significant opportunity to serve our existing commercial customers with corporate and investment banking products in a way that works within our existing risk tolerance.\n",
            "\n",
            "We also believe that for us to be successful as a company, we must consider a broad set of stakeholders in our decisions and actions. Last week, we announced that Otis Rolley will be joining Wells Fargo from the Rockefeller Foundation as the Head of Social Impact, leading community engagement and enterprise philanthropy, including the Wells Fargo Foundation.\n",
            "\n",
            "We continue to move forward in the area of ESG with the announcement of our 2030 reduction targets for greenhouse gas emissions attributable to financing activities in the oil and gas and power sectors.\n",
            "\n",
            "As homeownership remains out of reach for too many families, we announced an effort to support new home construction, renovation and repair of more than 450 affordable homes across the US in collaboration with Habitat for Humanity and rebuilding together.\n",
            "\n",
            "We also launched our special purpose credit program to help minority homeowners refinance mortgages that Wells Fargo currently services.\n",
            "\n",
            "We continue to support our small business customers through this time of uncertainty, including launching the small business resource Navigator, which connects small business owners to potential financing options and technical assistance through community development financial institutions across the country.\n",
            "\n",
            "We are also helping women entrepreneurs by doubling our support for women-owned businesses through the Connector program with complementary mentorship opportunities. We published our inaugural diversity, equity and inclusion report, which highlights the meaningful positive results we've made on our DE&I initiatives.\n",
            "\n",
            "For example, in the US, our external hiring of individuals from racially or ethnically diverse populations increased by 27% in 2021 compared to 2020, and approximately one-third of all internally promoted executives last year were racially or ethnically diverse.\n",
            "\n",
            "As I've said in the past, advancing DE&I at Wells Fargo is a long-term commitment, not a project and we continue to pursue many of the initiatives in the report and look for ways to deepen our impact.\n",
            "\n",
            "Let me just make some summary comments before turning it over to Mike. The Federal Reserve's commitment to an aggressive rate hike cycle as a means to tame high persistent inflation continues to fuel market volatility and is expected to slow the economy, which will impact our consumer and commercial customers. Despite the economic environment, I remain optimistic about our future. Credit quality remains strong, and we expect net interest income growth to continue given rising interest rates which should more than offset any further near-term pressure on non-interest income. We remain on target to achieve a sustainable 10% ROTCE, subject to the same assumptions we've discussed in the past, on a run rate basis in the second half of this year, and then we will discuss our path to 15%. This year's Federal Reserve stress test confirmed our strong capital position and our ability to support our customers and communities while also continuing to return excess capital to shareholders through dividends and common stock repurchases.\n",
            "\n",
            "As we previously announced, we expect to increase our third quarter common stock dividend by 20% to $0.30 per share, subject to approval by the company's Board of Directors at its regularly scheduled meeting later this month. I will now turn the call over to Mike.\n",
            "\n",
            "Mike Santomassimo\n",
            "Thanks, Charlie, and good morning, everyone. Net income for the quarter was $3.1 billion or $0.74 per common share, which included strong growth in net interest income as we are beginning to see the positive impact of higher interest rates.\n",
            "\n",
            "Our results included a $576 million impairment of equity securities, predominantly in our venture capital business due to the market conditions, which drove a total loss from equity securities of $615 million in the second quarter. Recall that a year ago, when the markets were strong, our results included $2.7 billion of gains on equity securities.\n",
            "\n",
            "While credit quality remains strong, our results included a $235 million increase in the allowance for credit losses due to loan growth, this follows six consecutive quarterly decreases in the allowance, including $1.1 billion in the first quarter and $1.6 billion a year ago. We highlight capital on Slide 3.\n",
            "\n",
            "Our CET1 ratio was 10.3%, down approximately 20 basis points from the first quarter as declines in AOCI and dividend payments were largely offset by our second quarter earnings.\n",
            "\n",
            "Our CET1 ratio also reflected actions we took to proactively manage our level of capital and risk-weighted assets as well as reduce our AOCI sensitivity by moving more securities the held to maturity and hedging securities in our available-for-sale portfolio.\n",
            "\n",
            "Additionally, we did not buy back any shares in the second quarter. But as Charlie highlighted, the recent stress test results confirmed our capacity to return excess capital to shareholders through dividends and common stock repurchases.\n",
            "\n",
            "We will continue to be prudent and consider current market conditions, including interest rate volatility, potential loan and risk-weighted asset growth as well as any potential economic uncertainty with respect to the amount and timing of share repurchases over the coming quarters.\n",
            "\n",
            "Our 10.3% CET1 ratio remained well above our required regulatory minimum plus buffers.\n",
            "\n",
            "As a reminder, based on the recent federal stress test, our stressed capital buffer for October 1, 2022 to September 30, 2023 is expected to be 3.2%, which would increase our regulatory minimum plus buffers by 10 basis points to 9.2%.\n",
            "\n",
            "Turning to credit quality on Slide 5.\n",
            "\n",
            "Our charge-off ratio remained near historical lows and was only 15 basis points in the second quarter.\n",
            "\n",
            "As we previously discussed, losses are not expected to remain at these low levels and we are closely monitoring our commercial and consumer customers for signs of stress, and we remain very disciplined in our underwriting. Commercial credit performance remained strong across our commercial businesses with only 2 basis points of net charge-offs in the second quarter, which included net recoveries in our commercial real estate portfolio.\n",
            "\n",
            "We also had net recoveries in our consumer real estate portfolios and total consumer net charge-offs declined slightly from the first quarter to 33 basis points of average loans as lower losses in auto and other consumer loans were partially offset by higher credit card losses. Non-performing assets decreased $878 million or 13% from the first quarter. Lower levels of consumer non-accruals were driven by a decline in residential mortgage non-accrual loans due to sustained payment performance of borrowers after exiting COVID-related accommodation programs. Commercial non-accruals continued to decline, and as Charlie highlighted, we are at their lowest levels in over 10 years.\n",
            "\n",
            "Our allowance for credit losses at the end of the second quarter reflected a continued strong credit performance, with an increase that was due to loan growth. On slide 6, we highlight loans and deposits. Average loans grew 8% from a year ago and 3% for the first quarter. Period end loans grew for the fourth consecutive quarter and were up 11% from a year ago, with increases in both our commercial and consumer portfolios. I'll highlight the specific growth ogres when discussing operating segment results. Average loan yields increased 19 basis points from a year ago and 27 basis points from the first quarter, reflecting the benefit of higher rates. Average deposits increased $10 billion or 1% from a year ago, with growth in consumer banking and lending, offsetting declines across our other operating segments. The decline in average deposits from the first quarter reflected seasonality of tax payments as well as outflows from commercial and wealth clients.\n",
            "\n",
            "Our average deposit cost increased one basis point from the first quarter, driven by corporate and investment banking.\n",
            "\n",
            "As I previously highlighted, we would expect deposit betas to accelerate as rates continue to rise and customer migration from lower yielding to higher yielding deposit products would likely increase as well.\n",
            "\n",
            "Turning to net interest income on slide 7.\n",
            "\n",
            "Second quarter net interest income increased $1.4 billion or 16% from a year ago and $977 million or 11% from the first quarter. The growth from the first quarter was primarily driven by the impact of higher rates, which increased earning asset yields and reduced premium amortization from mortgage backed securities, we also benefit from higher loan balances and one additional day in the quarter. We started the year expecting full year net interest income to grow by approximately 8% compared with 2021. Last quarter, we raised our guidance to an increase in the mid-teens.\n",
            "\n",
            "With the market now expecting not only more rate hikes but also larger ones, we currently expect net interest income in 2022 to increase approximately 20% from 2021. And as a reminder, net interest income will ultimately be driven by a variety of factors, including the magnitude and timing of Fed rate increases, deposit betas and loan growth. On slide 8 and noninterest income.\n",
            "\n",
            "This quarter, noninterest income -- this quarter, we included highlighting noninterest income to show that the decline from both the first quarter and a year ago was primarily driven by two cyclical businesses. Mortgage banking, which has slowed in response to higher interest rates and our affiliated venture capital and private equity businesses, which a year ago generated elevated gains but recognized impairments in the second quarter of this year due to significantly different market conditions.\n",
            "\n",
            "While all other noninterest income included both positive and negative impacts, it was actually up slightly from the first quarter. The decline in all other noninterest income from a year ago was primarily driven by the impact of last year's divestitures.\n",
            "\n",
            "Turning to expenses on slide 9. Noninterest expense declined 3% from a year ago as expenses related to divestitures came out of the run rate, and we continue to make progress on our efficiency initiatives. Operating losses increased $273 million from a year ago, primarily driven by increased litigation expense, which included a recovery in the second quarter of last year, and higher customer remediation expense predominantly for a variety of historical matters. Customer remediation matters are complex and take a significant amount of time to resolve and quantify the full impact.\n",
            "\n",
            "While we've made progress, we have more to do to resolve the remaining items. We're halfway through the year. And while we've had higher operating losses than we expected, revenue related expenses are trending lower than expected.\n",
            "\n",
            "Our results in the first half of the year also reflected the progress we're making on our efficiency initiatives with lower headcount and reductions in both professional and outside services expense and occupancy expense.\n",
            "\n",
            "We expect to continue to make progress on our efficiency initiatives. Putting all these factors together, we still expect our full year 2022 expenses to be approximately $51.5 billion, as lower revenue-related expense is expected to offset higher operating losses. But as a reminder, we have outstanding litigation, regulatory matters and customer remediations and the related expenses could be significant and hard to predict, which could cause us to exceed our $51.5 billion outlook.\n",
            "\n",
            "Turning to our operating segments, starting with Consumer Banking and lending on slide 10. Consumer and Small Business Banking revenue increased 17% from a year ago, driven by the impact of higher interest rates and higher deposit balances.\n",
            "\n",
            "Our deposit pricing has been stable, but we expect deposit betas to increase over time.\n",
            "\n",
            "As Charlie highlighted, the deposit-related fees were impacted by the overdraft policy changes we started to roll out late in the first quarter, which included the elimination of fees for nonsufficient funds and overdraft protection transactions.\n",
            "\n",
            "Additional changes will be rolled out in the second half of this year, which will further reduce deposit-related fees. Home lending revenue declined 53% from a year ago and 35% from the first quarter driven by lower mortgage originations and compressed margins, given the higher rate environment and continued competitive pricing in response to excess capacity in the industry. After increasing over 150 basis points in the first quarter, mortgage rates increased over 100 basis points in the second quarter. The impact of higher rates also reduced revenue from the resecuritization of loans purchased from securitization pools. The mortgage market is expected to remain challenging in the near term, and it's possible that we have a further decline in mortgage banking revenue in the third quarter.\n",
            "\n",
            "We are making adjustments to reduce expenses in response to lower origination volumes, and we expect these adjustments will continue over the next couple of quarters. Credit card revenue was up 7%, auto revenue increased 5% and personal lending was up 7% from a year ago, primarily due to higher loan balances.\n",
            "\n",
            "Turning to some key business drivers on slide 11.\n",
            "\n",
            "Our mortgage originations declined 10% for the first quarter, with growth in correspondent partially offsetting the decline in retail originations. Refinances as a percentage of total originations declined to 28%. Average home lending loan balances grew 2% for the first quarter, driven by the fourth consecutive quarter of growth in our nonconforming portfolio, which more than offset declines in loans purchased from securitization pools or EPBOs.\n",
            "\n",
            "Turning to auto. Origination volume declined 35% from a year ago and 26% from the first quarter due to increased pricing competition, credit tightening actions and an ongoing industry supply pressures.\n",
            "\n",
            "Turning to debit card.\n",
            "\n",
            "While debit card spend increased 3%, transactions were relatively flat from a year ago, as increases in travel and entertainment were offset by declines in apparel and home improvement. Credit card point-of-sale purchase volume was up 28% from a year ago with the largest increases in fuel travel and entertainment. The increase in point-of-sale volume and the launch of new products helped drive a 19% in credit card -- 19% increase in credit card balances from a year ago, we remain disciplined in our underwriting and new credit card accounts.\n",
            "\n",
            "Turning to Commercial Banking results on slide 12. Middle Market banking revenue increased 27% from a year ago, driven by higher net interest income from the impact of higher rates and loan balances.\n",
            "\n",
            "Asset-based lending and leasing revenue increased 8% from a year ago, driven by higher loan balances. Noninterest expense increased 2% from a year ago, primarily driven by higher operating costs. Efficiency initiatives drove lower personnel expense with headcount down 9% from a year ago. Average loan balances have grown for four consecutive quarters and were up 13% from a year ago. Utilization rates continue to increase, but they are still not back to historical levels. Clients have increased borrowings to rebuild inventory and to support working capital growth, both of which have been impacted by higher inflation.\n",
            "\n",
            "We also had momentum from adding new clients in middle market banking and similar to prior periods, loan growth was driven by the larger clients. Average deposits declined 2% from a year ago driven by actions to manage under the asset cap. Deposit pricing has been relatively stable, but we expect deposit betas will continue to increase.\n",
            "\n",
            "Turning to Corporate and Investment Banking on slide 13. Banking revenue increased 4% from a year ago, primarily driven by stronger treasury management results given the impact of higher interest rates as well as higher loan balances. Investment banking fees declined, reflecting lower market activity and $107 million write-down on unfunded leveraged finance commitments due to the market spread widening. Average loan balances were up 20% from a year ago, with broad-based loan demand driven by a modest increase in utilization rates due to increased working capital needs given inflationary pressures. Commercial real estate revenues grew 5% from a year ago, driven by loan growth and higher interest rates. Average loan balances were up 22% from a year ago with the disruption in the capital markets, increasing demand for bank financing and line utilization. Markets revenue increased 11% from a year ago, primarily due to higher foreign exchange and commodities trading revenue as clients position themselves for rising rates, quantitative tightening and growing recessionary concerns as well as higher equities trading. Average deposits in Corporate and Investment Banking were down 14% from a year ago, driven by continued actions to manage under the asset cap. There's been more deposit pricing pressure in corporate banking than we've seen in Commercial Banking. On slide 14, Wealth and Investment Management revenue grew 5% from a year ago as the increase in net interest income due to the impact of higher rates and higher loan balances more than offset the declines in asset-based fees, driven by lower market valuations as well as lower retail brokerage transaction activity.\n",
            "\n",
            "As a reminder, the majority of WIM advisory assets are priced at the beginning of the quarter, so second quarter results reflected market valuations as of April 1st, and third quarter results will reflect the lower market valuations as of July 1st. The S&P 500 and fixed income indices declined again in the second quarter and approximately two-thirds of our advisory assets are in equities.\n",
            "\n",
            "So, there will be another step down in our asset-based fees next quarter. Average loans increased 5% from a year ago, driven by continued momentum in securities-based lending. Average deposits declined 1% from a year ago and were down 7% from the first quarter as clients reallocate cash into higher yielding alternatives. Deposit pricing increased modestly. Slide 15 highlights our corporate results. Both revenues and expenses declined from a year ago and were impacted by the divestitures of our Corporate Trust Services business and Wells Fargo Asset Management and the sale of our student loan portfolio. These businesses contributed $580 million of revenue in the second quarter of 2021, including the gain on the sale of our student loan portfolio, and they accounted for approximately $375 million of the decline in expenses in the second quarter compared with a year ago, including the goodwill write-down associated with the sale of our student loan portfolio. The decline in revenue in corporate was also due to lower equity gains in our affiliated venture capital and private equity businesses. In summary, while our net income in the second quarter declined driven by lower venture capital and mortgage banking results, our underlying trends reflected our improving earnings capacity with expenses declining and strong net interest income growth from rising rates and higher loan balances.\n",
            "\n",
            "As we look ahead to the second half of the year, we expect the growth in net interest income to more than offset any further pressure on non-interest income.\n",
            "\n",
            "While we expect credit losses to increase from historically low levels, our consumer and commercial customers are not showing any meaningful signs of stress.\n",
            "\n",
            "As I highlighted earlier, our expense outlook for the year is unchanged at approximately $51.5 billion subject to the risk to the outlook discussed earlier.\n",
            "\n",
            "Finally, our stress test results demonstrated our capacity to return excess capital to shareholders, including the expected 20% increase in our third quarter common stock dividend subject to board approval.\n",
            "\n",
            "We will now take your questions.\n",
            "\n",
            "Operator\n",
            "At this time, we will now begin the question-and-answer session. [Operator Instructions] And our first question today will come from Ken Usdin of Jefferies.\n",
            "\n",
            "Your line is open, sir.\n",
            "\n",
            "Ken Usdin\n",
            "Thanks. Good morning guys. I appreciate the continuity of the expense guide and also the potential variability. Mike, I was just wondering if you could expand on that. Obviously, the operating losses are hanging higher this year than they had been.\n",
            "\n",
            "So just wondering how you start to get a sense of what those look like going forward? And then also just the underlying, as you mentioned, coming in better because of revenue, just any sense of all just how your net saves are looking underneath the surface as well. Thank you.\n",
            "\n",
            "Mike Santomassimo\n",
            "Yes. Hey, thanks, Ken.\n",
            "\n",
            "First, I'd start with the efficiency program that we've been talking about now for the better part of 1.5 years. And all of that's tracking as we thought it would.\n",
            "\n",
            "So the core, driving kind of efficiency through the core business lines and operating groups is sort of working the way we thought. When you look at what's happened this year, as you pointed out, operating losses are higher than what we assumed at the beginning of the year. And those things just can be unpredictable at times just as we work through the backlog of items.\n",
            "\n",
            "You know the accounting standard we work with, right? If we knew about something now, we would accrue for it. If we could estimate it, we would accrue for it. But we're just flagging -- continuing the flag that we still have a pipeline of stuff to work through. And then as you highlighted, as we think about this year, the increases in the operating loss line have been offset by -- largely offset by the lower revenue-related expenses.\n",
            "\n",
            "And so we still feel good about that $51.5 billion number that we set out at the beginning of the year. And we're going to continue to work through the pipeline of items. And if something is significant in tops, we will be sure to highlight it as we go forward.\n",
            "\n",
            "Ken Usdin\n",
            "Yes. And as a follow-up, I know as you guys talked through the recent confer season, it's hard to get a crystal ball with so many moving parts as you think about 2023, but can you just help us try to at least start to think through some of the pushes and takes and can you continue to push us towards getting costs down next year? Thanks guys.\n",
            "\n",
            "Charlie Scharf\n",
            "Hey, Ken, this is Charlie.\n",
            "\n",
            "Let me take that. The way we think about it is as we sit and look towards next year, we certainly know we have some increases to contend with, such as the full year impact of inflationary pressures that we see this year. And we know we've got some increases in FDIC insurance premiums. But as we start thinking about next year, and we really just starting the budget process, our mindset going into it is that we have significant opportunities to become more efficient. We've been – and it's just more of the same in terms of what we've been talking about. And this has nothing to do with getting efficiencies out of the risk-related work it assumes that all of that investment continues. But we do go into this process with the expectation that we want to see net expense reductions.\n",
            "\n",
            "Now, just usual caveats that excludes revenue-related expenses, which could go up or some of this – the lumpiness that we've talked about, just as we think – but as we think about that core expense base, we do continue to see opportunities, and we'd like you to see it as well.\n",
            "\n",
            "Operator\n",
            "Thank you. The next question comes from John McDonald of Autonomous Research.\n",
            "\n",
            "Your line is open.\n",
            "\n",
            "John McDonald\n",
            "Hi. Good morning, guy. I wanted to ask about capital. It looks like you're entering next quarter with over 100 basis points buffer to your pro forma reg minimums. How should we think about where you'll manage capital to and your potential buyback capacity going forward? And given that you paused for SCB partly because of SCB uncertainty. Will you get to some level of buybacks likely moving forward here? Thank you.\n",
            "\n",
            "Charlie Scharf\n",
            "Yeah. Hey, John, it's Charlie. Why don't I start and then Mike can chime in. Yeah. I mean, I think your – no question, we – clarity of SCB for us at this point does really help.\n",
            "\n",
            "As we sit here today and we look at what's happening in spreads and what's happening with the 10 year that was at 292 right now. But we do want to be all but just conservative in terms of how we think about managing the capital base.\n",
            "\n",
            "So just to be – I think to be clear, as we sit here today, we're very happy with the amount of capital that we have, including, as we think about that 10 basis points increase that will impact us. We certainly have capacity to buy shares back at this point. And as I think Mike alluded to, we just probably want to wait a little bit just to see what happens in terms of the volatility in spreads and rates before we start to do that. But we certainly at a point, we'll do it. We'll just see exactly when that is.\n",
            "\n",
            "Mike Santomassimo\n",
            "Yeah. Maybe I'll just add one or two things, John.\n",
            "\n",
            "I think as Charlie highlighted, we feel good about where we are. I would just point out, we are not – our G-SIB score is going to stay the same as we go into next year as well.\n",
            "\n",
            "So we don't have another uptick as we go into the beginning of next year.\n",
            "\n",
            "So that's good. And at this point, we don't feel like we need to build capital from where we are to build a bigger buffer and then we'll just be prudent on buybacks as we go through, and through the next few quarters.\n",
            "\n",
            "John McDonald\n",
            "Okay. And Mike, maybe I can ask a follow-up on the NII revised outlook. What kind of cadence do you see between the next two quarters? It seems like you'd have a big step-up both this coming quarter and the third quarter and then again in the fourth? And then within that NII equation, if you still have this funding gap between loan growth being very strong and deposit growth slowing, is there still plenty of cash to fund the loan growth? Thank you.\n",
            "\n",
            "Mike Santomassimo\n",
            "Yeah. Sure.\n",
            "\n",
            "I think, ultimately, the exact progression over the next couple of quarters will be a function of how the Fed moves on rates. But I would think of it as somewhat of a ratable step up quarter-to-quarter.\n",
            "\n",
            "So not -- you won't see some outsized results in one versus the other as we go. And you'll continue to see a little bit of loan growth come through. We think that probably moderates a little bit from what we saw in the first half of the year, but you'll see some loan growth there as well as it steps up. And as you say, I think the industry has seen deposits come down a little bit.\n",
            "\n",
            "If you look at the latest version of the Fed data, and you can see that in our results as well.\n",
            "\n",
            "Now for us, it's been a little bit of -- you can see the period end balances in each of the segments, and it's been a little bit of reduction in each of them with the lowest percent reduction being in the consumer space.\n",
            "\n",
            "So that's a good thing. And as you know, we -- over the last couple of years, we've brought down much of our wholesale funding that we've got out there.\n",
            "\n",
            "And so we've got plenty of capacity to provide liquidity or get the liquidity we need to continue to support clients.\n",
            "\n",
            "John McDonald\n",
            "So that loan growth funding is coming from your cash balances and other sources of liquidity that you have?\n",
            "\n",
            "Mike Santomassimo\n",
            "Yes. Exactly.\n",
            "\n",
            "John McDonald\n",
            "Okay. Thanks.\n",
            "\n",
            "Operator\n",
            "Thank you. The next question comes from Steven Chubak of Wolfe Research.\n",
            "\n",
            "Your line is open, sir.\n",
            "\n",
            "Steven Chubak\n",
            "Hey, good morning.\n",
            "\n",
            "So I wanted to start off with a question just clarifying some of the NII guidance. Mike, because you noted that it's a ratable step up and it imply – the guidance implies about a $12 billion run rate, at least in the back half for NII on an FTE basis. Is it reasonable for us to assume or expect that the exit rate for the year is going to be north of $50 billion? I just want to make sure I clarify that.\n",
            "\n",
            "Mike Santomassimo\n",
            "Well, Steve, I know you're really good at modeling this stuff.\n",
            "\n",
            "So I'll let you do the modeling. But I think as you pointed out, we're going to see step ups, right, as we go through the next -- as we did this quarter from last quarter. And that will continue into the third and fourth quarter. And now exactly what -- it's hard to use one quarter, as you know, it's just run rate for the rest of the -- for the following year. But certainly, the exit rate is going to be a lot higher than even where we are today. And then we'll have to just see what the environment is like at that point how to think about whether that's a clean run rate to build off of, or are there other things they're getting away. And as you can see, over the last -- even over the last three, four, five, six weeks, whatever it's been, the amount of volatility that's out there on the long end and what happens with loan growth, does it keep at the same pace.\n",
            "\n",
            "And so there's a lot of factors, I think, that go into what 2023 would look. But as you pointed out, our exit rate will be pretty healthy.\n",
            "\n",
            "Steven Chubak\n",
            "Thanks. Mike, and just for one follow-up also on the NII guide.\n",
            "\n",
            "Just wanted to get a better sense as to what's being contemplated in terms of deposit paydown, the deposit paydown and repricing just came in much better than beers this quarter.\n",
            "\n",
            "You've cited the benefits of the deposit and funding optimization you've executed these past few years.\n",
            "\n",
            "Just wanted to get a sense of how you're thinking about that deposit trajectory that's underpinning some of the NII guidance.\n",
            "\n",
            "Mike Santomassimo\n",
            "Yes. I mean I think that's -- we're not expecting balances to grow much from where they are. And I think we'll see what happens as -- if we see continued outflows of deposits, but as you put it out, like our mix of deposits as we came in this environment sets us up pretty well, and you can see that in the results so far where the consumer deposits are a much bigger percentage of the overall pod than they were just a couple of years ago.\n",
            "\n",
            "As you think about beta, so far, they've basically progressed as we thought in each of the segments.\n",
            "\n",
            "And so we really haven't seen much variation to what we thought at this point in the rate cycle.\n",
            "\n",
            "Now if the Fed does raise rates 75 basis points at the next meeting, now you're starting to get into territory that we didn't see in the last rate cycle -- rate rising cycle.\n",
            "\n",
            "And so we're going to start to see betas increase from there. And I think that's exactly at what pace and where you need to be defensive or not on the wholesale side of the -- on the commercial side, we'll see, and we're pretty nimble and are able to react to it. But so far, everything has progressed as we thought it would.\n",
            "\n",
            "And so we're going to keep a pretty close eye on it as we go over the next few months. And I think that will -- this quarter and into the fourth quarter, I think, will give us a lot of interesting data points to know how to think about it over a longer period of time.\n",
            "\n",
            "Steven Chubak\n",
            "Great color. Thanks for taking my questions.\n",
            "\n",
            "Operator\n",
            "Thank you.\n",
            "\n",
            "Our next question comes from Scott Siefers of Piper Sandler.\n",
            "\n",
            "Your line is open.\n",
            "\n",
            "Scott Siefers\n",
            "Good morning guys. Thank you for taking the question.\n",
            "\n",
            "Just as it relates to revenues overall, the NII trajectory, obviously, quite strong and in a sense seems mostly self-evident for now. But I was hoping, Mike, you could discuss, please, fee trajectory in a bit more detail. I guess, where hovering in a $7 billion or $7.5 billion a quarter range if we exclude some of that noise from the equity marks, the securities games, et cetera. In your mind, are we at a low and can we grow from that base? I know you touched on mortgage, maybe coming down and then without wealth, but just sort of puts and takes as you see that, if you could, please?\n",
            "\n",
            "Mike Santomassimo\n",
            "Yeah, sure. Thanks, Scott. I'll just bring you through some of the key fee lines just to give you a sense of some of the dynamics, right? So on the deposit side, it's been pretty -- we saw a step down in the quarter, largely a result of the changes we made in overdraft fees. We'll see a little bit more step down as we go through the year, probably more a fourth quarter thing than a third quarter thing, as we implement the additional changes there, but there's -- other than that, there's a lot of stability generally to that line based on underlying activity. We'll see what happens in the market and how that drives the investment advisory and asset based fee line. That's -- it's going to be key to see what happens in the equity and the fixed income markets. And as we bring more stability enters into the market that really supports that fee line. And as you know that’s our single biggest line item as you look at that fees. Investment banking. It's really going to be market driven, but we -- our fees were pretty low, including the small mark that we had on -- in leveraged finance.\n",
            "\n",
            "And so it's hard to see that going too much lower, but that's really going to be driven by the activity levels. Card spend, we're seeing still good, although it slowed maybe a little in May and June. We're still seeing really good activity in the card space and people are outspending.\n",
            "\n",
            "So that's helpful. Mortgage banking, as you highlighted, I think, is likely going to come down a little more in the third quarter, but it's off a much smaller base.\n",
            "\n",
            "You can still have pretty big -- you can have decent sized percentage declines there, but it's still -- it's really small dollars at this point. And then we'll see as the market progresses and how that impacts the equity security side. But -- so I think hopefully, we're getting more stability here, but some of it will be dependent upon what we see in the markets.\n",
            "\n",
            "Scott Siefers\n",
            "All right. That's perfect. Thank you very much. And if I could switch gears just a bit back to CCAR and the SCB, I guess, it's possible I had sort of misinterpreted your guys' remarks over the last few quarters. But I sort of felt like you guys were maybe prepping us for possibly somewhat worse outcome in terms of where the SCB would flush out. In your mind, how did that CCAR and the -- that SCB, just because it barely budged, right? So how did that all flush out relative to what you guys have kind of been anticipating?\n",
            "\n",
            "Charlie Scharf\n",
            "Yes. What we said a couple of times was that we thought it was possible that it was going to increase, and it did.\n",
            "\n",
            "Now you have to keep in mind, like we only have so much visibility into the underlying drivers of what causes it to go up or down in any given year.\n",
            "\n",
            "Now there's a lot of stuff that's public, but there's also a lot of a lot of the modeling techniques that are quite easy to understand.\n",
            "\n",
            "And so, I would say we were pleased with the result, and we spent -- as many do probably, we spend a lot of time on trying to understand the drivers of the risk of the balance sheet and do our best to have positioned ourselves for -- toward the outcomes.\n",
            "\n",
            "And so, we were pleased that’s working out.\n",
            "\n",
            "Scott Siefers\n",
            "Okay. All right. Perfect. Thank you guys very much. I appreciate it.\n",
            "\n",
            "Operator\n",
            "Thank you. The next question comes from John Pancari of Evercore ISI.\n",
            "\n",
            "Your line is open.\n",
            "\n",
            "John Pancari\n",
            "Good morning.\n",
            "\n",
            "Charlie Scharf\n",
            "Hey, John. Good morning.\n",
            "\n",
            "John Pancari\n",
            "Just on the deposit front, just to go back to that.\n",
            "\n",
            "Just want to confirm.\n",
            "\n",
            "So from you’re your best estimate now is to overall deposit balances are relatively stable in the back half of the year. Or do you think you could see some incremental declines, just as betas are rising?\n",
            "\n",
            "Mike Santomassimo\n",
            "I think you can certainly see a little bit more decline from here potentially.\n",
            "\n",
            "I think that’s not an unreasonable expectation. Exactly timing and how that’s going to progress, I think, is hard to predict with any real degree of accuracy, just given the environment we’re in right now. But I think it’s possible, they can be out a little bit more here.\n",
            "\n",
            "John Pancari\n",
            "Okay. All right. Thanks, Mike. And then on the credit front, I wanted to get your thoughts on the likelihood of reserve bill. I know you added to the reserve for loan growth this quarter, but -- in terms of an overall build of the reserve as you -- from a CECL perspective, as you look at your economic scenarios, where do you see this quarter with your CECL scenarios that didn't warrant a sizable build? And I guess, longer term, as this plays out and we see the Fed continue with the tightening, what do you view as a potential level that you may have to bring to reserve to as a pandemic level too high and you can help us with the magnitude there?\n",
            "\n",
            "Charlie Scharf\n",
            "Well, as you think about the process we go through, which I think is similar to most in a lot of ways, is you're really looking at a number of scenarios that you need to be thoughtful about and include in your modeling. And we've now, for a number of quarters in a row, have had a significant weighting on the downside scenario already.\n",
            "\n",
            "And some of those scenarios are pretty severe, right? And so you've got waitings on what some might term wild recession, more severe recessions, so you could create a lot of labels for them. But it's a number of scenarios that have different severities of downside.\n",
            "\n",
            "And so, we feel at this point that we've captured what we can look at and see or anticipate at this point based on all the factors that we need to evaluate in our current reserves. And I'll just point out also, as you look at us in the position we're in, yes, we didn't take down all of the reserves that we put up during COVID.\n",
            "\n",
            "And so as you sort of look through each of the underlying asset classes, we feel what we have today is appropriate. It's hard to see in the near term increasing them to the level that we had back in the pandemic. But I think that's a hard thing to see at this point. But I think we'll have to make sure as things evolve throughout the next couple of quarters. we'll have to incorporate that. But again, we already have a pretty significant weighting on those downside scenarios already. And it's a very -- as you would imagine, a very robust conversation that we go through each quarter to evaluate how we feel about it. And at this point, we feel it's appropriate for what we can see over the life of those loans.\n",
            "\n",
            "Scott Siefers\n",
            "Got it. All right. One more related to on credit quickly. The $170 million write-down in unfunded leverage finance commitments, that you took. Is there a risk of future marks there? Is that primarily just predicated on market spreads? And then separately, what is your -- can you remind us what your total leveraged loan exposure both in terms of commitments and outright outstandings?\n",
            "\n",
            "Mike Santomassimo\n",
            "Yes, we don't -- you got to think of these as unfunded commitments, not funded, right? So, as you sort of think about them, don't think about them outstanding, thinking about them as unfunded commitments, number one. And you really have to, over time, think about term loans versus high yield a little bit differently. And on the high-yield side, we don't disclose this, but we haven't disclosed the actual number, but it's really small in the scheme of the balance sheet and the term loan side, which generally has a little bit more stability to it and less volatility to it is the bigger part. All these deals are subject to further spread widening, given the environment we're in, for sure. We -- at the end of the quarter, took our best -- used our best judgment to market where we thought the deals would clear. And we'll see how that over the coming months.\n",
            "\n",
            "Scott Siefers\n",
            "Okay, great. Thanks Mike.\n",
            "\n",
            "Operator\n",
            "Thank you. The next question comes from Erika Najarian of UBS.\n",
            "\n",
            "Your line is open.\n",
            "\n",
            "Erika Najarian\n",
            "Hi, good morning. I just had 1 more follow-up question. And Mike, I apologize if this is the umpteenth question on NII. I appreciate all your color in terms of what's driving the NII guide of 20%. I was wondering if you could better quantify the deposit beta that you would expect by year-end on a cumulative basis. Appreciate that you said it would accelerate. But given that some of your peers have given specific guides and given how much the quality of your deposit base has changed for the better over the past several years, I'm wondering if you could give us a sense of what that beta range that you're assuming by year-end on a cumulative basis that underpins that guide?\n",
            "\n",
            "Charlie Scharf\n",
            "Yes. Yes, Erika, I think that's a really hard thing to give a pinpoint number on at this point in the cycle, to be honest with you. And if you think about -- and it's -- there's so many moving pieces right now, I think, between -- particularly as you sort of get to year-end and the pace of rates? And what exactly is the Fed going to do and when are they going to do it? And so I think there's a lot that goes into that, that trying to get a -- one number is a hard thing to say with a lot of confidence in my view.\n",
            "\n",
            "I think what we can say though is as you look at the next couple of rate rises, I think you're going to start to see more acceleration.\n",
            "\n",
            "On the retail and the consumer side, the core -- deposit core rates haven't changed much for the big banks at this point yet.\n",
            "\n",
            "So you'll start to see that happen over the next couple of rate rises, the betas will still be pretty small.\n",
            "\n",
            "However, that will start to pick up just depending on how fast the Fed goes by year-end. And then I think on the other side of the spectrum on the corporate investment bank and those deposits, whether it's in the FI space or the large corporate space, you're seeing those betas pick up a lot already.\n",
            "\n",
            "So those will continue to accelerate.\n",
            "\n",
            "And so when you look at cumulative betas, you really have to look at and you start to compare different banks, you're really going to have to look at the mix of the deposits. And the CIB deposits are just a much smaller piece of the pie for us right now. And those are going to -- those will probably move faster than even we've modeled, but it's a small piece of it.\n",
            "\n",
            "So I think we'll see how it goes, and we'll give you as much insight as we can. But I think trying to predict cumulative betas by year-end is hard.\n",
            "\n",
            "Erika Najarian\n",
            "Got it. I understand. Thanks so much.\n",
            "\n",
            "Operator\n",
            "Thank you. The next question comes from Ebrahim Poonawala.\n",
            "\n",
            "Your line is open.\n",
            "\n",
            "Ebrahim Poonawala\n",
            "Hey, good morning.\n",
            "\n",
            "Operator\n",
            "Band of America.\n",
            "\n",
            "Ebrahim Poonawala\n",
            "Good morning.\n",
            "\n",
            "Just following up on that, Mike.\n",
            "\n",
            "So I appreciate you don't want to get pinned down on deposit beta, but is it fair for us to assume just given mix shift in deposits given how you manage the balance sheet during the pandemic, we should see your deposit beta at least track in line or maybe even lower relative to the last rate cycle?\n",
            "\n",
            "Mike Santomassimo\n",
            "Well, I think we've -- as you think about each asset, each type of deposit, to-date, they're tracking pretty close to what we saw last cycle. But you then look at the mix of our deposit base, and that's what's changed pretty substantially since the last go around.\n",
            "\n",
            "And so if beta stayed the same as last cycle byproduct, given our mix has changed, you would see a lower average deposit beta. But there's a lot to play out as we go through the rest of the year, but in each of the underlying products.\n",
            "\n",
            "Ebrahim Poonawala\n",
            "That's fair. I just wanted to make sure we weren't missing something because there are peers who probably are expecting a higher beta than last cycle.\n",
            "\n",
            "So I just wanted to hear you talk through that. And as a follow-up, and I know these are extremely tough in terms of when you think about the market, private market valuations on your equity investments. But give us a sense of just where the markets are in terms of taking these markdowns, should we anticipate some more negative marks in a world where there's no big turnaround in equity markets over the next few quarters. I just want to make sure like expectations are level set for that line and how that impacts fees and PPNR?\n",
            "\n",
            "Mike Santomassimo\n",
            "Yes. Sure. Look, and again, it really all depends on what happens in the public equity markets, which is in part driving those declines.\n",
            "\n",
            "So if we see some stabilization, that's constructive. If we see much deeper declines, that's we'll have to evaluate how that impacts these portfolio investments. And obviously, if the market starts to rally, that's even more constructive.\n",
            "\n",
            "So I think the public equity markets and will be a good guide to how to think about whether or not we have to evaluate whether there's more reductions here or not.\n",
            "\n",
            "Ebrahim Poonawala\n",
            "Got it. And it looks like we're tracking to a 15% drop, say, maybe by the end of the year? That was a statement. I didn't expect you to respond. Thanks for taking my questions.\n",
            "\n",
            "Charlie Scharf\n",
            "No problem. I'm glad you made it rhetorical.\n",
            "\n",
            "Operator\n",
            "Thank you. The next question comes from Gerard Cassidy of RBC Capital Markets.\n",
            "\n",
            "Your line is open.\n",
            "\n",
            "Gerard Cassidy\n",
            "Thank you. Good morning, Charlie. Good morning, Mike. Mike, can you give us some color on you guys had some good success in the quarter in generating gains from your trading activities and your debt securities. Can you just share with us what drove that and what your expectations might be in the next quarter or two?\n",
            "\n",
            "Mike Santomassimo\n",
            "Yeah. I mean, on the training side, it was really good performance in our macro fixed income businesses, commodities, FX, a little bit of rates.\n",
            "\n",
            "And so I think that's all what contributed to it. And we'll see, obviously, the continued performance, there is subject to what we see happening in the markets. It's not – we're not out there taking any kind of incremental risk that we normally take. It's really helping clients facilitate the flow that they've got there, and so we'll see how that goes. And as you can see, it's a relatively smaller number for us versus maybe some others.\n",
            "\n",
            "As you think about the securities portfolio, I wouldn't assume, there'll be continued gains there.\n",
            "\n",
            "I think we did do a small, small remixing of our securities portfolio.\n",
            "\n",
            "Some of it was RWA.\n",
            "\n",
            "Some of it was RWA optimization I think selling some UMBS is buying Ginnies that where spreads were pretty tight at the time we did it.\n",
            "\n",
            "You save an RWA you don't give up much yield. And there are a few other minor optimizations we did there.\n",
            "\n",
            "Gerard Cassidy\n",
            "Very good. And then as a follow-up question, when it comes to your professional and outside services expenses, can you frame out for us how much of that is tie to – your current working with the regulators to lift the asset cap in the cease and desist order. When that day eventually arrives? Will the professional and outside services numbers really have a kind of meaningful downward move, because you've resolved that issue?\n",
            "\n",
            "Charlie Scharf\n",
            "This is Charlie.\n",
            "\n",
            "Let me take a shot at this first. Listen, I think we have the work we're doing on all of the risk and infrastructure work, which supports the regulatory matters. It's our own headcount. It's professional. It's a bunch of technology work. It really cuts across a whole series of lines. And I just don't really think it's the right time for us to start even talking about where those saves could come from. And it's just genuinely not on a radar screen in terms of what we're thinking about where it's going to go or anything like that.\n",
            "\n",
            "So I'd rather just defer the question at this point.\n",
            "\n",
            "Gerard Cassidy\n",
            "No problem. Understood. And then, Mike, just coming back to your comment about the mix of deposits, and this is a rhetorical question as well.\n",
            "\n",
            "As we see for the first time in 15 years, consumer deposits in a higher rate environment, we'll make guys like you guys stand out maybe over some of your peers.\n",
            "\n",
            "So, good luck with that.\n",
            "\n",
            "Charlie Scharf\n",
            "Thanks, Gerard.\n",
            "\n",
            "Operator\n",
            "Thank you. The next question will come from Betsy Graseck of Morgan Stanley.\n",
            "\n",
            "Your line is open.\n",
            "\n",
            "Betsy Graseck\n",
            "Hey, good morning.\n",
            "\n",
            "Charlie Scharf\n",
            "Hey, Betsy.\n",
            "\n",
            "Mike Santomassimo\n",
            "Hi, Betsy.\n",
            "\n",
            "Betsy Graseck\n",
            "Charlie, I think you recently mentioned that you're in the process of strategically thinking about where mortgage fits in. And I guess I wanted to understand, what kind of framework you're assessing mortgage under. What you're thinking about that?\n",
            "\n",
            "Charlie Scharf\n",
            "Sure. Yes. And that was, by the way, not meant to be a new comment. That's something that we've been doing ever since I got here, and we brought a new management, including Kristy Fercho, who runs the business. And I mean, if you just go back and look at how big we were in the mortgage business, we were a hell of a lot bigger than we are today.\n",
            "\n",
            "And so we have been all along just reassessing what makes sense for us to do, how big we want to be both in the context of what our focus should be in terms of our primary focus should be on service -- serving our own customer base -- and then to the extent that we have efficiencies, would it makes sense for us to do other business. But I guess my point was we're not interested in being extraordinarily large in the mortgage business just for the sake of being in the mortgage business. We're in the home lending business because we think home lending is an important product for us to talk to our customers about. And that will ultimately dictate the appropriate size of it.\n",
            "\n",
            "And so I would just -- when you look at how much we're originating versus the size of our servicing business. The servicing business over time will become smaller. And I think that's a smart and good thing for us for many reasons. And as I said, we're just going to -- we're going to focus on products that make sense for us in the context of where we can make money over the cycles, given all of the complexities and all the requirements that banks have that not necessarily everyone else have and make sure we're getting the right returns for it.\n",
            "\n",
            "Betsy Graseck\n",
            "Yes.\n",
            "\n",
            "So is this a migration towards originate and retain and the mortgage servicing line goes away as an income statement item because it becomes non-material, or is there some middle ground that you're looking to?\n",
            "\n",
            "Charlie Scharf\n",
            "No, yes. No, I would -- I mean, listen, we're still -- I would still assume that a substantial amount of our mortgage production would be eligible for sale. And whether it's through the agencies or through public market, that's all options that we want to continue.\n",
            "\n",
            "And so we'll still be originating mortgages across the spectrum, some of which will keep on balance sheet when it makes sense and others of which we'll sell, and we will have an MSR. Again, if you just look at how much we originated historically versus what we're originating today, it will naturally just come down over time.\n",
            "\n",
            "Betsy Graseck\n",
            "Then two other questions. One, I think you recently announced a change in your consumer head. Could you speak through rationale for that? And what the wish list is for your new head of consumer?\n",
            "\n",
            "Charlie Scharf\n",
            "Yes.\n",
            "\n",
            "So Mike Weinbach, who had come in to run our home lending businesses. Put a whole series of things in place, including if you look at the leadership across all of our card business, our home lending business, our personal lending business in our auto business, all those -- that's an entirely new management team, plus new heads of -- I can go through all the other functions as well. And Mike put that in place, and we talked about it and he wanted to do something different.\n",
            "\n",
            "And so we're lucky enough to have a gentleman named Kleber Santos, who joined us 1.5 years to two years ago. Background he was a Capital One prior to that and McKinsey prior to that, and Kelber and I have worked extremely closely together and just thrilled to have him in that role.\n",
            "\n",
            "And so I think I wouldn't expect to see significant changes in the things that we've spoken about. We're focused on continuing the product build-out on the credit card side, again, focusing on customers that are broader customers in the franchise. Building our customer service around that and building out our digital capabilities and all the other parts of the business, which is work that we have underway.\n",
            "\n",
            "So I don't anticipate any material changes from where we are just with continued trends and the things that we've been talking about.\n",
            "\n",
            "Betsy Graseck\n",
            "Great. And then just lastly on wealth. It's an important part of your offering. I'm wondering what you're doing to strategically enhance that offering to your clients, be it either through product or how you're structured integration with consumer, your IT platform and solutions. Could you just give us a couple of bullet points on what's going on there?\n",
            "\n",
            "Charlie Scharf\n",
            "Sure.\n",
            "\n",
            "Let me start, Mike. And Mike and I are both very involved in these conversations with Barry and his team I think if you look at our wealth business, it's run entirely different today than it was several years ago. We had separate platforms historically here between our brokerage business. We had two different private banks that operated under two different brands. We had our bank channel. And then completely separately, we had a digital platform, and we had a platform or advisers that wanted to go independent. The digital platforms and the platform for independent advisers had very little investment in it. And those would run -- but all of those businesses, they were run as separate businesses with separate product platforms and separate technology.\n",
            "\n",
            "And so what we've done is we now have one set of products and service capabilities that all of those product lines have access to. And we've combined the entire field under one leader. And we're investing in our digital capabilities, and we're investing in the capabilities of those that want to go independent.\n",
            "\n",
            "So if they want to do that, they can stay here as opposed to elsewhere.\n",
            "\n",
            "We are building out capabilities across all the dimensions from the investment capabilities to the banking capabilities, our lending capabilities, offering trust in the other areas of distribution that didn't have access to those in the past.\n",
            "\n",
            "And so it's a huge set of changes, which also bring with it a set of changes in the back end, which we're going to move -- we're moving towards common platforms. And it's something we're really excited about, and we're just at the beginning of seeing the benefits of it. And I think it's one of the things that will make us appear to -- for our financial advisers, it’s been extremely attractive place to be, whether they want to be an employee and work for Wells Fargo or they want to be independent and access our capabilities.\n",
            "\n",
            "Betsy Graseck\n",
            "And that changed to moving to common platforms. What's the timing of that?\n",
            "\n",
            "Mike Santomassimo\n",
            "Yeah. It's not a technology move.\n",
            "\n",
            "I think he's talking about platforms in terms of the overall sort of the way we operate business.\n",
            "\n",
            "So there isn't -- it isn't dependent upon a big technology conversion, Betsy.\n",
            "\n",
            "So -- and then I would just highlight one last thing. Charlie in his prepared remarks, talked about Wells Fargo Premier. That's step one in really helping provide more differentiated and holistic service offering to our affluent clients in the consumer business and the Wealth piece is going to be big part of that. And we already have 1,500 plus advisers in the branch system to do. We already have a great investment platform.\n",
            "\n",
            "And so we're in the early days, but building out a differentiated service offering there as well, which will be a big part of the wealth businesses going forward.\n",
            "\n",
            "Betsy Graseck\n",
            "Okay. And that's in conjunction with consumer business.\n",
            "\n",
            "Mike Santomassimo\n",
            "Correct.\n",
            "\n",
            "Charlie Scharf\n",
            "Yes. I would say -- yes, just not expand even further, Betsy. It's really a combination of the advisers and the products that Berry has to offer in our wealth management business. It is also leveraging the lending products that Clover is now responsible for, including credit card and including mortgage and potentially, auto and some other things there. In integrated offering with Mary's bank customers who are affluent.\n",
            "\n",
            "So it's an offering across all of our product sets directed in a much more segmented way than we've ever done in the past.\n",
            "\n",
            "And so we're extremely excited about it, and we'll be talking more about things that were capabilities that were going to be rolling out throughout the year.\n",
            "\n",
            "Betsy Graseck\n",
            "Great. Thank you.\n",
            "\n",
            "Charlie Scharf\n",
            "Thanks.\n",
            "\n",
            "Operator\n",
            "Thank you. The next question comes from Vivek Juneja of JPMorgan.\n",
            "\n",
            "Your line is open.\n",
            "\n",
            "Vivek Juneja\n",
            "Thanks for taking my questions. Charlie, I just wanted to follow-up on your question -- your comment about loan growth likely to moderate from the first half? Any color on that? What do you think drives that moderation? Which categories?\n",
            "\n",
            "Mike Santomassimo\n",
            "Hey, Vivek, it's Mike. I'll -- maybe I'll take a shot at that. Look, we've just seen -- I just don't think what we've seen in the second quarter will continue to happen at the same pace. We may get surprised and it will be a little better than we think. But I think at some point, we just feel, as you look at any of the uncertainty that might be there or other factors that are causing clients that use their lines today that just may moderate as we go through it. I wouldn't look at it as some big warning of anything to come. It's just we're being a little -- we're being a little prudent in terms of the way we think about that growth rate and maybe we'll be surprised on the upside a little, but it's just what we're seeing right now.\n",
            "\n",
            "Vivek Juneja\n",
            "So you're not seeing any signs like sort of late in the quarter, I think, already starting to show some slowdown or some conversations with clients that are indicating that? Is that…\n",
            "\n",
            "Mike Santomassimo\n",
            "Not that I would say are super significant at this point. But when you go category-by-category and say, okay, well, spending in the card space continue to increase at the same pace given some of the uncertainty in the economic environment, we'll see maybe commercial real estate, certainly, given what we're seeing in the real estate market there, that appears like it will slow down a little bit again in the second half of the year.\n",
            "\n",
            "Somewhat driven by what we're seeing in the capital markets side of that business as well.\n",
            "\n",
            "And so with the slowdown in deals happening and rates rising, that's just as a natural slowdown there.\n",
            "\n",
            "And so I just think you go asset class by asset class, it just feels as though we'll see a little bit of moderation as we go through the rest of the year.\n",
            "\n",
            "Vivek Juneja\n",
            "Okay. And one minor one, Mike, for you, the hung loan loss number that you gave us, was it a gross mark or is it net of fees?\n",
            "\n",
            "Mike Santomassimo\n",
            "The loan -- the leveraged finance one, Vivek?\n",
            "\n",
            "Vivek Juneja\n",
            "Yes. Yes.\n",
            "\n",
            "Mike Santomassimo\n",
            "That's after fees.\n",
            "\n",
            "Vivek Juneja\n",
            "That's after fees.\n",
            "\n",
            "Okay.\n",
            "\n",
            "So then what's the gross mark on that?\n",
            "\n",
            "Mike Santomassimo\n",
            "I don't have the exact number in front of me. It's not materially different.\n",
            "\n",
            "Vivek Juneja\n",
            "Okay. All right. Thank you.\n",
            "\n",
            "Operator\n",
            "Thank you.\n",
            "\n",
            "We have time for one more question today, and that will come from Matt O'Connor of Deutsche Bank.\n",
            "\n",
            "Your line is open sir.\n",
            "\n",
            "Matt O'Connor\n",
            "Hi, I was wondering if you could remind us the targeted customer within credit card as you lean into that business? And do you think about maybe slowing from the expansion plans there, just given all the recession talking?\n",
            "\n",
            "Charlie Scharf\n",
            "Yes. This is Charlie, Matt.\n",
            "\n",
            "First of all, our targeted customer, those that we want to have a broader relationship with. What we have said is that as we've rolled out this new product set, when you look at the credit quality of the borrowers and the spenders that we have been giving our new cards due to the credit quality is actually stronger than it had been historically. And it still is either on target or stronger than we would have modeled for when we rolled the products out. It's just we're not competing on credit terms. We're not competing in any way, shape or form in terms of that. We just want to have a quality offering, we would expect it to be a high-quality card customer that we can do other things with across our franchise.\n",
            "\n",
            "Matt O'Connor\n",
            "And just any disclosure on FICO scores in terms of either the overall portfolio or the customer that you're growing are leading into?\n",
            "\n",
            "Charlie Scharf\n",
            "Yes, I think you can get some of that in the Q, Matt, you got to go a little deep into the queue, but you can get some of that in the distribution table in the Q.\n",
            "\n",
            "Matt O'Connor\n",
            "Okay. I'll look for it there. Thanks.\n",
            "\n",
            "Charlie Scharf\n",
            "All right, everyone. Thank you very much. We appreciate everything and we look forward to talking to you all. Take care.\n",
            "\n",
            "Operator\n",
            "Thank you all for your participation on today's conference call. At this time, all parties may disconnect.\n"
          ]
        }
      ]
    },
    {
      "cell_type": "code",
      "source": [
        "print(len(string))"
      ],
      "metadata": {
        "colab": {
          "base_uri": "https://localhost:8080/"
        },
        "id": "77sEwqzeGCqQ",
        "outputId": "edfad541-f556-4001-c954-da2ce1d23aeb"
      },
      "execution_count": null,
      "outputs": [
        {
          "output_type": "stream",
          "name": "stdout",
          "text": [
            "68243\n"
          ]
        }
      ]
    },
    {
      "cell_type": "code",
      "source": [
        "clean_string = []\n",
        "\n",
        "for s in string.split(\"\\n\"):\n",
        "  if s.isspace() or s == \"\":\n",
        "    pass\n",
        "  else:\n",
        "    clean_string.append(s)\n",
        "print(clean_string)\n",
        "print(len(clean_string))\n",
        "    "
      ],
      "metadata": {
        "colab": {
          "base_uri": "https://localhost:8080/"
        },
        "id": "VSGiKbk2GlKp",
        "outputId": "a5216cc0-c278-4977-a4fa-92c36c7baf77"
      },
      "execution_count": null,
      "outputs": [
        {
          "output_type": "stream",
          "name": "stdout",
          "text": [
            "['Operator', \"Welcome, and thank you for joining the Wells Fargo Second Quarter 2022 Earnings Conference Call. All lines have been placed on mute to prevent any background noise. After the speakers' remarks, there will be a question-and-answer session. [Operator Instructions] Please note that today's call is being recorded. I would now like to turn the call over to your host, John Campbell, Director of Investor Relations. Sir, you may begin the conference.\", 'John Campbell', 'Good morning. Thank you for joining our call today where our CEO, Charlie Scharf; and our CFO, Mike Santomassimo, will discuss second quarter results and answer your questions. This call is being recorded.', \"Before we get started, I would like to remind you that our second quarter earnings materials, including the release, financial supplement, and presentation deck are available on our website at wellsfargo.com. I'd also like to caution you that we may make forward-looking statements during today's call that are subject to risks and uncertainties. Factors that may cause actual results to differ materially from expectations are detailed in our SEC filings, including the Form 8-K filed today containing our earnings materials. Information about any non-GAAP financial measures referenced, including a reconciliation of those measures to GAAP measures, can also be found in our SEC filings and the earnings materials available on our website. I will now turn the call over to Charlie.\", 'Charlie Scharf', \"Thanks very much, John. Good morning. I'll make some brief comments about our second quarter results, the operating environment, and update you on our priorities. I'll then turn the call over to Mike to review second quarter results in more detail before we take your questions.\", 'Let me start with some second quarter highlights. We earned $3.1 billion in the second quarter, our results included a $576 million impairment of equity securities, predominantly in our venture capital business due to market conditions. Revenue declined as growth in net interest income driven by rising interest rates and higher loan balances was more than offset by lower non-interest income as market conditions negatively impacted our venture capital, mortgage banking, investment banking, and wealth management advisory businesses.', 'We continued to execute on our efficiency initiatives and our expenses declined from a year ago even with inflationary pressures and higher operating losses. We had broad-based loan growth with both our consumer and commercial portfolios growing from the first quarter and a year ago. Credit performance remained strong, our allowance reflected an increase due to loan growth.', \"While we're monitoring risks related to continued high inflation, increasing interest rates, and the slowing economy, which will impact our customers, consumers and businesses have been resilient so far. When looking at simple averages across our entire portfolio, consumer deposit balances per account increased from first quarter and a year ago and remained above pre-pandemic levels. Overall, our consumer deposit customers' health indicators, including cash flow, payroll, and overdraft trends are not showing elevated risk concerns.\", \"However, we're closely monitoring activity by segment for signs of potential stress and for certain cohorts of customers, we have seen average balances steadily decline to pre-pandemic levels.\", 'Following the final federal stimulus payments early last year and their debit card spend has also been declining. Overall, debit card spending was up 3% compared to a year ago when consumers receive stimulus payments and then sanction appears to be impacting certain categories of spending, including a 26% increase in fuel driven by higher prices, while discretionary categories like apparel and home improvement spending were down double digits, driven by fewer transactions. Credit card spend increased 28% from a year ago. Above the industry trend driven by the new products we launched last year, with double-digit increases across all spend categories.', 'However, spending while still strong, started to slow in May and June. Consumer credit card utilization rates remain below pre-pandemic levels. Payment rates remained strong and delinquency rates remain low.', 'Our small business portfolio continues to perform well in the aggregate in both delinquencies and losses. Leading indicators such as payment rates, deposit levels, utilization and revolving debt trends do not yet indicate signs of stress. Loan demand from our commercial customers remained strong with broad-based balance and commitment growth.', \"Our commercial customers' credit performance remained strong with exceptionally low net charge-offs and non-accrual loans were at their lowest level in over 10 years.\", 'However, we are monitoring early warning indicators across portfolios including cash flow activity, credit line utilization rates and industry fundamentals for inflation impacts.', \"Now let me update you on progress we've made on our strategic priorities.\", 'Our work to build an appropriate risk and control infrastructure is ongoing and remains our top priority, but we also continue to invest in our businesses to better serve our customers and to help drive growth. This week, we launched our fourth new credit card offering in the past year, Wells Fargo Autograph.', \"Our latest card reflects our momentum in growing our consumer credit card business with new accounts up over 60% from a year ago. We're focused on delivering competitive offerings and our new reward card provides three times points across top spending categories including restaurants, travel and gas stations. This is the first of several rewards based cards we plan to introduce.\", 'We continue to improve the digital experience in the second quarter with the relaunch of Intuitive Investor, our automated digital investing platform. We simplified the account opening process and created a faster and better experience for both new and experienced investors.', 'During the second quarter, we began rolling out Wells Fargo Premier, which provides differentiated products and experiences focused on strengthening and growing our affluent client relationships.', 'We are working towards offering one set of products and services that are tailored to the needs of these customers regardless of where they sit within our individual businesses.', 'We will be rolling out more enhancements in the coming quarters to provide a more compelling offering for Premier clients. We started to roll out overdraft policy changes late in the first quarter, which included the elimination of fees for non-sufficient funds and overdraft protection transactions.', 'Additional changes will be rolled out in the second half of this year, including providing customers who overdraw their account with a 25-hour grace period to cure a negative balance before incurring an overdraft fee, giving early access to eligible direct deposits and providing a new easy short-term credit product.', 'We expect these changes will help millions of consumer customers avoid overdraft fees and meet short-term cash needs, and we continue to review other ways we can help consumers manage their finances.', \"We also continue to invest to better serve our commercial customers. And early in the second quarter, Tim O'Hara joined the Corporate Investment Bank for BlackRock as Head of Banking. Tim's expertise and insights will help us maximize our potential and achieve even greater partnership and strategic dialogue with our corporate and institutional clients, and he complements the strong leadership team in our markets and commercial real estate businesses, who have helped us navigate recent market volatility. We believe we have a significant opportunity to serve our existing commercial customers with corporate and investment banking products in a way that works within our existing risk tolerance.\", 'We also believe that for us to be successful as a company, we must consider a broad set of stakeholders in our decisions and actions. Last week, we announced that Otis Rolley will be joining Wells Fargo from the Rockefeller Foundation as the Head of Social Impact, leading community engagement and enterprise philanthropy, including the Wells Fargo Foundation.', 'We continue to move forward in the area of ESG with the announcement of our 2030 reduction targets for greenhouse gas emissions attributable to financing activities in the oil and gas and power sectors.', 'As homeownership remains out of reach for too many families, we announced an effort to support new home construction, renovation and repair of more than 450 affordable homes across the US in collaboration with Habitat for Humanity and rebuilding together.', 'We also launched our special purpose credit program to help minority homeowners refinance mortgages that Wells Fargo currently services.', 'We continue to support our small business customers through this time of uncertainty, including launching the small business resource Navigator, which connects small business owners to potential financing options and technical assistance through community development financial institutions across the country.', \"We are also helping women entrepreneurs by doubling our support for women-owned businesses through the Connector program with complementary mentorship opportunities. We published our inaugural diversity, equity and inclusion report, which highlights the meaningful positive results we've made on our DE&I initiatives.\", 'For example, in the US, our external hiring of individuals from racially or ethnically diverse populations increased by 27% in 2021 compared to 2020, and approximately one-third of all internally promoted executives last year were racially or ethnically diverse.', \"As I've said in the past, advancing DE&I at Wells Fargo is a long-term commitment, not a project and we continue to pursue many of the initiatives in the report and look for ways to deepen our impact.\", \"Let me just make some summary comments before turning it over to Mike. The Federal Reserve's commitment to an aggressive rate hike cycle as a means to tame high persistent inflation continues to fuel market volatility and is expected to slow the economy, which will impact our consumer and commercial customers. Despite the economic environment, I remain optimistic about our future. Credit quality remains strong, and we expect net interest income growth to continue given rising interest rates which should more than offset any further near-term pressure on non-interest income. We remain on target to achieve a sustainable 10% ROTCE, subject to the same assumptions we've discussed in the past, on a run rate basis in the second half of this year, and then we will discuss our path to 15%. This year's Federal Reserve stress test confirmed our strong capital position and our ability to support our customers and communities while also continuing to return excess capital to shareholders through dividends and common stock repurchases.\", \"As we previously announced, we expect to increase our third quarter common stock dividend by 20% to $0.30 per share, subject to approval by the company's Board of Directors at its regularly scheduled meeting later this month. I will now turn the call over to Mike.\", 'Mike Santomassimo', 'Thanks, Charlie, and good morning, everyone. Net income for the quarter was $3.1 billion or $0.74 per common share, which included strong growth in net interest income as we are beginning to see the positive impact of higher interest rates.', 'Our results included a $576 million impairment of equity securities, predominantly in our venture capital business due to the market conditions, which drove a total loss from equity securities of $615 million in the second quarter. Recall that a year ago, when the markets were strong, our results included $2.7 billion of gains on equity securities.', 'While credit quality remains strong, our results included a $235 million increase in the allowance for credit losses due to loan growth, this follows six consecutive quarterly decreases in the allowance, including $1.1 billion in the first quarter and $1.6 billion a year ago. We highlight capital on Slide 3.', 'Our CET1 ratio was 10.3%, down approximately 20 basis points from the first quarter as declines in AOCI and dividend payments were largely offset by our second quarter earnings.', 'Our CET1 ratio also reflected actions we took to proactively manage our level of capital and risk-weighted assets as well as reduce our AOCI sensitivity by moving more securities the held to maturity and hedging securities in our available-for-sale portfolio.', 'Additionally, we did not buy back any shares in the second quarter. But as Charlie highlighted, the recent stress test results confirmed our capacity to return excess capital to shareholders through dividends and common stock repurchases.', 'We will continue to be prudent and consider current market conditions, including interest rate volatility, potential loan and risk-weighted asset growth as well as any potential economic uncertainty with respect to the amount and timing of share repurchases over the coming quarters.', 'Our 10.3% CET1 ratio remained well above our required regulatory minimum plus buffers.', 'As a reminder, based on the recent federal stress test, our stressed capital buffer for October 1, 2022 to September 30, 2023 is expected to be 3.2%, which would increase our regulatory minimum plus buffers by 10 basis points to 9.2%.', 'Turning to credit quality on Slide 5.', 'Our charge-off ratio remained near historical lows and was only 15 basis points in the second quarter.', 'As we previously discussed, losses are not expected to remain at these low levels and we are closely monitoring our commercial and consumer customers for signs of stress, and we remain very disciplined in our underwriting. Commercial credit performance remained strong across our commercial businesses with only 2 basis points of net charge-offs in the second quarter, which included net recoveries in our commercial real estate portfolio.', 'We also had net recoveries in our consumer real estate portfolios and total consumer net charge-offs declined slightly from the first quarter to 33 basis points of average loans as lower losses in auto and other consumer loans were partially offset by higher credit card losses. Non-performing assets decreased $878 million or 13% from the first quarter. Lower levels of consumer non-accruals were driven by a decline in residential mortgage non-accrual loans due to sustained payment performance of borrowers after exiting COVID-related accommodation programs. Commercial non-accruals continued to decline, and as Charlie highlighted, we are at their lowest levels in over 10 years.', \"Our allowance for credit losses at the end of the second quarter reflected a continued strong credit performance, with an increase that was due to loan growth. On slide 6, we highlight loans and deposits. Average loans grew 8% from a year ago and 3% for the first quarter. Period end loans grew for the fourth consecutive quarter and were up 11% from a year ago, with increases in both our commercial and consumer portfolios. I'll highlight the specific growth ogres when discussing operating segment results. Average loan yields increased 19 basis points from a year ago and 27 basis points from the first quarter, reflecting the benefit of higher rates. Average deposits increased $10 billion or 1% from a year ago, with growth in consumer banking and lending, offsetting declines across our other operating segments. The decline in average deposits from the first quarter reflected seasonality of tax payments as well as outflows from commercial and wealth clients.\", 'Our average deposit cost increased one basis point from the first quarter, driven by corporate and investment banking.', 'As I previously highlighted, we would expect deposit betas to accelerate as rates continue to rise and customer migration from lower yielding to higher yielding deposit products would likely increase as well.', 'Turning to net interest income on slide 7.', 'Second quarter net interest income increased $1.4 billion or 16% from a year ago and $977 million or 11% from the first quarter. The growth from the first quarter was primarily driven by the impact of higher rates, which increased earning asset yields and reduced premium amortization from mortgage backed securities, we also benefit from higher loan balances and one additional day in the quarter. We started the year expecting full year net interest income to grow by approximately 8% compared with 2021. Last quarter, we raised our guidance to an increase in the mid-teens.', 'With the market now expecting not only more rate hikes but also larger ones, we currently expect net interest income in 2022 to increase approximately 20% from 2021. And as a reminder, net interest income will ultimately be driven by a variety of factors, including the magnitude and timing of Fed rate increases, deposit betas and loan growth. On slide 8 and noninterest income.', 'This quarter, noninterest income -- this quarter, we included highlighting noninterest income to show that the decline from both the first quarter and a year ago was primarily driven by two cyclical businesses. Mortgage banking, which has slowed in response to higher interest rates and our affiliated venture capital and private equity businesses, which a year ago generated elevated gains but recognized impairments in the second quarter of this year due to significantly different market conditions.', \"While all other noninterest income included both positive and negative impacts, it was actually up slightly from the first quarter. The decline in all other noninterest income from a year ago was primarily driven by the impact of last year's divestitures.\", 'Turning to expenses on slide 9. Noninterest expense declined 3% from a year ago as expenses related to divestitures came out of the run rate, and we continue to make progress on our efficiency initiatives. Operating losses increased $273 million from a year ago, primarily driven by increased litigation expense, which included a recovery in the second quarter of last year, and higher customer remediation expense predominantly for a variety of historical matters. Customer remediation matters are complex and take a significant amount of time to resolve and quantify the full impact.', \"While we've made progress, we have more to do to resolve the remaining items. We're halfway through the year. And while we've had higher operating losses than we expected, revenue related expenses are trending lower than expected.\", \"Our results in the first half of the year also reflected the progress we're making on our efficiency initiatives with lower headcount and reductions in both professional and outside services expense and occupancy expense.\", 'We expect to continue to make progress on our efficiency initiatives. Putting all these factors together, we still expect our full year 2022 expenses to be approximately $51.5 billion, as lower revenue-related expense is expected to offset higher operating losses. But as a reminder, we have outstanding litigation, regulatory matters and customer remediations and the related expenses could be significant and hard to predict, which could cause us to exceed our $51.5 billion outlook.', 'Turning to our operating segments, starting with Consumer Banking and lending on slide 10. Consumer and Small Business Banking revenue increased 17% from a year ago, driven by the impact of higher interest rates and higher deposit balances.', 'Our deposit pricing has been stable, but we expect deposit betas to increase over time.', 'As Charlie highlighted, the deposit-related fees were impacted by the overdraft policy changes we started to roll out late in the first quarter, which included the elimination of fees for nonsufficient funds and overdraft protection transactions.', \"Additional changes will be rolled out in the second half of this year, which will further reduce deposit-related fees. Home lending revenue declined 53% from a year ago and 35% from the first quarter driven by lower mortgage originations and compressed margins, given the higher rate environment and continued competitive pricing in response to excess capacity in the industry. After increasing over 150 basis points in the first quarter, mortgage rates increased over 100 basis points in the second quarter. The impact of higher rates also reduced revenue from the resecuritization of loans purchased from securitization pools. The mortgage market is expected to remain challenging in the near term, and it's possible that we have a further decline in mortgage banking revenue in the third quarter.\", 'We are making adjustments to reduce expenses in response to lower origination volumes, and we expect these adjustments will continue over the next couple of quarters. Credit card revenue was up 7%, auto revenue increased 5% and personal lending was up 7% from a year ago, primarily due to higher loan balances.', 'Turning to some key business drivers on slide 11.', 'Our mortgage originations declined 10% for the first quarter, with growth in correspondent partially offsetting the decline in retail originations. Refinances as a percentage of total originations declined to 28%. Average home lending loan balances grew 2% for the first quarter, driven by the fourth consecutive quarter of growth in our nonconforming portfolio, which more than offset declines in loans purchased from securitization pools or EPBOs.', 'Turning to auto. Origination volume declined 35% from a year ago and 26% from the first quarter due to increased pricing competition, credit tightening actions and an ongoing industry supply pressures.', 'Turning to debit card.', 'While debit card spend increased 3%, transactions were relatively flat from a year ago, as increases in travel and entertainment were offset by declines in apparel and home improvement. Credit card point-of-sale purchase volume was up 28% from a year ago with the largest increases in fuel travel and entertainment. The increase in point-of-sale volume and the launch of new products helped drive a 19% in credit card -- 19% increase in credit card balances from a year ago, we remain disciplined in our underwriting and new credit card accounts.', 'Turning to Commercial Banking results on slide 12. Middle Market banking revenue increased 27% from a year ago, driven by higher net interest income from the impact of higher rates and loan balances.', 'Asset-based lending and leasing revenue increased 8% from a year ago, driven by higher loan balances. Noninterest expense increased 2% from a year ago, primarily driven by higher operating costs. Efficiency initiatives drove lower personnel expense with headcount down 9% from a year ago. Average loan balances have grown for four consecutive quarters and were up 13% from a year ago. Utilization rates continue to increase, but they are still not back to historical levels. Clients have increased borrowings to rebuild inventory and to support working capital growth, both of which have been impacted by higher inflation.', 'We also had momentum from adding new clients in middle market banking and similar to prior periods, loan growth was driven by the larger clients. Average deposits declined 2% from a year ago driven by actions to manage under the asset cap. Deposit pricing has been relatively stable, but we expect deposit betas will continue to increase.', \"Turning to Corporate and Investment Banking on slide 13. Banking revenue increased 4% from a year ago, primarily driven by stronger treasury management results given the impact of higher interest rates as well as higher loan balances. Investment banking fees declined, reflecting lower market activity and $107 million write-down on unfunded leveraged finance commitments due to the market spread widening. Average loan balances were up 20% from a year ago, with broad-based loan demand driven by a modest increase in utilization rates due to increased working capital needs given inflationary pressures. Commercial real estate revenues grew 5% from a year ago, driven by loan growth and higher interest rates. Average loan balances were up 22% from a year ago with the disruption in the capital markets, increasing demand for bank financing and line utilization. Markets revenue increased 11% from a year ago, primarily due to higher foreign exchange and commodities trading revenue as clients position themselves for rising rates, quantitative tightening and growing recessionary concerns as well as higher equities trading. Average deposits in Corporate and Investment Banking were down 14% from a year ago, driven by continued actions to manage under the asset cap. There's been more deposit pricing pressure in corporate banking than we've seen in Commercial Banking. On slide 14, Wealth and Investment Management revenue grew 5% from a year ago as the increase in net interest income due to the impact of higher rates and higher loan balances more than offset the declines in asset-based fees, driven by lower market valuations as well as lower retail brokerage transaction activity.\", 'As a reminder, the majority of WIM advisory assets are priced at the beginning of the quarter, so second quarter results reflected market valuations as of April 1st, and third quarter results will reflect the lower market valuations as of July 1st. The S&P 500 and fixed income indices declined again in the second quarter and approximately two-thirds of our advisory assets are in equities.', 'So, there will be another step down in our asset-based fees next quarter. Average loans increased 5% from a year ago, driven by continued momentum in securities-based lending. Average deposits declined 1% from a year ago and were down 7% from the first quarter as clients reallocate cash into higher yielding alternatives. Deposit pricing increased modestly. Slide 15 highlights our corporate results. Both revenues and expenses declined from a year ago and were impacted by the divestitures of our Corporate Trust Services business and Wells Fargo Asset Management and the sale of our student loan portfolio. These businesses contributed $580 million of revenue in the second quarter of 2021, including the gain on the sale of our student loan portfolio, and they accounted for approximately $375 million of the decline in expenses in the second quarter compared with a year ago, including the goodwill write-down associated with the sale of our student loan portfolio. The decline in revenue in corporate was also due to lower equity gains in our affiliated venture capital and private equity businesses. In summary, while our net income in the second quarter declined driven by lower venture capital and mortgage banking results, our underlying trends reflected our improving earnings capacity with expenses declining and strong net interest income growth from rising rates and higher loan balances.', 'As we look ahead to the second half of the year, we expect the growth in net interest income to more than offset any further pressure on non-interest income.', 'While we expect credit losses to increase from historically low levels, our consumer and commercial customers are not showing any meaningful signs of stress.', 'As I highlighted earlier, our expense outlook for the year is unchanged at approximately $51.5 billion subject to the risk to the outlook discussed earlier.', 'Finally, our stress test results demonstrated our capacity to return excess capital to shareholders, including the expected 20% increase in our third quarter common stock dividend subject to board approval.', 'We will now take your questions.', 'Operator', 'At this time, we will now begin the question-and-answer session. [Operator Instructions] And our first question today will come from Ken Usdin of Jefferies.', 'Your line is open, sir.', 'Ken Usdin', 'Thanks. Good morning guys. I appreciate the continuity of the expense guide and also the potential variability. Mike, I was just wondering if you could expand on that. Obviously, the operating losses are hanging higher this year than they had been.', 'So just wondering how you start to get a sense of what those look like going forward? And then also just the underlying, as you mentioned, coming in better because of revenue, just any sense of all just how your net saves are looking underneath the surface as well. Thank you.', 'Mike Santomassimo', 'Yes. Hey, thanks, Ken.', \"First, I'd start with the efficiency program that we've been talking about now for the better part of 1.5 years. And all of that's tracking as we thought it would.\", \"So the core, driving kind of efficiency through the core business lines and operating groups is sort of working the way we thought. When you look at what's happened this year, as you pointed out, operating losses are higher than what we assumed at the beginning of the year. And those things just can be unpredictable at times just as we work through the backlog of items.\", \"You know the accounting standard we work with, right? If we knew about something now, we would accrue for it. If we could estimate it, we would accrue for it. But we're just flagging -- continuing the flag that we still have a pipeline of stuff to work through. And then as you highlighted, as we think about this year, the increases in the operating loss line have been offset by -- largely offset by the lower revenue-related expenses.\", \"And so we still feel good about that $51.5 billion number that we set out at the beginning of the year. And we're going to continue to work through the pipeline of items. And if something is significant in tops, we will be sure to highlight it as we go forward.\", 'Ken Usdin', \"Yes. And as a follow-up, I know as you guys talked through the recent confer season, it's hard to get a crystal ball with so many moving parts as you think about 2023, but can you just help us try to at least start to think through some of the pushes and takes and can you continue to push us towards getting costs down next year? Thanks guys.\", 'Charlie Scharf', 'Hey, Ken, this is Charlie.', \"Let me take that. The way we think about it is as we sit and look towards next year, we certainly know we have some increases to contend with, such as the full year impact of inflationary pressures that we see this year. And we know we've got some increases in FDIC insurance premiums. But as we start thinking about next year, and we really just starting the budget process, our mindset going into it is that we have significant opportunities to become more efficient. We've been – and it's just more of the same in terms of what we've been talking about. And this has nothing to do with getting efficiencies out of the risk-related work it assumes that all of that investment continues. But we do go into this process with the expectation that we want to see net expense reductions.\", \"Now, just usual caveats that excludes revenue-related expenses, which could go up or some of this – the lumpiness that we've talked about, just as we think – but as we think about that core expense base, we do continue to see opportunities, and we'd like you to see it as well.\", 'Operator', 'Thank you. The next question comes from John McDonald of Autonomous Research.', 'Your line is open.', 'John McDonald', \"Hi. Good morning, guy. I wanted to ask about capital. It looks like you're entering next quarter with over 100 basis points buffer to your pro forma reg minimums. How should we think about where you'll manage capital to and your potential buyback capacity going forward? And given that you paused for SCB partly because of SCB uncertainty. Will you get to some level of buybacks likely moving forward here? Thank you.\", 'Charlie Scharf', \"Yeah. Hey, John, it's Charlie. Why don't I start and then Mike can chime in. Yeah. I mean, I think your – no question, we – clarity of SCB for us at this point does really help.\", \"As we sit here today and we look at what's happening in spreads and what's happening with the 10 year that was at 292 right now. But we do want to be all but just conservative in terms of how we think about managing the capital base.\", \"So just to be – I think to be clear, as we sit here today, we're very happy with the amount of capital that we have, including, as we think about that 10 basis points increase that will impact us. We certainly have capacity to buy shares back at this point. And as I think Mike alluded to, we just probably want to wait a little bit just to see what happens in terms of the volatility in spreads and rates before we start to do that. But we certainly at a point, we'll do it. We'll just see exactly when that is.\", 'Mike Santomassimo', \"Yeah. Maybe I'll just add one or two things, John.\", 'I think as Charlie highlighted, we feel good about where we are. I would just point out, we are not – our G-SIB score is going to stay the same as we go into next year as well.', \"So we don't have another uptick as we go into the beginning of next year.\", \"So that's good. And at this point, we don't feel like we need to build capital from where we are to build a bigger buffer and then we'll just be prudent on buybacks as we go through, and through the next few quarters.\", 'John McDonald', \"Okay. And Mike, maybe I can ask a follow-up on the NII revised outlook. What kind of cadence do you see between the next two quarters? It seems like you'd have a big step-up both this coming quarter and the third quarter and then again in the fourth? And then within that NII equation, if you still have this funding gap between loan growth being very strong and deposit growth slowing, is there still plenty of cash to fund the loan growth? Thank you.\", 'Mike Santomassimo', 'Yeah. Sure.', 'I think, ultimately, the exact progression over the next couple of quarters will be a function of how the Fed moves on rates. But I would think of it as somewhat of a ratable step up quarter-to-quarter.', \"So not -- you won't see some outsized results in one versus the other as we go. And you'll continue to see a little bit of loan growth come through. We think that probably moderates a little bit from what we saw in the first half of the year, but you'll see some loan growth there as well as it steps up. And as you say, I think the industry has seen deposits come down a little bit.\", 'If you look at the latest version of the Fed data, and you can see that in our results as well.', \"Now for us, it's been a little bit of -- you can see the period end balances in each of the segments, and it's been a little bit of reduction in each of them with the lowest percent reduction being in the consumer space.\", \"So that's a good thing. And as you know, we -- over the last couple of years, we've brought down much of our wholesale funding that we've got out there.\", \"And so we've got plenty of capacity to provide liquidity or get the liquidity we need to continue to support clients.\", 'John McDonald', 'So that loan growth funding is coming from your cash balances and other sources of liquidity that you have?', 'Mike Santomassimo', 'Yes. Exactly.', 'John McDonald', 'Okay. Thanks.', 'Operator', 'Thank you. The next question comes from Steven Chubak of Wolfe Research.', 'Your line is open, sir.', 'Steven Chubak', 'Hey, good morning.', \"So I wanted to start off with a question just clarifying some of the NII guidance. Mike, because you noted that it's a ratable step up and it imply – the guidance implies about a $12 billion run rate, at least in the back half for NII on an FTE basis. Is it reasonable for us to assume or expect that the exit rate for the year is going to be north of $50 billion? I just want to make sure I clarify that.\", 'Mike Santomassimo', \"Well, Steve, I know you're really good at modeling this stuff.\", \"So I'll let you do the modeling. But I think as you pointed out, we're going to see step ups, right, as we go through the next -- as we did this quarter from last quarter. And that will continue into the third and fourth quarter. And now exactly what -- it's hard to use one quarter, as you know, it's just run rate for the rest of the -- for the following year. But certainly, the exit rate is going to be a lot higher than even where we are today. And then we'll have to just see what the environment is like at that point how to think about whether that's a clean run rate to build off of, or are there other things they're getting away. And as you can see, over the last -- even over the last three, four, five, six weeks, whatever it's been, the amount of volatility that's out there on the long end and what happens with loan growth, does it keep at the same pace.\", \"And so there's a lot of factors, I think, that go into what 2023 would look. But as you pointed out, our exit rate will be pretty healthy.\", 'Steven Chubak', 'Thanks. Mike, and just for one follow-up also on the NII guide.', \"Just wanted to get a better sense as to what's being contemplated in terms of deposit paydown, the deposit paydown and repricing just came in much better than beers this quarter.\", \"You've cited the benefits of the deposit and funding optimization you've executed these past few years.\", \"Just wanted to get a sense of how you're thinking about that deposit trajectory that's underpinning some of the NII guidance.\", 'Mike Santomassimo', \"Yes. I mean I think that's -- we're not expecting balances to grow much from where they are. And I think we'll see what happens as -- if we see continued outflows of deposits, but as you put it out, like our mix of deposits as we came in this environment sets us up pretty well, and you can see that in the results so far where the consumer deposits are a much bigger percentage of the overall pod than they were just a couple of years ago.\", \"As you think about beta, so far, they've basically progressed as we thought in each of the segments.\", \"And so we really haven't seen much variation to what we thought at this point in the rate cycle.\", \"Now if the Fed does raise rates 75 basis points at the next meeting, now you're starting to get into territory that we didn't see in the last rate cycle -- rate rising cycle.\", \"And so we're going to start to see betas increase from there. And I think that's exactly at what pace and where you need to be defensive or not on the wholesale side of the -- on the commercial side, we'll see, and we're pretty nimble and are able to react to it. But so far, everything has progressed as we thought it would.\", \"And so we're going to keep a pretty close eye on it as we go over the next few months. And I think that will -- this quarter and into the fourth quarter, I think, will give us a lot of interesting data points to know how to think about it over a longer period of time.\", 'Steven Chubak', 'Great color. Thanks for taking my questions.', 'Operator', 'Thank you.', 'Our next question comes from Scott Siefers of Piper Sandler.', 'Your line is open.', 'Scott Siefers', 'Good morning guys. Thank you for taking the question.', 'Just as it relates to revenues overall, the NII trajectory, obviously, quite strong and in a sense seems mostly self-evident for now. But I was hoping, Mike, you could discuss, please, fee trajectory in a bit more detail. I guess, where hovering in a $7 billion or $7.5 billion a quarter range if we exclude some of that noise from the equity marks, the securities games, et cetera. In your mind, are we at a low and can we grow from that base? I know you touched on mortgage, maybe coming down and then without wealth, but just sort of puts and takes as you see that, if you could, please?', 'Mike Santomassimo', \"Yeah, sure. Thanks, Scott. I'll just bring you through some of the key fee lines just to give you a sense of some of the dynamics, right? So on the deposit side, it's been pretty -- we saw a step down in the quarter, largely a result of the changes we made in overdraft fees. We'll see a little bit more step down as we go through the year, probably more a fourth quarter thing than a third quarter thing, as we implement the additional changes there, but there's -- other than that, there's a lot of stability generally to that line based on underlying activity. We'll see what happens in the market and how that drives the investment advisory and asset based fee line. That's -- it's going to be key to see what happens in the equity and the fixed income markets. And as we bring more stability enters into the market that really supports that fee line. And as you know that’s our single biggest line item as you look at that fees. Investment banking. It's really going to be market driven, but we -- our fees were pretty low, including the small mark that we had on -- in leveraged finance.\", \"And so it's hard to see that going too much lower, but that's really going to be driven by the activity levels. Card spend, we're seeing still good, although it slowed maybe a little in May and June. We're still seeing really good activity in the card space and people are outspending.\", \"So that's helpful. Mortgage banking, as you highlighted, I think, is likely going to come down a little more in the third quarter, but it's off a much smaller base.\", \"You can still have pretty big -- you can have decent sized percentage declines there, but it's still -- it's really small dollars at this point. And then we'll see as the market progresses and how that impacts the equity security side. But -- so I think hopefully, we're getting more stability here, but some of it will be dependent upon what we see in the markets.\", 'Scott Siefers', \"All right. That's perfect. Thank you very much. And if I could switch gears just a bit back to CCAR and the SCB, I guess, it's possible I had sort of misinterpreted your guys' remarks over the last few quarters. But I sort of felt like you guys were maybe prepping us for possibly somewhat worse outcome in terms of where the SCB would flush out. In your mind, how did that CCAR and the -- that SCB, just because it barely budged, right? So how did that all flush out relative to what you guys have kind of been anticipating?\", 'Charlie Scharf', 'Yes. What we said a couple of times was that we thought it was possible that it was going to increase, and it did.', 'Now you have to keep in mind, like we only have so much visibility into the underlying drivers of what causes it to go up or down in any given year.', \"Now there's a lot of stuff that's public, but there's also a lot of a lot of the modeling techniques that are quite easy to understand.\", 'And so, I would say we were pleased with the result, and we spent -- as many do probably, we spend a lot of time on trying to understand the drivers of the risk of the balance sheet and do our best to have positioned ourselves for -- toward the outcomes.', 'And so, we were pleased that’s working out.', 'Scott Siefers', 'Okay. All right. Perfect. Thank you guys very much. I appreciate it.', 'Operator', 'Thank you. The next question comes from John Pancari of Evercore ISI.', 'Your line is open.', 'John Pancari', 'Good morning.', 'Charlie Scharf', 'Hey, John. Good morning.', 'John Pancari', 'Just on the deposit front, just to go back to that.', 'Just want to confirm.', 'So from you’re your best estimate now is to overall deposit balances are relatively stable in the back half of the year. Or do you think you could see some incremental declines, just as betas are rising?', 'Mike Santomassimo', 'I think you can certainly see a little bit more decline from here potentially.', 'I think that’s not an unreasonable expectation. Exactly timing and how that’s going to progress, I think, is hard to predict with any real degree of accuracy, just given the environment we’re in right now. But I think it’s possible, they can be out a little bit more here.', 'John Pancari', \"Okay. All right. Thanks, Mike. And then on the credit front, I wanted to get your thoughts on the likelihood of reserve bill. I know you added to the reserve for loan growth this quarter, but -- in terms of an overall build of the reserve as you -- from a CECL perspective, as you look at your economic scenarios, where do you see this quarter with your CECL scenarios that didn't warrant a sizable build? And I guess, longer term, as this plays out and we see the Fed continue with the tightening, what do you view as a potential level that you may have to bring to reserve to as a pandemic level too high and you can help us with the magnitude there?\", 'Charlie Scharf', \"Well, as you think about the process we go through, which I think is similar to most in a lot of ways, is you're really looking at a number of scenarios that you need to be thoughtful about and include in your modeling. And we've now, for a number of quarters in a row, have had a significant weighting on the downside scenario already.\", \"And some of those scenarios are pretty severe, right? And so you've got waitings on what some might term wild recession, more severe recessions, so you could create a lot of labels for them. But it's a number of scenarios that have different severities of downside.\", \"And so, we feel at this point that we've captured what we can look at and see or anticipate at this point based on all the factors that we need to evaluate in our current reserves. And I'll just point out also, as you look at us in the position we're in, yes, we didn't take down all of the reserves that we put up during COVID.\", \"And so as you sort of look through each of the underlying asset classes, we feel what we have today is appropriate. It's hard to see in the near term increasing them to the level that we had back in the pandemic. But I think that's a hard thing to see at this point. But I think we'll have to make sure as things evolve throughout the next couple of quarters. we'll have to incorporate that. But again, we already have a pretty significant weighting on those downside scenarios already. And it's a very -- as you would imagine, a very robust conversation that we go through each quarter to evaluate how we feel about it. And at this point, we feel it's appropriate for what we can see over the life of those loans.\", 'Scott Siefers', 'Got it. All right. One more related to on credit quickly. The $170 million write-down in unfunded leverage finance commitments, that you took. Is there a risk of future marks there? Is that primarily just predicated on market spreads? And then separately, what is your -- can you remind us what your total leveraged loan exposure both in terms of commitments and outright outstandings?', 'Mike Santomassimo', \"Yes, we don't -- you got to think of these as unfunded commitments, not funded, right? So, as you sort of think about them, don't think about them outstanding, thinking about them as unfunded commitments, number one. And you really have to, over time, think about term loans versus high yield a little bit differently. And on the high-yield side, we don't disclose this, but we haven't disclosed the actual number, but it's really small in the scheme of the balance sheet and the term loan side, which generally has a little bit more stability to it and less volatility to it is the bigger part. All these deals are subject to further spread widening, given the environment we're in, for sure. We -- at the end of the quarter, took our best -- used our best judgment to market where we thought the deals would clear. And we'll see how that over the coming months.\", 'Scott Siefers', 'Okay, great. Thanks Mike.', 'Operator', 'Thank you. The next question comes from Erika Najarian of UBS.', 'Your line is open.', 'Erika Najarian', \"Hi, good morning. I just had 1 more follow-up question. And Mike, I apologize if this is the umpteenth question on NII. I appreciate all your color in terms of what's driving the NII guide of 20%. I was wondering if you could better quantify the deposit beta that you would expect by year-end on a cumulative basis. Appreciate that you said it would accelerate. But given that some of your peers have given specific guides and given how much the quality of your deposit base has changed for the better over the past several years, I'm wondering if you could give us a sense of what that beta range that you're assuming by year-end on a cumulative basis that underpins that guide?\", 'Charlie Scharf', \"Yes. Yes, Erika, I think that's a really hard thing to give a pinpoint number on at this point in the cycle, to be honest with you. And if you think about -- and it's -- there's so many moving pieces right now, I think, between -- particularly as you sort of get to year-end and the pace of rates? And what exactly is the Fed going to do and when are they going to do it? And so I think there's a lot that goes into that, that trying to get a -- one number is a hard thing to say with a lot of confidence in my view.\", \"I think what we can say though is as you look at the next couple of rate rises, I think you're going to start to see more acceleration.\", \"On the retail and the consumer side, the core -- deposit core rates haven't changed much for the big banks at this point yet.\", \"So you'll start to see that happen over the next couple of rate rises, the betas will still be pretty small.\", \"However, that will start to pick up just depending on how fast the Fed goes by year-end. And then I think on the other side of the spectrum on the corporate investment bank and those deposits, whether it's in the FI space or the large corporate space, you're seeing those betas pick up a lot already.\", 'So those will continue to accelerate.', \"And so when you look at cumulative betas, you really have to look at and you start to compare different banks, you're really going to have to look at the mix of the deposits. And the CIB deposits are just a much smaller piece of the pie for us right now. And those are going to -- those will probably move faster than even we've modeled, but it's a small piece of it.\", \"So I think we'll see how it goes, and we'll give you as much insight as we can. But I think trying to predict cumulative betas by year-end is hard.\", 'Erika Najarian', 'Got it. I understand. Thanks so much.', 'Operator', 'Thank you. The next question comes from Ebrahim Poonawala.', 'Your line is open.', 'Ebrahim Poonawala', 'Hey, good morning.', 'Operator', 'Band of America.', 'Ebrahim Poonawala', 'Good morning.', 'Just following up on that, Mike.', \"So I appreciate you don't want to get pinned down on deposit beta, but is it fair for us to assume just given mix shift in deposits given how you manage the balance sheet during the pandemic, we should see your deposit beta at least track in line or maybe even lower relative to the last rate cycle?\", 'Mike Santomassimo', \"Well, I think we've -- as you think about each asset, each type of deposit, to-date, they're tracking pretty close to what we saw last cycle. But you then look at the mix of our deposit base, and that's what's changed pretty substantially since the last go around.\", \"And so if beta stayed the same as last cycle byproduct, given our mix has changed, you would see a lower average deposit beta. But there's a lot to play out as we go through the rest of the year, but in each of the underlying products.\", 'Ebrahim Poonawala', \"That's fair. I just wanted to make sure we weren't missing something because there are peers who probably are expecting a higher beta than last cycle.\", \"So I just wanted to hear you talk through that. And as a follow-up, and I know these are extremely tough in terms of when you think about the market, private market valuations on your equity investments. But give us a sense of just where the markets are in terms of taking these markdowns, should we anticipate some more negative marks in a world where there's no big turnaround in equity markets over the next few quarters. I just want to make sure like expectations are level set for that line and how that impacts fees and PPNR?\", 'Mike Santomassimo', 'Yes. Sure. Look, and again, it really all depends on what happens in the public equity markets, which is in part driving those declines.', \"So if we see some stabilization, that's constructive. If we see much deeper declines, that's we'll have to evaluate how that impacts these portfolio investments. And obviously, if the market starts to rally, that's even more constructive.\", \"So I think the public equity markets and will be a good guide to how to think about whether or not we have to evaluate whether there's more reductions here or not.\", 'Ebrahim Poonawala', \"Got it. And it looks like we're tracking to a 15% drop, say, maybe by the end of the year? That was a statement. I didn't expect you to respond. Thanks for taking my questions.\", 'Charlie Scharf', \"No problem. I'm glad you made it rhetorical.\", 'Operator', 'Thank you. The next question comes from Gerard Cassidy of RBC Capital Markets.', 'Your line is open.', 'Gerard Cassidy', 'Thank you. Good morning, Charlie. Good morning, Mike. Mike, can you give us some color on you guys had some good success in the quarter in generating gains from your trading activities and your debt securities. Can you just share with us what drove that and what your expectations might be in the next quarter or two?', 'Mike Santomassimo', 'Yeah. I mean, on the training side, it was really good performance in our macro fixed income businesses, commodities, FX, a little bit of rates.', \"And so I think that's all what contributed to it. And we'll see, obviously, the continued performance, there is subject to what we see happening in the markets. It's not – we're not out there taking any kind of incremental risk that we normally take. It's really helping clients facilitate the flow that they've got there, and so we'll see how that goes. And as you can see, it's a relatively smaller number for us versus maybe some others.\", \"As you think about the securities portfolio, I wouldn't assume, there'll be continued gains there.\", 'I think we did do a small, small remixing of our securities portfolio.', 'Some of it was RWA.', 'Some of it was RWA optimization I think selling some UMBS is buying Ginnies that where spreads were pretty tight at the time we did it.', \"You save an RWA you don't give up much yield. And there are a few other minor optimizations we did there.\", 'Gerard Cassidy', \"Very good. And then as a follow-up question, when it comes to your professional and outside services expenses, can you frame out for us how much of that is tie to – your current working with the regulators to lift the asset cap in the cease and desist order. When that day eventually arrives? Will the professional and outside services numbers really have a kind of meaningful downward move, because you've resolved that issue?\", 'Charlie Scharf', 'This is Charlie.', \"Let me take a shot at this first. Listen, I think we have the work we're doing on all of the risk and infrastructure work, which supports the regulatory matters. It's our own headcount. It's professional. It's a bunch of technology work. It really cuts across a whole series of lines. And I just don't really think it's the right time for us to start even talking about where those saves could come from. And it's just genuinely not on a radar screen in terms of what we're thinking about where it's going to go or anything like that.\", \"So I'd rather just defer the question at this point.\", 'Gerard Cassidy', 'No problem. Understood. And then, Mike, just coming back to your comment about the mix of deposits, and this is a rhetorical question as well.', \"As we see for the first time in 15 years, consumer deposits in a higher rate environment, we'll make guys like you guys stand out maybe over some of your peers.\", 'So, good luck with that.', 'Charlie Scharf', 'Thanks, Gerard.', 'Operator', 'Thank you. The next question will come from Betsy Graseck of Morgan Stanley.', 'Your line is open.', 'Betsy Graseck', 'Hey, good morning.', 'Charlie Scharf', 'Hey, Betsy.', 'Mike Santomassimo', 'Hi, Betsy.', 'Betsy Graseck', \"Charlie, I think you recently mentioned that you're in the process of strategically thinking about where mortgage fits in. And I guess I wanted to understand, what kind of framework you're assessing mortgage under. What you're thinking about that?\", 'Charlie Scharf', \"Sure. Yes. And that was, by the way, not meant to be a new comment. That's something that we've been doing ever since I got here, and we brought a new management, including Kristy Fercho, who runs the business. And I mean, if you just go back and look at how big we were in the mortgage business, we were a hell of a lot bigger than we are today.\", \"And so we have been all along just reassessing what makes sense for us to do, how big we want to be both in the context of what our focus should be in terms of our primary focus should be on service -- serving our own customer base -- and then to the extent that we have efficiencies, would it makes sense for us to do other business. But I guess my point was we're not interested in being extraordinarily large in the mortgage business just for the sake of being in the mortgage business. We're in the home lending business because we think home lending is an important product for us to talk to our customers about. And that will ultimately dictate the appropriate size of it.\", \"And so I would just -- when you look at how much we're originating versus the size of our servicing business. The servicing business over time will become smaller. And I think that's a smart and good thing for us for many reasons. And as I said, we're just going to -- we're going to focus on products that make sense for us in the context of where we can make money over the cycles, given all of the complexities and all the requirements that banks have that not necessarily everyone else have and make sure we're getting the right returns for it.\", 'Betsy Graseck', 'Yes.', \"So is this a migration towards originate and retain and the mortgage servicing line goes away as an income statement item because it becomes non-material, or is there some middle ground that you're looking to?\", 'Charlie Scharf', \"No, yes. No, I would -- I mean, listen, we're still -- I would still assume that a substantial amount of our mortgage production would be eligible for sale. And whether it's through the agencies or through public market, that's all options that we want to continue.\", \"And so we'll still be originating mortgages across the spectrum, some of which will keep on balance sheet when it makes sense and others of which we'll sell, and we will have an MSR. Again, if you just look at how much we originated historically versus what we're originating today, it will naturally just come down over time.\", 'Betsy Graseck', 'Then two other questions. One, I think you recently announced a change in your consumer head. Could you speak through rationale for that? And what the wish list is for your new head of consumer?', 'Charlie Scharf', 'Yes.', \"So Mike Weinbach, who had come in to run our home lending businesses. Put a whole series of things in place, including if you look at the leadership across all of our card business, our home lending business, our personal lending business in our auto business, all those -- that's an entirely new management team, plus new heads of -- I can go through all the other functions as well. And Mike put that in place, and we talked about it and he wanted to do something different.\", \"And so we're lucky enough to have a gentleman named Kleber Santos, who joined us 1.5 years to two years ago. Background he was a Capital One prior to that and McKinsey prior to that, and Kelber and I have worked extremely closely together and just thrilled to have him in that role.\", \"And so I think I wouldn't expect to see significant changes in the things that we've spoken about. We're focused on continuing the product build-out on the credit card side, again, focusing on customers that are broader customers in the franchise. Building our customer service around that and building out our digital capabilities and all the other parts of the business, which is work that we have underway.\", \"So I don't anticipate any material changes from where we are just with continued trends and the things that we've been talking about.\", 'Betsy Graseck', \"Great. And then just lastly on wealth. It's an important part of your offering. I'm wondering what you're doing to strategically enhance that offering to your clients, be it either through product or how you're structured integration with consumer, your IT platform and solutions. Could you just give us a couple of bullet points on what's going on there?\", 'Charlie Scharf', 'Sure.', \"Let me start, Mike. And Mike and I are both very involved in these conversations with Barry and his team I think if you look at our wealth business, it's run entirely different today than it was several years ago. We had separate platforms historically here between our brokerage business. We had two different private banks that operated under two different brands. We had our bank channel. And then completely separately, we had a digital platform, and we had a platform or advisers that wanted to go independent. The digital platforms and the platform for independent advisers had very little investment in it. And those would run -- but all of those businesses, they were run as separate businesses with separate product platforms and separate technology.\", \"And so what we've done is we now have one set of products and service capabilities that all of those product lines have access to. And we've combined the entire field under one leader. And we're investing in our digital capabilities, and we're investing in the capabilities of those that want to go independent.\", 'So if they want to do that, they can stay here as opposed to elsewhere.', \"We are building out capabilities across all the dimensions from the investment capabilities to the banking capabilities, our lending capabilities, offering trust in the other areas of distribution that didn't have access to those in the past.\", \"And so it's a huge set of changes, which also bring with it a set of changes in the back end, which we're going to move -- we're moving towards common platforms. And it's something we're really excited about, and we're just at the beginning of seeing the benefits of it. And I think it's one of the things that will make us appear to -- for our financial advisers, it’s been extremely attractive place to be, whether they want to be an employee and work for Wells Fargo or they want to be independent and access our capabilities.\", 'Betsy Graseck', \"And that changed to moving to common platforms. What's the timing of that?\", 'Mike Santomassimo', \"Yeah. It's not a technology move.\", \"I think he's talking about platforms in terms of the overall sort of the way we operate business.\", \"So there isn't -- it isn't dependent upon a big technology conversion, Betsy.\", \"So -- and then I would just highlight one last thing. Charlie in his prepared remarks, talked about Wells Fargo Premier. That's step one in really helping provide more differentiated and holistic service offering to our affluent clients in the consumer business and the Wealth piece is going to be big part of that. And we already have 1,500 plus advisers in the branch system to do. We already have a great investment platform.\", \"And so we're in the early days, but building out a differentiated service offering there as well, which will be a big part of the wealth businesses going forward.\", 'Betsy Graseck', \"Okay. And that's in conjunction with consumer business.\", 'Mike Santomassimo', 'Correct.', 'Charlie Scharf', \"Yes. I would say -- yes, just not expand even further, Betsy. It's really a combination of the advisers and the products that Berry has to offer in our wealth management business. It is also leveraging the lending products that Clover is now responsible for, including credit card and including mortgage and potentially, auto and some other things there. In integrated offering with Mary's bank customers who are affluent.\", \"So it's an offering across all of our product sets directed in a much more segmented way than we've ever done in the past.\", \"And so we're extremely excited about it, and we'll be talking more about things that were capabilities that were going to be rolling out throughout the year.\", 'Betsy Graseck', 'Great. Thank you.', 'Charlie Scharf', 'Thanks.', 'Operator', 'Thank you. The next question comes from Vivek Juneja of JPMorgan.', 'Your line is open.', 'Vivek Juneja', 'Thanks for taking my questions. Charlie, I just wanted to follow-up on your question -- your comment about loan growth likely to moderate from the first half? Any color on that? What do you think drives that moderation? Which categories?', 'Mike Santomassimo', \"Hey, Vivek, it's Mike. I'll -- maybe I'll take a shot at that. Look, we've just seen -- I just don't think what we've seen in the second quarter will continue to happen at the same pace. We may get surprised and it will be a little better than we think. But I think at some point, we just feel, as you look at any of the uncertainty that might be there or other factors that are causing clients that use their lines today that just may moderate as we go through it. I wouldn't look at it as some big warning of anything to come. It's just we're being a little -- we're being a little prudent in terms of the way we think about that growth rate and maybe we'll be surprised on the upside a little, but it's just what we're seeing right now.\", 'Vivek Juneja', \"So you're not seeing any signs like sort of late in the quarter, I think, already starting to show some slowdown or some conversations with clients that are indicating that? Is that…\", 'Mike Santomassimo', \"Not that I would say are super significant at this point. But when you go category-by-category and say, okay, well, spending in the card space continue to increase at the same pace given some of the uncertainty in the economic environment, we'll see maybe commercial real estate, certainly, given what we're seeing in the real estate market there, that appears like it will slow down a little bit again in the second half of the year.\", \"Somewhat driven by what we're seeing in the capital markets side of that business as well.\", \"And so with the slowdown in deals happening and rates rising, that's just as a natural slowdown there.\", \"And so I just think you go asset class by asset class, it just feels as though we'll see a little bit of moderation as we go through the rest of the year.\", 'Vivek Juneja', 'Okay. And one minor one, Mike, for you, the hung loan loss number that you gave us, was it a gross mark or is it net of fees?', 'Mike Santomassimo', 'The loan -- the leveraged finance one, Vivek?', 'Vivek Juneja', 'Yes. Yes.', 'Mike Santomassimo', \"That's after fees.\", 'Vivek Juneja', \"That's after fees.\", 'Okay.', \"So then what's the gross mark on that?\", 'Mike Santomassimo', \"I don't have the exact number in front of me. It's not materially different.\", 'Vivek Juneja', 'Okay. All right. Thank you.', 'Operator', 'Thank you.', \"We have time for one more question today, and that will come from Matt O'Connor of Deutsche Bank.\", 'Your line is open sir.', \"Matt O'Connor\", 'Hi, I was wondering if you could remind us the targeted customer within credit card as you lean into that business? And do you think about maybe slowing from the expansion plans there, just given all the recession talking?', 'Charlie Scharf', 'Yes. This is Charlie, Matt.', \"First of all, our targeted customer, those that we want to have a broader relationship with. What we have said is that as we've rolled out this new product set, when you look at the credit quality of the borrowers and the spenders that we have been giving our new cards due to the credit quality is actually stronger than it had been historically. And it still is either on target or stronger than we would have modeled for when we rolled the products out. It's just we're not competing on credit terms. We're not competing in any way, shape or form in terms of that. We just want to have a quality offering, we would expect it to be a high-quality card customer that we can do other things with across our franchise.\", \"Matt O'Connor\", \"And just any disclosure on FICO scores in terms of either the overall portfolio or the customer that you're growing are leading into?\", 'Charlie Scharf', 'Yes, I think you can get some of that in the Q, Matt, you got to go a little deep into the queue, but you can get some of that in the distribution table in the Q.', \"Matt O'Connor\", \"Okay. I'll look for it there. Thanks.\", 'Charlie Scharf', 'All right, everyone. Thank you very much. We appreciate everything and we look forward to talking to you all. Take care.', 'Operator', \"Thank you all for your participation on today's conference call. At this time, all parties may disconnect.\"]\n",
            "377\n"
          ]
        }
      ]
    },
    {
      "cell_type": "code",
      "source": [
        "topic_model_wells_fargo = BERTopic()\n",
        "topics_custom, probs_custom = topic_model_wells_fargo.fit_transform(clean_string)"
      ],
      "metadata": {
        "id": "7IkwkuKaGI9g"
      },
      "execution_count": null,
      "outputs": []
    },
    {
      "cell_type": "code",
      "source": [
        "topic_model_wells_fargo.get_topic_info()"
      ],
      "metadata": {
        "colab": {
          "base_uri": "https://localhost:8080/",
          "height": 363
        },
        "id": "Zvv1mINoGc3p",
        "outputId": "960b919e-b2d7-4eb0-84bb-8c733e847fa9"
      },
      "execution_count": null,
      "outputs": [
        {
          "output_type": "execute_result",
          "data": {
            "text/plain": [
              "   Topic  Count                                          Name\n",
              "0     -1     20             -1_juneja_vivek_ebrahim_poonawala\n",
              "1      0    208                               0_the_and_to_of\n",
              "2      1     39                   1_thanks_good_thank_morning\n",
              "3      2     23                     2_charlie_scharf_yeah_hey\n",
              "4      3     21                         3_santomassimo_mike__\n",
              "5      4     18                4_betsy_graseck_question_thank\n",
              "6      5     15  5_operator_jefferies_questionandanswer_begin\n",
              "7      6     12                  6_siefers_scott_matt_oconnor\n",
              "8      7     11                           7_open_line_your_is\n",
              "9      8     10                 8_john_mcdonald_chubak_steven"
            ],
            "text/html": [
              "\n",
              "  <div id=\"df-d729c2a5-69b9-4421-b18d-b879a222acb2\">\n",
              "    <div class=\"colab-df-container\">\n",
              "      <div>\n",
              "<style scoped>\n",
              "    .dataframe tbody tr th:only-of-type {\n",
              "        vertical-align: middle;\n",
              "    }\n",
              "\n",
              "    .dataframe tbody tr th {\n",
              "        vertical-align: top;\n",
              "    }\n",
              "\n",
              "    .dataframe thead th {\n",
              "        text-align: right;\n",
              "    }\n",
              "</style>\n",
              "<table border=\"1\" class=\"dataframe\">\n",
              "  <thead>\n",
              "    <tr style=\"text-align: right;\">\n",
              "      <th></th>\n",
              "      <th>Topic</th>\n",
              "      <th>Count</th>\n",
              "      <th>Name</th>\n",
              "    </tr>\n",
              "  </thead>\n",
              "  <tbody>\n",
              "    <tr>\n",
              "      <th>0</th>\n",
              "      <td>-1</td>\n",
              "      <td>20</td>\n",
              "      <td>-1_juneja_vivek_ebrahim_poonawala</td>\n",
              "    </tr>\n",
              "    <tr>\n",
              "      <th>1</th>\n",
              "      <td>0</td>\n",
              "      <td>208</td>\n",
              "      <td>0_the_and_to_of</td>\n",
              "    </tr>\n",
              "    <tr>\n",
              "      <th>2</th>\n",
              "      <td>1</td>\n",
              "      <td>39</td>\n",
              "      <td>1_thanks_good_thank_morning</td>\n",
              "    </tr>\n",
              "    <tr>\n",
              "      <th>3</th>\n",
              "      <td>2</td>\n",
              "      <td>23</td>\n",
              "      <td>2_charlie_scharf_yeah_hey</td>\n",
              "    </tr>\n",
              "    <tr>\n",
              "      <th>4</th>\n",
              "      <td>3</td>\n",
              "      <td>21</td>\n",
              "      <td>3_santomassimo_mike__</td>\n",
              "    </tr>\n",
              "    <tr>\n",
              "      <th>5</th>\n",
              "      <td>4</td>\n",
              "      <td>18</td>\n",
              "      <td>4_betsy_graseck_question_thank</td>\n",
              "    </tr>\n",
              "    <tr>\n",
              "      <th>6</th>\n",
              "      <td>5</td>\n",
              "      <td>15</td>\n",
              "      <td>5_operator_jefferies_questionandanswer_begin</td>\n",
              "    </tr>\n",
              "    <tr>\n",
              "      <th>7</th>\n",
              "      <td>6</td>\n",
              "      <td>12</td>\n",
              "      <td>6_siefers_scott_matt_oconnor</td>\n",
              "    </tr>\n",
              "    <tr>\n",
              "      <th>8</th>\n",
              "      <td>7</td>\n",
              "      <td>11</td>\n",
              "      <td>7_open_line_your_is</td>\n",
              "    </tr>\n",
              "    <tr>\n",
              "      <th>9</th>\n",
              "      <td>8</td>\n",
              "      <td>10</td>\n",
              "      <td>8_john_mcdonald_chubak_steven</td>\n",
              "    </tr>\n",
              "  </tbody>\n",
              "</table>\n",
              "</div>\n",
              "      <button class=\"colab-df-convert\" onclick=\"convertToInteractive('df-d729c2a5-69b9-4421-b18d-b879a222acb2')\"\n",
              "              title=\"Convert this dataframe to an interactive table.\"\n",
              "              style=\"display:none;\">\n",
              "        \n",
              "  <svg xmlns=\"http://www.w3.org/2000/svg\" height=\"24px\"viewBox=\"0 0 24 24\"\n",
              "       width=\"24px\">\n",
              "    <path d=\"M0 0h24v24H0V0z\" fill=\"none\"/>\n",
              "    <path d=\"M18.56 5.44l.94 2.06.94-2.06 2.06-.94-2.06-.94-.94-2.06-.94 2.06-2.06.94zm-11 1L8.5 8.5l.94-2.06 2.06-.94-2.06-.94L8.5 2.5l-.94 2.06-2.06.94zm10 10l.94 2.06.94-2.06 2.06-.94-2.06-.94-.94-2.06-.94 2.06-2.06.94z\"/><path d=\"M17.41 7.96l-1.37-1.37c-.4-.4-.92-.59-1.43-.59-.52 0-1.04.2-1.43.59L10.3 9.45l-7.72 7.72c-.78.78-.78 2.05 0 2.83L4 21.41c.39.39.9.59 1.41.59.51 0 1.02-.2 1.41-.59l7.78-7.78 2.81-2.81c.8-.78.8-2.07 0-2.86zM5.41 20L4 18.59l7.72-7.72 1.47 1.35L5.41 20z\"/>\n",
              "  </svg>\n",
              "      </button>\n",
              "      \n",
              "  <style>\n",
              "    .colab-df-container {\n",
              "      display:flex;\n",
              "      flex-wrap:wrap;\n",
              "      gap: 12px;\n",
              "    }\n",
              "\n",
              "    .colab-df-convert {\n",
              "      background-color: #E8F0FE;\n",
              "      border: none;\n",
              "      border-radius: 50%;\n",
              "      cursor: pointer;\n",
              "      display: none;\n",
              "      fill: #1967D2;\n",
              "      height: 32px;\n",
              "      padding: 0 0 0 0;\n",
              "      width: 32px;\n",
              "    }\n",
              "\n",
              "    .colab-df-convert:hover {\n",
              "      background-color: #E2EBFA;\n",
              "      box-shadow: 0px 1px 2px rgba(60, 64, 67, 0.3), 0px 1px 3px 1px rgba(60, 64, 67, 0.15);\n",
              "      fill: #174EA6;\n",
              "    }\n",
              "\n",
              "    [theme=dark] .colab-df-convert {\n",
              "      background-color: #3B4455;\n",
              "      fill: #D2E3FC;\n",
              "    }\n",
              "\n",
              "    [theme=dark] .colab-df-convert:hover {\n",
              "      background-color: #434B5C;\n",
              "      box-shadow: 0px 1px 3px 1px rgba(0, 0, 0, 0.15);\n",
              "      filter: drop-shadow(0px 1px 2px rgba(0, 0, 0, 0.3));\n",
              "      fill: #FFFFFF;\n",
              "    }\n",
              "  </style>\n",
              "\n",
              "      <script>\n",
              "        const buttonEl =\n",
              "          document.querySelector('#df-d729c2a5-69b9-4421-b18d-b879a222acb2 button.colab-df-convert');\n",
              "        buttonEl.style.display =\n",
              "          google.colab.kernel.accessAllowed ? 'block' : 'none';\n",
              "\n",
              "        async function convertToInteractive(key) {\n",
              "          const element = document.querySelector('#df-d729c2a5-69b9-4421-b18d-b879a222acb2');\n",
              "          const dataTable =\n",
              "            await google.colab.kernel.invokeFunction('convertToInteractive',\n",
              "                                                     [key], {});\n",
              "          if (!dataTable) return;\n",
              "\n",
              "          const docLinkHtml = 'Like what you see? Visit the ' +\n",
              "            '<a target=\"_blank\" href=https://colab.research.google.com/notebooks/data_table.ipynb>data table notebook</a>'\n",
              "            + ' to learn more about interactive tables.';\n",
              "          element.innerHTML = '';\n",
              "          dataTable['output_type'] = 'display_data';\n",
              "          await google.colab.output.renderOutput(dataTable, element);\n",
              "          const docLink = document.createElement('div');\n",
              "          docLink.innerHTML = docLinkHtml;\n",
              "          element.appendChild(docLink);\n",
              "        }\n",
              "      </script>\n",
              "    </div>\n",
              "  </div>\n",
              "  "
            ]
          },
          "metadata": {},
          "execution_count": 15
        }
      ]
    },
    {
      "cell_type": "code",
      "source": [
        "topic_model_wells_fargo.visualize_topics()"
      ],
      "metadata": {
        "colab": {
          "base_uri": "https://localhost:8080/",
          "height": 667
        },
        "id": "PnHG-rPlGhZQ",
        "outputId": "2c9822c6-16b1-4b23-8a6b-baee6e040aee"
      },
      "execution_count": null,
      "outputs": [
        {
          "output_type": "display_data",
          "data": {
            "text/html": [
              "<html>\n",
              "<head><meta charset=\"utf-8\" /></head>\n",
              "<body>\n",
              "    <div>            <script src=\"https://cdnjs.cloudflare.com/ajax/libs/mathjax/2.7.5/MathJax.js?config=TeX-AMS-MML_SVG\"></script><script type=\"text/javascript\">if (window.MathJax) {MathJax.Hub.Config({SVG: {font: \"STIX-Web\"}});}</script>                <script type=\"text/javascript\">window.PlotlyConfig = {MathJaxConfig: 'local'};</script>\n",
              "        <script src=\"https://cdn.plot.ly/plotly-2.8.3.min.js\"></script>                <div id=\"82109286-9a8a-4ed7-b3e8-25beb91a8fc4\" class=\"plotly-graph-div\" style=\"height:650px; width:650px;\"></div>            <script type=\"text/javascript\">                                    window.PLOTLYENV=window.PLOTLYENV || {};                                    if (document.getElementById(\"82109286-9a8a-4ed7-b3e8-25beb91a8fc4\")) {                    Plotly.newPlot(                        \"82109286-9a8a-4ed7-b3e8-25beb91a8fc4\",                        [{\"customdata\":[[0,\"the | and | to | of | we\",208],[1,\"thanks | good | thank | morning | yes\",39],[2,\"charlie | scharf | yeah | hey | this\",23],[3,\"santomassimo | mike |  |  | \",21],[4,\"betsy | graseck | question | thank | comes\",18],[5,\"operator | jefferies | questionandanswer | begin | instructions\",15],[6,\"siefers | scott | matt | oconnor | prior\",12],[7,\"open | line | your | is | sir\",11],[8,\"john | mcdonald | chubak | steven | pancari\",10]],\"hovertemplate\":\"<b>Topic %{customdata[0]}</b><br>Words: %{customdata[1]}<br>Size: %{customdata[2]}\",\"legendgroup\":\"\",\"marker\":{\"color\":\"#B0BEC5\",\"size\":[208,39,23,21,18,15,12,11,10],\"sizemode\":\"area\",\"sizeref\":0.13,\"symbol\":\"circle\",\"line\":{\"color\":\"DarkSlateGrey\",\"width\":2}},\"mode\":\"markers\",\"name\":\"\",\"orientation\":\"v\",\"showlegend\":false,\"x\":[16.594036102294922,16.078969955444336,15.480283737182617,15.373703002929688,-2.966271162033081,-2.675037384033203,-2.5459988117218018,15.011025428771973,-3.471726417541504],\"xaxis\":\"x\",\"y\":[3.387288808822632,3.454162359237671,3.5823116302490234,4.258330345153809,8.326688766479492,7.848469257354736,8.706467628479004,3.4989254474639893,8.602105140686035],\"yaxis\":\"y\",\"type\":\"scatter\"}],                        {\"template\":{\"data\":{\"barpolar\":[{\"marker\":{\"line\":{\"color\":\"white\",\"width\":0.5},\"pattern\":{\"fillmode\":\"overlay\",\"size\":10,\"solidity\":0.2}},\"type\":\"barpolar\"}],\"bar\":[{\"error_x\":{\"color\":\"rgb(36,36,36)\"},\"error_y\":{\"color\":\"rgb(36,36,36)\"},\"marker\":{\"line\":{\"color\":\"white\",\"width\":0.5},\"pattern\":{\"fillmode\":\"overlay\",\"size\":10,\"solidity\":0.2}},\"type\":\"bar\"}],\"carpet\":[{\"aaxis\":{\"endlinecolor\":\"rgb(36,36,36)\",\"gridcolor\":\"white\",\"linecolor\":\"white\",\"minorgridcolor\":\"white\",\"startlinecolor\":\"rgb(36,36,36)\"},\"baxis\":{\"endlinecolor\":\"rgb(36,36,36)\",\"gridcolor\":\"white\",\"linecolor\":\"white\",\"minorgridcolor\":\"white\",\"startlinecolor\":\"rgb(36,36,36)\"},\"type\":\"carpet\"}],\"choropleth\":[{\"colorbar\":{\"outlinewidth\":1,\"tickcolor\":\"rgb(36,36,36)\",\"ticks\":\"outside\"},\"type\":\"choropleth\"}],\"contourcarpet\":[{\"colorbar\":{\"outlinewidth\":1,\"tickcolor\":\"rgb(36,36,36)\",\"ticks\":\"outside\"},\"type\":\"contourcarpet\"}],\"contour\":[{\"colorbar\":{\"outlinewidth\":1,\"tickcolor\":\"rgb(36,36,36)\",\"ticks\":\"outside\"},\"colorscale\":[[0.0,\"#440154\"],[0.1111111111111111,\"#482878\"],[0.2222222222222222,\"#3e4989\"],[0.3333333333333333,\"#31688e\"],[0.4444444444444444,\"#26828e\"],[0.5555555555555556,\"#1f9e89\"],[0.6666666666666666,\"#35b779\"],[0.7777777777777778,\"#6ece58\"],[0.8888888888888888,\"#b5de2b\"],[1.0,\"#fde725\"]],\"type\":\"contour\"}],\"heatmapgl\":[{\"colorbar\":{\"outlinewidth\":1,\"tickcolor\":\"rgb(36,36,36)\",\"ticks\":\"outside\"},\"colorscale\":[[0.0,\"#440154\"],[0.1111111111111111,\"#482878\"],[0.2222222222222222,\"#3e4989\"],[0.3333333333333333,\"#31688e\"],[0.4444444444444444,\"#26828e\"],[0.5555555555555556,\"#1f9e89\"],[0.6666666666666666,\"#35b779\"],[0.7777777777777778,\"#6ece58\"],[0.8888888888888888,\"#b5de2b\"],[1.0,\"#fde725\"]],\"type\":\"heatmapgl\"}],\"heatmap\":[{\"colorbar\":{\"outlinewidth\":1,\"tickcolor\":\"rgb(36,36,36)\",\"ticks\":\"outside\"},\"colorscale\":[[0.0,\"#440154\"],[0.1111111111111111,\"#482878\"],[0.2222222222222222,\"#3e4989\"],[0.3333333333333333,\"#31688e\"],[0.4444444444444444,\"#26828e\"],[0.5555555555555556,\"#1f9e89\"],[0.6666666666666666,\"#35b779\"],[0.7777777777777778,\"#6ece58\"],[0.8888888888888888,\"#b5de2b\"],[1.0,\"#fde725\"]],\"type\":\"heatmap\"}],\"histogram2dcontour\":[{\"colorbar\":{\"outlinewidth\":1,\"tickcolor\":\"rgb(36,36,36)\",\"ticks\":\"outside\"},\"colorscale\":[[0.0,\"#440154\"],[0.1111111111111111,\"#482878\"],[0.2222222222222222,\"#3e4989\"],[0.3333333333333333,\"#31688e\"],[0.4444444444444444,\"#26828e\"],[0.5555555555555556,\"#1f9e89\"],[0.6666666666666666,\"#35b779\"],[0.7777777777777778,\"#6ece58\"],[0.8888888888888888,\"#b5de2b\"],[1.0,\"#fde725\"]],\"type\":\"histogram2dcontour\"}],\"histogram2d\":[{\"colorbar\":{\"outlinewidth\":1,\"tickcolor\":\"rgb(36,36,36)\",\"ticks\":\"outside\"},\"colorscale\":[[0.0,\"#440154\"],[0.1111111111111111,\"#482878\"],[0.2222222222222222,\"#3e4989\"],[0.3333333333333333,\"#31688e\"],[0.4444444444444444,\"#26828e\"],[0.5555555555555556,\"#1f9e89\"],[0.6666666666666666,\"#35b779\"],[0.7777777777777778,\"#6ece58\"],[0.8888888888888888,\"#b5de2b\"],[1.0,\"#fde725\"]],\"type\":\"histogram2d\"}],\"histogram\":[{\"marker\":{\"line\":{\"color\":\"white\",\"width\":0.6}},\"type\":\"histogram\"}],\"mesh3d\":[{\"colorbar\":{\"outlinewidth\":1,\"tickcolor\":\"rgb(36,36,36)\",\"ticks\":\"outside\"},\"type\":\"mesh3d\"}],\"parcoords\":[{\"line\":{\"colorbar\":{\"outlinewidth\":1,\"tickcolor\":\"rgb(36,36,36)\",\"ticks\":\"outside\"}},\"type\":\"parcoords\"}],\"pie\":[{\"automargin\":true,\"type\":\"pie\"}],\"scatter3d\":[{\"line\":{\"colorbar\":{\"outlinewidth\":1,\"tickcolor\":\"rgb(36,36,36)\",\"ticks\":\"outside\"}},\"marker\":{\"colorbar\":{\"outlinewidth\":1,\"tickcolor\":\"rgb(36,36,36)\",\"ticks\":\"outside\"}},\"type\":\"scatter3d\"}],\"scattercarpet\":[{\"marker\":{\"colorbar\":{\"outlinewidth\":1,\"tickcolor\":\"rgb(36,36,36)\",\"ticks\":\"outside\"}},\"type\":\"scattercarpet\"}],\"scattergeo\":[{\"marker\":{\"colorbar\":{\"outlinewidth\":1,\"tickcolor\":\"rgb(36,36,36)\",\"ticks\":\"outside\"}},\"type\":\"scattergeo\"}],\"scattergl\":[{\"marker\":{\"colorbar\":{\"outlinewidth\":1,\"tickcolor\":\"rgb(36,36,36)\",\"ticks\":\"outside\"}},\"type\":\"scattergl\"}],\"scattermapbox\":[{\"marker\":{\"colorbar\":{\"outlinewidth\":1,\"tickcolor\":\"rgb(36,36,36)\",\"ticks\":\"outside\"}},\"type\":\"scattermapbox\"}],\"scatterpolargl\":[{\"marker\":{\"colorbar\":{\"outlinewidth\":1,\"tickcolor\":\"rgb(36,36,36)\",\"ticks\":\"outside\"}},\"type\":\"scatterpolargl\"}],\"scatterpolar\":[{\"marker\":{\"colorbar\":{\"outlinewidth\":1,\"tickcolor\":\"rgb(36,36,36)\",\"ticks\":\"outside\"}},\"type\":\"scatterpolar\"}],\"scatter\":[{\"marker\":{\"colorbar\":{\"outlinewidth\":1,\"tickcolor\":\"rgb(36,36,36)\",\"ticks\":\"outside\"}},\"type\":\"scatter\"}],\"scatterternary\":[{\"marker\":{\"colorbar\":{\"outlinewidth\":1,\"tickcolor\":\"rgb(36,36,36)\",\"ticks\":\"outside\"}},\"type\":\"scatterternary\"}],\"surface\":[{\"colorbar\":{\"outlinewidth\":1,\"tickcolor\":\"rgb(36,36,36)\",\"ticks\":\"outside\"},\"colorscale\":[[0.0,\"#440154\"],[0.1111111111111111,\"#482878\"],[0.2222222222222222,\"#3e4989\"],[0.3333333333333333,\"#31688e\"],[0.4444444444444444,\"#26828e\"],[0.5555555555555556,\"#1f9e89\"],[0.6666666666666666,\"#35b779\"],[0.7777777777777778,\"#6ece58\"],[0.8888888888888888,\"#b5de2b\"],[1.0,\"#fde725\"]],\"type\":\"surface\"}],\"table\":[{\"cells\":{\"fill\":{\"color\":\"rgb(237,237,237)\"},\"line\":{\"color\":\"white\"}},\"header\":{\"fill\":{\"color\":\"rgb(217,217,217)\"},\"line\":{\"color\":\"white\"}},\"type\":\"table\"}]},\"layout\":{\"annotationdefaults\":{\"arrowhead\":0,\"arrowwidth\":1},\"autotypenumbers\":\"strict\",\"coloraxis\":{\"colorbar\":{\"outlinewidth\":1,\"tickcolor\":\"rgb(36,36,36)\",\"ticks\":\"outside\"}},\"colorscale\":{\"diverging\":[[0.0,\"rgb(103,0,31)\"],[0.1,\"rgb(178,24,43)\"],[0.2,\"rgb(214,96,77)\"],[0.3,\"rgb(244,165,130)\"],[0.4,\"rgb(253,219,199)\"],[0.5,\"rgb(247,247,247)\"],[0.6,\"rgb(209,229,240)\"],[0.7,\"rgb(146,197,222)\"],[0.8,\"rgb(67,147,195)\"],[0.9,\"rgb(33,102,172)\"],[1.0,\"rgb(5,48,97)\"]],\"sequential\":[[0.0,\"#440154\"],[0.1111111111111111,\"#482878\"],[0.2222222222222222,\"#3e4989\"],[0.3333333333333333,\"#31688e\"],[0.4444444444444444,\"#26828e\"],[0.5555555555555556,\"#1f9e89\"],[0.6666666666666666,\"#35b779\"],[0.7777777777777778,\"#6ece58\"],[0.8888888888888888,\"#b5de2b\"],[1.0,\"#fde725\"]],\"sequentialminus\":[[0.0,\"#440154\"],[0.1111111111111111,\"#482878\"],[0.2222222222222222,\"#3e4989\"],[0.3333333333333333,\"#31688e\"],[0.4444444444444444,\"#26828e\"],[0.5555555555555556,\"#1f9e89\"],[0.6666666666666666,\"#35b779\"],[0.7777777777777778,\"#6ece58\"],[0.8888888888888888,\"#b5de2b\"],[1.0,\"#fde725\"]]},\"colorway\":[\"#1F77B4\",\"#FF7F0E\",\"#2CA02C\",\"#D62728\",\"#9467BD\",\"#8C564B\",\"#E377C2\",\"#7F7F7F\",\"#BCBD22\",\"#17BECF\"],\"font\":{\"color\":\"rgb(36,36,36)\"},\"geo\":{\"bgcolor\":\"white\",\"lakecolor\":\"white\",\"landcolor\":\"white\",\"showlakes\":true,\"showland\":true,\"subunitcolor\":\"white\"},\"hoverlabel\":{\"align\":\"left\"},\"hovermode\":\"closest\",\"mapbox\":{\"style\":\"light\"},\"paper_bgcolor\":\"white\",\"plot_bgcolor\":\"white\",\"polar\":{\"angularaxis\":{\"gridcolor\":\"rgb(232,232,232)\",\"linecolor\":\"rgb(36,36,36)\",\"showgrid\":false,\"showline\":true,\"ticks\":\"outside\"},\"bgcolor\":\"white\",\"radialaxis\":{\"gridcolor\":\"rgb(232,232,232)\",\"linecolor\":\"rgb(36,36,36)\",\"showgrid\":false,\"showline\":true,\"ticks\":\"outside\"}},\"scene\":{\"xaxis\":{\"backgroundcolor\":\"white\",\"gridcolor\":\"rgb(232,232,232)\",\"gridwidth\":2,\"linecolor\":\"rgb(36,36,36)\",\"showbackground\":true,\"showgrid\":false,\"showline\":true,\"ticks\":\"outside\",\"zeroline\":false,\"zerolinecolor\":\"rgb(36,36,36)\"},\"yaxis\":{\"backgroundcolor\":\"white\",\"gridcolor\":\"rgb(232,232,232)\",\"gridwidth\":2,\"linecolor\":\"rgb(36,36,36)\",\"showbackground\":true,\"showgrid\":false,\"showline\":true,\"ticks\":\"outside\",\"zeroline\":false,\"zerolinecolor\":\"rgb(36,36,36)\"},\"zaxis\":{\"backgroundcolor\":\"white\",\"gridcolor\":\"rgb(232,232,232)\",\"gridwidth\":2,\"linecolor\":\"rgb(36,36,36)\",\"showbackground\":true,\"showgrid\":false,\"showline\":true,\"ticks\":\"outside\",\"zeroline\":false,\"zerolinecolor\":\"rgb(36,36,36)\"}},\"shapedefaults\":{\"fillcolor\":\"black\",\"line\":{\"width\":0},\"opacity\":0.3},\"ternary\":{\"aaxis\":{\"gridcolor\":\"rgb(232,232,232)\",\"linecolor\":\"rgb(36,36,36)\",\"showgrid\":false,\"showline\":true,\"ticks\":\"outside\"},\"baxis\":{\"gridcolor\":\"rgb(232,232,232)\",\"linecolor\":\"rgb(36,36,36)\",\"showgrid\":false,\"showline\":true,\"ticks\":\"outside\"},\"bgcolor\":\"white\",\"caxis\":{\"gridcolor\":\"rgb(232,232,232)\",\"linecolor\":\"rgb(36,36,36)\",\"showgrid\":false,\"showline\":true,\"ticks\":\"outside\"}},\"title\":{\"x\":0.05},\"xaxis\":{\"automargin\":true,\"gridcolor\":\"rgb(232,232,232)\",\"linecolor\":\"rgb(36,36,36)\",\"showgrid\":false,\"showline\":true,\"ticks\":\"outside\",\"title\":{\"standoff\":15},\"zeroline\":false,\"zerolinecolor\":\"rgb(36,36,36)\"},\"yaxis\":{\"automargin\":true,\"gridcolor\":\"rgb(232,232,232)\",\"linecolor\":\"rgb(36,36,36)\",\"showgrid\":false,\"showline\":true,\"ticks\":\"outside\",\"title\":{\"standoff\":15},\"zeroline\":false,\"zerolinecolor\":\"rgb(36,36,36)\"}}},\"xaxis\":{\"anchor\":\"y\",\"domain\":[0.0,1.0],\"title\":{\"text\":\"\"},\"visible\":false,\"range\":[-3.9924853801727296,19.08314151763916]},\"yaxis\":{\"anchor\":\"x\",\"domain\":[0.0,1.0],\"title\":{\"text\":\"\"},\"visible\":false,\"range\":[2.879195487499237,10.012437772750854]},\"legend\":{\"tracegroupgap\":0,\"itemsizing\":\"constant\"},\"margin\":{\"t\":60},\"title\":{\"font\":{\"size\":22,\"color\":\"Black\"},\"text\":\"<b>Intertopic Distance Map\",\"y\":0.95,\"x\":0.5,\"xanchor\":\"center\",\"yanchor\":\"top\"},\"hoverlabel\":{\"font\":{\"size\":16,\"family\":\"Rockwell\"},\"bgcolor\":\"white\"},\"width\":650,\"height\":650,\"sliders\":[{\"active\":0,\"pad\":{\"t\":50},\"steps\":[{\"args\":[{\"marker.color\":[[\"red\",\"#B0BEC5\",\"#B0BEC5\",\"#B0BEC5\",\"#B0BEC5\",\"#B0BEC5\",\"#B0BEC5\",\"#B0BEC5\",\"#B0BEC5\"]]}],\"label\":\"Topic 0\",\"method\":\"update\"},{\"args\":[{\"marker.color\":[[\"#B0BEC5\",\"red\",\"#B0BEC5\",\"#B0BEC5\",\"#B0BEC5\",\"#B0BEC5\",\"#B0BEC5\",\"#B0BEC5\",\"#B0BEC5\"]]}],\"label\":\"Topic 1\",\"method\":\"update\"},{\"args\":[{\"marker.color\":[[\"#B0BEC5\",\"#B0BEC5\",\"red\",\"#B0BEC5\",\"#B0BEC5\",\"#B0BEC5\",\"#B0BEC5\",\"#B0BEC5\",\"#B0BEC5\"]]}],\"label\":\"Topic 2\",\"method\":\"update\"},{\"args\":[{\"marker.color\":[[\"#B0BEC5\",\"#B0BEC5\",\"#B0BEC5\",\"red\",\"#B0BEC5\",\"#B0BEC5\",\"#B0BEC5\",\"#B0BEC5\",\"#B0BEC5\"]]}],\"label\":\"Topic 3\",\"method\":\"update\"},{\"args\":[{\"marker.color\":[[\"#B0BEC5\",\"#B0BEC5\",\"#B0BEC5\",\"#B0BEC5\",\"red\",\"#B0BEC5\",\"#B0BEC5\",\"#B0BEC5\",\"#B0BEC5\"]]}],\"label\":\"Topic 4\",\"method\":\"update\"},{\"args\":[{\"marker.color\":[[\"#B0BEC5\",\"#B0BEC5\",\"#B0BEC5\",\"#B0BEC5\",\"#B0BEC5\",\"red\",\"#B0BEC5\",\"#B0BEC5\",\"#B0BEC5\"]]}],\"label\":\"Topic 5\",\"method\":\"update\"},{\"args\":[{\"marker.color\":[[\"#B0BEC5\",\"#B0BEC5\",\"#B0BEC5\",\"#B0BEC5\",\"#B0BEC5\",\"#B0BEC5\",\"red\",\"#B0BEC5\",\"#B0BEC5\"]]}],\"label\":\"Topic 6\",\"method\":\"update\"},{\"args\":[{\"marker.color\":[[\"#B0BEC5\",\"#B0BEC5\",\"#B0BEC5\",\"#B0BEC5\",\"#B0BEC5\",\"#B0BEC5\",\"#B0BEC5\",\"red\",\"#B0BEC5\"]]}],\"label\":\"Topic 7\",\"method\":\"update\"},{\"args\":[{\"marker.color\":[[\"#B0BEC5\",\"#B0BEC5\",\"#B0BEC5\",\"#B0BEC5\",\"#B0BEC5\",\"#B0BEC5\",\"#B0BEC5\",\"#B0BEC5\",\"red\"]]}],\"label\":\"Topic 8\",\"method\":\"update\"}]}],\"shapes\":[{\"line\":{\"color\":\"#CFD8DC\",\"width\":2},\"type\":\"line\",\"x0\":7.545328068733215,\"x1\":7.545328068733215,\"y0\":2.879195487499237,\"y1\":10.012437772750854},{\"line\":{\"color\":\"#9E9E9E\",\"width\":2},\"type\":\"line\",\"x0\":-3.9924853801727296,\"x1\":19.08314151763916,\"y0\":6.445816630125045,\"y1\":6.445816630125045}],\"annotations\":[{\"showarrow\":false,\"text\":\"D1\",\"x\":-3.9924853801727296,\"y\":6.445816630125045,\"yshift\":10},{\"showarrow\":false,\"text\":\"D2\",\"x\":7.545328068733215,\"xshift\":10,\"y\":10.012437772750854}]},                        {\"responsive\": true}                    ).then(function(){\n",
              "                            \n",
              "var gd = document.getElementById('82109286-9a8a-4ed7-b3e8-25beb91a8fc4');\n",
              "var x = new MutationObserver(function (mutations, observer) {{\n",
              "        var display = window.getComputedStyle(gd).display;\n",
              "        if (!display || display === 'none') {{\n",
              "            console.log([gd, 'removed!']);\n",
              "            Plotly.purge(gd);\n",
              "            observer.disconnect();\n",
              "        }}\n",
              "}});\n",
              "\n",
              "// Listen for the removal of the full notebook cells\n",
              "var notebookContainer = gd.closest('#notebook-container');\n",
              "if (notebookContainer) {{\n",
              "    x.observe(notebookContainer, {childList: true});\n",
              "}}\n",
              "\n",
              "// Listen for the clearing of the current output cell\n",
              "var outputEl = gd.closest('.output');\n",
              "if (outputEl) {{\n",
              "    x.observe(outputEl, {childList: true});\n",
              "}}\n",
              "\n",
              "                        })                };                            </script>        </div>\n",
              "</body>\n",
              "</html>"
            ]
          },
          "metadata": {}
        }
      ]
    },
    {
      "cell_type": "code",
      "source": [
        ""
      ],
      "metadata": {
        "id": "_Urk4kUjI0E1"
      },
      "execution_count": null,
      "outputs": []
    },
    {
      "cell_type": "markdown",
      "source": [
        "initial analyses of just passing the lines seperated by the line breaker doesnt seems to produce noticible results\n"
      ],
      "metadata": {
        "id": "7Rbzw4woJCZV"
      }
    },
    {
      "cell_type": "code",
      "source": [
        ""
      ],
      "metadata": {
        "id": "KxidT2XzJb6v"
      },
      "execution_count": null,
      "outputs": []
    },
    {
      "cell_type": "code",
      "source": [
        "with open(\"/content/names.txt\",\"r\") as f:\n",
        "  name_string = f.read()\n"
      ],
      "metadata": {
        "id": "NzSbu5ZmJZ_t"
      },
      "execution_count": null,
      "outputs": []
    },
    {
      "cell_type": "code",
      "source": [
        "name_string"
      ],
      "metadata": {
        "colab": {
          "base_uri": "https://localhost:8080/",
          "height": 88
        },
        "id": "p3Wvn7wYKOCN",
        "outputId": "c29ce2ca-f195-45b2-f611-41fb8ff72f63"
      },
      "execution_count": null,
      "outputs": [
        {
          "output_type": "execute_result",
          "data": {
            "text/plain": [
              "\"John Campbell\\tDirector Investor Relations\\nCharlie Scharf\\tChief Executive Officer\\nMike Santomassimo\\tChief Financial Officer\\nKen Usdin\\tJefferies\\nJohn McDonald\\tAutonomous Research\\nSteven Chubak\\tWolfe Research\\nScott Siefers\\tPiper Sandler\\nJohn Pancari\\tEvercore ISI\\nErika Najarian\\tUBS\\nEbrahim Poonawala\\tBank of America\\nGerard Cassidy\\tRBC Capital Markets\\nBetsy Graseck\\tMorgan Stanley\\nVivek Juneja\\tJPMorgan\\nMatt O'Connor\\tDeutsche Bank\""
            ],
            "application/vnd.google.colaboratory.intrinsic+json": {
              "type": "string"
            }
          },
          "metadata": {},
          "execution_count": 31
        }
      ]
    },
    {
      "cell_type": "code",
      "source": [
        "cols = [\"name\",\"position\"]\n",
        "name_df = pd.read_csv(\"/content/names.txt\",sep=\"\\t\",names=cols)"
      ],
      "metadata": {
        "id": "-G2lgjmKLX-D"
      },
      "execution_count": null,
      "outputs": []
    },
    {
      "cell_type": "code",
      "source": [
        ""
      ],
      "metadata": {
        "colab": {
          "base_uri": "https://localhost:8080/",
          "height": 488
        },
        "id": "4V4JQUiBMsl6",
        "outputId": "e15cc64f-9db1-40ca-a868-cbe65fa6c21c"
      },
      "execution_count": null,
      "outputs": [
        {
          "output_type": "execute_result",
          "data": {
            "text/plain": [
              "                 name                     position\n",
              "0       John Campbell  Director Investor Relations\n",
              "1      Charlie Scharf      Chief Executive Officer\n",
              "2   Mike Santomassimo      Chief Financial Officer\n",
              "3           Ken Usdin                    Jefferies\n",
              "4       John McDonald          Autonomous Research\n",
              "5       Steven Chubak               Wolfe Research\n",
              "6       Scott Siefers                Piper Sandler\n",
              "7        John Pancari                 Evercore ISI\n",
              "8      Erika Najarian                          UBS\n",
              "9   Ebrahim Poonawala              Bank of America\n",
              "10     Gerard Cassidy          RBC Capital Markets\n",
              "11      Betsy Graseck               Morgan Stanley\n",
              "12       Vivek Juneja                     JPMorgan\n",
              "13      Matt O'Connor                Deutsche Bank"
            ],
            "text/html": [
              "\n",
              "  <div id=\"df-f5836963-2f47-425a-85ea-082f9de22c98\">\n",
              "    <div class=\"colab-df-container\">\n",
              "      <div>\n",
              "<style scoped>\n",
              "    .dataframe tbody tr th:only-of-type {\n",
              "        vertical-align: middle;\n",
              "    }\n",
              "\n",
              "    .dataframe tbody tr th {\n",
              "        vertical-align: top;\n",
              "    }\n",
              "\n",
              "    .dataframe thead th {\n",
              "        text-align: right;\n",
              "    }\n",
              "</style>\n",
              "<table border=\"1\" class=\"dataframe\">\n",
              "  <thead>\n",
              "    <tr style=\"text-align: right;\">\n",
              "      <th></th>\n",
              "      <th>name</th>\n",
              "      <th>position</th>\n",
              "    </tr>\n",
              "  </thead>\n",
              "  <tbody>\n",
              "    <tr>\n",
              "      <th>0</th>\n",
              "      <td>John Campbell</td>\n",
              "      <td>Director Investor Relations</td>\n",
              "    </tr>\n",
              "    <tr>\n",
              "      <th>1</th>\n",
              "      <td>Charlie Scharf</td>\n",
              "      <td>Chief Executive Officer</td>\n",
              "    </tr>\n",
              "    <tr>\n",
              "      <th>2</th>\n",
              "      <td>Mike Santomassimo</td>\n",
              "      <td>Chief Financial Officer</td>\n",
              "    </tr>\n",
              "    <tr>\n",
              "      <th>3</th>\n",
              "      <td>Ken Usdin</td>\n",
              "      <td>Jefferies</td>\n",
              "    </tr>\n",
              "    <tr>\n",
              "      <th>4</th>\n",
              "      <td>John McDonald</td>\n",
              "      <td>Autonomous Research</td>\n",
              "    </tr>\n",
              "    <tr>\n",
              "      <th>5</th>\n",
              "      <td>Steven Chubak</td>\n",
              "      <td>Wolfe Research</td>\n",
              "    </tr>\n",
              "    <tr>\n",
              "      <th>6</th>\n",
              "      <td>Scott Siefers</td>\n",
              "      <td>Piper Sandler</td>\n",
              "    </tr>\n",
              "    <tr>\n",
              "      <th>7</th>\n",
              "      <td>John Pancari</td>\n",
              "      <td>Evercore ISI</td>\n",
              "    </tr>\n",
              "    <tr>\n",
              "      <th>8</th>\n",
              "      <td>Erika Najarian</td>\n",
              "      <td>UBS</td>\n",
              "    </tr>\n",
              "    <tr>\n",
              "      <th>9</th>\n",
              "      <td>Ebrahim Poonawala</td>\n",
              "      <td>Bank of America</td>\n",
              "    </tr>\n",
              "    <tr>\n",
              "      <th>10</th>\n",
              "      <td>Gerard Cassidy</td>\n",
              "      <td>RBC Capital Markets</td>\n",
              "    </tr>\n",
              "    <tr>\n",
              "      <th>11</th>\n",
              "      <td>Betsy Graseck</td>\n",
              "      <td>Morgan Stanley</td>\n",
              "    </tr>\n",
              "    <tr>\n",
              "      <th>12</th>\n",
              "      <td>Vivek Juneja</td>\n",
              "      <td>JPMorgan</td>\n",
              "    </tr>\n",
              "    <tr>\n",
              "      <th>13</th>\n",
              "      <td>Matt O'Connor</td>\n",
              "      <td>Deutsche Bank</td>\n",
              "    </tr>\n",
              "  </tbody>\n",
              "</table>\n",
              "</div>\n",
              "      <button class=\"colab-df-convert\" onclick=\"convertToInteractive('df-f5836963-2f47-425a-85ea-082f9de22c98')\"\n",
              "              title=\"Convert this dataframe to an interactive table.\"\n",
              "              style=\"display:none;\">\n",
              "        \n",
              "  <svg xmlns=\"http://www.w3.org/2000/svg\" height=\"24px\"viewBox=\"0 0 24 24\"\n",
              "       width=\"24px\">\n",
              "    <path d=\"M0 0h24v24H0V0z\" fill=\"none\"/>\n",
              "    <path d=\"M18.56 5.44l.94 2.06.94-2.06 2.06-.94-2.06-.94-.94-2.06-.94 2.06-2.06.94zm-11 1L8.5 8.5l.94-2.06 2.06-.94-2.06-.94L8.5 2.5l-.94 2.06-2.06.94zm10 10l.94 2.06.94-2.06 2.06-.94-2.06-.94-.94-2.06-.94 2.06-2.06.94z\"/><path d=\"M17.41 7.96l-1.37-1.37c-.4-.4-.92-.59-1.43-.59-.52 0-1.04.2-1.43.59L10.3 9.45l-7.72 7.72c-.78.78-.78 2.05 0 2.83L4 21.41c.39.39.9.59 1.41.59.51 0 1.02-.2 1.41-.59l7.78-7.78 2.81-2.81c.8-.78.8-2.07 0-2.86zM5.41 20L4 18.59l7.72-7.72 1.47 1.35L5.41 20z\"/>\n",
              "  </svg>\n",
              "      </button>\n",
              "      \n",
              "  <style>\n",
              "    .colab-df-container {\n",
              "      display:flex;\n",
              "      flex-wrap:wrap;\n",
              "      gap: 12px;\n",
              "    }\n",
              "\n",
              "    .colab-df-convert {\n",
              "      background-color: #E8F0FE;\n",
              "      border: none;\n",
              "      border-radius: 50%;\n",
              "      cursor: pointer;\n",
              "      display: none;\n",
              "      fill: #1967D2;\n",
              "      height: 32px;\n",
              "      padding: 0 0 0 0;\n",
              "      width: 32px;\n",
              "    }\n",
              "\n",
              "    .colab-df-convert:hover {\n",
              "      background-color: #E2EBFA;\n",
              "      box-shadow: 0px 1px 2px rgba(60, 64, 67, 0.3), 0px 1px 3px 1px rgba(60, 64, 67, 0.15);\n",
              "      fill: #174EA6;\n",
              "    }\n",
              "\n",
              "    [theme=dark] .colab-df-convert {\n",
              "      background-color: #3B4455;\n",
              "      fill: #D2E3FC;\n",
              "    }\n",
              "\n",
              "    [theme=dark] .colab-df-convert:hover {\n",
              "      background-color: #434B5C;\n",
              "      box-shadow: 0px 1px 3px 1px rgba(0, 0, 0, 0.15);\n",
              "      filter: drop-shadow(0px 1px 2px rgba(0, 0, 0, 0.3));\n",
              "      fill: #FFFFFF;\n",
              "    }\n",
              "  </style>\n",
              "\n",
              "      <script>\n",
              "        const buttonEl =\n",
              "          document.querySelector('#df-f5836963-2f47-425a-85ea-082f9de22c98 button.colab-df-convert');\n",
              "        buttonEl.style.display =\n",
              "          google.colab.kernel.accessAllowed ? 'block' : 'none';\n",
              "\n",
              "        async function convertToInteractive(key) {\n",
              "          const element = document.querySelector('#df-f5836963-2f47-425a-85ea-082f9de22c98');\n",
              "          const dataTable =\n",
              "            await google.colab.kernel.invokeFunction('convertToInteractive',\n",
              "                                                     [key], {});\n",
              "          if (!dataTable) return;\n",
              "\n",
              "          const docLinkHtml = 'Like what you see? Visit the ' +\n",
              "            '<a target=\"_blank\" href=https://colab.research.google.com/notebooks/data_table.ipynb>data table notebook</a>'\n",
              "            + ' to learn more about interactive tables.';\n",
              "          element.innerHTML = '';\n",
              "          dataTable['output_type'] = 'display_data';\n",
              "          await google.colab.output.renderOutput(dataTable, element);\n",
              "          const docLink = document.createElement('div');\n",
              "          docLink.innerHTML = docLinkHtml;\n",
              "          element.appendChild(docLink);\n",
              "        }\n",
              "      </script>\n",
              "    </div>\n",
              "  </div>\n",
              "  "
            ]
          },
          "metadata": {},
          "execution_count": 40
        }
      ]
    },
    {
      "cell_type": "code",
      "source": [
        "#trying a new clean function\n",
        "#since before each paragraph a persons name is mentioned so using that as a reference point\n",
        "chat_list = []\n",
        "temp_name = \"\"\n",
        "temp_dict = {}\n",
        "user_names = list(name_df.name)+[\"Operator\"]\n",
        "for i in clean_string:\n",
        "  if i in user_names and i!=\"\":\n",
        "    temp_name = i\n",
        "    if i not in temp_dict:  \n",
        "      temp_dict[i]= []\n",
        "  else:\n",
        "    if len(i)>30:\n",
        "      temp_dict[temp_name].append(i)\n",
        "  "
      ],
      "metadata": {
        "id": "CouJV0i1JO1N"
      },
      "execution_count": null,
      "outputs": []
    },
    {
      "cell_type": "code",
      "source": [
        "temp_dict[\"Charlie Scharf\"]"
      ],
      "metadata": {
        "colab": {
          "base_uri": "https://localhost:8080/"
        },
        "id": "Ljsdq9hHLf5M",
        "outputId": "18ec4654-2f9d-451e-8276-7d4184df687c"
      },
      "execution_count": null,
      "outputs": [
        {
          "output_type": "execute_result",
          "data": {
            "text/plain": [
              "[\"Thanks very much, John. Good morning. I'll make some brief comments about our second quarter results, the operating environment, and update you on our priorities. I'll then turn the call over to Mike to review second quarter results in more detail before we take your questions.\",\n",
              " 'Let me start with some second quarter highlights. We earned $3.1 billion in the second quarter, our results included a $576 million impairment of equity securities, predominantly in our venture capital business due to market conditions. Revenue declined as growth in net interest income driven by rising interest rates and higher loan balances was more than offset by lower non-interest income as market conditions negatively impacted our venture capital, mortgage banking, investment banking, and wealth management advisory businesses.',\n",
              " 'We continued to execute on our efficiency initiatives and our expenses declined from a year ago even with inflationary pressures and higher operating losses. We had broad-based loan growth with both our consumer and commercial portfolios growing from the first quarter and a year ago. Credit performance remained strong, our allowance reflected an increase due to loan growth.',\n",
              " \"While we're monitoring risks related to continued high inflation, increasing interest rates, and the slowing economy, which will impact our customers, consumers and businesses have been resilient so far. When looking at simple averages across our entire portfolio, consumer deposit balances per account increased from first quarter and a year ago and remained above pre-pandemic levels. Overall, our consumer deposit customers' health indicators, including cash flow, payroll, and overdraft trends are not showing elevated risk concerns.\",\n",
              " \"However, we're closely monitoring activity by segment for signs of potential stress and for certain cohorts of customers, we have seen average balances steadily decline to pre-pandemic levels.\",\n",
              " 'Following the final federal stimulus payments early last year and their debit card spend has also been declining. Overall, debit card spending was up 3% compared to a year ago when consumers receive stimulus payments and then sanction appears to be impacting certain categories of spending, including a 26% increase in fuel driven by higher prices, while discretionary categories like apparel and home improvement spending were down double digits, driven by fewer transactions. Credit card spend increased 28% from a year ago. Above the industry trend driven by the new products we launched last year, with double-digit increases across all spend categories.',\n",
              " 'However, spending while still strong, started to slow in May and June. Consumer credit card utilization rates remain below pre-pandemic levels. Payment rates remained strong and delinquency rates remain low.',\n",
              " 'Our small business portfolio continues to perform well in the aggregate in both delinquencies and losses. Leading indicators such as payment rates, deposit levels, utilization and revolving debt trends do not yet indicate signs of stress. Loan demand from our commercial customers remained strong with broad-based balance and commitment growth.',\n",
              " \"Our commercial customers' credit performance remained strong with exceptionally low net charge-offs and non-accrual loans were at their lowest level in over 10 years.\",\n",
              " 'However, we are monitoring early warning indicators across portfolios including cash flow activity, credit line utilization rates and industry fundamentals for inflation impacts.',\n",
              " \"Now let me update you on progress we've made on our strategic priorities.\",\n",
              " 'Our work to build an appropriate risk and control infrastructure is ongoing and remains our top priority, but we also continue to invest in our businesses to better serve our customers and to help drive growth. This week, we launched our fourth new credit card offering in the past year, Wells Fargo Autograph.',\n",
              " \"Our latest card reflects our momentum in growing our consumer credit card business with new accounts up over 60% from a year ago. We're focused on delivering competitive offerings and our new reward card provides three times points across top spending categories including restaurants, travel and gas stations. This is the first of several rewards based cards we plan to introduce.\",\n",
              " 'We continue to improve the digital experience in the second quarter with the relaunch of Intuitive Investor, our automated digital investing platform. We simplified the account opening process and created a faster and better experience for both new and experienced investors.',\n",
              " 'During the second quarter, we began rolling out Wells Fargo Premier, which provides differentiated products and experiences focused on strengthening and growing our affluent client relationships.',\n",
              " 'We are working towards offering one set of products and services that are tailored to the needs of these customers regardless of where they sit within our individual businesses.',\n",
              " 'We will be rolling out more enhancements in the coming quarters to provide a more compelling offering for Premier clients. We started to roll out overdraft policy changes late in the first quarter, which included the elimination of fees for non-sufficient funds and overdraft protection transactions.',\n",
              " 'Additional changes will be rolled out in the second half of this year, including providing customers who overdraw their account with a 25-hour grace period to cure a negative balance before incurring an overdraft fee, giving early access to eligible direct deposits and providing a new easy short-term credit product.',\n",
              " 'We expect these changes will help millions of consumer customers avoid overdraft fees and meet short-term cash needs, and we continue to review other ways we can help consumers manage their finances.',\n",
              " \"We also continue to invest to better serve our commercial customers. And early in the second quarter, Tim O'Hara joined the Corporate Investment Bank for BlackRock as Head of Banking. Tim's expertise and insights will help us maximize our potential and achieve even greater partnership and strategic dialogue with our corporate and institutional clients, and he complements the strong leadership team in our markets and commercial real estate businesses, who have helped us navigate recent market volatility. We believe we have a significant opportunity to serve our existing commercial customers with corporate and investment banking products in a way that works within our existing risk tolerance.\",\n",
              " 'We also believe that for us to be successful as a company, we must consider a broad set of stakeholders in our decisions and actions. Last week, we announced that Otis Rolley will be joining Wells Fargo from the Rockefeller Foundation as the Head of Social Impact, leading community engagement and enterprise philanthropy, including the Wells Fargo Foundation.',\n",
              " 'We continue to move forward in the area of ESG with the announcement of our 2030 reduction targets for greenhouse gas emissions attributable to financing activities in the oil and gas and power sectors.',\n",
              " 'As homeownership remains out of reach for too many families, we announced an effort to support new home construction, renovation and repair of more than 450 affordable homes across the US in collaboration with Habitat for Humanity and rebuilding together.',\n",
              " 'We also launched our special purpose credit program to help minority homeowners refinance mortgages that Wells Fargo currently services.',\n",
              " 'We continue to support our small business customers through this time of uncertainty, including launching the small business resource Navigator, which connects small business owners to potential financing options and technical assistance through community development financial institutions across the country.',\n",
              " \"We are also helping women entrepreneurs by doubling our support for women-owned businesses through the Connector program with complementary mentorship opportunities. We published our inaugural diversity, equity and inclusion report, which highlights the meaningful positive results we've made on our DE&I initiatives.\",\n",
              " 'For example, in the US, our external hiring of individuals from racially or ethnically diverse populations increased by 27% in 2021 compared to 2020, and approximately one-third of all internally promoted executives last year were racially or ethnically diverse.',\n",
              " \"As I've said in the past, advancing DE&I at Wells Fargo is a long-term commitment, not a project and we continue to pursue many of the initiatives in the report and look for ways to deepen our impact.\",\n",
              " \"Let me just make some summary comments before turning it over to Mike. The Federal Reserve's commitment to an aggressive rate hike cycle as a means to tame high persistent inflation continues to fuel market volatility and is expected to slow the economy, which will impact our consumer and commercial customers. Despite the economic environment, I remain optimistic about our future. Credit quality remains strong, and we expect net interest income growth to continue given rising interest rates which should more than offset any further near-term pressure on non-interest income. We remain on target to achieve a sustainable 10% ROTCE, subject to the same assumptions we've discussed in the past, on a run rate basis in the second half of this year, and then we will discuss our path to 15%. This year's Federal Reserve stress test confirmed our strong capital position and our ability to support our customers and communities while also continuing to return excess capital to shareholders through dividends and common stock repurchases.\",\n",
              " \"As we previously announced, we expect to increase our third quarter common stock dividend by 20% to $0.30 per share, subject to approval by the company's Board of Directors at its regularly scheduled meeting later this month. I will now turn the call over to Mike.\",\n",
              " \"Let me take that. The way we think about it is as we sit and look towards next year, we certainly know we have some increases to contend with, such as the full year impact of inflationary pressures that we see this year. And we know we've got some increases in FDIC insurance premiums. But as we start thinking about next year, and we really just starting the budget process, our mindset going into it is that we have significant opportunities to become more efficient. We've been – and it's just more of the same in terms of what we've been talking about. And this has nothing to do with getting efficiencies out of the risk-related work it assumes that all of that investment continues. But we do go into this process with the expectation that we want to see net expense reductions.\",\n",
              " \"Now, just usual caveats that excludes revenue-related expenses, which could go up or some of this – the lumpiness that we've talked about, just as we think – but as we think about that core expense base, we do continue to see opportunities, and we'd like you to see it as well.\",\n",
              " \"Yeah. Hey, John, it's Charlie. Why don't I start and then Mike can chime in. Yeah. I mean, I think your – no question, we – clarity of SCB for us at this point does really help.\",\n",
              " \"As we sit here today and we look at what's happening in spreads and what's happening with the 10 year that was at 292 right now. But we do want to be all but just conservative in terms of how we think about managing the capital base.\",\n",
              " \"So just to be – I think to be clear, as we sit here today, we're very happy with the amount of capital that we have, including, as we think about that 10 basis points increase that will impact us. We certainly have capacity to buy shares back at this point. And as I think Mike alluded to, we just probably want to wait a little bit just to see what happens in terms of the volatility in spreads and rates before we start to do that. But we certainly at a point, we'll do it. We'll just see exactly when that is.\",\n",
              " 'Yes. What we said a couple of times was that we thought it was possible that it was going to increase, and it did.',\n",
              " 'Now you have to keep in mind, like we only have so much visibility into the underlying drivers of what causes it to go up or down in any given year.',\n",
              " \"Now there's a lot of stuff that's public, but there's also a lot of a lot of the modeling techniques that are quite easy to understand.\",\n",
              " 'And so, I would say we were pleased with the result, and we spent -- as many do probably, we spend a lot of time on trying to understand the drivers of the risk of the balance sheet and do our best to have positioned ourselves for -- toward the outcomes.',\n",
              " 'And so, we were pleased that’s working out.',\n",
              " \"Well, as you think about the process we go through, which I think is similar to most in a lot of ways, is you're really looking at a number of scenarios that you need to be thoughtful about and include in your modeling. And we've now, for a number of quarters in a row, have had a significant weighting on the downside scenario already.\",\n",
              " \"And some of those scenarios are pretty severe, right? And so you've got waitings on what some might term wild recession, more severe recessions, so you could create a lot of labels for them. But it's a number of scenarios that have different severities of downside.\",\n",
              " \"And so, we feel at this point that we've captured what we can look at and see or anticipate at this point based on all the factors that we need to evaluate in our current reserves. And I'll just point out also, as you look at us in the position we're in, yes, we didn't take down all of the reserves that we put up during COVID.\",\n",
              " \"And so as you sort of look through each of the underlying asset classes, we feel what we have today is appropriate. It's hard to see in the near term increasing them to the level that we had back in the pandemic. But I think that's a hard thing to see at this point. But I think we'll have to make sure as things evolve throughout the next couple of quarters. we'll have to incorporate that. But again, we already have a pretty significant weighting on those downside scenarios already. And it's a very -- as you would imagine, a very robust conversation that we go through each quarter to evaluate how we feel about it. And at this point, we feel it's appropriate for what we can see over the life of those loans.\",\n",
              " \"Yes. Yes, Erika, I think that's a really hard thing to give a pinpoint number on at this point in the cycle, to be honest with you. And if you think about -- and it's -- there's so many moving pieces right now, I think, between -- particularly as you sort of get to year-end and the pace of rates? And what exactly is the Fed going to do and when are they going to do it? And so I think there's a lot that goes into that, that trying to get a -- one number is a hard thing to say with a lot of confidence in my view.\",\n",
              " \"I think what we can say though is as you look at the next couple of rate rises, I think you're going to start to see more acceleration.\",\n",
              " \"On the retail and the consumer side, the core -- deposit core rates haven't changed much for the big banks at this point yet.\",\n",
              " \"So you'll start to see that happen over the next couple of rate rises, the betas will still be pretty small.\",\n",
              " \"However, that will start to pick up just depending on how fast the Fed goes by year-end. And then I think on the other side of the spectrum on the corporate investment bank and those deposits, whether it's in the FI space or the large corporate space, you're seeing those betas pick up a lot already.\",\n",
              " 'So those will continue to accelerate.',\n",
              " \"And so when you look at cumulative betas, you really have to look at and you start to compare different banks, you're really going to have to look at the mix of the deposits. And the CIB deposits are just a much smaller piece of the pie for us right now. And those are going to -- those will probably move faster than even we've modeled, but it's a small piece of it.\",\n",
              " \"So I think we'll see how it goes, and we'll give you as much insight as we can. But I think trying to predict cumulative betas by year-end is hard.\",\n",
              " \"No problem. I'm glad you made it rhetorical.\",\n",
              " \"Let me take a shot at this first. Listen, I think we have the work we're doing on all of the risk and infrastructure work, which supports the regulatory matters. It's our own headcount. It's professional. It's a bunch of technology work. It really cuts across a whole series of lines. And I just don't really think it's the right time for us to start even talking about where those saves could come from. And it's just genuinely not on a radar screen in terms of what we're thinking about where it's going to go or anything like that.\",\n",
              " \"So I'd rather just defer the question at this point.\",\n",
              " \"Sure. Yes. And that was, by the way, not meant to be a new comment. That's something that we've been doing ever since I got here, and we brought a new management, including Kristy Fercho, who runs the business. And I mean, if you just go back and look at how big we were in the mortgage business, we were a hell of a lot bigger than we are today.\",\n",
              " \"And so we have been all along just reassessing what makes sense for us to do, how big we want to be both in the context of what our focus should be in terms of our primary focus should be on service -- serving our own customer base -- and then to the extent that we have efficiencies, would it makes sense for us to do other business. But I guess my point was we're not interested in being extraordinarily large in the mortgage business just for the sake of being in the mortgage business. We're in the home lending business because we think home lending is an important product for us to talk to our customers about. And that will ultimately dictate the appropriate size of it.\",\n",
              " \"And so I would just -- when you look at how much we're originating versus the size of our servicing business. The servicing business over time will become smaller. And I think that's a smart and good thing for us for many reasons. And as I said, we're just going to -- we're going to focus on products that make sense for us in the context of where we can make money over the cycles, given all of the complexities and all the requirements that banks have that not necessarily everyone else have and make sure we're getting the right returns for it.\",\n",
              " \"No, yes. No, I would -- I mean, listen, we're still -- I would still assume that a substantial amount of our mortgage production would be eligible for sale. And whether it's through the agencies or through public market, that's all options that we want to continue.\",\n",
              " \"And so we'll still be originating mortgages across the spectrum, some of which will keep on balance sheet when it makes sense and others of which we'll sell, and we will have an MSR. Again, if you just look at how much we originated historically versus what we're originating today, it will naturally just come down over time.\",\n",
              " \"So Mike Weinbach, who had come in to run our home lending businesses. Put a whole series of things in place, including if you look at the leadership across all of our card business, our home lending business, our personal lending business in our auto business, all those -- that's an entirely new management team, plus new heads of -- I can go through all the other functions as well. And Mike put that in place, and we talked about it and he wanted to do something different.\",\n",
              " \"And so we're lucky enough to have a gentleman named Kleber Santos, who joined us 1.5 years to two years ago. Background he was a Capital One prior to that and McKinsey prior to that, and Kelber and I have worked extremely closely together and just thrilled to have him in that role.\",\n",
              " \"And so I think I wouldn't expect to see significant changes in the things that we've spoken about. We're focused on continuing the product build-out on the credit card side, again, focusing on customers that are broader customers in the franchise. Building our customer service around that and building out our digital capabilities and all the other parts of the business, which is work that we have underway.\",\n",
              " \"So I don't anticipate any material changes from where we are just with continued trends and the things that we've been talking about.\",\n",
              " \"Let me start, Mike. And Mike and I are both very involved in these conversations with Barry and his team I think if you look at our wealth business, it's run entirely different today than it was several years ago. We had separate platforms historically here between our brokerage business. We had two different private banks that operated under two different brands. We had our bank channel. And then completely separately, we had a digital platform, and we had a platform or advisers that wanted to go independent. The digital platforms and the platform for independent advisers had very little investment in it. And those would run -- but all of those businesses, they were run as separate businesses with separate product platforms and separate technology.\",\n",
              " \"And so what we've done is we now have one set of products and service capabilities that all of those product lines have access to. And we've combined the entire field under one leader. And we're investing in our digital capabilities, and we're investing in the capabilities of those that want to go independent.\",\n",
              " 'So if they want to do that, they can stay here as opposed to elsewhere.',\n",
              " \"We are building out capabilities across all the dimensions from the investment capabilities to the banking capabilities, our lending capabilities, offering trust in the other areas of distribution that didn't have access to those in the past.\",\n",
              " \"And so it's a huge set of changes, which also bring with it a set of changes in the back end, which we're going to move -- we're moving towards common platforms. And it's something we're really excited about, and we're just at the beginning of seeing the benefits of it. And I think it's one of the things that will make us appear to -- for our financial advisers, it’s been extremely attractive place to be, whether they want to be an employee and work for Wells Fargo or they want to be independent and access our capabilities.\",\n",
              " \"Yes. I would say -- yes, just not expand even further, Betsy. It's really a combination of the advisers and the products that Berry has to offer in our wealth management business. It is also leveraging the lending products that Clover is now responsible for, including credit card and including mortgage and potentially, auto and some other things there. In integrated offering with Mary's bank customers who are affluent.\",\n",
              " \"So it's an offering across all of our product sets directed in a much more segmented way than we've ever done in the past.\",\n",
              " \"And so we're extremely excited about it, and we'll be talking more about things that were capabilities that were going to be rolling out throughout the year.\",\n",
              " \"First of all, our targeted customer, those that we want to have a broader relationship with. What we have said is that as we've rolled out this new product set, when you look at the credit quality of the borrowers and the spenders that we have been giving our new cards due to the credit quality is actually stronger than it had been historically. And it still is either on target or stronger than we would have modeled for when we rolled the products out. It's just we're not competing on credit terms. We're not competing in any way, shape or form in terms of that. We just want to have a quality offering, we would expect it to be a high-quality card customer that we can do other things with across our franchise.\",\n",
              " 'Yes, I think you can get some of that in the Q, Matt, you got to go a little deep into the queue, but you can get some of that in the distribution table in the Q.',\n",
              " 'All right, everyone. Thank you very much. We appreciate everything and we look forward to talking to you all. Take care.']"
            ]
          },
          "metadata": {},
          "execution_count": 85
        }
      ]
    },
    {
      "cell_type": "code",
      "source": [
        "\n",
        "\n",
        "vectorizer_model = CountVectorizer( stop_words=\"english\")"
      ],
      "metadata": {
        "id": "gR3To0XnXNTp"
      },
      "execution_count": null,
      "outputs": []
    },
    {
      "cell_type": "code",
      "source": [
        ""
      ],
      "metadata": {
        "id": "Q3qLF4-ZdLPT"
      },
      "execution_count": null,
      "outputs": []
    },
    {
      "cell_type": "code",
      "source": [
        "custom_doc = temp_dict[\"John Campbell\"]+temp_dict[\"John McDonald\"]+temp_dict[\"Mike Santomassimo\"]+temp_dict[\"Charlie Scharf\"]"
      ],
      "metadata": {
        "id": "x4-6Fmf_WKR7"
      },
      "execution_count": null,
      "outputs": []
    },
    {
      "cell_type": "code",
      "source": [
        "topic_model_custom = BERTopic(vectorizer_model=vectorizer_model)\n",
        "topics_custom, probs_custom = topic_model_custom.fit_transform(custom_doc)"
      ],
      "metadata": {
        "id": "BKJG5YneNvy5"
      },
      "execution_count": null,
      "outputs": []
    },
    {
      "cell_type": "code",
      "source": [
        "topic_model_custom.get_topic_info()"
      ],
      "metadata": {
        "colab": {
          "base_uri": "https://localhost:8080/",
          "height": 143
        },
        "id": "gRVZgvKiOZBi",
        "outputId": "c88c0256-eba9-4986-d0cf-e119c9674e6a"
      },
      "execution_count": null,
      "outputs": [
        {
          "output_type": "execute_result",
          "data": {
            "text/plain": [
              "   Topic  Count                                 Name\n",
              "0     -1     33              -1_year_new_credit_card\n",
              "1      0    117            0_quarter_year_think_loan\n",
              "2      1     28  1_business_capabilities_fargo_wells"
            ],
            "text/html": [
              "\n",
              "  <div id=\"df-cd7a8998-50f9-4ad4-9785-5e9162ee9e84\">\n",
              "    <div class=\"colab-df-container\">\n",
              "      <div>\n",
              "<style scoped>\n",
              "    .dataframe tbody tr th:only-of-type {\n",
              "        vertical-align: middle;\n",
              "    }\n",
              "\n",
              "    .dataframe tbody tr th {\n",
              "        vertical-align: top;\n",
              "    }\n",
              "\n",
              "    .dataframe thead th {\n",
              "        text-align: right;\n",
              "    }\n",
              "</style>\n",
              "<table border=\"1\" class=\"dataframe\">\n",
              "  <thead>\n",
              "    <tr style=\"text-align: right;\">\n",
              "      <th></th>\n",
              "      <th>Topic</th>\n",
              "      <th>Count</th>\n",
              "      <th>Name</th>\n",
              "    </tr>\n",
              "  </thead>\n",
              "  <tbody>\n",
              "    <tr>\n",
              "      <th>0</th>\n",
              "      <td>-1</td>\n",
              "      <td>33</td>\n",
              "      <td>-1_year_new_credit_card</td>\n",
              "    </tr>\n",
              "    <tr>\n",
              "      <th>1</th>\n",
              "      <td>0</td>\n",
              "      <td>117</td>\n",
              "      <td>0_quarter_year_think_loan</td>\n",
              "    </tr>\n",
              "    <tr>\n",
              "      <th>2</th>\n",
              "      <td>1</td>\n",
              "      <td>28</td>\n",
              "      <td>1_business_capabilities_fargo_wells</td>\n",
              "    </tr>\n",
              "  </tbody>\n",
              "</table>\n",
              "</div>\n",
              "      <button class=\"colab-df-convert\" onclick=\"convertToInteractive('df-cd7a8998-50f9-4ad4-9785-5e9162ee9e84')\"\n",
              "              title=\"Convert this dataframe to an interactive table.\"\n",
              "              style=\"display:none;\">\n",
              "        \n",
              "  <svg xmlns=\"http://www.w3.org/2000/svg\" height=\"24px\"viewBox=\"0 0 24 24\"\n",
              "       width=\"24px\">\n",
              "    <path d=\"M0 0h24v24H0V0z\" fill=\"none\"/>\n",
              "    <path d=\"M18.56 5.44l.94 2.06.94-2.06 2.06-.94-2.06-.94-.94-2.06-.94 2.06-2.06.94zm-11 1L8.5 8.5l.94-2.06 2.06-.94-2.06-.94L8.5 2.5l-.94 2.06-2.06.94zm10 10l.94 2.06.94-2.06 2.06-.94-2.06-.94-.94-2.06-.94 2.06-2.06.94z\"/><path d=\"M17.41 7.96l-1.37-1.37c-.4-.4-.92-.59-1.43-.59-.52 0-1.04.2-1.43.59L10.3 9.45l-7.72 7.72c-.78.78-.78 2.05 0 2.83L4 21.41c.39.39.9.59 1.41.59.51 0 1.02-.2 1.41-.59l7.78-7.78 2.81-2.81c.8-.78.8-2.07 0-2.86zM5.41 20L4 18.59l7.72-7.72 1.47 1.35L5.41 20z\"/>\n",
              "  </svg>\n",
              "      </button>\n",
              "      \n",
              "  <style>\n",
              "    .colab-df-container {\n",
              "      display:flex;\n",
              "      flex-wrap:wrap;\n",
              "      gap: 12px;\n",
              "    }\n",
              "\n",
              "    .colab-df-convert {\n",
              "      background-color: #E8F0FE;\n",
              "      border: none;\n",
              "      border-radius: 50%;\n",
              "      cursor: pointer;\n",
              "      display: none;\n",
              "      fill: #1967D2;\n",
              "      height: 32px;\n",
              "      padding: 0 0 0 0;\n",
              "      width: 32px;\n",
              "    }\n",
              "\n",
              "    .colab-df-convert:hover {\n",
              "      background-color: #E2EBFA;\n",
              "      box-shadow: 0px 1px 2px rgba(60, 64, 67, 0.3), 0px 1px 3px 1px rgba(60, 64, 67, 0.15);\n",
              "      fill: #174EA6;\n",
              "    }\n",
              "\n",
              "    [theme=dark] .colab-df-convert {\n",
              "      background-color: #3B4455;\n",
              "      fill: #D2E3FC;\n",
              "    }\n",
              "\n",
              "    [theme=dark] .colab-df-convert:hover {\n",
              "      background-color: #434B5C;\n",
              "      box-shadow: 0px 1px 3px 1px rgba(0, 0, 0, 0.15);\n",
              "      filter: drop-shadow(0px 1px 2px rgba(0, 0, 0, 0.3));\n",
              "      fill: #FFFFFF;\n",
              "    }\n",
              "  </style>\n",
              "\n",
              "      <script>\n",
              "        const buttonEl =\n",
              "          document.querySelector('#df-cd7a8998-50f9-4ad4-9785-5e9162ee9e84 button.colab-df-convert');\n",
              "        buttonEl.style.display =\n",
              "          google.colab.kernel.accessAllowed ? 'block' : 'none';\n",
              "\n",
              "        async function convertToInteractive(key) {\n",
              "          const element = document.querySelector('#df-cd7a8998-50f9-4ad4-9785-5e9162ee9e84');\n",
              "          const dataTable =\n",
              "            await google.colab.kernel.invokeFunction('convertToInteractive',\n",
              "                                                     [key], {});\n",
              "          if (!dataTable) return;\n",
              "\n",
              "          const docLinkHtml = 'Like what you see? Visit the ' +\n",
              "            '<a target=\"_blank\" href=https://colab.research.google.com/notebooks/data_table.ipynb>data table notebook</a>'\n",
              "            + ' to learn more about interactive tables.';\n",
              "          element.innerHTML = '';\n",
              "          dataTable['output_type'] = 'display_data';\n",
              "          await google.colab.output.renderOutput(dataTable, element);\n",
              "          const docLink = document.createElement('div');\n",
              "          docLink.innerHTML = docLinkHtml;\n",
              "          element.appendChild(docLink);\n",
              "        }\n",
              "      </script>\n",
              "    </div>\n",
              "  </div>\n",
              "  "
            ]
          },
          "metadata": {},
          "execution_count": 135
        }
      ]
    },
    {
      "cell_type": "code",
      "source": [
        "topic_model_custom.visualize_barchart()"
      ],
      "metadata": {
        "colab": {
          "base_uri": "https://localhost:8080/",
          "height": 342
        },
        "id": "TeiVWtH8O4sZ",
        "outputId": "52aac938-df16-4a67-9708-01c3e0ef2a01"
      },
      "execution_count": null,
      "outputs": [
        {
          "output_type": "display_data",
          "data": {
            "text/html": [
              "<html>\n",
              "<head><meta charset=\"utf-8\" /></head>\n",
              "<body>\n",
              "    <div>            <script src=\"https://cdnjs.cloudflare.com/ajax/libs/mathjax/2.7.5/MathJax.js?config=TeX-AMS-MML_SVG\"></script><script type=\"text/javascript\">if (window.MathJax) {MathJax.Hub.Config({SVG: {font: \"STIX-Web\"}});}</script>                <script type=\"text/javascript\">window.PlotlyConfig = {MathJaxConfig: 'local'};</script>\n",
              "        <script src=\"https://cdn.plot.ly/plotly-2.8.3.min.js\"></script>                <div id=\"a34e0d5f-3e71-431f-818a-e68050ba91a1\" class=\"plotly-graph-div\" style=\"height:325.0px; width:1000px;\"></div>            <script type=\"text/javascript\">                                    window.PLOTLYENV=window.PLOTLYENV || {};                                    if (document.getElementById(\"a34e0d5f-3e71-431f-818a-e68050ba91a1\")) {                    Plotly.newPlot(                        \"a34e0d5f-3e71-431f-818a-e68050ba91a1\",                        [{\"marker\":{\"color\":\"#D55E00\"},\"orientation\":\"h\",\"x\":[0.040844529460794185,0.0427389896387391,0.056464449232120094,0.05780698178319046,0.06130071823410303],\"y\":[\"ago  \",\"loan  \",\"think  \",\"year  \",\"quarter  \"],\"type\":\"bar\",\"xaxis\":\"x\",\"yaxis\":\"y\"},{\"marker\":{\"color\":\"#0072B2\"},\"orientation\":\"h\",\"x\":[0.05426697118912624,0.05704151308891347,0.05704151308891347,0.06286111818802556,0.10402144210800052],\"y\":[\"customers  \",\"wells  \",\"fargo  \",\"capabilities  \",\"business  \"],\"type\":\"bar\",\"xaxis\":\"x2\",\"yaxis\":\"y2\"}],                        {\"template\":{\"data\":{\"barpolar\":[{\"marker\":{\"line\":{\"color\":\"white\",\"width\":0.5},\"pattern\":{\"fillmode\":\"overlay\",\"size\":10,\"solidity\":0.2}},\"type\":\"barpolar\"}],\"bar\":[{\"error_x\":{\"color\":\"#2a3f5f\"},\"error_y\":{\"color\":\"#2a3f5f\"},\"marker\":{\"line\":{\"color\":\"white\",\"width\":0.5},\"pattern\":{\"fillmode\":\"overlay\",\"size\":10,\"solidity\":0.2}},\"type\":\"bar\"}],\"carpet\":[{\"aaxis\":{\"endlinecolor\":\"#2a3f5f\",\"gridcolor\":\"#C8D4E3\",\"linecolor\":\"#C8D4E3\",\"minorgridcolor\":\"#C8D4E3\",\"startlinecolor\":\"#2a3f5f\"},\"baxis\":{\"endlinecolor\":\"#2a3f5f\",\"gridcolor\":\"#C8D4E3\",\"linecolor\":\"#C8D4E3\",\"minorgridcolor\":\"#C8D4E3\",\"startlinecolor\":\"#2a3f5f\"},\"type\":\"carpet\"}],\"choropleth\":[{\"colorbar\":{\"outlinewidth\":0,\"ticks\":\"\"},\"type\":\"choropleth\"}],\"contourcarpet\":[{\"colorbar\":{\"outlinewidth\":0,\"ticks\":\"\"},\"type\":\"contourcarpet\"}],\"contour\":[{\"colorbar\":{\"outlinewidth\":0,\"ticks\":\"\"},\"colorscale\":[[0.0,\"#0d0887\"],[0.1111111111111111,\"#46039f\"],[0.2222222222222222,\"#7201a8\"],[0.3333333333333333,\"#9c179e\"],[0.4444444444444444,\"#bd3786\"],[0.5555555555555556,\"#d8576b\"],[0.6666666666666666,\"#ed7953\"],[0.7777777777777778,\"#fb9f3a\"],[0.8888888888888888,\"#fdca26\"],[1.0,\"#f0f921\"]],\"type\":\"contour\"}],\"heatmapgl\":[{\"colorbar\":{\"outlinewidth\":0,\"ticks\":\"\"},\"colorscale\":[[0.0,\"#0d0887\"],[0.1111111111111111,\"#46039f\"],[0.2222222222222222,\"#7201a8\"],[0.3333333333333333,\"#9c179e\"],[0.4444444444444444,\"#bd3786\"],[0.5555555555555556,\"#d8576b\"],[0.6666666666666666,\"#ed7953\"],[0.7777777777777778,\"#fb9f3a\"],[0.8888888888888888,\"#fdca26\"],[1.0,\"#f0f921\"]],\"type\":\"heatmapgl\"}],\"heatmap\":[{\"colorbar\":{\"outlinewidth\":0,\"ticks\":\"\"},\"colorscale\":[[0.0,\"#0d0887\"],[0.1111111111111111,\"#46039f\"],[0.2222222222222222,\"#7201a8\"],[0.3333333333333333,\"#9c179e\"],[0.4444444444444444,\"#bd3786\"],[0.5555555555555556,\"#d8576b\"],[0.6666666666666666,\"#ed7953\"],[0.7777777777777778,\"#fb9f3a\"],[0.8888888888888888,\"#fdca26\"],[1.0,\"#f0f921\"]],\"type\":\"heatmap\"}],\"histogram2dcontour\":[{\"colorbar\":{\"outlinewidth\":0,\"ticks\":\"\"},\"colorscale\":[[0.0,\"#0d0887\"],[0.1111111111111111,\"#46039f\"],[0.2222222222222222,\"#7201a8\"],[0.3333333333333333,\"#9c179e\"],[0.4444444444444444,\"#bd3786\"],[0.5555555555555556,\"#d8576b\"],[0.6666666666666666,\"#ed7953\"],[0.7777777777777778,\"#fb9f3a\"],[0.8888888888888888,\"#fdca26\"],[1.0,\"#f0f921\"]],\"type\":\"histogram2dcontour\"}],\"histogram2d\":[{\"colorbar\":{\"outlinewidth\":0,\"ticks\":\"\"},\"colorscale\":[[0.0,\"#0d0887\"],[0.1111111111111111,\"#46039f\"],[0.2222222222222222,\"#7201a8\"],[0.3333333333333333,\"#9c179e\"],[0.4444444444444444,\"#bd3786\"],[0.5555555555555556,\"#d8576b\"],[0.6666666666666666,\"#ed7953\"],[0.7777777777777778,\"#fb9f3a\"],[0.8888888888888888,\"#fdca26\"],[1.0,\"#f0f921\"]],\"type\":\"histogram2d\"}],\"histogram\":[{\"marker\":{\"pattern\":{\"fillmode\":\"overlay\",\"size\":10,\"solidity\":0.2}},\"type\":\"histogram\"}],\"mesh3d\":[{\"colorbar\":{\"outlinewidth\":0,\"ticks\":\"\"},\"type\":\"mesh3d\"}],\"parcoords\":[{\"line\":{\"colorbar\":{\"outlinewidth\":0,\"ticks\":\"\"}},\"type\":\"parcoords\"}],\"pie\":[{\"automargin\":true,\"type\":\"pie\"}],\"scatter3d\":[{\"line\":{\"colorbar\":{\"outlinewidth\":0,\"ticks\":\"\"}},\"marker\":{\"colorbar\":{\"outlinewidth\":0,\"ticks\":\"\"}},\"type\":\"scatter3d\"}],\"scattercarpet\":[{\"marker\":{\"colorbar\":{\"outlinewidth\":0,\"ticks\":\"\"}},\"type\":\"scattercarpet\"}],\"scattergeo\":[{\"marker\":{\"colorbar\":{\"outlinewidth\":0,\"ticks\":\"\"}},\"type\":\"scattergeo\"}],\"scattergl\":[{\"marker\":{\"colorbar\":{\"outlinewidth\":0,\"ticks\":\"\"}},\"type\":\"scattergl\"}],\"scattermapbox\":[{\"marker\":{\"colorbar\":{\"outlinewidth\":0,\"ticks\":\"\"}},\"type\":\"scattermapbox\"}],\"scatterpolargl\":[{\"marker\":{\"colorbar\":{\"outlinewidth\":0,\"ticks\":\"\"}},\"type\":\"scatterpolargl\"}],\"scatterpolar\":[{\"marker\":{\"colorbar\":{\"outlinewidth\":0,\"ticks\":\"\"}},\"type\":\"scatterpolar\"}],\"scatter\":[{\"marker\":{\"colorbar\":{\"outlinewidth\":0,\"ticks\":\"\"}},\"type\":\"scatter\"}],\"scatterternary\":[{\"marker\":{\"colorbar\":{\"outlinewidth\":0,\"ticks\":\"\"}},\"type\":\"scatterternary\"}],\"surface\":[{\"colorbar\":{\"outlinewidth\":0,\"ticks\":\"\"},\"colorscale\":[[0.0,\"#0d0887\"],[0.1111111111111111,\"#46039f\"],[0.2222222222222222,\"#7201a8\"],[0.3333333333333333,\"#9c179e\"],[0.4444444444444444,\"#bd3786\"],[0.5555555555555556,\"#d8576b\"],[0.6666666666666666,\"#ed7953\"],[0.7777777777777778,\"#fb9f3a\"],[0.8888888888888888,\"#fdca26\"],[1.0,\"#f0f921\"]],\"type\":\"surface\"}],\"table\":[{\"cells\":{\"fill\":{\"color\":\"#EBF0F8\"},\"line\":{\"color\":\"white\"}},\"header\":{\"fill\":{\"color\":\"#C8D4E3\"},\"line\":{\"color\":\"white\"}},\"type\":\"table\"}]},\"layout\":{\"annotationdefaults\":{\"arrowcolor\":\"#2a3f5f\",\"arrowhead\":0,\"arrowwidth\":1},\"autotypenumbers\":\"strict\",\"coloraxis\":{\"colorbar\":{\"outlinewidth\":0,\"ticks\":\"\"}},\"colorscale\":{\"diverging\":[[0,\"#8e0152\"],[0.1,\"#c51b7d\"],[0.2,\"#de77ae\"],[0.3,\"#f1b6da\"],[0.4,\"#fde0ef\"],[0.5,\"#f7f7f7\"],[0.6,\"#e6f5d0\"],[0.7,\"#b8e186\"],[0.8,\"#7fbc41\"],[0.9,\"#4d9221\"],[1,\"#276419\"]],\"sequential\":[[0.0,\"#0d0887\"],[0.1111111111111111,\"#46039f\"],[0.2222222222222222,\"#7201a8\"],[0.3333333333333333,\"#9c179e\"],[0.4444444444444444,\"#bd3786\"],[0.5555555555555556,\"#d8576b\"],[0.6666666666666666,\"#ed7953\"],[0.7777777777777778,\"#fb9f3a\"],[0.8888888888888888,\"#fdca26\"],[1.0,\"#f0f921\"]],\"sequentialminus\":[[0.0,\"#0d0887\"],[0.1111111111111111,\"#46039f\"],[0.2222222222222222,\"#7201a8\"],[0.3333333333333333,\"#9c179e\"],[0.4444444444444444,\"#bd3786\"],[0.5555555555555556,\"#d8576b\"],[0.6666666666666666,\"#ed7953\"],[0.7777777777777778,\"#fb9f3a\"],[0.8888888888888888,\"#fdca26\"],[1.0,\"#f0f921\"]]},\"colorway\":[\"#636efa\",\"#EF553B\",\"#00cc96\",\"#ab63fa\",\"#FFA15A\",\"#19d3f3\",\"#FF6692\",\"#B6E880\",\"#FF97FF\",\"#FECB52\"],\"font\":{\"color\":\"#2a3f5f\"},\"geo\":{\"bgcolor\":\"white\",\"lakecolor\":\"white\",\"landcolor\":\"white\",\"showlakes\":true,\"showland\":true,\"subunitcolor\":\"#C8D4E3\"},\"hoverlabel\":{\"align\":\"left\"},\"hovermode\":\"closest\",\"mapbox\":{\"style\":\"light\"},\"paper_bgcolor\":\"white\",\"plot_bgcolor\":\"white\",\"polar\":{\"angularaxis\":{\"gridcolor\":\"#EBF0F8\",\"linecolor\":\"#EBF0F8\",\"ticks\":\"\"},\"bgcolor\":\"white\",\"radialaxis\":{\"gridcolor\":\"#EBF0F8\",\"linecolor\":\"#EBF0F8\",\"ticks\":\"\"}},\"scene\":{\"xaxis\":{\"backgroundcolor\":\"white\",\"gridcolor\":\"#DFE8F3\",\"gridwidth\":2,\"linecolor\":\"#EBF0F8\",\"showbackground\":true,\"ticks\":\"\",\"zerolinecolor\":\"#EBF0F8\"},\"yaxis\":{\"backgroundcolor\":\"white\",\"gridcolor\":\"#DFE8F3\",\"gridwidth\":2,\"linecolor\":\"#EBF0F8\",\"showbackground\":true,\"ticks\":\"\",\"zerolinecolor\":\"#EBF0F8\"},\"zaxis\":{\"backgroundcolor\":\"white\",\"gridcolor\":\"#DFE8F3\",\"gridwidth\":2,\"linecolor\":\"#EBF0F8\",\"showbackground\":true,\"ticks\":\"\",\"zerolinecolor\":\"#EBF0F8\"}},\"shapedefaults\":{\"line\":{\"color\":\"#2a3f5f\"}},\"ternary\":{\"aaxis\":{\"gridcolor\":\"#DFE8F3\",\"linecolor\":\"#A2B1C6\",\"ticks\":\"\"},\"baxis\":{\"gridcolor\":\"#DFE8F3\",\"linecolor\":\"#A2B1C6\",\"ticks\":\"\"},\"bgcolor\":\"white\",\"caxis\":{\"gridcolor\":\"#DFE8F3\",\"linecolor\":\"#A2B1C6\",\"ticks\":\"\"}},\"title\":{\"x\":0.05},\"xaxis\":{\"automargin\":true,\"gridcolor\":\"#EBF0F8\",\"linecolor\":\"#EBF0F8\",\"ticks\":\"\",\"title\":{\"standoff\":15},\"zerolinecolor\":\"#EBF0F8\",\"zerolinewidth\":2},\"yaxis\":{\"automargin\":true,\"gridcolor\":\"#EBF0F8\",\"linecolor\":\"#EBF0F8\",\"ticks\":\"\",\"title\":{\"standoff\":15},\"zerolinecolor\":\"#EBF0F8\",\"zerolinewidth\":2}}},\"xaxis\":{\"anchor\":\"y\",\"domain\":[0.0,0.175],\"showgrid\":true},\"yaxis\":{\"anchor\":\"x\",\"domain\":[0.0,1.0],\"showgrid\":true},\"xaxis2\":{\"anchor\":\"y2\",\"domain\":[0.275,0.45],\"showgrid\":true},\"yaxis2\":{\"anchor\":\"x2\",\"domain\":[0.0,1.0],\"showgrid\":true},\"xaxis3\":{\"anchor\":\"y3\",\"domain\":[0.55,0.7250000000000001],\"showgrid\":true},\"yaxis3\":{\"anchor\":\"x3\",\"domain\":[0.0,1.0],\"showgrid\":true},\"xaxis4\":{\"anchor\":\"y4\",\"domain\":[0.825,1.0],\"showgrid\":true},\"yaxis4\":{\"anchor\":\"x4\",\"domain\":[0.0,1.0],\"showgrid\":true},\"annotations\":[{\"font\":{\"size\":16},\"showarrow\":false,\"text\":\"Topic 0\",\"x\":0.0875,\"xanchor\":\"center\",\"xref\":\"paper\",\"y\":1.0,\"yanchor\":\"bottom\",\"yref\":\"paper\"},{\"font\":{\"size\":16},\"showarrow\":false,\"text\":\"Topic 1\",\"x\":0.36250000000000004,\"xanchor\":\"center\",\"xref\":\"paper\",\"y\":1.0,\"yanchor\":\"bottom\",\"yref\":\"paper\"}],\"title\":{\"font\":{\"size\":22,\"color\":\"Black\"},\"text\":\"<b>Topic Word Scores\",\"x\":0.5,\"xanchor\":\"center\",\"yanchor\":\"top\"},\"hoverlabel\":{\"font\":{\"size\":16,\"family\":\"Rockwell\"},\"bgcolor\":\"white\"},\"showlegend\":false,\"width\":1000,\"height\":325.0},                        {\"responsive\": true}                    ).then(function(){\n",
              "                            \n",
              "var gd = document.getElementById('a34e0d5f-3e71-431f-818a-e68050ba91a1');\n",
              "var x = new MutationObserver(function (mutations, observer) {{\n",
              "        var display = window.getComputedStyle(gd).display;\n",
              "        if (!display || display === 'none') {{\n",
              "            console.log([gd, 'removed!']);\n",
              "            Plotly.purge(gd);\n",
              "            observer.disconnect();\n",
              "        }}\n",
              "}});\n",
              "\n",
              "// Listen for the removal of the full notebook cells\n",
              "var notebookContainer = gd.closest('#notebook-container');\n",
              "if (notebookContainer) {{\n",
              "    x.observe(notebookContainer, {childList: true});\n",
              "}}\n",
              "\n",
              "// Listen for the clearing of the current output cell\n",
              "var outputEl = gd.closest('.output');\n",
              "if (outputEl) {{\n",
              "    x.observe(outputEl, {childList: true});\n",
              "}}\n",
              "\n",
              "                        })                };                            </script>        </div>\n",
              "</body>\n",
              "</html>"
            ]
          },
          "metadata": {}
        }
      ]
    },
    {
      "cell_type": "code",
      "source": [
        "topic_model_custom.visualize_topics()"
      ],
      "metadata": {
        "id": "7evgnq0UQYCQ"
      },
      "execution_count": null,
      "outputs": []
    },
    {
      "cell_type": "markdown",
      "source": [
        "#APPle transcripts"
      ],
      "metadata": {
        "id": "izFLfR90gsqO"
      }
    },
    {
      "cell_type": "code",
      "source": [
        "with open(\"/content/apple_transcript.txt\",\"r\") as f:\n",
        "  string = f.read().split(\"\\n\")\n",
        "  clean_string = []\n",
        "  for s in string:\n",
        "    if s.isspace() or s == \"\":\n",
        "      pass\n",
        "    else:\n",
        "      clean_string.append(s)\n",
        "\n",
        "cols = [\"name\",\"position\"]\n",
        "name_df = pd.read_csv(\"/content/apple_names.txt\",sep=\"\\t\",names=cols)\n",
        "\n",
        "chat_list = []\n",
        "temp_name = \"\"\n",
        "temp_dict = {}\n",
        "user_names = list(name_df.name)+[\"Operator\"]\n",
        "for i in clean_string:\n",
        "  if i in user_names and i!=\"\":\n",
        "    temp_name = i\n",
        "    if i not in temp_dict:  \n",
        "      temp_dict[i]= []\n",
        "  else:\n",
        "    if len(i)>30:\n",
        "      temp_dict[temp_name].append(i)"
      ],
      "metadata": {
        "id": "99_UGz5KgwxJ"
      },
      "execution_count": null,
      "outputs": []
    },
    {
      "cell_type": "code",
      "source": [
        "custom_doc = temp_dict[\"Timothy Cook\"] +temp_dict[\"Luca Maestri\"]"
      ],
      "metadata": {
        "id": "b8XPiaPGitXr"
      },
      "execution_count": null,
      "outputs": []
    },
    {
      "cell_type": "code",
      "source": [
        "topic_model_custom = BERTopic(vectorizer_model=vectorizer_model)\n",
        "\n",
        "topics_custom, probs_custom = topic_model_custom.fit_transform(custom_doc)"
      ],
      "metadata": {
        "id": "FWwq36A0ifDp"
      },
      "execution_count": null,
      "outputs": []
    },
    {
      "cell_type": "code",
      "source": [
        "topic_model_custom.get_topic_info()"
      ],
      "metadata": {
        "colab": {
          "base_uri": "https://localhost:8080/",
          "height": 206
        },
        "id": "sei1c4a9irfX",
        "outputId": "69d72fa1-0a8a-41b6-9f4a-a58aff161040"
      },
      "execution_count": null,
      "outputs": [
        {
          "output_type": "execute_result",
          "data": {
            "text/plain": [
              "   Topic  Count                                 Name\n",
              "0     -1     49  -1_quarter_world_june_macroeconomic\n",
              "1      0     19     0_new_customers_apple_developers\n",
              "2      1     15       1_quarter_june_billion_revenue\n",
              "3      2     13      2_foreign_exchange_impact_basis\n",
              "4      3     12      3_quarter_guidance_think_number"
            ],
            "text/html": [
              "\n",
              "  <div id=\"df-4cf7095e-c119-48f7-8dfd-17dc9f659d4c\">\n",
              "    <div class=\"colab-df-container\">\n",
              "      <div>\n",
              "<style scoped>\n",
              "    .dataframe tbody tr th:only-of-type {\n",
              "        vertical-align: middle;\n",
              "    }\n",
              "\n",
              "    .dataframe tbody tr th {\n",
              "        vertical-align: top;\n",
              "    }\n",
              "\n",
              "    .dataframe thead th {\n",
              "        text-align: right;\n",
              "    }\n",
              "</style>\n",
              "<table border=\"1\" class=\"dataframe\">\n",
              "  <thead>\n",
              "    <tr style=\"text-align: right;\">\n",
              "      <th></th>\n",
              "      <th>Topic</th>\n",
              "      <th>Count</th>\n",
              "      <th>Name</th>\n",
              "    </tr>\n",
              "  </thead>\n",
              "  <tbody>\n",
              "    <tr>\n",
              "      <th>0</th>\n",
              "      <td>-1</td>\n",
              "      <td>49</td>\n",
              "      <td>-1_quarter_world_june_macroeconomic</td>\n",
              "    </tr>\n",
              "    <tr>\n",
              "      <th>1</th>\n",
              "      <td>0</td>\n",
              "      <td>19</td>\n",
              "      <td>0_new_customers_apple_developers</td>\n",
              "    </tr>\n",
              "    <tr>\n",
              "      <th>2</th>\n",
              "      <td>1</td>\n",
              "      <td>15</td>\n",
              "      <td>1_quarter_june_billion_revenue</td>\n",
              "    </tr>\n",
              "    <tr>\n",
              "      <th>3</th>\n",
              "      <td>2</td>\n",
              "      <td>13</td>\n",
              "      <td>2_foreign_exchange_impact_basis</td>\n",
              "    </tr>\n",
              "    <tr>\n",
              "      <th>4</th>\n",
              "      <td>3</td>\n",
              "      <td>12</td>\n",
              "      <td>3_quarter_guidance_think_number</td>\n",
              "    </tr>\n",
              "  </tbody>\n",
              "</table>\n",
              "</div>\n",
              "      <button class=\"colab-df-convert\" onclick=\"convertToInteractive('df-4cf7095e-c119-48f7-8dfd-17dc9f659d4c')\"\n",
              "              title=\"Convert this dataframe to an interactive table.\"\n",
              "              style=\"display:none;\">\n",
              "        \n",
              "  <svg xmlns=\"http://www.w3.org/2000/svg\" height=\"24px\"viewBox=\"0 0 24 24\"\n",
              "       width=\"24px\">\n",
              "    <path d=\"M0 0h24v24H0V0z\" fill=\"none\"/>\n",
              "    <path d=\"M18.56 5.44l.94 2.06.94-2.06 2.06-.94-2.06-.94-.94-2.06-.94 2.06-2.06.94zm-11 1L8.5 8.5l.94-2.06 2.06-.94-2.06-.94L8.5 2.5l-.94 2.06-2.06.94zm10 10l.94 2.06.94-2.06 2.06-.94-2.06-.94-.94-2.06-.94 2.06-2.06.94z\"/><path d=\"M17.41 7.96l-1.37-1.37c-.4-.4-.92-.59-1.43-.59-.52 0-1.04.2-1.43.59L10.3 9.45l-7.72 7.72c-.78.78-.78 2.05 0 2.83L4 21.41c.39.39.9.59 1.41.59.51 0 1.02-.2 1.41-.59l7.78-7.78 2.81-2.81c.8-.78.8-2.07 0-2.86zM5.41 20L4 18.59l7.72-7.72 1.47 1.35L5.41 20z\"/>\n",
              "  </svg>\n",
              "      </button>\n",
              "      \n",
              "  <style>\n",
              "    .colab-df-container {\n",
              "      display:flex;\n",
              "      flex-wrap:wrap;\n",
              "      gap: 12px;\n",
              "    }\n",
              "\n",
              "    .colab-df-convert {\n",
              "      background-color: #E8F0FE;\n",
              "      border: none;\n",
              "      border-radius: 50%;\n",
              "      cursor: pointer;\n",
              "      display: none;\n",
              "      fill: #1967D2;\n",
              "      height: 32px;\n",
              "      padding: 0 0 0 0;\n",
              "      width: 32px;\n",
              "    }\n",
              "\n",
              "    .colab-df-convert:hover {\n",
              "      background-color: #E2EBFA;\n",
              "      box-shadow: 0px 1px 2px rgba(60, 64, 67, 0.3), 0px 1px 3px 1px rgba(60, 64, 67, 0.15);\n",
              "      fill: #174EA6;\n",
              "    }\n",
              "\n",
              "    [theme=dark] .colab-df-convert {\n",
              "      background-color: #3B4455;\n",
              "      fill: #D2E3FC;\n",
              "    }\n",
              "\n",
              "    [theme=dark] .colab-df-convert:hover {\n",
              "      background-color: #434B5C;\n",
              "      box-shadow: 0px 1px 3px 1px rgba(0, 0, 0, 0.15);\n",
              "      filter: drop-shadow(0px 1px 2px rgba(0, 0, 0, 0.3));\n",
              "      fill: #FFFFFF;\n",
              "    }\n",
              "  </style>\n",
              "\n",
              "      <script>\n",
              "        const buttonEl =\n",
              "          document.querySelector('#df-4cf7095e-c119-48f7-8dfd-17dc9f659d4c button.colab-df-convert');\n",
              "        buttonEl.style.display =\n",
              "          google.colab.kernel.accessAllowed ? 'block' : 'none';\n",
              "\n",
              "        async function convertToInteractive(key) {\n",
              "          const element = document.querySelector('#df-4cf7095e-c119-48f7-8dfd-17dc9f659d4c');\n",
              "          const dataTable =\n",
              "            await google.colab.kernel.invokeFunction('convertToInteractive',\n",
              "                                                     [key], {});\n",
              "          if (!dataTable) return;\n",
              "\n",
              "          const docLinkHtml = 'Like what you see? Visit the ' +\n",
              "            '<a target=\"_blank\" href=https://colab.research.google.com/notebooks/data_table.ipynb>data table notebook</a>'\n",
              "            + ' to learn more about interactive tables.';\n",
              "          element.innerHTML = '';\n",
              "          dataTable['output_type'] = 'display_data';\n",
              "          await google.colab.output.renderOutput(dataTable, element);\n",
              "          const docLink = document.createElement('div');\n",
              "          docLink.innerHTML = docLinkHtml;\n",
              "          element.appendChild(docLink);\n",
              "        }\n",
              "      </script>\n",
              "    </div>\n",
              "  </div>\n",
              "  "
            ]
          },
          "metadata": {},
          "execution_count": 173
        }
      ]
    },
    {
      "cell_type": "code",
      "source": [
        "topic_model_custom.visualize_barchart()"
      ],
      "metadata": {
        "colab": {
          "base_uri": "https://localhost:8080/",
          "height": 342
        },
        "id": "cYgCZ_xui4SH",
        "outputId": "8db6f8c3-dfc2-4bda-83c2-bafe37ef766e"
      },
      "execution_count": null,
      "outputs": [
        {
          "output_type": "display_data",
          "data": {
            "text/html": [
              "<html>\n",
              "<head><meta charset=\"utf-8\" /></head>\n",
              "<body>\n",
              "    <div>            <script src=\"https://cdnjs.cloudflare.com/ajax/libs/mathjax/2.7.5/MathJax.js?config=TeX-AMS-MML_SVG\"></script><script type=\"text/javascript\">if (window.MathJax) {MathJax.Hub.Config({SVG: {font: \"STIX-Web\"}});}</script>                <script type=\"text/javascript\">window.PlotlyConfig = {MathJaxConfig: 'local'};</script>\n",
              "        <script src=\"https://cdn.plot.ly/plotly-2.8.3.min.js\"></script>                <div id=\"5ebc58ab-c52c-4b5f-bbe4-7f5f738aa0cf\" class=\"plotly-graph-div\" style=\"height:325.0px; width:1000px;\"></div>            <script type=\"text/javascript\">                                    window.PLOTLYENV=window.PLOTLYENV || {};                                    if (document.getElementById(\"5ebc58ab-c52c-4b5f-bbe4-7f5f738aa0cf\")) {                    Plotly.newPlot(                        \"5ebc58ab-c52c-4b5f-bbe4-7f5f738aa0cf\",                        [{\"marker\":{\"color\":\"#D55E00\"},\"orientation\":\"h\",\"x\":[0.03702279182314851,0.037814317198182616,0.05580305660531041,0.05590675267608435,0.07407318515572583],\"y\":[\"mac  \",\"developers  \",\"apple  \",\"customers  \",\"new  \"],\"type\":\"bar\",\"xaxis\":\"x\",\"yaxis\":\"y\"},{\"marker\":{\"color\":\"#0072B2\"},\"orientation\":\"h\",\"x\":[0.09803187499329064,0.10736442455559192,0.11131299994032777,0.11835863590779166,0.12286598268904322],\"y\":[\"record  \",\"revenue  \",\"billion  \",\"june  \",\"quarter  \"],\"type\":\"bar\",\"xaxis\":\"x2\",\"yaxis\":\"y2\"},{\"marker\":{\"color\":\"#CC79A7\"},\"orientation\":\"h\",\"x\":[0.07822262798130598,0.09799230704352573,0.10456471561469294,0.10624900772924359,0.10624900772924359],\"y\":[\"going  \",\"basis  \",\"impact  \",\"exchange  \",\"foreign  \"],\"type\":\"bar\",\"xaxis\":\"x3\",\"yaxis\":\"y3\"},{\"marker\":{\"color\":\"#E69F00\"},\"orientation\":\"h\",\"x\":[0.11545619576219704,0.11871099177951407,0.14219768016230674,0.14227305727236003,0.14613605516802866],\"y\":[\"services  \",\"number  \",\"think  \",\"guidance  \",\"quarter  \"],\"type\":\"bar\",\"xaxis\":\"x4\",\"yaxis\":\"y4\"}],                        {\"template\":{\"data\":{\"barpolar\":[{\"marker\":{\"line\":{\"color\":\"white\",\"width\":0.5},\"pattern\":{\"fillmode\":\"overlay\",\"size\":10,\"solidity\":0.2}},\"type\":\"barpolar\"}],\"bar\":[{\"error_x\":{\"color\":\"#2a3f5f\"},\"error_y\":{\"color\":\"#2a3f5f\"},\"marker\":{\"line\":{\"color\":\"white\",\"width\":0.5},\"pattern\":{\"fillmode\":\"overlay\",\"size\":10,\"solidity\":0.2}},\"type\":\"bar\"}],\"carpet\":[{\"aaxis\":{\"endlinecolor\":\"#2a3f5f\",\"gridcolor\":\"#C8D4E3\",\"linecolor\":\"#C8D4E3\",\"minorgridcolor\":\"#C8D4E3\",\"startlinecolor\":\"#2a3f5f\"},\"baxis\":{\"endlinecolor\":\"#2a3f5f\",\"gridcolor\":\"#C8D4E3\",\"linecolor\":\"#C8D4E3\",\"minorgridcolor\":\"#C8D4E3\",\"startlinecolor\":\"#2a3f5f\"},\"type\":\"carpet\"}],\"choropleth\":[{\"colorbar\":{\"outlinewidth\":0,\"ticks\":\"\"},\"type\":\"choropleth\"}],\"contourcarpet\":[{\"colorbar\":{\"outlinewidth\":0,\"ticks\":\"\"},\"type\":\"contourcarpet\"}],\"contour\":[{\"colorbar\":{\"outlinewidth\":0,\"ticks\":\"\"},\"colorscale\":[[0.0,\"#0d0887\"],[0.1111111111111111,\"#46039f\"],[0.2222222222222222,\"#7201a8\"],[0.3333333333333333,\"#9c179e\"],[0.4444444444444444,\"#bd3786\"],[0.5555555555555556,\"#d8576b\"],[0.6666666666666666,\"#ed7953\"],[0.7777777777777778,\"#fb9f3a\"],[0.8888888888888888,\"#fdca26\"],[1.0,\"#f0f921\"]],\"type\":\"contour\"}],\"heatmapgl\":[{\"colorbar\":{\"outlinewidth\":0,\"ticks\":\"\"},\"colorscale\":[[0.0,\"#0d0887\"],[0.1111111111111111,\"#46039f\"],[0.2222222222222222,\"#7201a8\"],[0.3333333333333333,\"#9c179e\"],[0.4444444444444444,\"#bd3786\"],[0.5555555555555556,\"#d8576b\"],[0.6666666666666666,\"#ed7953\"],[0.7777777777777778,\"#fb9f3a\"],[0.8888888888888888,\"#fdca26\"],[1.0,\"#f0f921\"]],\"type\":\"heatmapgl\"}],\"heatmap\":[{\"colorbar\":{\"outlinewidth\":0,\"ticks\":\"\"},\"colorscale\":[[0.0,\"#0d0887\"],[0.1111111111111111,\"#46039f\"],[0.2222222222222222,\"#7201a8\"],[0.3333333333333333,\"#9c179e\"],[0.4444444444444444,\"#bd3786\"],[0.5555555555555556,\"#d8576b\"],[0.6666666666666666,\"#ed7953\"],[0.7777777777777778,\"#fb9f3a\"],[0.8888888888888888,\"#fdca26\"],[1.0,\"#f0f921\"]],\"type\":\"heatmap\"}],\"histogram2dcontour\":[{\"colorbar\":{\"outlinewidth\":0,\"ticks\":\"\"},\"colorscale\":[[0.0,\"#0d0887\"],[0.1111111111111111,\"#46039f\"],[0.2222222222222222,\"#7201a8\"],[0.3333333333333333,\"#9c179e\"],[0.4444444444444444,\"#bd3786\"],[0.5555555555555556,\"#d8576b\"],[0.6666666666666666,\"#ed7953\"],[0.7777777777777778,\"#fb9f3a\"],[0.8888888888888888,\"#fdca26\"],[1.0,\"#f0f921\"]],\"type\":\"histogram2dcontour\"}],\"histogram2d\":[{\"colorbar\":{\"outlinewidth\":0,\"ticks\":\"\"},\"colorscale\":[[0.0,\"#0d0887\"],[0.1111111111111111,\"#46039f\"],[0.2222222222222222,\"#7201a8\"],[0.3333333333333333,\"#9c179e\"],[0.4444444444444444,\"#bd3786\"],[0.5555555555555556,\"#d8576b\"],[0.6666666666666666,\"#ed7953\"],[0.7777777777777778,\"#fb9f3a\"],[0.8888888888888888,\"#fdca26\"],[1.0,\"#f0f921\"]],\"type\":\"histogram2d\"}],\"histogram\":[{\"marker\":{\"pattern\":{\"fillmode\":\"overlay\",\"size\":10,\"solidity\":0.2}},\"type\":\"histogram\"}],\"mesh3d\":[{\"colorbar\":{\"outlinewidth\":0,\"ticks\":\"\"},\"type\":\"mesh3d\"}],\"parcoords\":[{\"line\":{\"colorbar\":{\"outlinewidth\":0,\"ticks\":\"\"}},\"type\":\"parcoords\"}],\"pie\":[{\"automargin\":true,\"type\":\"pie\"}],\"scatter3d\":[{\"line\":{\"colorbar\":{\"outlinewidth\":0,\"ticks\":\"\"}},\"marker\":{\"colorbar\":{\"outlinewidth\":0,\"ticks\":\"\"}},\"type\":\"scatter3d\"}],\"scattercarpet\":[{\"marker\":{\"colorbar\":{\"outlinewidth\":0,\"ticks\":\"\"}},\"type\":\"scattercarpet\"}],\"scattergeo\":[{\"marker\":{\"colorbar\":{\"outlinewidth\":0,\"ticks\":\"\"}},\"type\":\"scattergeo\"}],\"scattergl\":[{\"marker\":{\"colorbar\":{\"outlinewidth\":0,\"ticks\":\"\"}},\"type\":\"scattergl\"}],\"scattermapbox\":[{\"marker\":{\"colorbar\":{\"outlinewidth\":0,\"ticks\":\"\"}},\"type\":\"scattermapbox\"}],\"scatterpolargl\":[{\"marker\":{\"colorbar\":{\"outlinewidth\":0,\"ticks\":\"\"}},\"type\":\"scatterpolargl\"}],\"scatterpolar\":[{\"marker\":{\"colorbar\":{\"outlinewidth\":0,\"ticks\":\"\"}},\"type\":\"scatterpolar\"}],\"scatter\":[{\"marker\":{\"colorbar\":{\"outlinewidth\":0,\"ticks\":\"\"}},\"type\":\"scatter\"}],\"scatterternary\":[{\"marker\":{\"colorbar\":{\"outlinewidth\":0,\"ticks\":\"\"}},\"type\":\"scatterternary\"}],\"surface\":[{\"colorbar\":{\"outlinewidth\":0,\"ticks\":\"\"},\"colorscale\":[[0.0,\"#0d0887\"],[0.1111111111111111,\"#46039f\"],[0.2222222222222222,\"#7201a8\"],[0.3333333333333333,\"#9c179e\"],[0.4444444444444444,\"#bd3786\"],[0.5555555555555556,\"#d8576b\"],[0.6666666666666666,\"#ed7953\"],[0.7777777777777778,\"#fb9f3a\"],[0.8888888888888888,\"#fdca26\"],[1.0,\"#f0f921\"]],\"type\":\"surface\"}],\"table\":[{\"cells\":{\"fill\":{\"color\":\"#EBF0F8\"},\"line\":{\"color\":\"white\"}},\"header\":{\"fill\":{\"color\":\"#C8D4E3\"},\"line\":{\"color\":\"white\"}},\"type\":\"table\"}]},\"layout\":{\"annotationdefaults\":{\"arrowcolor\":\"#2a3f5f\",\"arrowhead\":0,\"arrowwidth\":1},\"autotypenumbers\":\"strict\",\"coloraxis\":{\"colorbar\":{\"outlinewidth\":0,\"ticks\":\"\"}},\"colorscale\":{\"diverging\":[[0,\"#8e0152\"],[0.1,\"#c51b7d\"],[0.2,\"#de77ae\"],[0.3,\"#f1b6da\"],[0.4,\"#fde0ef\"],[0.5,\"#f7f7f7\"],[0.6,\"#e6f5d0\"],[0.7,\"#b8e186\"],[0.8,\"#7fbc41\"],[0.9,\"#4d9221\"],[1,\"#276419\"]],\"sequential\":[[0.0,\"#0d0887\"],[0.1111111111111111,\"#46039f\"],[0.2222222222222222,\"#7201a8\"],[0.3333333333333333,\"#9c179e\"],[0.4444444444444444,\"#bd3786\"],[0.5555555555555556,\"#d8576b\"],[0.6666666666666666,\"#ed7953\"],[0.7777777777777778,\"#fb9f3a\"],[0.8888888888888888,\"#fdca26\"],[1.0,\"#f0f921\"]],\"sequentialminus\":[[0.0,\"#0d0887\"],[0.1111111111111111,\"#46039f\"],[0.2222222222222222,\"#7201a8\"],[0.3333333333333333,\"#9c179e\"],[0.4444444444444444,\"#bd3786\"],[0.5555555555555556,\"#d8576b\"],[0.6666666666666666,\"#ed7953\"],[0.7777777777777778,\"#fb9f3a\"],[0.8888888888888888,\"#fdca26\"],[1.0,\"#f0f921\"]]},\"colorway\":[\"#636efa\",\"#EF553B\",\"#00cc96\",\"#ab63fa\",\"#FFA15A\",\"#19d3f3\",\"#FF6692\",\"#B6E880\",\"#FF97FF\",\"#FECB52\"],\"font\":{\"color\":\"#2a3f5f\"},\"geo\":{\"bgcolor\":\"white\",\"lakecolor\":\"white\",\"landcolor\":\"white\",\"showlakes\":true,\"showland\":true,\"subunitcolor\":\"#C8D4E3\"},\"hoverlabel\":{\"align\":\"left\"},\"hovermode\":\"closest\",\"mapbox\":{\"style\":\"light\"},\"paper_bgcolor\":\"white\",\"plot_bgcolor\":\"white\",\"polar\":{\"angularaxis\":{\"gridcolor\":\"#EBF0F8\",\"linecolor\":\"#EBF0F8\",\"ticks\":\"\"},\"bgcolor\":\"white\",\"radialaxis\":{\"gridcolor\":\"#EBF0F8\",\"linecolor\":\"#EBF0F8\",\"ticks\":\"\"}},\"scene\":{\"xaxis\":{\"backgroundcolor\":\"white\",\"gridcolor\":\"#DFE8F3\",\"gridwidth\":2,\"linecolor\":\"#EBF0F8\",\"showbackground\":true,\"ticks\":\"\",\"zerolinecolor\":\"#EBF0F8\"},\"yaxis\":{\"backgroundcolor\":\"white\",\"gridcolor\":\"#DFE8F3\",\"gridwidth\":2,\"linecolor\":\"#EBF0F8\",\"showbackground\":true,\"ticks\":\"\",\"zerolinecolor\":\"#EBF0F8\"},\"zaxis\":{\"backgroundcolor\":\"white\",\"gridcolor\":\"#DFE8F3\",\"gridwidth\":2,\"linecolor\":\"#EBF0F8\",\"showbackground\":true,\"ticks\":\"\",\"zerolinecolor\":\"#EBF0F8\"}},\"shapedefaults\":{\"line\":{\"color\":\"#2a3f5f\"}},\"ternary\":{\"aaxis\":{\"gridcolor\":\"#DFE8F3\",\"linecolor\":\"#A2B1C6\",\"ticks\":\"\"},\"baxis\":{\"gridcolor\":\"#DFE8F3\",\"linecolor\":\"#A2B1C6\",\"ticks\":\"\"},\"bgcolor\":\"white\",\"caxis\":{\"gridcolor\":\"#DFE8F3\",\"linecolor\":\"#A2B1C6\",\"ticks\":\"\"}},\"title\":{\"x\":0.05},\"xaxis\":{\"automargin\":true,\"gridcolor\":\"#EBF0F8\",\"linecolor\":\"#EBF0F8\",\"ticks\":\"\",\"title\":{\"standoff\":15},\"zerolinecolor\":\"#EBF0F8\",\"zerolinewidth\":2},\"yaxis\":{\"automargin\":true,\"gridcolor\":\"#EBF0F8\",\"linecolor\":\"#EBF0F8\",\"ticks\":\"\",\"title\":{\"standoff\":15},\"zerolinecolor\":\"#EBF0F8\",\"zerolinewidth\":2}}},\"xaxis\":{\"anchor\":\"y\",\"domain\":[0.0,0.175],\"showgrid\":true},\"yaxis\":{\"anchor\":\"x\",\"domain\":[0.0,1.0],\"showgrid\":true},\"xaxis2\":{\"anchor\":\"y2\",\"domain\":[0.275,0.45],\"showgrid\":true},\"yaxis2\":{\"anchor\":\"x2\",\"domain\":[0.0,1.0],\"showgrid\":true},\"xaxis3\":{\"anchor\":\"y3\",\"domain\":[0.55,0.7250000000000001],\"showgrid\":true},\"yaxis3\":{\"anchor\":\"x3\",\"domain\":[0.0,1.0],\"showgrid\":true},\"xaxis4\":{\"anchor\":\"y4\",\"domain\":[0.825,1.0],\"showgrid\":true},\"yaxis4\":{\"anchor\":\"x4\",\"domain\":[0.0,1.0],\"showgrid\":true},\"annotations\":[{\"font\":{\"size\":16},\"showarrow\":false,\"text\":\"Topic 0\",\"x\":0.0875,\"xanchor\":\"center\",\"xref\":\"paper\",\"y\":1.0,\"yanchor\":\"bottom\",\"yref\":\"paper\"},{\"font\":{\"size\":16},\"showarrow\":false,\"text\":\"Topic 1\",\"x\":0.36250000000000004,\"xanchor\":\"center\",\"xref\":\"paper\",\"y\":1.0,\"yanchor\":\"bottom\",\"yref\":\"paper\"},{\"font\":{\"size\":16},\"showarrow\":false,\"text\":\"Topic 2\",\"x\":0.6375000000000001,\"xanchor\":\"center\",\"xref\":\"paper\",\"y\":1.0,\"yanchor\":\"bottom\",\"yref\":\"paper\"},{\"font\":{\"size\":16},\"showarrow\":false,\"text\":\"Topic 3\",\"x\":0.9125,\"xanchor\":\"center\",\"xref\":\"paper\",\"y\":1.0,\"yanchor\":\"bottom\",\"yref\":\"paper\"}],\"title\":{\"font\":{\"size\":22,\"color\":\"Black\"},\"text\":\"<b>Topic Word Scores\",\"x\":0.5,\"xanchor\":\"center\",\"yanchor\":\"top\"},\"hoverlabel\":{\"font\":{\"size\":16,\"family\":\"Rockwell\"},\"bgcolor\":\"white\"},\"showlegend\":false,\"width\":1000,\"height\":325.0},                        {\"responsive\": true}                    ).then(function(){\n",
              "                            \n",
              "var gd = document.getElementById('5ebc58ab-c52c-4b5f-bbe4-7f5f738aa0cf');\n",
              "var x = new MutationObserver(function (mutations, observer) {{\n",
              "        var display = window.getComputedStyle(gd).display;\n",
              "        if (!display || display === 'none') {{\n",
              "            console.log([gd, 'removed!']);\n",
              "            Plotly.purge(gd);\n",
              "            observer.disconnect();\n",
              "        }}\n",
              "}});\n",
              "\n",
              "// Listen for the removal of the full notebook cells\n",
              "var notebookContainer = gd.closest('#notebook-container');\n",
              "if (notebookContainer) {{\n",
              "    x.observe(notebookContainer, {childList: true});\n",
              "}}\n",
              "\n",
              "// Listen for the clearing of the current output cell\n",
              "var outputEl = gd.closest('.output');\n",
              "if (outputEl) {{\n",
              "    x.observe(outputEl, {childList: true});\n",
              "}}\n",
              "\n",
              "                        })                };                            </script>        </div>\n",
              "</body>\n",
              "</html>"
            ]
          },
          "metadata": {}
        }
      ]
    },
    {
      "cell_type": "code",
      "source": [
        "topic_model_custom.visualize_topics()"
      ],
      "metadata": {
        "colab": {
          "base_uri": "https://localhost:8080/",
          "height": 667
        },
        "id": "xpBH-9mymBFF",
        "outputId": "bfc1818a-ad0a-49e8-ee19-c4f59ed8ca71"
      },
      "execution_count": null,
      "outputs": [
        {
          "output_type": "display_data",
          "data": {
            "text/html": [
              "<html>\n",
              "<head><meta charset=\"utf-8\" /></head>\n",
              "<body>\n",
              "    <div>            <script src=\"https://cdnjs.cloudflare.com/ajax/libs/mathjax/2.7.5/MathJax.js?config=TeX-AMS-MML_SVG\"></script><script type=\"text/javascript\">if (window.MathJax) {MathJax.Hub.Config({SVG: {font: \"STIX-Web\"}});}</script>                <script type=\"text/javascript\">window.PlotlyConfig = {MathJaxConfig: 'local'};</script>\n",
              "        <script src=\"https://cdn.plot.ly/plotly-2.8.3.min.js\"></script>                <div id=\"94584328-1c8c-4183-b73c-38fcbec16a75\" class=\"plotly-graph-div\" style=\"height:650px; width:650px;\"></div>            <script type=\"text/javascript\">                                    window.PLOTLYENV=window.PLOTLYENV || {};                                    if (document.getElementById(\"94584328-1c8c-4183-b73c-38fcbec16a75\")) {                    Plotly.newPlot(                        \"94584328-1c8c-4183-b73c-38fcbec16a75\",                        [{\"customdata\":[[0,\"new | customers | apple | developers | mac\",19],[1,\"quarter | june | billion | revenue | record\",15],[2,\"foreign | exchange | impact | basis | going\",13],[3,\"quarter | guidance | think | number | services\",12]],\"hovertemplate\":\"<b>Topic %{customdata[0]}</b><br>Words: %{customdata[1]}<br>Size: %{customdata[2]}\",\"legendgroup\":\"\",\"marker\":{\"color\":\"#B0BEC5\",\"size\":[19,15,13,12],\"sizemode\":\"area\",\"sizeref\":0.011875,\"symbol\":\"circle\",\"line\":{\"color\":\"DarkSlateGrey\",\"width\":2}},\"mode\":\"markers\",\"name\":\"\",\"orientation\":\"v\",\"showlegend\":false,\"x\":[11.833840370178223,11.57673168182373,10.782801628112793,10.122511863708496],\"xaxis\":\"x\",\"y\":[8.862138748168945,8.02665901184082,7.514830112457275,8.077360153198242],\"yaxis\":\"y\",\"type\":\"scatter\"}],                        {\"template\":{\"data\":{\"barpolar\":[{\"marker\":{\"line\":{\"color\":\"white\",\"width\":0.5},\"pattern\":{\"fillmode\":\"overlay\",\"size\":10,\"solidity\":0.2}},\"type\":\"barpolar\"}],\"bar\":[{\"error_x\":{\"color\":\"rgb(36,36,36)\"},\"error_y\":{\"color\":\"rgb(36,36,36)\"},\"marker\":{\"line\":{\"color\":\"white\",\"width\":0.5},\"pattern\":{\"fillmode\":\"overlay\",\"size\":10,\"solidity\":0.2}},\"type\":\"bar\"}],\"carpet\":[{\"aaxis\":{\"endlinecolor\":\"rgb(36,36,36)\",\"gridcolor\":\"white\",\"linecolor\":\"white\",\"minorgridcolor\":\"white\",\"startlinecolor\":\"rgb(36,36,36)\"},\"baxis\":{\"endlinecolor\":\"rgb(36,36,36)\",\"gridcolor\":\"white\",\"linecolor\":\"white\",\"minorgridcolor\":\"white\",\"startlinecolor\":\"rgb(36,36,36)\"},\"type\":\"carpet\"}],\"choropleth\":[{\"colorbar\":{\"outlinewidth\":1,\"tickcolor\":\"rgb(36,36,36)\",\"ticks\":\"outside\"},\"type\":\"choropleth\"}],\"contourcarpet\":[{\"colorbar\":{\"outlinewidth\":1,\"tickcolor\":\"rgb(36,36,36)\",\"ticks\":\"outside\"},\"type\":\"contourcarpet\"}],\"contour\":[{\"colorbar\":{\"outlinewidth\":1,\"tickcolor\":\"rgb(36,36,36)\",\"ticks\":\"outside\"},\"colorscale\":[[0.0,\"#440154\"],[0.1111111111111111,\"#482878\"],[0.2222222222222222,\"#3e4989\"],[0.3333333333333333,\"#31688e\"],[0.4444444444444444,\"#26828e\"],[0.5555555555555556,\"#1f9e89\"],[0.6666666666666666,\"#35b779\"],[0.7777777777777778,\"#6ece58\"],[0.8888888888888888,\"#b5de2b\"],[1.0,\"#fde725\"]],\"type\":\"contour\"}],\"heatmapgl\":[{\"colorbar\":{\"outlinewidth\":1,\"tickcolor\":\"rgb(36,36,36)\",\"ticks\":\"outside\"},\"colorscale\":[[0.0,\"#440154\"],[0.1111111111111111,\"#482878\"],[0.2222222222222222,\"#3e4989\"],[0.3333333333333333,\"#31688e\"],[0.4444444444444444,\"#26828e\"],[0.5555555555555556,\"#1f9e89\"],[0.6666666666666666,\"#35b779\"],[0.7777777777777778,\"#6ece58\"],[0.8888888888888888,\"#b5de2b\"],[1.0,\"#fde725\"]],\"type\":\"heatmapgl\"}],\"heatmap\":[{\"colorbar\":{\"outlinewidth\":1,\"tickcolor\":\"rgb(36,36,36)\",\"ticks\":\"outside\"},\"colorscale\":[[0.0,\"#440154\"],[0.1111111111111111,\"#482878\"],[0.2222222222222222,\"#3e4989\"],[0.3333333333333333,\"#31688e\"],[0.4444444444444444,\"#26828e\"],[0.5555555555555556,\"#1f9e89\"],[0.6666666666666666,\"#35b779\"],[0.7777777777777778,\"#6ece58\"],[0.8888888888888888,\"#b5de2b\"],[1.0,\"#fde725\"]],\"type\":\"heatmap\"}],\"histogram2dcontour\":[{\"colorbar\":{\"outlinewidth\":1,\"tickcolor\":\"rgb(36,36,36)\",\"ticks\":\"outside\"},\"colorscale\":[[0.0,\"#440154\"],[0.1111111111111111,\"#482878\"],[0.2222222222222222,\"#3e4989\"],[0.3333333333333333,\"#31688e\"],[0.4444444444444444,\"#26828e\"],[0.5555555555555556,\"#1f9e89\"],[0.6666666666666666,\"#35b779\"],[0.7777777777777778,\"#6ece58\"],[0.8888888888888888,\"#b5de2b\"],[1.0,\"#fde725\"]],\"type\":\"histogram2dcontour\"}],\"histogram2d\":[{\"colorbar\":{\"outlinewidth\":1,\"tickcolor\":\"rgb(36,36,36)\",\"ticks\":\"outside\"},\"colorscale\":[[0.0,\"#440154\"],[0.1111111111111111,\"#482878\"],[0.2222222222222222,\"#3e4989\"],[0.3333333333333333,\"#31688e\"],[0.4444444444444444,\"#26828e\"],[0.5555555555555556,\"#1f9e89\"],[0.6666666666666666,\"#35b779\"],[0.7777777777777778,\"#6ece58\"],[0.8888888888888888,\"#b5de2b\"],[1.0,\"#fde725\"]],\"type\":\"histogram2d\"}],\"histogram\":[{\"marker\":{\"line\":{\"color\":\"white\",\"width\":0.6}},\"type\":\"histogram\"}],\"mesh3d\":[{\"colorbar\":{\"outlinewidth\":1,\"tickcolor\":\"rgb(36,36,36)\",\"ticks\":\"outside\"},\"type\":\"mesh3d\"}],\"parcoords\":[{\"line\":{\"colorbar\":{\"outlinewidth\":1,\"tickcolor\":\"rgb(36,36,36)\",\"ticks\":\"outside\"}},\"type\":\"parcoords\"}],\"pie\":[{\"automargin\":true,\"type\":\"pie\"}],\"scatter3d\":[{\"line\":{\"colorbar\":{\"outlinewidth\":1,\"tickcolor\":\"rgb(36,36,36)\",\"ticks\":\"outside\"}},\"marker\":{\"colorbar\":{\"outlinewidth\":1,\"tickcolor\":\"rgb(36,36,36)\",\"ticks\":\"outside\"}},\"type\":\"scatter3d\"}],\"scattercarpet\":[{\"marker\":{\"colorbar\":{\"outlinewidth\":1,\"tickcolor\":\"rgb(36,36,36)\",\"ticks\":\"outside\"}},\"type\":\"scattercarpet\"}],\"scattergeo\":[{\"marker\":{\"colorbar\":{\"outlinewidth\":1,\"tickcolor\":\"rgb(36,36,36)\",\"ticks\":\"outside\"}},\"type\":\"scattergeo\"}],\"scattergl\":[{\"marker\":{\"colorbar\":{\"outlinewidth\":1,\"tickcolor\":\"rgb(36,36,36)\",\"ticks\":\"outside\"}},\"type\":\"scattergl\"}],\"scattermapbox\":[{\"marker\":{\"colorbar\":{\"outlinewidth\":1,\"tickcolor\":\"rgb(36,36,36)\",\"ticks\":\"outside\"}},\"type\":\"scattermapbox\"}],\"scatterpolargl\":[{\"marker\":{\"colorbar\":{\"outlinewidth\":1,\"tickcolor\":\"rgb(36,36,36)\",\"ticks\":\"outside\"}},\"type\":\"scatterpolargl\"}],\"scatterpolar\":[{\"marker\":{\"colorbar\":{\"outlinewidth\":1,\"tickcolor\":\"rgb(36,36,36)\",\"ticks\":\"outside\"}},\"type\":\"scatterpolar\"}],\"scatter\":[{\"marker\":{\"colorbar\":{\"outlinewidth\":1,\"tickcolor\":\"rgb(36,36,36)\",\"ticks\":\"outside\"}},\"type\":\"scatter\"}],\"scatterternary\":[{\"marker\":{\"colorbar\":{\"outlinewidth\":1,\"tickcolor\":\"rgb(36,36,36)\",\"ticks\":\"outside\"}},\"type\":\"scatterternary\"}],\"surface\":[{\"colorbar\":{\"outlinewidth\":1,\"tickcolor\":\"rgb(36,36,36)\",\"ticks\":\"outside\"},\"colorscale\":[[0.0,\"#440154\"],[0.1111111111111111,\"#482878\"],[0.2222222222222222,\"#3e4989\"],[0.3333333333333333,\"#31688e\"],[0.4444444444444444,\"#26828e\"],[0.5555555555555556,\"#1f9e89\"],[0.6666666666666666,\"#35b779\"],[0.7777777777777778,\"#6ece58\"],[0.8888888888888888,\"#b5de2b\"],[1.0,\"#fde725\"]],\"type\":\"surface\"}],\"table\":[{\"cells\":{\"fill\":{\"color\":\"rgb(237,237,237)\"},\"line\":{\"color\":\"white\"}},\"header\":{\"fill\":{\"color\":\"rgb(217,217,217)\"},\"line\":{\"color\":\"white\"}},\"type\":\"table\"}]},\"layout\":{\"annotationdefaults\":{\"arrowhead\":0,\"arrowwidth\":1},\"autotypenumbers\":\"strict\",\"coloraxis\":{\"colorbar\":{\"outlinewidth\":1,\"tickcolor\":\"rgb(36,36,36)\",\"ticks\":\"outside\"}},\"colorscale\":{\"diverging\":[[0.0,\"rgb(103,0,31)\"],[0.1,\"rgb(178,24,43)\"],[0.2,\"rgb(214,96,77)\"],[0.3,\"rgb(244,165,130)\"],[0.4,\"rgb(253,219,199)\"],[0.5,\"rgb(247,247,247)\"],[0.6,\"rgb(209,229,240)\"],[0.7,\"rgb(146,197,222)\"],[0.8,\"rgb(67,147,195)\"],[0.9,\"rgb(33,102,172)\"],[1.0,\"rgb(5,48,97)\"]],\"sequential\":[[0.0,\"#440154\"],[0.1111111111111111,\"#482878\"],[0.2222222222222222,\"#3e4989\"],[0.3333333333333333,\"#31688e\"],[0.4444444444444444,\"#26828e\"],[0.5555555555555556,\"#1f9e89\"],[0.6666666666666666,\"#35b779\"],[0.7777777777777778,\"#6ece58\"],[0.8888888888888888,\"#b5de2b\"],[1.0,\"#fde725\"]],\"sequentialminus\":[[0.0,\"#440154\"],[0.1111111111111111,\"#482878\"],[0.2222222222222222,\"#3e4989\"],[0.3333333333333333,\"#31688e\"],[0.4444444444444444,\"#26828e\"],[0.5555555555555556,\"#1f9e89\"],[0.6666666666666666,\"#35b779\"],[0.7777777777777778,\"#6ece58\"],[0.8888888888888888,\"#b5de2b\"],[1.0,\"#fde725\"]]},\"colorway\":[\"#1F77B4\",\"#FF7F0E\",\"#2CA02C\",\"#D62728\",\"#9467BD\",\"#8C564B\",\"#E377C2\",\"#7F7F7F\",\"#BCBD22\",\"#17BECF\"],\"font\":{\"color\":\"rgb(36,36,36)\"},\"geo\":{\"bgcolor\":\"white\",\"lakecolor\":\"white\",\"landcolor\":\"white\",\"showlakes\":true,\"showland\":true,\"subunitcolor\":\"white\"},\"hoverlabel\":{\"align\":\"left\"},\"hovermode\":\"closest\",\"mapbox\":{\"style\":\"light\"},\"paper_bgcolor\":\"white\",\"plot_bgcolor\":\"white\",\"polar\":{\"angularaxis\":{\"gridcolor\":\"rgb(232,232,232)\",\"linecolor\":\"rgb(36,36,36)\",\"showgrid\":false,\"showline\":true,\"ticks\":\"outside\"},\"bgcolor\":\"white\",\"radialaxis\":{\"gridcolor\":\"rgb(232,232,232)\",\"linecolor\":\"rgb(36,36,36)\",\"showgrid\":false,\"showline\":true,\"ticks\":\"outside\"}},\"scene\":{\"xaxis\":{\"backgroundcolor\":\"white\",\"gridcolor\":\"rgb(232,232,232)\",\"gridwidth\":2,\"linecolor\":\"rgb(36,36,36)\",\"showbackground\":true,\"showgrid\":false,\"showline\":true,\"ticks\":\"outside\",\"zeroline\":false,\"zerolinecolor\":\"rgb(36,36,36)\"},\"yaxis\":{\"backgroundcolor\":\"white\",\"gridcolor\":\"rgb(232,232,232)\",\"gridwidth\":2,\"linecolor\":\"rgb(36,36,36)\",\"showbackground\":true,\"showgrid\":false,\"showline\":true,\"ticks\":\"outside\",\"zeroline\":false,\"zerolinecolor\":\"rgb(36,36,36)\"},\"zaxis\":{\"backgroundcolor\":\"white\",\"gridcolor\":\"rgb(232,232,232)\",\"gridwidth\":2,\"linecolor\":\"rgb(36,36,36)\",\"showbackground\":true,\"showgrid\":false,\"showline\":true,\"ticks\":\"outside\",\"zeroline\":false,\"zerolinecolor\":\"rgb(36,36,36)\"}},\"shapedefaults\":{\"fillcolor\":\"black\",\"line\":{\"width\":0},\"opacity\":0.3},\"ternary\":{\"aaxis\":{\"gridcolor\":\"rgb(232,232,232)\",\"linecolor\":\"rgb(36,36,36)\",\"showgrid\":false,\"showline\":true,\"ticks\":\"outside\"},\"baxis\":{\"gridcolor\":\"rgb(232,232,232)\",\"linecolor\":\"rgb(36,36,36)\",\"showgrid\":false,\"showline\":true,\"ticks\":\"outside\"},\"bgcolor\":\"white\",\"caxis\":{\"gridcolor\":\"rgb(232,232,232)\",\"linecolor\":\"rgb(36,36,36)\",\"showgrid\":false,\"showline\":true,\"ticks\":\"outside\"}},\"title\":{\"x\":0.05},\"xaxis\":{\"automargin\":true,\"gridcolor\":\"rgb(232,232,232)\",\"linecolor\":\"rgb(36,36,36)\",\"showgrid\":false,\"showline\":true,\"ticks\":\"outside\",\"title\":{\"standoff\":15},\"zeroline\":false,\"zerolinecolor\":\"rgb(36,36,36)\"},\"yaxis\":{\"automargin\":true,\"gridcolor\":\"rgb(232,232,232)\",\"linecolor\":\"rgb(36,36,36)\",\"showgrid\":false,\"showline\":true,\"ticks\":\"outside\",\"title\":{\"standoff\":15},\"zeroline\":false,\"zerolinecolor\":\"rgb(36,36,36)\"}}},\"xaxis\":{\"anchor\":\"y\",\"domain\":[0.0,1.0],\"title\":{\"text\":\"\"},\"visible\":false,\"range\":[8.604135084152222,13.608916425704956]},\"yaxis\":{\"anchor\":\"x\",\"domain\":[0.0,1.0],\"title\":{\"text\":\"\"},\"visible\":false,\"range\":[6.387605595588684,10.191459560394287]},\"legend\":{\"tracegroupgap\":0,\"itemsizing\":\"constant\"},\"margin\":{\"t\":60},\"title\":{\"font\":{\"size\":22,\"color\":\"Black\"},\"text\":\"<b>Intertopic Distance Map\",\"y\":0.95,\"x\":0.5,\"xanchor\":\"center\",\"yanchor\":\"top\"},\"hoverlabel\":{\"font\":{\"size\":16,\"family\":\"Rockwell\"},\"bgcolor\":\"white\"},\"width\":650,\"height\":650,\"sliders\":[{\"active\":0,\"pad\":{\"t\":50},\"steps\":[{\"args\":[{\"marker.color\":[[\"red\",\"#B0BEC5\",\"#B0BEC5\",\"#B0BEC5\"]]}],\"label\":\"Topic 0\",\"method\":\"update\"},{\"args\":[{\"marker.color\":[[\"#B0BEC5\",\"red\",\"#B0BEC5\",\"#B0BEC5\"]]}],\"label\":\"Topic 1\",\"method\":\"update\"},{\"args\":[{\"marker.color\":[[\"#B0BEC5\",\"#B0BEC5\",\"red\",\"#B0BEC5\"]]}],\"label\":\"Topic 2\",\"method\":\"update\"},{\"args\":[{\"marker.color\":[[\"#B0BEC5\",\"#B0BEC5\",\"#B0BEC5\",\"red\"]]}],\"label\":\"Topic 3\",\"method\":\"update\"}]}],\"shapes\":[{\"line\":{\"color\":\"#CFD8DC\",\"width\":2},\"type\":\"line\",\"x0\":11.10652575492859,\"x1\":11.10652575492859,\"y0\":6.387605595588684,\"y1\":10.191459560394287},{\"line\":{\"color\":\"#9E9E9E\",\"width\":2},\"type\":\"line\",\"x0\":8.604135084152222,\"x1\":13.608916425704956,\"y0\":8.289532577991485,\"y1\":8.289532577991485}],\"annotations\":[{\"showarrow\":false,\"text\":\"D1\",\"x\":8.604135084152222,\"y\":8.289532577991485,\"yshift\":10},{\"showarrow\":false,\"text\":\"D2\",\"x\":11.10652575492859,\"xshift\":10,\"y\":10.191459560394287}]},                        {\"responsive\": true}                    ).then(function(){\n",
              "                            \n",
              "var gd = document.getElementById('94584328-1c8c-4183-b73c-38fcbec16a75');\n",
              "var x = new MutationObserver(function (mutations, observer) {{\n",
              "        var display = window.getComputedStyle(gd).display;\n",
              "        if (!display || display === 'none') {{\n",
              "            console.log([gd, 'removed!']);\n",
              "            Plotly.purge(gd);\n",
              "            observer.disconnect();\n",
              "        }}\n",
              "}});\n",
              "\n",
              "// Listen for the removal of the full notebook cells\n",
              "var notebookContainer = gd.closest('#notebook-container');\n",
              "if (notebookContainer) {{\n",
              "    x.observe(notebookContainer, {childList: true});\n",
              "}}\n",
              "\n",
              "// Listen for the clearing of the current output cell\n",
              "var outputEl = gd.closest('.output');\n",
              "if (outputEl) {{\n",
              "    x.observe(outputEl, {childList: true});\n",
              "}}\n",
              "\n",
              "                        })                };                            </script>        </div>\n",
              "</body>\n",
              "</html>"
            ]
          },
          "metadata": {}
        }
      ]
    },
    {
      "cell_type": "code",
      "source": [
        "custom_doc = temp_dict[\"Luca Maestri\"]\n",
        "topic_model_custom = BERTopic(vectorizer_model=vectorizer_model)\n",
        "topics_custom, probs_custom = topic_model_custom.fit_transform(custom_doc)"
      ],
      "metadata": {
        "id": "aF56aSZwj3VR"
      },
      "execution_count": null,
      "outputs": []
    },
    {
      "cell_type": "code",
      "source": [
        "topic_model_custom.get_topic_info()"
      ],
      "metadata": {
        "colab": {
          "base_uri": "https://localhost:8080/",
          "height": 81
        },
        "id": "G2i_1reqj3TY",
        "outputId": "8364f6db-d592-4cb4-ab42-2c3a98407ca8"
      },
      "execution_count": null,
      "outputs": [
        {
          "output_type": "execute_result",
          "data": {
            "text/plain": [
              "   Topic  Count                              Name\n",
              "0     -1     57  -1_quarter_june_billion_services"
            ],
            "text/html": [
              "\n",
              "  <div id=\"df-f2a8ad97-fd66-4162-8f57-6e04ad9c3e98\">\n",
              "    <div class=\"colab-df-container\">\n",
              "      <div>\n",
              "<style scoped>\n",
              "    .dataframe tbody tr th:only-of-type {\n",
              "        vertical-align: middle;\n",
              "    }\n",
              "\n",
              "    .dataframe tbody tr th {\n",
              "        vertical-align: top;\n",
              "    }\n",
              "\n",
              "    .dataframe thead th {\n",
              "        text-align: right;\n",
              "    }\n",
              "</style>\n",
              "<table border=\"1\" class=\"dataframe\">\n",
              "  <thead>\n",
              "    <tr style=\"text-align: right;\">\n",
              "      <th></th>\n",
              "      <th>Topic</th>\n",
              "      <th>Count</th>\n",
              "      <th>Name</th>\n",
              "    </tr>\n",
              "  </thead>\n",
              "  <tbody>\n",
              "    <tr>\n",
              "      <th>0</th>\n",
              "      <td>-1</td>\n",
              "      <td>57</td>\n",
              "      <td>-1_quarter_june_billion_services</td>\n",
              "    </tr>\n",
              "  </tbody>\n",
              "</table>\n",
              "</div>\n",
              "      <button class=\"colab-df-convert\" onclick=\"convertToInteractive('df-f2a8ad97-fd66-4162-8f57-6e04ad9c3e98')\"\n",
              "              title=\"Convert this dataframe to an interactive table.\"\n",
              "              style=\"display:none;\">\n",
              "        \n",
              "  <svg xmlns=\"http://www.w3.org/2000/svg\" height=\"24px\"viewBox=\"0 0 24 24\"\n",
              "       width=\"24px\">\n",
              "    <path d=\"M0 0h24v24H0V0z\" fill=\"none\"/>\n",
              "    <path d=\"M18.56 5.44l.94 2.06.94-2.06 2.06-.94-2.06-.94-.94-2.06-.94 2.06-2.06.94zm-11 1L8.5 8.5l.94-2.06 2.06-.94-2.06-.94L8.5 2.5l-.94 2.06-2.06.94zm10 10l.94 2.06.94-2.06 2.06-.94-2.06-.94-.94-2.06-.94 2.06-2.06.94z\"/><path d=\"M17.41 7.96l-1.37-1.37c-.4-.4-.92-.59-1.43-.59-.52 0-1.04.2-1.43.59L10.3 9.45l-7.72 7.72c-.78.78-.78 2.05 0 2.83L4 21.41c.39.39.9.59 1.41.59.51 0 1.02-.2 1.41-.59l7.78-7.78 2.81-2.81c.8-.78.8-2.07 0-2.86zM5.41 20L4 18.59l7.72-7.72 1.47 1.35L5.41 20z\"/>\n",
              "  </svg>\n",
              "      </button>\n",
              "      \n",
              "  <style>\n",
              "    .colab-df-container {\n",
              "      display:flex;\n",
              "      flex-wrap:wrap;\n",
              "      gap: 12px;\n",
              "    }\n",
              "\n",
              "    .colab-df-convert {\n",
              "      background-color: #E8F0FE;\n",
              "      border: none;\n",
              "      border-radius: 50%;\n",
              "      cursor: pointer;\n",
              "      display: none;\n",
              "      fill: #1967D2;\n",
              "      height: 32px;\n",
              "      padding: 0 0 0 0;\n",
              "      width: 32px;\n",
              "    }\n",
              "\n",
              "    .colab-df-convert:hover {\n",
              "      background-color: #E2EBFA;\n",
              "      box-shadow: 0px 1px 2px rgba(60, 64, 67, 0.3), 0px 1px 3px 1px rgba(60, 64, 67, 0.15);\n",
              "      fill: #174EA6;\n",
              "    }\n",
              "\n",
              "    [theme=dark] .colab-df-convert {\n",
              "      background-color: #3B4455;\n",
              "      fill: #D2E3FC;\n",
              "    }\n",
              "\n",
              "    [theme=dark] .colab-df-convert:hover {\n",
              "      background-color: #434B5C;\n",
              "      box-shadow: 0px 1px 3px 1px rgba(0, 0, 0, 0.15);\n",
              "      filter: drop-shadow(0px 1px 2px rgba(0, 0, 0, 0.3));\n",
              "      fill: #FFFFFF;\n",
              "    }\n",
              "  </style>\n",
              "\n",
              "      <script>\n",
              "        const buttonEl =\n",
              "          document.querySelector('#df-f2a8ad97-fd66-4162-8f57-6e04ad9c3e98 button.colab-df-convert');\n",
              "        buttonEl.style.display =\n",
              "          google.colab.kernel.accessAllowed ? 'block' : 'none';\n",
              "\n",
              "        async function convertToInteractive(key) {\n",
              "          const element = document.querySelector('#df-f2a8ad97-fd66-4162-8f57-6e04ad9c3e98');\n",
              "          const dataTable =\n",
              "            await google.colab.kernel.invokeFunction('convertToInteractive',\n",
              "                                                     [key], {});\n",
              "          if (!dataTable) return;\n",
              "\n",
              "          const docLinkHtml = 'Like what you see? Visit the ' +\n",
              "            '<a target=\"_blank\" href=https://colab.research.google.com/notebooks/data_table.ipynb>data table notebook</a>'\n",
              "            + ' to learn more about interactive tables.';\n",
              "          element.innerHTML = '';\n",
              "          dataTable['output_type'] = 'display_data';\n",
              "          await google.colab.output.renderOutput(dataTable, element);\n",
              "          const docLink = document.createElement('div');\n",
              "          docLink.innerHTML = docLinkHtml;\n",
              "          element.appendChild(docLink);\n",
              "        }\n",
              "      </script>\n",
              "    </div>\n",
              "  </div>\n",
              "  "
            ]
          },
          "metadata": {},
          "execution_count": 156
        }
      ]
    },
    {
      "cell_type": "code",
      "source": [
        "topic_model_custom.visualize_barchart()"
      ],
      "metadata": {
        "id": "NYtiQdp-j3Q6"
      },
      "execution_count": null,
      "outputs": []
    },
    {
      "cell_type": "code",
      "source": [
        "#collective data \n",
        "full_conversation = []\n",
        "for i in temp_dict.values():\n",
        "  full_conversation+=i\n",
        "topic_model_custom = BERTopic(vectorizer_model=vectorizer_model)\n",
        "topics_custom, probs_custom = topic_model_custom.fit_transform(full_conversation)"
      ],
      "metadata": {
        "id": "IYUUuvzMj3Ok"
      },
      "execution_count": null,
      "outputs": []
    },
    {
      "cell_type": "code",
      "source": [
        "topic_model_custom.get_topic_info()"
      ],
      "metadata": {
        "colab": {
          "base_uri": "https://localhost:8080/",
          "height": 143
        },
        "id": "IYdwIE30j3MH",
        "outputId": "241b87b5-f546-4232-a543-9db41dabdbed"
      },
      "execution_count": null,
      "outputs": [
        {
          "output_type": "execute_result",
          "data": {
            "text/plain": [
              "   Topic  Count                             Name\n",
              "0     -1     32      -1_question_thank_good_like\n",
              "1      0     73  0_quarter_think_business_impact\n",
              "2      1     55      1_new_apple_quarter_revenue"
            ],
            "text/html": [
              "\n",
              "  <div id=\"df-2862e7d5-edaf-4dc5-b824-643c1a70ac3c\">\n",
              "    <div class=\"colab-df-container\">\n",
              "      <div>\n",
              "<style scoped>\n",
              "    .dataframe tbody tr th:only-of-type {\n",
              "        vertical-align: middle;\n",
              "    }\n",
              "\n",
              "    .dataframe tbody tr th {\n",
              "        vertical-align: top;\n",
              "    }\n",
              "\n",
              "    .dataframe thead th {\n",
              "        text-align: right;\n",
              "    }\n",
              "</style>\n",
              "<table border=\"1\" class=\"dataframe\">\n",
              "  <thead>\n",
              "    <tr style=\"text-align: right;\">\n",
              "      <th></th>\n",
              "      <th>Topic</th>\n",
              "      <th>Count</th>\n",
              "      <th>Name</th>\n",
              "    </tr>\n",
              "  </thead>\n",
              "  <tbody>\n",
              "    <tr>\n",
              "      <th>0</th>\n",
              "      <td>-1</td>\n",
              "      <td>32</td>\n",
              "      <td>-1_question_thank_good_like</td>\n",
              "    </tr>\n",
              "    <tr>\n",
              "      <th>1</th>\n",
              "      <td>0</td>\n",
              "      <td>73</td>\n",
              "      <td>0_quarter_think_business_impact</td>\n",
              "    </tr>\n",
              "    <tr>\n",
              "      <th>2</th>\n",
              "      <td>1</td>\n",
              "      <td>55</td>\n",
              "      <td>1_new_apple_quarter_revenue</td>\n",
              "    </tr>\n",
              "  </tbody>\n",
              "</table>\n",
              "</div>\n",
              "      <button class=\"colab-df-convert\" onclick=\"convertToInteractive('df-2862e7d5-edaf-4dc5-b824-643c1a70ac3c')\"\n",
              "              title=\"Convert this dataframe to an interactive table.\"\n",
              "              style=\"display:none;\">\n",
              "        \n",
              "  <svg xmlns=\"http://www.w3.org/2000/svg\" height=\"24px\"viewBox=\"0 0 24 24\"\n",
              "       width=\"24px\">\n",
              "    <path d=\"M0 0h24v24H0V0z\" fill=\"none\"/>\n",
              "    <path d=\"M18.56 5.44l.94 2.06.94-2.06 2.06-.94-2.06-.94-.94-2.06-.94 2.06-2.06.94zm-11 1L8.5 8.5l.94-2.06 2.06-.94-2.06-.94L8.5 2.5l-.94 2.06-2.06.94zm10 10l.94 2.06.94-2.06 2.06-.94-2.06-.94-.94-2.06-.94 2.06-2.06.94z\"/><path d=\"M17.41 7.96l-1.37-1.37c-.4-.4-.92-.59-1.43-.59-.52 0-1.04.2-1.43.59L10.3 9.45l-7.72 7.72c-.78.78-.78 2.05 0 2.83L4 21.41c.39.39.9.59 1.41.59.51 0 1.02-.2 1.41-.59l7.78-7.78 2.81-2.81c.8-.78.8-2.07 0-2.86zM5.41 20L4 18.59l7.72-7.72 1.47 1.35L5.41 20z\"/>\n",
              "  </svg>\n",
              "      </button>\n",
              "      \n",
              "  <style>\n",
              "    .colab-df-container {\n",
              "      display:flex;\n",
              "      flex-wrap:wrap;\n",
              "      gap: 12px;\n",
              "    }\n",
              "\n",
              "    .colab-df-convert {\n",
              "      background-color: #E8F0FE;\n",
              "      border: none;\n",
              "      border-radius: 50%;\n",
              "      cursor: pointer;\n",
              "      display: none;\n",
              "      fill: #1967D2;\n",
              "      height: 32px;\n",
              "      padding: 0 0 0 0;\n",
              "      width: 32px;\n",
              "    }\n",
              "\n",
              "    .colab-df-convert:hover {\n",
              "      background-color: #E2EBFA;\n",
              "      box-shadow: 0px 1px 2px rgba(60, 64, 67, 0.3), 0px 1px 3px 1px rgba(60, 64, 67, 0.15);\n",
              "      fill: #174EA6;\n",
              "    }\n",
              "\n",
              "    [theme=dark] .colab-df-convert {\n",
              "      background-color: #3B4455;\n",
              "      fill: #D2E3FC;\n",
              "    }\n",
              "\n",
              "    [theme=dark] .colab-df-convert:hover {\n",
              "      background-color: #434B5C;\n",
              "      box-shadow: 0px 1px 3px 1px rgba(0, 0, 0, 0.15);\n",
              "      filter: drop-shadow(0px 1px 2px rgba(0, 0, 0, 0.3));\n",
              "      fill: #FFFFFF;\n",
              "    }\n",
              "  </style>\n",
              "\n",
              "      <script>\n",
              "        const buttonEl =\n",
              "          document.querySelector('#df-2862e7d5-edaf-4dc5-b824-643c1a70ac3c button.colab-df-convert');\n",
              "        buttonEl.style.display =\n",
              "          google.colab.kernel.accessAllowed ? 'block' : 'none';\n",
              "\n",
              "        async function convertToInteractive(key) {\n",
              "          const element = document.querySelector('#df-2862e7d5-edaf-4dc5-b824-643c1a70ac3c');\n",
              "          const dataTable =\n",
              "            await google.colab.kernel.invokeFunction('convertToInteractive',\n",
              "                                                     [key], {});\n",
              "          if (!dataTable) return;\n",
              "\n",
              "          const docLinkHtml = 'Like what you see? Visit the ' +\n",
              "            '<a target=\"_blank\" href=https://colab.research.google.com/notebooks/data_table.ipynb>data table notebook</a>'\n",
              "            + ' to learn more about interactive tables.';\n",
              "          element.innerHTML = '';\n",
              "          dataTable['output_type'] = 'display_data';\n",
              "          await google.colab.output.renderOutput(dataTable, element);\n",
              "          const docLink = document.createElement('div');\n",
              "          docLink.innerHTML = docLinkHtml;\n",
              "          element.appendChild(docLink);\n",
              "        }\n",
              "      </script>\n",
              "    </div>\n",
              "  </div>\n",
              "  "
            ]
          },
          "metadata": {},
          "execution_count": 161
        }
      ]
    },
    {
      "cell_type": "code",
      "source": [
        "topic_model_custom.visualize_barchart()"
      ],
      "metadata": {
        "colab": {
          "base_uri": "https://localhost:8080/",
          "height": 342
        },
        "id": "pa1DJ8iVi7JI",
        "outputId": "c9c7a449-f16e-458b-b909-1aad6d91702c"
      },
      "execution_count": null,
      "outputs": [
        {
          "output_type": "display_data",
          "data": {
            "text/html": [
              "<html>\n",
              "<head><meta charset=\"utf-8\" /></head>\n",
              "<body>\n",
              "    <div>            <script src=\"https://cdnjs.cloudflare.com/ajax/libs/mathjax/2.7.5/MathJax.js?config=TeX-AMS-MML_SVG\"></script><script type=\"text/javascript\">if (window.MathJax) {MathJax.Hub.Config({SVG: {font: \"STIX-Web\"}});}</script>                <script type=\"text/javascript\">window.PlotlyConfig = {MathJaxConfig: 'local'};</script>\n",
              "        <script src=\"https://cdn.plot.ly/plotly-2.8.3.min.js\"></script>                <div id=\"4e1116ca-39d3-4aee-8363-e41c6429219b\" class=\"plotly-graph-div\" style=\"height:325.0px; width:1000px;\"></div>            <script type=\"text/javascript\">                                    window.PLOTLYENV=window.PLOTLYENV || {};                                    if (document.getElementById(\"4e1116ca-39d3-4aee-8363-e41c6429219b\")) {                    Plotly.newPlot(                        \"4e1116ca-39d3-4aee-8363-e41c6429219b\",                        [{\"marker\":{\"color\":\"#D55E00\"},\"orientation\":\"h\",\"x\":[0.0431030540069683,0.05065184914438459,0.052902955649280096,0.060696983302708486,0.07832699791831703],\"y\":[\"supply  \",\"impact  \",\"business  \",\"think  \",\"quarter  \"],\"type\":\"bar\",\"xaxis\":\"x\",\"yaxis\":\"y\"},{\"marker\":{\"color\":\"#0072B2\"},\"orientation\":\"h\",\"x\":[0.04507714456948215,0.04567917360287638,0.05160973783237522,0.05604589182623839,0.05604589182623839],\"y\":[\"june  \",\"revenue  \",\"quarter  \",\"apple  \",\"new  \"],\"type\":\"bar\",\"xaxis\":\"x2\",\"yaxis\":\"y2\"}],                        {\"template\":{\"data\":{\"barpolar\":[{\"marker\":{\"line\":{\"color\":\"white\",\"width\":0.5},\"pattern\":{\"fillmode\":\"overlay\",\"size\":10,\"solidity\":0.2}},\"type\":\"barpolar\"}],\"bar\":[{\"error_x\":{\"color\":\"#2a3f5f\"},\"error_y\":{\"color\":\"#2a3f5f\"},\"marker\":{\"line\":{\"color\":\"white\",\"width\":0.5},\"pattern\":{\"fillmode\":\"overlay\",\"size\":10,\"solidity\":0.2}},\"type\":\"bar\"}],\"carpet\":[{\"aaxis\":{\"endlinecolor\":\"#2a3f5f\",\"gridcolor\":\"#C8D4E3\",\"linecolor\":\"#C8D4E3\",\"minorgridcolor\":\"#C8D4E3\",\"startlinecolor\":\"#2a3f5f\"},\"baxis\":{\"endlinecolor\":\"#2a3f5f\",\"gridcolor\":\"#C8D4E3\",\"linecolor\":\"#C8D4E3\",\"minorgridcolor\":\"#C8D4E3\",\"startlinecolor\":\"#2a3f5f\"},\"type\":\"carpet\"}],\"choropleth\":[{\"colorbar\":{\"outlinewidth\":0,\"ticks\":\"\"},\"type\":\"choropleth\"}],\"contourcarpet\":[{\"colorbar\":{\"outlinewidth\":0,\"ticks\":\"\"},\"type\":\"contourcarpet\"}],\"contour\":[{\"colorbar\":{\"outlinewidth\":0,\"ticks\":\"\"},\"colorscale\":[[0.0,\"#0d0887\"],[0.1111111111111111,\"#46039f\"],[0.2222222222222222,\"#7201a8\"],[0.3333333333333333,\"#9c179e\"],[0.4444444444444444,\"#bd3786\"],[0.5555555555555556,\"#d8576b\"],[0.6666666666666666,\"#ed7953\"],[0.7777777777777778,\"#fb9f3a\"],[0.8888888888888888,\"#fdca26\"],[1.0,\"#f0f921\"]],\"type\":\"contour\"}],\"heatmapgl\":[{\"colorbar\":{\"outlinewidth\":0,\"ticks\":\"\"},\"colorscale\":[[0.0,\"#0d0887\"],[0.1111111111111111,\"#46039f\"],[0.2222222222222222,\"#7201a8\"],[0.3333333333333333,\"#9c179e\"],[0.4444444444444444,\"#bd3786\"],[0.5555555555555556,\"#d8576b\"],[0.6666666666666666,\"#ed7953\"],[0.7777777777777778,\"#fb9f3a\"],[0.8888888888888888,\"#fdca26\"],[1.0,\"#f0f921\"]],\"type\":\"heatmapgl\"}],\"heatmap\":[{\"colorbar\":{\"outlinewidth\":0,\"ticks\":\"\"},\"colorscale\":[[0.0,\"#0d0887\"],[0.1111111111111111,\"#46039f\"],[0.2222222222222222,\"#7201a8\"],[0.3333333333333333,\"#9c179e\"],[0.4444444444444444,\"#bd3786\"],[0.5555555555555556,\"#d8576b\"],[0.6666666666666666,\"#ed7953\"],[0.7777777777777778,\"#fb9f3a\"],[0.8888888888888888,\"#fdca26\"],[1.0,\"#f0f921\"]],\"type\":\"heatmap\"}],\"histogram2dcontour\":[{\"colorbar\":{\"outlinewidth\":0,\"ticks\":\"\"},\"colorscale\":[[0.0,\"#0d0887\"],[0.1111111111111111,\"#46039f\"],[0.2222222222222222,\"#7201a8\"],[0.3333333333333333,\"#9c179e\"],[0.4444444444444444,\"#bd3786\"],[0.5555555555555556,\"#d8576b\"],[0.6666666666666666,\"#ed7953\"],[0.7777777777777778,\"#fb9f3a\"],[0.8888888888888888,\"#fdca26\"],[1.0,\"#f0f921\"]],\"type\":\"histogram2dcontour\"}],\"histogram2d\":[{\"colorbar\":{\"outlinewidth\":0,\"ticks\":\"\"},\"colorscale\":[[0.0,\"#0d0887\"],[0.1111111111111111,\"#46039f\"],[0.2222222222222222,\"#7201a8\"],[0.3333333333333333,\"#9c179e\"],[0.4444444444444444,\"#bd3786\"],[0.5555555555555556,\"#d8576b\"],[0.6666666666666666,\"#ed7953\"],[0.7777777777777778,\"#fb9f3a\"],[0.8888888888888888,\"#fdca26\"],[1.0,\"#f0f921\"]],\"type\":\"histogram2d\"}],\"histogram\":[{\"marker\":{\"pattern\":{\"fillmode\":\"overlay\",\"size\":10,\"solidity\":0.2}},\"type\":\"histogram\"}],\"mesh3d\":[{\"colorbar\":{\"outlinewidth\":0,\"ticks\":\"\"},\"type\":\"mesh3d\"}],\"parcoords\":[{\"line\":{\"colorbar\":{\"outlinewidth\":0,\"ticks\":\"\"}},\"type\":\"parcoords\"}],\"pie\":[{\"automargin\":true,\"type\":\"pie\"}],\"scatter3d\":[{\"line\":{\"colorbar\":{\"outlinewidth\":0,\"ticks\":\"\"}},\"marker\":{\"colorbar\":{\"outlinewidth\":0,\"ticks\":\"\"}},\"type\":\"scatter3d\"}],\"scattercarpet\":[{\"marker\":{\"colorbar\":{\"outlinewidth\":0,\"ticks\":\"\"}},\"type\":\"scattercarpet\"}],\"scattergeo\":[{\"marker\":{\"colorbar\":{\"outlinewidth\":0,\"ticks\":\"\"}},\"type\":\"scattergeo\"}],\"scattergl\":[{\"marker\":{\"colorbar\":{\"outlinewidth\":0,\"ticks\":\"\"}},\"type\":\"scattergl\"}],\"scattermapbox\":[{\"marker\":{\"colorbar\":{\"outlinewidth\":0,\"ticks\":\"\"}},\"type\":\"scattermapbox\"}],\"scatterpolargl\":[{\"marker\":{\"colorbar\":{\"outlinewidth\":0,\"ticks\":\"\"}},\"type\":\"scatterpolargl\"}],\"scatterpolar\":[{\"marker\":{\"colorbar\":{\"outlinewidth\":0,\"ticks\":\"\"}},\"type\":\"scatterpolar\"}],\"scatter\":[{\"marker\":{\"colorbar\":{\"outlinewidth\":0,\"ticks\":\"\"}},\"type\":\"scatter\"}],\"scatterternary\":[{\"marker\":{\"colorbar\":{\"outlinewidth\":0,\"ticks\":\"\"}},\"type\":\"scatterternary\"}],\"surface\":[{\"colorbar\":{\"outlinewidth\":0,\"ticks\":\"\"},\"colorscale\":[[0.0,\"#0d0887\"],[0.1111111111111111,\"#46039f\"],[0.2222222222222222,\"#7201a8\"],[0.3333333333333333,\"#9c179e\"],[0.4444444444444444,\"#bd3786\"],[0.5555555555555556,\"#d8576b\"],[0.6666666666666666,\"#ed7953\"],[0.7777777777777778,\"#fb9f3a\"],[0.8888888888888888,\"#fdca26\"],[1.0,\"#f0f921\"]],\"type\":\"surface\"}],\"table\":[{\"cells\":{\"fill\":{\"color\":\"#EBF0F8\"},\"line\":{\"color\":\"white\"}},\"header\":{\"fill\":{\"color\":\"#C8D4E3\"},\"line\":{\"color\":\"white\"}},\"type\":\"table\"}]},\"layout\":{\"annotationdefaults\":{\"arrowcolor\":\"#2a3f5f\",\"arrowhead\":0,\"arrowwidth\":1},\"autotypenumbers\":\"strict\",\"coloraxis\":{\"colorbar\":{\"outlinewidth\":0,\"ticks\":\"\"}},\"colorscale\":{\"diverging\":[[0,\"#8e0152\"],[0.1,\"#c51b7d\"],[0.2,\"#de77ae\"],[0.3,\"#f1b6da\"],[0.4,\"#fde0ef\"],[0.5,\"#f7f7f7\"],[0.6,\"#e6f5d0\"],[0.7,\"#b8e186\"],[0.8,\"#7fbc41\"],[0.9,\"#4d9221\"],[1,\"#276419\"]],\"sequential\":[[0.0,\"#0d0887\"],[0.1111111111111111,\"#46039f\"],[0.2222222222222222,\"#7201a8\"],[0.3333333333333333,\"#9c179e\"],[0.4444444444444444,\"#bd3786\"],[0.5555555555555556,\"#d8576b\"],[0.6666666666666666,\"#ed7953\"],[0.7777777777777778,\"#fb9f3a\"],[0.8888888888888888,\"#fdca26\"],[1.0,\"#f0f921\"]],\"sequentialminus\":[[0.0,\"#0d0887\"],[0.1111111111111111,\"#46039f\"],[0.2222222222222222,\"#7201a8\"],[0.3333333333333333,\"#9c179e\"],[0.4444444444444444,\"#bd3786\"],[0.5555555555555556,\"#d8576b\"],[0.6666666666666666,\"#ed7953\"],[0.7777777777777778,\"#fb9f3a\"],[0.8888888888888888,\"#fdca26\"],[1.0,\"#f0f921\"]]},\"colorway\":[\"#636efa\",\"#EF553B\",\"#00cc96\",\"#ab63fa\",\"#FFA15A\",\"#19d3f3\",\"#FF6692\",\"#B6E880\",\"#FF97FF\",\"#FECB52\"],\"font\":{\"color\":\"#2a3f5f\"},\"geo\":{\"bgcolor\":\"white\",\"lakecolor\":\"white\",\"landcolor\":\"white\",\"showlakes\":true,\"showland\":true,\"subunitcolor\":\"#C8D4E3\"},\"hoverlabel\":{\"align\":\"left\"},\"hovermode\":\"closest\",\"mapbox\":{\"style\":\"light\"},\"paper_bgcolor\":\"white\",\"plot_bgcolor\":\"white\",\"polar\":{\"angularaxis\":{\"gridcolor\":\"#EBF0F8\",\"linecolor\":\"#EBF0F8\",\"ticks\":\"\"},\"bgcolor\":\"white\",\"radialaxis\":{\"gridcolor\":\"#EBF0F8\",\"linecolor\":\"#EBF0F8\",\"ticks\":\"\"}},\"scene\":{\"xaxis\":{\"backgroundcolor\":\"white\",\"gridcolor\":\"#DFE8F3\",\"gridwidth\":2,\"linecolor\":\"#EBF0F8\",\"showbackground\":true,\"ticks\":\"\",\"zerolinecolor\":\"#EBF0F8\"},\"yaxis\":{\"backgroundcolor\":\"white\",\"gridcolor\":\"#DFE8F3\",\"gridwidth\":2,\"linecolor\":\"#EBF0F8\",\"showbackground\":true,\"ticks\":\"\",\"zerolinecolor\":\"#EBF0F8\"},\"zaxis\":{\"backgroundcolor\":\"white\",\"gridcolor\":\"#DFE8F3\",\"gridwidth\":2,\"linecolor\":\"#EBF0F8\",\"showbackground\":true,\"ticks\":\"\",\"zerolinecolor\":\"#EBF0F8\"}},\"shapedefaults\":{\"line\":{\"color\":\"#2a3f5f\"}},\"ternary\":{\"aaxis\":{\"gridcolor\":\"#DFE8F3\",\"linecolor\":\"#A2B1C6\",\"ticks\":\"\"},\"baxis\":{\"gridcolor\":\"#DFE8F3\",\"linecolor\":\"#A2B1C6\",\"ticks\":\"\"},\"bgcolor\":\"white\",\"caxis\":{\"gridcolor\":\"#DFE8F3\",\"linecolor\":\"#A2B1C6\",\"ticks\":\"\"}},\"title\":{\"x\":0.05},\"xaxis\":{\"automargin\":true,\"gridcolor\":\"#EBF0F8\",\"linecolor\":\"#EBF0F8\",\"ticks\":\"\",\"title\":{\"standoff\":15},\"zerolinecolor\":\"#EBF0F8\",\"zerolinewidth\":2},\"yaxis\":{\"automargin\":true,\"gridcolor\":\"#EBF0F8\",\"linecolor\":\"#EBF0F8\",\"ticks\":\"\",\"title\":{\"standoff\":15},\"zerolinecolor\":\"#EBF0F8\",\"zerolinewidth\":2}}},\"xaxis\":{\"anchor\":\"y\",\"domain\":[0.0,0.175],\"showgrid\":true},\"yaxis\":{\"anchor\":\"x\",\"domain\":[0.0,1.0],\"showgrid\":true},\"xaxis2\":{\"anchor\":\"y2\",\"domain\":[0.275,0.45],\"showgrid\":true},\"yaxis2\":{\"anchor\":\"x2\",\"domain\":[0.0,1.0],\"showgrid\":true},\"xaxis3\":{\"anchor\":\"y3\",\"domain\":[0.55,0.7250000000000001],\"showgrid\":true},\"yaxis3\":{\"anchor\":\"x3\",\"domain\":[0.0,1.0],\"showgrid\":true},\"xaxis4\":{\"anchor\":\"y4\",\"domain\":[0.825,1.0],\"showgrid\":true},\"yaxis4\":{\"anchor\":\"x4\",\"domain\":[0.0,1.0],\"showgrid\":true},\"annotations\":[{\"font\":{\"size\":16},\"showarrow\":false,\"text\":\"Topic 0\",\"x\":0.0875,\"xanchor\":\"center\",\"xref\":\"paper\",\"y\":1.0,\"yanchor\":\"bottom\",\"yref\":\"paper\"},{\"font\":{\"size\":16},\"showarrow\":false,\"text\":\"Topic 1\",\"x\":0.36250000000000004,\"xanchor\":\"center\",\"xref\":\"paper\",\"y\":1.0,\"yanchor\":\"bottom\",\"yref\":\"paper\"}],\"title\":{\"font\":{\"size\":22,\"color\":\"Black\"},\"text\":\"<b>Topic Word Scores\",\"x\":0.5,\"xanchor\":\"center\",\"yanchor\":\"top\"},\"hoverlabel\":{\"font\":{\"size\":16,\"family\":\"Rockwell\"},\"bgcolor\":\"white\"},\"showlegend\":false,\"width\":1000,\"height\":325.0},                        {\"responsive\": true}                    ).then(function(){\n",
              "                            \n",
              "var gd = document.getElementById('4e1116ca-39d3-4aee-8363-e41c6429219b');\n",
              "var x = new MutationObserver(function (mutations, observer) {{\n",
              "        var display = window.getComputedStyle(gd).display;\n",
              "        if (!display || display === 'none') {{\n",
              "            console.log([gd, 'removed!']);\n",
              "            Plotly.purge(gd);\n",
              "            observer.disconnect();\n",
              "        }}\n",
              "}});\n",
              "\n",
              "// Listen for the removal of the full notebook cells\n",
              "var notebookContainer = gd.closest('#notebook-container');\n",
              "if (notebookContainer) {{\n",
              "    x.observe(notebookContainer, {childList: true});\n",
              "}}\n",
              "\n",
              "// Listen for the clearing of the current output cell\n",
              "var outputEl = gd.closest('.output');\n",
              "if (outputEl) {{\n",
              "    x.observe(outputEl, {childList: true});\n",
              "}}\n",
              "\n",
              "                        })                };                            </script>        </div>\n",
              "</body>\n",
              "</html>"
            ]
          },
          "metadata": {}
        }
      ]
    },
    {
      "cell_type": "markdown",
      "source": [
        "#trying top2Vec\n"
      ],
      "metadata": {
        "id": "Fjs2sxPCQ7SE"
      }
    },
    {
      "cell_type": "code",
      "source": [
        "pip install top2vec"
      ],
      "metadata": {
        "colab": {
          "base_uri": "https://localhost:8080/"
        },
        "id": "FAI29xOcRCYv",
        "outputId": "b8c332f4-0eed-4ac1-ed8a-dab8a8972baf"
      },
      "execution_count": null,
      "outputs": [
        {
          "output_type": "stream",
          "name": "stdout",
          "text": [
            "Looking in indexes: https://pypi.org/simple, https://us-python.pkg.dev/colab-wheels/public/simple/\n",
            "Collecting top2vec\n",
            "  Downloading top2vec-1.0.27-py3-none-any.whl (25 kB)\n",
            "Requirement already satisfied: wordcloud in /usr/local/lib/python3.7/dist-packages (from top2vec) (1.5.0)\n",
            "Requirement already satisfied: umap-learn>=0.5.1 in /usr/local/lib/python3.7/dist-packages (from top2vec) (0.5.3)\n",
            "Requirement already satisfied: hdbscan>=0.8.27 in /usr/local/lib/python3.7/dist-packages (from top2vec) (0.8.28)\n",
            "Collecting gensim>=4.0.0\n",
            "  Downloading gensim-4.2.0-cp37-cp37m-manylinux_2_12_x86_64.manylinux2010_x86_64.whl (24.1 MB)\n",
            "\u001b[K     |████████████████████████████████| 24.1 MB 1.5 MB/s \n",
            "\u001b[?25hRequirement already satisfied: numpy>=1.20.0 in /usr/local/lib/python3.7/dist-packages (from top2vec) (1.21.6)\n",
            "Requirement already satisfied: pandas in /usr/local/lib/python3.7/dist-packages (from top2vec) (1.3.5)\n",
            "Requirement already satisfied: smart-open>=1.8.1 in /usr/local/lib/python3.7/dist-packages (from gensim>=4.0.0->top2vec) (5.2.1)\n",
            "Requirement already satisfied: scipy>=0.18.1 in /usr/local/lib/python3.7/dist-packages (from gensim>=4.0.0->top2vec) (1.7.3)\n",
            "Requirement already satisfied: cython>=0.27 in /usr/local/lib/python3.7/dist-packages (from hdbscan>=0.8.27->top2vec) (0.29.30)\n",
            "Requirement already satisfied: joblib>=1.0 in /usr/local/lib/python3.7/dist-packages (from hdbscan>=0.8.27->top2vec) (1.1.0)\n",
            "Requirement already satisfied: scikit-learn>=0.20 in /usr/local/lib/python3.7/dist-packages (from hdbscan>=0.8.27->top2vec) (1.0.2)\n",
            "Requirement already satisfied: threadpoolctl>=2.0.0 in /usr/local/lib/python3.7/dist-packages (from scikit-learn>=0.20->hdbscan>=0.8.27->top2vec) (3.1.0)\n",
            "Requirement already satisfied: pynndescent>=0.5 in /usr/local/lib/python3.7/dist-packages (from umap-learn>=0.5.1->top2vec) (0.5.7)\n",
            "Requirement already satisfied: tqdm in /usr/local/lib/python3.7/dist-packages (from umap-learn>=0.5.1->top2vec) (4.64.0)\n",
            "Requirement already satisfied: numba>=0.49 in /usr/local/lib/python3.7/dist-packages (from umap-learn>=0.5.1->top2vec) (0.51.2)\n",
            "Requirement already satisfied: setuptools in /usr/local/lib/python3.7/dist-packages (from numba>=0.49->umap-learn>=0.5.1->top2vec) (57.4.0)\n",
            "Requirement already satisfied: llvmlite<0.35,>=0.34.0.dev0 in /usr/local/lib/python3.7/dist-packages (from numba>=0.49->umap-learn>=0.5.1->top2vec) (0.34.0)\n",
            "Requirement already satisfied: pytz>=2017.3 in /usr/local/lib/python3.7/dist-packages (from pandas->top2vec) (2022.1)\n",
            "Requirement already satisfied: python-dateutil>=2.7.3 in /usr/local/lib/python3.7/dist-packages (from pandas->top2vec) (2.8.2)\n",
            "Requirement already satisfied: six>=1.5 in /usr/local/lib/python3.7/dist-packages (from python-dateutil>=2.7.3->pandas->top2vec) (1.15.0)\n",
            "Requirement already satisfied: pillow in /usr/local/lib/python3.7/dist-packages (from wordcloud->top2vec) (7.1.2)\n",
            "Installing collected packages: gensim, top2vec\n",
            "  Attempting uninstall: gensim\n",
            "    Found existing installation: gensim 3.6.0\n",
            "    Uninstalling gensim-3.6.0:\n",
            "      Successfully uninstalled gensim-3.6.0\n",
            "Successfully installed gensim-4.2.0 top2vec-1.0.27\n"
          ]
        }
      ]
    },
    {
      "cell_type": "code",
      "source": [
        "from top2vec import Top2Vec\n",
        "\n",
        "model = Top2Vec(temp_dict[\"Mike Santomassimo\"]+temp_dict[\"Charlie Scharf\"]+temp_dict[\"John Campbell\"]+temp_dict[\"John McDonald\"])"
      ],
      "metadata": {
        "colab": {
          "base_uri": "https://localhost:8080/",
          "height": 588
        },
        "id": "t8nWbAbERGcn",
        "outputId": "3a044a42-c14a-465d-8e67-83bb332feb16"
      },
      "execution_count": null,
      "outputs": [
        {
          "output_type": "stream",
          "name": "stderr",
          "text": [
            "2022-07-30 13:31:08,557 - top2vec - INFO - Pre-processing documents for training\n",
            "INFO:top2vec:Pre-processing documents for training\n",
            "2022-07-30 13:31:08,651 - top2vec - INFO - Creating joint document/word embedding\n",
            "INFO:top2vec:Creating joint document/word embedding\n",
            "2022-07-30 13:31:09,301 - top2vec - INFO - Creating lower dimension embedding of documents\n",
            "INFO:top2vec:Creating lower dimension embedding of documents\n",
            "2022-07-30 13:31:13,583 - top2vec - INFO - Finding dense areas of documents\n",
            "INFO:top2vec:Finding dense areas of documents\n",
            "2022-07-30 13:31:13,601 - top2vec - INFO - Finding topics\n",
            "INFO:top2vec:Finding topics\n"
          ]
        },
        {
          "output_type": "error",
          "ename": "ValueError",
          "evalue": "ignored",
          "traceback": [
            "\u001b[0;31m---------------------------------------------------------------------------\u001b[0m",
            "\u001b[0;31mValueError\u001b[0m                                Traceback (most recent call last)",
            "\u001b[0;32m<ipython-input-80-8089c89c479c>\u001b[0m in \u001b[0;36m<module>\u001b[0;34m()\u001b[0m\n\u001b[1;32m      1\u001b[0m \u001b[0;32mfrom\u001b[0m \u001b[0mtop2vec\u001b[0m \u001b[0;32mimport\u001b[0m \u001b[0mTop2Vec\u001b[0m\u001b[0;34m\u001b[0m\u001b[0;34m\u001b[0m\u001b[0m\n\u001b[1;32m      2\u001b[0m \u001b[0;34m\u001b[0m\u001b[0m\n\u001b[0;32m----> 3\u001b[0;31m \u001b[0mmodel\u001b[0m \u001b[0;34m=\u001b[0m \u001b[0mTop2Vec\u001b[0m\u001b[0;34m(\u001b[0m\u001b[0mtemp_dict\u001b[0m\u001b[0;34m[\u001b[0m\u001b[0;34m\"Mike Santomassimo\"\u001b[0m\u001b[0;34m]\u001b[0m\u001b[0;34m+\u001b[0m\u001b[0mtemp_dict\u001b[0m\u001b[0;34m[\u001b[0m\u001b[0;34m\"Charlie Scharf\"\u001b[0m\u001b[0;34m]\u001b[0m\u001b[0;34m+\u001b[0m\u001b[0mtemp_dict\u001b[0m\u001b[0;34m[\u001b[0m\u001b[0;34m\"John Campbell\"\u001b[0m\u001b[0;34m]\u001b[0m\u001b[0;34m+\u001b[0m\u001b[0mtemp_dict\u001b[0m\u001b[0;34m[\u001b[0m\u001b[0;34m\"John McDonald\"\u001b[0m\u001b[0;34m]\u001b[0m\u001b[0;34m)\u001b[0m\u001b[0;34m\u001b[0m\u001b[0;34m\u001b[0m\u001b[0m\n\u001b[0m",
            "\u001b[0;32m/usr/local/lib/python3.7/dist-packages/top2vec/Top2Vec.py\u001b[0m in \u001b[0;36m__init__\u001b[0;34m(self, documents, min_count, ngram_vocab, ngram_vocab_args, embedding_model, embedding_model_path, embedding_batch_size, split_documents, document_chunker, chunk_length, max_num_chunks, chunk_overlap_ratio, chunk_len_coverage_ratio, sentencizer, speed, use_corpus_file, document_ids, keep_documents, workers, tokenizer, use_embedding_model_tokenizer, umap_args, hdbscan_args, verbose)\u001b[0m\n\u001b[1;32m    682\u001b[0m \u001b[0;34m\u001b[0m\u001b[0m\n\u001b[1;32m    683\u001b[0m         \u001b[0;31m# create topic vectors\u001b[0m\u001b[0;34m\u001b[0m\u001b[0;34m\u001b[0m\u001b[0;34m\u001b[0m\u001b[0m\n\u001b[0;32m--> 684\u001b[0;31m         \u001b[0mself\u001b[0m\u001b[0;34m.\u001b[0m\u001b[0m_create_topic_vectors\u001b[0m\u001b[0;34m(\u001b[0m\u001b[0mcluster\u001b[0m\u001b[0;34m.\u001b[0m\u001b[0mlabels_\u001b[0m\u001b[0;34m)\u001b[0m\u001b[0;34m\u001b[0m\u001b[0;34m\u001b[0m\u001b[0m\n\u001b[0m\u001b[1;32m    685\u001b[0m \u001b[0;34m\u001b[0m\u001b[0m\n\u001b[1;32m    686\u001b[0m         \u001b[0;31m# deduplicate topics\u001b[0m\u001b[0;34m\u001b[0m\u001b[0;34m\u001b[0m\u001b[0;34m\u001b[0m\u001b[0m\n",
            "\u001b[0;32m/usr/local/lib/python3.7/dist-packages/top2vec/Top2Vec.py\u001b[0m in \u001b[0;36m_create_topic_vectors\u001b[0;34m(self, cluster_labels)\u001b[0m\n\u001b[1;32m    858\u001b[0m         self.topic_vectors = self._l2_normalize(\n\u001b[1;32m    859\u001b[0m             np.vstack([self.document_vectors[np.where(cluster_labels == label)[0]]\n\u001b[0;32m--> 860\u001b[0;31m                       .mean(axis=0) for label in unique_labels]))\n\u001b[0m\u001b[1;32m    861\u001b[0m \u001b[0;34m\u001b[0m\u001b[0m\n\u001b[1;32m    862\u001b[0m     \u001b[0;32mdef\u001b[0m \u001b[0m_deduplicate_topics\u001b[0m\u001b[0;34m(\u001b[0m\u001b[0mself\u001b[0m\u001b[0;34m)\u001b[0m\u001b[0;34m:\u001b[0m\u001b[0;34m\u001b[0m\u001b[0;34m\u001b[0m\u001b[0m\n",
            "\u001b[0;32m<__array_function__ internals>\u001b[0m in \u001b[0;36mvstack\u001b[0;34m(*args, **kwargs)\u001b[0m\n",
            "\u001b[0;32m/usr/local/lib/python3.7/dist-packages/numpy/core/shape_base.py\u001b[0m in \u001b[0;36mvstack\u001b[0;34m(tup)\u001b[0m\n\u001b[1;32m    280\u001b[0m     \u001b[0;32mif\u001b[0m \u001b[0;32mnot\u001b[0m \u001b[0misinstance\u001b[0m\u001b[0;34m(\u001b[0m\u001b[0marrs\u001b[0m\u001b[0;34m,\u001b[0m \u001b[0mlist\u001b[0m\u001b[0;34m)\u001b[0m\u001b[0;34m:\u001b[0m\u001b[0;34m\u001b[0m\u001b[0;34m\u001b[0m\u001b[0m\n\u001b[1;32m    281\u001b[0m         \u001b[0marrs\u001b[0m \u001b[0;34m=\u001b[0m \u001b[0;34m[\u001b[0m\u001b[0marrs\u001b[0m\u001b[0;34m]\u001b[0m\u001b[0;34m\u001b[0m\u001b[0;34m\u001b[0m\u001b[0m\n\u001b[0;32m--> 282\u001b[0;31m     \u001b[0;32mreturn\u001b[0m \u001b[0m_nx\u001b[0m\u001b[0;34m.\u001b[0m\u001b[0mconcatenate\u001b[0m\u001b[0;34m(\u001b[0m\u001b[0marrs\u001b[0m\u001b[0;34m,\u001b[0m \u001b[0;36m0\u001b[0m\u001b[0;34m)\u001b[0m\u001b[0;34m\u001b[0m\u001b[0;34m\u001b[0m\u001b[0m\n\u001b[0m\u001b[1;32m    283\u001b[0m \u001b[0;34m\u001b[0m\u001b[0m\n\u001b[1;32m    284\u001b[0m \u001b[0;34m\u001b[0m\u001b[0m\n",
            "\u001b[0;32m<__array_function__ internals>\u001b[0m in \u001b[0;36mconcatenate\u001b[0;34m(*args, **kwargs)\u001b[0m\n",
            "\u001b[0;31mValueError\u001b[0m: need at least one array to concatenate"
          ]
        }
      ]
    },
    {
      "cell_type": "code",
      "source": [
        "model.get_topics()"
      ],
      "metadata": {
        "id": "2k7kUJCFRSAf"
      },
      "execution_count": null,
      "outputs": []
    },
    {
      "cell_type": "code",
      "source": [
        ""
      ],
      "metadata": {
        "id": "towXMqkBR9Km"
      },
      "execution_count": null,
      "outputs": []
    },
    {
      "cell_type": "markdown",
      "source": [
        ""
      ],
      "metadata": {
        "id": "SM-TzhaStFcm"
      }
    },
    {
      "cell_type": "markdown",
      "source": [
        ""
      ],
      "metadata": {
        "id": "zYjgs082tKON"
      }
    },
    {
      "cell_type": "markdown",
      "source": [
        "# using transformers\n"
      ],
      "metadata": {
        "id": "I3ixijZxtNBi"
      }
    },
    {
      "cell_type": "code",
      "source": [
        "pip install bertopic[flair]"
      ],
      "metadata": {
        "id": "IB5SBZg2tPFB",
        "colab": {
          "base_uri": "https://localhost:8080/",
          "height": 1000
        },
        "outputId": "8f848013-aa31-4921-a3e8-1f719409b443"
      },
      "execution_count": 66,
      "outputs": [
        {
          "output_type": "stream",
          "name": "stdout",
          "text": [
            "Looking in indexes: https://pypi.org/simple, https://us-python.pkg.dev/colab-wheels/public/simple/\n",
            "Collecting bertopic[flair]\n",
            "  Downloading bertopic-0.11.0-py2.py3-none-any.whl (76 kB)\n",
            "\u001b[K     |████████████████████████████████| 76 kB 3.0 MB/s \n",
            "\u001b[?25hRequirement already satisfied: pyyaml<6.0 in /usr/local/lib/python3.7/dist-packages (from bertopic[flair]) (3.13)\n",
            "Requirement already satisfied: tqdm>=4.41.1 in /usr/local/lib/python3.7/dist-packages (from bertopic[flair]) (4.64.0)\n",
            "Requirement already satisfied: numpy>=1.20.0 in /usr/local/lib/python3.7/dist-packages (from bertopic[flair]) (1.21.6)\n",
            "Requirement already satisfied: pandas>=1.1.5 in /usr/local/lib/python3.7/dist-packages (from bertopic[flair]) (1.3.5)\n",
            "Collecting hdbscan>=0.8.28\n",
            "  Downloading hdbscan-0.8.28.tar.gz (5.2 MB)\n",
            "\u001b[K     |████████████████████████████████| 5.2 MB 10.8 MB/s \n",
            "\u001b[?25h  Installing build dependencies ... \u001b[?25l\u001b[?25hdone\n",
            "  Getting requirements to build wheel ... \u001b[?25l\u001b[?25hdone\n",
            "    Preparing wheel metadata ... \u001b[?25l\u001b[?25hdone\n",
            "Collecting sentence-transformers>=0.4.1\n",
            "  Downloading sentence-transformers-2.2.2.tar.gz (85 kB)\n",
            "\u001b[K     |████████████████████████████████| 85 kB 6.4 MB/s \n",
            "\u001b[?25hRequirement already satisfied: plotly>=4.7.0 in /usr/local/lib/python3.7/dist-packages (from bertopic[flair]) (5.5.0)\n",
            "Collecting umap-learn>=0.5.0\n",
            "  Downloading umap-learn-0.5.3.tar.gz (88 kB)\n",
            "\u001b[K     |████████████████████████████████| 88 kB 9.6 MB/s \n",
            "\u001b[?25hRequirement already satisfied: scikit-learn>=0.22.2.post1 in /usr/local/lib/python3.7/dist-packages (from bertopic[flair]) (1.0.2)\n",
            "Collecting transformers>=3.5.1\n",
            "  Downloading transformers-4.21.0-py3-none-any.whl (4.7 MB)\n",
            "\u001b[K     |████████████████████████████████| 4.7 MB 45.2 MB/s \n",
            "\u001b[?25hRequirement already satisfied: torch>=1.4.0 in /usr/local/lib/python3.7/dist-packages (from bertopic[flair]) (1.12.0+cu113)\n",
            "Collecting flair>=0.7\n",
            "  Downloading flair-0.11.3-py3-none-any.whl (401 kB)\n",
            "\u001b[K     |████████████████████████████████| 401 kB 63.8 MB/s \n",
            "\u001b[?25hCollecting ftfy\n",
            "  Downloading ftfy-6.1.1-py3-none-any.whl (53 kB)\n",
            "\u001b[K     |████████████████████████████████| 53 kB 1.8 MB/s \n",
            "\u001b[?25hRequirement already satisfied: tabulate in /usr/local/lib/python3.7/dist-packages (from flair>=0.7->bertopic[flair]) (0.8.10)\n",
            "Collecting sqlitedict>=1.6.0\n",
            "  Downloading sqlitedict-2.0.0.tar.gz (46 kB)\n",
            "\u001b[K     |████████████████████████████████| 46 kB 4.1 MB/s \n",
            "\u001b[?25hCollecting hyperopt>=0.2.7\n",
            "  Downloading hyperopt-0.2.7-py2.py3-none-any.whl (1.6 MB)\n",
            "\u001b[K     |████████████████████████████████| 1.6 MB 67.4 MB/s \n",
            "\u001b[?25hCollecting bpemb>=0.3.2\n",
            "  Downloading bpemb-0.3.3-py3-none-any.whl (19 kB)\n",
            "Collecting pptree\n",
            "  Downloading pptree-3.1.tar.gz (3.0 kB)\n",
            "Collecting huggingface-hub\n",
            "  Downloading huggingface_hub-0.8.1-py3-none-any.whl (101 kB)\n",
            "\u001b[K     |████████████████████████████████| 101 kB 10.8 MB/s \n",
            "\u001b[?25hCollecting langdetect\n",
            "  Downloading langdetect-1.0.9.tar.gz (981 kB)\n",
            "\u001b[K     |████████████████████████████████| 981 kB 63.2 MB/s \n",
            "\u001b[?25hRequirement already satisfied: gdown==4.4.0 in /usr/local/lib/python3.7/dist-packages (from flair>=0.7->bertopic[flair]) (4.4.0)\n",
            "Requirement already satisfied: more-itertools in /usr/local/lib/python3.7/dist-packages (from flair>=0.7->bertopic[flair]) (8.13.0)\n",
            "Requirement already satisfied: matplotlib>=2.2.3 in /usr/local/lib/python3.7/dist-packages (from flair>=0.7->bertopic[flair]) (3.2.2)\n",
            "Collecting sentencepiece==0.1.95\n",
            "  Downloading sentencepiece-0.1.95-cp37-cp37m-manylinux2014_x86_64.whl (1.2 MB)\n",
            "\u001b[K     |████████████████████████████████| 1.2 MB 72.1 MB/s \n",
            "\u001b[?25hCollecting segtok>=1.5.7\n",
            "  Downloading segtok-1.5.11-py3-none-any.whl (24 kB)\n",
            "Requirement already satisfied: regex in /usr/local/lib/python3.7/dist-packages (from flair>=0.7->bertopic[flair]) (2022.6.2)\n",
            "Requirement already satisfied: lxml in /usr/local/lib/python3.7/dist-packages (from flair>=0.7->bertopic[flair]) (4.9.1)\n",
            "Collecting konoha<5.0.0,>=4.0.0\n",
            "  Downloading konoha-4.6.5-py3-none-any.whl (20 kB)\n",
            "Collecting conllu>=4.0\n",
            "  Downloading conllu-4.5.2-py2.py3-none-any.whl (16 kB)\n",
            "Collecting wikipedia-api\n",
            "  Downloading Wikipedia-API-0.5.4.tar.gz (18 kB)\n",
            "Requirement already satisfied: python-dateutil>=2.6.1 in /usr/local/lib/python3.7/dist-packages (from flair>=0.7->bertopic[flair]) (2.8.2)\n",
            "Collecting mpld3==0.3\n",
            "  Downloading mpld3-0.3.tar.gz (788 kB)\n",
            "\u001b[K     |████████████████████████████████| 788 kB 68.9 MB/s \n",
            "\u001b[?25hCollecting janome\n",
            "  Downloading Janome-0.4.2-py2.py3-none-any.whl (19.7 MB)\n",
            "\u001b[K     |████████████████████████████████| 19.7 MB 116 kB/s \n",
            "\u001b[?25hRequirement already satisfied: gensim>=3.4.0 in /usr/local/lib/python3.7/dist-packages (from flair>=0.7->bertopic[flair]) (3.6.0)\n",
            "Collecting deprecated>=1.2.4\n",
            "  Downloading Deprecated-1.2.13-py2.py3-none-any.whl (9.6 kB)\n",
            "Requirement already satisfied: beautifulsoup4 in /usr/local/lib/python3.7/dist-packages (from gdown==4.4.0->flair>=0.7->bertopic[flair]) (4.6.3)\n",
            "Requirement already satisfied: filelock in /usr/local/lib/python3.7/dist-packages (from gdown==4.4.0->flair>=0.7->bertopic[flair]) (3.7.1)\n",
            "Requirement already satisfied: six in /usr/local/lib/python3.7/dist-packages (from gdown==4.4.0->flair>=0.7->bertopic[flair]) (1.15.0)\n",
            "Requirement already satisfied: requests[socks] in /usr/local/lib/python3.7/dist-packages (from gdown==4.4.0->flair>=0.7->bertopic[flair]) (2.23.0)\n",
            "Requirement already satisfied: wrapt<2,>=1.10 in /usr/local/lib/python3.7/dist-packages (from deprecated>=1.2.4->flair>=0.7->bertopic[flair]) (1.14.1)\n",
            "Requirement already satisfied: smart-open>=1.2.1 in /usr/local/lib/python3.7/dist-packages (from gensim>=3.4.0->flair>=0.7->bertopic[flair]) (5.2.1)\n",
            "Requirement already satisfied: scipy>=0.18.1 in /usr/local/lib/python3.7/dist-packages (from gensim>=3.4.0->flair>=0.7->bertopic[flair]) (1.7.3)\n",
            "Requirement already satisfied: cython>=0.27 in /usr/local/lib/python3.7/dist-packages (from hdbscan>=0.8.28->bertopic[flair]) (0.29.31)\n",
            "Requirement already satisfied: joblib>=1.0 in /usr/local/lib/python3.7/dist-packages (from hdbscan>=0.8.28->bertopic[flair]) (1.1.0)\n",
            "Requirement already satisfied: future in /usr/local/lib/python3.7/dist-packages (from hyperopt>=0.2.7->flair>=0.7->bertopic[flair]) (0.16.0)\n",
            "Collecting py4j\n",
            "  Downloading py4j-0.10.9.5-py2.py3-none-any.whl (199 kB)\n",
            "\u001b[K     |████████████████████████████████| 199 kB 76.2 MB/s \n",
            "\u001b[?25hRequirement already satisfied: networkx>=2.2 in /usr/local/lib/python3.7/dist-packages (from hyperopt>=0.2.7->flair>=0.7->bertopic[flair]) (2.6.3)\n",
            "Requirement already satisfied: cloudpickle in /usr/local/lib/python3.7/dist-packages (from hyperopt>=0.2.7->flair>=0.7->bertopic[flair]) (1.3.0)\n",
            "Collecting requests\n",
            "  Downloading requests-2.28.1-py3-none-any.whl (62 kB)\n",
            "\u001b[K     |████████████████████████████████| 62 kB 1.8 MB/s \n",
            "\u001b[?25hCollecting overrides<4.0.0,>=3.0.0\n",
            "  Downloading overrides-3.1.0.tar.gz (11 kB)\n",
            "Collecting importlib-metadata<4.0.0,>=3.7.0\n",
            "  Downloading importlib_metadata-3.10.1-py3-none-any.whl (14 kB)\n",
            "Requirement already satisfied: zipp>=0.5 in /usr/local/lib/python3.7/dist-packages (from importlib-metadata<4.0.0,>=3.7.0->konoha<5.0.0,>=4.0.0->flair>=0.7->bertopic[flair]) (3.8.1)\n",
            "Requirement already satisfied: typing-extensions>=3.6.4 in /usr/local/lib/python3.7/dist-packages (from importlib-metadata<4.0.0,>=3.7.0->konoha<5.0.0,>=4.0.0->flair>=0.7->bertopic[flair]) (4.1.1)\n",
            "Requirement already satisfied: cycler>=0.10 in /usr/local/lib/python3.7/dist-packages (from matplotlib>=2.2.3->flair>=0.7->bertopic[flair]) (0.11.0)\n",
            "Requirement already satisfied: pyparsing!=2.0.4,!=2.1.2,!=2.1.6,>=2.0.1 in /usr/local/lib/python3.7/dist-packages (from matplotlib>=2.2.3->flair>=0.7->bertopic[flair]) (3.0.9)\n",
            "Requirement already satisfied: kiwisolver>=1.0.1 in /usr/local/lib/python3.7/dist-packages (from matplotlib>=2.2.3->flair>=0.7->bertopic[flair]) (1.4.4)\n",
            "Requirement already satisfied: pytz>=2017.3 in /usr/local/lib/python3.7/dist-packages (from pandas>=1.1.5->bertopic[flair]) (2022.1)\n",
            "Requirement already satisfied: tenacity>=6.2.0 in /usr/local/lib/python3.7/dist-packages (from plotly>=4.7.0->bertopic[flair]) (8.0.1)\n",
            "Requirement already satisfied: charset-normalizer<3,>=2 in /usr/local/lib/python3.7/dist-packages (from requests->bpemb>=0.3.2->flair>=0.7->bertopic[flair]) (2.1.0)\n",
            "Requirement already satisfied: urllib3<1.27,>=1.21.1 in /usr/local/lib/python3.7/dist-packages (from requests->bpemb>=0.3.2->flair>=0.7->bertopic[flair]) (1.24.3)\n",
            "Requirement already satisfied: idna<4,>=2.5 in /usr/local/lib/python3.7/dist-packages (from requests->bpemb>=0.3.2->flair>=0.7->bertopic[flair]) (2.10)\n",
            "Requirement already satisfied: certifi>=2017.4.17 in /usr/local/lib/python3.7/dist-packages (from requests->bpemb>=0.3.2->flair>=0.7->bertopic[flair]) (2022.6.15)\n",
            "Requirement already satisfied: threadpoolctl>=2.0.0 in /usr/local/lib/python3.7/dist-packages (from scikit-learn>=0.22.2.post1->bertopic[flair]) (3.1.0)\n",
            "Requirement already satisfied: torchvision in /usr/local/lib/python3.7/dist-packages (from sentence-transformers>=0.4.1->bertopic[flair]) (0.13.0+cu113)\n",
            "Requirement already satisfied: nltk in /usr/local/lib/python3.7/dist-packages (from sentence-transformers>=0.4.1->bertopic[flair]) (3.7)\n",
            "Requirement already satisfied: packaging>=20.9 in /usr/local/lib/python3.7/dist-packages (from huggingface-hub->flair>=0.7->bertopic[flair]) (21.3)\n",
            "Collecting pyyaml<6.0\n",
            "  Downloading PyYAML-5.4.1-cp37-cp37m-manylinux1_x86_64.whl (636 kB)\n",
            "\u001b[K     |████████████████████████████████| 636 kB 69.2 MB/s \n",
            "\u001b[?25hCollecting tokenizers!=0.11.3,<0.13,>=0.11.1\n",
            "  Downloading tokenizers-0.12.1-cp37-cp37m-manylinux_2_12_x86_64.manylinux2010_x86_64.whl (6.6 MB)\n",
            "\u001b[K     |████████████████████████████████| 6.6 MB 47.7 MB/s \n",
            "\u001b[?25hRequirement already satisfied: numba>=0.49 in /usr/local/lib/python3.7/dist-packages (from umap-learn>=0.5.0->bertopic[flair]) (0.56.0)\n",
            "Collecting pynndescent>=0.5\n",
            "  Downloading pynndescent-0.5.7.tar.gz (1.1 MB)\n",
            "\u001b[K     |████████████████████████████████| 1.1 MB 42.5 MB/s \n",
            "\u001b[?25hRequirement already satisfied: setuptools in /usr/local/lib/python3.7/dist-packages (from numba>=0.49->umap-learn>=0.5.0->bertopic[flair]) (57.4.0)\n",
            "Requirement already satisfied: llvmlite<0.40,>=0.39.0dev0 in /usr/local/lib/python3.7/dist-packages (from numba>=0.49->umap-learn>=0.5.0->bertopic[flair]) (0.39.0)\n",
            "Requirement already satisfied: wcwidth>=0.2.5 in /usr/local/lib/python3.7/dist-packages (from ftfy->flair>=0.7->bertopic[flair]) (0.2.5)\n",
            "Requirement already satisfied: click in /usr/local/lib/python3.7/dist-packages (from nltk->sentence-transformers>=0.4.1->bertopic[flair]) (7.1.2)\n",
            "Requirement already satisfied: PySocks!=1.5.7,>=1.5.6 in /usr/local/lib/python3.7/dist-packages (from requests->bpemb>=0.3.2->flair>=0.7->bertopic[flair]) (1.7.1)\n",
            "Requirement already satisfied: pillow!=8.3.*,>=5.3.0 in /usr/local/lib/python3.7/dist-packages (from torchvision->sentence-transformers>=0.4.1->bertopic[flair]) (7.1.2)\n",
            "Building wheels for collected packages: mpld3, hdbscan, overrides, sentence-transformers, sqlitedict, umap-learn, pynndescent, langdetect, pptree, wikipedia-api\n",
            "  Building wheel for mpld3 (setup.py) ... \u001b[?25l\u001b[?25hdone\n",
            "  Created wheel for mpld3: filename=mpld3-0.3-py3-none-any.whl size=116702 sha256=46e71ae810a595c5566bc762ab1db0b18f9244e7a40ed2e47cf1b9e3697008e8\n",
            "  Stored in directory: /root/.cache/pip/wheels/26/70/6a/1c79e59951a41b4045497da187b2724f5659ca64033cf4548e\n",
            "  Building wheel for hdbscan (PEP 517) ... \u001b[?25l\u001b[?25hdone\n",
            "  Created wheel for hdbscan: filename=hdbscan-0.8.28-cp37-cp37m-linux_x86_64.whl size=2340256 sha256=eb26f61a9ac1bee6e5dfb58e3bd2265598712cb3f10db361895f2d057d02aa50\n",
            "  Stored in directory: /root/.cache/pip/wheels/6e/7a/5e/259ccc841c085fc41b99ef4a71e896b62f5161f2bc8a14c97a\n",
            "  Building wheel for overrides (setup.py) ... \u001b[?25l\u001b[?25hdone\n",
            "  Created wheel for overrides: filename=overrides-3.1.0-py3-none-any.whl size=10187 sha256=9fa888595309e22182eaa18a41e79ed8337b71333ba3a8c11269f8890412ce75\n",
            "  Stored in directory: /root/.cache/pip/wheels/3a/0d/38/01a9bc6e20dcfaf0a6a7b552d03137558ba1c38aea47644682\n",
            "  Building wheel for sentence-transformers (setup.py) ... \u001b[?25l\u001b[?25hdone\n",
            "  Created wheel for sentence-transformers: filename=sentence_transformers-2.2.2-py3-none-any.whl size=125938 sha256=89aaf37e56b2d4bb17572645803cc608a8eea69665fd60b4fc579f2d221b8742\n",
            "  Stored in directory: /root/.cache/pip/wheels/bf/06/fb/d59c1e5bd1dac7f6cf61ec0036cc3a10ab8fecaa6b2c3d3ee9\n",
            "  Building wheel for sqlitedict (setup.py) ... \u001b[?25l\u001b[?25hdone\n",
            "  Created wheel for sqlitedict: filename=sqlitedict-2.0.0-py3-none-any.whl size=15736 sha256=6bf275e8c1e7b6d550d07cfeb70f02ea176d536a5c52ac47542d622e2a17d266\n",
            "  Stored in directory: /root/.cache/pip/wheels/96/dd/2e/0ed4a25cb73fc30c7ea8d10b50acb7226175736067e40a7ea3\n",
            "  Building wheel for umap-learn (setup.py) ... \u001b[?25l\u001b[?25hdone\n",
            "  Created wheel for umap-learn: filename=umap_learn-0.5.3-py3-none-any.whl size=82829 sha256=2a536f7c7d44c69fc9b1b3a64ce204ccc9fdcf92f188b962718d07b4675ec1ce\n",
            "  Stored in directory: /root/.cache/pip/wheels/b3/52/a5/1fd9e3e76a7ab34f134c07469cd6f16e27ef3a37aeff1fe821\n",
            "  Building wheel for pynndescent (setup.py) ... \u001b[?25l\u001b[?25hdone\n",
            "  Created wheel for pynndescent: filename=pynndescent-0.5.7-py3-none-any.whl size=54286 sha256=6188a23ed99774a7a717d96011e7a98a186f292352b0972f1fe59c1c37487fdc\n",
            "  Stored in directory: /root/.cache/pip/wheels/7f/2a/f8/7bd5dcec71bd5c669f6f574db3113513696b98f3f9b51f496c\n",
            "  Building wheel for langdetect (setup.py) ... \u001b[?25l\u001b[?25hdone\n",
            "  Created wheel for langdetect: filename=langdetect-1.0.9-py3-none-any.whl size=993242 sha256=02d749acf8d1a207fd6172680f4ed1515028d3bee924f922cec93d71ff2a3bc0\n",
            "  Stored in directory: /root/.cache/pip/wheels/c5/96/8a/f90c59ed25d75e50a8c10a1b1c2d4c402e4dacfa87f3aff36a\n",
            "  Building wheel for pptree (setup.py) ... \u001b[?25l\u001b[?25hdone\n",
            "  Created wheel for pptree: filename=pptree-3.1-py3-none-any.whl size=4629 sha256=20ba2d16440ec45819ded15e403bbe898b42cb5624720ad1ae3f067fe168e754\n",
            "  Stored in directory: /root/.cache/pip/wheels/9e/e8/7d/a9c3c19b4722608a0d8b05a38c36bc3f230c43becd2a46794b\n",
            "  Building wheel for wikipedia-api (setup.py) ... \u001b[?25l\u001b[?25hdone\n",
            "  Created wheel for wikipedia-api: filename=Wikipedia_API-0.5.4-py3-none-any.whl size=13477 sha256=2fb9966a00c664ff5872018f7ce09167ed65dae57ffc10f7987af7f2f49a6fae\n",
            "  Stored in directory: /root/.cache/pip/wheels/d3/24/56/58ba93cf78be162451144e7a9889603f437976ef1ae7013d04\n",
            "Successfully built mpld3 hdbscan overrides sentence-transformers sqlitedict umap-learn pynndescent langdetect pptree wikipedia-api\n",
            "Installing collected packages: requests, pyyaml, importlib-metadata, tokenizers, huggingface-hub, transformers, sentencepiece, pynndescent, py4j, overrides, wikipedia-api, umap-learn, sqlitedict, sentence-transformers, segtok, pptree, mpld3, langdetect, konoha, janome, hyperopt, hdbscan, ftfy, deprecated, conllu, bpemb, flair, bertopic\n",
            "  Attempting uninstall: requests\n",
            "    Found existing installation: requests 2.23.0\n",
            "    Uninstalling requests-2.23.0:\n",
            "      Successfully uninstalled requests-2.23.0\n",
            "  Attempting uninstall: pyyaml\n",
            "    Found existing installation: PyYAML 3.13\n",
            "    Uninstalling PyYAML-3.13:\n",
            "      Successfully uninstalled PyYAML-3.13\n",
            "  Attempting uninstall: importlib-metadata\n",
            "    Found existing installation: importlib-metadata 4.12.0\n",
            "    Uninstalling importlib-metadata-4.12.0:\n",
            "      Successfully uninstalled importlib-metadata-4.12.0\n",
            "  Attempting uninstall: hyperopt\n",
            "    Found existing installation: hyperopt 0.1.2\n",
            "    Uninstalling hyperopt-0.1.2:\n",
            "      Successfully uninstalled hyperopt-0.1.2\n",
            "\u001b[31mERROR: pip's dependency resolver does not currently take into account all the packages that are installed. This behaviour is the source of the following dependency conflicts.\n",
            "markdown 3.4.1 requires importlib-metadata>=4.4; python_version < \"3.10\", but you have importlib-metadata 3.10.1 which is incompatible.\u001b[0m\n",
            "Successfully installed bertopic-0.11.0 bpemb-0.3.3 conllu-4.5.2 deprecated-1.2.13 flair-0.11.3 ftfy-6.1.1 hdbscan-0.8.28 huggingface-hub-0.8.1 hyperopt-0.2.7 importlib-metadata-3.10.1 janome-0.4.2 konoha-4.6.5 langdetect-1.0.9 mpld3-0.3 overrides-3.1.0 pptree-3.1 py4j-0.10.9.5 pynndescent-0.5.7 pyyaml-5.4.1 requests-2.28.1 segtok-1.5.11 sentence-transformers-2.2.2 sentencepiece-0.1.95 sqlitedict-2.0.0 tokenizers-0.12.1 transformers-4.21.0 umap-learn-0.5.3 wikipedia-api-0.5.4\n"
          ]
        },
        {
          "output_type": "display_data",
          "data": {
            "application/vnd.colab-display-data+json": {
              "pip_warning": {
                "packages": [
                  "requests"
                ]
              }
            }
          },
          "metadata": {}
        }
      ]
    },
    {
      "cell_type": "code",
      "source": [
        "from flair.embeddings import TransformerDocumentEmbeddings"
      ],
      "metadata": {
        "id": "vPC77z3RtQ6b"
      },
      "execution_count": 67,
      "outputs": []
    },
    {
      "cell_type": "code",
      "source": [
        "roberta = TransformerDocumentEmbeddings('roberta-base')\n",
        "#vectorizer_model=vectorizer_model\n",
        "topic_model = BERTopic(embedding_model=roberta,vectorizer_model=vectorizer_model)"
      ],
      "metadata": {
        "id": "xIeVpVvWt2V6",
        "colab": {
          "base_uri": "https://localhost:8080/",
          "height": 177,
          "referenced_widgets": [
            "3793ea3b083a4ecf81edf29c5552506e",
            "c78f14dde02544d99a993e3e5410859e",
            "fe468478d1a541718d5303823d9182da",
            "194696b96cc44e3998da5be705a38030",
            "b5cc2e71f4604a888220d1c22f8b6f02",
            "e76ba67160ab43c7817f8fc91ad51c2d",
            "b94c783affe6462dafe919a2d10dd34a",
            "cadc180d524940199192e86ea9275f43",
            "b7688764380f49879ed38dd90dcbfa07",
            "292df9e815b54a6a82c860ec2bd4682a",
            "567aed32fd70467682fe2d4f36a9a145",
            "b8f7ea26b0814bb7b274dab5a726cf8a",
            "a608b894e7834501a47dfa2d6cefde1b",
            "9490e70a7ace4e65811c23064d6fa5f7",
            "62d3fee9477547e1b33c0a78a3905ac3",
            "701b2cb2ae64408a8367898e3d2ad9ff",
            "ea8c1847c82f406d859518569201249d",
            "7d983ebfd94d480c89a0b064076ef0ec",
            "0b842965de4142399d14f249101e8990",
            "ca14983710364a8aadc3129d30644b3e",
            "3a6f902650724f4784a75af8ea939edc",
            "b9c1de8665094b2ba6ca9f221e3129bc",
            "51b012d142434d5ab73e37b86fbb6d39",
            "77e69be035f3414693496472878c94d6",
            "75eef58e878245169a43f6974606f97f",
            "8be6f11fec434bb99fba6d2dd3674261",
            "d443370ab0ed47a5bf406a77b65e46e5",
            "fca0064408404f56858f830dfc90c405",
            "b331a7fa89144ce99edea2f5b064e40e",
            "090b6303cc69447693955445eddbd45c",
            "a4cedfeabcac4e06b3fd71ac48ce508c",
            "7b8798ef7ef54c0cb6c786299bf7b5ee",
            "0a7c55dec7ff45d1a3008d4b11f12a10",
            "4b66042cd42e470ba965f74b5518209a",
            "c6bec595ce3542fabd12ce4128bf85cb",
            "bcd1abb9105942d1b8a440a8880c14a5",
            "754e8f83a79d49d4a804ebf953f6633a",
            "81b55f14c4de411a83ade02e0ebbb90f",
            "179fc60a97ef400281a71d4fd9ce95b1",
            "7b07e77b262a465c9463d571b60101fd",
            "49440516e2bd4244b6056cb2a200f26a",
            "22eb152d049949a9a2e1147820e45509",
            "03e4475acb4f4c68a76949a85afd8eaf",
            "28d7714b97754e22a1e70b76b885260b",
            "7df34096e6b94bf792ffcdfaa5897309",
            "a4448d5c770b49f0bfbc37e71ed4faed",
            "a40b47cd2b8f4ea3ad15482fa39184cc",
            "af3c1cde58c8428fa31c9c4e297f9fd5",
            "c6f1931949844856a3a871f8a6153f44",
            "cc1d35e5fbec439e88161d07b8c6c28d",
            "8b78b7aa01e14c52bddae117e33f6ae1",
            "c7c87b7c1ebf41cf8e1da57ab61d83b6",
            "6aa7b7e19643447ab2e476d941b8ddda",
            "00ee6641a0654870a0e729111fa15cdc",
            "cd97c11a65fe492daba71a3d8fa2c613"
          ]
        },
        "outputId": "66ade989-ff16-4a50-864d-2ad10fb81d52"
      },
      "execution_count": null,
      "outputs": [
        {
          "output_type": "display_data",
          "data": {
            "text/plain": [
              "Downloading config.json:   0%|          | 0.00/481 [00:00<?, ?B/s]"
            ],
            "application/vnd.jupyter.widget-view+json": {
              "version_major": 2,
              "version_minor": 0,
              "model_id": "3793ea3b083a4ecf81edf29c5552506e"
            }
          },
          "metadata": {}
        },
        {
          "output_type": "display_data",
          "data": {
            "text/plain": [
              "Downloading vocab.json:   0%|          | 0.00/878k [00:00<?, ?B/s]"
            ],
            "application/vnd.jupyter.widget-view+json": {
              "version_major": 2,
              "version_minor": 0,
              "model_id": "b8f7ea26b0814bb7b274dab5a726cf8a"
            }
          },
          "metadata": {}
        },
        {
          "output_type": "display_data",
          "data": {
            "text/plain": [
              "Downloading merges.txt:   0%|          | 0.00/446k [00:00<?, ?B/s]"
            ],
            "application/vnd.jupyter.widget-view+json": {
              "version_major": 2,
              "version_minor": 0,
              "model_id": "51b012d142434d5ab73e37b86fbb6d39"
            }
          },
          "metadata": {}
        },
        {
          "output_type": "display_data",
          "data": {
            "text/plain": [
              "Downloading tokenizer.json:   0%|          | 0.00/1.29M [00:00<?, ?B/s]"
            ],
            "application/vnd.jupyter.widget-view+json": {
              "version_major": 2,
              "version_minor": 0,
              "model_id": "4b66042cd42e470ba965f74b5518209a"
            }
          },
          "metadata": {}
        },
        {
          "output_type": "display_data",
          "data": {
            "text/plain": [
              "Downloading pytorch_model.bin:   0%|          | 0.00/478M [00:00<?, ?B/s]"
            ],
            "application/vnd.jupyter.widget-view+json": {
              "version_major": 2,
              "version_minor": 0,
              "model_id": "7df34096e6b94bf792ffcdfaa5897309"
            }
          },
          "metadata": {}
        }
      ]
    },
    {
      "cell_type": "code",
      "source": [
        "with open(\"/content/apple_transcript.txt\",\"r\") as f:\n",
        "  string = f.read().split(\"\\n\")\n",
        "  clean_string = []\n",
        "  for s in string:\n",
        "    if s.isspace() or s == \"\":\n",
        "      pass\n",
        "    else:\n",
        "      clean_string.append(s)\n",
        "\n",
        "cols = [\"name\",\"position\"]\n",
        "name_df = pd.read_csv(\"/content/apple_names.txt\",sep=\"\\t\",names=cols)\n",
        "\n",
        "chat_list = []\n",
        "temp_name = \"\"\n",
        "temp_dict = {}\n",
        "user_names = list(name_df.name)+[\"Operator\"]\n",
        "for i in clean_string:\n",
        "  if i in user_names and i!=\"\":\n",
        "    temp_name = i\n",
        "    if i not in temp_dict:  \n",
        "      temp_dict[i]= []\n",
        "  else:\n",
        "    if len(i)>30:\n",
        "      temp_dict[temp_name].append(i)"
      ],
      "metadata": {
        "id": "U-fxz9FsuByS"
      },
      "execution_count": null,
      "outputs": []
    },
    {
      "cell_type": "code",
      "source": [
        "custom_doc = temp_dict[\"Timothy Cook\"] +temp_dict[\"Luca Maestri\"]"
      ],
      "metadata": {
        "id": "VzmZtuHJuK6a"
      },
      "execution_count": null,
      "outputs": []
    },
    {
      "cell_type": "code",
      "source": [
        "topics_custom, probs_custom = topic_model.fit_transform(custom_doc)"
      ],
      "metadata": {
        "id": "kOsInCXiuHky"
      },
      "execution_count": null,
      "outputs": []
    },
    {
      "cell_type": "code",
      "source": [
        "topic_model.get_topic_info()"
      ],
      "metadata": {
        "colab": {
          "base_uri": "https://localhost:8080/",
          "height": 175
        },
        "id": "Y79986UmuOKy",
        "outputId": "ec4be9c0-43c5-4822-ad01-daa3264e2986"
      },
      "execution_count": null,
      "outputs": [
        {
          "output_type": "execute_result",
          "data": {
            "text/plain": [
              "   Topic  Count                                   Name\n",
              "0     -1     14             -1_year_quarter_revenue_5g\n",
              "1      0     41  0_expect_quarter_developers_different\n",
              "2      1     30              1_quarter_think_ve_impact\n",
              "3      2     23            2_new_apple_billion_quarter"
            ],
            "text/html": [
              "\n",
              "  <div id=\"df-6b9ff463-84a4-4f5f-8556-0eaeeda900d9\">\n",
              "    <div class=\"colab-df-container\">\n",
              "      <div>\n",
              "<style scoped>\n",
              "    .dataframe tbody tr th:only-of-type {\n",
              "        vertical-align: middle;\n",
              "    }\n",
              "\n",
              "    .dataframe tbody tr th {\n",
              "        vertical-align: top;\n",
              "    }\n",
              "\n",
              "    .dataframe thead th {\n",
              "        text-align: right;\n",
              "    }\n",
              "</style>\n",
              "<table border=\"1\" class=\"dataframe\">\n",
              "  <thead>\n",
              "    <tr style=\"text-align: right;\">\n",
              "      <th></th>\n",
              "      <th>Topic</th>\n",
              "      <th>Count</th>\n",
              "      <th>Name</th>\n",
              "    </tr>\n",
              "  </thead>\n",
              "  <tbody>\n",
              "    <tr>\n",
              "      <th>0</th>\n",
              "      <td>-1</td>\n",
              "      <td>14</td>\n",
              "      <td>-1_year_quarter_revenue_5g</td>\n",
              "    </tr>\n",
              "    <tr>\n",
              "      <th>1</th>\n",
              "      <td>0</td>\n",
              "      <td>41</td>\n",
              "      <td>0_expect_quarter_developers_different</td>\n",
              "    </tr>\n",
              "    <tr>\n",
              "      <th>2</th>\n",
              "      <td>1</td>\n",
              "      <td>30</td>\n",
              "      <td>1_quarter_think_ve_impact</td>\n",
              "    </tr>\n",
              "    <tr>\n",
              "      <th>3</th>\n",
              "      <td>2</td>\n",
              "      <td>23</td>\n",
              "      <td>2_new_apple_billion_quarter</td>\n",
              "    </tr>\n",
              "  </tbody>\n",
              "</table>\n",
              "</div>\n",
              "      <button class=\"colab-df-convert\" onclick=\"convertToInteractive('df-6b9ff463-84a4-4f5f-8556-0eaeeda900d9')\"\n",
              "              title=\"Convert this dataframe to an interactive table.\"\n",
              "              style=\"display:none;\">\n",
              "        \n",
              "  <svg xmlns=\"http://www.w3.org/2000/svg\" height=\"24px\"viewBox=\"0 0 24 24\"\n",
              "       width=\"24px\">\n",
              "    <path d=\"M0 0h24v24H0V0z\" fill=\"none\"/>\n",
              "    <path d=\"M18.56 5.44l.94 2.06.94-2.06 2.06-.94-2.06-.94-.94-2.06-.94 2.06-2.06.94zm-11 1L8.5 8.5l.94-2.06 2.06-.94-2.06-.94L8.5 2.5l-.94 2.06-2.06.94zm10 10l.94 2.06.94-2.06 2.06-.94-2.06-.94-.94-2.06-.94 2.06-2.06.94z\"/><path d=\"M17.41 7.96l-1.37-1.37c-.4-.4-.92-.59-1.43-.59-.52 0-1.04.2-1.43.59L10.3 9.45l-7.72 7.72c-.78.78-.78 2.05 0 2.83L4 21.41c.39.39.9.59 1.41.59.51 0 1.02-.2 1.41-.59l7.78-7.78 2.81-2.81c.8-.78.8-2.07 0-2.86zM5.41 20L4 18.59l7.72-7.72 1.47 1.35L5.41 20z\"/>\n",
              "  </svg>\n",
              "      </button>\n",
              "      \n",
              "  <style>\n",
              "    .colab-df-container {\n",
              "      display:flex;\n",
              "      flex-wrap:wrap;\n",
              "      gap: 12px;\n",
              "    }\n",
              "\n",
              "    .colab-df-convert {\n",
              "      background-color: #E8F0FE;\n",
              "      border: none;\n",
              "      border-radius: 50%;\n",
              "      cursor: pointer;\n",
              "      display: none;\n",
              "      fill: #1967D2;\n",
              "      height: 32px;\n",
              "      padding: 0 0 0 0;\n",
              "      width: 32px;\n",
              "    }\n",
              "\n",
              "    .colab-df-convert:hover {\n",
              "      background-color: #E2EBFA;\n",
              "      box-shadow: 0px 1px 2px rgba(60, 64, 67, 0.3), 0px 1px 3px 1px rgba(60, 64, 67, 0.15);\n",
              "      fill: #174EA6;\n",
              "    }\n",
              "\n",
              "    [theme=dark] .colab-df-convert {\n",
              "      background-color: #3B4455;\n",
              "      fill: #D2E3FC;\n",
              "    }\n",
              "\n",
              "    [theme=dark] .colab-df-convert:hover {\n",
              "      background-color: #434B5C;\n",
              "      box-shadow: 0px 1px 3px 1px rgba(0, 0, 0, 0.15);\n",
              "      filter: drop-shadow(0px 1px 2px rgba(0, 0, 0, 0.3));\n",
              "      fill: #FFFFFF;\n",
              "    }\n",
              "  </style>\n",
              "\n",
              "      <script>\n",
              "        const buttonEl =\n",
              "          document.querySelector('#df-6b9ff463-84a4-4f5f-8556-0eaeeda900d9 button.colab-df-convert');\n",
              "        buttonEl.style.display =\n",
              "          google.colab.kernel.accessAllowed ? 'block' : 'none';\n",
              "\n",
              "        async function convertToInteractive(key) {\n",
              "          const element = document.querySelector('#df-6b9ff463-84a4-4f5f-8556-0eaeeda900d9');\n",
              "          const dataTable =\n",
              "            await google.colab.kernel.invokeFunction('convertToInteractive',\n",
              "                                                     [key], {});\n",
              "          if (!dataTable) return;\n",
              "\n",
              "          const docLinkHtml = 'Like what you see? Visit the ' +\n",
              "            '<a target=\"_blank\" href=https://colab.research.google.com/notebooks/data_table.ipynb>data table notebook</a>'\n",
              "            + ' to learn more about interactive tables.';\n",
              "          element.innerHTML = '';\n",
              "          dataTable['output_type'] = 'display_data';\n",
              "          await google.colab.output.renderOutput(dataTable, element);\n",
              "          const docLink = document.createElement('div');\n",
              "          docLink.innerHTML = docLinkHtml;\n",
              "          element.appendChild(docLink);\n",
              "        }\n",
              "      </script>\n",
              "    </div>\n",
              "  </div>\n",
              "  "
            ]
          },
          "metadata": {},
          "execution_count": 216
        }
      ]
    },
    {
      "cell_type": "code",
      "source": [
        "topic_model.visualize_barchart()"
      ],
      "metadata": {
        "colab": {
          "base_uri": "https://localhost:8080/",
          "height": 342
        },
        "id": "xjnTnKx2uSgC",
        "outputId": "65873470-fa19-4ac5-d6eb-ea6041203f1f"
      },
      "execution_count": null,
      "outputs": [
        {
          "output_type": "display_data",
          "data": {
            "text/html": [
              "<html>\n",
              "<head><meta charset=\"utf-8\" /></head>\n",
              "<body>\n",
              "    <div>            <script src=\"https://cdnjs.cloudflare.com/ajax/libs/mathjax/2.7.5/MathJax.js?config=TeX-AMS-MML_SVG\"></script><script type=\"text/javascript\">if (window.MathJax) {MathJax.Hub.Config({SVG: {font: \"STIX-Web\"}});}</script>                <script type=\"text/javascript\">window.PlotlyConfig = {MathJaxConfig: 'local'};</script>\n",
              "        <script src=\"https://cdn.plot.ly/plotly-2.8.3.min.js\"></script>                <div id=\"e4602d09-755a-41b0-8895-050878a754c2\" class=\"plotly-graph-div\" style=\"height:325.0px; width:1000px;\"></div>            <script type=\"text/javascript\">                                    window.PLOTLYENV=window.PLOTLYENV || {};                                    if (document.getElementById(\"e4602d09-755a-41b0-8895-050878a754c2\")) {                    Plotly.newPlot(                        \"e4602d09-755a-41b0-8895-050878a754c2\",                        [{\"marker\":{\"color\":\"#D55E00\"},\"orientation\":\"h\",\"x\":[0.04663432478639927,0.05017343944273255,0.05017343944273255,0.05283920073798489,0.06271679930341569],\"y\":[\"number  \",\"different  \",\"developers  \",\"quarter  \",\"expect  \"],\"type\":\"bar\",\"xaxis\":\"x\",\"yaxis\":\"y\"},{\"marker\":{\"color\":\"#0072B2\"},\"orientation\":\"h\",\"x\":[0.04813156187206113,0.05196453511822733,0.05347282073375884,0.06162227283962997,0.07876386027319131],\"y\":[\"june  \",\"impact  \",\"ve  \",\"think  \",\"quarter  \"],\"type\":\"bar\",\"xaxis\":\"x2\",\"yaxis\":\"y2\"},{\"marker\":{\"color\":\"#CC79A7\"},\"orientation\":\"h\",\"x\":[0.04806200784089913,0.049325850425955095,0.0495882984942267,0.059505958193072035,0.06481517890315225],\"y\":[\"customers  \",\"quarter  \",\"billion  \",\"apple  \",\"new  \"],\"type\":\"bar\",\"xaxis\":\"x3\",\"yaxis\":\"y3\"}],                        {\"template\":{\"data\":{\"barpolar\":[{\"marker\":{\"line\":{\"color\":\"white\",\"width\":0.5},\"pattern\":{\"fillmode\":\"overlay\",\"size\":10,\"solidity\":0.2}},\"type\":\"barpolar\"}],\"bar\":[{\"error_x\":{\"color\":\"#2a3f5f\"},\"error_y\":{\"color\":\"#2a3f5f\"},\"marker\":{\"line\":{\"color\":\"white\",\"width\":0.5},\"pattern\":{\"fillmode\":\"overlay\",\"size\":10,\"solidity\":0.2}},\"type\":\"bar\"}],\"carpet\":[{\"aaxis\":{\"endlinecolor\":\"#2a3f5f\",\"gridcolor\":\"#C8D4E3\",\"linecolor\":\"#C8D4E3\",\"minorgridcolor\":\"#C8D4E3\",\"startlinecolor\":\"#2a3f5f\"},\"baxis\":{\"endlinecolor\":\"#2a3f5f\",\"gridcolor\":\"#C8D4E3\",\"linecolor\":\"#C8D4E3\",\"minorgridcolor\":\"#C8D4E3\",\"startlinecolor\":\"#2a3f5f\"},\"type\":\"carpet\"}],\"choropleth\":[{\"colorbar\":{\"outlinewidth\":0,\"ticks\":\"\"},\"type\":\"choropleth\"}],\"contourcarpet\":[{\"colorbar\":{\"outlinewidth\":0,\"ticks\":\"\"},\"type\":\"contourcarpet\"}],\"contour\":[{\"colorbar\":{\"outlinewidth\":0,\"ticks\":\"\"},\"colorscale\":[[0.0,\"#0d0887\"],[0.1111111111111111,\"#46039f\"],[0.2222222222222222,\"#7201a8\"],[0.3333333333333333,\"#9c179e\"],[0.4444444444444444,\"#bd3786\"],[0.5555555555555556,\"#d8576b\"],[0.6666666666666666,\"#ed7953\"],[0.7777777777777778,\"#fb9f3a\"],[0.8888888888888888,\"#fdca26\"],[1.0,\"#f0f921\"]],\"type\":\"contour\"}],\"heatmapgl\":[{\"colorbar\":{\"outlinewidth\":0,\"ticks\":\"\"},\"colorscale\":[[0.0,\"#0d0887\"],[0.1111111111111111,\"#46039f\"],[0.2222222222222222,\"#7201a8\"],[0.3333333333333333,\"#9c179e\"],[0.4444444444444444,\"#bd3786\"],[0.5555555555555556,\"#d8576b\"],[0.6666666666666666,\"#ed7953\"],[0.7777777777777778,\"#fb9f3a\"],[0.8888888888888888,\"#fdca26\"],[1.0,\"#f0f921\"]],\"type\":\"heatmapgl\"}],\"heatmap\":[{\"colorbar\":{\"outlinewidth\":0,\"ticks\":\"\"},\"colorscale\":[[0.0,\"#0d0887\"],[0.1111111111111111,\"#46039f\"],[0.2222222222222222,\"#7201a8\"],[0.3333333333333333,\"#9c179e\"],[0.4444444444444444,\"#bd3786\"],[0.5555555555555556,\"#d8576b\"],[0.6666666666666666,\"#ed7953\"],[0.7777777777777778,\"#fb9f3a\"],[0.8888888888888888,\"#fdca26\"],[1.0,\"#f0f921\"]],\"type\":\"heatmap\"}],\"histogram2dcontour\":[{\"colorbar\":{\"outlinewidth\":0,\"ticks\":\"\"},\"colorscale\":[[0.0,\"#0d0887\"],[0.1111111111111111,\"#46039f\"],[0.2222222222222222,\"#7201a8\"],[0.3333333333333333,\"#9c179e\"],[0.4444444444444444,\"#bd3786\"],[0.5555555555555556,\"#d8576b\"],[0.6666666666666666,\"#ed7953\"],[0.7777777777777778,\"#fb9f3a\"],[0.8888888888888888,\"#fdca26\"],[1.0,\"#f0f921\"]],\"type\":\"histogram2dcontour\"}],\"histogram2d\":[{\"colorbar\":{\"outlinewidth\":0,\"ticks\":\"\"},\"colorscale\":[[0.0,\"#0d0887\"],[0.1111111111111111,\"#46039f\"],[0.2222222222222222,\"#7201a8\"],[0.3333333333333333,\"#9c179e\"],[0.4444444444444444,\"#bd3786\"],[0.5555555555555556,\"#d8576b\"],[0.6666666666666666,\"#ed7953\"],[0.7777777777777778,\"#fb9f3a\"],[0.8888888888888888,\"#fdca26\"],[1.0,\"#f0f921\"]],\"type\":\"histogram2d\"}],\"histogram\":[{\"marker\":{\"pattern\":{\"fillmode\":\"overlay\",\"size\":10,\"solidity\":0.2}},\"type\":\"histogram\"}],\"mesh3d\":[{\"colorbar\":{\"outlinewidth\":0,\"ticks\":\"\"},\"type\":\"mesh3d\"}],\"parcoords\":[{\"line\":{\"colorbar\":{\"outlinewidth\":0,\"ticks\":\"\"}},\"type\":\"parcoords\"}],\"pie\":[{\"automargin\":true,\"type\":\"pie\"}],\"scatter3d\":[{\"line\":{\"colorbar\":{\"outlinewidth\":0,\"ticks\":\"\"}},\"marker\":{\"colorbar\":{\"outlinewidth\":0,\"ticks\":\"\"}},\"type\":\"scatter3d\"}],\"scattercarpet\":[{\"marker\":{\"colorbar\":{\"outlinewidth\":0,\"ticks\":\"\"}},\"type\":\"scattercarpet\"}],\"scattergeo\":[{\"marker\":{\"colorbar\":{\"outlinewidth\":0,\"ticks\":\"\"}},\"type\":\"scattergeo\"}],\"scattergl\":[{\"marker\":{\"colorbar\":{\"outlinewidth\":0,\"ticks\":\"\"}},\"type\":\"scattergl\"}],\"scattermapbox\":[{\"marker\":{\"colorbar\":{\"outlinewidth\":0,\"ticks\":\"\"}},\"type\":\"scattermapbox\"}],\"scatterpolargl\":[{\"marker\":{\"colorbar\":{\"outlinewidth\":0,\"ticks\":\"\"}},\"type\":\"scatterpolargl\"}],\"scatterpolar\":[{\"marker\":{\"colorbar\":{\"outlinewidth\":0,\"ticks\":\"\"}},\"type\":\"scatterpolar\"}],\"scatter\":[{\"marker\":{\"colorbar\":{\"outlinewidth\":0,\"ticks\":\"\"}},\"type\":\"scatter\"}],\"scatterternary\":[{\"marker\":{\"colorbar\":{\"outlinewidth\":0,\"ticks\":\"\"}},\"type\":\"scatterternary\"}],\"surface\":[{\"colorbar\":{\"outlinewidth\":0,\"ticks\":\"\"},\"colorscale\":[[0.0,\"#0d0887\"],[0.1111111111111111,\"#46039f\"],[0.2222222222222222,\"#7201a8\"],[0.3333333333333333,\"#9c179e\"],[0.4444444444444444,\"#bd3786\"],[0.5555555555555556,\"#d8576b\"],[0.6666666666666666,\"#ed7953\"],[0.7777777777777778,\"#fb9f3a\"],[0.8888888888888888,\"#fdca26\"],[1.0,\"#f0f921\"]],\"type\":\"surface\"}],\"table\":[{\"cells\":{\"fill\":{\"color\":\"#EBF0F8\"},\"line\":{\"color\":\"white\"}},\"header\":{\"fill\":{\"color\":\"#C8D4E3\"},\"line\":{\"color\":\"white\"}},\"type\":\"table\"}]},\"layout\":{\"annotationdefaults\":{\"arrowcolor\":\"#2a3f5f\",\"arrowhead\":0,\"arrowwidth\":1},\"autotypenumbers\":\"strict\",\"coloraxis\":{\"colorbar\":{\"outlinewidth\":0,\"ticks\":\"\"}},\"colorscale\":{\"diverging\":[[0,\"#8e0152\"],[0.1,\"#c51b7d\"],[0.2,\"#de77ae\"],[0.3,\"#f1b6da\"],[0.4,\"#fde0ef\"],[0.5,\"#f7f7f7\"],[0.6,\"#e6f5d0\"],[0.7,\"#b8e186\"],[0.8,\"#7fbc41\"],[0.9,\"#4d9221\"],[1,\"#276419\"]],\"sequential\":[[0.0,\"#0d0887\"],[0.1111111111111111,\"#46039f\"],[0.2222222222222222,\"#7201a8\"],[0.3333333333333333,\"#9c179e\"],[0.4444444444444444,\"#bd3786\"],[0.5555555555555556,\"#d8576b\"],[0.6666666666666666,\"#ed7953\"],[0.7777777777777778,\"#fb9f3a\"],[0.8888888888888888,\"#fdca26\"],[1.0,\"#f0f921\"]],\"sequentialminus\":[[0.0,\"#0d0887\"],[0.1111111111111111,\"#46039f\"],[0.2222222222222222,\"#7201a8\"],[0.3333333333333333,\"#9c179e\"],[0.4444444444444444,\"#bd3786\"],[0.5555555555555556,\"#d8576b\"],[0.6666666666666666,\"#ed7953\"],[0.7777777777777778,\"#fb9f3a\"],[0.8888888888888888,\"#fdca26\"],[1.0,\"#f0f921\"]]},\"colorway\":[\"#636efa\",\"#EF553B\",\"#00cc96\",\"#ab63fa\",\"#FFA15A\",\"#19d3f3\",\"#FF6692\",\"#B6E880\",\"#FF97FF\",\"#FECB52\"],\"font\":{\"color\":\"#2a3f5f\"},\"geo\":{\"bgcolor\":\"white\",\"lakecolor\":\"white\",\"landcolor\":\"white\",\"showlakes\":true,\"showland\":true,\"subunitcolor\":\"#C8D4E3\"},\"hoverlabel\":{\"align\":\"left\"},\"hovermode\":\"closest\",\"mapbox\":{\"style\":\"light\"},\"paper_bgcolor\":\"white\",\"plot_bgcolor\":\"white\",\"polar\":{\"angularaxis\":{\"gridcolor\":\"#EBF0F8\",\"linecolor\":\"#EBF0F8\",\"ticks\":\"\"},\"bgcolor\":\"white\",\"radialaxis\":{\"gridcolor\":\"#EBF0F8\",\"linecolor\":\"#EBF0F8\",\"ticks\":\"\"}},\"scene\":{\"xaxis\":{\"backgroundcolor\":\"white\",\"gridcolor\":\"#DFE8F3\",\"gridwidth\":2,\"linecolor\":\"#EBF0F8\",\"showbackground\":true,\"ticks\":\"\",\"zerolinecolor\":\"#EBF0F8\"},\"yaxis\":{\"backgroundcolor\":\"white\",\"gridcolor\":\"#DFE8F3\",\"gridwidth\":2,\"linecolor\":\"#EBF0F8\",\"showbackground\":true,\"ticks\":\"\",\"zerolinecolor\":\"#EBF0F8\"},\"zaxis\":{\"backgroundcolor\":\"white\",\"gridcolor\":\"#DFE8F3\",\"gridwidth\":2,\"linecolor\":\"#EBF0F8\",\"showbackground\":true,\"ticks\":\"\",\"zerolinecolor\":\"#EBF0F8\"}},\"shapedefaults\":{\"line\":{\"color\":\"#2a3f5f\"}},\"ternary\":{\"aaxis\":{\"gridcolor\":\"#DFE8F3\",\"linecolor\":\"#A2B1C6\",\"ticks\":\"\"},\"baxis\":{\"gridcolor\":\"#DFE8F3\",\"linecolor\":\"#A2B1C6\",\"ticks\":\"\"},\"bgcolor\":\"white\",\"caxis\":{\"gridcolor\":\"#DFE8F3\",\"linecolor\":\"#A2B1C6\",\"ticks\":\"\"}},\"title\":{\"x\":0.05},\"xaxis\":{\"automargin\":true,\"gridcolor\":\"#EBF0F8\",\"linecolor\":\"#EBF0F8\",\"ticks\":\"\",\"title\":{\"standoff\":15},\"zerolinecolor\":\"#EBF0F8\",\"zerolinewidth\":2},\"yaxis\":{\"automargin\":true,\"gridcolor\":\"#EBF0F8\",\"linecolor\":\"#EBF0F8\",\"ticks\":\"\",\"title\":{\"standoff\":15},\"zerolinecolor\":\"#EBF0F8\",\"zerolinewidth\":2}}},\"xaxis\":{\"anchor\":\"y\",\"domain\":[0.0,0.175],\"showgrid\":true},\"yaxis\":{\"anchor\":\"x\",\"domain\":[0.0,1.0],\"showgrid\":true},\"xaxis2\":{\"anchor\":\"y2\",\"domain\":[0.275,0.45],\"showgrid\":true},\"yaxis2\":{\"anchor\":\"x2\",\"domain\":[0.0,1.0],\"showgrid\":true},\"xaxis3\":{\"anchor\":\"y3\",\"domain\":[0.55,0.7250000000000001],\"showgrid\":true},\"yaxis3\":{\"anchor\":\"x3\",\"domain\":[0.0,1.0],\"showgrid\":true},\"xaxis4\":{\"anchor\":\"y4\",\"domain\":[0.825,1.0],\"showgrid\":true},\"yaxis4\":{\"anchor\":\"x4\",\"domain\":[0.0,1.0],\"showgrid\":true},\"annotations\":[{\"font\":{\"size\":16},\"showarrow\":false,\"text\":\"Topic 0\",\"x\":0.0875,\"xanchor\":\"center\",\"xref\":\"paper\",\"y\":1.0,\"yanchor\":\"bottom\",\"yref\":\"paper\"},{\"font\":{\"size\":16},\"showarrow\":false,\"text\":\"Topic 1\",\"x\":0.36250000000000004,\"xanchor\":\"center\",\"xref\":\"paper\",\"y\":1.0,\"yanchor\":\"bottom\",\"yref\":\"paper\"},{\"font\":{\"size\":16},\"showarrow\":false,\"text\":\"Topic 2\",\"x\":0.6375000000000001,\"xanchor\":\"center\",\"xref\":\"paper\",\"y\":1.0,\"yanchor\":\"bottom\",\"yref\":\"paper\"}],\"title\":{\"font\":{\"size\":22,\"color\":\"Black\"},\"text\":\"<b>Topic Word Scores\",\"x\":0.5,\"xanchor\":\"center\",\"yanchor\":\"top\"},\"hoverlabel\":{\"font\":{\"size\":16,\"family\":\"Rockwell\"},\"bgcolor\":\"white\"},\"showlegend\":false,\"width\":1000,\"height\":325.0},                        {\"responsive\": true}                    ).then(function(){\n",
              "                            \n",
              "var gd = document.getElementById('e4602d09-755a-41b0-8895-050878a754c2');\n",
              "var x = new MutationObserver(function (mutations, observer) {{\n",
              "        var display = window.getComputedStyle(gd).display;\n",
              "        if (!display || display === 'none') {{\n",
              "            console.log([gd, 'removed!']);\n",
              "            Plotly.purge(gd);\n",
              "            observer.disconnect();\n",
              "        }}\n",
              "}});\n",
              "\n",
              "// Listen for the removal of the full notebook cells\n",
              "var notebookContainer = gd.closest('#notebook-container');\n",
              "if (notebookContainer) {{\n",
              "    x.observe(notebookContainer, {childList: true});\n",
              "}}\n",
              "\n",
              "// Listen for the clearing of the current output cell\n",
              "var outputEl = gd.closest('.output');\n",
              "if (outputEl) {{\n",
              "    x.observe(outputEl, {childList: true});\n",
              "}}\n",
              "\n",
              "                        })                };                            </script>        </div>\n",
              "</body>\n",
              "</html>"
            ]
          },
          "metadata": {}
        }
      ]
    },
    {
      "cell_type": "code",
      "source": [
        "topic_model.visualize_topics()"
      ],
      "metadata": {
        "id": "MA7wNjZwuYM6"
      },
      "execution_count": null,
      "outputs": []
    },
    {
      "cell_type": "code",
      "source": [
        ""
      ],
      "metadata": {
        "id": "wiji7ZdTu-9c"
      },
      "execution_count": null,
      "outputs": []
    },
    {
      "cell_type": "code",
      "source": [
        "#usuing finbert\n",
        "\n",
        "finbert = TransformerDocumentEmbeddings('ProsusAI/finbert')\n",
        "#vectorizer_model=vectorizer_model\n",
        "topic_model = BERTopic(embedding_model=finbert,vectorizer_model=vectorizer_model)"
      ],
      "metadata": {
        "id": "n3esxElvvzge"
      },
      "execution_count": null,
      "outputs": []
    },
    {
      "cell_type": "code",
      "source": [
        "custom_doc = temp_dict[\"Timothy Cook\"]"
      ],
      "metadata": {
        "id": "nJlssvL3ze35"
      },
      "execution_count": null,
      "outputs": []
    },
    {
      "cell_type": "code",
      "source": [
        "topics_custom, probs_custom = topic_model.fit_transform(custom_doc)"
      ],
      "metadata": {
        "id": "T9NkYXfnv9Oh"
      },
      "execution_count": null,
      "outputs": []
    },
    {
      "cell_type": "code",
      "source": [
        ""
      ],
      "metadata": {
        "id": "OtTwxs5AzcbY"
      },
      "execution_count": null,
      "outputs": []
    },
    {
      "cell_type": "code",
      "source": [
        "topic_model.get_topic_info()"
      ],
      "metadata": {
        "colab": {
          "base_uri": "https://localhost:8080/",
          "height": 112
        },
        "id": "dpR24SwQwDFy",
        "outputId": "b5c360d6-b642-4544-e03a-32708f984503"
      },
      "execution_count": null,
      "outputs": [
        {
          "output_type": "execute_result",
          "data": {
            "text/plain": [
              "   Topic  Count                              Name\n",
              "0      0     40     0_apple_new_quarter_customers\n",
              "1      1     13  1_quarter_june_saw_macroeconomic"
            ],
            "text/html": [
              "\n",
              "  <div id=\"df-24b4dd54-05df-486c-a438-9f6a53a075e2\">\n",
              "    <div class=\"colab-df-container\">\n",
              "      <div>\n",
              "<style scoped>\n",
              "    .dataframe tbody tr th:only-of-type {\n",
              "        vertical-align: middle;\n",
              "    }\n",
              "\n",
              "    .dataframe tbody tr th {\n",
              "        vertical-align: top;\n",
              "    }\n",
              "\n",
              "    .dataframe thead th {\n",
              "        text-align: right;\n",
              "    }\n",
              "</style>\n",
              "<table border=\"1\" class=\"dataframe\">\n",
              "  <thead>\n",
              "    <tr style=\"text-align: right;\">\n",
              "      <th></th>\n",
              "      <th>Topic</th>\n",
              "      <th>Count</th>\n",
              "      <th>Name</th>\n",
              "    </tr>\n",
              "  </thead>\n",
              "  <tbody>\n",
              "    <tr>\n",
              "      <th>0</th>\n",
              "      <td>0</td>\n",
              "      <td>40</td>\n",
              "      <td>0_apple_new_quarter_customers</td>\n",
              "    </tr>\n",
              "    <tr>\n",
              "      <th>1</th>\n",
              "      <td>1</td>\n",
              "      <td>13</td>\n",
              "      <td>1_quarter_june_saw_macroeconomic</td>\n",
              "    </tr>\n",
              "  </tbody>\n",
              "</table>\n",
              "</div>\n",
              "      <button class=\"colab-df-convert\" onclick=\"convertToInteractive('df-24b4dd54-05df-486c-a438-9f6a53a075e2')\"\n",
              "              title=\"Convert this dataframe to an interactive table.\"\n",
              "              style=\"display:none;\">\n",
              "        \n",
              "  <svg xmlns=\"http://www.w3.org/2000/svg\" height=\"24px\"viewBox=\"0 0 24 24\"\n",
              "       width=\"24px\">\n",
              "    <path d=\"M0 0h24v24H0V0z\" fill=\"none\"/>\n",
              "    <path d=\"M18.56 5.44l.94 2.06.94-2.06 2.06-.94-2.06-.94-.94-2.06-.94 2.06-2.06.94zm-11 1L8.5 8.5l.94-2.06 2.06-.94-2.06-.94L8.5 2.5l-.94 2.06-2.06.94zm10 10l.94 2.06.94-2.06 2.06-.94-2.06-.94-.94-2.06-.94 2.06-2.06.94z\"/><path d=\"M17.41 7.96l-1.37-1.37c-.4-.4-.92-.59-1.43-.59-.52 0-1.04.2-1.43.59L10.3 9.45l-7.72 7.72c-.78.78-.78 2.05 0 2.83L4 21.41c.39.39.9.59 1.41.59.51 0 1.02-.2 1.41-.59l7.78-7.78 2.81-2.81c.8-.78.8-2.07 0-2.86zM5.41 20L4 18.59l7.72-7.72 1.47 1.35L5.41 20z\"/>\n",
              "  </svg>\n",
              "      </button>\n",
              "      \n",
              "  <style>\n",
              "    .colab-df-container {\n",
              "      display:flex;\n",
              "      flex-wrap:wrap;\n",
              "      gap: 12px;\n",
              "    }\n",
              "\n",
              "    .colab-df-convert {\n",
              "      background-color: #E8F0FE;\n",
              "      border: none;\n",
              "      border-radius: 50%;\n",
              "      cursor: pointer;\n",
              "      display: none;\n",
              "      fill: #1967D2;\n",
              "      height: 32px;\n",
              "      padding: 0 0 0 0;\n",
              "      width: 32px;\n",
              "    }\n",
              "\n",
              "    .colab-df-convert:hover {\n",
              "      background-color: #E2EBFA;\n",
              "      box-shadow: 0px 1px 2px rgba(60, 64, 67, 0.3), 0px 1px 3px 1px rgba(60, 64, 67, 0.15);\n",
              "      fill: #174EA6;\n",
              "    }\n",
              "\n",
              "    [theme=dark] .colab-df-convert {\n",
              "      background-color: #3B4455;\n",
              "      fill: #D2E3FC;\n",
              "    }\n",
              "\n",
              "    [theme=dark] .colab-df-convert:hover {\n",
              "      background-color: #434B5C;\n",
              "      box-shadow: 0px 1px 3px 1px rgba(0, 0, 0, 0.15);\n",
              "      filter: drop-shadow(0px 1px 2px rgba(0, 0, 0, 0.3));\n",
              "      fill: #FFFFFF;\n",
              "    }\n",
              "  </style>\n",
              "\n",
              "      <script>\n",
              "        const buttonEl =\n",
              "          document.querySelector('#df-24b4dd54-05df-486c-a438-9f6a53a075e2 button.colab-df-convert');\n",
              "        buttonEl.style.display =\n",
              "          google.colab.kernel.accessAllowed ? 'block' : 'none';\n",
              "\n",
              "        async function convertToInteractive(key) {\n",
              "          const element = document.querySelector('#df-24b4dd54-05df-486c-a438-9f6a53a075e2');\n",
              "          const dataTable =\n",
              "            await google.colab.kernel.invokeFunction('convertToInteractive',\n",
              "                                                     [key], {});\n",
              "          if (!dataTable) return;\n",
              "\n",
              "          const docLinkHtml = 'Like what you see? Visit the ' +\n",
              "            '<a target=\"_blank\" href=https://colab.research.google.com/notebooks/data_table.ipynb>data table notebook</a>'\n",
              "            + ' to learn more about interactive tables.';\n",
              "          element.innerHTML = '';\n",
              "          dataTable['output_type'] = 'display_data';\n",
              "          await google.colab.output.renderOutput(dataTable, element);\n",
              "          const docLink = document.createElement('div');\n",
              "          docLink.innerHTML = docLinkHtml;\n",
              "          element.appendChild(docLink);\n",
              "        }\n",
              "      </script>\n",
              "    </div>\n",
              "  </div>\n",
              "  "
            ]
          },
          "metadata": {},
          "execution_count": 226
        }
      ]
    },
    {
      "cell_type": "code",
      "source": [
        "topic_model.visualize_barchart()"
      ],
      "metadata": {
        "colab": {
          "base_uri": "https://localhost:8080/",
          "height": 342
        },
        "id": "_I81YyrgwE-D",
        "outputId": "869b42fd-150d-4f6e-8a7e-44f3498af0af"
      },
      "execution_count": null,
      "outputs": [
        {
          "output_type": "display_data",
          "data": {
            "text/html": [
              "<html>\n",
              "<head><meta charset=\"utf-8\" /></head>\n",
              "<body>\n",
              "    <div>            <script src=\"https://cdnjs.cloudflare.com/ajax/libs/mathjax/2.7.5/MathJax.js?config=TeX-AMS-MML_SVG\"></script><script type=\"text/javascript\">if (window.MathJax) {MathJax.Hub.Config({SVG: {font: \"STIX-Web\"}});}</script>                <script type=\"text/javascript\">window.PlotlyConfig = {MathJaxConfig: 'local'};</script>\n",
              "        <script src=\"https://cdn.plot.ly/plotly-2.8.3.min.js\"></script>                <div id=\"84a60b67-e6f4-4e51-abf1-4d66bd249e3b\" class=\"plotly-graph-div\" style=\"height:325.0px; width:1000px;\"></div>            <script type=\"text/javascript\">                                    window.PLOTLYENV=window.PLOTLYENV || {};                                    if (document.getElementById(\"84a60b67-e6f4-4e51-abf1-4d66bd249e3b\")) {                    Plotly.newPlot(                        \"84a60b67-e6f4-4e51-abf1-4d66bd249e3b\",                        [{\"marker\":{\"color\":\"#D55E00\"},\"orientation\":\"h\",\"x\":[0.03466141245247331,0.048118285448590196,0.05552978325495291,0.058848669741991474,0.06139411153235222],\"y\":[\"iphone  \",\"customers  \",\"quarter  \",\"new  \",\"apple  \"],\"type\":\"bar\",\"xaxis\":\"x\",\"yaxis\":\"y\"},{\"marker\":{\"color\":\"#0072B2\"},\"orientation\":\"h\",\"x\":[0.062491006682704166,0.08471619119801592,0.08756147256272476,0.09556682523611233,0.13414183004166022],\"y\":[\"impact  \",\"macroeconomic  \",\"saw  \",\"june  \",\"quarter  \"],\"type\":\"bar\",\"xaxis\":\"x2\",\"yaxis\":\"y2\"}],                        {\"template\":{\"data\":{\"barpolar\":[{\"marker\":{\"line\":{\"color\":\"white\",\"width\":0.5},\"pattern\":{\"fillmode\":\"overlay\",\"size\":10,\"solidity\":0.2}},\"type\":\"barpolar\"}],\"bar\":[{\"error_x\":{\"color\":\"#2a3f5f\"},\"error_y\":{\"color\":\"#2a3f5f\"},\"marker\":{\"line\":{\"color\":\"white\",\"width\":0.5},\"pattern\":{\"fillmode\":\"overlay\",\"size\":10,\"solidity\":0.2}},\"type\":\"bar\"}],\"carpet\":[{\"aaxis\":{\"endlinecolor\":\"#2a3f5f\",\"gridcolor\":\"#C8D4E3\",\"linecolor\":\"#C8D4E3\",\"minorgridcolor\":\"#C8D4E3\",\"startlinecolor\":\"#2a3f5f\"},\"baxis\":{\"endlinecolor\":\"#2a3f5f\",\"gridcolor\":\"#C8D4E3\",\"linecolor\":\"#C8D4E3\",\"minorgridcolor\":\"#C8D4E3\",\"startlinecolor\":\"#2a3f5f\"},\"type\":\"carpet\"}],\"choropleth\":[{\"colorbar\":{\"outlinewidth\":0,\"ticks\":\"\"},\"type\":\"choropleth\"}],\"contourcarpet\":[{\"colorbar\":{\"outlinewidth\":0,\"ticks\":\"\"},\"type\":\"contourcarpet\"}],\"contour\":[{\"colorbar\":{\"outlinewidth\":0,\"ticks\":\"\"},\"colorscale\":[[0.0,\"#0d0887\"],[0.1111111111111111,\"#46039f\"],[0.2222222222222222,\"#7201a8\"],[0.3333333333333333,\"#9c179e\"],[0.4444444444444444,\"#bd3786\"],[0.5555555555555556,\"#d8576b\"],[0.6666666666666666,\"#ed7953\"],[0.7777777777777778,\"#fb9f3a\"],[0.8888888888888888,\"#fdca26\"],[1.0,\"#f0f921\"]],\"type\":\"contour\"}],\"heatmapgl\":[{\"colorbar\":{\"outlinewidth\":0,\"ticks\":\"\"},\"colorscale\":[[0.0,\"#0d0887\"],[0.1111111111111111,\"#46039f\"],[0.2222222222222222,\"#7201a8\"],[0.3333333333333333,\"#9c179e\"],[0.4444444444444444,\"#bd3786\"],[0.5555555555555556,\"#d8576b\"],[0.6666666666666666,\"#ed7953\"],[0.7777777777777778,\"#fb9f3a\"],[0.8888888888888888,\"#fdca26\"],[1.0,\"#f0f921\"]],\"type\":\"heatmapgl\"}],\"heatmap\":[{\"colorbar\":{\"outlinewidth\":0,\"ticks\":\"\"},\"colorscale\":[[0.0,\"#0d0887\"],[0.1111111111111111,\"#46039f\"],[0.2222222222222222,\"#7201a8\"],[0.3333333333333333,\"#9c179e\"],[0.4444444444444444,\"#bd3786\"],[0.5555555555555556,\"#d8576b\"],[0.6666666666666666,\"#ed7953\"],[0.7777777777777778,\"#fb9f3a\"],[0.8888888888888888,\"#fdca26\"],[1.0,\"#f0f921\"]],\"type\":\"heatmap\"}],\"histogram2dcontour\":[{\"colorbar\":{\"outlinewidth\":0,\"ticks\":\"\"},\"colorscale\":[[0.0,\"#0d0887\"],[0.1111111111111111,\"#46039f\"],[0.2222222222222222,\"#7201a8\"],[0.3333333333333333,\"#9c179e\"],[0.4444444444444444,\"#bd3786\"],[0.5555555555555556,\"#d8576b\"],[0.6666666666666666,\"#ed7953\"],[0.7777777777777778,\"#fb9f3a\"],[0.8888888888888888,\"#fdca26\"],[1.0,\"#f0f921\"]],\"type\":\"histogram2dcontour\"}],\"histogram2d\":[{\"colorbar\":{\"outlinewidth\":0,\"ticks\":\"\"},\"colorscale\":[[0.0,\"#0d0887\"],[0.1111111111111111,\"#46039f\"],[0.2222222222222222,\"#7201a8\"],[0.3333333333333333,\"#9c179e\"],[0.4444444444444444,\"#bd3786\"],[0.5555555555555556,\"#d8576b\"],[0.6666666666666666,\"#ed7953\"],[0.7777777777777778,\"#fb9f3a\"],[0.8888888888888888,\"#fdca26\"],[1.0,\"#f0f921\"]],\"type\":\"histogram2d\"}],\"histogram\":[{\"marker\":{\"pattern\":{\"fillmode\":\"overlay\",\"size\":10,\"solidity\":0.2}},\"type\":\"histogram\"}],\"mesh3d\":[{\"colorbar\":{\"outlinewidth\":0,\"ticks\":\"\"},\"type\":\"mesh3d\"}],\"parcoords\":[{\"line\":{\"colorbar\":{\"outlinewidth\":0,\"ticks\":\"\"}},\"type\":\"parcoords\"}],\"pie\":[{\"automargin\":true,\"type\":\"pie\"}],\"scatter3d\":[{\"line\":{\"colorbar\":{\"outlinewidth\":0,\"ticks\":\"\"}},\"marker\":{\"colorbar\":{\"outlinewidth\":0,\"ticks\":\"\"}},\"type\":\"scatter3d\"}],\"scattercarpet\":[{\"marker\":{\"colorbar\":{\"outlinewidth\":0,\"ticks\":\"\"}},\"type\":\"scattercarpet\"}],\"scattergeo\":[{\"marker\":{\"colorbar\":{\"outlinewidth\":0,\"ticks\":\"\"}},\"type\":\"scattergeo\"}],\"scattergl\":[{\"marker\":{\"colorbar\":{\"outlinewidth\":0,\"ticks\":\"\"}},\"type\":\"scattergl\"}],\"scattermapbox\":[{\"marker\":{\"colorbar\":{\"outlinewidth\":0,\"ticks\":\"\"}},\"type\":\"scattermapbox\"}],\"scatterpolargl\":[{\"marker\":{\"colorbar\":{\"outlinewidth\":0,\"ticks\":\"\"}},\"type\":\"scatterpolargl\"}],\"scatterpolar\":[{\"marker\":{\"colorbar\":{\"outlinewidth\":0,\"ticks\":\"\"}},\"type\":\"scatterpolar\"}],\"scatter\":[{\"marker\":{\"colorbar\":{\"outlinewidth\":0,\"ticks\":\"\"}},\"type\":\"scatter\"}],\"scatterternary\":[{\"marker\":{\"colorbar\":{\"outlinewidth\":0,\"ticks\":\"\"}},\"type\":\"scatterternary\"}],\"surface\":[{\"colorbar\":{\"outlinewidth\":0,\"ticks\":\"\"},\"colorscale\":[[0.0,\"#0d0887\"],[0.1111111111111111,\"#46039f\"],[0.2222222222222222,\"#7201a8\"],[0.3333333333333333,\"#9c179e\"],[0.4444444444444444,\"#bd3786\"],[0.5555555555555556,\"#d8576b\"],[0.6666666666666666,\"#ed7953\"],[0.7777777777777778,\"#fb9f3a\"],[0.8888888888888888,\"#fdca26\"],[1.0,\"#f0f921\"]],\"type\":\"surface\"}],\"table\":[{\"cells\":{\"fill\":{\"color\":\"#EBF0F8\"},\"line\":{\"color\":\"white\"}},\"header\":{\"fill\":{\"color\":\"#C8D4E3\"},\"line\":{\"color\":\"white\"}},\"type\":\"table\"}]},\"layout\":{\"annotationdefaults\":{\"arrowcolor\":\"#2a3f5f\",\"arrowhead\":0,\"arrowwidth\":1},\"autotypenumbers\":\"strict\",\"coloraxis\":{\"colorbar\":{\"outlinewidth\":0,\"ticks\":\"\"}},\"colorscale\":{\"diverging\":[[0,\"#8e0152\"],[0.1,\"#c51b7d\"],[0.2,\"#de77ae\"],[0.3,\"#f1b6da\"],[0.4,\"#fde0ef\"],[0.5,\"#f7f7f7\"],[0.6,\"#e6f5d0\"],[0.7,\"#b8e186\"],[0.8,\"#7fbc41\"],[0.9,\"#4d9221\"],[1,\"#276419\"]],\"sequential\":[[0.0,\"#0d0887\"],[0.1111111111111111,\"#46039f\"],[0.2222222222222222,\"#7201a8\"],[0.3333333333333333,\"#9c179e\"],[0.4444444444444444,\"#bd3786\"],[0.5555555555555556,\"#d8576b\"],[0.6666666666666666,\"#ed7953\"],[0.7777777777777778,\"#fb9f3a\"],[0.8888888888888888,\"#fdca26\"],[1.0,\"#f0f921\"]],\"sequentialminus\":[[0.0,\"#0d0887\"],[0.1111111111111111,\"#46039f\"],[0.2222222222222222,\"#7201a8\"],[0.3333333333333333,\"#9c179e\"],[0.4444444444444444,\"#bd3786\"],[0.5555555555555556,\"#d8576b\"],[0.6666666666666666,\"#ed7953\"],[0.7777777777777778,\"#fb9f3a\"],[0.8888888888888888,\"#fdca26\"],[1.0,\"#f0f921\"]]},\"colorway\":[\"#636efa\",\"#EF553B\",\"#00cc96\",\"#ab63fa\",\"#FFA15A\",\"#19d3f3\",\"#FF6692\",\"#B6E880\",\"#FF97FF\",\"#FECB52\"],\"font\":{\"color\":\"#2a3f5f\"},\"geo\":{\"bgcolor\":\"white\",\"lakecolor\":\"white\",\"landcolor\":\"white\",\"showlakes\":true,\"showland\":true,\"subunitcolor\":\"#C8D4E3\"},\"hoverlabel\":{\"align\":\"left\"},\"hovermode\":\"closest\",\"mapbox\":{\"style\":\"light\"},\"paper_bgcolor\":\"white\",\"plot_bgcolor\":\"white\",\"polar\":{\"angularaxis\":{\"gridcolor\":\"#EBF0F8\",\"linecolor\":\"#EBF0F8\",\"ticks\":\"\"},\"bgcolor\":\"white\",\"radialaxis\":{\"gridcolor\":\"#EBF0F8\",\"linecolor\":\"#EBF0F8\",\"ticks\":\"\"}},\"scene\":{\"xaxis\":{\"backgroundcolor\":\"white\",\"gridcolor\":\"#DFE8F3\",\"gridwidth\":2,\"linecolor\":\"#EBF0F8\",\"showbackground\":true,\"ticks\":\"\",\"zerolinecolor\":\"#EBF0F8\"},\"yaxis\":{\"backgroundcolor\":\"white\",\"gridcolor\":\"#DFE8F3\",\"gridwidth\":2,\"linecolor\":\"#EBF0F8\",\"showbackground\":true,\"ticks\":\"\",\"zerolinecolor\":\"#EBF0F8\"},\"zaxis\":{\"backgroundcolor\":\"white\",\"gridcolor\":\"#DFE8F3\",\"gridwidth\":2,\"linecolor\":\"#EBF0F8\",\"showbackground\":true,\"ticks\":\"\",\"zerolinecolor\":\"#EBF0F8\"}},\"shapedefaults\":{\"line\":{\"color\":\"#2a3f5f\"}},\"ternary\":{\"aaxis\":{\"gridcolor\":\"#DFE8F3\",\"linecolor\":\"#A2B1C6\",\"ticks\":\"\"},\"baxis\":{\"gridcolor\":\"#DFE8F3\",\"linecolor\":\"#A2B1C6\",\"ticks\":\"\"},\"bgcolor\":\"white\",\"caxis\":{\"gridcolor\":\"#DFE8F3\",\"linecolor\":\"#A2B1C6\",\"ticks\":\"\"}},\"title\":{\"x\":0.05},\"xaxis\":{\"automargin\":true,\"gridcolor\":\"#EBF0F8\",\"linecolor\":\"#EBF0F8\",\"ticks\":\"\",\"title\":{\"standoff\":15},\"zerolinecolor\":\"#EBF0F8\",\"zerolinewidth\":2},\"yaxis\":{\"automargin\":true,\"gridcolor\":\"#EBF0F8\",\"linecolor\":\"#EBF0F8\",\"ticks\":\"\",\"title\":{\"standoff\":15},\"zerolinecolor\":\"#EBF0F8\",\"zerolinewidth\":2}}},\"xaxis\":{\"anchor\":\"y\",\"domain\":[0.0,0.175],\"showgrid\":true},\"yaxis\":{\"anchor\":\"x\",\"domain\":[0.0,1.0],\"showgrid\":true},\"xaxis2\":{\"anchor\":\"y2\",\"domain\":[0.275,0.45],\"showgrid\":true},\"yaxis2\":{\"anchor\":\"x2\",\"domain\":[0.0,1.0],\"showgrid\":true},\"xaxis3\":{\"anchor\":\"y3\",\"domain\":[0.55,0.7250000000000001],\"showgrid\":true},\"yaxis3\":{\"anchor\":\"x3\",\"domain\":[0.0,1.0],\"showgrid\":true},\"xaxis4\":{\"anchor\":\"y4\",\"domain\":[0.825,1.0],\"showgrid\":true},\"yaxis4\":{\"anchor\":\"x4\",\"domain\":[0.0,1.0],\"showgrid\":true},\"annotations\":[{\"font\":{\"size\":16},\"showarrow\":false,\"text\":\"Topic 0\",\"x\":0.0875,\"xanchor\":\"center\",\"xref\":\"paper\",\"y\":1.0,\"yanchor\":\"bottom\",\"yref\":\"paper\"},{\"font\":{\"size\":16},\"showarrow\":false,\"text\":\"Topic 1\",\"x\":0.36250000000000004,\"xanchor\":\"center\",\"xref\":\"paper\",\"y\":1.0,\"yanchor\":\"bottom\",\"yref\":\"paper\"}],\"title\":{\"font\":{\"size\":22,\"color\":\"Black\"},\"text\":\"<b>Topic Word Scores\",\"x\":0.5,\"xanchor\":\"center\",\"yanchor\":\"top\"},\"hoverlabel\":{\"font\":{\"size\":16,\"family\":\"Rockwell\"},\"bgcolor\":\"white\"},\"showlegend\":false,\"width\":1000,\"height\":325.0},                        {\"responsive\": true}                    ).then(function(){\n",
              "                            \n",
              "var gd = document.getElementById('84a60b67-e6f4-4e51-abf1-4d66bd249e3b');\n",
              "var x = new MutationObserver(function (mutations, observer) {{\n",
              "        var display = window.getComputedStyle(gd).display;\n",
              "        if (!display || display === 'none') {{\n",
              "            console.log([gd, 'removed!']);\n",
              "            Plotly.purge(gd);\n",
              "            observer.disconnect();\n",
              "        }}\n",
              "}});\n",
              "\n",
              "// Listen for the removal of the full notebook cells\n",
              "var notebookContainer = gd.closest('#notebook-container');\n",
              "if (notebookContainer) {{\n",
              "    x.observe(notebookContainer, {childList: true});\n",
              "}}\n",
              "\n",
              "// Listen for the clearing of the current output cell\n",
              "var outputEl = gd.closest('.output');\n",
              "if (outputEl) {{\n",
              "    x.observe(outputEl, {childList: true});\n",
              "}}\n",
              "\n",
              "                        })                };                            </script>        </div>\n",
              "</body>\n",
              "</html>"
            ]
          },
          "metadata": {}
        }
      ]
    },
    {
      "cell_type": "code",
      "source": [
        "topic_model.visualize_topics()"
      ],
      "metadata": {
        "id": "DiD80zekwGgt"
      },
      "execution_count": null,
      "outputs": []
    },
    {
      "cell_type": "code",
      "source": [
        ""
      ],
      "metadata": {
        "id": "q2MozbilwHbq"
      },
      "execution_count": null,
      "outputs": []
    },
    {
      "cell_type": "code",
      "source": [
        "#collective data \n",
        "full_conversation = []\n",
        "for i in temp_dict.values():\n",
        "  full_conversation+=i\n"
      ],
      "metadata": {
        "id": "nJI0DQ3UwYqs"
      },
      "execution_count": null,
      "outputs": []
    },
    {
      "cell_type": "code",
      "source": [
        ""
      ],
      "metadata": {
        "id": "agOKc0nNwiWc"
      },
      "execution_count": null,
      "outputs": []
    },
    {
      "cell_type": "code",
      "source": [
        "topic_model = BERTopic(embedding_model=finbert,vectorizer_model=vectorizer_model)\n"
      ],
      "metadata": {
        "id": "59HBD8kvwaOR"
      },
      "execution_count": null,
      "outputs": []
    },
    {
      "cell_type": "code",
      "source": [
        "topics_custom, probs_custom = topic_model.fit_transform(full_conversation)"
      ],
      "metadata": {
        "id": "ziONWiLZwygQ"
      },
      "execution_count": null,
      "outputs": []
    },
    {
      "cell_type": "code",
      "source": [
        "topic_model.get_topic_info()"
      ],
      "metadata": {
        "colab": {
          "base_uri": "https://localhost:8080/",
          "height": 206
        },
        "id": "6fvdD4EmwoKY",
        "outputId": "a2f7b156-593d-4cdb-a6b0-da41f246341b"
      },
      "execution_count": null,
      "outputs": [
        {
          "output_type": "execute_result",
          "data": {
            "text/plain": [
              "   Topic  Count                           Name\n",
              "0     -1     35   -1_billion_quarter_june_year\n",
              "1      0     63       0_apple_think_new_iphone\n",
              "2      1     29      1_impact_quarter_saw_sort\n",
              "3      2     17  2_quarter_june_revenue_record\n",
              "4      3     16   3_question_ll_operator_today"
            ],
            "text/html": [
              "\n",
              "  <div id=\"df-4580a8cb-3b69-4586-97f8-a62e23e16b97\">\n",
              "    <div class=\"colab-df-container\">\n",
              "      <div>\n",
              "<style scoped>\n",
              "    .dataframe tbody tr th:only-of-type {\n",
              "        vertical-align: middle;\n",
              "    }\n",
              "\n",
              "    .dataframe tbody tr th {\n",
              "        vertical-align: top;\n",
              "    }\n",
              "\n",
              "    .dataframe thead th {\n",
              "        text-align: right;\n",
              "    }\n",
              "</style>\n",
              "<table border=\"1\" class=\"dataframe\">\n",
              "  <thead>\n",
              "    <tr style=\"text-align: right;\">\n",
              "      <th></th>\n",
              "      <th>Topic</th>\n",
              "      <th>Count</th>\n",
              "      <th>Name</th>\n",
              "    </tr>\n",
              "  </thead>\n",
              "  <tbody>\n",
              "    <tr>\n",
              "      <th>0</th>\n",
              "      <td>-1</td>\n",
              "      <td>35</td>\n",
              "      <td>-1_billion_quarter_june_year</td>\n",
              "    </tr>\n",
              "    <tr>\n",
              "      <th>1</th>\n",
              "      <td>0</td>\n",
              "      <td>63</td>\n",
              "      <td>0_apple_think_new_iphone</td>\n",
              "    </tr>\n",
              "    <tr>\n",
              "      <th>2</th>\n",
              "      <td>1</td>\n",
              "      <td>29</td>\n",
              "      <td>1_impact_quarter_saw_sort</td>\n",
              "    </tr>\n",
              "    <tr>\n",
              "      <th>3</th>\n",
              "      <td>2</td>\n",
              "      <td>17</td>\n",
              "      <td>2_quarter_june_revenue_record</td>\n",
              "    </tr>\n",
              "    <tr>\n",
              "      <th>4</th>\n",
              "      <td>3</td>\n",
              "      <td>16</td>\n",
              "      <td>3_question_ll_operator_today</td>\n",
              "    </tr>\n",
              "  </tbody>\n",
              "</table>\n",
              "</div>\n",
              "      <button class=\"colab-df-convert\" onclick=\"convertToInteractive('df-4580a8cb-3b69-4586-97f8-a62e23e16b97')\"\n",
              "              title=\"Convert this dataframe to an interactive table.\"\n",
              "              style=\"display:none;\">\n",
              "        \n",
              "  <svg xmlns=\"http://www.w3.org/2000/svg\" height=\"24px\"viewBox=\"0 0 24 24\"\n",
              "       width=\"24px\">\n",
              "    <path d=\"M0 0h24v24H0V0z\" fill=\"none\"/>\n",
              "    <path d=\"M18.56 5.44l.94 2.06.94-2.06 2.06-.94-2.06-.94-.94-2.06-.94 2.06-2.06.94zm-11 1L8.5 8.5l.94-2.06 2.06-.94-2.06-.94L8.5 2.5l-.94 2.06-2.06.94zm10 10l.94 2.06.94-2.06 2.06-.94-2.06-.94-.94-2.06-.94 2.06-2.06.94z\"/><path d=\"M17.41 7.96l-1.37-1.37c-.4-.4-.92-.59-1.43-.59-.52 0-1.04.2-1.43.59L10.3 9.45l-7.72 7.72c-.78.78-.78 2.05 0 2.83L4 21.41c.39.39.9.59 1.41.59.51 0 1.02-.2 1.41-.59l7.78-7.78 2.81-2.81c.8-.78.8-2.07 0-2.86zM5.41 20L4 18.59l7.72-7.72 1.47 1.35L5.41 20z\"/>\n",
              "  </svg>\n",
              "      </button>\n",
              "      \n",
              "  <style>\n",
              "    .colab-df-container {\n",
              "      display:flex;\n",
              "      flex-wrap:wrap;\n",
              "      gap: 12px;\n",
              "    }\n",
              "\n",
              "    .colab-df-convert {\n",
              "      background-color: #E8F0FE;\n",
              "      border: none;\n",
              "      border-radius: 50%;\n",
              "      cursor: pointer;\n",
              "      display: none;\n",
              "      fill: #1967D2;\n",
              "      height: 32px;\n",
              "      padding: 0 0 0 0;\n",
              "      width: 32px;\n",
              "    }\n",
              "\n",
              "    .colab-df-convert:hover {\n",
              "      background-color: #E2EBFA;\n",
              "      box-shadow: 0px 1px 2px rgba(60, 64, 67, 0.3), 0px 1px 3px 1px rgba(60, 64, 67, 0.15);\n",
              "      fill: #174EA6;\n",
              "    }\n",
              "\n",
              "    [theme=dark] .colab-df-convert {\n",
              "      background-color: #3B4455;\n",
              "      fill: #D2E3FC;\n",
              "    }\n",
              "\n",
              "    [theme=dark] .colab-df-convert:hover {\n",
              "      background-color: #434B5C;\n",
              "      box-shadow: 0px 1px 3px 1px rgba(0, 0, 0, 0.15);\n",
              "      filter: drop-shadow(0px 1px 2px rgba(0, 0, 0, 0.3));\n",
              "      fill: #FFFFFF;\n",
              "    }\n",
              "  </style>\n",
              "\n",
              "      <script>\n",
              "        const buttonEl =\n",
              "          document.querySelector('#df-4580a8cb-3b69-4586-97f8-a62e23e16b97 button.colab-df-convert');\n",
              "        buttonEl.style.display =\n",
              "          google.colab.kernel.accessAllowed ? 'block' : 'none';\n",
              "\n",
              "        async function convertToInteractive(key) {\n",
              "          const element = document.querySelector('#df-4580a8cb-3b69-4586-97f8-a62e23e16b97');\n",
              "          const dataTable =\n",
              "            await google.colab.kernel.invokeFunction('convertToInteractive',\n",
              "                                                     [key], {});\n",
              "          if (!dataTable) return;\n",
              "\n",
              "          const docLinkHtml = 'Like what you see? Visit the ' +\n",
              "            '<a target=\"_blank\" href=https://colab.research.google.com/notebooks/data_table.ipynb>data table notebook</a>'\n",
              "            + ' to learn more about interactive tables.';\n",
              "          element.innerHTML = '';\n",
              "          dataTable['output_type'] = 'display_data';\n",
              "          await google.colab.output.renderOutput(dataTable, element);\n",
              "          const docLink = document.createElement('div');\n",
              "          docLink.innerHTML = docLinkHtml;\n",
              "          element.appendChild(docLink);\n",
              "        }\n",
              "      </script>\n",
              "    </div>\n",
              "  </div>\n",
              "  "
            ]
          },
          "metadata": {},
          "execution_count": 231
        }
      ]
    },
    {
      "cell_type": "code",
      "source": [
        "topic_model.visualize_barchart()"
      ],
      "metadata": {
        "colab": {
          "base_uri": "https://localhost:8080/",
          "height": 342
        },
        "id": "Wpa65EWIwqiI",
        "outputId": "94c6f67e-4d37-4e20-f7d9-14873128ea2e"
      },
      "execution_count": null,
      "outputs": [
        {
          "output_type": "display_data",
          "data": {
            "text/html": [
              "<html>\n",
              "<head><meta charset=\"utf-8\" /></head>\n",
              "<body>\n",
              "    <div>            <script src=\"https://cdnjs.cloudflare.com/ajax/libs/mathjax/2.7.5/MathJax.js?config=TeX-AMS-MML_SVG\"></script><script type=\"text/javascript\">if (window.MathJax) {MathJax.Hub.Config({SVG: {font: \"STIX-Web\"}});}</script>                <script type=\"text/javascript\">window.PlotlyConfig = {MathJaxConfig: 'local'};</script>\n",
              "        <script src=\"https://cdn.plot.ly/plotly-2.8.3.min.js\"></script>                <div id=\"6c653688-919c-4252-9d43-6b87ad00ae4c\" class=\"plotly-graph-div\" style=\"height:325.0px; width:1000px;\"></div>            <script type=\"text/javascript\">                                    window.PLOTLYENV=window.PLOTLYENV || {};                                    if (document.getElementById(\"6c653688-919c-4252-9d43-6b87ad00ae4c\")) {                    Plotly.newPlot(                        \"6c653688-919c-4252-9d43-6b87ad00ae4c\",                        [{\"marker\":{\"color\":\"#D55E00\"},\"orientation\":\"h\",\"x\":[0.027134752468766912,0.03192080556015458,0.03340153152540931,0.03554852178556052,0.038637710016062046],\"y\":[\"maybe  \",\"iphone  \",\"new  \",\"think  \",\"apple  \"],\"type\":\"bar\",\"xaxis\":\"x\",\"yaxis\":\"y\"},{\"marker\":{\"color\":\"#0072B2\"},\"orientation\":\"h\",\"x\":[0.04723091962985918,0.048973597463893,0.05441510829321444,0.060768263606390746,0.07088812333146492],\"y\":[\"year  \",\"sort  \",\"saw  \",\"quarter  \",\"impact  \"],\"type\":\"bar\",\"xaxis\":\"x2\",\"yaxis\":\"y2\"},{\"marker\":{\"color\":\"#CC79A7\"},\"orientation\":\"h\",\"x\":[0.08672486848523393,0.09788282973818518,0.11635309574858199,0.12389266926461989,0.14094566268674874],\"y\":[\"year  \",\"record  \",\"revenue  \",\"june  \",\"quarter  \"],\"type\":\"bar\",\"xaxis\":\"x3\",\"yaxis\":\"y3\"},{\"marker\":{\"color\":\"#E69F00\"},\"orientation\":\"h\",\"x\":[0.07676637947542028,0.08321324090421853,0.08770560220844101,0.19315652070337241,0.218452898030511],\"y\":[\"information  \",\"today  \",\"operator  \",\"ll  \",\"question  \"],\"type\":\"bar\",\"xaxis\":\"x4\",\"yaxis\":\"y4\"}],                        {\"template\":{\"data\":{\"barpolar\":[{\"marker\":{\"line\":{\"color\":\"white\",\"width\":0.5},\"pattern\":{\"fillmode\":\"overlay\",\"size\":10,\"solidity\":0.2}},\"type\":\"barpolar\"}],\"bar\":[{\"error_x\":{\"color\":\"#2a3f5f\"},\"error_y\":{\"color\":\"#2a3f5f\"},\"marker\":{\"line\":{\"color\":\"white\",\"width\":0.5},\"pattern\":{\"fillmode\":\"overlay\",\"size\":10,\"solidity\":0.2}},\"type\":\"bar\"}],\"carpet\":[{\"aaxis\":{\"endlinecolor\":\"#2a3f5f\",\"gridcolor\":\"#C8D4E3\",\"linecolor\":\"#C8D4E3\",\"minorgridcolor\":\"#C8D4E3\",\"startlinecolor\":\"#2a3f5f\"},\"baxis\":{\"endlinecolor\":\"#2a3f5f\",\"gridcolor\":\"#C8D4E3\",\"linecolor\":\"#C8D4E3\",\"minorgridcolor\":\"#C8D4E3\",\"startlinecolor\":\"#2a3f5f\"},\"type\":\"carpet\"}],\"choropleth\":[{\"colorbar\":{\"outlinewidth\":0,\"ticks\":\"\"},\"type\":\"choropleth\"}],\"contourcarpet\":[{\"colorbar\":{\"outlinewidth\":0,\"ticks\":\"\"},\"type\":\"contourcarpet\"}],\"contour\":[{\"colorbar\":{\"outlinewidth\":0,\"ticks\":\"\"},\"colorscale\":[[0.0,\"#0d0887\"],[0.1111111111111111,\"#46039f\"],[0.2222222222222222,\"#7201a8\"],[0.3333333333333333,\"#9c179e\"],[0.4444444444444444,\"#bd3786\"],[0.5555555555555556,\"#d8576b\"],[0.6666666666666666,\"#ed7953\"],[0.7777777777777778,\"#fb9f3a\"],[0.8888888888888888,\"#fdca26\"],[1.0,\"#f0f921\"]],\"type\":\"contour\"}],\"heatmapgl\":[{\"colorbar\":{\"outlinewidth\":0,\"ticks\":\"\"},\"colorscale\":[[0.0,\"#0d0887\"],[0.1111111111111111,\"#46039f\"],[0.2222222222222222,\"#7201a8\"],[0.3333333333333333,\"#9c179e\"],[0.4444444444444444,\"#bd3786\"],[0.5555555555555556,\"#d8576b\"],[0.6666666666666666,\"#ed7953\"],[0.7777777777777778,\"#fb9f3a\"],[0.8888888888888888,\"#fdca26\"],[1.0,\"#f0f921\"]],\"type\":\"heatmapgl\"}],\"heatmap\":[{\"colorbar\":{\"outlinewidth\":0,\"ticks\":\"\"},\"colorscale\":[[0.0,\"#0d0887\"],[0.1111111111111111,\"#46039f\"],[0.2222222222222222,\"#7201a8\"],[0.3333333333333333,\"#9c179e\"],[0.4444444444444444,\"#bd3786\"],[0.5555555555555556,\"#d8576b\"],[0.6666666666666666,\"#ed7953\"],[0.7777777777777778,\"#fb9f3a\"],[0.8888888888888888,\"#fdca26\"],[1.0,\"#f0f921\"]],\"type\":\"heatmap\"}],\"histogram2dcontour\":[{\"colorbar\":{\"outlinewidth\":0,\"ticks\":\"\"},\"colorscale\":[[0.0,\"#0d0887\"],[0.1111111111111111,\"#46039f\"],[0.2222222222222222,\"#7201a8\"],[0.3333333333333333,\"#9c179e\"],[0.4444444444444444,\"#bd3786\"],[0.5555555555555556,\"#d8576b\"],[0.6666666666666666,\"#ed7953\"],[0.7777777777777778,\"#fb9f3a\"],[0.8888888888888888,\"#fdca26\"],[1.0,\"#f0f921\"]],\"type\":\"histogram2dcontour\"}],\"histogram2d\":[{\"colorbar\":{\"outlinewidth\":0,\"ticks\":\"\"},\"colorscale\":[[0.0,\"#0d0887\"],[0.1111111111111111,\"#46039f\"],[0.2222222222222222,\"#7201a8\"],[0.3333333333333333,\"#9c179e\"],[0.4444444444444444,\"#bd3786\"],[0.5555555555555556,\"#d8576b\"],[0.6666666666666666,\"#ed7953\"],[0.7777777777777778,\"#fb9f3a\"],[0.8888888888888888,\"#fdca26\"],[1.0,\"#f0f921\"]],\"type\":\"histogram2d\"}],\"histogram\":[{\"marker\":{\"pattern\":{\"fillmode\":\"overlay\",\"size\":10,\"solidity\":0.2}},\"type\":\"histogram\"}],\"mesh3d\":[{\"colorbar\":{\"outlinewidth\":0,\"ticks\":\"\"},\"type\":\"mesh3d\"}],\"parcoords\":[{\"line\":{\"colorbar\":{\"outlinewidth\":0,\"ticks\":\"\"}},\"type\":\"parcoords\"}],\"pie\":[{\"automargin\":true,\"type\":\"pie\"}],\"scatter3d\":[{\"line\":{\"colorbar\":{\"outlinewidth\":0,\"ticks\":\"\"}},\"marker\":{\"colorbar\":{\"outlinewidth\":0,\"ticks\":\"\"}},\"type\":\"scatter3d\"}],\"scattercarpet\":[{\"marker\":{\"colorbar\":{\"outlinewidth\":0,\"ticks\":\"\"}},\"type\":\"scattercarpet\"}],\"scattergeo\":[{\"marker\":{\"colorbar\":{\"outlinewidth\":0,\"ticks\":\"\"}},\"type\":\"scattergeo\"}],\"scattergl\":[{\"marker\":{\"colorbar\":{\"outlinewidth\":0,\"ticks\":\"\"}},\"type\":\"scattergl\"}],\"scattermapbox\":[{\"marker\":{\"colorbar\":{\"outlinewidth\":0,\"ticks\":\"\"}},\"type\":\"scattermapbox\"}],\"scatterpolargl\":[{\"marker\":{\"colorbar\":{\"outlinewidth\":0,\"ticks\":\"\"}},\"type\":\"scatterpolargl\"}],\"scatterpolar\":[{\"marker\":{\"colorbar\":{\"outlinewidth\":0,\"ticks\":\"\"}},\"type\":\"scatterpolar\"}],\"scatter\":[{\"marker\":{\"colorbar\":{\"outlinewidth\":0,\"ticks\":\"\"}},\"type\":\"scatter\"}],\"scatterternary\":[{\"marker\":{\"colorbar\":{\"outlinewidth\":0,\"ticks\":\"\"}},\"type\":\"scatterternary\"}],\"surface\":[{\"colorbar\":{\"outlinewidth\":0,\"ticks\":\"\"},\"colorscale\":[[0.0,\"#0d0887\"],[0.1111111111111111,\"#46039f\"],[0.2222222222222222,\"#7201a8\"],[0.3333333333333333,\"#9c179e\"],[0.4444444444444444,\"#bd3786\"],[0.5555555555555556,\"#d8576b\"],[0.6666666666666666,\"#ed7953\"],[0.7777777777777778,\"#fb9f3a\"],[0.8888888888888888,\"#fdca26\"],[1.0,\"#f0f921\"]],\"type\":\"surface\"}],\"table\":[{\"cells\":{\"fill\":{\"color\":\"#EBF0F8\"},\"line\":{\"color\":\"white\"}},\"header\":{\"fill\":{\"color\":\"#C8D4E3\"},\"line\":{\"color\":\"white\"}},\"type\":\"table\"}]},\"layout\":{\"annotationdefaults\":{\"arrowcolor\":\"#2a3f5f\",\"arrowhead\":0,\"arrowwidth\":1},\"autotypenumbers\":\"strict\",\"coloraxis\":{\"colorbar\":{\"outlinewidth\":0,\"ticks\":\"\"}},\"colorscale\":{\"diverging\":[[0,\"#8e0152\"],[0.1,\"#c51b7d\"],[0.2,\"#de77ae\"],[0.3,\"#f1b6da\"],[0.4,\"#fde0ef\"],[0.5,\"#f7f7f7\"],[0.6,\"#e6f5d0\"],[0.7,\"#b8e186\"],[0.8,\"#7fbc41\"],[0.9,\"#4d9221\"],[1,\"#276419\"]],\"sequential\":[[0.0,\"#0d0887\"],[0.1111111111111111,\"#46039f\"],[0.2222222222222222,\"#7201a8\"],[0.3333333333333333,\"#9c179e\"],[0.4444444444444444,\"#bd3786\"],[0.5555555555555556,\"#d8576b\"],[0.6666666666666666,\"#ed7953\"],[0.7777777777777778,\"#fb9f3a\"],[0.8888888888888888,\"#fdca26\"],[1.0,\"#f0f921\"]],\"sequentialminus\":[[0.0,\"#0d0887\"],[0.1111111111111111,\"#46039f\"],[0.2222222222222222,\"#7201a8\"],[0.3333333333333333,\"#9c179e\"],[0.4444444444444444,\"#bd3786\"],[0.5555555555555556,\"#d8576b\"],[0.6666666666666666,\"#ed7953\"],[0.7777777777777778,\"#fb9f3a\"],[0.8888888888888888,\"#fdca26\"],[1.0,\"#f0f921\"]]},\"colorway\":[\"#636efa\",\"#EF553B\",\"#00cc96\",\"#ab63fa\",\"#FFA15A\",\"#19d3f3\",\"#FF6692\",\"#B6E880\",\"#FF97FF\",\"#FECB52\"],\"font\":{\"color\":\"#2a3f5f\"},\"geo\":{\"bgcolor\":\"white\",\"lakecolor\":\"white\",\"landcolor\":\"white\",\"showlakes\":true,\"showland\":true,\"subunitcolor\":\"#C8D4E3\"},\"hoverlabel\":{\"align\":\"left\"},\"hovermode\":\"closest\",\"mapbox\":{\"style\":\"light\"},\"paper_bgcolor\":\"white\",\"plot_bgcolor\":\"white\",\"polar\":{\"angularaxis\":{\"gridcolor\":\"#EBF0F8\",\"linecolor\":\"#EBF0F8\",\"ticks\":\"\"},\"bgcolor\":\"white\",\"radialaxis\":{\"gridcolor\":\"#EBF0F8\",\"linecolor\":\"#EBF0F8\",\"ticks\":\"\"}},\"scene\":{\"xaxis\":{\"backgroundcolor\":\"white\",\"gridcolor\":\"#DFE8F3\",\"gridwidth\":2,\"linecolor\":\"#EBF0F8\",\"showbackground\":true,\"ticks\":\"\",\"zerolinecolor\":\"#EBF0F8\"},\"yaxis\":{\"backgroundcolor\":\"white\",\"gridcolor\":\"#DFE8F3\",\"gridwidth\":2,\"linecolor\":\"#EBF0F8\",\"showbackground\":true,\"ticks\":\"\",\"zerolinecolor\":\"#EBF0F8\"},\"zaxis\":{\"backgroundcolor\":\"white\",\"gridcolor\":\"#DFE8F3\",\"gridwidth\":2,\"linecolor\":\"#EBF0F8\",\"showbackground\":true,\"ticks\":\"\",\"zerolinecolor\":\"#EBF0F8\"}},\"shapedefaults\":{\"line\":{\"color\":\"#2a3f5f\"}},\"ternary\":{\"aaxis\":{\"gridcolor\":\"#DFE8F3\",\"linecolor\":\"#A2B1C6\",\"ticks\":\"\"},\"baxis\":{\"gridcolor\":\"#DFE8F3\",\"linecolor\":\"#A2B1C6\",\"ticks\":\"\"},\"bgcolor\":\"white\",\"caxis\":{\"gridcolor\":\"#DFE8F3\",\"linecolor\":\"#A2B1C6\",\"ticks\":\"\"}},\"title\":{\"x\":0.05},\"xaxis\":{\"automargin\":true,\"gridcolor\":\"#EBF0F8\",\"linecolor\":\"#EBF0F8\",\"ticks\":\"\",\"title\":{\"standoff\":15},\"zerolinecolor\":\"#EBF0F8\",\"zerolinewidth\":2},\"yaxis\":{\"automargin\":true,\"gridcolor\":\"#EBF0F8\",\"linecolor\":\"#EBF0F8\",\"ticks\":\"\",\"title\":{\"standoff\":15},\"zerolinecolor\":\"#EBF0F8\",\"zerolinewidth\":2}}},\"xaxis\":{\"anchor\":\"y\",\"domain\":[0.0,0.175],\"showgrid\":true},\"yaxis\":{\"anchor\":\"x\",\"domain\":[0.0,1.0],\"showgrid\":true},\"xaxis2\":{\"anchor\":\"y2\",\"domain\":[0.275,0.45],\"showgrid\":true},\"yaxis2\":{\"anchor\":\"x2\",\"domain\":[0.0,1.0],\"showgrid\":true},\"xaxis3\":{\"anchor\":\"y3\",\"domain\":[0.55,0.7250000000000001],\"showgrid\":true},\"yaxis3\":{\"anchor\":\"x3\",\"domain\":[0.0,1.0],\"showgrid\":true},\"xaxis4\":{\"anchor\":\"y4\",\"domain\":[0.825,1.0],\"showgrid\":true},\"yaxis4\":{\"anchor\":\"x4\",\"domain\":[0.0,1.0],\"showgrid\":true},\"annotations\":[{\"font\":{\"size\":16},\"showarrow\":false,\"text\":\"Topic 0\",\"x\":0.0875,\"xanchor\":\"center\",\"xref\":\"paper\",\"y\":1.0,\"yanchor\":\"bottom\",\"yref\":\"paper\"},{\"font\":{\"size\":16},\"showarrow\":false,\"text\":\"Topic 1\",\"x\":0.36250000000000004,\"xanchor\":\"center\",\"xref\":\"paper\",\"y\":1.0,\"yanchor\":\"bottom\",\"yref\":\"paper\"},{\"font\":{\"size\":16},\"showarrow\":false,\"text\":\"Topic 2\",\"x\":0.6375000000000001,\"xanchor\":\"center\",\"xref\":\"paper\",\"y\":1.0,\"yanchor\":\"bottom\",\"yref\":\"paper\"},{\"font\":{\"size\":16},\"showarrow\":false,\"text\":\"Topic 3\",\"x\":0.9125,\"xanchor\":\"center\",\"xref\":\"paper\",\"y\":1.0,\"yanchor\":\"bottom\",\"yref\":\"paper\"}],\"title\":{\"font\":{\"size\":22,\"color\":\"Black\"},\"text\":\"<b>Topic Word Scores\",\"x\":0.5,\"xanchor\":\"center\",\"yanchor\":\"top\"},\"hoverlabel\":{\"font\":{\"size\":16,\"family\":\"Rockwell\"},\"bgcolor\":\"white\"},\"showlegend\":false,\"width\":1000,\"height\":325.0},                        {\"responsive\": true}                    ).then(function(){\n",
              "                            \n",
              "var gd = document.getElementById('6c653688-919c-4252-9d43-6b87ad00ae4c');\n",
              "var x = new MutationObserver(function (mutations, observer) {{\n",
              "        var display = window.getComputedStyle(gd).display;\n",
              "        if (!display || display === 'none') {{\n",
              "            console.log([gd, 'removed!']);\n",
              "            Plotly.purge(gd);\n",
              "            observer.disconnect();\n",
              "        }}\n",
              "}});\n",
              "\n",
              "// Listen for the removal of the full notebook cells\n",
              "var notebookContainer = gd.closest('#notebook-container');\n",
              "if (notebookContainer) {{\n",
              "    x.observe(notebookContainer, {childList: true});\n",
              "}}\n",
              "\n",
              "// Listen for the clearing of the current output cell\n",
              "var outputEl = gd.closest('.output');\n",
              "if (outputEl) {{\n",
              "    x.observe(outputEl, {childList: true});\n",
              "}}\n",
              "\n",
              "                        })                };                            </script>        </div>\n",
              "</body>\n",
              "</html>"
            ]
          },
          "metadata": {}
        }
      ]
    },
    {
      "cell_type": "code",
      "source": [
        "topic_model.visualize_topics()"
      ],
      "metadata": {
        "colab": {
          "base_uri": "https://localhost:8080/",
          "height": 667
        },
        "id": "IRnmwgkkwtEI",
        "outputId": "972dcab9-6d97-44b6-81ee-a2e5a08359ec"
      },
      "execution_count": null,
      "outputs": [
        {
          "output_type": "display_data",
          "data": {
            "text/html": [
              "<html>\n",
              "<head><meta charset=\"utf-8\" /></head>\n",
              "<body>\n",
              "    <div>            <script src=\"https://cdnjs.cloudflare.com/ajax/libs/mathjax/2.7.5/MathJax.js?config=TeX-AMS-MML_SVG\"></script><script type=\"text/javascript\">if (window.MathJax) {MathJax.Hub.Config({SVG: {font: \"STIX-Web\"}});}</script>                <script type=\"text/javascript\">window.PlotlyConfig = {MathJaxConfig: 'local'};</script>\n",
              "        <script src=\"https://cdn.plot.ly/plotly-2.8.3.min.js\"></script>                <div id=\"9bfefa15-349e-46cb-9079-acf3fae9e563\" class=\"plotly-graph-div\" style=\"height:650px; width:650px;\"></div>            <script type=\"text/javascript\">                                    window.PLOTLYENV=window.PLOTLYENV || {};                                    if (document.getElementById(\"9bfefa15-349e-46cb-9079-acf3fae9e563\")) {                    Plotly.newPlot(                        \"9bfefa15-349e-46cb-9079-acf3fae9e563\",                        [{\"customdata\":[[0,\"apple | think | new | iphone | maybe\",63],[1,\"impact | quarter | saw | sort | year\",29],[2,\"quarter | june | revenue | record | year\",17],[3,\"question | ll | operator | today | information\",16]],\"hovertemplate\":\"<b>Topic %{customdata[0]}</b><br>Words: %{customdata[1]}<br>Size: %{customdata[2]}\",\"legendgroup\":\"\",\"marker\":{\"color\":\"#B0BEC5\",\"size\":[63,29,17,16],\"sizemode\":\"area\",\"sizeref\":0.039375,\"symbol\":\"circle\",\"line\":{\"color\":\"DarkSlateGrey\",\"width\":2}},\"mode\":\"markers\",\"name\":\"\",\"orientation\":\"v\",\"showlegend\":false,\"x\":[12.327739715576172,11.64976692199707,10.745345115661621,10.382853507995605],\"xaxis\":\"x\",\"y\":[22.474632263183594,21.813444137573242,21.961864471435547,22.63304328918457],\"yaxis\":\"y\",\"type\":\"scatter\"}],                        {\"template\":{\"data\":{\"barpolar\":[{\"marker\":{\"line\":{\"color\":\"white\",\"width\":0.5},\"pattern\":{\"fillmode\":\"overlay\",\"size\":10,\"solidity\":0.2}},\"type\":\"barpolar\"}],\"bar\":[{\"error_x\":{\"color\":\"rgb(36,36,36)\"},\"error_y\":{\"color\":\"rgb(36,36,36)\"},\"marker\":{\"line\":{\"color\":\"white\",\"width\":0.5},\"pattern\":{\"fillmode\":\"overlay\",\"size\":10,\"solidity\":0.2}},\"type\":\"bar\"}],\"carpet\":[{\"aaxis\":{\"endlinecolor\":\"rgb(36,36,36)\",\"gridcolor\":\"white\",\"linecolor\":\"white\",\"minorgridcolor\":\"white\",\"startlinecolor\":\"rgb(36,36,36)\"},\"baxis\":{\"endlinecolor\":\"rgb(36,36,36)\",\"gridcolor\":\"white\",\"linecolor\":\"white\",\"minorgridcolor\":\"white\",\"startlinecolor\":\"rgb(36,36,36)\"},\"type\":\"carpet\"}],\"choropleth\":[{\"colorbar\":{\"outlinewidth\":1,\"tickcolor\":\"rgb(36,36,36)\",\"ticks\":\"outside\"},\"type\":\"choropleth\"}],\"contourcarpet\":[{\"colorbar\":{\"outlinewidth\":1,\"tickcolor\":\"rgb(36,36,36)\",\"ticks\":\"outside\"},\"type\":\"contourcarpet\"}],\"contour\":[{\"colorbar\":{\"outlinewidth\":1,\"tickcolor\":\"rgb(36,36,36)\",\"ticks\":\"outside\"},\"colorscale\":[[0.0,\"#440154\"],[0.1111111111111111,\"#482878\"],[0.2222222222222222,\"#3e4989\"],[0.3333333333333333,\"#31688e\"],[0.4444444444444444,\"#26828e\"],[0.5555555555555556,\"#1f9e89\"],[0.6666666666666666,\"#35b779\"],[0.7777777777777778,\"#6ece58\"],[0.8888888888888888,\"#b5de2b\"],[1.0,\"#fde725\"]],\"type\":\"contour\"}],\"heatmapgl\":[{\"colorbar\":{\"outlinewidth\":1,\"tickcolor\":\"rgb(36,36,36)\",\"ticks\":\"outside\"},\"colorscale\":[[0.0,\"#440154\"],[0.1111111111111111,\"#482878\"],[0.2222222222222222,\"#3e4989\"],[0.3333333333333333,\"#31688e\"],[0.4444444444444444,\"#26828e\"],[0.5555555555555556,\"#1f9e89\"],[0.6666666666666666,\"#35b779\"],[0.7777777777777778,\"#6ece58\"],[0.8888888888888888,\"#b5de2b\"],[1.0,\"#fde725\"]],\"type\":\"heatmapgl\"}],\"heatmap\":[{\"colorbar\":{\"outlinewidth\":1,\"tickcolor\":\"rgb(36,36,36)\",\"ticks\":\"outside\"},\"colorscale\":[[0.0,\"#440154\"],[0.1111111111111111,\"#482878\"],[0.2222222222222222,\"#3e4989\"],[0.3333333333333333,\"#31688e\"],[0.4444444444444444,\"#26828e\"],[0.5555555555555556,\"#1f9e89\"],[0.6666666666666666,\"#35b779\"],[0.7777777777777778,\"#6ece58\"],[0.8888888888888888,\"#b5de2b\"],[1.0,\"#fde725\"]],\"type\":\"heatmap\"}],\"histogram2dcontour\":[{\"colorbar\":{\"outlinewidth\":1,\"tickcolor\":\"rgb(36,36,36)\",\"ticks\":\"outside\"},\"colorscale\":[[0.0,\"#440154\"],[0.1111111111111111,\"#482878\"],[0.2222222222222222,\"#3e4989\"],[0.3333333333333333,\"#31688e\"],[0.4444444444444444,\"#26828e\"],[0.5555555555555556,\"#1f9e89\"],[0.6666666666666666,\"#35b779\"],[0.7777777777777778,\"#6ece58\"],[0.8888888888888888,\"#b5de2b\"],[1.0,\"#fde725\"]],\"type\":\"histogram2dcontour\"}],\"histogram2d\":[{\"colorbar\":{\"outlinewidth\":1,\"tickcolor\":\"rgb(36,36,36)\",\"ticks\":\"outside\"},\"colorscale\":[[0.0,\"#440154\"],[0.1111111111111111,\"#482878\"],[0.2222222222222222,\"#3e4989\"],[0.3333333333333333,\"#31688e\"],[0.4444444444444444,\"#26828e\"],[0.5555555555555556,\"#1f9e89\"],[0.6666666666666666,\"#35b779\"],[0.7777777777777778,\"#6ece58\"],[0.8888888888888888,\"#b5de2b\"],[1.0,\"#fde725\"]],\"type\":\"histogram2d\"}],\"histogram\":[{\"marker\":{\"line\":{\"color\":\"white\",\"width\":0.6}},\"type\":\"histogram\"}],\"mesh3d\":[{\"colorbar\":{\"outlinewidth\":1,\"tickcolor\":\"rgb(36,36,36)\",\"ticks\":\"outside\"},\"type\":\"mesh3d\"}],\"parcoords\":[{\"line\":{\"colorbar\":{\"outlinewidth\":1,\"tickcolor\":\"rgb(36,36,36)\",\"ticks\":\"outside\"}},\"type\":\"parcoords\"}],\"pie\":[{\"automargin\":true,\"type\":\"pie\"}],\"scatter3d\":[{\"line\":{\"colorbar\":{\"outlinewidth\":1,\"tickcolor\":\"rgb(36,36,36)\",\"ticks\":\"outside\"}},\"marker\":{\"colorbar\":{\"outlinewidth\":1,\"tickcolor\":\"rgb(36,36,36)\",\"ticks\":\"outside\"}},\"type\":\"scatter3d\"}],\"scattercarpet\":[{\"marker\":{\"colorbar\":{\"outlinewidth\":1,\"tickcolor\":\"rgb(36,36,36)\",\"ticks\":\"outside\"}},\"type\":\"scattercarpet\"}],\"scattergeo\":[{\"marker\":{\"colorbar\":{\"outlinewidth\":1,\"tickcolor\":\"rgb(36,36,36)\",\"ticks\":\"outside\"}},\"type\":\"scattergeo\"}],\"scattergl\":[{\"marker\":{\"colorbar\":{\"outlinewidth\":1,\"tickcolor\":\"rgb(36,36,36)\",\"ticks\":\"outside\"}},\"type\":\"scattergl\"}],\"scattermapbox\":[{\"marker\":{\"colorbar\":{\"outlinewidth\":1,\"tickcolor\":\"rgb(36,36,36)\",\"ticks\":\"outside\"}},\"type\":\"scattermapbox\"}],\"scatterpolargl\":[{\"marker\":{\"colorbar\":{\"outlinewidth\":1,\"tickcolor\":\"rgb(36,36,36)\",\"ticks\":\"outside\"}},\"type\":\"scatterpolargl\"}],\"scatterpolar\":[{\"marker\":{\"colorbar\":{\"outlinewidth\":1,\"tickcolor\":\"rgb(36,36,36)\",\"ticks\":\"outside\"}},\"type\":\"scatterpolar\"}],\"scatter\":[{\"marker\":{\"colorbar\":{\"outlinewidth\":1,\"tickcolor\":\"rgb(36,36,36)\",\"ticks\":\"outside\"}},\"type\":\"scatter\"}],\"scatterternary\":[{\"marker\":{\"colorbar\":{\"outlinewidth\":1,\"tickcolor\":\"rgb(36,36,36)\",\"ticks\":\"outside\"}},\"type\":\"scatterternary\"}],\"surface\":[{\"colorbar\":{\"outlinewidth\":1,\"tickcolor\":\"rgb(36,36,36)\",\"ticks\":\"outside\"},\"colorscale\":[[0.0,\"#440154\"],[0.1111111111111111,\"#482878\"],[0.2222222222222222,\"#3e4989\"],[0.3333333333333333,\"#31688e\"],[0.4444444444444444,\"#26828e\"],[0.5555555555555556,\"#1f9e89\"],[0.6666666666666666,\"#35b779\"],[0.7777777777777778,\"#6ece58\"],[0.8888888888888888,\"#b5de2b\"],[1.0,\"#fde725\"]],\"type\":\"surface\"}],\"table\":[{\"cells\":{\"fill\":{\"color\":\"rgb(237,237,237)\"},\"line\":{\"color\":\"white\"}},\"header\":{\"fill\":{\"color\":\"rgb(217,217,217)\"},\"line\":{\"color\":\"white\"}},\"type\":\"table\"}]},\"layout\":{\"annotationdefaults\":{\"arrowhead\":0,\"arrowwidth\":1},\"autotypenumbers\":\"strict\",\"coloraxis\":{\"colorbar\":{\"outlinewidth\":1,\"tickcolor\":\"rgb(36,36,36)\",\"ticks\":\"outside\"}},\"colorscale\":{\"diverging\":[[0.0,\"rgb(103,0,31)\"],[0.1,\"rgb(178,24,43)\"],[0.2,\"rgb(214,96,77)\"],[0.3,\"rgb(244,165,130)\"],[0.4,\"rgb(253,219,199)\"],[0.5,\"rgb(247,247,247)\"],[0.6,\"rgb(209,229,240)\"],[0.7,\"rgb(146,197,222)\"],[0.8,\"rgb(67,147,195)\"],[0.9,\"rgb(33,102,172)\"],[1.0,\"rgb(5,48,97)\"]],\"sequential\":[[0.0,\"#440154\"],[0.1111111111111111,\"#482878\"],[0.2222222222222222,\"#3e4989\"],[0.3333333333333333,\"#31688e\"],[0.4444444444444444,\"#26828e\"],[0.5555555555555556,\"#1f9e89\"],[0.6666666666666666,\"#35b779\"],[0.7777777777777778,\"#6ece58\"],[0.8888888888888888,\"#b5de2b\"],[1.0,\"#fde725\"]],\"sequentialminus\":[[0.0,\"#440154\"],[0.1111111111111111,\"#482878\"],[0.2222222222222222,\"#3e4989\"],[0.3333333333333333,\"#31688e\"],[0.4444444444444444,\"#26828e\"],[0.5555555555555556,\"#1f9e89\"],[0.6666666666666666,\"#35b779\"],[0.7777777777777778,\"#6ece58\"],[0.8888888888888888,\"#b5de2b\"],[1.0,\"#fde725\"]]},\"colorway\":[\"#1F77B4\",\"#FF7F0E\",\"#2CA02C\",\"#D62728\",\"#9467BD\",\"#8C564B\",\"#E377C2\",\"#7F7F7F\",\"#BCBD22\",\"#17BECF\"],\"font\":{\"color\":\"rgb(36,36,36)\"},\"geo\":{\"bgcolor\":\"white\",\"lakecolor\":\"white\",\"landcolor\":\"white\",\"showlakes\":true,\"showland\":true,\"subunitcolor\":\"white\"},\"hoverlabel\":{\"align\":\"left\"},\"hovermode\":\"closest\",\"mapbox\":{\"style\":\"light\"},\"paper_bgcolor\":\"white\",\"plot_bgcolor\":\"white\",\"polar\":{\"angularaxis\":{\"gridcolor\":\"rgb(232,232,232)\",\"linecolor\":\"rgb(36,36,36)\",\"showgrid\":false,\"showline\":true,\"ticks\":\"outside\"},\"bgcolor\":\"white\",\"radialaxis\":{\"gridcolor\":\"rgb(232,232,232)\",\"linecolor\":\"rgb(36,36,36)\",\"showgrid\":false,\"showline\":true,\"ticks\":\"outside\"}},\"scene\":{\"xaxis\":{\"backgroundcolor\":\"white\",\"gridcolor\":\"rgb(232,232,232)\",\"gridwidth\":2,\"linecolor\":\"rgb(36,36,36)\",\"showbackground\":true,\"showgrid\":false,\"showline\":true,\"ticks\":\"outside\",\"zeroline\":false,\"zerolinecolor\":\"rgb(36,36,36)\"},\"yaxis\":{\"backgroundcolor\":\"white\",\"gridcolor\":\"rgb(232,232,232)\",\"gridwidth\":2,\"linecolor\":\"rgb(36,36,36)\",\"showbackground\":true,\"showgrid\":false,\"showline\":true,\"ticks\":\"outside\",\"zeroline\":false,\"zerolinecolor\":\"rgb(36,36,36)\"},\"zaxis\":{\"backgroundcolor\":\"white\",\"gridcolor\":\"rgb(232,232,232)\",\"gridwidth\":2,\"linecolor\":\"rgb(36,36,36)\",\"showbackground\":true,\"showgrid\":false,\"showline\":true,\"ticks\":\"outside\",\"zeroline\":false,\"zerolinecolor\":\"rgb(36,36,36)\"}},\"shapedefaults\":{\"fillcolor\":\"black\",\"line\":{\"width\":0},\"opacity\":0.3},\"ternary\":{\"aaxis\":{\"gridcolor\":\"rgb(232,232,232)\",\"linecolor\":\"rgb(36,36,36)\",\"showgrid\":false,\"showline\":true,\"ticks\":\"outside\"},\"baxis\":{\"gridcolor\":\"rgb(232,232,232)\",\"linecolor\":\"rgb(36,36,36)\",\"showgrid\":false,\"showline\":true,\"ticks\":\"outside\"},\"bgcolor\":\"white\",\"caxis\":{\"gridcolor\":\"rgb(232,232,232)\",\"linecolor\":\"rgb(36,36,36)\",\"showgrid\":false,\"showline\":true,\"ticks\":\"outside\"}},\"title\":{\"x\":0.05},\"xaxis\":{\"automargin\":true,\"gridcolor\":\"rgb(232,232,232)\",\"linecolor\":\"rgb(36,36,36)\",\"showgrid\":false,\"showline\":true,\"ticks\":\"outside\",\"title\":{\"standoff\":15},\"zeroline\":false,\"zerolinecolor\":\"rgb(36,36,36)\"},\"yaxis\":{\"automargin\":true,\"gridcolor\":\"rgb(232,232,232)\",\"linecolor\":\"rgb(36,36,36)\",\"showgrid\":false,\"showline\":true,\"ticks\":\"outside\",\"title\":{\"standoff\":15},\"zeroline\":false,\"zerolinecolor\":\"rgb(36,36,36)\"}}},\"xaxis\":{\"anchor\":\"y\",\"domain\":[0.0,1.0],\"title\":{\"text\":\"\"},\"visible\":false,\"range\":[8.825425481796264,14.176900672912598]},\"yaxis\":{\"anchor\":\"x\",\"domain\":[0.0,1.0],\"title\":{\"text\":\"\"},\"visible\":false,\"range\":[18.541427516937254,26.027999782562254]},\"legend\":{\"tracegroupgap\":0,\"itemsizing\":\"constant\"},\"margin\":{\"t\":60},\"title\":{\"font\":{\"size\":22,\"color\":\"Black\"},\"text\":\"<b>Intertopic Distance Map\",\"y\":0.95,\"x\":0.5,\"xanchor\":\"center\",\"yanchor\":\"top\"},\"hoverlabel\":{\"font\":{\"size\":16,\"family\":\"Rockwell\"},\"bgcolor\":\"white\"},\"width\":650,\"height\":650,\"sliders\":[{\"active\":0,\"pad\":{\"t\":50},\"steps\":[{\"args\":[{\"marker.color\":[[\"red\",\"#B0BEC5\",\"#B0BEC5\",\"#B0BEC5\"]]}],\"label\":\"Topic 0\",\"method\":\"update\"},{\"args\":[{\"marker.color\":[[\"#B0BEC5\",\"red\",\"#B0BEC5\",\"#B0BEC5\"]]}],\"label\":\"Topic 1\",\"method\":\"update\"},{\"args\":[{\"marker.color\":[[\"#B0BEC5\",\"#B0BEC5\",\"red\",\"#B0BEC5\"]]}],\"label\":\"Topic 2\",\"method\":\"update\"},{\"args\":[{\"marker.color\":[[\"#B0BEC5\",\"#B0BEC5\",\"#B0BEC5\",\"red\"]]}],\"label\":\"Topic 3\",\"method\":\"update\"}]}],\"shapes\":[{\"line\":{\"color\":\"#CFD8DC\",\"width\":2},\"type\":\"line\",\"x0\":11.50116307735443,\"x1\":11.50116307735443,\"y0\":18.541427516937254,\"y1\":26.027999782562254},{\"line\":{\"color\":\"#9E9E9E\",\"width\":2},\"type\":\"line\",\"x0\":8.825425481796264,\"x1\":14.176900672912598,\"y0\":22.284713649749754,\"y1\":22.284713649749754}],\"annotations\":[{\"showarrow\":false,\"text\":\"D1\",\"x\":8.825425481796264,\"y\":22.284713649749754,\"yshift\":10},{\"showarrow\":false,\"text\":\"D2\",\"x\":11.50116307735443,\"xshift\":10,\"y\":26.027999782562254}]},                        {\"responsive\": true}                    ).then(function(){\n",
              "                            \n",
              "var gd = document.getElementById('9bfefa15-349e-46cb-9079-acf3fae9e563');\n",
              "var x = new MutationObserver(function (mutations, observer) {{\n",
              "        var display = window.getComputedStyle(gd).display;\n",
              "        if (!display || display === 'none') {{\n",
              "            console.log([gd, 'removed!']);\n",
              "            Plotly.purge(gd);\n",
              "            observer.disconnect();\n",
              "        }}\n",
              "}});\n",
              "\n",
              "// Listen for the removal of the full notebook cells\n",
              "var notebookContainer = gd.closest('#notebook-container');\n",
              "if (notebookContainer) {{\n",
              "    x.observe(notebookContainer, {childList: true});\n",
              "}}\n",
              "\n",
              "// Listen for the clearing of the current output cell\n",
              "var outputEl = gd.closest('.output');\n",
              "if (outputEl) {{\n",
              "    x.observe(outputEl, {childList: true});\n",
              "}}\n",
              "\n",
              "                        })                };                            </script>        </div>\n",
              "</body>\n",
              "</html>"
            ]
          },
          "metadata": {}
        }
      ]
    },
    {
      "cell_type": "code",
      "source": [
        ""
      ],
      "metadata": {
        "id": "ozTJMNN7wusY"
      },
      "execution_count": null,
      "outputs": []
    },
    {
      "cell_type": "code",
      "source": [
        "topic_model = BERTopic(embedding_model=roberta,vectorizer_model=vectorizer_model)\n",
        "topics_custom, probs_custom = topic_model.fit_transform(full_conversation)"
      ],
      "metadata": {
        "id": "s6QdDBGE0wmY"
      },
      "execution_count": null,
      "outputs": []
    },
    {
      "cell_type": "code",
      "source": [
        "topic_model.get_topic_info()"
      ],
      "metadata": {
        "colab": {
          "base_uri": "https://localhost:8080/",
          "height": 270
        },
        "id": "X7AmzhgG01Uc",
        "outputId": "0c9925ca-9a56-4186-f73a-8b6b2d4de801"
      },
      "execution_count": null,
      "outputs": [
        {
          "output_type": "execute_result",
          "data": {
            "text/plain": [
              "   Topic  Count                           Name\n",
              "0     -1     31    -1_ll_today_question_iphone\n",
              "1      0     51  0_expect_quarter_product_luca\n",
              "2      1     34      1_quarter_look_think_year\n",
              "3      2     23    2_new_apple_billion_quarter\n",
              "4      3     21       3_sort_just_maybe_follow"
            ],
            "text/html": [
              "\n",
              "  <div id=\"df-15b5cec5-23f6-4450-8b19-8aadb2f04d9a\">\n",
              "    <div class=\"colab-df-container\">\n",
              "      <div>\n",
              "<style scoped>\n",
              "    .dataframe tbody tr th:only-of-type {\n",
              "        vertical-align: middle;\n",
              "    }\n",
              "\n",
              "    .dataframe tbody tr th {\n",
              "        vertical-align: top;\n",
              "    }\n",
              "\n",
              "    .dataframe thead th {\n",
              "        text-align: right;\n",
              "    }\n",
              "</style>\n",
              "<table border=\"1\" class=\"dataframe\">\n",
              "  <thead>\n",
              "    <tr style=\"text-align: right;\">\n",
              "      <th></th>\n",
              "      <th>Topic</th>\n",
              "      <th>Count</th>\n",
              "      <th>Name</th>\n",
              "    </tr>\n",
              "  </thead>\n",
              "  <tbody>\n",
              "    <tr>\n",
              "      <th>0</th>\n",
              "      <td>-1</td>\n",
              "      <td>31</td>\n",
              "      <td>-1_ll_today_question_iphone</td>\n",
              "    </tr>\n",
              "    <tr>\n",
              "      <th>1</th>\n",
              "      <td>0</td>\n",
              "      <td>51</td>\n",
              "      <td>0_expect_quarter_product_luca</td>\n",
              "    </tr>\n",
              "    <tr>\n",
              "      <th>2</th>\n",
              "      <td>1</td>\n",
              "      <td>34</td>\n",
              "      <td>1_quarter_look_think_year</td>\n",
              "    </tr>\n",
              "    <tr>\n",
              "      <th>3</th>\n",
              "      <td>2</td>\n",
              "      <td>23</td>\n",
              "      <td>2_new_apple_billion_quarter</td>\n",
              "    </tr>\n",
              "    <tr>\n",
              "      <th>4</th>\n",
              "      <td>3</td>\n",
              "      <td>21</td>\n",
              "      <td>3_sort_just_maybe_follow</td>\n",
              "    </tr>\n",
              "  </tbody>\n",
              "</table>\n",
              "</div>\n",
              "      <button class=\"colab-df-convert\" onclick=\"convertToInteractive('df-15b5cec5-23f6-4450-8b19-8aadb2f04d9a')\"\n",
              "              title=\"Convert this dataframe to an interactive table.\"\n",
              "              style=\"display:none;\">\n",
              "        \n",
              "  <svg xmlns=\"http://www.w3.org/2000/svg\" height=\"24px\"viewBox=\"0 0 24 24\"\n",
              "       width=\"24px\">\n",
              "    <path d=\"M0 0h24v24H0V0z\" fill=\"none\"/>\n",
              "    <path d=\"M18.56 5.44l.94 2.06.94-2.06 2.06-.94-2.06-.94-.94-2.06-.94 2.06-2.06.94zm-11 1L8.5 8.5l.94-2.06 2.06-.94-2.06-.94L8.5 2.5l-.94 2.06-2.06.94zm10 10l.94 2.06.94-2.06 2.06-.94-2.06-.94-.94-2.06-.94 2.06-2.06.94z\"/><path d=\"M17.41 7.96l-1.37-1.37c-.4-.4-.92-.59-1.43-.59-.52 0-1.04.2-1.43.59L10.3 9.45l-7.72 7.72c-.78.78-.78 2.05 0 2.83L4 21.41c.39.39.9.59 1.41.59.51 0 1.02-.2 1.41-.59l7.78-7.78 2.81-2.81c.8-.78.8-2.07 0-2.86zM5.41 20L4 18.59l7.72-7.72 1.47 1.35L5.41 20z\"/>\n",
              "  </svg>\n",
              "      </button>\n",
              "      \n",
              "  <style>\n",
              "    .colab-df-container {\n",
              "      display:flex;\n",
              "      flex-wrap:wrap;\n",
              "      gap: 12px;\n",
              "    }\n",
              "\n",
              "    .colab-df-convert {\n",
              "      background-color: #E8F0FE;\n",
              "      border: none;\n",
              "      border-radius: 50%;\n",
              "      cursor: pointer;\n",
              "      display: none;\n",
              "      fill: #1967D2;\n",
              "      height: 32px;\n",
              "      padding: 0 0 0 0;\n",
              "      width: 32px;\n",
              "    }\n",
              "\n",
              "    .colab-df-convert:hover {\n",
              "      background-color: #E2EBFA;\n",
              "      box-shadow: 0px 1px 2px rgba(60, 64, 67, 0.3), 0px 1px 3px 1px rgba(60, 64, 67, 0.15);\n",
              "      fill: #174EA6;\n",
              "    }\n",
              "\n",
              "    [theme=dark] .colab-df-convert {\n",
              "      background-color: #3B4455;\n",
              "      fill: #D2E3FC;\n",
              "    }\n",
              "\n",
              "    [theme=dark] .colab-df-convert:hover {\n",
              "      background-color: #434B5C;\n",
              "      box-shadow: 0px 1px 3px 1px rgba(0, 0, 0, 0.15);\n",
              "      filter: drop-shadow(0px 1px 2px rgba(0, 0, 0, 0.3));\n",
              "      fill: #FFFFFF;\n",
              "    }\n",
              "  </style>\n",
              "\n",
              "      <script>\n",
              "        const buttonEl =\n",
              "          document.querySelector('#df-15b5cec5-23f6-4450-8b19-8aadb2f04d9a button.colab-df-convert');\n",
              "        buttonEl.style.display =\n",
              "          google.colab.kernel.accessAllowed ? 'block' : 'none';\n",
              "\n",
              "        async function convertToInteractive(key) {\n",
              "          const element = document.querySelector('#df-15b5cec5-23f6-4450-8b19-8aadb2f04d9a');\n",
              "          const dataTable =\n",
              "            await google.colab.kernel.invokeFunction('convertToInteractive',\n",
              "                                                     [key], {});\n",
              "          if (!dataTable) return;\n",
              "\n",
              "          const docLinkHtml = 'Like what you see? Visit the ' +\n",
              "            '<a target=\"_blank\" href=https://colab.research.google.com/notebooks/data_table.ipynb>data table notebook</a>'\n",
              "            + ' to learn more about interactive tables.';\n",
              "          element.innerHTML = '';\n",
              "          dataTable['output_type'] = 'display_data';\n",
              "          await google.colab.output.renderOutput(dataTable, element);\n",
              "          const docLink = document.createElement('div');\n",
              "          docLink.innerHTML = docLinkHtml;\n",
              "          element.appendChild(docLink);\n",
              "        }\n",
              "      </script>\n",
              "    </div>\n",
              "  </div>\n",
              "  "
            ]
          },
          "metadata": {},
          "execution_count": 235
        }
      ]
    },
    {
      "cell_type": "code",
      "source": [
        "topic_model.visualize_barchart()"
      ],
      "metadata": {
        "colab": {
          "base_uri": "https://localhost:8080/",
          "height": 342
        },
        "id": "u7nDAiSw0339",
        "outputId": "0455129e-3f95-4956-fc4d-a301df07234b"
      },
      "execution_count": null,
      "outputs": [
        {
          "output_type": "display_data",
          "data": {
            "text/html": [
              "<html>\n",
              "<head><meta charset=\"utf-8\" /></head>\n",
              "<body>\n",
              "    <div>            <script src=\"https://cdnjs.cloudflare.com/ajax/libs/mathjax/2.7.5/MathJax.js?config=TeX-AMS-MML_SVG\"></script><script type=\"text/javascript\">if (window.MathJax) {MathJax.Hub.Config({SVG: {font: \"STIX-Web\"}});}</script>                <script type=\"text/javascript\">window.PlotlyConfig = {MathJaxConfig: 'local'};</script>\n",
              "        <script src=\"https://cdn.plot.ly/plotly-2.8.3.min.js\"></script>                <div id=\"cedbde06-cb6f-4a8c-bcf3-1bd2a49b1918\" class=\"plotly-graph-div\" style=\"height:325.0px; width:1000px;\"></div>            <script type=\"text/javascript\">                                    window.PLOTLYENV=window.PLOTLYENV || {};                                    if (document.getElementById(\"cedbde06-cb6f-4a8c-bcf3-1bd2a49b1918\")) {                    Plotly.newPlot(                        \"cedbde06-cb6f-4a8c-bcf3-1bd2a49b1918\",                        [{\"marker\":{\"color\":\"#D55E00\"},\"orientation\":\"h\",\"x\":[0.04326611902496986,0.04794909308200397,0.048774517799405635,0.05160231883905966,0.06337658546760484],\"y\":[\"developers  \",\"luca  \",\"product  \",\"quarter  \",\"expect  \"],\"type\":\"bar\",\"xaxis\":\"x\",\"yaxis\":\"y\"},{\"marker\":{\"color\":\"#0072B2\"},\"orientation\":\"h\",\"x\":[0.04519902711706102,0.04682140298566964,0.04763912884834885,0.05207053838499201,0.07065905187210995],\"y\":[\"business  \",\"year  \",\"think  \",\"look  \",\"quarter  \"],\"type\":\"bar\",\"xaxis\":\"x2\",\"yaxis\":\"y2\"},{\"marker\":{\"color\":\"#CC79A7\"},\"orientation\":\"h\",\"x\":[0.04753277760168963,0.04945276068723641,0.04995525190087434,0.05608418914427639,0.06545294855339788],\"y\":[\"customers  \",\"quarter  \",\"billion  \",\"apple  \",\"new  \"],\"type\":\"bar\",\"xaxis\":\"x3\",\"yaxis\":\"y3\"},{\"marker\":{\"color\":\"#E69F00\"},\"orientation\":\"h\",\"x\":[0.05815120215825744,0.06844488021103902,0.06987089169623197,0.07077204991199493,0.07753493621100992],\"y\":[\"macro  \",\"follow  \",\"maybe  \",\"just  \",\"sort  \"],\"type\":\"bar\",\"xaxis\":\"x4\",\"yaxis\":\"y4\"}],                        {\"template\":{\"data\":{\"barpolar\":[{\"marker\":{\"line\":{\"color\":\"white\",\"width\":0.5},\"pattern\":{\"fillmode\":\"overlay\",\"size\":10,\"solidity\":0.2}},\"type\":\"barpolar\"}],\"bar\":[{\"error_x\":{\"color\":\"#2a3f5f\"},\"error_y\":{\"color\":\"#2a3f5f\"},\"marker\":{\"line\":{\"color\":\"white\",\"width\":0.5},\"pattern\":{\"fillmode\":\"overlay\",\"size\":10,\"solidity\":0.2}},\"type\":\"bar\"}],\"carpet\":[{\"aaxis\":{\"endlinecolor\":\"#2a3f5f\",\"gridcolor\":\"#C8D4E3\",\"linecolor\":\"#C8D4E3\",\"minorgridcolor\":\"#C8D4E3\",\"startlinecolor\":\"#2a3f5f\"},\"baxis\":{\"endlinecolor\":\"#2a3f5f\",\"gridcolor\":\"#C8D4E3\",\"linecolor\":\"#C8D4E3\",\"minorgridcolor\":\"#C8D4E3\",\"startlinecolor\":\"#2a3f5f\"},\"type\":\"carpet\"}],\"choropleth\":[{\"colorbar\":{\"outlinewidth\":0,\"ticks\":\"\"},\"type\":\"choropleth\"}],\"contourcarpet\":[{\"colorbar\":{\"outlinewidth\":0,\"ticks\":\"\"},\"type\":\"contourcarpet\"}],\"contour\":[{\"colorbar\":{\"outlinewidth\":0,\"ticks\":\"\"},\"colorscale\":[[0.0,\"#0d0887\"],[0.1111111111111111,\"#46039f\"],[0.2222222222222222,\"#7201a8\"],[0.3333333333333333,\"#9c179e\"],[0.4444444444444444,\"#bd3786\"],[0.5555555555555556,\"#d8576b\"],[0.6666666666666666,\"#ed7953\"],[0.7777777777777778,\"#fb9f3a\"],[0.8888888888888888,\"#fdca26\"],[1.0,\"#f0f921\"]],\"type\":\"contour\"}],\"heatmapgl\":[{\"colorbar\":{\"outlinewidth\":0,\"ticks\":\"\"},\"colorscale\":[[0.0,\"#0d0887\"],[0.1111111111111111,\"#46039f\"],[0.2222222222222222,\"#7201a8\"],[0.3333333333333333,\"#9c179e\"],[0.4444444444444444,\"#bd3786\"],[0.5555555555555556,\"#d8576b\"],[0.6666666666666666,\"#ed7953\"],[0.7777777777777778,\"#fb9f3a\"],[0.8888888888888888,\"#fdca26\"],[1.0,\"#f0f921\"]],\"type\":\"heatmapgl\"}],\"heatmap\":[{\"colorbar\":{\"outlinewidth\":0,\"ticks\":\"\"},\"colorscale\":[[0.0,\"#0d0887\"],[0.1111111111111111,\"#46039f\"],[0.2222222222222222,\"#7201a8\"],[0.3333333333333333,\"#9c179e\"],[0.4444444444444444,\"#bd3786\"],[0.5555555555555556,\"#d8576b\"],[0.6666666666666666,\"#ed7953\"],[0.7777777777777778,\"#fb9f3a\"],[0.8888888888888888,\"#fdca26\"],[1.0,\"#f0f921\"]],\"type\":\"heatmap\"}],\"histogram2dcontour\":[{\"colorbar\":{\"outlinewidth\":0,\"ticks\":\"\"},\"colorscale\":[[0.0,\"#0d0887\"],[0.1111111111111111,\"#46039f\"],[0.2222222222222222,\"#7201a8\"],[0.3333333333333333,\"#9c179e\"],[0.4444444444444444,\"#bd3786\"],[0.5555555555555556,\"#d8576b\"],[0.6666666666666666,\"#ed7953\"],[0.7777777777777778,\"#fb9f3a\"],[0.8888888888888888,\"#fdca26\"],[1.0,\"#f0f921\"]],\"type\":\"histogram2dcontour\"}],\"histogram2d\":[{\"colorbar\":{\"outlinewidth\":0,\"ticks\":\"\"},\"colorscale\":[[0.0,\"#0d0887\"],[0.1111111111111111,\"#46039f\"],[0.2222222222222222,\"#7201a8\"],[0.3333333333333333,\"#9c179e\"],[0.4444444444444444,\"#bd3786\"],[0.5555555555555556,\"#d8576b\"],[0.6666666666666666,\"#ed7953\"],[0.7777777777777778,\"#fb9f3a\"],[0.8888888888888888,\"#fdca26\"],[1.0,\"#f0f921\"]],\"type\":\"histogram2d\"}],\"histogram\":[{\"marker\":{\"pattern\":{\"fillmode\":\"overlay\",\"size\":10,\"solidity\":0.2}},\"type\":\"histogram\"}],\"mesh3d\":[{\"colorbar\":{\"outlinewidth\":0,\"ticks\":\"\"},\"type\":\"mesh3d\"}],\"parcoords\":[{\"line\":{\"colorbar\":{\"outlinewidth\":0,\"ticks\":\"\"}},\"type\":\"parcoords\"}],\"pie\":[{\"automargin\":true,\"type\":\"pie\"}],\"scatter3d\":[{\"line\":{\"colorbar\":{\"outlinewidth\":0,\"ticks\":\"\"}},\"marker\":{\"colorbar\":{\"outlinewidth\":0,\"ticks\":\"\"}},\"type\":\"scatter3d\"}],\"scattercarpet\":[{\"marker\":{\"colorbar\":{\"outlinewidth\":0,\"ticks\":\"\"}},\"type\":\"scattercarpet\"}],\"scattergeo\":[{\"marker\":{\"colorbar\":{\"outlinewidth\":0,\"ticks\":\"\"}},\"type\":\"scattergeo\"}],\"scattergl\":[{\"marker\":{\"colorbar\":{\"outlinewidth\":0,\"ticks\":\"\"}},\"type\":\"scattergl\"}],\"scattermapbox\":[{\"marker\":{\"colorbar\":{\"outlinewidth\":0,\"ticks\":\"\"}},\"type\":\"scattermapbox\"}],\"scatterpolargl\":[{\"marker\":{\"colorbar\":{\"outlinewidth\":0,\"ticks\":\"\"}},\"type\":\"scatterpolargl\"}],\"scatterpolar\":[{\"marker\":{\"colorbar\":{\"outlinewidth\":0,\"ticks\":\"\"}},\"type\":\"scatterpolar\"}],\"scatter\":[{\"marker\":{\"colorbar\":{\"outlinewidth\":0,\"ticks\":\"\"}},\"type\":\"scatter\"}],\"scatterternary\":[{\"marker\":{\"colorbar\":{\"outlinewidth\":0,\"ticks\":\"\"}},\"type\":\"scatterternary\"}],\"surface\":[{\"colorbar\":{\"outlinewidth\":0,\"ticks\":\"\"},\"colorscale\":[[0.0,\"#0d0887\"],[0.1111111111111111,\"#46039f\"],[0.2222222222222222,\"#7201a8\"],[0.3333333333333333,\"#9c179e\"],[0.4444444444444444,\"#bd3786\"],[0.5555555555555556,\"#d8576b\"],[0.6666666666666666,\"#ed7953\"],[0.7777777777777778,\"#fb9f3a\"],[0.8888888888888888,\"#fdca26\"],[1.0,\"#f0f921\"]],\"type\":\"surface\"}],\"table\":[{\"cells\":{\"fill\":{\"color\":\"#EBF0F8\"},\"line\":{\"color\":\"white\"}},\"header\":{\"fill\":{\"color\":\"#C8D4E3\"},\"line\":{\"color\":\"white\"}},\"type\":\"table\"}]},\"layout\":{\"annotationdefaults\":{\"arrowcolor\":\"#2a3f5f\",\"arrowhead\":0,\"arrowwidth\":1},\"autotypenumbers\":\"strict\",\"coloraxis\":{\"colorbar\":{\"outlinewidth\":0,\"ticks\":\"\"}},\"colorscale\":{\"diverging\":[[0,\"#8e0152\"],[0.1,\"#c51b7d\"],[0.2,\"#de77ae\"],[0.3,\"#f1b6da\"],[0.4,\"#fde0ef\"],[0.5,\"#f7f7f7\"],[0.6,\"#e6f5d0\"],[0.7,\"#b8e186\"],[0.8,\"#7fbc41\"],[0.9,\"#4d9221\"],[1,\"#276419\"]],\"sequential\":[[0.0,\"#0d0887\"],[0.1111111111111111,\"#46039f\"],[0.2222222222222222,\"#7201a8\"],[0.3333333333333333,\"#9c179e\"],[0.4444444444444444,\"#bd3786\"],[0.5555555555555556,\"#d8576b\"],[0.6666666666666666,\"#ed7953\"],[0.7777777777777778,\"#fb9f3a\"],[0.8888888888888888,\"#fdca26\"],[1.0,\"#f0f921\"]],\"sequentialminus\":[[0.0,\"#0d0887\"],[0.1111111111111111,\"#46039f\"],[0.2222222222222222,\"#7201a8\"],[0.3333333333333333,\"#9c179e\"],[0.4444444444444444,\"#bd3786\"],[0.5555555555555556,\"#d8576b\"],[0.6666666666666666,\"#ed7953\"],[0.7777777777777778,\"#fb9f3a\"],[0.8888888888888888,\"#fdca26\"],[1.0,\"#f0f921\"]]},\"colorway\":[\"#636efa\",\"#EF553B\",\"#00cc96\",\"#ab63fa\",\"#FFA15A\",\"#19d3f3\",\"#FF6692\",\"#B6E880\",\"#FF97FF\",\"#FECB52\"],\"font\":{\"color\":\"#2a3f5f\"},\"geo\":{\"bgcolor\":\"white\",\"lakecolor\":\"white\",\"landcolor\":\"white\",\"showlakes\":true,\"showland\":true,\"subunitcolor\":\"#C8D4E3\"},\"hoverlabel\":{\"align\":\"left\"},\"hovermode\":\"closest\",\"mapbox\":{\"style\":\"light\"},\"paper_bgcolor\":\"white\",\"plot_bgcolor\":\"white\",\"polar\":{\"angularaxis\":{\"gridcolor\":\"#EBF0F8\",\"linecolor\":\"#EBF0F8\",\"ticks\":\"\"},\"bgcolor\":\"white\",\"radialaxis\":{\"gridcolor\":\"#EBF0F8\",\"linecolor\":\"#EBF0F8\",\"ticks\":\"\"}},\"scene\":{\"xaxis\":{\"backgroundcolor\":\"white\",\"gridcolor\":\"#DFE8F3\",\"gridwidth\":2,\"linecolor\":\"#EBF0F8\",\"showbackground\":true,\"ticks\":\"\",\"zerolinecolor\":\"#EBF0F8\"},\"yaxis\":{\"backgroundcolor\":\"white\",\"gridcolor\":\"#DFE8F3\",\"gridwidth\":2,\"linecolor\":\"#EBF0F8\",\"showbackground\":true,\"ticks\":\"\",\"zerolinecolor\":\"#EBF0F8\"},\"zaxis\":{\"backgroundcolor\":\"white\",\"gridcolor\":\"#DFE8F3\",\"gridwidth\":2,\"linecolor\":\"#EBF0F8\",\"showbackground\":true,\"ticks\":\"\",\"zerolinecolor\":\"#EBF0F8\"}},\"shapedefaults\":{\"line\":{\"color\":\"#2a3f5f\"}},\"ternary\":{\"aaxis\":{\"gridcolor\":\"#DFE8F3\",\"linecolor\":\"#A2B1C6\",\"ticks\":\"\"},\"baxis\":{\"gridcolor\":\"#DFE8F3\",\"linecolor\":\"#A2B1C6\",\"ticks\":\"\"},\"bgcolor\":\"white\",\"caxis\":{\"gridcolor\":\"#DFE8F3\",\"linecolor\":\"#A2B1C6\",\"ticks\":\"\"}},\"title\":{\"x\":0.05},\"xaxis\":{\"automargin\":true,\"gridcolor\":\"#EBF0F8\",\"linecolor\":\"#EBF0F8\",\"ticks\":\"\",\"title\":{\"standoff\":15},\"zerolinecolor\":\"#EBF0F8\",\"zerolinewidth\":2},\"yaxis\":{\"automargin\":true,\"gridcolor\":\"#EBF0F8\",\"linecolor\":\"#EBF0F8\",\"ticks\":\"\",\"title\":{\"standoff\":15},\"zerolinecolor\":\"#EBF0F8\",\"zerolinewidth\":2}}},\"xaxis\":{\"anchor\":\"y\",\"domain\":[0.0,0.175],\"showgrid\":true},\"yaxis\":{\"anchor\":\"x\",\"domain\":[0.0,1.0],\"showgrid\":true},\"xaxis2\":{\"anchor\":\"y2\",\"domain\":[0.275,0.45],\"showgrid\":true},\"yaxis2\":{\"anchor\":\"x2\",\"domain\":[0.0,1.0],\"showgrid\":true},\"xaxis3\":{\"anchor\":\"y3\",\"domain\":[0.55,0.7250000000000001],\"showgrid\":true},\"yaxis3\":{\"anchor\":\"x3\",\"domain\":[0.0,1.0],\"showgrid\":true},\"xaxis4\":{\"anchor\":\"y4\",\"domain\":[0.825,1.0],\"showgrid\":true},\"yaxis4\":{\"anchor\":\"x4\",\"domain\":[0.0,1.0],\"showgrid\":true},\"annotations\":[{\"font\":{\"size\":16},\"showarrow\":false,\"text\":\"Topic 0\",\"x\":0.0875,\"xanchor\":\"center\",\"xref\":\"paper\",\"y\":1.0,\"yanchor\":\"bottom\",\"yref\":\"paper\"},{\"font\":{\"size\":16},\"showarrow\":false,\"text\":\"Topic 1\",\"x\":0.36250000000000004,\"xanchor\":\"center\",\"xref\":\"paper\",\"y\":1.0,\"yanchor\":\"bottom\",\"yref\":\"paper\"},{\"font\":{\"size\":16},\"showarrow\":false,\"text\":\"Topic 2\",\"x\":0.6375000000000001,\"xanchor\":\"center\",\"xref\":\"paper\",\"y\":1.0,\"yanchor\":\"bottom\",\"yref\":\"paper\"},{\"font\":{\"size\":16},\"showarrow\":false,\"text\":\"Topic 3\",\"x\":0.9125,\"xanchor\":\"center\",\"xref\":\"paper\",\"y\":1.0,\"yanchor\":\"bottom\",\"yref\":\"paper\"}],\"title\":{\"font\":{\"size\":22,\"color\":\"Black\"},\"text\":\"<b>Topic Word Scores\",\"x\":0.5,\"xanchor\":\"center\",\"yanchor\":\"top\"},\"hoverlabel\":{\"font\":{\"size\":16,\"family\":\"Rockwell\"},\"bgcolor\":\"white\"},\"showlegend\":false,\"width\":1000,\"height\":325.0},                        {\"responsive\": true}                    ).then(function(){\n",
              "                            \n",
              "var gd = document.getElementById('cedbde06-cb6f-4a8c-bcf3-1bd2a49b1918');\n",
              "var x = new MutationObserver(function (mutations, observer) {{\n",
              "        var display = window.getComputedStyle(gd).display;\n",
              "        if (!display || display === 'none') {{\n",
              "            console.log([gd, 'removed!']);\n",
              "            Plotly.purge(gd);\n",
              "            observer.disconnect();\n",
              "        }}\n",
              "}});\n",
              "\n",
              "// Listen for the removal of the full notebook cells\n",
              "var notebookContainer = gd.closest('#notebook-container');\n",
              "if (notebookContainer) {{\n",
              "    x.observe(notebookContainer, {childList: true});\n",
              "}}\n",
              "\n",
              "// Listen for the clearing of the current output cell\n",
              "var outputEl = gd.closest('.output');\n",
              "if (outputEl) {{\n",
              "    x.observe(outputEl, {childList: true});\n",
              "}}\n",
              "\n",
              "                        })                };                            </script>        </div>\n",
              "</body>\n",
              "</html>"
            ]
          },
          "metadata": {}
        }
      ]
    },
    {
      "cell_type": "code",
      "source": [
        "topic_model.visualize_topics()"
      ],
      "metadata": {
        "colab": {
          "base_uri": "https://localhost:8080/",
          "height": 667
        },
        "id": "U0f9SmJK06bM",
        "outputId": "349e5c05-68a3-4f22-c540-b742b690cacb"
      },
      "execution_count": null,
      "outputs": [
        {
          "output_type": "display_data",
          "data": {
            "text/html": [
              "<html>\n",
              "<head><meta charset=\"utf-8\" /></head>\n",
              "<body>\n",
              "    <div>            <script src=\"https://cdnjs.cloudflare.com/ajax/libs/mathjax/2.7.5/MathJax.js?config=TeX-AMS-MML_SVG\"></script><script type=\"text/javascript\">if (window.MathJax) {MathJax.Hub.Config({SVG: {font: \"STIX-Web\"}});}</script>                <script type=\"text/javascript\">window.PlotlyConfig = {MathJaxConfig: 'local'};</script>\n",
              "        <script src=\"https://cdn.plot.ly/plotly-2.8.3.min.js\"></script>                <div id=\"2a1cd907-4336-4f58-be69-d65741087810\" class=\"plotly-graph-div\" style=\"height:650px; width:650px;\"></div>            <script type=\"text/javascript\">                                    window.PLOTLYENV=window.PLOTLYENV || {};                                    if (document.getElementById(\"2a1cd907-4336-4f58-be69-d65741087810\")) {                    Plotly.newPlot(                        \"2a1cd907-4336-4f58-be69-d65741087810\",                        [{\"customdata\":[[0,\"expect | quarter | product | luca | developers\",51],[1,\"quarter | look | think | year | business\",34],[2,\"new | apple | billion | quarter | customers\",23],[3,\"sort | just | maybe | follow | macro\",21]],\"hovertemplate\":\"<b>Topic %{customdata[0]}</b><br>Words: %{customdata[1]}<br>Size: %{customdata[2]}\",\"legendgroup\":\"\",\"marker\":{\"color\":\"#B0BEC5\",\"size\":[51,34,23,21],\"sizemode\":\"area\",\"sizeref\":0.031875,\"symbol\":\"circle\",\"line\":{\"color\":\"DarkSlateGrey\",\"width\":2}},\"mode\":\"markers\",\"name\":\"\",\"orientation\":\"v\",\"showlegend\":false,\"x\":[12.04857063293457,12.479077339172363,13.19801139831543,11.715787887573242],\"xaxis\":\"x\",\"y\":[10.311758041381836,11.351156234741211,10.956114768981934,11.612011909484863],\"yaxis\":\"y\",\"type\":\"scatter\"}],                        {\"template\":{\"data\":{\"barpolar\":[{\"marker\":{\"line\":{\"color\":\"white\",\"width\":0.5},\"pattern\":{\"fillmode\":\"overlay\",\"size\":10,\"solidity\":0.2}},\"type\":\"barpolar\"}],\"bar\":[{\"error_x\":{\"color\":\"rgb(36,36,36)\"},\"error_y\":{\"color\":\"rgb(36,36,36)\"},\"marker\":{\"line\":{\"color\":\"white\",\"width\":0.5},\"pattern\":{\"fillmode\":\"overlay\",\"size\":10,\"solidity\":0.2}},\"type\":\"bar\"}],\"carpet\":[{\"aaxis\":{\"endlinecolor\":\"rgb(36,36,36)\",\"gridcolor\":\"white\",\"linecolor\":\"white\",\"minorgridcolor\":\"white\",\"startlinecolor\":\"rgb(36,36,36)\"},\"baxis\":{\"endlinecolor\":\"rgb(36,36,36)\",\"gridcolor\":\"white\",\"linecolor\":\"white\",\"minorgridcolor\":\"white\",\"startlinecolor\":\"rgb(36,36,36)\"},\"type\":\"carpet\"}],\"choropleth\":[{\"colorbar\":{\"outlinewidth\":1,\"tickcolor\":\"rgb(36,36,36)\",\"ticks\":\"outside\"},\"type\":\"choropleth\"}],\"contourcarpet\":[{\"colorbar\":{\"outlinewidth\":1,\"tickcolor\":\"rgb(36,36,36)\",\"ticks\":\"outside\"},\"type\":\"contourcarpet\"}],\"contour\":[{\"colorbar\":{\"outlinewidth\":1,\"tickcolor\":\"rgb(36,36,36)\",\"ticks\":\"outside\"},\"colorscale\":[[0.0,\"#440154\"],[0.1111111111111111,\"#482878\"],[0.2222222222222222,\"#3e4989\"],[0.3333333333333333,\"#31688e\"],[0.4444444444444444,\"#26828e\"],[0.5555555555555556,\"#1f9e89\"],[0.6666666666666666,\"#35b779\"],[0.7777777777777778,\"#6ece58\"],[0.8888888888888888,\"#b5de2b\"],[1.0,\"#fde725\"]],\"type\":\"contour\"}],\"heatmapgl\":[{\"colorbar\":{\"outlinewidth\":1,\"tickcolor\":\"rgb(36,36,36)\",\"ticks\":\"outside\"},\"colorscale\":[[0.0,\"#440154\"],[0.1111111111111111,\"#482878\"],[0.2222222222222222,\"#3e4989\"],[0.3333333333333333,\"#31688e\"],[0.4444444444444444,\"#26828e\"],[0.5555555555555556,\"#1f9e89\"],[0.6666666666666666,\"#35b779\"],[0.7777777777777778,\"#6ece58\"],[0.8888888888888888,\"#b5de2b\"],[1.0,\"#fde725\"]],\"type\":\"heatmapgl\"}],\"heatmap\":[{\"colorbar\":{\"outlinewidth\":1,\"tickcolor\":\"rgb(36,36,36)\",\"ticks\":\"outside\"},\"colorscale\":[[0.0,\"#440154\"],[0.1111111111111111,\"#482878\"],[0.2222222222222222,\"#3e4989\"],[0.3333333333333333,\"#31688e\"],[0.4444444444444444,\"#26828e\"],[0.5555555555555556,\"#1f9e89\"],[0.6666666666666666,\"#35b779\"],[0.7777777777777778,\"#6ece58\"],[0.8888888888888888,\"#b5de2b\"],[1.0,\"#fde725\"]],\"type\":\"heatmap\"}],\"histogram2dcontour\":[{\"colorbar\":{\"outlinewidth\":1,\"tickcolor\":\"rgb(36,36,36)\",\"ticks\":\"outside\"},\"colorscale\":[[0.0,\"#440154\"],[0.1111111111111111,\"#482878\"],[0.2222222222222222,\"#3e4989\"],[0.3333333333333333,\"#31688e\"],[0.4444444444444444,\"#26828e\"],[0.5555555555555556,\"#1f9e89\"],[0.6666666666666666,\"#35b779\"],[0.7777777777777778,\"#6ece58\"],[0.8888888888888888,\"#b5de2b\"],[1.0,\"#fde725\"]],\"type\":\"histogram2dcontour\"}],\"histogram2d\":[{\"colorbar\":{\"outlinewidth\":1,\"tickcolor\":\"rgb(36,36,36)\",\"ticks\":\"outside\"},\"colorscale\":[[0.0,\"#440154\"],[0.1111111111111111,\"#482878\"],[0.2222222222222222,\"#3e4989\"],[0.3333333333333333,\"#31688e\"],[0.4444444444444444,\"#26828e\"],[0.5555555555555556,\"#1f9e89\"],[0.6666666666666666,\"#35b779\"],[0.7777777777777778,\"#6ece58\"],[0.8888888888888888,\"#b5de2b\"],[1.0,\"#fde725\"]],\"type\":\"histogram2d\"}],\"histogram\":[{\"marker\":{\"line\":{\"color\":\"white\",\"width\":0.6}},\"type\":\"histogram\"}],\"mesh3d\":[{\"colorbar\":{\"outlinewidth\":1,\"tickcolor\":\"rgb(36,36,36)\",\"ticks\":\"outside\"},\"type\":\"mesh3d\"}],\"parcoords\":[{\"line\":{\"colorbar\":{\"outlinewidth\":1,\"tickcolor\":\"rgb(36,36,36)\",\"ticks\":\"outside\"}},\"type\":\"parcoords\"}],\"pie\":[{\"automargin\":true,\"type\":\"pie\"}],\"scatter3d\":[{\"line\":{\"colorbar\":{\"outlinewidth\":1,\"tickcolor\":\"rgb(36,36,36)\",\"ticks\":\"outside\"}},\"marker\":{\"colorbar\":{\"outlinewidth\":1,\"tickcolor\":\"rgb(36,36,36)\",\"ticks\":\"outside\"}},\"type\":\"scatter3d\"}],\"scattercarpet\":[{\"marker\":{\"colorbar\":{\"outlinewidth\":1,\"tickcolor\":\"rgb(36,36,36)\",\"ticks\":\"outside\"}},\"type\":\"scattercarpet\"}],\"scattergeo\":[{\"marker\":{\"colorbar\":{\"outlinewidth\":1,\"tickcolor\":\"rgb(36,36,36)\",\"ticks\":\"outside\"}},\"type\":\"scattergeo\"}],\"scattergl\":[{\"marker\":{\"colorbar\":{\"outlinewidth\":1,\"tickcolor\":\"rgb(36,36,36)\",\"ticks\":\"outside\"}},\"type\":\"scattergl\"}],\"scattermapbox\":[{\"marker\":{\"colorbar\":{\"outlinewidth\":1,\"tickcolor\":\"rgb(36,36,36)\",\"ticks\":\"outside\"}},\"type\":\"scattermapbox\"}],\"scatterpolargl\":[{\"marker\":{\"colorbar\":{\"outlinewidth\":1,\"tickcolor\":\"rgb(36,36,36)\",\"ticks\":\"outside\"}},\"type\":\"scatterpolargl\"}],\"scatterpolar\":[{\"marker\":{\"colorbar\":{\"outlinewidth\":1,\"tickcolor\":\"rgb(36,36,36)\",\"ticks\":\"outside\"}},\"type\":\"scatterpolar\"}],\"scatter\":[{\"marker\":{\"colorbar\":{\"outlinewidth\":1,\"tickcolor\":\"rgb(36,36,36)\",\"ticks\":\"outside\"}},\"type\":\"scatter\"}],\"scatterternary\":[{\"marker\":{\"colorbar\":{\"outlinewidth\":1,\"tickcolor\":\"rgb(36,36,36)\",\"ticks\":\"outside\"}},\"type\":\"scatterternary\"}],\"surface\":[{\"colorbar\":{\"outlinewidth\":1,\"tickcolor\":\"rgb(36,36,36)\",\"ticks\":\"outside\"},\"colorscale\":[[0.0,\"#440154\"],[0.1111111111111111,\"#482878\"],[0.2222222222222222,\"#3e4989\"],[0.3333333333333333,\"#31688e\"],[0.4444444444444444,\"#26828e\"],[0.5555555555555556,\"#1f9e89\"],[0.6666666666666666,\"#35b779\"],[0.7777777777777778,\"#6ece58\"],[0.8888888888888888,\"#b5de2b\"],[1.0,\"#fde725\"]],\"type\":\"surface\"}],\"table\":[{\"cells\":{\"fill\":{\"color\":\"rgb(237,237,237)\"},\"line\":{\"color\":\"white\"}},\"header\":{\"fill\":{\"color\":\"rgb(217,217,217)\"},\"line\":{\"color\":\"white\"}},\"type\":\"table\"}]},\"layout\":{\"annotationdefaults\":{\"arrowhead\":0,\"arrowwidth\":1},\"autotypenumbers\":\"strict\",\"coloraxis\":{\"colorbar\":{\"outlinewidth\":1,\"tickcolor\":\"rgb(36,36,36)\",\"ticks\":\"outside\"}},\"colorscale\":{\"diverging\":[[0.0,\"rgb(103,0,31)\"],[0.1,\"rgb(178,24,43)\"],[0.2,\"rgb(214,96,77)\"],[0.3,\"rgb(244,165,130)\"],[0.4,\"rgb(253,219,199)\"],[0.5,\"rgb(247,247,247)\"],[0.6,\"rgb(209,229,240)\"],[0.7,\"rgb(146,197,222)\"],[0.8,\"rgb(67,147,195)\"],[0.9,\"rgb(33,102,172)\"],[1.0,\"rgb(5,48,97)\"]],\"sequential\":[[0.0,\"#440154\"],[0.1111111111111111,\"#482878\"],[0.2222222222222222,\"#3e4989\"],[0.3333333333333333,\"#31688e\"],[0.4444444444444444,\"#26828e\"],[0.5555555555555556,\"#1f9e89\"],[0.6666666666666666,\"#35b779\"],[0.7777777777777778,\"#6ece58\"],[0.8888888888888888,\"#b5de2b\"],[1.0,\"#fde725\"]],\"sequentialminus\":[[0.0,\"#440154\"],[0.1111111111111111,\"#482878\"],[0.2222222222222222,\"#3e4989\"],[0.3333333333333333,\"#31688e\"],[0.4444444444444444,\"#26828e\"],[0.5555555555555556,\"#1f9e89\"],[0.6666666666666666,\"#35b779\"],[0.7777777777777778,\"#6ece58\"],[0.8888888888888888,\"#b5de2b\"],[1.0,\"#fde725\"]]},\"colorway\":[\"#1F77B4\",\"#FF7F0E\",\"#2CA02C\",\"#D62728\",\"#9467BD\",\"#8C564B\",\"#E377C2\",\"#7F7F7F\",\"#BCBD22\",\"#17BECF\"],\"font\":{\"color\":\"rgb(36,36,36)\"},\"geo\":{\"bgcolor\":\"white\",\"lakecolor\":\"white\",\"landcolor\":\"white\",\"showlakes\":true,\"showland\":true,\"subunitcolor\":\"white\"},\"hoverlabel\":{\"align\":\"left\"},\"hovermode\":\"closest\",\"mapbox\":{\"style\":\"light\"},\"paper_bgcolor\":\"white\",\"plot_bgcolor\":\"white\",\"polar\":{\"angularaxis\":{\"gridcolor\":\"rgb(232,232,232)\",\"linecolor\":\"rgb(36,36,36)\",\"showgrid\":false,\"showline\":true,\"ticks\":\"outside\"},\"bgcolor\":\"white\",\"radialaxis\":{\"gridcolor\":\"rgb(232,232,232)\",\"linecolor\":\"rgb(36,36,36)\",\"showgrid\":false,\"showline\":true,\"ticks\":\"outside\"}},\"scene\":{\"xaxis\":{\"backgroundcolor\":\"white\",\"gridcolor\":\"rgb(232,232,232)\",\"gridwidth\":2,\"linecolor\":\"rgb(36,36,36)\",\"showbackground\":true,\"showgrid\":false,\"showline\":true,\"ticks\":\"outside\",\"zeroline\":false,\"zerolinecolor\":\"rgb(36,36,36)\"},\"yaxis\":{\"backgroundcolor\":\"white\",\"gridcolor\":\"rgb(232,232,232)\",\"gridwidth\":2,\"linecolor\":\"rgb(36,36,36)\",\"showbackground\":true,\"showgrid\":false,\"showline\":true,\"ticks\":\"outside\",\"zeroline\":false,\"zerolinecolor\":\"rgb(36,36,36)\"},\"zaxis\":{\"backgroundcolor\":\"white\",\"gridcolor\":\"rgb(232,232,232)\",\"gridwidth\":2,\"linecolor\":\"rgb(36,36,36)\",\"showbackground\":true,\"showgrid\":false,\"showline\":true,\"ticks\":\"outside\",\"zeroline\":false,\"zerolinecolor\":\"rgb(36,36,36)\"}},\"shapedefaults\":{\"fillcolor\":\"black\",\"line\":{\"width\":0},\"opacity\":0.3},\"ternary\":{\"aaxis\":{\"gridcolor\":\"rgb(232,232,232)\",\"linecolor\":\"rgb(36,36,36)\",\"showgrid\":false,\"showline\":true,\"ticks\":\"outside\"},\"baxis\":{\"gridcolor\":\"rgb(232,232,232)\",\"linecolor\":\"rgb(36,36,36)\",\"showgrid\":false,\"showline\":true,\"ticks\":\"outside\"},\"bgcolor\":\"white\",\"caxis\":{\"gridcolor\":\"rgb(232,232,232)\",\"linecolor\":\"rgb(36,36,36)\",\"showgrid\":false,\"showline\":true,\"ticks\":\"outside\"}},\"title\":{\"x\":0.05},\"xaxis\":{\"automargin\":true,\"gridcolor\":\"rgb(232,232,232)\",\"linecolor\":\"rgb(36,36,36)\",\"showgrid\":false,\"showline\":true,\"ticks\":\"outside\",\"title\":{\"standoff\":15},\"zeroline\":false,\"zerolinecolor\":\"rgb(36,36,36)\"},\"yaxis\":{\"automargin\":true,\"gridcolor\":\"rgb(232,232,232)\",\"linecolor\":\"rgb(36,36,36)\",\"showgrid\":false,\"showline\":true,\"ticks\":\"outside\",\"title\":{\"standoff\":15},\"zeroline\":false,\"zerolinecolor\":\"rgb(36,36,36)\"}}},\"xaxis\":{\"anchor\":\"y\",\"domain\":[0.0,1.0],\"title\":{\"text\":\"\"},\"visible\":false,\"range\":[9.958419704437256,15.177713108062743]},\"yaxis\":{\"anchor\":\"x\",\"domain\":[0.0,1.0],\"title\":{\"text\":\"\"},\"visible\":false,\"range\":[8.76499433517456,13.353813695907593]},\"legend\":{\"tracegroupgap\":0,\"itemsizing\":\"constant\"},\"margin\":{\"t\":60},\"title\":{\"font\":{\"size\":22,\"color\":\"Black\"},\"text\":\"<b>Intertopic Distance Map\",\"y\":0.95,\"x\":0.5,\"xanchor\":\"center\",\"yanchor\":\"top\"},\"hoverlabel\":{\"font\":{\"size\":16,\"family\":\"Rockwell\"},\"bgcolor\":\"white\"},\"width\":650,\"height\":650,\"sliders\":[{\"active\":0,\"pad\":{\"t\":50},\"steps\":[{\"args\":[{\"marker.color\":[[\"red\",\"#B0BEC5\",\"#B0BEC5\",\"#B0BEC5\"]]}],\"label\":\"Topic 0\",\"method\":\"update\"},{\"args\":[{\"marker.color\":[[\"#B0BEC5\",\"red\",\"#B0BEC5\",\"#B0BEC5\"]]}],\"label\":\"Topic 1\",\"method\":\"update\"},{\"args\":[{\"marker.color\":[[\"#B0BEC5\",\"#B0BEC5\",\"red\",\"#B0BEC5\"]]}],\"label\":\"Topic 2\",\"method\":\"update\"},{\"args\":[{\"marker.color\":[[\"#B0BEC5\",\"#B0BEC5\",\"#B0BEC5\",\"red\"]]}],\"label\":\"Topic 3\",\"method\":\"update\"}]}],\"shapes\":[{\"line\":{\"color\":\"#CFD8DC\",\"width\":2},\"type\":\"line\",\"x0\":12.56806640625,\"x1\":12.56806640625,\"y0\":8.76499433517456,\"y1\":13.353813695907593},{\"line\":{\"color\":\"#9E9E9E\",\"width\":2},\"type\":\"line\",\"x0\":9.958419704437256,\"x1\":15.177713108062743,\"y0\":11.059404015541077,\"y1\":11.059404015541077}],\"annotations\":[{\"showarrow\":false,\"text\":\"D1\",\"x\":9.958419704437256,\"y\":11.059404015541077,\"yshift\":10},{\"showarrow\":false,\"text\":\"D2\",\"x\":12.56806640625,\"xshift\":10,\"y\":13.353813695907593}]},                        {\"responsive\": true}                    ).then(function(){\n",
              "                            \n",
              "var gd = document.getElementById('2a1cd907-4336-4f58-be69-d65741087810');\n",
              "var x = new MutationObserver(function (mutations, observer) {{\n",
              "        var display = window.getComputedStyle(gd).display;\n",
              "        if (!display || display === 'none') {{\n",
              "            console.log([gd, 'removed!']);\n",
              "            Plotly.purge(gd);\n",
              "            observer.disconnect();\n",
              "        }}\n",
              "}});\n",
              "\n",
              "// Listen for the removal of the full notebook cells\n",
              "var notebookContainer = gd.closest('#notebook-container');\n",
              "if (notebookContainer) {{\n",
              "    x.observe(notebookContainer, {childList: true});\n",
              "}}\n",
              "\n",
              "// Listen for the clearing of the current output cell\n",
              "var outputEl = gd.closest('.output');\n",
              "if (outputEl) {{\n",
              "    x.observe(outputEl, {childList: true});\n",
              "}}\n",
              "\n",
              "                        })                };                            </script>        </div>\n",
              "</body>\n",
              "</html>"
            ]
          },
          "metadata": {}
        }
      ]
    },
    {
      "cell_type": "code",
      "source": [
        "\n"
      ],
      "metadata": {
        "id": "Z1g_jbI508CV"
      },
      "execution_count": null,
      "outputs": []
    },
    {
      "cell_type": "code",
      "source": [
        ""
      ],
      "metadata": {
        "id": "kY03I-Ud4t8d"
      },
      "execution_count": null,
      "outputs": []
    },
    {
      "cell_type": "markdown",
      "source": [
        "# CISCO DATA"
      ],
      "metadata": {
        "id": "2ooIJNWr4uhe"
      }
    },
    {
      "cell_type": "code",
      "source": [
        "with open(\"/content/cisco_transcripts.txt\",\"r\") as f:\n",
        "  string = f.read().split(\"\\n\")\n",
        "  clean_string = []\n",
        "  for s in string:\n",
        "    if s.isspace() or s == \"\":\n",
        "      pass\n",
        "    else:\n",
        "      clean_string.append(s)\n",
        "\n",
        "cols = [\"name\",\"position\"]\n",
        "name_df = pd.read_csv(\"/content/cisco_names.txt\",sep=\"\\t\",names=cols)\n",
        "\n",
        "chat_list = []\n",
        "temp_name = \"\"\n",
        "temp_dict = {}\n",
        "user_names = list(name_df.name)+[\"Operator\"]\n",
        "for i in clean_string:\n",
        "  if i in user_names and i!=\"\":\n",
        "    temp_name = i\n",
        "    if i not in temp_dict:  \n",
        "      temp_dict[i]= []\n",
        "  else:\n",
        "    if len(i)>15:\n",
        "      temp_dict[temp_name].append(i)"
      ],
      "metadata": {
        "id": "spBmQAd-4zSo"
      },
      "execution_count": 65,
      "outputs": []
    },
    {
      "cell_type": "code",
      "source": [
        "temp_dict[\"Chuck Robbins\"]"
      ],
      "metadata": {
        "id": "7aYyY8E96deA",
        "colab": {
          "base_uri": "https://localhost:8080/"
        },
        "outputId": "a787445e-2f93-434d-f75c-e3548fff87f9"
      },
      "execution_count": 74,
      "outputs": [
        {
          "output_type": "execute_result",
          "data": {
            "text/plain": [
              "['Thanks, Marilyn, and good afternoon, everyone. When we spoke with you back in February, we entered Q3 in the second half of our fiscal year with optimism despite the supply and component challenges and other headwinds impacting us and many of our peers. Many of those factors that fueled that optimism remain unchanged today.',\n",
              " 'We continue to see strong demand resulting in record backlog, our business transformation is progressing well and our differentiated innovation across our portfolio is helping our customers embrace and adopt the multiple technology transitions happening.',\n",
              " 'However, there were two unanticipated events since our last earnings call, which impacted our Q3 revenue performance.',\n",
              " 'The first is the war in Ukraine. This resulted in us ceasing operations in Russia and Belarus and had a corresponding revenue impact, which Scott will discuss.',\n",
              " 'The second relates to COVID related lockdowns in China, which began in late March. These lockdowns resulted in an even more severe shortage of certain critical components. This in turn prevented us from shipping products to customers at the levels we originally anticipated heading into Q3.',\n",
              " 'Our Q4 guidance incorporates a wider than usual range, taking into account the revenue impact of the war in Ukraine and the continuing uncertainty related to the China COVID lockdowns.',\n",
              " \"Given this uncertainty, we're being practical about the current environment and erring on the side of caution in terms of our outlook, taking it one quarter at a time. We believe that our revenue performance in the upcoming quarters is less dependent on demand and more dependent on the supply availability in this increasingly complex environment.\",\n",
              " \"While certain aspects of the current situation are largely out of our control, our teams have been working on several mitigation actions to help alleviate many of the component issues that we've been facing. We believe that we will begin to see the benefits of these actions in the first half of next fiscal year.\",\n",
              " 'Now let me talk more specifically about our third quarter performance.',\n",
              " \"As I just mentioned, many of the positives we've discussed over the past few quarters remain, resulting in continued solid demand for our solutions. Total product orders grew 8% year-over-year leading to yet another record backlog of well over $15 billion, up 10% sequentially and up 130% year-over-year. This momentum reaffirms the critical role we play in our customers' futures.\",\n",
              " 'Our business transformation also progressed nicely. In Q3, we saw ARR growth of 11%, ending the quarter at over $22 billion, and product ARR growth of 18%.',\n",
              " 'We also exited the quarter with over $30 billion in remaining performance obligations or RPO.',\n",
              " 'We also delivered non-GAAP EPS at the high end of our guidance range. This was driven by effective pricing actions and spending discipline, all of which allowed us to offset lower volumes and deliver both gross and operating margins above the high end of our guidance range and deliver on our bottom-line profitability target for the quarter. I want to reiterate what I said earlier. The fundamental drivers across our business are strong.',\n",
              " \"While we are facing some short-term challenges, it does not change our long-term outlook, our alignment to our customers' most critical challenges or our belief in the tremendous opportunities in front of us. Last week, we hosted our Global Customer Advisory Board meeting where we met with close to 100 customers. And they consistently shared that technology is at the heart of their strategy and has become even more important to everything they do. This driving not just their strategies, but also their overall business transformation. The technology they're adopting from Cisco is driving their business agility, allowing them to move with greater speed and empowering them to deliver differentiated experiences for their customers.\",\n",
              " \"Now I'd like to touch on some highlights from the quarter.\",\n",
              " 'We continue to see strong demand in several areas of our business.',\n",
              " \"Our web-scale business remains strong as we continue to help these customers build their capabilities to connect and serve their customers and end users at scale from the data center to the edge. This is leading to continued strength in orders, which grew over 50% and on a trailing four-quarter basis, we had over 100% growth. This marks our ninth consecutive quarter of solid demand as we are winning new franchises, expanding our design wins and taking share in web scale. I remain incredibly proud of the progress we've made in the momentum we have in this space.\",\n",
              " \"We are also extremely pleased with the traction of our 400 gig solutions, including the Cisco 8,000, which is the fastest growing SP routing platform in Cisco's history.\",\n",
              " 'In addition, our Silicon One portfolio, ZR and ZR plus optics and our Acacia portfolio of optical networking products also continue to perform well. From a product revenue perspective, our performance was led by solid demand across a majority of our portfolio, including switching, SP routing, wireless, security and SD WAN.',\n",
              " 'Our performance in these areas reflecting ongoing investments that our customers are making to rapidly digitize their organizations to deliver differentiated experiences.',\n",
              " \"Looking forward, the shift to hybrid cloud, 5G, 400 gig, IoT, hybrid work and the explosion of applications are driving the increased need for next generation networking, connectivity, security, and observability solutions. Cisco is well positioned to deliver for our customers with our end-to-end platforms and solutions. I'm also very proud of our pace of innovation.\",\n",
              " 'During the quarter, Cisco announced new innovations across our networking and cloud portfolios along with technologies to enhance experiences and hybrid work environments.',\n",
              " 'We also introduced our new predictive networks to help organizations learn, predict and avoid network disruptions.',\n",
              " \"We have even more innovation, which we'll announce at RSA and our own Cisco Live event in June.\",\n",
              " 'In addition to our deep passion for innovation, all of us at Cisco believe we have a unique opportunity to help make the world a better place through both the technology we build and the purpose we rally around to power an inclusive future for all. I believe this intersection of technology and purpose is why we were named the number one Best Company to Work For in the U.S. by Fortune and Great Place to Work for the second year in a row. In summary, while the quarter clearly did not play out as expected, demand remains solid and the fundamentals of our business are strong. We remain focused on executing against the strategy we laid out at our Investor Day.',\n",
              " \"We will also continue to be resolute in our focus to transform our business for more predictability and agility while bringing to market a robust pipeline of innovation. We remain confident in our long-term growth and the opportunities that we have in front of us. I want to thank our teams around the world for all that they do, executing with dedication, focus and excellence in an incredibly dynamic environment. They continue to focus on our customers with unparalleled innovation, resiliency and determination. And with that, I'll now turn the call over to Scott.\",\n",
              " 'Yes, Meta. Thank you.',\n",
              " \"So on the demand issue, I'd point out a few things. Number one, without a 2-percentage point of orders that we de-booked relative to Russia and Belarus, we grew 10% against a year ago growth of 10%.\",\n",
              " 'So we feel good about that.',\n",
              " \"Our customers are not signaling any real shift at this point. We're not hearing that from them. Again, we had our global customer advisory board just a couple of weeks ago where we had 100 of our biggest customers and they were all talking about projects in the strategic nature of everything they're trying to accomplish. The last thing I would point out is on the enterprise side, last quarter we grew 37%.\",\n",
              " 'Just to keep in mind the way we define enterprise is a finite list of named customers.',\n",
              " 'So it tends to be more lumpy. If I look at how the industry defines enterprise, that would reflect a combination of our enterprise and our commercial business.',\n",
              " \"So for comparisons to what we're hearing in the marketplace, I thought we would give you that combined number.\",\n",
              " 'If you combine enterprise and commercial together, we grew 9%, but without the Russia impact, we actually grew 12% and on a trailing 12 months basis it grew 28%.',\n",
              " \"So we are still comfortable with the demand signals that we're seeing and our customers aren't telling us anything differently right now.\",\n",
              " \"Great, thanks. I'll pass it on.\",\n",
              " \"Yes. Samik, it's a great question.\",\n",
              " 'So let me start with just the basic answer is there is no reflection of demand issue in our Q4 guide, that has nothing to do with the Q4 guide.',\n",
              " 'Let me try to describe how we got to that.',\n",
              " \"I think it's important for everybody to understand. When we look at our Q3 results, we had -- from a revenue perspective, we had $200 million impact from us ceasing operations in Russia and corresponding revenue write-downs that occurred. Those were one-time. We then had, if you recall, our quarter ends at the end of April. Most of what you've heard from others, they are quarters into the end of March.\",\n",
              " \"So we experienced an entire quarter of the China lockdowns. In Shanghai, it was from March 27 until today. Shenzhen shut down, but again it opened up a week later, so we're talking really about the Shanghai situation.\",\n",
              " \"So we had $200 million from Russia and then we had $300 million that was completely attributed to our inability to get power supplies out of China. That's the simplicity of what caused the problem.\",\n",
              " \"As an example, we had 11,000 PCB assemblies built, we couldn't get power supplies for because of the lockdown. That's a simple fact of what happened in Q3. When we look at Q4 and you think about the Shanghai lockdown and what we've heard because in Shanghai, there are lots of components that go into our power supplies.\",\n",
              " \"So we're not able to get those components. Shanghai now is saying they're going to open up June 1. We don't know exactly what that means and what that means to win that implies that we would start getting any supply out. And correspondingly we believe when they open up and when they do allow transportation logistics to start up, we believe there is going to be a high degree of congestion. We believe that there is going to be lots of competition for ports capacity, airport capacity. And we just believe that that combined with the inbound efforts, trying to get raw materials back into the country, et cetera, we just believe that it's going to be impossible for us to catch up on this issue in Q4, which is what led to the guidance in Q4.\",\n",
              " \"So even though these top line numbers don't look good, it's very simple explanation as to what occurred.\",\n",
              " 'So then the follow-on part of your question is, when do we think this gets better. Well, if we make the assumption that China does begin to open up and we do begin to get more natural flow of the power supplies.',\n",
              " 'We also have had our teams over the last six to nine months have been working on a lot of mitigating actions, redesigning 100 products, over 100 products to give us component diversity, we believe that a combination of those starting in our Q1 and in the first half of our year will start to see the benefit of that.',\n",
              " \"So, that's when we expect to see it improve to some extent. We need to get through the next 90 days, but I'm just being as transparent as I can about what we see and when we think some of that improvement will occur.\",\n",
              " 'Yes, Ittai, thank you. Both good questions.',\n",
              " \"I think on the first one, I think that the biggest differentiation was April. I have spoken to peers who are feeling the same thing we are that we are reporting the full month of impact and it wasn't April issue for us.\",\n",
              " 'So now on a normalized basis for that question across the portfolio, all of us design products with different components in.',\n",
              " \"So there is opportunity for us to have a unique issue with one component that we may have designed into a product or we may have an unique advantage because we designed a certain component into a product. And those are the areas where I talked about we're redesigning where we have unique problems or just problems in general, though others may have the same problems.\",\n",
              " \"So we think that the exposure in general was because of the month of April. Also we do massive volumes. And in general, you would think that's a huge advantage, but just to put it in perspective, we shipped more revenue in the last week of our quarter than many of our competitors that you're referencing shipped in their entire quarter.\",\n",
              " \"So it's just an issue that it shows up in a bigger number for us than it would. If they have the same problem, it might be a $20 million impact for us, it might be a $200 million -- $400 million impact.\",\n",
              " \"So that's the first one.\",\n",
              " 'The second one what I would say is that we are constantly evaluating our global supply chain.',\n",
              " \"And so it's not about one country, it's about resilience. And the way we've designed supply chains over the last 15-20 years as an industry, I think we all realize we're evolving that now at the same time that we're triaging all of the current issues that we have.\",\n",
              " 'So our teams have a dual challenge. But we are constantly driving geographic resilience. The example I would give is that we -- before COVID we had regional redundancy built in, we did not have a plan for a country to shut down.',\n",
              " 'And so it takes time to go out and create that geographic resilience, but our teams are working on all of those kinds of things right now, so they will continue to do that any time.',\n",
              " 'Yes. It absolutely does, Simon.',\n",
              " \"Let me start and then I'll kick it to Scott to talk a little bit about it.\",\n",
              " 'So, first and foremost, we are incredibly active purchasers in the broker market. And you can imagine, with our buying power, they call us first.',\n",
              " 'And so -- no, that has nothing to do with it.',\n",
              " \"In fact, we've spent a lot of time with our supply chain team who had given us examples of where they've bought product in the broker market recently.\",\n",
              " \"So I don't think that's it. But Scott can explain what did happen there.\",\n",
              " \"First, I'll let Scott add on the price increase in a moment, but first of all, the price increase really did not have significant impact on our growth. We only passthrough pricing at the time that was offsetting our incremental cost. And to be honest, we've incurred more cost since then.\",\n",
              " \"So we were at a place right now where we have not even passed through all the costs that we have incurred. We're getting price increases all the time now.\",\n",
              " \"So that's the first answer.\",\n",
              " 'On the second one, the easiest thing for me to tell you is what I said earlier that the way our peers view and report and the industry views and reports enterprise would be the combination of our enterprise and commercial business which last quarter would have grown 9% and would have grown 12% without -- or it grew 9%, but would have been 12% without Russia.',\n",
              " \"So if you think about the size of that those two businesses combined growing 9%, I'm pretty comfortable that the demand is still there. And if you look at our commercial business, which usually is the leading indicator of a shift of demand momentum, they grew 19% in the quarter.\",\n",
              " \"So I'm not concerned.\",\n",
              " \"I got you Rod and you're actually thinking about the right way.\",\n",
              " \"You think about exactly the way I'm thinking about it.\",\n",
              " \"So first thing I'll say is that I think any seasonality right now is out the window with the current situation and with what we've seen with the order demand. We were doing 18-month planning with certain customers. And if they placed 18 months' worth of orders last quarter and now they're going to pause and we may be doing it with three fewer customers this quarter.\",\n",
              " \"So I mean it's just -- it's a very difficult thing to get your head around.\",\n",
              " \"So there's two things that I look at. Number one, what is our quarterly growth rate vis-a-vis a year ago to see because I think about momentum of demand from one quarter to the next sort of -- you have to look at that delta, right. Because if you grow 30% on 1% and then you grew 30% on 15%, then that would be declining demand momentum. That's the way I think about the math, right.\",\n",
              " \"So that's one thing we watch for. But the second thing is I think to your point I've been talking to the team about it, when we start comparing against these 30% quarters, I think we have to go back two years and get a real assessment because those numbers we know had pull ahead in. We don't know how much as we've talked about, but I think you're right.\",\n",
              " \"We have to sort of doing analysis from two years back to really feel like what do we really seeing right now and that's -- it's going to be a difficult thing for us to navigate because the historical way we've looked at these metrics just won't apply right now. And I think once we cycle through a year, another four quarters of the stuff, maybe we get to normalized -- a normalized view.\",\n",
              " \"As I've said, we're going to go through a phase where our order demand growth will be lagging our revenue growth and then hopefully we'll get to a point where those two will get back into more of a predictive model and we just got to get there.\",\n",
              " 'I think COVID changed everything about how our customers think about technology.',\n",
              " \"I think that pre-COVID a lot of customers when they went to slow spending, they would stop spending on technology. And I think COVID had them feel the impact of those decisions. And they're not -- they're going to be very prudent about stopping key projects that are giving them customer differentiation capabilities or modernization of their infrastructure or supporting hybrid work or making sure they're not falling behind their competitors. I mean, it's just a different day to day relative to what CEOs, the public sector leaders, how they think about technology and the importance of it. Even though they thought it, it was really important three years ago, their understanding of today is much different.\",\n",
              " \"And so I'm not saying they won't make those decisions. I just think there is a higher bar for them to make those decisions.\",\n",
              " 'You want to take it, Scott?',\n",
              " \"Hi, Paul. Thanks. Yes, we had -- in Q3, it was very simple for us to articulate it because we know exactly what we were expecting and everything else. We don't have the ability in Q4 to understand when they're really going to open up and how much we're going to get, et cetera, which caused us to create the range we did. And just -- we're just being realistic about what we believe we'll be able to get out the door, but to actually peg it to power supplies, in particular, is pretty difficult. But I mean most of the issues that we see right now, the concerning area right now is really getting that open -- getting China opened up again, getting the stuff shipping and we need to see that.\",\n",
              " 'So Scott, you want to add something?',\n",
              " \"Q3 was right in line with normal pattern. And I think Paul, the thing to remember is, yes, we're a little skewed because we had three quarters of 30%. If we went back a year and a half and I said we're going to grow 10% product orders on top of a 10% quarter from a year ago, we would have been quite happy with it. We're just worried about it because it's fallen 330s when there was a lot of planned purchase built into.\",\n",
              " \"So we will tell you. Obviously next quarter we'll have an update, but right now, it doesn't feel like there's any significant shift.\",\n",
              " \"Paul, that's fine. But we never have any commentary about future bookings expectations.\",\n",
              " 'On the RPO that we talked about, you got the number right, $16.2 billion of short-term RPO, which is up 9%.',\n",
              " \"And so short term by definition means that accretes into the revenue stream in the next 12 months. That growing by 9% is a pretty good leading indicator of at least what that piece of -- how that piece of our business looks as we go into Q4 and then we'll give you an update on how short-term RPO growth looks at the end of Q4 and you can get a sense of it in the end of fiscal '23.\",\n",
              " 'You want to take it, Scott?',\n",
              " 'Yes, I mean with the backlog.',\n",
              " 'So a couple of things.',\n",
              " \"I think what you may be trying to get out on the backlog question is the durability of that backlog. And there is -- this is something that obviously we've been tracking very closely. What I'd say on order cancellations is they continue to run at a rate that is actually below where it was pre-pandemic.\",\n",
              " \"So we're not seeing any cancellations there.\",\n",
              " 'We continue to see very strong pipeline and pipeline build, which is something else that I think you would expect to see weaken if there was softening demand.',\n",
              " \"As we look at kind of further out with what's sitting in the backlog, we've also put in place a policy change that says those orders are non-cancelable with all orders are non-cancelable within 45 days of the committed ship date. That just went into place in the beginning of February.\",\n",
              " \"So orders that we've received since then within 45 days of shipment are non-cancelable. And for our biggest customers, we've been working with them on a bespoke basis to put in place agreements where we will guarantee supply, but they guarantee that those orders will not be rescheduled or canceled.\",\n",
              " \"So feel good about the durability of the backlog we've got.\",\n",
              " 'So, Tim, on the first one -- thanks for the questions, by the way.',\n",
              " \"On the first one, I think that as we see if we see reductions in our input costs over time, then we will take into consideration whether we pass those through to the customers. The reality is as we've taken on so many input costs increases that we haven't passed onto customers that will look at it holistically at the time where that stuff begins to occur is what I would tell you. I'm glad you asked on the software growth because I think it's something that we want to explain.\",\n",
              " \"So it's a little difficult to understand completely and we have a really interesting quarter because the extra week a year ago in the Russia situation and the supply chain situation.\",\n",
              " \"So let me try to take you through what's going on in software.\",\n",
              " 'If you start with the fact that we have well over $2 billion of software in backlog that is connected to a piece of hardware that we will not begin recognizing the revenue until the hardware ships.',\n",
              " \"So -- and that's up $1 billion year-over-year.\",\n",
              " \"So there is a large component of software that we're not recognizing right now that we would in normal times.\",\n",
              " \"So it's the first piece. And then if you take into consideration the extra week from a year ago where we do ratable recognition of revenue on a daily basis, we had an extra week. And then you take the software that we wrote down -- software revenue that we wrote down as a result of ceasing operations in Russia.\",\n",
              " \"So those three -- the first one is hard to put a number on, but assume it's reasonable. The Russia and the extra quarter was a 5-point headwind to our software growth.\",\n",
              " \"So I know it's a little complicated, but I wanted to make sure you understood that.\",\n",
              " \"So I would expect this stuff to normalize back particularly without the Russia and the extra week impact. And then when supply chain starts to clear, then we'll start to see those normalized growth rates that we would expect, so hopefully that wasn't too complicated.\",\n",
              " \"Yes. The renewal stuff in '23, it could be helpful.\",\n",
              " \"We are continuing to make progress on that across the portfolio. I mean, we've got subscriptions running on switching on routing, enterprise routing, on enterprise wireless. We've even built some subscriptions into our mass scale infrastructure group. We've got subscriptions now in our data center networking group.\",\n",
              " \"So they'll sort layering in over the next few years.\",\n",
              " 'So first of all I think market share is incredibly difficult thing to assess right now because of the backlog situation, supply chain situations and we have a complex portfolio.',\n",
              " \"So are we losing share in somewhere? I suspect there is somewhere that we are losing share. But in our core markets, I actually feel really good about how we're performing and the demand that we've seen in whether it's WiFi or switching or particularly in SP routing and in the web scale space and other areas.\",\n",
              " \"So I don't think there is a widespread problem of share, but I'm sure there are pockets that we -- our teams are working on improving.\",\n",
              " \"So that's the first piece. Amit, on the China thing, let me -- what we've built into the guide is just a whole lot of uncertainty right now. Because we recognize that when they do open up, first of all, we don't know what that means. We don't know what open up means. Does it mean that they're going to slowly open grocery stores and salons and things of that nature and that the logistics side of it or do they open up the logistics all day one? What does it mean about the capacity of resources they have for the logistics side? But our concern is that every company there is going to be trying to ship out? In some cases, many of the factories have been approved to keep working and their workers have been working in dormitories.\",\n",
              " \"So they have components or ready to ship product that is sitting on the floor and it's all going to raise for the ports. It's all going to compete for the airports. And we know there's lower air traffic capacity right now for us to leverage.\",\n",
              " \"So we're concerned about how long it takes to clear that up, which is reflected in the guide.\",\n",
              " 'We also think that once it gets into their ports and it starts coming in the U.S., we have the risk of seeing what we saw in LA several months ago.',\n",
              " \"So those are all just the unknowns about what does opening up look like and what's the timeframe for recovery that led us to the cautious guide that we put out there. And I would just remind you that it's not just Shanghai.\",\n",
              " 'I think as of the last article I read, there were like 45 cities that were in lockdown and it was over a quarter of the population of China.',\n",
              " \"So it's broader. But that's how we're thinking about it and we just have to wait and see how it unwinds.\",\n",
              " 'Thanks, Marilyn.',\n",
              " \"So first of all, I want to thank everybody for spending time with us and diving into this the complex situation that we face. It's clearly a dynamic and challenging environment. We clearly faced unanticipated events during Q3 with the COVID lockdowns and the war in Ukraine. We think the short-term challenges that we will manage through, our teams have been working really hard on these mitigation actions that we believe will begin to benefit us in the first half of our next fiscal year, which is good. We're successfully realizing price increases, which is good. And also in Q3, even though we had a miss on the top line, I just want to point out that it was a record EPS quarter for us as a company. And at the low point of our guidance for Q4, we will deliver record EPS for the full year.\",\n",
              " \"So while the topline is disappointing, we have navigated this complex year and actually will deliver solid EPS when we're done. The fundamentals are strong a lot, still in our favor. Demand, business transformation is working, the technology transitions and the number that we're participating in.\",\n",
              " 'We have great teams around the world and that leads me to have a high degree of confidence despite the short-term challenges that we face.',\n",
              " 'So thank you all for spending time with us and we look forward to connecting with you next quarter.']"
            ]
          },
          "metadata": {},
          "execution_count": 74
        }
      ]
    },
    {
      "cell_type": "code",
      "source": [
        "seed_topic_list = [[\"covid\", \"war\", \"supply\", \"impact\"],[\"revenue\",\"margins\",\"customer\",\"growth\"]]"
      ],
      "metadata": {
        "id": "StLq_CA-zQQW"
      },
      "execution_count": null,
      "outputs": []
    },
    {
      "cell_type": "code",
      "source": [
        "roberta = TransformerDocumentEmbeddings('roberta-base')\n",
        "#vectorizer_model=vectorizer_model\n",
        "vectorizer_model = CountVectorizer( stop_words=\"english\",token_pattern='[a-zA-Z0-9]{3,}' )\n",
        "topic_model = BERTopic(embedding_model=roberta,vectorizer_model=vectorizer_model,top_n_words = 10,n_gram_range =(1,2))"
      ],
      "metadata": {
        "id": "MrNyRF3-7cA4"
      },
      "execution_count": 114,
      "outputs": []
    },
    {
      "cell_type": "code",
      "source": [
        "custom_data = temp_dict[\"Chuck Robbins\"] + temp_dict[\"Marilyn Mora\"] + temp_dict[\"Scott Herren\"]"
      ],
      "metadata": {
        "id": "cCirmyPo8XKo"
      },
      "execution_count": 115,
      "outputs": []
    },
    {
      "cell_type": "code",
      "source": [
        "topics_custom, probs_custom = topic_model.fit_transform(custom_data)"
      ],
      "metadata": {
        "id": "vUNwzxA989BJ"
      },
      "execution_count": null,
      "outputs": []
    },
    {
      "cell_type": "code",
      "source": [
        "topic_model.get_topic_info()"
      ],
      "metadata": {
        "id": "5WT9o2l-9A-9"
      },
      "execution_count": null,
      "outputs": []
    },
    {
      "cell_type": "code",
      "source": [
        "topic_model.get_topic(1)"
      ],
      "metadata": {
        "colab": {
          "base_uri": "https://localhost:8080/"
        },
        "id": "nUP3rsV8-7BW",
        "outputId": "45d6b78a-5ab1-44f9-85d4-97aba67d9c75"
      },
      "execution_count": 106,
      "outputs": [
        {
          "output_type": "execute_result",
          "data": {
            "text/plain": [
              "[('think', 0.08215372138435002),\n",
              " ('quarter', 0.06532005488801017),\n",
              " ('just', 0.056484580204199185),\n",
              " ('going', 0.0538721894902766),\n",
              " ('right', 0.05065302586477297),\n",
              " ('open', 0.03954792845346211),\n",
              " ('yes', 0.03781366790955741),\n",
              " ('know', 0.03460443739677935),\n",
              " ('talked', 0.03460443739677935),\n",
              " ('time', 0.03315211660940098),\n",
              " ('don', 0.033095476932844155),\n",
              " ('way', 0.03244235900426712),\n",
              " ('day', 0.0312845901308908),\n",
              " ('growth', 0.03123575270135289),\n",
              " ('revenue', 0.030486132991395062)]"
            ]
          },
          "metadata": {},
          "execution_count": 106
        }
      ]
    },
    {
      "cell_type": "code",
      "source": [
        "topic_model.visualize_barchart()"
      ],
      "metadata": {
        "colab": {
          "base_uri": "https://localhost:8080/",
          "height": 537
        },
        "id": "QcL1Bn1s9Fgy",
        "outputId": "3c6bd58f-1cc2-4fdb-c06a-699c1830f8c2"
      },
      "execution_count": 113,
      "outputs": [
        {
          "output_type": "display_data",
          "data": {
            "text/html": [
              "<html>\n",
              "<head><meta charset=\"utf-8\" /></head>\n",
              "<body>\n",
              "    <div>            <script src=\"https://cdnjs.cloudflare.com/ajax/libs/mathjax/2.7.5/MathJax.js?config=TeX-AMS-MML_SVG\"></script><script type=\"text/javascript\">if (window.MathJax) {MathJax.Hub.Config({SVG: {font: \"STIX-Web\"}});}</script>                <script type=\"text/javascript\">window.PlotlyConfig = {MathJaxConfig: 'local'};</script>\n",
              "        <script src=\"https://cdn.plot.ly/plotly-2.8.3.min.js\"></script>                <div id=\"3b543fdc-dbc6-46ab-afab-e0f02413eed6\" class=\"plotly-graph-div\" style=\"height:500px; width:1000px;\"></div>            <script type=\"text/javascript\">                                    window.PLOTLYENV=window.PLOTLYENV || {};                                    if (document.getElementById(\"3b543fdc-dbc6-46ab-afab-e0f02413eed6\")) {                    Plotly.newPlot(                        \"3b543fdc-dbc6-46ab-afab-e0f02413eed6\",                        [{\"marker\":{\"color\":\"#D55E00\"},\"orientation\":\"h\",\"x\":[0.04510218802417789,0.04828176682531001,0.04974815295211276,0.056683367234122456,0.07175861633243541],\"y\":[\"right  \",\"going  \",\"just  \",\"quarter  \",\"think  \"],\"type\":\"bar\",\"xaxis\":\"x\",\"yaxis\":\"y\"},{\"marker\":{\"color\":\"#0072B2\"},\"orientation\":\"h\",\"x\":[0.09908288055363583,0.10366798122652693,0.14176601219795254,0.1772075152474407,0.20755910064473068],\"y\":[\"way  \",\"scott  \",\"let  \",\"thanks  \",\"yes  \"],\"type\":\"bar\",\"xaxis\":\"x2\",\"yaxis\":\"y2\"},{\"marker\":{\"color\":\"#CC79A7\"},\"orientation\":\"h\",\"x\":[0.048260373614095534,0.04944253306761635,0.05103535091333044,0.05510447851083119,0.06157461102188262],\"y\":[\"growth  \",\"revenue  \",\"total  \",\"billion  \",\"year  \"],\"type\":\"bar\",\"xaxis\":\"x3\",\"yaxis\":\"y3\"},{\"marker\":{\"color\":\"#E69F00\"},\"orientation\":\"h\",\"x\":[0.06912453854661593,0.07666034300614608,0.08029345009090395,0.08488649739683644,0.08488649739683644],\"y\":[\"covid  \",\"lockdowns  \",\"continue  \",\"hardware  \",\"levels  \"],\"type\":\"bar\",\"xaxis\":\"x4\",\"yaxis\":\"y4\"},{\"marker\":{\"color\":\"#56B4E9\"},\"orientation\":\"h\",\"x\":[0.07561854901570393,0.07976902822763382,0.08529403133789802,0.0918362691135365,0.12124724727456467],\"y\":[\"impact  \",\"seeing  \",\"russia  \",\"problem  \",\"million  \"],\"type\":\"bar\",\"xaxis\":\"x5\",\"yaxis\":\"y5\"}],                        {\"template\":{\"data\":{\"barpolar\":[{\"marker\":{\"line\":{\"color\":\"white\",\"width\":0.5},\"pattern\":{\"fillmode\":\"overlay\",\"size\":10,\"solidity\":0.2}},\"type\":\"barpolar\"}],\"bar\":[{\"error_x\":{\"color\":\"#2a3f5f\"},\"error_y\":{\"color\":\"#2a3f5f\"},\"marker\":{\"line\":{\"color\":\"white\",\"width\":0.5},\"pattern\":{\"fillmode\":\"overlay\",\"size\":10,\"solidity\":0.2}},\"type\":\"bar\"}],\"carpet\":[{\"aaxis\":{\"endlinecolor\":\"#2a3f5f\",\"gridcolor\":\"#C8D4E3\",\"linecolor\":\"#C8D4E3\",\"minorgridcolor\":\"#C8D4E3\",\"startlinecolor\":\"#2a3f5f\"},\"baxis\":{\"endlinecolor\":\"#2a3f5f\",\"gridcolor\":\"#C8D4E3\",\"linecolor\":\"#C8D4E3\",\"minorgridcolor\":\"#C8D4E3\",\"startlinecolor\":\"#2a3f5f\"},\"type\":\"carpet\"}],\"choropleth\":[{\"colorbar\":{\"outlinewidth\":0,\"ticks\":\"\"},\"type\":\"choropleth\"}],\"contourcarpet\":[{\"colorbar\":{\"outlinewidth\":0,\"ticks\":\"\"},\"type\":\"contourcarpet\"}],\"contour\":[{\"colorbar\":{\"outlinewidth\":0,\"ticks\":\"\"},\"colorscale\":[[0.0,\"#0d0887\"],[0.1111111111111111,\"#46039f\"],[0.2222222222222222,\"#7201a8\"],[0.3333333333333333,\"#9c179e\"],[0.4444444444444444,\"#bd3786\"],[0.5555555555555556,\"#d8576b\"],[0.6666666666666666,\"#ed7953\"],[0.7777777777777778,\"#fb9f3a\"],[0.8888888888888888,\"#fdca26\"],[1.0,\"#f0f921\"]],\"type\":\"contour\"}],\"heatmapgl\":[{\"colorbar\":{\"outlinewidth\":0,\"ticks\":\"\"},\"colorscale\":[[0.0,\"#0d0887\"],[0.1111111111111111,\"#46039f\"],[0.2222222222222222,\"#7201a8\"],[0.3333333333333333,\"#9c179e\"],[0.4444444444444444,\"#bd3786\"],[0.5555555555555556,\"#d8576b\"],[0.6666666666666666,\"#ed7953\"],[0.7777777777777778,\"#fb9f3a\"],[0.8888888888888888,\"#fdca26\"],[1.0,\"#f0f921\"]],\"type\":\"heatmapgl\"}],\"heatmap\":[{\"colorbar\":{\"outlinewidth\":0,\"ticks\":\"\"},\"colorscale\":[[0.0,\"#0d0887\"],[0.1111111111111111,\"#46039f\"],[0.2222222222222222,\"#7201a8\"],[0.3333333333333333,\"#9c179e\"],[0.4444444444444444,\"#bd3786\"],[0.5555555555555556,\"#d8576b\"],[0.6666666666666666,\"#ed7953\"],[0.7777777777777778,\"#fb9f3a\"],[0.8888888888888888,\"#fdca26\"],[1.0,\"#f0f921\"]],\"type\":\"heatmap\"}],\"histogram2dcontour\":[{\"colorbar\":{\"outlinewidth\":0,\"ticks\":\"\"},\"colorscale\":[[0.0,\"#0d0887\"],[0.1111111111111111,\"#46039f\"],[0.2222222222222222,\"#7201a8\"],[0.3333333333333333,\"#9c179e\"],[0.4444444444444444,\"#bd3786\"],[0.5555555555555556,\"#d8576b\"],[0.6666666666666666,\"#ed7953\"],[0.7777777777777778,\"#fb9f3a\"],[0.8888888888888888,\"#fdca26\"],[1.0,\"#f0f921\"]],\"type\":\"histogram2dcontour\"}],\"histogram2d\":[{\"colorbar\":{\"outlinewidth\":0,\"ticks\":\"\"},\"colorscale\":[[0.0,\"#0d0887\"],[0.1111111111111111,\"#46039f\"],[0.2222222222222222,\"#7201a8\"],[0.3333333333333333,\"#9c179e\"],[0.4444444444444444,\"#bd3786\"],[0.5555555555555556,\"#d8576b\"],[0.6666666666666666,\"#ed7953\"],[0.7777777777777778,\"#fb9f3a\"],[0.8888888888888888,\"#fdca26\"],[1.0,\"#f0f921\"]],\"type\":\"histogram2d\"}],\"histogram\":[{\"marker\":{\"pattern\":{\"fillmode\":\"overlay\",\"size\":10,\"solidity\":0.2}},\"type\":\"histogram\"}],\"mesh3d\":[{\"colorbar\":{\"outlinewidth\":0,\"ticks\":\"\"},\"type\":\"mesh3d\"}],\"parcoords\":[{\"line\":{\"colorbar\":{\"outlinewidth\":0,\"ticks\":\"\"}},\"type\":\"parcoords\"}],\"pie\":[{\"automargin\":true,\"type\":\"pie\"}],\"scatter3d\":[{\"line\":{\"colorbar\":{\"outlinewidth\":0,\"ticks\":\"\"}},\"marker\":{\"colorbar\":{\"outlinewidth\":0,\"ticks\":\"\"}},\"type\":\"scatter3d\"}],\"scattercarpet\":[{\"marker\":{\"colorbar\":{\"outlinewidth\":0,\"ticks\":\"\"}},\"type\":\"scattercarpet\"}],\"scattergeo\":[{\"marker\":{\"colorbar\":{\"outlinewidth\":0,\"ticks\":\"\"}},\"type\":\"scattergeo\"}],\"scattergl\":[{\"marker\":{\"colorbar\":{\"outlinewidth\":0,\"ticks\":\"\"}},\"type\":\"scattergl\"}],\"scattermapbox\":[{\"marker\":{\"colorbar\":{\"outlinewidth\":0,\"ticks\":\"\"}},\"type\":\"scattermapbox\"}],\"scatterpolargl\":[{\"marker\":{\"colorbar\":{\"outlinewidth\":0,\"ticks\":\"\"}},\"type\":\"scatterpolargl\"}],\"scatterpolar\":[{\"marker\":{\"colorbar\":{\"outlinewidth\":0,\"ticks\":\"\"}},\"type\":\"scatterpolar\"}],\"scatter\":[{\"marker\":{\"colorbar\":{\"outlinewidth\":0,\"ticks\":\"\"}},\"type\":\"scatter\"}],\"scatterternary\":[{\"marker\":{\"colorbar\":{\"outlinewidth\":0,\"ticks\":\"\"}},\"type\":\"scatterternary\"}],\"surface\":[{\"colorbar\":{\"outlinewidth\":0,\"ticks\":\"\"},\"colorscale\":[[0.0,\"#0d0887\"],[0.1111111111111111,\"#46039f\"],[0.2222222222222222,\"#7201a8\"],[0.3333333333333333,\"#9c179e\"],[0.4444444444444444,\"#bd3786\"],[0.5555555555555556,\"#d8576b\"],[0.6666666666666666,\"#ed7953\"],[0.7777777777777778,\"#fb9f3a\"],[0.8888888888888888,\"#fdca26\"],[1.0,\"#f0f921\"]],\"type\":\"surface\"}],\"table\":[{\"cells\":{\"fill\":{\"color\":\"#EBF0F8\"},\"line\":{\"color\":\"white\"}},\"header\":{\"fill\":{\"color\":\"#C8D4E3\"},\"line\":{\"color\":\"white\"}},\"type\":\"table\"}]},\"layout\":{\"annotationdefaults\":{\"arrowcolor\":\"#2a3f5f\",\"arrowhead\":0,\"arrowwidth\":1},\"autotypenumbers\":\"strict\",\"coloraxis\":{\"colorbar\":{\"outlinewidth\":0,\"ticks\":\"\"}},\"colorscale\":{\"diverging\":[[0,\"#8e0152\"],[0.1,\"#c51b7d\"],[0.2,\"#de77ae\"],[0.3,\"#f1b6da\"],[0.4,\"#fde0ef\"],[0.5,\"#f7f7f7\"],[0.6,\"#e6f5d0\"],[0.7,\"#b8e186\"],[0.8,\"#7fbc41\"],[0.9,\"#4d9221\"],[1,\"#276419\"]],\"sequential\":[[0.0,\"#0d0887\"],[0.1111111111111111,\"#46039f\"],[0.2222222222222222,\"#7201a8\"],[0.3333333333333333,\"#9c179e\"],[0.4444444444444444,\"#bd3786\"],[0.5555555555555556,\"#d8576b\"],[0.6666666666666666,\"#ed7953\"],[0.7777777777777778,\"#fb9f3a\"],[0.8888888888888888,\"#fdca26\"],[1.0,\"#f0f921\"]],\"sequentialminus\":[[0.0,\"#0d0887\"],[0.1111111111111111,\"#46039f\"],[0.2222222222222222,\"#7201a8\"],[0.3333333333333333,\"#9c179e\"],[0.4444444444444444,\"#bd3786\"],[0.5555555555555556,\"#d8576b\"],[0.6666666666666666,\"#ed7953\"],[0.7777777777777778,\"#fb9f3a\"],[0.8888888888888888,\"#fdca26\"],[1.0,\"#f0f921\"]]},\"colorway\":[\"#636efa\",\"#EF553B\",\"#00cc96\",\"#ab63fa\",\"#FFA15A\",\"#19d3f3\",\"#FF6692\",\"#B6E880\",\"#FF97FF\",\"#FECB52\"],\"font\":{\"color\":\"#2a3f5f\"},\"geo\":{\"bgcolor\":\"white\",\"lakecolor\":\"white\",\"landcolor\":\"white\",\"showlakes\":true,\"showland\":true,\"subunitcolor\":\"#C8D4E3\"},\"hoverlabel\":{\"align\":\"left\"},\"hovermode\":\"closest\",\"mapbox\":{\"style\":\"light\"},\"paper_bgcolor\":\"white\",\"plot_bgcolor\":\"white\",\"polar\":{\"angularaxis\":{\"gridcolor\":\"#EBF0F8\",\"linecolor\":\"#EBF0F8\",\"ticks\":\"\"},\"bgcolor\":\"white\",\"radialaxis\":{\"gridcolor\":\"#EBF0F8\",\"linecolor\":\"#EBF0F8\",\"ticks\":\"\"}},\"scene\":{\"xaxis\":{\"backgroundcolor\":\"white\",\"gridcolor\":\"#DFE8F3\",\"gridwidth\":2,\"linecolor\":\"#EBF0F8\",\"showbackground\":true,\"ticks\":\"\",\"zerolinecolor\":\"#EBF0F8\"},\"yaxis\":{\"backgroundcolor\":\"white\",\"gridcolor\":\"#DFE8F3\",\"gridwidth\":2,\"linecolor\":\"#EBF0F8\",\"showbackground\":true,\"ticks\":\"\",\"zerolinecolor\":\"#EBF0F8\"},\"zaxis\":{\"backgroundcolor\":\"white\",\"gridcolor\":\"#DFE8F3\",\"gridwidth\":2,\"linecolor\":\"#EBF0F8\",\"showbackground\":true,\"ticks\":\"\",\"zerolinecolor\":\"#EBF0F8\"}},\"shapedefaults\":{\"line\":{\"color\":\"#2a3f5f\"}},\"ternary\":{\"aaxis\":{\"gridcolor\":\"#DFE8F3\",\"linecolor\":\"#A2B1C6\",\"ticks\":\"\"},\"baxis\":{\"gridcolor\":\"#DFE8F3\",\"linecolor\":\"#A2B1C6\",\"ticks\":\"\"},\"bgcolor\":\"white\",\"caxis\":{\"gridcolor\":\"#DFE8F3\",\"linecolor\":\"#A2B1C6\",\"ticks\":\"\"}},\"title\":{\"x\":0.05},\"xaxis\":{\"automargin\":true,\"gridcolor\":\"#EBF0F8\",\"linecolor\":\"#EBF0F8\",\"ticks\":\"\",\"title\":{\"standoff\":15},\"zerolinecolor\":\"#EBF0F8\",\"zerolinewidth\":2},\"yaxis\":{\"automargin\":true,\"gridcolor\":\"#EBF0F8\",\"linecolor\":\"#EBF0F8\",\"ticks\":\"\",\"title\":{\"standoff\":15},\"zerolinecolor\":\"#EBF0F8\",\"zerolinewidth\":2}}},\"xaxis\":{\"anchor\":\"y\",\"domain\":[0.0,0.175],\"showgrid\":true},\"yaxis\":{\"anchor\":\"x\",\"domain\":[0.6000000000000001,1.0],\"showgrid\":true},\"xaxis2\":{\"anchor\":\"y2\",\"domain\":[0.275,0.45],\"showgrid\":true},\"yaxis2\":{\"anchor\":\"x2\",\"domain\":[0.6000000000000001,1.0],\"showgrid\":true},\"xaxis3\":{\"anchor\":\"y3\",\"domain\":[0.55,0.7250000000000001],\"showgrid\":true},\"yaxis3\":{\"anchor\":\"x3\",\"domain\":[0.6000000000000001,1.0],\"showgrid\":true},\"xaxis4\":{\"anchor\":\"y4\",\"domain\":[0.825,1.0],\"showgrid\":true},\"yaxis4\":{\"anchor\":\"x4\",\"domain\":[0.6000000000000001,1.0],\"showgrid\":true},\"xaxis5\":{\"anchor\":\"y5\",\"domain\":[0.0,0.175],\"showgrid\":true},\"yaxis5\":{\"anchor\":\"x5\",\"domain\":[0.0,0.4],\"showgrid\":true},\"xaxis6\":{\"anchor\":\"y6\",\"domain\":[0.275,0.45],\"showgrid\":true},\"yaxis6\":{\"anchor\":\"x6\",\"domain\":[0.0,0.4],\"showgrid\":true},\"xaxis7\":{\"anchor\":\"y7\",\"domain\":[0.55,0.7250000000000001],\"showgrid\":true},\"yaxis7\":{\"anchor\":\"x7\",\"domain\":[0.0,0.4],\"showgrid\":true},\"xaxis8\":{\"anchor\":\"y8\",\"domain\":[0.825,1.0],\"showgrid\":true},\"yaxis8\":{\"anchor\":\"x8\",\"domain\":[0.0,0.4],\"showgrid\":true},\"annotations\":[{\"font\":{\"size\":16},\"showarrow\":false,\"text\":\"Topic 0\",\"x\":0.0875,\"xanchor\":\"center\",\"xref\":\"paper\",\"y\":1.0,\"yanchor\":\"bottom\",\"yref\":\"paper\"},{\"font\":{\"size\":16},\"showarrow\":false,\"text\":\"Topic 1\",\"x\":0.36250000000000004,\"xanchor\":\"center\",\"xref\":\"paper\",\"y\":1.0,\"yanchor\":\"bottom\",\"yref\":\"paper\"},{\"font\":{\"size\":16},\"showarrow\":false,\"text\":\"Topic 2\",\"x\":0.6375000000000001,\"xanchor\":\"center\",\"xref\":\"paper\",\"y\":1.0,\"yanchor\":\"bottom\",\"yref\":\"paper\"},{\"font\":{\"size\":16},\"showarrow\":false,\"text\":\"Topic 3\",\"x\":0.9125,\"xanchor\":\"center\",\"xref\":\"paper\",\"y\":1.0,\"yanchor\":\"bottom\",\"yref\":\"paper\"},{\"font\":{\"size\":16},\"showarrow\":false,\"text\":\"Topic 4\",\"x\":0.0875,\"xanchor\":\"center\",\"xref\":\"paper\",\"y\":0.4,\"yanchor\":\"bottom\",\"yref\":\"paper\"}],\"title\":{\"font\":{\"size\":22,\"color\":\"Black\"},\"text\":\"<b>Topic Word Scores\",\"x\":0.5,\"xanchor\":\"center\",\"yanchor\":\"top\"},\"hoverlabel\":{\"font\":{\"size\":16,\"family\":\"Rockwell\"},\"bgcolor\":\"white\"},\"showlegend\":false,\"width\":1000,\"height\":500},                        {\"responsive\": true}                    ).then(function(){\n",
              "                            \n",
              "var gd = document.getElementById('3b543fdc-dbc6-46ab-afab-e0f02413eed6');\n",
              "var x = new MutationObserver(function (mutations, observer) {{\n",
              "        var display = window.getComputedStyle(gd).display;\n",
              "        if (!display || display === 'none') {{\n",
              "            console.log([gd, 'removed!']);\n",
              "            Plotly.purge(gd);\n",
              "            observer.disconnect();\n",
              "        }}\n",
              "}});\n",
              "\n",
              "// Listen for the removal of the full notebook cells\n",
              "var notebookContainer = gd.closest('#notebook-container');\n",
              "if (notebookContainer) {{\n",
              "    x.observe(notebookContainer, {childList: true});\n",
              "}}\n",
              "\n",
              "// Listen for the clearing of the current output cell\n",
              "var outputEl = gd.closest('.output');\n",
              "if (outputEl) {{\n",
              "    x.observe(outputEl, {childList: true});\n",
              "}}\n",
              "\n",
              "                        })                };                            </script>        </div>\n",
              "</body>\n",
              "</html>"
            ]
          },
          "metadata": {}
        }
      ]
    },
    {
      "cell_type": "code",
      "source": [
        "topic_model.visualize_topics()"
      ],
      "metadata": {
        "colab": {
          "base_uri": "https://localhost:8080/",
          "height": 397
        },
        "id": "e_gnTK--PVP6",
        "outputId": "82a1d889-b7a2-407c-b4a8-cccdabaef586"
      },
      "execution_count": 108,
      "outputs": [
        {
          "output_type": "stream",
          "name": "stderr",
          "text": [
            "/usr/local/lib/python3.7/dist-packages/scipy/sparse/linalg/eigen/arpack/arpack.py:1595: RuntimeWarning:\n",
            "\n",
            "k >= N for N * N square matrix. Attempting to use scipy.linalg.eigh instead.\n",
            "\n"
          ]
        },
        {
          "output_type": "error",
          "ename": "TypeError",
          "evalue": "ignored",
          "traceback": [
            "\u001b[0;31m---------------------------------------------------------------------------\u001b[0m",
            "\u001b[0;31mTypeError\u001b[0m                                 Traceback (most recent call last)",
            "\u001b[0;32m<ipython-input-108-91cc4b963168>\u001b[0m in \u001b[0;36m<module>\u001b[0;34m()\u001b[0m\n\u001b[0;32m----> 1\u001b[0;31m \u001b[0mtopic_model\u001b[0m\u001b[0;34m.\u001b[0m\u001b[0mvisualize_topics\u001b[0m\u001b[0;34m(\u001b[0m\u001b[0;34m)\u001b[0m\u001b[0;34m\u001b[0m\u001b[0;34m\u001b[0m\u001b[0m\n\u001b[0m",
            "\u001b[0;32m/usr/local/lib/python3.7/dist-packages/bertopic/_bertopic.py\u001b[0m in \u001b[0;36mvisualize_topics\u001b[0;34m(self, topics, top_n_topics, width, height)\u001b[0m\n\u001b[1;32m   1340\u001b[0m                                          \u001b[0mtop_n_topics\u001b[0m\u001b[0;34m=\u001b[0m\u001b[0mtop_n_topics\u001b[0m\u001b[0;34m,\u001b[0m\u001b[0;34m\u001b[0m\u001b[0;34m\u001b[0m\u001b[0m\n\u001b[1;32m   1341\u001b[0m                                          \u001b[0mwidth\u001b[0m\u001b[0;34m=\u001b[0m\u001b[0mwidth\u001b[0m\u001b[0;34m,\u001b[0m\u001b[0;34m\u001b[0m\u001b[0;34m\u001b[0m\u001b[0m\n\u001b[0;32m-> 1342\u001b[0;31m                                          height=height)\n\u001b[0m\u001b[1;32m   1343\u001b[0m \u001b[0;34m\u001b[0m\u001b[0m\n\u001b[1;32m   1344\u001b[0m     def visualize_documents(self,\n",
            "\u001b[0;32m/usr/local/lib/python3.7/dist-packages/bertopic/plotting/_topics.py\u001b[0m in \u001b[0;36mvisualize_topics\u001b[0;34m(topic_model, topics, top_n_topics, width, height)\u001b[0m\n\u001b[1;32m     63\u001b[0m     \u001b[0membeddings\u001b[0m \u001b[0;34m=\u001b[0m \u001b[0mtopic_model\u001b[0m\u001b[0;34m.\u001b[0m\u001b[0mc_tf_idf\u001b[0m\u001b[0;34m.\u001b[0m\u001b[0mtoarray\u001b[0m\u001b[0;34m(\u001b[0m\u001b[0;34m)\u001b[0m\u001b[0;34m[\u001b[0m\u001b[0mindices\u001b[0m\u001b[0;34m]\u001b[0m\u001b[0;34m\u001b[0m\u001b[0;34m\u001b[0m\u001b[0m\n\u001b[1;32m     64\u001b[0m     \u001b[0membeddings\u001b[0m \u001b[0;34m=\u001b[0m \u001b[0mMinMaxScaler\u001b[0m\u001b[0;34m(\u001b[0m\u001b[0;34m)\u001b[0m\u001b[0;34m.\u001b[0m\u001b[0mfit_transform\u001b[0m\u001b[0;34m(\u001b[0m\u001b[0membeddings\u001b[0m\u001b[0;34m)\u001b[0m\u001b[0;34m\u001b[0m\u001b[0;34m\u001b[0m\u001b[0m\n\u001b[0;32m---> 65\u001b[0;31m     \u001b[0membeddings\u001b[0m \u001b[0;34m=\u001b[0m \u001b[0mUMAP\u001b[0m\u001b[0;34m(\u001b[0m\u001b[0mn_neighbors\u001b[0m\u001b[0;34m=\u001b[0m\u001b[0;36m2\u001b[0m\u001b[0;34m,\u001b[0m \u001b[0mn_components\u001b[0m\u001b[0;34m=\u001b[0m\u001b[0;36m2\u001b[0m\u001b[0;34m,\u001b[0m \u001b[0mmetric\u001b[0m\u001b[0;34m=\u001b[0m\u001b[0;34m'hellinger'\u001b[0m\u001b[0;34m)\u001b[0m\u001b[0;34m.\u001b[0m\u001b[0mfit_transform\u001b[0m\u001b[0;34m(\u001b[0m\u001b[0membeddings\u001b[0m\u001b[0;34m)\u001b[0m\u001b[0;34m\u001b[0m\u001b[0;34m\u001b[0m\u001b[0m\n\u001b[0m\u001b[1;32m     66\u001b[0m \u001b[0;34m\u001b[0m\u001b[0m\n\u001b[1;32m     67\u001b[0m     \u001b[0;31m# Visualize with plotly\u001b[0m\u001b[0;34m\u001b[0m\u001b[0;34m\u001b[0m\u001b[0;34m\u001b[0m\u001b[0m\n",
            "\u001b[0;32m/usr/local/lib/python3.7/dist-packages/umap/umap_.py\u001b[0m in \u001b[0;36mfit_transform\u001b[0;34m(self, X, y)\u001b[0m\n\u001b[1;32m   2770\u001b[0m             \u001b[0mLocal\u001b[0m \u001b[0mradii\u001b[0m \u001b[0mof\u001b[0m \u001b[0mdata\u001b[0m \u001b[0mpoints\u001b[0m \u001b[0;32min\u001b[0m \u001b[0mthe\u001b[0m \u001b[0membedding\u001b[0m \u001b[0;34m(\u001b[0m\u001b[0mlog\u001b[0m\u001b[0;34m-\u001b[0m\u001b[0mtransformed\u001b[0m\u001b[0;34m)\u001b[0m\u001b[0;34m.\u001b[0m\u001b[0;34m\u001b[0m\u001b[0;34m\u001b[0m\u001b[0m\n\u001b[1;32m   2771\u001b[0m         \"\"\"\n\u001b[0;32m-> 2772\u001b[0;31m         \u001b[0mself\u001b[0m\u001b[0;34m.\u001b[0m\u001b[0mfit\u001b[0m\u001b[0;34m(\u001b[0m\u001b[0mX\u001b[0m\u001b[0;34m,\u001b[0m \u001b[0my\u001b[0m\u001b[0;34m)\u001b[0m\u001b[0;34m\u001b[0m\u001b[0;34m\u001b[0m\u001b[0m\n\u001b[0m\u001b[1;32m   2773\u001b[0m         \u001b[0;32mif\u001b[0m \u001b[0mself\u001b[0m\u001b[0;34m.\u001b[0m\u001b[0mtransform_mode\u001b[0m \u001b[0;34m==\u001b[0m \u001b[0;34m\"embedding\"\u001b[0m\u001b[0;34m:\u001b[0m\u001b[0;34m\u001b[0m\u001b[0;34m\u001b[0m\u001b[0m\n\u001b[1;32m   2774\u001b[0m             \u001b[0;32mif\u001b[0m \u001b[0mself\u001b[0m\u001b[0;34m.\u001b[0m\u001b[0moutput_dens\u001b[0m\u001b[0;34m:\u001b[0m\u001b[0;34m\u001b[0m\u001b[0;34m\u001b[0m\u001b[0m\n",
            "\u001b[0;32m/usr/local/lib/python3.7/dist-packages/umap/umap_.py\u001b[0m in \u001b[0;36mfit\u001b[0;34m(self, X, y)\u001b[0m\n\u001b[1;32m   2686\u001b[0m                 \u001b[0mself\u001b[0m\u001b[0;34m.\u001b[0m\u001b[0mn_epochs\u001b[0m\u001b[0;34m,\u001b[0m\u001b[0;34m\u001b[0m\u001b[0;34m\u001b[0m\u001b[0m\n\u001b[1;32m   2687\u001b[0m                 \u001b[0minit\u001b[0m\u001b[0;34m,\u001b[0m\u001b[0;34m\u001b[0m\u001b[0;34m\u001b[0m\u001b[0m\n\u001b[0;32m-> 2688\u001b[0;31m                 \u001b[0mrandom_state\u001b[0m\u001b[0;34m,\u001b[0m  \u001b[0;31m# JH why raw data?\u001b[0m\u001b[0;34m\u001b[0m\u001b[0;34m\u001b[0m\u001b[0m\n\u001b[0m\u001b[1;32m   2689\u001b[0m             )\n\u001b[1;32m   2690\u001b[0m             \u001b[0;31m# Assign any points that are fully disconnected from our manifold(s) to have embedding\u001b[0m\u001b[0;34m\u001b[0m\u001b[0;34m\u001b[0m\u001b[0;34m\u001b[0m\u001b[0m\n",
            "\u001b[0;32m/usr/local/lib/python3.7/dist-packages/umap/umap_.py\u001b[0m in \u001b[0;36m_fit_embed_data\u001b[0;34m(self, X, n_epochs, init, random_state)\u001b[0m\n\u001b[1;32m   2737\u001b[0m             \u001b[0mself\u001b[0m\u001b[0;34m.\u001b[0m\u001b[0mrandom_state\u001b[0m \u001b[0;32mis\u001b[0m \u001b[0;32mNone\u001b[0m\u001b[0;34m,\u001b[0m\u001b[0;34m\u001b[0m\u001b[0;34m\u001b[0m\u001b[0m\n\u001b[1;32m   2738\u001b[0m             \u001b[0mself\u001b[0m\u001b[0;34m.\u001b[0m\u001b[0mverbose\u001b[0m\u001b[0;34m,\u001b[0m\u001b[0;34m\u001b[0m\u001b[0;34m\u001b[0m\u001b[0m\n\u001b[0;32m-> 2739\u001b[0;31m             \u001b[0mtqdm_kwds\u001b[0m\u001b[0;34m=\u001b[0m\u001b[0mself\u001b[0m\u001b[0;34m.\u001b[0m\u001b[0mtqdm_kwds\u001b[0m\u001b[0;34m,\u001b[0m\u001b[0;34m\u001b[0m\u001b[0;34m\u001b[0m\u001b[0m\n\u001b[0m\u001b[1;32m   2740\u001b[0m         )\n\u001b[1;32m   2741\u001b[0m \u001b[0;34m\u001b[0m\u001b[0m\n",
            "\u001b[0;32m/usr/local/lib/python3.7/dist-packages/umap/umap_.py\u001b[0m in \u001b[0;36msimplicial_set_embedding\u001b[0;34m(data, graph, n_components, initial_alpha, a, b, gamma, negative_sample_rate, n_epochs, init, random_state, metric, metric_kwds, densmap, densmap_kwds, output_dens, output_metric, output_metric_kwds, euclidean_output, parallel, verbose, tqdm_kwds)\u001b[0m\n\u001b[1;32m   1082\u001b[0m             \u001b[0mrandom_state\u001b[0m\u001b[0;34m,\u001b[0m\u001b[0;34m\u001b[0m\u001b[0;34m\u001b[0m\u001b[0m\n\u001b[1;32m   1083\u001b[0m             \u001b[0mmetric\u001b[0m\u001b[0;34m=\u001b[0m\u001b[0mmetric\u001b[0m\u001b[0;34m,\u001b[0m\u001b[0;34m\u001b[0m\u001b[0;34m\u001b[0m\u001b[0m\n\u001b[0;32m-> 1084\u001b[0;31m             \u001b[0mmetric_kwds\u001b[0m\u001b[0;34m=\u001b[0m\u001b[0mmetric_kwds\u001b[0m\u001b[0;34m,\u001b[0m\u001b[0;34m\u001b[0m\u001b[0;34m\u001b[0m\u001b[0m\n\u001b[0m\u001b[1;32m   1085\u001b[0m         )\n\u001b[1;32m   1086\u001b[0m         \u001b[0mexpansion\u001b[0m \u001b[0;34m=\u001b[0m \u001b[0;36m10.0\u001b[0m \u001b[0;34m/\u001b[0m \u001b[0mnp\u001b[0m\u001b[0;34m.\u001b[0m\u001b[0mabs\u001b[0m\u001b[0;34m(\u001b[0m\u001b[0minitialisation\u001b[0m\u001b[0;34m)\u001b[0m\u001b[0;34m.\u001b[0m\u001b[0mmax\u001b[0m\u001b[0;34m(\u001b[0m\u001b[0;34m)\u001b[0m\u001b[0;34m\u001b[0m\u001b[0;34m\u001b[0m\u001b[0m\n",
            "\u001b[0;32m/usr/local/lib/python3.7/dist-packages/umap/spectral.py\u001b[0m in \u001b[0;36mspectral_layout\u001b[0;34m(data, graph, dim, random_state, metric, metric_kwds)\u001b[0m\n\u001b[1;32m    337\u001b[0m                 \u001b[0mtol\u001b[0m\u001b[0;34m=\u001b[0m\u001b[0;36m1e-4\u001b[0m\u001b[0;34m,\u001b[0m\u001b[0;34m\u001b[0m\u001b[0;34m\u001b[0m\u001b[0m\n\u001b[1;32m    338\u001b[0m                 \u001b[0mv0\u001b[0m\u001b[0;34m=\u001b[0m\u001b[0mnp\u001b[0m\u001b[0;34m.\u001b[0m\u001b[0mones\u001b[0m\u001b[0;34m(\u001b[0m\u001b[0mL\u001b[0m\u001b[0;34m.\u001b[0m\u001b[0mshape\u001b[0m\u001b[0;34m[\u001b[0m\u001b[0;36m0\u001b[0m\u001b[0;34m]\u001b[0m\u001b[0;34m)\u001b[0m\u001b[0;34m,\u001b[0m\u001b[0;34m\u001b[0m\u001b[0;34m\u001b[0m\u001b[0m\n\u001b[0;32m--> 339\u001b[0;31m                 \u001b[0mmaxiter\u001b[0m\u001b[0;34m=\u001b[0m\u001b[0mgraph\u001b[0m\u001b[0;34m.\u001b[0m\u001b[0mshape\u001b[0m\u001b[0;34m[\u001b[0m\u001b[0;36m0\u001b[0m\u001b[0;34m]\u001b[0m \u001b[0;34m*\u001b[0m \u001b[0;36m5\u001b[0m\u001b[0;34m,\u001b[0m\u001b[0;34m\u001b[0m\u001b[0;34m\u001b[0m\u001b[0m\n\u001b[0m\u001b[1;32m    340\u001b[0m             )\n\u001b[1;32m    341\u001b[0m         \u001b[0;32melse\u001b[0m\u001b[0;34m:\u001b[0m\u001b[0;34m\u001b[0m\u001b[0;34m\u001b[0m\u001b[0m\n",
            "\u001b[0;32m/usr/local/lib/python3.7/dist-packages/scipy/sparse/linalg/eigen/arpack/arpack.py\u001b[0m in \u001b[0;36meigsh\u001b[0;34m(A, k, M, sigma, which, v0, ncv, maxiter, tol, return_eigenvectors, Minv, OPinv, mode)\u001b[0m\n\u001b[1;32m   1596\u001b[0m \u001b[0;34m\u001b[0m\u001b[0m\n\u001b[1;32m   1597\u001b[0m         \u001b[0;32mif\u001b[0m \u001b[0missparse\u001b[0m\u001b[0;34m(\u001b[0m\u001b[0mA\u001b[0m\u001b[0;34m)\u001b[0m\u001b[0;34m:\u001b[0m\u001b[0;34m\u001b[0m\u001b[0;34m\u001b[0m\u001b[0m\n\u001b[0;32m-> 1598\u001b[0;31m             raise TypeError(\"Cannot use scipy.linalg.eigh for sparse A with \"\n\u001b[0m\u001b[1;32m   1599\u001b[0m                             \u001b[0;34m\"k >= N. Use scipy.linalg.eigh(A.toarray()) or\"\u001b[0m\u001b[0;34m\u001b[0m\u001b[0;34m\u001b[0m\u001b[0m\n\u001b[1;32m   1600\u001b[0m                             \" reduce k.\")\n",
            "\u001b[0;31mTypeError\u001b[0m: Cannot use scipy.linalg.eigh for sparse A with k >= N. Use scipy.linalg.eigh(A.toarray()) or reduce k."
          ]
        }
      ]
    },
    {
      "cell_type": "code",
      "source": [
        ""
      ],
      "metadata": {
        "id": "GCzZOVjCPQKr"
      },
      "execution_count": null,
      "outputs": []
    },
    {
      "cell_type": "code",
      "source": [
        "#usuing finbert\n",
        "\n",
        "finbert = TransformerDocumentEmbeddings('ProsusAI/finbert')\n",
        "#vectorizer_model=vectorizer_model\n",
        "topic_model = BERTopic(embedding_model=finbert,vectorizer_model=vectorizer_model,seed_topic_list=seed_topic_list)"
      ],
      "metadata": {
        "id": "nk7u-l-49JXn"
      },
      "execution_count": null,
      "outputs": []
    },
    {
      "cell_type": "code",
      "source": [
        "topics_custom, probs_custom = topic_model.fit_transform(custom_data)"
      ],
      "metadata": {
        "id": "3YsRFAxn9cVC"
      },
      "execution_count": null,
      "outputs": []
    },
    {
      "cell_type": "code",
      "source": [
        "topic_model.get_topic_info()"
      ],
      "metadata": {
        "colab": {
          "base_uri": "https://localhost:8080/",
          "height": 143
        },
        "id": "mU-yVsFC9iqT",
        "outputId": "ab322335-cfbf-4dbb-a73e-62dc56d9c7d3"
      },
      "execution_count": null,
      "outputs": [
        {
          "output_type": "execute_result",
          "data": {
            "text/plain": [
              "   Topic  Count                             Name\n",
              "0     -1      6  -1_revenue_total_growth_product\n",
              "1      0    122     0_think_quarter_just_revenue\n",
              "2      1     42    1_year_growth_business_demand"
            ],
            "text/html": [
              "\n",
              "  <div id=\"df-03b4767a-6602-4d6a-9d7b-e66ff3dd9730\">\n",
              "    <div class=\"colab-df-container\">\n",
              "      <div>\n",
              "<style scoped>\n",
              "    .dataframe tbody tr th:only-of-type {\n",
              "        vertical-align: middle;\n",
              "    }\n",
              "\n",
              "    .dataframe tbody tr th {\n",
              "        vertical-align: top;\n",
              "    }\n",
              "\n",
              "    .dataframe thead th {\n",
              "        text-align: right;\n",
              "    }\n",
              "</style>\n",
              "<table border=\"1\" class=\"dataframe\">\n",
              "  <thead>\n",
              "    <tr style=\"text-align: right;\">\n",
              "      <th></th>\n",
              "      <th>Topic</th>\n",
              "      <th>Count</th>\n",
              "      <th>Name</th>\n",
              "    </tr>\n",
              "  </thead>\n",
              "  <tbody>\n",
              "    <tr>\n",
              "      <th>0</th>\n",
              "      <td>-1</td>\n",
              "      <td>6</td>\n",
              "      <td>-1_revenue_total_growth_product</td>\n",
              "    </tr>\n",
              "    <tr>\n",
              "      <th>1</th>\n",
              "      <td>0</td>\n",
              "      <td>122</td>\n",
              "      <td>0_think_quarter_just_revenue</td>\n",
              "    </tr>\n",
              "    <tr>\n",
              "      <th>2</th>\n",
              "      <td>1</td>\n",
              "      <td>42</td>\n",
              "      <td>1_year_growth_business_demand</td>\n",
              "    </tr>\n",
              "  </tbody>\n",
              "</table>\n",
              "</div>\n",
              "      <button class=\"colab-df-convert\" onclick=\"convertToInteractive('df-03b4767a-6602-4d6a-9d7b-e66ff3dd9730')\"\n",
              "              title=\"Convert this dataframe to an interactive table.\"\n",
              "              style=\"display:none;\">\n",
              "        \n",
              "  <svg xmlns=\"http://www.w3.org/2000/svg\" height=\"24px\"viewBox=\"0 0 24 24\"\n",
              "       width=\"24px\">\n",
              "    <path d=\"M0 0h24v24H0V0z\" fill=\"none\"/>\n",
              "    <path d=\"M18.56 5.44l.94 2.06.94-2.06 2.06-.94-2.06-.94-.94-2.06-.94 2.06-2.06.94zm-11 1L8.5 8.5l.94-2.06 2.06-.94-2.06-.94L8.5 2.5l-.94 2.06-2.06.94zm10 10l.94 2.06.94-2.06 2.06-.94-2.06-.94-.94-2.06-.94 2.06-2.06.94z\"/><path d=\"M17.41 7.96l-1.37-1.37c-.4-.4-.92-.59-1.43-.59-.52 0-1.04.2-1.43.59L10.3 9.45l-7.72 7.72c-.78.78-.78 2.05 0 2.83L4 21.41c.39.39.9.59 1.41.59.51 0 1.02-.2 1.41-.59l7.78-7.78 2.81-2.81c.8-.78.8-2.07 0-2.86zM5.41 20L4 18.59l7.72-7.72 1.47 1.35L5.41 20z\"/>\n",
              "  </svg>\n",
              "      </button>\n",
              "      \n",
              "  <style>\n",
              "    .colab-df-container {\n",
              "      display:flex;\n",
              "      flex-wrap:wrap;\n",
              "      gap: 12px;\n",
              "    }\n",
              "\n",
              "    .colab-df-convert {\n",
              "      background-color: #E8F0FE;\n",
              "      border: none;\n",
              "      border-radius: 50%;\n",
              "      cursor: pointer;\n",
              "      display: none;\n",
              "      fill: #1967D2;\n",
              "      height: 32px;\n",
              "      padding: 0 0 0 0;\n",
              "      width: 32px;\n",
              "    }\n",
              "\n",
              "    .colab-df-convert:hover {\n",
              "      background-color: #E2EBFA;\n",
              "      box-shadow: 0px 1px 2px rgba(60, 64, 67, 0.3), 0px 1px 3px 1px rgba(60, 64, 67, 0.15);\n",
              "      fill: #174EA6;\n",
              "    }\n",
              "\n",
              "    [theme=dark] .colab-df-convert {\n",
              "      background-color: #3B4455;\n",
              "      fill: #D2E3FC;\n",
              "    }\n",
              "\n",
              "    [theme=dark] .colab-df-convert:hover {\n",
              "      background-color: #434B5C;\n",
              "      box-shadow: 0px 1px 3px 1px rgba(0, 0, 0, 0.15);\n",
              "      filter: drop-shadow(0px 1px 2px rgba(0, 0, 0, 0.3));\n",
              "      fill: #FFFFFF;\n",
              "    }\n",
              "  </style>\n",
              "\n",
              "      <script>\n",
              "        const buttonEl =\n",
              "          document.querySelector('#df-03b4767a-6602-4d6a-9d7b-e66ff3dd9730 button.colab-df-convert');\n",
              "        buttonEl.style.display =\n",
              "          google.colab.kernel.accessAllowed ? 'block' : 'none';\n",
              "\n",
              "        async function convertToInteractive(key) {\n",
              "          const element = document.querySelector('#df-03b4767a-6602-4d6a-9d7b-e66ff3dd9730');\n",
              "          const dataTable =\n",
              "            await google.colab.kernel.invokeFunction('convertToInteractive',\n",
              "                                                     [key], {});\n",
              "          if (!dataTable) return;\n",
              "\n",
              "          const docLinkHtml = 'Like what you see? Visit the ' +\n",
              "            '<a target=\"_blank\" href=https://colab.research.google.com/notebooks/data_table.ipynb>data table notebook</a>'\n",
              "            + ' to learn more about interactive tables.';\n",
              "          element.innerHTML = '';\n",
              "          dataTable['output_type'] = 'display_data';\n",
              "          await google.colab.output.renderOutput(dataTable, element);\n",
              "          const docLink = document.createElement('div');\n",
              "          docLink.innerHTML = docLinkHtml;\n",
              "          element.appendChild(docLink);\n",
              "        }\n",
              "      </script>\n",
              "    </div>\n",
              "  </div>\n",
              "  "
            ]
          },
          "metadata": {},
          "execution_count": 47
        }
      ]
    },
    {
      "cell_type": "code",
      "source": [
        "topic_model.visualize_barchart()"
      ],
      "metadata": {
        "colab": {
          "base_uri": "https://localhost:8080/",
          "height": 362
        },
        "id": "ZbcKaOA_9k45",
        "outputId": "b73ffe67-7392-44c5-93b3-73867317157e"
      },
      "execution_count": null,
      "outputs": [
        {
          "output_type": "display_data",
          "data": {
            "text/html": [
              "<html>\n",
              "<head><meta charset=\"utf-8\" /></head>\n",
              "<body>\n",
              "    <div>            <script src=\"https://cdnjs.cloudflare.com/ajax/libs/mathjax/2.7.5/MathJax.js?config=TeX-AMS-MML_SVG\"></script><script type=\"text/javascript\">if (window.MathJax) {MathJax.Hub.Config({SVG: {font: \"STIX-Web\"}});}</script>                <script type=\"text/javascript\">window.PlotlyConfig = {MathJaxConfig: 'local'};</script>\n",
              "        <script src=\"https://cdn.plot.ly/plotly-2.8.3.min.js\"></script>                <div id=\"f2f11e11-5953-4ea1-9450-7adc8deac644\" class=\"plotly-graph-div\" style=\"height:325.0px; width:1000px;\"></div>            <script type=\"text/javascript\">                                    window.PLOTLYENV=window.PLOTLYENV || {};                                    if (document.getElementById(\"f2f11e11-5953-4ea1-9450-7adc8deac644\")) {                    Plotly.newPlot(                        \"f2f11e11-5953-4ea1-9450-7adc8deac644\",                        [{\"marker\":{\"color\":\"#D55E00\"},\"orientation\":\"h\",\"x\":[0.04097723258358432,0.04262697934260681,0.043046279746228086,0.04928028964517187,0.05326162771740464],\"y\":[\"ve  \",\"revenue  \",\"just  \",\"quarter  \",\"think  \"],\"type\":\"bar\",\"xaxis\":\"x\",\"yaxis\":\"y\"},{\"marker\":{\"color\":\"#0072B2\"},\"orientation\":\"h\",\"x\":[0.048104583810223214,0.048365331068579015,0.05010845510496939,0.055312897519770025,0.061667484424722856],\"y\":[\"quarter  \",\"demand  \",\"business  \",\"growth  \",\"year  \"],\"type\":\"bar\",\"xaxis\":\"x2\",\"yaxis\":\"y2\"}],                        {\"template\":{\"data\":{\"barpolar\":[{\"marker\":{\"line\":{\"color\":\"white\",\"width\":0.5},\"pattern\":{\"fillmode\":\"overlay\",\"size\":10,\"solidity\":0.2}},\"type\":\"barpolar\"}],\"bar\":[{\"error_x\":{\"color\":\"#2a3f5f\"},\"error_y\":{\"color\":\"#2a3f5f\"},\"marker\":{\"line\":{\"color\":\"white\",\"width\":0.5},\"pattern\":{\"fillmode\":\"overlay\",\"size\":10,\"solidity\":0.2}},\"type\":\"bar\"}],\"carpet\":[{\"aaxis\":{\"endlinecolor\":\"#2a3f5f\",\"gridcolor\":\"#C8D4E3\",\"linecolor\":\"#C8D4E3\",\"minorgridcolor\":\"#C8D4E3\",\"startlinecolor\":\"#2a3f5f\"},\"baxis\":{\"endlinecolor\":\"#2a3f5f\",\"gridcolor\":\"#C8D4E3\",\"linecolor\":\"#C8D4E3\",\"minorgridcolor\":\"#C8D4E3\",\"startlinecolor\":\"#2a3f5f\"},\"type\":\"carpet\"}],\"choropleth\":[{\"colorbar\":{\"outlinewidth\":0,\"ticks\":\"\"},\"type\":\"choropleth\"}],\"contourcarpet\":[{\"colorbar\":{\"outlinewidth\":0,\"ticks\":\"\"},\"type\":\"contourcarpet\"}],\"contour\":[{\"colorbar\":{\"outlinewidth\":0,\"ticks\":\"\"},\"colorscale\":[[0.0,\"#0d0887\"],[0.1111111111111111,\"#46039f\"],[0.2222222222222222,\"#7201a8\"],[0.3333333333333333,\"#9c179e\"],[0.4444444444444444,\"#bd3786\"],[0.5555555555555556,\"#d8576b\"],[0.6666666666666666,\"#ed7953\"],[0.7777777777777778,\"#fb9f3a\"],[0.8888888888888888,\"#fdca26\"],[1.0,\"#f0f921\"]],\"type\":\"contour\"}],\"heatmapgl\":[{\"colorbar\":{\"outlinewidth\":0,\"ticks\":\"\"},\"colorscale\":[[0.0,\"#0d0887\"],[0.1111111111111111,\"#46039f\"],[0.2222222222222222,\"#7201a8\"],[0.3333333333333333,\"#9c179e\"],[0.4444444444444444,\"#bd3786\"],[0.5555555555555556,\"#d8576b\"],[0.6666666666666666,\"#ed7953\"],[0.7777777777777778,\"#fb9f3a\"],[0.8888888888888888,\"#fdca26\"],[1.0,\"#f0f921\"]],\"type\":\"heatmapgl\"}],\"heatmap\":[{\"colorbar\":{\"outlinewidth\":0,\"ticks\":\"\"},\"colorscale\":[[0.0,\"#0d0887\"],[0.1111111111111111,\"#46039f\"],[0.2222222222222222,\"#7201a8\"],[0.3333333333333333,\"#9c179e\"],[0.4444444444444444,\"#bd3786\"],[0.5555555555555556,\"#d8576b\"],[0.6666666666666666,\"#ed7953\"],[0.7777777777777778,\"#fb9f3a\"],[0.8888888888888888,\"#fdca26\"],[1.0,\"#f0f921\"]],\"type\":\"heatmap\"}],\"histogram2dcontour\":[{\"colorbar\":{\"outlinewidth\":0,\"ticks\":\"\"},\"colorscale\":[[0.0,\"#0d0887\"],[0.1111111111111111,\"#46039f\"],[0.2222222222222222,\"#7201a8\"],[0.3333333333333333,\"#9c179e\"],[0.4444444444444444,\"#bd3786\"],[0.5555555555555556,\"#d8576b\"],[0.6666666666666666,\"#ed7953\"],[0.7777777777777778,\"#fb9f3a\"],[0.8888888888888888,\"#fdca26\"],[1.0,\"#f0f921\"]],\"type\":\"histogram2dcontour\"}],\"histogram2d\":[{\"colorbar\":{\"outlinewidth\":0,\"ticks\":\"\"},\"colorscale\":[[0.0,\"#0d0887\"],[0.1111111111111111,\"#46039f\"],[0.2222222222222222,\"#7201a8\"],[0.3333333333333333,\"#9c179e\"],[0.4444444444444444,\"#bd3786\"],[0.5555555555555556,\"#d8576b\"],[0.6666666666666666,\"#ed7953\"],[0.7777777777777778,\"#fb9f3a\"],[0.8888888888888888,\"#fdca26\"],[1.0,\"#f0f921\"]],\"type\":\"histogram2d\"}],\"histogram\":[{\"marker\":{\"pattern\":{\"fillmode\":\"overlay\",\"size\":10,\"solidity\":0.2}},\"type\":\"histogram\"}],\"mesh3d\":[{\"colorbar\":{\"outlinewidth\":0,\"ticks\":\"\"},\"type\":\"mesh3d\"}],\"parcoords\":[{\"line\":{\"colorbar\":{\"outlinewidth\":0,\"ticks\":\"\"}},\"type\":\"parcoords\"}],\"pie\":[{\"automargin\":true,\"type\":\"pie\"}],\"scatter3d\":[{\"line\":{\"colorbar\":{\"outlinewidth\":0,\"ticks\":\"\"}},\"marker\":{\"colorbar\":{\"outlinewidth\":0,\"ticks\":\"\"}},\"type\":\"scatter3d\"}],\"scattercarpet\":[{\"marker\":{\"colorbar\":{\"outlinewidth\":0,\"ticks\":\"\"}},\"type\":\"scattercarpet\"}],\"scattergeo\":[{\"marker\":{\"colorbar\":{\"outlinewidth\":0,\"ticks\":\"\"}},\"type\":\"scattergeo\"}],\"scattergl\":[{\"marker\":{\"colorbar\":{\"outlinewidth\":0,\"ticks\":\"\"}},\"type\":\"scattergl\"}],\"scattermapbox\":[{\"marker\":{\"colorbar\":{\"outlinewidth\":0,\"ticks\":\"\"}},\"type\":\"scattermapbox\"}],\"scatterpolargl\":[{\"marker\":{\"colorbar\":{\"outlinewidth\":0,\"ticks\":\"\"}},\"type\":\"scatterpolargl\"}],\"scatterpolar\":[{\"marker\":{\"colorbar\":{\"outlinewidth\":0,\"ticks\":\"\"}},\"type\":\"scatterpolar\"}],\"scatter\":[{\"marker\":{\"colorbar\":{\"outlinewidth\":0,\"ticks\":\"\"}},\"type\":\"scatter\"}],\"scatterternary\":[{\"marker\":{\"colorbar\":{\"outlinewidth\":0,\"ticks\":\"\"}},\"type\":\"scatterternary\"}],\"surface\":[{\"colorbar\":{\"outlinewidth\":0,\"ticks\":\"\"},\"colorscale\":[[0.0,\"#0d0887\"],[0.1111111111111111,\"#46039f\"],[0.2222222222222222,\"#7201a8\"],[0.3333333333333333,\"#9c179e\"],[0.4444444444444444,\"#bd3786\"],[0.5555555555555556,\"#d8576b\"],[0.6666666666666666,\"#ed7953\"],[0.7777777777777778,\"#fb9f3a\"],[0.8888888888888888,\"#fdca26\"],[1.0,\"#f0f921\"]],\"type\":\"surface\"}],\"table\":[{\"cells\":{\"fill\":{\"color\":\"#EBF0F8\"},\"line\":{\"color\":\"white\"}},\"header\":{\"fill\":{\"color\":\"#C8D4E3\"},\"line\":{\"color\":\"white\"}},\"type\":\"table\"}]},\"layout\":{\"annotationdefaults\":{\"arrowcolor\":\"#2a3f5f\",\"arrowhead\":0,\"arrowwidth\":1},\"autotypenumbers\":\"strict\",\"coloraxis\":{\"colorbar\":{\"outlinewidth\":0,\"ticks\":\"\"}},\"colorscale\":{\"diverging\":[[0,\"#8e0152\"],[0.1,\"#c51b7d\"],[0.2,\"#de77ae\"],[0.3,\"#f1b6da\"],[0.4,\"#fde0ef\"],[0.5,\"#f7f7f7\"],[0.6,\"#e6f5d0\"],[0.7,\"#b8e186\"],[0.8,\"#7fbc41\"],[0.9,\"#4d9221\"],[1,\"#276419\"]],\"sequential\":[[0.0,\"#0d0887\"],[0.1111111111111111,\"#46039f\"],[0.2222222222222222,\"#7201a8\"],[0.3333333333333333,\"#9c179e\"],[0.4444444444444444,\"#bd3786\"],[0.5555555555555556,\"#d8576b\"],[0.6666666666666666,\"#ed7953\"],[0.7777777777777778,\"#fb9f3a\"],[0.8888888888888888,\"#fdca26\"],[1.0,\"#f0f921\"]],\"sequentialminus\":[[0.0,\"#0d0887\"],[0.1111111111111111,\"#46039f\"],[0.2222222222222222,\"#7201a8\"],[0.3333333333333333,\"#9c179e\"],[0.4444444444444444,\"#bd3786\"],[0.5555555555555556,\"#d8576b\"],[0.6666666666666666,\"#ed7953\"],[0.7777777777777778,\"#fb9f3a\"],[0.8888888888888888,\"#fdca26\"],[1.0,\"#f0f921\"]]},\"colorway\":[\"#636efa\",\"#EF553B\",\"#00cc96\",\"#ab63fa\",\"#FFA15A\",\"#19d3f3\",\"#FF6692\",\"#B6E880\",\"#FF97FF\",\"#FECB52\"],\"font\":{\"color\":\"#2a3f5f\"},\"geo\":{\"bgcolor\":\"white\",\"lakecolor\":\"white\",\"landcolor\":\"white\",\"showlakes\":true,\"showland\":true,\"subunitcolor\":\"#C8D4E3\"},\"hoverlabel\":{\"align\":\"left\"},\"hovermode\":\"closest\",\"mapbox\":{\"style\":\"light\"},\"paper_bgcolor\":\"white\",\"plot_bgcolor\":\"white\",\"polar\":{\"angularaxis\":{\"gridcolor\":\"#EBF0F8\",\"linecolor\":\"#EBF0F8\",\"ticks\":\"\"},\"bgcolor\":\"white\",\"radialaxis\":{\"gridcolor\":\"#EBF0F8\",\"linecolor\":\"#EBF0F8\",\"ticks\":\"\"}},\"scene\":{\"xaxis\":{\"backgroundcolor\":\"white\",\"gridcolor\":\"#DFE8F3\",\"gridwidth\":2,\"linecolor\":\"#EBF0F8\",\"showbackground\":true,\"ticks\":\"\",\"zerolinecolor\":\"#EBF0F8\"},\"yaxis\":{\"backgroundcolor\":\"white\",\"gridcolor\":\"#DFE8F3\",\"gridwidth\":2,\"linecolor\":\"#EBF0F8\",\"showbackground\":true,\"ticks\":\"\",\"zerolinecolor\":\"#EBF0F8\"},\"zaxis\":{\"backgroundcolor\":\"white\",\"gridcolor\":\"#DFE8F3\",\"gridwidth\":2,\"linecolor\":\"#EBF0F8\",\"showbackground\":true,\"ticks\":\"\",\"zerolinecolor\":\"#EBF0F8\"}},\"shapedefaults\":{\"line\":{\"color\":\"#2a3f5f\"}},\"ternary\":{\"aaxis\":{\"gridcolor\":\"#DFE8F3\",\"linecolor\":\"#A2B1C6\",\"ticks\":\"\"},\"baxis\":{\"gridcolor\":\"#DFE8F3\",\"linecolor\":\"#A2B1C6\",\"ticks\":\"\"},\"bgcolor\":\"white\",\"caxis\":{\"gridcolor\":\"#DFE8F3\",\"linecolor\":\"#A2B1C6\",\"ticks\":\"\"}},\"title\":{\"x\":0.05},\"xaxis\":{\"automargin\":true,\"gridcolor\":\"#EBF0F8\",\"linecolor\":\"#EBF0F8\",\"ticks\":\"\",\"title\":{\"standoff\":15},\"zerolinecolor\":\"#EBF0F8\",\"zerolinewidth\":2},\"yaxis\":{\"automargin\":true,\"gridcolor\":\"#EBF0F8\",\"linecolor\":\"#EBF0F8\",\"ticks\":\"\",\"title\":{\"standoff\":15},\"zerolinecolor\":\"#EBF0F8\",\"zerolinewidth\":2}}},\"xaxis\":{\"anchor\":\"y\",\"domain\":[0.0,0.175],\"showgrid\":true},\"yaxis\":{\"anchor\":\"x\",\"domain\":[0.0,1.0],\"showgrid\":true},\"xaxis2\":{\"anchor\":\"y2\",\"domain\":[0.275,0.45],\"showgrid\":true},\"yaxis2\":{\"anchor\":\"x2\",\"domain\":[0.0,1.0],\"showgrid\":true},\"xaxis3\":{\"anchor\":\"y3\",\"domain\":[0.55,0.7250000000000001],\"showgrid\":true},\"yaxis3\":{\"anchor\":\"x3\",\"domain\":[0.0,1.0],\"showgrid\":true},\"xaxis4\":{\"anchor\":\"y4\",\"domain\":[0.825,1.0],\"showgrid\":true},\"yaxis4\":{\"anchor\":\"x4\",\"domain\":[0.0,1.0],\"showgrid\":true},\"annotations\":[{\"font\":{\"size\":16},\"showarrow\":false,\"text\":\"Topic 0\",\"x\":0.0875,\"xanchor\":\"center\",\"xref\":\"paper\",\"y\":1.0,\"yanchor\":\"bottom\",\"yref\":\"paper\"},{\"font\":{\"size\":16},\"showarrow\":false,\"text\":\"Topic 1\",\"x\":0.36250000000000004,\"xanchor\":\"center\",\"xref\":\"paper\",\"y\":1.0,\"yanchor\":\"bottom\",\"yref\":\"paper\"}],\"title\":{\"font\":{\"size\":22,\"color\":\"Black\"},\"text\":\"<b>Topic Word Scores\",\"x\":0.5,\"xanchor\":\"center\",\"yanchor\":\"top\"},\"hoverlabel\":{\"font\":{\"size\":16,\"family\":\"Rockwell\"},\"bgcolor\":\"white\"},\"showlegend\":false,\"width\":1000,\"height\":325.0},                        {\"responsive\": true}                    ).then(function(){\n",
              "                            \n",
              "var gd = document.getElementById('f2f11e11-5953-4ea1-9450-7adc8deac644');\n",
              "var x = new MutationObserver(function (mutations, observer) {{\n",
              "        var display = window.getComputedStyle(gd).display;\n",
              "        if (!display || display === 'none') {{\n",
              "            console.log([gd, 'removed!']);\n",
              "            Plotly.purge(gd);\n",
              "            observer.disconnect();\n",
              "        }}\n",
              "}});\n",
              "\n",
              "// Listen for the removal of the full notebook cells\n",
              "var notebookContainer = gd.closest('#notebook-container');\n",
              "if (notebookContainer) {{\n",
              "    x.observe(notebookContainer, {childList: true});\n",
              "}}\n",
              "\n",
              "// Listen for the clearing of the current output cell\n",
              "var outputEl = gd.closest('.output');\n",
              "if (outputEl) {{\n",
              "    x.observe(outputEl, {childList: true});\n",
              "}}\n",
              "\n",
              "                        })                };                            </script>        </div>\n",
              "</body>\n",
              "</html>"
            ]
          },
          "metadata": {}
        }
      ]
    },
    {
      "cell_type": "code",
      "source": [
        ""
      ],
      "metadata": {
        "id": "YNJfsTLm9m9p"
      },
      "execution_count": null,
      "outputs": []
    },
    {
      "cell_type": "code",
      "source": [
        ""
      ],
      "metadata": {
        "id": "YXwf1SXSsr5X"
      },
      "execution_count": null,
      "outputs": []
    },
    {
      "cell_type": "markdown",
      "source": [
        "#LDA Analysis \n",
        "* will perform lda analysis on cisco data"
      ],
      "metadata": {
        "id": "iL523UhPs2Z6"
      }
    },
    {
      "cell_type": "code",
      "source": [
        "!pip install pyLDAvis"
      ],
      "metadata": {
        "colab": {
          "base_uri": "https://localhost:8080/"
        },
        "id": "nTCNUKIY7sog",
        "outputId": "a1422e68-61fe-4eb0-dd6b-8c1bbef1d591"
      },
      "execution_count": 1,
      "outputs": [
        {
          "output_type": "stream",
          "name": "stdout",
          "text": [
            "Looking in indexes: https://pypi.org/simple, https://us-python.pkg.dev/colab-wheels/public/simple/\n",
            "Collecting pyLDAvis\n",
            "  Downloading pyLDAvis-3.3.1.tar.gz (1.7 MB)\n",
            "\u001b[K     |████████████████████████████████| 1.7 MB 5.2 MB/s \n",
            "\u001b[?25h  Installing build dependencies ... \u001b[?25l\u001b[?25hdone\n",
            "  Getting requirements to build wheel ... \u001b[?25l\u001b[?25hdone\n",
            "  Installing backend dependencies ... \u001b[?25l\u001b[?25hdone\n",
            "    Preparing wheel metadata ... \u001b[?25l\u001b[?25hdone\n",
            "Requirement already satisfied: numexpr in /usr/local/lib/python3.7/dist-packages (from pyLDAvis) (2.8.3)\n",
            "Requirement already satisfied: pandas>=1.2.0 in /usr/local/lib/python3.7/dist-packages (from pyLDAvis) (1.3.5)\n",
            "Requirement already satisfied: scipy in /usr/local/lib/python3.7/dist-packages (from pyLDAvis) (1.7.3)\n",
            "Requirement already satisfied: future in /usr/local/lib/python3.7/dist-packages (from pyLDAvis) (0.16.0)\n",
            "Requirement already satisfied: setuptools in /usr/local/lib/python3.7/dist-packages (from pyLDAvis) (57.4.0)\n",
            "Requirement already satisfied: sklearn in /usr/local/lib/python3.7/dist-packages (from pyLDAvis) (0.0)\n",
            "Collecting funcy\n",
            "  Downloading funcy-1.17-py2.py3-none-any.whl (33 kB)\n",
            "Requirement already satisfied: gensim in /usr/local/lib/python3.7/dist-packages (from pyLDAvis) (3.6.0)\n",
            "Requirement already satisfied: joblib in /usr/local/lib/python3.7/dist-packages (from pyLDAvis) (1.1.0)\n",
            "Requirement already satisfied: scikit-learn in /usr/local/lib/python3.7/dist-packages (from pyLDAvis) (1.0.2)\n",
            "Requirement already satisfied: numpy>=1.20.0 in /usr/local/lib/python3.7/dist-packages (from pyLDAvis) (1.21.6)\n",
            "Requirement already satisfied: jinja2 in /usr/local/lib/python3.7/dist-packages (from pyLDAvis) (2.11.3)\n",
            "Requirement already satisfied: pytz>=2017.3 in /usr/local/lib/python3.7/dist-packages (from pandas>=1.2.0->pyLDAvis) (2022.1)\n",
            "Requirement already satisfied: python-dateutil>=2.7.3 in /usr/local/lib/python3.7/dist-packages (from pandas>=1.2.0->pyLDAvis) (2.8.2)\n",
            "Requirement already satisfied: six>=1.5 in /usr/local/lib/python3.7/dist-packages (from python-dateutil>=2.7.3->pandas>=1.2.0->pyLDAvis) (1.15.0)\n",
            "Requirement already satisfied: smart-open>=1.2.1 in /usr/local/lib/python3.7/dist-packages (from gensim->pyLDAvis) (5.2.1)\n",
            "Requirement already satisfied: MarkupSafe>=0.23 in /usr/local/lib/python3.7/dist-packages (from jinja2->pyLDAvis) (2.0.1)\n",
            "Requirement already satisfied: packaging in /usr/local/lib/python3.7/dist-packages (from numexpr->pyLDAvis) (21.3)\n",
            "Requirement already satisfied: pyparsing!=3.0.5,>=2.0.2 in /usr/local/lib/python3.7/dist-packages (from packaging->numexpr->pyLDAvis) (3.0.9)\n",
            "Requirement already satisfied: threadpoolctl>=2.0.0 in /usr/local/lib/python3.7/dist-packages (from scikit-learn->pyLDAvis) (3.1.0)\n",
            "Building wheels for collected packages: pyLDAvis\n",
            "  Building wheel for pyLDAvis (PEP 517) ... \u001b[?25l\u001b[?25hdone\n",
            "  Created wheel for pyLDAvis: filename=pyLDAvis-3.3.1-py2.py3-none-any.whl size=136898 sha256=70e1f99bcd868b7b27ad0dd95b844a8a04d013b37c87e3a65136de7b490e9ebf\n",
            "  Stored in directory: /root/.cache/pip/wheels/c9/21/f6/17bcf2667e8a68532ba2fbf6d5c72fdf4c7f7d9abfa4852d2f\n",
            "Successfully built pyLDAvis\n",
            "Installing collected packages: funcy, pyLDAvis\n",
            "Successfully installed funcy-1.17 pyLDAvis-3.3.1\n"
          ]
        }
      ]
    },
    {
      "cell_type": "code",
      "source": [
        "# Sklearn\n",
        "from sklearn.decomposition import LatentDirichletAllocation, TruncatedSVD\n",
        "from sklearn.feature_extraction.text import CountVectorizer, TfidfVectorizer\n",
        "from sklearn.model_selection import GridSearchCV\n",
        "from pprint import pprint\n",
        "# Plotting tools\n",
        "import pyLDAvis\n",
        "import pyLDAvis.sklearn\n",
        "import matplotlib.pyplot"
      ],
      "metadata": {
        "colab": {
          "base_uri": "https://localhost:8080/"
        },
        "id": "d8Gq4NgI7qzP",
        "outputId": "11391a70-aa6b-49bd-c4f2-d384ed8fffcd"
      },
      "execution_count": 2,
      "outputs": [
        {
          "output_type": "stream",
          "name": "stderr",
          "text": [
            "/usr/local/lib/python3.7/dist-packages/past/types/oldstr.py:5: DeprecationWarning: Using or importing the ABCs from 'collections' instead of from 'collections.abc' is deprecated since Python 3.3,and in 3.9 it will stop working\n",
            "  from collections import Iterable\n",
            "/usr/local/lib/python3.7/dist-packages/past/builtins/misc.py:4: DeprecationWarning: Using or importing the ABCs from 'collections' instead of from 'collections.abc' is deprecated since Python 3.3,and in 3.9 it will stop working\n",
            "  from collections import Mapping\n"
          ]
        }
      ]
    },
    {
      "cell_type": "code",
      "source": [
        "import pandas as pd"
      ],
      "metadata": {
        "id": "P1RzH8M1tyjS"
      },
      "execution_count": 3,
      "outputs": []
    },
    {
      "cell_type": "code",
      "source": [
        "import gensim\n",
        "from gensim.utils import simple_preprocess\n",
        "from gensim.parsing.preprocessing import STOPWORDS\n",
        "from nltk.stem import WordNetLemmatizer, SnowballStemmer\n",
        "from nltk.stem.porter import PorterStemmer\n",
        "import numpy as np\n",
        "np.random.seed(2018)"
      ],
      "metadata": {
        "id": "GNHSUo77uNvR",
        "colab": {
          "base_uri": "https://localhost:8080/"
        },
        "outputId": "7ea74763-f78d-48f2-94dc-ddda5f47aa6c"
      },
      "execution_count": 4,
      "outputs": [
        {
          "output_type": "stream",
          "name": "stderr",
          "text": [
            "/usr/local/lib/python3.7/dist-packages/scipy/sparse/sparsetools.py:21: DeprecationWarning: `scipy.sparse.sparsetools` is deprecated!\n",
            "scipy.sparse.sparsetools is a private module for scipy.sparse, and should not be used.\n",
            "  _deprecated()\n"
          ]
        }
      ]
    },
    {
      "cell_type": "code",
      "source": [
        "import nltk\n",
        "nltk.download('wordnet')"
      ],
      "metadata": {
        "colab": {
          "base_uri": "https://localhost:8080/"
        },
        "id": "xTCBI92WuS4u",
        "outputId": "d065d659-c895-411f-f9f0-5a170998e8be"
      },
      "execution_count": 5,
      "outputs": [
        {
          "output_type": "stream",
          "name": "stderr",
          "text": [
            "[nltk_data] Downloading package wordnet to /root/nltk_data...\n"
          ]
        },
        {
          "output_type": "execute_result",
          "data": {
            "text/plain": [
              "True"
            ]
          },
          "metadata": {},
          "execution_count": 5
        }
      ]
    },
    {
      "cell_type": "code",
      "source": [
        "nltk.download(\"omw-1.4\")"
      ],
      "metadata": {
        "colab": {
          "base_uri": "https://localhost:8080/"
        },
        "id": "t6J2KX_Cvk4D",
        "outputId": "c2bf5cd1-53d0-4081-e6ac-2affd79f9b1a"
      },
      "execution_count": 6,
      "outputs": [
        {
          "output_type": "stream",
          "name": "stderr",
          "text": [
            "[nltk_data] Downloading package omw-1.4 to /root/nltk_data...\n"
          ]
        },
        {
          "output_type": "execute_result",
          "data": {
            "text/plain": [
              "True"
            ]
          },
          "metadata": {},
          "execution_count": 6
        }
      ]
    },
    {
      "cell_type": "code",
      "source": [
        "stemmer = PorterStemmer()"
      ],
      "metadata": {
        "id": "WCL2X6-kvY-9"
      },
      "execution_count": 7,
      "outputs": []
    },
    {
      "cell_type": "code",
      "source": [
        "with open(\"/content/cisco_transcripts.txt\",\"r\") as f:\n",
        "  string = f.read().split(\"\\n\")\n",
        "  clean_string = []\n",
        "  for s in string:\n",
        "    if s.isspace() or s == \"\":\n",
        "      pass\n",
        "    else:\n",
        "      clean_string.append(s)\n",
        "\n",
        "cols = [\"name\",\"position\"]\n",
        "name_df = pd.read_csv(\"/content/cisco_names.txt\",sep=\"\\t\",names=cols)\n",
        "\n",
        "chat_list = []\n",
        "temp_name = \"\"\n",
        "temp_dict = {}\n",
        "user_names = list(name_df.name)+[\"Operator\"]\n",
        "for i in clean_string:\n",
        "  if i in user_names and i!=\"\":\n",
        "    temp_name = i\n",
        "    if i not in temp_dict:  \n",
        "      temp_dict[i]= []\n",
        "  else:\n",
        "    if len(i)>20:\n",
        "      temp_dict[temp_name].append(i)"
      ],
      "metadata": {
        "id": "svqmsrITs69q"
      },
      "execution_count": 9,
      "outputs": []
    },
    {
      "cell_type": "markdown",
      "source": [
        "###observation \n",
        "* dividing the dialogs on the basis of its orginal form is better since combining all the dialogs seems to create worst results\n"
      ],
      "metadata": {
        "id": "_VVHp6cy4-6-"
      }
    },
    {
      "cell_type": "code",
      "source": [
        "temp_dict[\"Chuck Robbins\"]"
      ],
      "metadata": {
        "colab": {
          "base_uri": "https://localhost:8080/"
        },
        "id": "eVoKCT3nzaWO",
        "outputId": "0b13c342-c5aa-42e3-ba6a-3ae5b748543a"
      },
      "execution_count": 10,
      "outputs": [
        {
          "output_type": "execute_result",
          "data": {
            "text/plain": [
              "['Thanks, Marilyn, and good afternoon, everyone. When we spoke with you back in February, we entered Q3 in the second half of our fiscal year with optimism despite the supply and component challenges and other headwinds impacting us and many of our peers. Many of those factors that fueled that optimism remain unchanged today.',\n",
              " 'We continue to see strong demand resulting in record backlog, our business transformation is progressing well and our differentiated innovation across our portfolio is helping our customers embrace and adopt the multiple technology transitions happening.',\n",
              " 'However, there were two unanticipated events since our last earnings call, which impacted our Q3 revenue performance.',\n",
              " 'The first is the war in Ukraine. This resulted in us ceasing operations in Russia and Belarus and had a corresponding revenue impact, which Scott will discuss.',\n",
              " 'The second relates to COVID related lockdowns in China, which began in late March. These lockdowns resulted in an even more severe shortage of certain critical components. This in turn prevented us from shipping products to customers at the levels we originally anticipated heading into Q3.',\n",
              " 'Our Q4 guidance incorporates a wider than usual range, taking into account the revenue impact of the war in Ukraine and the continuing uncertainty related to the China COVID lockdowns.',\n",
              " \"Given this uncertainty, we're being practical about the current environment and erring on the side of caution in terms of our outlook, taking it one quarter at a time. We believe that our revenue performance in the upcoming quarters is less dependent on demand and more dependent on the supply availability in this increasingly complex environment.\",\n",
              " \"While certain aspects of the current situation are largely out of our control, our teams have been working on several mitigation actions to help alleviate many of the component issues that we've been facing. We believe that we will begin to see the benefits of these actions in the first half of next fiscal year.\",\n",
              " 'Now let me talk more specifically about our third quarter performance.',\n",
              " \"As I just mentioned, many of the positives we've discussed over the past few quarters remain, resulting in continued solid demand for our solutions. Total product orders grew 8% year-over-year leading to yet another record backlog of well over $15 billion, up 10% sequentially and up 130% year-over-year. This momentum reaffirms the critical role we play in our customers' futures.\",\n",
              " 'Our business transformation also progressed nicely. In Q3, we saw ARR growth of 11%, ending the quarter at over $22 billion, and product ARR growth of 18%.',\n",
              " 'We also exited the quarter with over $30 billion in remaining performance obligations or RPO.',\n",
              " 'We also delivered non-GAAP EPS at the high end of our guidance range. This was driven by effective pricing actions and spending discipline, all of which allowed us to offset lower volumes and deliver both gross and operating margins above the high end of our guidance range and deliver on our bottom-line profitability target for the quarter. I want to reiterate what I said earlier. The fundamental drivers across our business are strong.',\n",
              " \"While we are facing some short-term challenges, it does not change our long-term outlook, our alignment to our customers' most critical challenges or our belief in the tremendous opportunities in front of us. Last week, we hosted our Global Customer Advisory Board meeting where we met with close to 100 customers. And they consistently shared that technology is at the heart of their strategy and has become even more important to everything they do. This driving not just their strategies, but also their overall business transformation. The technology they're adopting from Cisco is driving their business agility, allowing them to move with greater speed and empowering them to deliver differentiated experiences for their customers.\",\n",
              " \"Now I'd like to touch on some highlights from the quarter.\",\n",
              " 'We continue to see strong demand in several areas of our business.',\n",
              " \"Our web-scale business remains strong as we continue to help these customers build their capabilities to connect and serve their customers and end users at scale from the data center to the edge. This is leading to continued strength in orders, which grew over 50% and on a trailing four-quarter basis, we had over 100% growth. This marks our ninth consecutive quarter of solid demand as we are winning new franchises, expanding our design wins and taking share in web scale. I remain incredibly proud of the progress we've made in the momentum we have in this space.\",\n",
              " \"We are also extremely pleased with the traction of our 400 gig solutions, including the Cisco 8,000, which is the fastest growing SP routing platform in Cisco's history.\",\n",
              " 'In addition, our Silicon One portfolio, ZR and ZR plus optics and our Acacia portfolio of optical networking products also continue to perform well. From a product revenue perspective, our performance was led by solid demand across a majority of our portfolio, including switching, SP routing, wireless, security and SD WAN.',\n",
              " 'Our performance in these areas reflecting ongoing investments that our customers are making to rapidly digitize their organizations to deliver differentiated experiences.',\n",
              " \"Looking forward, the shift to hybrid cloud, 5G, 400 gig, IoT, hybrid work and the explosion of applications are driving the increased need for next generation networking, connectivity, security, and observability solutions. Cisco is well positioned to deliver for our customers with our end-to-end platforms and solutions. I'm also very proud of our pace of innovation.\",\n",
              " 'During the quarter, Cisco announced new innovations across our networking and cloud portfolios along with technologies to enhance experiences and hybrid work environments.',\n",
              " 'We also introduced our new predictive networks to help organizations learn, predict and avoid network disruptions.',\n",
              " \"We have even more innovation, which we'll announce at RSA and our own Cisco Live event in June.\",\n",
              " 'In addition to our deep passion for innovation, all of us at Cisco believe we have a unique opportunity to help make the world a better place through both the technology we build and the purpose we rally around to power an inclusive future for all. I believe this intersection of technology and purpose is why we were named the number one Best Company to Work For in the U.S. by Fortune and Great Place to Work for the second year in a row. In summary, while the quarter clearly did not play out as expected, demand remains solid and the fundamentals of our business are strong. We remain focused on executing against the strategy we laid out at our Investor Day.',\n",
              " \"We will also continue to be resolute in our focus to transform our business for more predictability and agility while bringing to market a robust pipeline of innovation. We remain confident in our long-term growth and the opportunities that we have in front of us. I want to thank our teams around the world for all that they do, executing with dedication, focus and excellence in an incredibly dynamic environment. They continue to focus on our customers with unparalleled innovation, resiliency and determination. And with that, I'll now turn the call over to Scott.\",\n",
              " 'Yes, Meta. Thank you.',\n",
              " \"So on the demand issue, I'd point out a few things. Number one, without a 2-percentage point of orders that we de-booked relative to Russia and Belarus, we grew 10% against a year ago growth of 10%.\",\n",
              " 'So we feel good about that.',\n",
              " \"Our customers are not signaling any real shift at this point. We're not hearing that from them. Again, we had our global customer advisory board just a couple of weeks ago where we had 100 of our biggest customers and they were all talking about projects in the strategic nature of everything they're trying to accomplish. The last thing I would point out is on the enterprise side, last quarter we grew 37%.\",\n",
              " 'Just to keep in mind the way we define enterprise is a finite list of named customers.',\n",
              " 'So it tends to be more lumpy. If I look at how the industry defines enterprise, that would reflect a combination of our enterprise and our commercial business.',\n",
              " \"So for comparisons to what we're hearing in the marketplace, I thought we would give you that combined number.\",\n",
              " 'If you combine enterprise and commercial together, we grew 9%, but without the Russia impact, we actually grew 12% and on a trailing 12 months basis it grew 28%.',\n",
              " \"So we are still comfortable with the demand signals that we're seeing and our customers aren't telling us anything differently right now.\",\n",
              " \"Great, thanks. I'll pass it on.\",\n",
              " \"Yes. Samik, it's a great question.\",\n",
              " 'So let me start with just the basic answer is there is no reflection of demand issue in our Q4 guide, that has nothing to do with the Q4 guide.',\n",
              " 'Let me try to describe how we got to that.',\n",
              " \"I think it's important for everybody to understand. When we look at our Q3 results, we had -- from a revenue perspective, we had $200 million impact from us ceasing operations in Russia and corresponding revenue write-downs that occurred. Those were one-time. We then had, if you recall, our quarter ends at the end of April. Most of what you've heard from others, they are quarters into the end of March.\",\n",
              " \"So we experienced an entire quarter of the China lockdowns. In Shanghai, it was from March 27 until today. Shenzhen shut down, but again it opened up a week later, so we're talking really about the Shanghai situation.\",\n",
              " \"So we had $200 million from Russia and then we had $300 million that was completely attributed to our inability to get power supplies out of China. That's the simplicity of what caused the problem.\",\n",
              " \"As an example, we had 11,000 PCB assemblies built, we couldn't get power supplies for because of the lockdown. That's a simple fact of what happened in Q3. When we look at Q4 and you think about the Shanghai lockdown and what we've heard because in Shanghai, there are lots of components that go into our power supplies.\",\n",
              " \"So we're not able to get those components. Shanghai now is saying they're going to open up June 1. We don't know exactly what that means and what that means to win that implies that we would start getting any supply out. And correspondingly we believe when they open up and when they do allow transportation logistics to start up, we believe there is going to be a high degree of congestion. We believe that there is going to be lots of competition for ports capacity, airport capacity. And we just believe that that combined with the inbound efforts, trying to get raw materials back into the country, et cetera, we just believe that it's going to be impossible for us to catch up on this issue in Q4, which is what led to the guidance in Q4.\",\n",
              " \"So even though these top line numbers don't look good, it's very simple explanation as to what occurred.\",\n",
              " 'So then the follow-on part of your question is, when do we think this gets better. Well, if we make the assumption that China does begin to open up and we do begin to get more natural flow of the power supplies.',\n",
              " 'We also have had our teams over the last six to nine months have been working on a lot of mitigating actions, redesigning 100 products, over 100 products to give us component diversity, we believe that a combination of those starting in our Q1 and in the first half of our year will start to see the benefit of that.',\n",
              " \"So, that's when we expect to see it improve to some extent. We need to get through the next 90 days, but I'm just being as transparent as I can about what we see and when we think some of that improvement will occur.\",\n",
              " 'Yes, Ittai, thank you. Both good questions.',\n",
              " \"I think on the first one, I think that the biggest differentiation was April. I have spoken to peers who are feeling the same thing we are that we are reporting the full month of impact and it wasn't April issue for us.\",\n",
              " 'So now on a normalized basis for that question across the portfolio, all of us design products with different components in.',\n",
              " \"So there is opportunity for us to have a unique issue with one component that we may have designed into a product or we may have an unique advantage because we designed a certain component into a product. And those are the areas where I talked about we're redesigning where we have unique problems or just problems in general, though others may have the same problems.\",\n",
              " \"So we think that the exposure in general was because of the month of April. Also we do massive volumes. And in general, you would think that's a huge advantage, but just to put it in perspective, we shipped more revenue in the last week of our quarter than many of our competitors that you're referencing shipped in their entire quarter.\",\n",
              " \"So it's just an issue that it shows up in a bigger number for us than it would. If they have the same problem, it might be a $20 million impact for us, it might be a $200 million -- $400 million impact.\",\n",
              " \"So that's the first one.\",\n",
              " 'The second one what I would say is that we are constantly evaluating our global supply chain.',\n",
              " \"And so it's not about one country, it's about resilience. And the way we've designed supply chains over the last 15-20 years as an industry, I think we all realize we're evolving that now at the same time that we're triaging all of the current issues that we have.\",\n",
              " 'So our teams have a dual challenge. But we are constantly driving geographic resilience. The example I would give is that we -- before COVID we had regional redundancy built in, we did not have a plan for a country to shut down.',\n",
              " 'And so it takes time to go out and create that geographic resilience, but our teams are working on all of those kinds of things right now, so they will continue to do that any time.',\n",
              " 'Yes. It absolutely does, Simon.',\n",
              " \"Let me start and then I'll kick it to Scott to talk a little bit about it.\",\n",
              " 'So, first and foremost, we are incredibly active purchasers in the broker market. And you can imagine, with our buying power, they call us first.',\n",
              " 'And so -- no, that has nothing to do with it.',\n",
              " \"In fact, we've spent a lot of time with our supply chain team who had given us examples of where they've bought product in the broker market recently.\",\n",
              " \"So I don't think that's it. But Scott can explain what did happen there.\",\n",
              " \"First, I'll let Scott add on the price increase in a moment, but first of all, the price increase really did not have significant impact on our growth. We only passthrough pricing at the time that was offsetting our incremental cost. And to be honest, we've incurred more cost since then.\",\n",
              " \"So we were at a place right now where we have not even passed through all the costs that we have incurred. We're getting price increases all the time now.\",\n",
              " \"So that's the first answer.\",\n",
              " 'On the second one, the easiest thing for me to tell you is what I said earlier that the way our peers view and report and the industry views and reports enterprise would be the combination of our enterprise and commercial business which last quarter would have grown 9% and would have grown 12% without -- or it grew 9%, but would have been 12% without Russia.',\n",
              " \"So if you think about the size of that those two businesses combined growing 9%, I'm pretty comfortable that the demand is still there. And if you look at our commercial business, which usually is the leading indicator of a shift of demand momentum, they grew 19% in the quarter.\",\n",
              " \"So I'm not concerned.\",\n",
              " \"I got you Rod and you're actually thinking about the right way.\",\n",
              " \"You think about exactly the way I'm thinking about it.\",\n",
              " \"So first thing I'll say is that I think any seasonality right now is out the window with the current situation and with what we've seen with the order demand. We were doing 18-month planning with certain customers. And if they placed 18 months' worth of orders last quarter and now they're going to pause and we may be doing it with three fewer customers this quarter.\",\n",
              " \"So I mean it's just -- it's a very difficult thing to get your head around.\",\n",
              " \"So there's two things that I look at. Number one, what is our quarterly growth rate vis-a-vis a year ago to see because I think about momentum of demand from one quarter to the next sort of -- you have to look at that delta, right. Because if you grow 30% on 1% and then you grew 30% on 15%, then that would be declining demand momentum. That's the way I think about the math, right.\",\n",
              " \"So that's one thing we watch for. But the second thing is I think to your point I've been talking to the team about it, when we start comparing against these 30% quarters, I think we have to go back two years and get a real assessment because those numbers we know had pull ahead in. We don't know how much as we've talked about, but I think you're right.\",\n",
              " \"We have to sort of doing analysis from two years back to really feel like what do we really seeing right now and that's -- it's going to be a difficult thing for us to navigate because the historical way we've looked at these metrics just won't apply right now. And I think once we cycle through a year, another four quarters of the stuff, maybe we get to normalized -- a normalized view.\",\n",
              " \"As I've said, we're going to go through a phase where our order demand growth will be lagging our revenue growth and then hopefully we'll get to a point where those two will get back into more of a predictive model and we just got to get there.\",\n",
              " 'I think COVID changed everything about how our customers think about technology.',\n",
              " \"I think that pre-COVID a lot of customers when they went to slow spending, they would stop spending on technology. And I think COVID had them feel the impact of those decisions. And they're not -- they're going to be very prudent about stopping key projects that are giving them customer differentiation capabilities or modernization of their infrastructure or supporting hybrid work or making sure they're not falling behind their competitors. I mean, it's just a different day to day relative to what CEOs, the public sector leaders, how they think about technology and the importance of it. Even though they thought it, it was really important three years ago, their understanding of today is much different.\",\n",
              " \"And so I'm not saying they won't make those decisions. I just think there is a higher bar for them to make those decisions.\",\n",
              " 'You want to take it, Scott?',\n",
              " \"Hi, Paul. Thanks. Yes, we had -- in Q3, it was very simple for us to articulate it because we know exactly what we were expecting and everything else. We don't have the ability in Q4 to understand when they're really going to open up and how much we're going to get, et cetera, which caused us to create the range we did. And just -- we're just being realistic about what we believe we'll be able to get out the door, but to actually peg it to power supplies, in particular, is pretty difficult. But I mean most of the issues that we see right now, the concerning area right now is really getting that open -- getting China opened up again, getting the stuff shipping and we need to see that.\",\n",
              " 'So Scott, you want to add something?',\n",
              " \"Q3 was right in line with normal pattern. And I think Paul, the thing to remember is, yes, we're a little skewed because we had three quarters of 30%. If we went back a year and a half and I said we're going to grow 10% product orders on top of a 10% quarter from a year ago, we would have been quite happy with it. We're just worried about it because it's fallen 330s when there was a lot of planned purchase built into.\",\n",
              " \"So we will tell you. Obviously next quarter we'll have an update, but right now, it doesn't feel like there's any significant shift.\",\n",
              " \"Paul, that's fine. But we never have any commentary about future bookings expectations.\",\n",
              " 'On the RPO that we talked about, you got the number right, $16.2 billion of short-term RPO, which is up 9%.',\n",
              " \"And so short term by definition means that accretes into the revenue stream in the next 12 months. That growing by 9% is a pretty good leading indicator of at least what that piece of -- how that piece of our business looks as we go into Q4 and then we'll give you an update on how short-term RPO growth looks at the end of Q4 and you can get a sense of it in the end of fiscal '23.\",\n",
              " 'You want to take it, Scott?',\n",
              " 'Yes, I mean with the backlog.',\n",
              " 'So a couple of things.',\n",
              " \"I think what you may be trying to get out on the backlog question is the durability of that backlog. And there is -- this is something that obviously we've been tracking very closely. What I'd say on order cancellations is they continue to run at a rate that is actually below where it was pre-pandemic.\",\n",
              " \"So we're not seeing any cancellations there.\",\n",
              " 'We continue to see very strong pipeline and pipeline build, which is something else that I think you would expect to see weaken if there was softening demand.',\n",
              " \"As we look at kind of further out with what's sitting in the backlog, we've also put in place a policy change that says those orders are non-cancelable with all orders are non-cancelable within 45 days of the committed ship date. That just went into place in the beginning of February.\",\n",
              " \"So orders that we've received since then within 45 days of shipment are non-cancelable. And for our biggest customers, we've been working with them on a bespoke basis to put in place agreements where we will guarantee supply, but they guarantee that those orders will not be rescheduled or canceled.\",\n",
              " \"So feel good about the durability of the backlog we've got.\",\n",
              " 'So, Tim, on the first one -- thanks for the questions, by the way.',\n",
              " \"On the first one, I think that as we see if we see reductions in our input costs over time, then we will take into consideration whether we pass those through to the customers. The reality is as we've taken on so many input costs increases that we haven't passed onto customers that will look at it holistically at the time where that stuff begins to occur is what I would tell you. I'm glad you asked on the software growth because I think it's something that we want to explain.\",\n",
              " \"So it's a little difficult to understand completely and we have a really interesting quarter because the extra week a year ago in the Russia situation and the supply chain situation.\",\n",
              " \"So let me try to take you through what's going on in software.\",\n",
              " 'If you start with the fact that we have well over $2 billion of software in backlog that is connected to a piece of hardware that we will not begin recognizing the revenue until the hardware ships.',\n",
              " \"So -- and that's up $1 billion year-over-year.\",\n",
              " \"So there is a large component of software that we're not recognizing right now that we would in normal times.\",\n",
              " \"So it's the first piece. And then if you take into consideration the extra week from a year ago where we do ratable recognition of revenue on a daily basis, we had an extra week. And then you take the software that we wrote down -- software revenue that we wrote down as a result of ceasing operations in Russia.\",\n",
              " \"So those three -- the first one is hard to put a number on, but assume it's reasonable. The Russia and the extra quarter was a 5-point headwind to our software growth.\",\n",
              " \"So I know it's a little complicated, but I wanted to make sure you understood that.\",\n",
              " \"So I would expect this stuff to normalize back particularly without the Russia and the extra week impact. And then when supply chain starts to clear, then we'll start to see those normalized growth rates that we would expect, so hopefully that wasn't too complicated.\",\n",
              " \"Yes. The renewal stuff in '23, it could be helpful.\",\n",
              " \"We are continuing to make progress on that across the portfolio. I mean, we've got subscriptions running on switching on routing, enterprise routing, on enterprise wireless. We've even built some subscriptions into our mass scale infrastructure group. We've got subscriptions now in our data center networking group.\",\n",
              " \"So they'll sort layering in over the next few years.\",\n",
              " 'So first of all I think market share is incredibly difficult thing to assess right now because of the backlog situation, supply chain situations and we have a complex portfolio.',\n",
              " \"So are we losing share in somewhere? I suspect there is somewhere that we are losing share. But in our core markets, I actually feel really good about how we're performing and the demand that we've seen in whether it's WiFi or switching or particularly in SP routing and in the web scale space and other areas.\",\n",
              " \"So I don't think there is a widespread problem of share, but I'm sure there are pockets that we -- our teams are working on improving.\",\n",
              " \"So that's the first piece. Amit, on the China thing, let me -- what we've built into the guide is just a whole lot of uncertainty right now. Because we recognize that when they do open up, first of all, we don't know what that means. We don't know what open up means. Does it mean that they're going to slowly open grocery stores and salons and things of that nature and that the logistics side of it or do they open up the logistics all day one? What does it mean about the capacity of resources they have for the logistics side? But our concern is that every company there is going to be trying to ship out? In some cases, many of the factories have been approved to keep working and their workers have been working in dormitories.\",\n",
              " \"So they have components or ready to ship product that is sitting on the floor and it's all going to raise for the ports. It's all going to compete for the airports. And we know there's lower air traffic capacity right now for us to leverage.\",\n",
              " \"So we're concerned about how long it takes to clear that up, which is reflected in the guide.\",\n",
              " 'We also think that once it gets into their ports and it starts coming in the U.S., we have the risk of seeing what we saw in LA several months ago.',\n",
              " \"So those are all just the unknowns about what does opening up look like and what's the timeframe for recovery that led us to the cautious guide that we put out there. And I would just remind you that it's not just Shanghai.\",\n",
              " 'I think as of the last article I read, there were like 45 cities that were in lockdown and it was over a quarter of the population of China.',\n",
              " \"So it's broader. But that's how we're thinking about it and we just have to wait and see how it unwinds.\",\n",
              " \"So first of all, I want to thank everybody for spending time with us and diving into this the complex situation that we face. It's clearly a dynamic and challenging environment. We clearly faced unanticipated events during Q3 with the COVID lockdowns and the war in Ukraine. We think the short-term challenges that we will manage through, our teams have been working really hard on these mitigation actions that we believe will begin to benefit us in the first half of our next fiscal year, which is good. We're successfully realizing price increases, which is good. And also in Q3, even though we had a miss on the top line, I just want to point out that it was a record EPS quarter for us as a company. And at the low point of our guidance for Q4, we will deliver record EPS for the full year.\",\n",
              " \"So while the topline is disappointing, we have navigated this complex year and actually will deliver solid EPS when we're done. The fundamentals are strong a lot, still in our favor. Demand, business transformation is working, the technology transitions and the number that we're participating in.\",\n",
              " 'We have great teams around the world and that leads me to have a high degree of confidence despite the short-term challenges that we face.',\n",
              " 'So thank you all for spending time with us and we look forward to connecting with you next quarter.']"
            ]
          },
          "metadata": {},
          "execution_count": 10
        }
      ]
    },
    {
      "cell_type": "code",
      "source": [
        "custom_data = temp_dict[\"Chuck Robbins\"] + temp_dict[\"Marilyn Mora\"]+temp_dict[\"Scott Herren\"]"
      ],
      "metadata": {
        "id": "3rrhRaimBl-M"
      },
      "execution_count": 11,
      "outputs": []
    },
    {
      "cell_type": "code",
      "source": [
        "def sent_to_words(sentences):\n",
        "    for sentence in sentences:\n",
        "        yield(gensim.utils.simple_preprocess(str(sentence), deacc=True))  # deacc=True removes punctuations\n",
        "data_words = list(sent_to_words(custom_data))\n",
        "print(data_words[2])"
      ],
      "metadata": {
        "colab": {
          "base_uri": "https://localhost:8080/"
        },
        "id": "Wi89T9kItxAh",
        "outputId": "200a36a9-74ed-46fc-ee66-936c126d8529"
      },
      "execution_count": 12,
      "outputs": [
        {
          "output_type": "stream",
          "name": "stdout",
          "text": [
            "['however', 'there', 'were', 'two', 'unanticipated', 'events', 'since', 'our', 'last', 'earnings', 'call', 'which', 'impacted', 'our', 'revenue', 'performance']\n"
          ]
        }
      ]
    },
    {
      "cell_type": "code",
      "source": [
        "import spacy"
      ],
      "metadata": {
        "id": "V8ZPppZq6QMX"
      },
      "execution_count": 13,
      "outputs": []
    },
    {
      "cell_type": "code",
      "source": [
        ""
      ],
      "metadata": {
        "id": "Ne1x2rKY6no7"
      },
      "execution_count": 12,
      "outputs": []
    },
    {
      "cell_type": "code",
      "source": [
        "!python3 -m spacy download en"
      ],
      "metadata": {
        "id": "A_PZLZDs6nlb"
      },
      "execution_count": null,
      "outputs": []
    },
    {
      "cell_type": "code",
      "source": [
        "nlp = spacy.load(\"en_core_web_sm\", disable=[\"parser\", \"ner\"])"
      ],
      "metadata": {
        "id": "lH95DwCe6SNp"
      },
      "execution_count": 14,
      "outputs": []
    },
    {
      "cell_type": "code",
      "source": [
        "def lemmatization(texts, allowed_postags=['NOUN', 'ADJ']): #'NOUN', 'ADJ', 'VERB', 'ADV'\n",
        "    texts_out = []\n",
        "    for sent in texts:\n",
        "        doc = nlp(\" \".join(sent)) \n",
        "        texts_out.append(\" \".join([token.lemma_ if token.lemma_ not in ['-PRON-'] else '' for token in doc if token.pos_ in allowed_postags]))\n",
        "    return texts_out"
      ],
      "metadata": {
        "id": "oC2Ge1_7uYfB"
      },
      "execution_count": 15,
      "outputs": []
    },
    {
      "cell_type": "code",
      "source": [
        "data_lemmatized = lemmatization(data_words, allowed_postags=[\"NOUN\",\"ADJ\"]) #select noun and verb\n",
        "print(data_lemmatized[:2])"
      ],
      "metadata": {
        "colab": {
          "base_uri": "https://localhost:8080/"
        },
        "id": "kXZW0yOJujXp",
        "outputId": "eb41872b-5998-40af-d506-967673b72be4"
      },
      "execution_count": 16,
      "outputs": [
        {
          "output_type": "stream",
          "name": "stdout",
          "text": [
            "['thank good afternoon second half fiscal year optimism supply component challenge other headwind many peer many factor optimism unchanged today', 'strong demand record backlog business transformation differentiated innovation portfolio customer multiple technology transition']\n"
          ]
        }
      ]
    },
    {
      "cell_type": "code",
      "source": [
        "from nltk.stem import WordNetLemmatizer \n",
        "from nltk import word_tokenize      \n",
        "class LemmaTokenizer(object):\n",
        "    def __init__(self):\n",
        "        self.wnl = WordNetLemmatizer()\n",
        "    def __call__(self, articles):\n",
        "        return [self.wnl.lemmatize(t) for t in word_tokenize(articles)]"
      ],
      "metadata": {
        "id": "x6SeWWltChk-"
      },
      "execution_count": 17,
      "outputs": []
    },
    {
      "cell_type": "code",
      "source": [
        "nltk.download('punkt')"
      ],
      "metadata": {
        "colab": {
          "base_uri": "https://localhost:8080/"
        },
        "id": "GZnUGFgjEZYF",
        "outputId": "66ad0c99-88c3-4aeb-b3d0-06c8b1df458c"
      },
      "execution_count": 18,
      "outputs": [
        {
          "output_type": "stream",
          "name": "stderr",
          "text": [
            "[nltk_data] Downloading package punkt to /root/nltk_data...\n",
            "[nltk_data]   Unzipping tokenizers/punkt.zip.\n"
          ]
        },
        {
          "output_type": "execute_result",
          "data": {
            "text/plain": [
              "True"
            ]
          },
          "metadata": {},
          "execution_count": 18
        }
      ]
    },
    {
      "cell_type": "code",
      "source": [
        "vectorizer_tfidf = TfidfVectorizer()#dangerous"
      ],
      "metadata": {
        "id": "rLLJF9QXVUY_"
      },
      "execution_count": null,
      "outputs": []
    },
    {
      "cell_type": "code",
      "source": [
        "#ngram (1,3)\n",
        "vectorizer = CountVectorizer(analyzer='word',                                \n",
        "                             min_df=10,\n",
        "\n",
        "# minimum reqd occurences of a word \n",
        "                             stop_words='english',             \n",
        "# remove stop words\n",
        "                             lowercase=True,                   \n",
        "# convert all words to lowercase\n",
        "                             token_pattern='[a-zA-Z0-9]{3,}'  \n",
        "# num chars > 3\n",
        "                             # max_features=50000,             \n",
        "# max number of uniq words    \n",
        ")\n",
        "data_vectorized = vectorizer.fit_transform(data_lemmatized)"
      ],
      "metadata": {
        "id": "fBw5GsJD4-LI"
      },
      "execution_count": 19,
      "outputs": []
    },
    {
      "cell_type": "code",
      "source": [
        "# Build LDA Model\n",
        "lda_model = LatentDirichletAllocation(n_components=10,               # Number of topics\n",
        "                                      max_iter=15,               \n",
        "# Max learning iterations\n",
        "                                      learning_method='batch',   \n",
        "                                      random_state=100,          \n",
        "# Random state\n",
        "                                      batch_size=128,            \n",
        "# n docs in each learning iter\n",
        "                                      evaluate_every = -1,       \n",
        "# compute perplexity every n iters, default: Don't\n",
        "                                      n_jobs = -1,               \n",
        "# Use all available CPUs\n",
        "                                     )\n",
        "lda_output = lda_model.fit_transform(data_vectorized)\n",
        "print(lda_model)"
      ],
      "metadata": {
        "colab": {
          "base_uri": "https://localhost:8080/"
        },
        "id": "ZKMKGdZ64mSx",
        "outputId": "5ca1435c-870e-41aa-89a6-4481834c7267"
      },
      "execution_count": 48,
      "outputs": [
        {
          "output_type": "stream",
          "name": "stdout",
          "text": [
            "LatentDirichletAllocation(max_iter=15, n_jobs=-1, random_state=100)\n"
          ]
        }
      ]
    },
    {
      "cell_type": "code",
      "source": [
        "lda_output"
      ],
      "metadata": {
        "colab": {
          "base_uri": "https://localhost:8080/"
        },
        "id": "lf7TQJkp4qoY",
        "outputId": "16f263a3-d8c3-41b9-904c-65852cbbf442"
      },
      "execution_count": 49,
      "outputs": [
        {
          "output_type": "execute_result",
          "data": {
            "text/plain": [
              "array([[0.02000104, 0.02      , 0.02000083, ..., 0.81997055, 0.02000526,\n",
              "        0.02001359],\n",
              "       [0.01428732, 0.01428648, 0.01428625, ..., 0.01428571, 0.01428585,\n",
              "        0.57877954],\n",
              "       [0.05      , 0.05      , 0.05001399, ..., 0.05      , 0.05      ,\n",
              "        0.05      ],\n",
              "       ...,\n",
              "       [0.02      , 0.02000673, 0.22000003, ..., 0.02000073, 0.61998427,\n",
              "        0.02000061],\n",
              "       [0.05      , 0.05      , 0.05      , ..., 0.05      , 0.05000828,\n",
              "        0.54998672],\n",
              "       [0.05      , 0.05      , 0.55      , ..., 0.05      , 0.05      ,\n",
              "        0.05      ]])"
            ]
          },
          "metadata": {},
          "execution_count": 49
        }
      ]
    },
    {
      "cell_type": "code",
      "source": [
        "# Log Likelyhood: Higher the better\n",
        "print(\"Log Likelihood: \", lda_model.score(data_vectorized))\n",
        "# Perplexity: Lower the better. Perplexity = exp(-1. * log-likelihood per word)\n",
        "print(\"Perplexity: \", lda_model.perplexity(data_vectorized))\n",
        "# See model parameters\n",
        "pprint(lda_model.get_params())"
      ],
      "metadata": {
        "colab": {
          "base_uri": "https://localhost:8080/"
        },
        "id": "68ZWfKYI4t5Q",
        "outputId": "84165ee7-0274-48cd-9190-45192f4819d4"
      },
      "execution_count": 50,
      "outputs": [
        {
          "output_type": "stream",
          "name": "stdout",
          "text": [
            "Log Likelihood:  -2463.9717030867414\n",
            "Perplexity:  38.28003783127336\n",
            "{'batch_size': 128,\n",
            " 'doc_topic_prior': None,\n",
            " 'evaluate_every': -1,\n",
            " 'learning_decay': 0.7,\n",
            " 'learning_method': 'batch',\n",
            " 'learning_offset': 10.0,\n",
            " 'max_doc_update_iter': 100,\n",
            " 'max_iter': 15,\n",
            " 'mean_change_tol': 0.001,\n",
            " 'n_components': 10,\n",
            " 'n_jobs': -1,\n",
            " 'perp_tol': 0.1,\n",
            " 'random_state': 100,\n",
            " 'topic_word_prior': None,\n",
            " 'total_samples': 1000000.0,\n",
            " 'verbose': 0}\n"
          ]
        }
      ]
    },
    {
      "cell_type": "code",
      "source": [
        "# Define Search Param\n",
        "search_params = {'n_components': [ 5, 10, 15, 20, 25, 30], 'learning_decay': [.4, .5, .7, .9]}\n",
        "# Init the Model\n",
        "lda = LatentDirichletAllocation(max_iter=5, learning_method='batch', learning_offset=50.,random_state=0)\n",
        "# Init Grid Search Class\n",
        "model = GridSearchCV(lda, param_grid=search_params)\n",
        "# Do the Grid Search\n",
        "model.fit(data_vectorized)\n",
        "GridSearchCV(cv=None, error_score='raise',\n",
        "       estimator=LatentDirichletAllocation(batch_size=128, doc_topic_prior=None,\n",
        "             evaluate_every=-1, learning_decay=0.7, learning_method=None,\n",
        "             learning_offset=10.0, max_doc_update_iter=100, max_iter=15,\n",
        "             mean_change_tol=0.001, n_components=None, n_jobs=1,\n",
        "      perp_tol=0.1, random_state=None,\n",
        "             topic_word_prior=None, total_samples=1000000.0, verbose=0), n_jobs=1,\n",
        "       param_grid={'n_components': [5,10, 15, 20, 25, 30], 'learning_decay': [0.5, 0.7, 0.9]},\n",
        "       pre_dispatch='2*n_jobs', refit=True, return_train_score='warn',\n",
        "       scoring=None, verbose=0)"
      ],
      "metadata": {
        "colab": {
          "base_uri": "https://localhost:8080/"
        },
        "id": "Ufyc16JM8Gz-",
        "outputId": "e1a56835-2386-4ee2-ad52-4a42920d9763"
      },
      "execution_count": 58,
      "outputs": [
        {
          "output_type": "execute_result",
          "data": {
            "text/plain": [
              "GridSearchCV(error_score='raise',\n",
              "             estimator=LatentDirichletAllocation(learning_method=None,\n",
              "                                                 max_iter=15, n_components=None,\n",
              "                                                 n_jobs=1),\n",
              "             n_jobs=1,\n",
              "             param_grid={'learning_decay': [0.5, 0.7, 0.9],\n",
              "                         'n_components': [5, 10, 15, 20, 25, 30]},\n",
              "             return_train_score='warn')"
            ]
          },
          "metadata": {},
          "execution_count": 58
        }
      ]
    },
    {
      "cell_type": "code",
      "source": [
        "# Best Model\n",
        "best_lda_model = model.best_estimator_\n",
        "# Model Parameters\n",
        "print(\"Best Model's Params: \", model.best_params_)\n",
        "# Log Likelihood Score\n",
        "print(\"Best Log Likelihood Score: \", model.best_score_)\n",
        "# Perplexity\n",
        "print(\"Model Perplexity: \", best_lda_model.perplexity(data_vectorized))"
      ],
      "metadata": {
        "colab": {
          "base_uri": "https://localhost:8080/"
        },
        "id": "juH8J_rC8Tcf",
        "outputId": "aad1f2a9-98f9-4479-e266-b041fb80246a"
      },
      "execution_count": 59,
      "outputs": [
        {
          "output_type": "stream",
          "name": "stdout",
          "text": [
            "Best Model's Params:  {'learning_decay': 0.4, 'n_components': 5}\n",
            "Best Log Likelihood Score:  -638.4655157377955\n",
            "Model Perplexity:  37.60799500301649\n"
          ]
        }
      ]
    },
    {
      "cell_type": "code",
      "source": [
        "# Create Document — Topic Matrix\n",
        "lda_output = best_lda_model.transform(data_vectorized)\n",
        "# column names\n",
        "topicnames = [\"Topic\"+ str(i) for i in range(best_lda_model.n_components)]\n",
        "# index names\n",
        "docnames = [\"Doc\" + str(i) for i in range(len(custom_data))]\n",
        "# Make the pandas dataframe\n",
        "df_document_topic = pd.DataFrame(np.round(lda_output, 2), columns=topicnames, index=docnames)\n",
        "# Get dominant topic for each document\n",
        "dominant_topic = np.argmax(df_document_topic.values, axis=1)\n",
        "df_document_topic[\"dominant_topic\"] = dominant_topic\n",
        "# Styling\n",
        "def color_green(val):\n",
        " color = \"green\" if val > .1 else \"black\"\n",
        " return \"color: {col}\".format(col=color)\n",
        "def make_bold(val):\n",
        " weight = 700 if val > .1 else 400\n",
        " return \"font-weight: {weight}\".format(weight=weight)\n",
        "# Apply Style\n",
        "df_document_topics = df_document_topic.head(15).style.applymap(color_green).applymap(make_bold)\n",
        "df_document_topics"
      ],
      "metadata": {
        "colab": {
          "base_uri": "https://localhost:8080/",
          "height": 520
        },
        "id": "ra1B9CXa9bsv",
        "outputId": "97adfb96-ce75-42dc-ddf6-3c74942b7442"
      },
      "execution_count": 60,
      "outputs": [
        {
          "output_type": "execute_result",
          "data": {
            "text/plain": [
              "<pandas.io.formats.style.Styler at 0x7fe1b01e5f10>"
            ],
            "text/html": [
              "<style type=\"text/css\">\n",
              "#T_b2dea_row0_col0, #T_b2dea_row0_col1, #T_b2dea_row0_col2, #T_b2dea_row1_col2, #T_b2dea_row1_col3, #T_b2dea_row1_col4, #T_b2dea_row2_col1, #T_b2dea_row2_col2, #T_b2dea_row2_col3, #T_b2dea_row2_col4, #T_b2dea_row2_col5, #T_b2dea_row3_col1, #T_b2dea_row3_col2, #T_b2dea_row3_col3, #T_b2dea_row3_col4, #T_b2dea_row3_col5, #T_b2dea_row4_col0, #T_b2dea_row4_col1, #T_b2dea_row4_col3, #T_b2dea_row4_col4, #T_b2dea_row5_col1, #T_b2dea_row5_col2, #T_b2dea_row5_col3, #T_b2dea_row5_col5, #T_b2dea_row6_col2, #T_b2dea_row7_col0, #T_b2dea_row7_col1, #T_b2dea_row7_col3, #T_b2dea_row8_col0, #T_b2dea_row8_col1, #T_b2dea_row8_col2, #T_b2dea_row8_col4, #T_b2dea_row9_col2, #T_b2dea_row9_col3, #T_b2dea_row9_col5, #T_b2dea_row10_col1, #T_b2dea_row10_col2, #T_b2dea_row10_col4, #T_b2dea_row10_col5, #T_b2dea_row11_col0, #T_b2dea_row11_col1, #T_b2dea_row11_col2, #T_b2dea_row11_col4, #T_b2dea_row12_col0, #T_b2dea_row12_col2, #T_b2dea_row12_col3, #T_b2dea_row13_col0, #T_b2dea_row13_col1, #T_b2dea_row13_col3, #T_b2dea_row13_col4, #T_b2dea_row14_col0, #T_b2dea_row14_col1, #T_b2dea_row14_col2, #T_b2dea_row14_col4 {\n",
              "  color: black;\n",
              "  font-weight: 400;\n",
              "}\n",
              "#T_b2dea_row0_col3, #T_b2dea_row0_col4, #T_b2dea_row0_col5, #T_b2dea_row1_col0, #T_b2dea_row1_col1, #T_b2dea_row1_col5, #T_b2dea_row2_col0, #T_b2dea_row3_col0, #T_b2dea_row4_col2, #T_b2dea_row4_col5, #T_b2dea_row5_col0, #T_b2dea_row5_col4, #T_b2dea_row6_col0, #T_b2dea_row6_col1, #T_b2dea_row6_col3, #T_b2dea_row6_col4, #T_b2dea_row6_col5, #T_b2dea_row7_col2, #T_b2dea_row7_col4, #T_b2dea_row7_col5, #T_b2dea_row8_col3, #T_b2dea_row8_col5, #T_b2dea_row9_col0, #T_b2dea_row9_col1, #T_b2dea_row9_col4, #T_b2dea_row10_col0, #T_b2dea_row10_col3, #T_b2dea_row11_col3, #T_b2dea_row11_col5, #T_b2dea_row12_col1, #T_b2dea_row12_col4, #T_b2dea_row12_col5, #T_b2dea_row13_col2, #T_b2dea_row13_col5, #T_b2dea_row14_col3, #T_b2dea_row14_col5 {\n",
              "  color: green;\n",
              "  font-weight: 700;\n",
              "}\n",
              "</style>\n",
              "<table id=\"T_b2dea_\" class=\"dataframe\">\n",
              "  <thead>\n",
              "    <tr>\n",
              "      <th class=\"blank level0\" >&nbsp;</th>\n",
              "      <th class=\"col_heading level0 col0\" >Topic0</th>\n",
              "      <th class=\"col_heading level0 col1\" >Topic1</th>\n",
              "      <th class=\"col_heading level0 col2\" >Topic2</th>\n",
              "      <th class=\"col_heading level0 col3\" >Topic3</th>\n",
              "      <th class=\"col_heading level0 col4\" >Topic4</th>\n",
              "      <th class=\"col_heading level0 col5\" >dominant_topic</th>\n",
              "    </tr>\n",
              "  </thead>\n",
              "  <tbody>\n",
              "    <tr>\n",
              "      <th id=\"T_b2dea_level0_row0\" class=\"row_heading level0 row0\" >Doc0</th>\n",
              "      <td id=\"T_b2dea_row0_col0\" class=\"data row0 col0\" >0.040000</td>\n",
              "      <td id=\"T_b2dea_row0_col1\" class=\"data row0 col1\" >0.040000</td>\n",
              "      <td id=\"T_b2dea_row0_col2\" class=\"data row0 col2\" >0.040000</td>\n",
              "      <td id=\"T_b2dea_row0_col3\" class=\"data row0 col3\" >0.400000</td>\n",
              "      <td id=\"T_b2dea_row0_col4\" class=\"data row0 col4\" >0.480000</td>\n",
              "      <td id=\"T_b2dea_row0_col5\" class=\"data row0 col5\" >4</td>\n",
              "    </tr>\n",
              "    <tr>\n",
              "      <th id=\"T_b2dea_level0_row1\" class=\"row_heading level0 row1\" >Doc1</th>\n",
              "      <td id=\"T_b2dea_row1_col0\" class=\"data row1 col0\" >0.340000</td>\n",
              "      <td id=\"T_b2dea_row1_col1\" class=\"data row1 col1\" >0.570000</td>\n",
              "      <td id=\"T_b2dea_row1_col2\" class=\"data row1 col2\" >0.030000</td>\n",
              "      <td id=\"T_b2dea_row1_col3\" class=\"data row1 col3\" >0.030000</td>\n",
              "      <td id=\"T_b2dea_row1_col4\" class=\"data row1 col4\" >0.030000</td>\n",
              "      <td id=\"T_b2dea_row1_col5\" class=\"data row1 col5\" >1</td>\n",
              "    </tr>\n",
              "    <tr>\n",
              "      <th id=\"T_b2dea_level0_row2\" class=\"row_heading level0 row2\" >Doc2</th>\n",
              "      <td id=\"T_b2dea_row2_col0\" class=\"data row2 col0\" >0.600000</td>\n",
              "      <td id=\"T_b2dea_row2_col1\" class=\"data row2 col1\" >0.100000</td>\n",
              "      <td id=\"T_b2dea_row2_col2\" class=\"data row2 col2\" >0.100000</td>\n",
              "      <td id=\"T_b2dea_row2_col3\" class=\"data row2 col3\" >0.100000</td>\n",
              "      <td id=\"T_b2dea_row2_col4\" class=\"data row2 col4\" >0.100000</td>\n",
              "      <td id=\"T_b2dea_row2_col5\" class=\"data row2 col5\" >0</td>\n",
              "    </tr>\n",
              "    <tr>\n",
              "      <th id=\"T_b2dea_level0_row3\" class=\"row_heading level0 row3\" >Doc3</th>\n",
              "      <td id=\"T_b2dea_row3_col0\" class=\"data row3 col0\" >0.730000</td>\n",
              "      <td id=\"T_b2dea_row3_col1\" class=\"data row3 col1\" >0.070000</td>\n",
              "      <td id=\"T_b2dea_row3_col2\" class=\"data row3 col2\" >0.070000</td>\n",
              "      <td id=\"T_b2dea_row3_col3\" class=\"data row3 col3\" >0.070000</td>\n",
              "      <td id=\"T_b2dea_row3_col4\" class=\"data row3 col4\" >0.070000</td>\n",
              "      <td id=\"T_b2dea_row3_col5\" class=\"data row3 col5\" >0</td>\n",
              "    </tr>\n",
              "    <tr>\n",
              "      <th id=\"T_b2dea_level0_row4\" class=\"row_heading level0 row4\" >Doc4</th>\n",
              "      <td id=\"T_b2dea_row4_col0\" class=\"data row4 col0\" >0.050000</td>\n",
              "      <td id=\"T_b2dea_row4_col1\" class=\"data row4 col1\" >0.050000</td>\n",
              "      <td id=\"T_b2dea_row4_col2\" class=\"data row4 col2\" >0.800000</td>\n",
              "      <td id=\"T_b2dea_row4_col3\" class=\"data row4 col3\" >0.050000</td>\n",
              "      <td id=\"T_b2dea_row4_col4\" class=\"data row4 col4\" >0.050000</td>\n",
              "      <td id=\"T_b2dea_row4_col5\" class=\"data row4 col5\" >2</td>\n",
              "    </tr>\n",
              "    <tr>\n",
              "      <th id=\"T_b2dea_level0_row5\" class=\"row_heading level0 row5\" >Doc5</th>\n",
              "      <td id=\"T_b2dea_row5_col0\" class=\"data row5 col0\" >0.530000</td>\n",
              "      <td id=\"T_b2dea_row5_col1\" class=\"data row5 col1\" >0.050000</td>\n",
              "      <td id=\"T_b2dea_row5_col2\" class=\"data row5 col2\" >0.050000</td>\n",
              "      <td id=\"T_b2dea_row5_col3\" class=\"data row5 col3\" >0.050000</td>\n",
              "      <td id=\"T_b2dea_row5_col4\" class=\"data row5 col4\" >0.310000</td>\n",
              "      <td id=\"T_b2dea_row5_col5\" class=\"data row5 col5\" >0</td>\n",
              "    </tr>\n",
              "    <tr>\n",
              "      <th id=\"T_b2dea_level0_row6\" class=\"row_heading level0 row6\" >Doc6</th>\n",
              "      <td id=\"T_b2dea_row6_col0\" class=\"data row6 col0\" >0.120000</td>\n",
              "      <td id=\"T_b2dea_row6_col1\" class=\"data row6 col1\" >0.130000</td>\n",
              "      <td id=\"T_b2dea_row6_col2\" class=\"data row6 col2\" >0.030000</td>\n",
              "      <td id=\"T_b2dea_row6_col3\" class=\"data row6 col3\" >0.550000</td>\n",
              "      <td id=\"T_b2dea_row6_col4\" class=\"data row6 col4\" >0.170000</td>\n",
              "      <td id=\"T_b2dea_row6_col5\" class=\"data row6 col5\" >3</td>\n",
              "    </tr>\n",
              "    <tr>\n",
              "      <th id=\"T_b2dea_level0_row7\" class=\"row_heading level0 row7\" >Doc7</th>\n",
              "      <td id=\"T_b2dea_row7_col0\" class=\"data row7 col0\" >0.040000</td>\n",
              "      <td id=\"T_b2dea_row7_col1\" class=\"data row7 col1\" >0.040000</td>\n",
              "      <td id=\"T_b2dea_row7_col2\" class=\"data row7 col2\" >0.210000</td>\n",
              "      <td id=\"T_b2dea_row7_col3\" class=\"data row7 col3\" >0.040000</td>\n",
              "      <td id=\"T_b2dea_row7_col4\" class=\"data row7 col4\" >0.670000</td>\n",
              "      <td id=\"T_b2dea_row7_col5\" class=\"data row7 col5\" >4</td>\n",
              "    </tr>\n",
              "    <tr>\n",
              "      <th id=\"T_b2dea_level0_row8\" class=\"row_heading level0 row8\" >Doc8</th>\n",
              "      <td id=\"T_b2dea_row8_col0\" class=\"data row8 col0\" >0.100000</td>\n",
              "      <td id=\"T_b2dea_row8_col1\" class=\"data row8 col1\" >0.100000</td>\n",
              "      <td id=\"T_b2dea_row8_col2\" class=\"data row8 col2\" >0.100000</td>\n",
              "      <td id=\"T_b2dea_row8_col3\" class=\"data row8 col3\" >0.600000</td>\n",
              "      <td id=\"T_b2dea_row8_col4\" class=\"data row8 col4\" >0.100000</td>\n",
              "      <td id=\"T_b2dea_row8_col5\" class=\"data row8 col5\" >3</td>\n",
              "    </tr>\n",
              "    <tr>\n",
              "      <th id=\"T_b2dea_level0_row9\" class=\"row_heading level0 row9\" >Doc9</th>\n",
              "      <td id=\"T_b2dea_row9_col0\" class=\"data row9 col0\" >0.370000</td>\n",
              "      <td id=\"T_b2dea_row9_col1\" class=\"data row9 col1\" >0.180000</td>\n",
              "      <td id=\"T_b2dea_row9_col2\" class=\"data row9 col2\" >0.080000</td>\n",
              "      <td id=\"T_b2dea_row9_col3\" class=\"data row9 col3\" >0.020000</td>\n",
              "      <td id=\"T_b2dea_row9_col4\" class=\"data row9 col4\" >0.360000</td>\n",
              "      <td id=\"T_b2dea_row9_col5\" class=\"data row9 col5\" >0</td>\n",
              "    </tr>\n",
              "    <tr>\n",
              "      <th id=\"T_b2dea_level0_row10\" class=\"row_heading level0 row10\" >Doc10</th>\n",
              "      <td id=\"T_b2dea_row10_col0\" class=\"data row10 col0\" >0.710000</td>\n",
              "      <td id=\"T_b2dea_row10_col1\" class=\"data row10 col1\" >0.040000</td>\n",
              "      <td id=\"T_b2dea_row10_col2\" class=\"data row10 col2\" >0.030000</td>\n",
              "      <td id=\"T_b2dea_row10_col3\" class=\"data row10 col3\" >0.180000</td>\n",
              "      <td id=\"T_b2dea_row10_col4\" class=\"data row10 col4\" >0.030000</td>\n",
              "      <td id=\"T_b2dea_row10_col5\" class=\"data row10 col5\" >0</td>\n",
              "    </tr>\n",
              "    <tr>\n",
              "      <th id=\"T_b2dea_level0_row11\" class=\"row_heading level0 row11\" >Doc11</th>\n",
              "      <td id=\"T_b2dea_row11_col0\" class=\"data row11 col0\" >0.100000</td>\n",
              "      <td id=\"T_b2dea_row11_col1\" class=\"data row11 col1\" >0.100000</td>\n",
              "      <td id=\"T_b2dea_row11_col2\" class=\"data row11 col2\" >0.100000</td>\n",
              "      <td id=\"T_b2dea_row11_col3\" class=\"data row11 col3\" >0.600000</td>\n",
              "      <td id=\"T_b2dea_row11_col4\" class=\"data row11 col4\" >0.100000</td>\n",
              "      <td id=\"T_b2dea_row11_col5\" class=\"data row11 col5\" >3</td>\n",
              "    </tr>\n",
              "    <tr>\n",
              "      <th id=\"T_b2dea_level0_row12\" class=\"row_heading level0 row12\" >Doc12</th>\n",
              "      <td id=\"T_b2dea_row12_col0\" class=\"data row12 col0\" >0.030000</td>\n",
              "      <td id=\"T_b2dea_row12_col1\" class=\"data row12 col1\" >0.370000</td>\n",
              "      <td id=\"T_b2dea_row12_col2\" class=\"data row12 col2\" >0.030000</td>\n",
              "      <td id=\"T_b2dea_row12_col3\" class=\"data row12 col3\" >0.030000</td>\n",
              "      <td id=\"T_b2dea_row12_col4\" class=\"data row12 col4\" >0.530000</td>\n",
              "      <td id=\"T_b2dea_row12_col5\" class=\"data row12 col5\" >4</td>\n",
              "    </tr>\n",
              "    <tr>\n",
              "      <th id=\"T_b2dea_level0_row13\" class=\"row_heading level0 row13\" >Doc13</th>\n",
              "      <td id=\"T_b2dea_row13_col0\" class=\"data row13 col0\" >0.020000</td>\n",
              "      <td id=\"T_b2dea_row13_col1\" class=\"data row13 col1\" >0.020000</td>\n",
              "      <td id=\"T_b2dea_row13_col2\" class=\"data row13 col2\" >0.920000</td>\n",
              "      <td id=\"T_b2dea_row13_col3\" class=\"data row13 col3\" >0.020000</td>\n",
              "      <td id=\"T_b2dea_row13_col4\" class=\"data row13 col4\" >0.020000</td>\n",
              "      <td id=\"T_b2dea_row13_col5\" class=\"data row13 col5\" >2</td>\n",
              "    </tr>\n",
              "    <tr>\n",
              "      <th id=\"T_b2dea_level0_row14\" class=\"row_heading level0 row14\" >Doc14</th>\n",
              "      <td id=\"T_b2dea_row14_col0\" class=\"data row14 col0\" >0.100000</td>\n",
              "      <td id=\"T_b2dea_row14_col1\" class=\"data row14 col1\" >0.100000</td>\n",
              "      <td id=\"T_b2dea_row14_col2\" class=\"data row14 col2\" >0.100000</td>\n",
              "      <td id=\"T_b2dea_row14_col3\" class=\"data row14 col3\" >0.600000</td>\n",
              "      <td id=\"T_b2dea_row14_col4\" class=\"data row14 col4\" >0.100000</td>\n",
              "      <td id=\"T_b2dea_row14_col5\" class=\"data row14 col5\" >3</td>\n",
              "    </tr>\n",
              "  </tbody>\n",
              "</table>\n"
            ]
          },
          "metadata": {},
          "execution_count": 60
        }
      ]
    },
    {
      "cell_type": "code",
      "source": [
        "# Topic-Keyword Matrix\n",
        "df_topic_keywords = pd.DataFrame(best_lda_model.components_)\n",
        "# Assign Column and Index\n",
        "df_topic_keywords.columns = vectorizer.get_feature_names()\n",
        "df_topic_keywords.index = topicnames\n",
        "# View\n",
        "df_topic_keywords.head()"
      ],
      "metadata": {
        "colab": {
          "base_uri": "https://localhost:8080/",
          "height": 334
        },
        "id": "-uuOqBFn9gRu",
        "outputId": "d65743b1-5efc-493b-f113-c512bb1ffc4a"
      },
      "execution_count": 61,
      "outputs": [
        {
          "output_type": "stream",
          "name": "stderr",
          "text": [
            "/usr/local/lib/python3.7/dist-packages/sklearn/utils/deprecation.py:87: FutureWarning: Function get_feature_names is deprecated; get_feature_names is deprecated in 1.0 and will be removed in 1.2. Please use get_feature_names_out instead.\n",
            "  warnings.warn(msg, category=FutureWarning)\n"
          ]
        },
        {
          "output_type": "execute_result",
          "data": {
            "text/plain": [
              "          backlog      basis  business      chain  component   customer  \\\n",
              "Topic0  17.953126   4.370770  4.532611   1.229756   0.200245   0.201941   \n",
              "Topic1   0.202176   0.202105  9.364425   0.200484   0.200112   4.771128   \n",
              "Topic2   0.200023  10.023756  4.205231   0.202442   9.574689  24.613842   \n",
              "Topic3   0.201612   0.200904  0.200399  10.166998   8.202029   0.202287   \n",
              "Topic4   0.443063   0.202464  2.697334   0.200320   1.822925   0.210803   \n",
              "\n",
              "           demand  enterprise      good     growth  ...     solid    strong  \\\n",
              "Topic0   2.394677    0.202740  0.200625  26.040001  ...  6.819866  2.231446   \n",
              "Topic1  18.712452    0.345982  5.558917   0.898184  ...  3.577977  8.105083   \n",
              "Topic2   0.200980   15.049877  0.212499   0.213123  ...  0.200811  1.255650   \n",
              "Topic3   1.248421    0.201308  0.201426   4.813188  ...  0.200484  1.205411   \n",
              "Topic4   0.443470    0.200094  5.826533   5.035504  ...  0.200861  0.202410   \n",
              "\n",
              "           supply      team       term     thing       time       way  \\\n",
              "Topic0   0.201048  0.200024   1.254635  0.203938   0.200976  0.201943   \n",
              "Topic1   0.200596  0.201111   0.200390  0.271031   0.286196  7.199526   \n",
              "Topic2   1.404049  5.684033   2.789821  9.782246   0.200706  0.202157   \n",
              "Topic3  28.208632  2.836925   0.204673  4.230462  19.106194  5.166622   \n",
              "Topic4   0.985676  5.077908  12.550481  5.512322   1.205928  0.229751   \n",
              "\n",
              "            week       year  \n",
              "Topic0  8.296933  13.775827  \n",
              "Topic1  0.200025   2.530601  \n",
              "Topic2  2.451945   1.480756  \n",
              "Topic3  3.848362   3.305443  \n",
              "Topic4  0.202735  33.907374  \n",
              "\n",
              "[5 rows x 32 columns]"
            ],
            "text/html": [
              "\n",
              "  <div id=\"df-78ef8bdc-9f92-4c21-9d9d-754aa079820c\">\n",
              "    <div class=\"colab-df-container\">\n",
              "      <div>\n",
              "<style scoped>\n",
              "    .dataframe tbody tr th:only-of-type {\n",
              "        vertical-align: middle;\n",
              "    }\n",
              "\n",
              "    .dataframe tbody tr th {\n",
              "        vertical-align: top;\n",
              "    }\n",
              "\n",
              "    .dataframe thead th {\n",
              "        text-align: right;\n",
              "    }\n",
              "</style>\n",
              "<table border=\"1\" class=\"dataframe\">\n",
              "  <thead>\n",
              "    <tr style=\"text-align: right;\">\n",
              "      <th></th>\n",
              "      <th>backlog</th>\n",
              "      <th>basis</th>\n",
              "      <th>business</th>\n",
              "      <th>chain</th>\n",
              "      <th>component</th>\n",
              "      <th>customer</th>\n",
              "      <th>demand</th>\n",
              "      <th>enterprise</th>\n",
              "      <th>good</th>\n",
              "      <th>growth</th>\n",
              "      <th>...</th>\n",
              "      <th>solid</th>\n",
              "      <th>strong</th>\n",
              "      <th>supply</th>\n",
              "      <th>team</th>\n",
              "      <th>term</th>\n",
              "      <th>thing</th>\n",
              "      <th>time</th>\n",
              "      <th>way</th>\n",
              "      <th>week</th>\n",
              "      <th>year</th>\n",
              "    </tr>\n",
              "  </thead>\n",
              "  <tbody>\n",
              "    <tr>\n",
              "      <th>Topic0</th>\n",
              "      <td>17.953126</td>\n",
              "      <td>4.370770</td>\n",
              "      <td>4.532611</td>\n",
              "      <td>1.229756</td>\n",
              "      <td>0.200245</td>\n",
              "      <td>0.201941</td>\n",
              "      <td>2.394677</td>\n",
              "      <td>0.202740</td>\n",
              "      <td>0.200625</td>\n",
              "      <td>26.040001</td>\n",
              "      <td>...</td>\n",
              "      <td>6.819866</td>\n",
              "      <td>2.231446</td>\n",
              "      <td>0.201048</td>\n",
              "      <td>0.200024</td>\n",
              "      <td>1.254635</td>\n",
              "      <td>0.203938</td>\n",
              "      <td>0.200976</td>\n",
              "      <td>0.201943</td>\n",
              "      <td>8.296933</td>\n",
              "      <td>13.775827</td>\n",
              "    </tr>\n",
              "    <tr>\n",
              "      <th>Topic1</th>\n",
              "      <td>0.202176</td>\n",
              "      <td>0.202105</td>\n",
              "      <td>9.364425</td>\n",
              "      <td>0.200484</td>\n",
              "      <td>0.200112</td>\n",
              "      <td>4.771128</td>\n",
              "      <td>18.712452</td>\n",
              "      <td>0.345982</td>\n",
              "      <td>5.558917</td>\n",
              "      <td>0.898184</td>\n",
              "      <td>...</td>\n",
              "      <td>3.577977</td>\n",
              "      <td>8.105083</td>\n",
              "      <td>0.200596</td>\n",
              "      <td>0.201111</td>\n",
              "      <td>0.200390</td>\n",
              "      <td>0.271031</td>\n",
              "      <td>0.286196</td>\n",
              "      <td>7.199526</td>\n",
              "      <td>0.200025</td>\n",
              "      <td>2.530601</td>\n",
              "    </tr>\n",
              "    <tr>\n",
              "      <th>Topic2</th>\n",
              "      <td>0.200023</td>\n",
              "      <td>10.023756</td>\n",
              "      <td>4.205231</td>\n",
              "      <td>0.202442</td>\n",
              "      <td>9.574689</td>\n",
              "      <td>24.613842</td>\n",
              "      <td>0.200980</td>\n",
              "      <td>15.049877</td>\n",
              "      <td>0.212499</td>\n",
              "      <td>0.213123</td>\n",
              "      <td>...</td>\n",
              "      <td>0.200811</td>\n",
              "      <td>1.255650</td>\n",
              "      <td>1.404049</td>\n",
              "      <td>5.684033</td>\n",
              "      <td>2.789821</td>\n",
              "      <td>9.782246</td>\n",
              "      <td>0.200706</td>\n",
              "      <td>0.202157</td>\n",
              "      <td>2.451945</td>\n",
              "      <td>1.480756</td>\n",
              "    </tr>\n",
              "    <tr>\n",
              "      <th>Topic3</th>\n",
              "      <td>0.201612</td>\n",
              "      <td>0.200904</td>\n",
              "      <td>0.200399</td>\n",
              "      <td>10.166998</td>\n",
              "      <td>8.202029</td>\n",
              "      <td>0.202287</td>\n",
              "      <td>1.248421</td>\n",
              "      <td>0.201308</td>\n",
              "      <td>0.201426</td>\n",
              "      <td>4.813188</td>\n",
              "      <td>...</td>\n",
              "      <td>0.200484</td>\n",
              "      <td>1.205411</td>\n",
              "      <td>28.208632</td>\n",
              "      <td>2.836925</td>\n",
              "      <td>0.204673</td>\n",
              "      <td>4.230462</td>\n",
              "      <td>19.106194</td>\n",
              "      <td>5.166622</td>\n",
              "      <td>3.848362</td>\n",
              "      <td>3.305443</td>\n",
              "    </tr>\n",
              "    <tr>\n",
              "      <th>Topic4</th>\n",
              "      <td>0.443063</td>\n",
              "      <td>0.202464</td>\n",
              "      <td>2.697334</td>\n",
              "      <td>0.200320</td>\n",
              "      <td>1.822925</td>\n",
              "      <td>0.210803</td>\n",
              "      <td>0.443470</td>\n",
              "      <td>0.200094</td>\n",
              "      <td>5.826533</td>\n",
              "      <td>5.035504</td>\n",
              "      <td>...</td>\n",
              "      <td>0.200861</td>\n",
              "      <td>0.202410</td>\n",
              "      <td>0.985676</td>\n",
              "      <td>5.077908</td>\n",
              "      <td>12.550481</td>\n",
              "      <td>5.512322</td>\n",
              "      <td>1.205928</td>\n",
              "      <td>0.229751</td>\n",
              "      <td>0.202735</td>\n",
              "      <td>33.907374</td>\n",
              "    </tr>\n",
              "  </tbody>\n",
              "</table>\n",
              "<p>5 rows × 32 columns</p>\n",
              "</div>\n",
              "      <button class=\"colab-df-convert\" onclick=\"convertToInteractive('df-78ef8bdc-9f92-4c21-9d9d-754aa079820c')\"\n",
              "              title=\"Convert this dataframe to an interactive table.\"\n",
              "              style=\"display:none;\">\n",
              "        \n",
              "  <svg xmlns=\"http://www.w3.org/2000/svg\" height=\"24px\"viewBox=\"0 0 24 24\"\n",
              "       width=\"24px\">\n",
              "    <path d=\"M0 0h24v24H0V0z\" fill=\"none\"/>\n",
              "    <path d=\"M18.56 5.44l.94 2.06.94-2.06 2.06-.94-2.06-.94-.94-2.06-.94 2.06-2.06.94zm-11 1L8.5 8.5l.94-2.06 2.06-.94-2.06-.94L8.5 2.5l-.94 2.06-2.06.94zm10 10l.94 2.06.94-2.06 2.06-.94-2.06-.94-.94-2.06-.94 2.06-2.06.94z\"/><path d=\"M17.41 7.96l-1.37-1.37c-.4-.4-.92-.59-1.43-.59-.52 0-1.04.2-1.43.59L10.3 9.45l-7.72 7.72c-.78.78-.78 2.05 0 2.83L4 21.41c.39.39.9.59 1.41.59.51 0 1.02-.2 1.41-.59l7.78-7.78 2.81-2.81c.8-.78.8-2.07 0-2.86zM5.41 20L4 18.59l7.72-7.72 1.47 1.35L5.41 20z\"/>\n",
              "  </svg>\n",
              "      </button>\n",
              "      \n",
              "  <style>\n",
              "    .colab-df-container {\n",
              "      display:flex;\n",
              "      flex-wrap:wrap;\n",
              "      gap: 12px;\n",
              "    }\n",
              "\n",
              "    .colab-df-convert {\n",
              "      background-color: #E8F0FE;\n",
              "      border: none;\n",
              "      border-radius: 50%;\n",
              "      cursor: pointer;\n",
              "      display: none;\n",
              "      fill: #1967D2;\n",
              "      height: 32px;\n",
              "      padding: 0 0 0 0;\n",
              "      width: 32px;\n",
              "    }\n",
              "\n",
              "    .colab-df-convert:hover {\n",
              "      background-color: #E2EBFA;\n",
              "      box-shadow: 0px 1px 2px rgba(60, 64, 67, 0.3), 0px 1px 3px 1px rgba(60, 64, 67, 0.15);\n",
              "      fill: #174EA6;\n",
              "    }\n",
              "\n",
              "    [theme=dark] .colab-df-convert {\n",
              "      background-color: #3B4455;\n",
              "      fill: #D2E3FC;\n",
              "    }\n",
              "\n",
              "    [theme=dark] .colab-df-convert:hover {\n",
              "      background-color: #434B5C;\n",
              "      box-shadow: 0px 1px 3px 1px rgba(0, 0, 0, 0.15);\n",
              "      filter: drop-shadow(0px 1px 2px rgba(0, 0, 0, 0.3));\n",
              "      fill: #FFFFFF;\n",
              "    }\n",
              "  </style>\n",
              "\n",
              "      <script>\n",
              "        const buttonEl =\n",
              "          document.querySelector('#df-78ef8bdc-9f92-4c21-9d9d-754aa079820c button.colab-df-convert');\n",
              "        buttonEl.style.display =\n",
              "          google.colab.kernel.accessAllowed ? 'block' : 'none';\n",
              "\n",
              "        async function convertToInteractive(key) {\n",
              "          const element = document.querySelector('#df-78ef8bdc-9f92-4c21-9d9d-754aa079820c');\n",
              "          const dataTable =\n",
              "            await google.colab.kernel.invokeFunction('convertToInteractive',\n",
              "                                                     [key], {});\n",
              "          if (!dataTable) return;\n",
              "\n",
              "          const docLinkHtml = 'Like what you see? Visit the ' +\n",
              "            '<a target=\"_blank\" href=https://colab.research.google.com/notebooks/data_table.ipynb>data table notebook</a>'\n",
              "            + ' to learn more about interactive tables.';\n",
              "          element.innerHTML = '';\n",
              "          dataTable['output_type'] = 'display_data';\n",
              "          await google.colab.output.renderOutput(dataTable, element);\n",
              "          const docLink = document.createElement('div');\n",
              "          docLink.innerHTML = docLinkHtml;\n",
              "          element.appendChild(docLink);\n",
              "        }\n",
              "      </script>\n",
              "    </div>\n",
              "  </div>\n",
              "  "
            ]
          },
          "metadata": {},
          "execution_count": 61
        }
      ]
    },
    {
      "cell_type": "code",
      "source": [
        "# Show top n keywords for each topic\n",
        "def show_topics(vectorizer=vectorizer, lda_model=lda_model, n_words=5):\n",
        "    keywords = np.array(vectorizer.get_feature_names())\n",
        "    topic_keywords = []\n",
        "    for topic_weights in lda_model.components_:\n",
        "        top_keyword_locs = (-topic_weights).argsort()[:n_words]\n",
        "        topic_keywords.append(keywords.take(top_keyword_locs))\n",
        "    return topic_keywords\n",
        "topic_keywords = show_topics(vectorizer=vectorizer, lda_model=best_lda_model, n_words=5)\n",
        "# Topic - Keywords Dataframe\n",
        "df_topic_keywords = pd.DataFrame(topic_keywords)\n",
        "df_topic_keywords.columns = ['Word '+str(i) for i in range(df_topic_keywords.shape[1])]\n",
        "df_topic_keywords.index = ['Topic '+str(i) for i in range(df_topic_keywords.shape[0])]\n",
        "df_topic_keywords"
      ],
      "metadata": {
        "colab": {
          "base_uri": "https://localhost:8080/",
          "height": 261
        },
        "id": "GWEF3K0B-L_N",
        "outputId": "1f324df4-b489-4c35-c555-d6a8d76c48b8"
      },
      "execution_count": 62,
      "outputs": [
        {
          "output_type": "stream",
          "name": "stderr",
          "text": [
            "/usr/local/lib/python3.7/dist-packages/sklearn/utils/deprecation.py:87: FutureWarning: Function get_feature_names is deprecated; get_feature_names is deprecated in 1.0 and will be removed in 1.2. Please use get_feature_names_out instead.\n",
            "  warnings.warn(msg, category=FutureWarning)\n"
          ]
        },
        {
          "output_type": "execute_result",
          "data": {
            "text/plain": [
              "           Word 0      Word 1    Word 2   Word 3     Word 4\n",
              "Topic 0   revenue      growth   product  backlog   software\n",
              "Topic 1  question      demand  business   strong        way\n",
              "Topic 2  customer  enterprise   product    basis      thing\n",
              "Topic 3   quarter      supply      time    chain  component\n",
              "Topic 4      year    guidance      term  quarter       good"
            ],
            "text/html": [
              "\n",
              "  <div id=\"df-4cc3398c-9466-4bf1-92df-6c9423267efc\">\n",
              "    <div class=\"colab-df-container\">\n",
              "      <div>\n",
              "<style scoped>\n",
              "    .dataframe tbody tr th:only-of-type {\n",
              "        vertical-align: middle;\n",
              "    }\n",
              "\n",
              "    .dataframe tbody tr th {\n",
              "        vertical-align: top;\n",
              "    }\n",
              "\n",
              "    .dataframe thead th {\n",
              "        text-align: right;\n",
              "    }\n",
              "</style>\n",
              "<table border=\"1\" class=\"dataframe\">\n",
              "  <thead>\n",
              "    <tr style=\"text-align: right;\">\n",
              "      <th></th>\n",
              "      <th>Word 0</th>\n",
              "      <th>Word 1</th>\n",
              "      <th>Word 2</th>\n",
              "      <th>Word 3</th>\n",
              "      <th>Word 4</th>\n",
              "    </tr>\n",
              "  </thead>\n",
              "  <tbody>\n",
              "    <tr>\n",
              "      <th>Topic 0</th>\n",
              "      <td>revenue</td>\n",
              "      <td>growth</td>\n",
              "      <td>product</td>\n",
              "      <td>backlog</td>\n",
              "      <td>software</td>\n",
              "    </tr>\n",
              "    <tr>\n",
              "      <th>Topic 1</th>\n",
              "      <td>question</td>\n",
              "      <td>demand</td>\n",
              "      <td>business</td>\n",
              "      <td>strong</td>\n",
              "      <td>way</td>\n",
              "    </tr>\n",
              "    <tr>\n",
              "      <th>Topic 2</th>\n",
              "      <td>customer</td>\n",
              "      <td>enterprise</td>\n",
              "      <td>product</td>\n",
              "      <td>basis</td>\n",
              "      <td>thing</td>\n",
              "    </tr>\n",
              "    <tr>\n",
              "      <th>Topic 3</th>\n",
              "      <td>quarter</td>\n",
              "      <td>supply</td>\n",
              "      <td>time</td>\n",
              "      <td>chain</td>\n",
              "      <td>component</td>\n",
              "    </tr>\n",
              "    <tr>\n",
              "      <th>Topic 4</th>\n",
              "      <td>year</td>\n",
              "      <td>guidance</td>\n",
              "      <td>term</td>\n",
              "      <td>quarter</td>\n",
              "      <td>good</td>\n",
              "    </tr>\n",
              "  </tbody>\n",
              "</table>\n",
              "</div>\n",
              "      <button class=\"colab-df-convert\" onclick=\"convertToInteractive('df-4cc3398c-9466-4bf1-92df-6c9423267efc')\"\n",
              "              title=\"Convert this dataframe to an interactive table.\"\n",
              "              style=\"display:none;\">\n",
              "        \n",
              "  <svg xmlns=\"http://www.w3.org/2000/svg\" height=\"24px\"viewBox=\"0 0 24 24\"\n",
              "       width=\"24px\">\n",
              "    <path d=\"M0 0h24v24H0V0z\" fill=\"none\"/>\n",
              "    <path d=\"M18.56 5.44l.94 2.06.94-2.06 2.06-.94-2.06-.94-.94-2.06-.94 2.06-2.06.94zm-11 1L8.5 8.5l.94-2.06 2.06-.94-2.06-.94L8.5 2.5l-.94 2.06-2.06.94zm10 10l.94 2.06.94-2.06 2.06-.94-2.06-.94-.94-2.06-.94 2.06-2.06.94z\"/><path d=\"M17.41 7.96l-1.37-1.37c-.4-.4-.92-.59-1.43-.59-.52 0-1.04.2-1.43.59L10.3 9.45l-7.72 7.72c-.78.78-.78 2.05 0 2.83L4 21.41c.39.39.9.59 1.41.59.51 0 1.02-.2 1.41-.59l7.78-7.78 2.81-2.81c.8-.78.8-2.07 0-2.86zM5.41 20L4 18.59l7.72-7.72 1.47 1.35L5.41 20z\"/>\n",
              "  </svg>\n",
              "      </button>\n",
              "      \n",
              "  <style>\n",
              "    .colab-df-container {\n",
              "      display:flex;\n",
              "      flex-wrap:wrap;\n",
              "      gap: 12px;\n",
              "    }\n",
              "\n",
              "    .colab-df-convert {\n",
              "      background-color: #E8F0FE;\n",
              "      border: none;\n",
              "      border-radius: 50%;\n",
              "      cursor: pointer;\n",
              "      display: none;\n",
              "      fill: #1967D2;\n",
              "      height: 32px;\n",
              "      padding: 0 0 0 0;\n",
              "      width: 32px;\n",
              "    }\n",
              "\n",
              "    .colab-df-convert:hover {\n",
              "      background-color: #E2EBFA;\n",
              "      box-shadow: 0px 1px 2px rgba(60, 64, 67, 0.3), 0px 1px 3px 1px rgba(60, 64, 67, 0.15);\n",
              "      fill: #174EA6;\n",
              "    }\n",
              "\n",
              "    [theme=dark] .colab-df-convert {\n",
              "      background-color: #3B4455;\n",
              "      fill: #D2E3FC;\n",
              "    }\n",
              "\n",
              "    [theme=dark] .colab-df-convert:hover {\n",
              "      background-color: #434B5C;\n",
              "      box-shadow: 0px 1px 3px 1px rgba(0, 0, 0, 0.15);\n",
              "      filter: drop-shadow(0px 1px 2px rgba(0, 0, 0, 0.3));\n",
              "      fill: #FFFFFF;\n",
              "    }\n",
              "  </style>\n",
              "\n",
              "      <script>\n",
              "        const buttonEl =\n",
              "          document.querySelector('#df-4cc3398c-9466-4bf1-92df-6c9423267efc button.colab-df-convert');\n",
              "        buttonEl.style.display =\n",
              "          google.colab.kernel.accessAllowed ? 'block' : 'none';\n",
              "\n",
              "        async function convertToInteractive(key) {\n",
              "          const element = document.querySelector('#df-4cc3398c-9466-4bf1-92df-6c9423267efc');\n",
              "          const dataTable =\n",
              "            await google.colab.kernel.invokeFunction('convertToInteractive',\n",
              "                                                     [key], {});\n",
              "          if (!dataTable) return;\n",
              "\n",
              "          const docLinkHtml = 'Like what you see? Visit the ' +\n",
              "            '<a target=\"_blank\" href=https://colab.research.google.com/notebooks/data_table.ipynb>data table notebook</a>'\n",
              "            + ' to learn more about interactive tables.';\n",
              "          element.innerHTML = '';\n",
              "          dataTable['output_type'] = 'display_data';\n",
              "          await google.colab.output.renderOutput(dataTable, element);\n",
              "          const docLink = document.createElement('div');\n",
              "          docLink.innerHTML = docLinkHtml;\n",
              "          element.appendChild(docLink);\n",
              "        }\n",
              "      </script>\n",
              "    </div>\n",
              "  </div>\n",
              "  "
            ]
          },
          "metadata": {},
          "execution_count": 62
        }
      ]
    },
    {
      "cell_type": "code",
      "source": [
        "import pyLDAvis\n",
        "import pyLDAvis.sklearn"
      ],
      "metadata": {
        "id": "SJdGu4Gb_tgl"
      },
      "execution_count": 63,
      "outputs": []
    },
    {
      "cell_type": "code",
      "source": [
        "pyLDAvis.enable_notebook()\n",
        "pyLDAvis.sklearn.prepare(best_lda_model, data_vectorized, vectorizer)"
      ],
      "metadata": {
        "colab": {
          "base_uri": "https://localhost:8080/",
          "height": 951
        },
        "id": "6AQlRmSL_1uM",
        "outputId": "92f58ae8-8619-4c7f-9ff2-b79817b1ebe2"
      },
      "execution_count": 64,
      "outputs": [
        {
          "output_type": "stream",
          "name": "stderr",
          "text": [
            "/usr/local/lib/python3.7/dist-packages/sklearn/utils/deprecation.py:87: FutureWarning: Function get_feature_names is deprecated; get_feature_names is deprecated in 1.0 and will be removed in 1.2. Please use get_feature_names_out instead.\n",
            "  warnings.warn(msg, category=FutureWarning)\n",
            "/usr/local/lib/python3.7/dist-packages/pyLDAvis/_prepare.py:247: FutureWarning: In a future version of pandas all arguments of DataFrame.drop except for the argument 'labels' will be keyword-only\n",
            "  by='saliency', ascending=False).head(R).drop('saliency', 1)\n"
          ]
        },
        {
          "output_type": "execute_result",
          "data": {
            "text/plain": [
              "PreparedData(topic_coordinates=              x         y  topics  cluster       Freq\n",
              "topic                                                \n",
              "0      0.201933 -0.090046       1        1  30.480209\n",
              "3     -0.060921  0.227056       2        1  20.155355\n",
              "2      0.102239 -0.073549       3        1  18.007547\n",
              "4      0.006116  0.092806       4        1  17.886652\n",
              "1     -0.249368 -0.156266       5        1  13.470237, topic_info=        Term       Freq      Total Category  logprob  loglift\n",
              "31      year  54.000000  54.000000  Default  30.0000  30.0000\n",
              "19  question  21.000000  21.000000  Default  29.0000  29.0000\n",
              "5   customer  28.000000  28.000000  Default  28.0000  28.0000\n",
              "20   revenue  39.000000  39.000000  Default  27.0000  27.0000\n",
              "6     demand  21.000000  21.000000  Default  26.0000  26.0000\n",
              "..       ...        ...        ...      ...      ...      ...\n",
              "15     point   0.192815  21.366744   Topic5  -6.1575  -2.7032\n",
              "11    impact   0.191877  23.075092   Topic5  -6.1624  -2.7850\n",
              "24    supply   0.191686  27.715794   Topic5  -6.1634  -2.9692\n",
              "20   revenue   0.191594  39.648512   Topic5  -6.1639  -3.3277\n",
              "17   product   0.191589  33.635468   Topic5  -6.1639  -3.1633\n",
              "\n",
              "[190 rows x 6 columns], token_table=      Topic      Freq      Term\n",
              "term                           \n",
              "0         1  0.921570   backlog\n",
              "1         1  0.279727     basis\n",
              "1         3  0.629385     basis\n",
              "2         1  0.197356  business\n",
              "2         3  0.197356  business\n",
              "...     ...       ...       ...\n",
              "31        1  0.236879      year\n",
              "31        2  0.054664      year\n",
              "31        3  0.018221      year\n",
              "31        4  0.637752      year\n",
              "31        5  0.036443      year\n",
              "\n",
              "[87 rows x 3 columns], R=30, lambda_step=0.01, plot_opts={'xlab': 'PC1', 'ylab': 'PC2'}, topic_order=[1, 4, 3, 5, 2])"
            ],
            "text/html": [
              "\n",
              "<link rel=\"stylesheet\" type=\"text/css\" href=\"https://cdn.jsdelivr.net/gh/bmabey/pyLDAvis@3.3.1/pyLDAvis/js/ldavis.v1.0.0.css\">\n",
              "\n",
              "\n",
              "<div id=\"ldavis_el59140607298496080286724167\"></div>\n",
              "<script type=\"text/javascript\">\n",
              "\n",
              "var ldavis_el59140607298496080286724167_data = {\"mdsDat\": {\"x\": [0.20193329897599127, -0.06092098316059513, 0.10223915251875212, 0.006116168992607947, -0.2493676373267564], \"y\": [-0.09004606388136979, 0.227056087017291, -0.07354925168977923, 0.09280560540151694, -0.15626637684765907], \"topics\": [1, 2, 3, 4, 5], \"cluster\": [1, 1, 1, 1, 1], \"Freq\": [30.480208956592474, 20.155355176017554, 18.007546524506754, 17.886652412404498, 13.470236930478722]}, \"tinfo\": {\"Term\": [\"year\", \"question\", \"customer\", \"revenue\", \"demand\", \"supply\", \"quarter\", \"time\", \"enterprise\", \"product\", \"guidance\", \"term\", \"backlog\", \"way\", \"basis\", \"business\", \"strong\", \"good\", \"software\", \"component\", \"thing\", \"growth\", \"chain\", \"number\", \"point\", \"team\", \"solid\", \"issue\", \"portfolio\", \"impact\", \"software\", \"backlog\", \"revenue\", \"portfolio\", \"growth\", \"solid\", \"product\", \"week\", \"order\", \"point\", \"impact\", \"basis\", \"year\", \"business\", \"strong\", \"guidance\", \"chain\", \"demand\", \"term\", \"quarter\", \"good\", \"way\", \"issue\", \"number\", \"team\", \"enterprise\", \"component\", \"time\", \"thing\", \"question\", \"customer\", \"supply\", \"supply\", \"time\", \"chain\", \"quarter\", \"issue\", \"component\", \"way\", \"order\", \"week\", \"thing\", \"team\", \"number\", \"growth\", \"impact\", \"strong\", \"year\", \"demand\", \"revenue\", \"solid\", \"good\", \"portfolio\", \"basis\", \"software\", \"enterprise\", \"guidance\", \"term\", \"backlog\", \"question\", \"business\", \"point\", \"product\", \"customer\", \"enterprise\", \"customer\", \"basis\", \"component\", \"thing\", \"team\", \"product\", \"point\", \"impact\", \"business\", \"issue\", \"portfolio\", \"week\", \"term\", \"order\", \"strong\", \"question\", \"supply\", \"quarter\", \"year\", \"guidance\", \"solid\", \"chain\", \"good\", \"way\", \"number\", \"software\", \"backlog\", \"time\", \"demand\", \"growth\", \"revenue\", \"guidance\", \"term\", \"year\", \"good\", \"team\", \"number\", \"thing\", \"issue\", \"quarter\", \"point\", \"growth\", \"impact\", \"business\", \"order\", \"component\", \"time\", \"supply\", \"backlog\", \"demand\", \"way\", \"solid\", \"chain\", \"strong\", \"portfolio\", \"week\", \"basis\", \"software\", \"enterprise\", \"question\", \"customer\", \"product\", \"revenue\", \"question\", \"demand\", \"strong\", \"way\", \"number\", \"good\", \"business\", \"solid\", \"customer\", \"quarter\", \"year\", \"growth\", \"enterprise\", \"chain\", \"issue\", \"portfolio\", \"time\", \"team\", \"thing\", \"basis\", \"week\", \"software\", \"guidance\", \"term\", \"backlog\", \"component\", \"order\", \"point\", \"impact\", \"supply\", \"revenue\", \"product\"], \"Freq\": [54.0, 21.0, 28.0, 39.0, 21.0, 27.0, 53.0, 18.0, 15.0, 33.0, 16.0, 17.0, 18.0, 12.0, 14.0, 20.0, 12.0, 11.0, 14.0, 18.0, 19.0, 35.0, 10.0, 12.0, 21.0, 13.0, 10.0, 12.0, 12.0, 23.0, 13.783248156746277, 17.431671882805283, 37.26354860183709, 9.853268075540997, 25.2836610405132, 6.6217805273615715, 20.494938926285602, 8.055946199447893, 10.325688277590903, 10.546172842915444, 10.832746456386575, 4.243820028998018, 13.375703976512956, 4.400959919230291, 2.1666326846268333, 1.9497326049959351, 1.1940378384421972, 2.3251228464434712, 1.2181936444159684, 2.332682748852778, 0.19479752803658262, 0.19607752676038598, 0.19420794999376365, 0.19552180742667963, 0.19421394288006824, 0.19685093318733052, 0.19442922340534635, 0.19513843880538403, 0.198015020125983, 0.1961194349837251, 0.19607507978194105, 0.19520838122866746, 24.99100653012018, 16.926841242742622, 9.007296721230864, 34.61064581963863, 6.149957617555248, 7.266462118240015, 4.577290227901942, 5.0178711780542, 3.40939784047593, 3.7479135739363176, 2.5133307105655858, 2.0767114651913983, 4.264170497095783, 2.2796065195938064, 1.0679155144959274, 2.9284065056821755, 1.1060194761323388, 1.7359068008029879, 0.17761615458399957, 0.17845051205820045, 0.17877584622080175, 0.17798818651819998, 0.17966914833743153, 0.17834597039840305, 0.1777664281456874, 0.1813269279926273, 0.17861514175962742, 0.19656212929632752, 0.17754035067667318, 0.17741681647288357, 0.23416410274993676, 0.17921291521189953, 14.22926311711021, 23.271741076663435, 9.477197753921986, 9.05261681625464, 9.248856396815517, 5.374103453169533, 12.46053704410085, 6.594728045316687, 6.544030280572572, 3.9759354724086915, 2.067914646904645, 2.1251818514981653, 2.3182491132922847, 2.637702520924526, 2.3641176389037715, 1.1871838709290672, 1.6986558162340573, 1.3274913738571643, 1.95209913913608, 1.4000156929637757, 0.31127522342160446, 0.18986185359169588, 0.1914036575692647, 0.20091183190466386, 0.1911345462918723, 0.18911842378650826, 0.18975590566318887, 0.18911659365793804, 0.1897625588193943, 0.1900214104118645, 0.2015026067468569, 0.18952877282315314, 13.59395276029801, 12.865315732220031, 34.757956640608974, 5.972694407101446, 5.205289500675357, 4.454349541288496, 5.650601644878209, 3.556636639481857, 9.948551205914972, 3.8556113519228883, 5.161821717977067, 3.226832423399548, 2.7649979623999705, 2.0462990248822024, 1.868653762621063, 1.236179014965812, 1.0104019924248593, 0.45417742821082924, 0.45459430268809065, 0.23551430402272888, 0.20589978257601316, 0.20534474726506285, 0.20748784355078323, 0.20504507707782538, 0.20782107529123367, 0.20754334610311792, 0.20533884676577827, 0.2051131222227706, 0.20548144083512707, 0.21609084083300986, 0.2542388667395396, 0.26793396061173747, 18.709434409598465, 17.881306798205827, 7.745082072724399, 6.879747006834368, 5.646703179674505, 5.312008631461305, 8.94848809199065, 3.4190554758369616, 4.559210042807196, 4.549486429698237, 2.4181997584834014, 0.8582894970213186, 0.33061436416744333, 0.19157890442010342, 0.1924894774201315, 0.19342521089560552, 0.2734838215618353, 0.19217801244581917, 0.25899269230289346, 0.19312814261386857, 0.19114018181421633, 0.1917113720079376, 0.19185725248746888, 0.19148955135106033, 0.19319584178275587, 0.19122384843146317, 0.19572010666234865, 0.1928153548195866, 0.1918766043638518, 0.19168593357729688, 0.1915941148741295, 0.19158946769970428], \"Total\": [54.0, 21.0, 28.0, 39.0, 21.0, 27.0, 53.0, 18.0, 15.0, 33.0, 16.0, 17.0, 18.0, 12.0, 14.0, 20.0, 12.0, 11.0, 14.0, 18.0, 19.0, 35.0, 10.0, 12.0, 21.0, 13.0, 10.0, 12.0, 12.0, 23.0, 14.549723429520613, 18.446776888216437, 39.64851225094909, 12.555696061233396, 35.76944535935422, 10.614213793950242, 33.63546840757564, 14.18255441032156, 19.949696226093426, 21.366744411447492, 23.07509228431635, 14.29967745815519, 54.88028257425129, 20.267921796706275, 12.37430198632701, 16.224584269348707, 10.78966186892749, 21.957064833881592, 17.094028376904213, 53.39346534324069, 11.858862910562198, 12.079763611811298, 12.161206331355645, 12.562404417367588, 13.479115619736362, 15.140187507086159, 18.573385768952523, 18.82140507689505, 19.10437932805892, 21.006253230947703, 28.422329955297485, 27.71579421120817, 27.71579421120817, 18.82140507689505, 10.78966186892749, 53.39346534324069, 12.161206331355645, 18.573385768952523, 12.079763611811298, 19.949696226093426, 14.18255441032156, 19.10437932805892, 13.479115619736362, 12.562404417367588, 35.76944535935422, 23.07509228431635, 12.37430198632701, 54.88028257425129, 21.957064833881592, 39.64851225094909, 10.614213793950242, 11.858862910562198, 12.555696061233396, 14.29967745815519, 14.549723429520613, 15.140187507086159, 16.224584269348707, 17.094028376904213, 18.446776888216437, 21.006253230947703, 20.267921796706275, 21.366744411447492, 33.63546840757564, 28.422329955297485, 15.140187507086159, 28.422329955297485, 14.29967745815519, 18.573385768952523, 19.10437932805892, 13.479115619736362, 33.63546840757564, 21.366744411447492, 23.07509228431635, 20.267921796706275, 12.161206331355645, 12.555696061233396, 14.18255441032156, 17.094028376904213, 19.949696226093426, 12.37430198632701, 21.006253230947703, 27.71579421120817, 53.39346534324069, 54.88028257425129, 16.224584269348707, 10.614213793950242, 10.78966186892749, 11.858862910562198, 12.079763611811298, 12.562404417367588, 14.549723429520613, 18.446776888216437, 18.82140507689505, 21.957064833881592, 35.76944535935422, 39.64851225094909, 16.224584269348707, 17.094028376904213, 54.88028257425129, 11.858862910562198, 13.479115619736362, 12.562404417367588, 19.10437932805892, 12.161206331355645, 53.39346534324069, 21.366744411447492, 35.76944535935422, 23.07509228431635, 20.267921796706275, 19.949696226093426, 18.573385768952523, 18.82140507689505, 27.71579421120817, 18.446776888216437, 21.957064833881592, 12.079763611811298, 10.614213793950242, 10.78966186892749, 12.37430198632701, 12.555696061233396, 14.18255441032156, 14.29967745815519, 14.549723429520613, 15.140187507086159, 21.006253230947703, 28.422329955297485, 33.63546840757564, 39.64851225094909, 21.006253230947703, 21.957064833881592, 12.37430198632701, 12.079763611811298, 12.562404417367588, 11.858862910562198, 20.267921796706275, 10.614213793950242, 28.422329955297485, 53.39346534324069, 54.88028257425129, 35.76944535935422, 15.140187507086159, 10.78966186892749, 12.161206331355645, 12.555696061233396, 18.82140507689505, 13.479115619736362, 19.10437932805892, 14.29967745815519, 14.18255441032156, 14.549723429520613, 16.224584269348707, 17.094028376904213, 18.446776888216437, 18.573385768952523, 19.949696226093426, 21.366744411447492, 23.07509228431635, 27.71579421120817, 39.64851225094909, 33.63546840757564], \"Category\": [\"Default\", \"Default\", \"Default\", \"Default\", \"Default\", \"Default\", \"Default\", \"Default\", \"Default\", \"Default\", \"Default\", \"Default\", \"Default\", \"Default\", \"Default\", \"Default\", \"Default\", \"Default\", \"Default\", \"Default\", \"Default\", \"Default\", \"Default\", \"Default\", \"Default\", \"Default\", \"Default\", \"Default\", \"Default\", \"Default\", \"Topic1\", \"Topic1\", \"Topic1\", \"Topic1\", \"Topic1\", \"Topic1\", \"Topic1\", \"Topic1\", \"Topic1\", \"Topic1\", \"Topic1\", \"Topic1\", \"Topic1\", \"Topic1\", \"Topic1\", \"Topic1\", \"Topic1\", \"Topic1\", \"Topic1\", \"Topic1\", \"Topic1\", \"Topic1\", \"Topic1\", \"Topic1\", \"Topic1\", \"Topic1\", \"Topic1\", \"Topic1\", \"Topic1\", \"Topic1\", \"Topic1\", \"Topic1\", \"Topic2\", \"Topic2\", \"Topic2\", \"Topic2\", \"Topic2\", \"Topic2\", \"Topic2\", \"Topic2\", \"Topic2\", \"Topic2\", \"Topic2\", \"Topic2\", \"Topic2\", \"Topic2\", \"Topic2\", \"Topic2\", \"Topic2\", \"Topic2\", \"Topic2\", \"Topic2\", \"Topic2\", \"Topic2\", \"Topic2\", \"Topic2\", \"Topic2\", \"Topic2\", \"Topic2\", \"Topic2\", \"Topic2\", \"Topic2\", \"Topic2\", \"Topic2\", \"Topic3\", \"Topic3\", \"Topic3\", \"Topic3\", \"Topic3\", \"Topic3\", \"Topic3\", \"Topic3\", \"Topic3\", \"Topic3\", \"Topic3\", \"Topic3\", \"Topic3\", \"Topic3\", \"Topic3\", \"Topic3\", \"Topic3\", \"Topic3\", \"Topic3\", \"Topic3\", \"Topic3\", \"Topic3\", \"Topic3\", \"Topic3\", \"Topic3\", \"Topic3\", \"Topic3\", \"Topic3\", \"Topic3\", \"Topic3\", \"Topic3\", \"Topic3\", \"Topic4\", \"Topic4\", \"Topic4\", \"Topic4\", \"Topic4\", \"Topic4\", \"Topic4\", \"Topic4\", \"Topic4\", \"Topic4\", \"Topic4\", \"Topic4\", \"Topic4\", \"Topic4\", \"Topic4\", \"Topic4\", \"Topic4\", \"Topic4\", \"Topic4\", \"Topic4\", \"Topic4\", \"Topic4\", \"Topic4\", \"Topic4\", \"Topic4\", \"Topic4\", \"Topic4\", \"Topic4\", \"Topic4\", \"Topic4\", \"Topic4\", \"Topic4\", \"Topic5\", \"Topic5\", \"Topic5\", \"Topic5\", \"Topic5\", \"Topic5\", \"Topic5\", \"Topic5\", \"Topic5\", \"Topic5\", \"Topic5\", \"Topic5\", \"Topic5\", \"Topic5\", \"Topic5\", \"Topic5\", \"Topic5\", \"Topic5\", \"Topic5\", \"Topic5\", \"Topic5\", \"Topic5\", \"Topic5\", \"Topic5\", \"Topic5\", \"Topic5\", \"Topic5\", \"Topic5\", \"Topic5\", \"Topic5\", \"Topic5\", \"Topic5\"], \"logprob\": [30.0, 29.0, 28.0, 27.0, 26.0, 25.0, 24.0, 23.0, 22.0, 21.0, 20.0, 19.0, 18.0, 17.0, 16.0, 15.0, 14.0, 13.0, 12.0, 11.0, 10.0, 9.0, 8.0, 7.0, 6.0, 5.0, 4.0, 3.0, 2.0, 1.0, -2.7046, -2.4698, -1.7101, -3.0403, -2.0979, -3.4377, -2.3079, -3.2417, -2.9935, -2.9723, -2.9455, -3.8826, -2.7347, -3.8463, -4.5549, -4.6604, -5.1508, -4.4843, -5.1307, -4.4811, -6.9639, -6.9573, -6.9669, -6.9602, -6.9669, -6.9534, -6.9658, -6.9621, -6.9475, -6.9571, -6.9574, -6.9618, -1.696, -2.0856, -2.7165, -1.3703, -3.098, -2.9312, -3.3934, -3.3015, -3.688, -3.5933, -3.9929, -4.1837, -3.4642, -4.0905, -4.8488, -3.84, -4.8137, -4.363, -6.6426, -6.6379, -6.6361, -6.6405, -6.6311, -6.6385, -6.6418, -6.6219, -6.637, -6.5413, -6.6431, -6.6437, -6.3662, -6.6337, -2.1465, -1.6546, -2.5529, -2.5988, -2.5773, -3.1202, -2.2792, -2.9155, -2.9233, -3.4216, -4.0753, -4.048, -3.961, -3.8319, -3.9414, -4.6302, -4.272, -4.5185, -4.1329, -4.4653, -5.9689, -6.4633, -6.4552, -6.4067, -6.4566, -6.4672, -6.4638, -6.4672, -6.4638, -6.4624, -6.4038, -6.465, -2.1855, -2.2405, -1.2467, -3.0079, -3.1454, -3.3012, -3.0633, -3.5263, -2.4977, -3.4455, -3.1538, -3.6236, -3.778, -4.079, -4.1699, -4.5831, -4.7847, -5.5843, -5.5834, -6.2411, -6.3754, -6.3781, -6.3678, -6.3796, -6.3662, -6.3675, -6.3782, -6.3793, -6.3775, -6.3271, -6.1646, -6.1121, -1.5825, -1.6277, -2.4644, -2.5829, -2.7804, -2.8415, -2.32, -3.2821, -2.9944, -2.9965, -3.6285, -4.6643, -5.6183, -6.164, -6.1592, -6.1544, -5.808, -6.1608, -5.8625, -6.1559, -6.1663, -6.1633, -6.1625, -6.1644, -6.1556, -6.1658, -6.1426, -6.1575, -6.1624, -6.1634, -6.1639, -6.1639], \"loglift\": [30.0, 29.0, 28.0, 27.0, 26.0, 25.0, 24.0, 23.0, 22.0, 21.0, 20.0, 19.0, 18.0, 17.0, 16.0, 15.0, 14.0, 13.0, 12.0, 11.0, 10.0, 9.0, 8.0, 7.0, 6.0, 5.0, 4.0, 3.0, 2.0, 1.0, 1.134, 1.1315, 1.1261, 0.9457, 0.8412, 0.7163, 0.6927, 0.6225, 0.5295, 0.482, 0.4319, -0.0267, -0.2236, -0.3391, -0.5544, -0.9307, -1.0132, -1.0572, -1.4533, -1.9426, -2.9208, -2.9327, -2.949, -2.9747, -3.0518, -3.1546, -3.3713, -3.3809, -3.3812, -3.4858, -3.7883, -3.7676, 1.4982, 1.4956, 1.4211, 1.1682, 0.9199, 0.6632, 0.6313, 0.2215, 0.1762, -0.027, -0.0778, -0.1982, -0.5251, -0.7131, -0.8482, -1.329, -1.3866, -1.5268, -2.4886, -2.5948, -2.6501, -2.7846, -2.7925, -2.8397, -2.9121, -2.9445, -3.0357, -3.0699, -3.1359, -3.1894, -3.3656, -3.4647, 1.6523, 1.5144, 1.303, 0.9957, 0.989, 0.7948, 0.7214, 0.5388, 0.4542, 0.0856, -0.0573, -0.0619, -0.0968, -0.1544, -0.4184, -0.6297, -0.8006, -1.3243, -1.5944, -1.9543, -2.2392, -2.3093, -2.3176, -2.3636, -2.4319, -2.4817, -2.6252, -2.8659, -2.8826, -3.0353, -3.4647, -3.6289, 1.5442, 1.4369, 1.2644, 1.0352, 0.7696, 0.6843, 0.503, 0.4917, 0.0409, 0.0088, -0.2147, -0.2461, -0.2709, -0.5561, -0.5754, -1.0019, -1.5905, -1.983, -2.1563, -2.2164, -2.2214, -2.2405, -2.3672, -2.3936, -2.502, -2.5115, -2.5396, -2.5804, -2.9061, -3.1581, -3.1639, -3.276, 1.8889, 1.7994, 1.5361, 1.4417, 1.2051, 1.2016, 1.1871, 0.8719, 0.1747, -0.458, -1.1174, -1.7252, -1.8195, -2.0264, -2.1413, -2.1684, -2.2268, -2.2458, -2.2962, -2.3, -2.3021, -2.3246, -2.4328, -2.487, -2.5543, -2.5714, -2.6196, -2.7032, -2.785, -2.9692, -3.3277, -3.1633]}, \"token.table\": {\"Topic\": [1, 1, 3, 1, 3, 4, 5, 1, 2, 2, 3, 4, 3, 5, 1, 2, 5, 3, 4, 5, 1, 2, 4, 5, 1, 4, 1, 2, 3, 4, 2, 3, 4, 2, 4, 5, 1, 2, 3, 4, 1, 3, 4, 1, 3, 1, 3, 1, 2, 3, 4, 5, 3, 5, 1, 2, 1, 1, 5, 1, 2, 3, 5, 2, 3, 4, 2, 3, 4, 1, 3, 4, 2, 3, 4, 2, 4, 2, 5, 1, 2, 3, 1, 2, 3, 4, 5], \"Freq\": [0.9215702072517276, 0.27972658905804737, 0.6293848253806066, 0.19735619863354895, 0.19735619863354895, 0.14801714897516172, 0.44405144692548515, 0.09268131032723471, 0.8341317929451124, 0.3768833581059452, 0.4845643175647867, 0.10768095945884149, 0.8092228904588152, 0.17591801966495985, 0.0910868558767396, 0.0455434279383698, 0.8197817028906564, 0.9246913219170826, 0.5059507007755396, 0.42162558397961636, 0.6989205381531627, 0.11182728610450603, 0.13978410763063254, 0.027956821526126507, 0.12326972246545487, 0.8628880572581841, 0.4767044857054143, 0.08667354285552988, 0.30335739999435457, 0.13001031428329482, 0.4933721077102359, 0.1644573692367453, 0.3289147384734906, 0.15920519142298825, 0.3184103828459765, 0.4776155742689647, 0.5012607654105725, 0.25063038270528626, 0.10025215308211449, 0.10025215308211449, 0.5148187196036574, 0.3276119124750547, 0.1872068071286027, 0.7964512641298884, 0.1592902528259777, 0.5946104200973591, 0.35676625205841545, 0.03745776729685871, 0.6555109276950274, 0.03745776729685871, 0.18728883648429354, 0.09364441824214677, 0.09520974435619375, 0.9044925713838408, 0.9332002110398054, 0.05044325465080029, 0.9622176028167482, 0.659493028488815, 0.2826398693523493, 0.16162527811345648, 0.08081263905672824, 0.08081263905672824, 0.6465011124538259, 0.9020127588438396, 0.036080510353753585, 0.036080510353753585, 0.22256653067114776, 0.3709442177852463, 0.3709442177852463, 0.058499961387165046, 0.17549988416149515, 0.7604994980331455, 0.20937607714505196, 0.4710961735763669, 0.3140641157175779, 0.9032269339375205, 0.0531309961139718, 0.41391538449569676, 0.5794815382939754, 0.5640732810570347, 0.21152748039638802, 0.14101832026425867, 0.23687924679344372, 0.054664441567717784, 0.018221480522572595, 0.6377518182900408, 0.03644296104514519], \"Term\": [\"backlog\", \"basis\", \"basis\", \"business\", \"business\", \"business\", \"business\", \"chain\", \"chain\", \"component\", \"component\", \"component\", \"customer\", \"customer\", \"demand\", \"demand\", \"demand\", \"enterprise\", \"good\", \"good\", \"growth\", \"growth\", \"growth\", \"growth\", \"guidance\", \"guidance\", \"impact\", \"impact\", \"impact\", \"impact\", \"issue\", \"issue\", \"issue\", \"number\", \"number\", \"number\", \"order\", \"order\", \"order\", \"order\", \"point\", \"point\", \"point\", \"portfolio\", \"portfolio\", \"product\", \"product\", \"quarter\", \"quarter\", \"quarter\", \"quarter\", \"quarter\", \"question\", \"question\", \"revenue\", \"revenue\", \"software\", \"solid\", \"solid\", \"strong\", \"strong\", \"strong\", \"strong\", \"supply\", \"supply\", \"supply\", \"team\", \"team\", \"team\", \"term\", \"term\", \"term\", \"thing\", \"thing\", \"thing\", \"time\", \"time\", \"way\", \"way\", \"week\", \"week\", \"week\", \"year\", \"year\", \"year\", \"year\", \"year\"]}, \"R\": 30, \"lambda.step\": 0.01, \"plot.opts\": {\"xlab\": \"PC1\", \"ylab\": \"PC2\"}, \"topic.order\": [1, 4, 3, 5, 2]};\n",
              "\n",
              "function LDAvis_load_lib(url, callback){\n",
              "  var s = document.createElement('script');\n",
              "  s.src = url;\n",
              "  s.async = true;\n",
              "  s.onreadystatechange = s.onload = callback;\n",
              "  s.onerror = function(){console.warn(\"failed to load library \" + url);};\n",
              "  document.getElementsByTagName(\"head\")[0].appendChild(s);\n",
              "}\n",
              "\n",
              "if(typeof(LDAvis) !== \"undefined\"){\n",
              "   // already loaded: just create the visualization\n",
              "   !function(LDAvis){\n",
              "       new LDAvis(\"#\" + \"ldavis_el59140607298496080286724167\", ldavis_el59140607298496080286724167_data);\n",
              "   }(LDAvis);\n",
              "}else if(typeof define === \"function\" && define.amd){\n",
              "   // require.js is available: use it to load d3/LDAvis\n",
              "   require.config({paths: {d3: \"https://d3js.org/d3.v5\"}});\n",
              "   require([\"d3\"], function(d3){\n",
              "      window.d3 = d3;\n",
              "      LDAvis_load_lib(\"https://cdn.jsdelivr.net/gh/bmabey/pyLDAvis@3.3.1/pyLDAvis/js/ldavis.v3.0.0.js\", function(){\n",
              "        new LDAvis(\"#\" + \"ldavis_el59140607298496080286724167\", ldavis_el59140607298496080286724167_data);\n",
              "      });\n",
              "    });\n",
              "}else{\n",
              "    // require.js not available: dynamically load d3 & LDAvis\n",
              "    LDAvis_load_lib(\"https://d3js.org/d3.v5.js\", function(){\n",
              "         LDAvis_load_lib(\"https://cdn.jsdelivr.net/gh/bmabey/pyLDAvis@3.3.1/pyLDAvis/js/ldavis.v3.0.0.js\", function(){\n",
              "                 new LDAvis(\"#\" + \"ldavis_el59140607298496080286724167\", ldavis_el59140607298496080286724167_data);\n",
              "            })\n",
              "         });\n",
              "}\n",
              "</script>"
            ]
          },
          "metadata": {},
          "execution_count": 64
        }
      ]
    },
    {
      "cell_type": "code",
      "source": [
        ""
      ],
      "metadata": {
        "id": "UeLbjQA2F8iI"
      },
      "execution_count": 158,
      "outputs": []
    }
  ]
}