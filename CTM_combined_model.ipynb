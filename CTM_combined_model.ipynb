{
  "cells": [
    {
      "cell_type": "markdown",
      "metadata": {
        "id": "qmZ1uZecv7qW"
      },
      "source": [
        "# Tutorial: Combined Topic Modeling\n",
        "\n",
        "(last updated 10-07-2022)\n",
        "\n",
        "In this tutorial, we are going to use our **Combined Topic Model** to get the topics out of a collections of articles.\n",
        "\n",
        "## Topic Models \n",
        "\n",
        "Topic models allow you to discover latent topics in your documents in a completely unsupervised way. Just use your documents and get topics out.\n",
        "\n",
        "## Contextualized Topic Models\n",
        "\n",
        "![](https://raw.githubusercontent.com/MilaNLProc/contextualized-topic-models/master/img/logo.png)\n",
        "\n",
        "What are Contextualized Topic Models? **CTMs** are a family of topic models that combine the expressive power of BERT embeddings with the unsupervised capabilities of topic models to get topics out of documents. \n",
        "\n",
        "## Python Package\n",
        "\n",
        "You can find our package [here](https://github.com/MilaNLProc/contextualized-topic-models).\n",
        "\n",
        "![https://github.com/MilaNLProc/contextualized-topic-models/actions](https://github.com/MilaNLProc/contextualized-topic-models/workflows/Python%20package/badge.svg) ![https://pypi.python.org/pypi/contextualized_topic_models](https://img.shields.io/pypi/v/contextualized_topic_models.svg) ![https://pepy.tech/badge/contextualized-topic-models](https://pepy.tech/badge/contextualized-topic-models)\n",
        "\n",
        "# **Before you start...**\n",
        "\n",
        "If you have additional questions about these topics, follow the links:\n",
        "\n",
        "- you need to work with languages different than English: [click here!](https://contextualized-topic-models.readthedocs.io/en/latest/language.html#language-specific)\n",
        "- you can't get good results with topic models: [click here!](https://contextualized-topic-models.readthedocs.io/en/latest/faq.html#i-am-getting-very-poor-results-what-can-i-do)\n",
        "- you want to load your own embeddings: [click here!](https://contextualized-topic-models.readthedocs.io/en/latest/faq.html#can-i-load-my-own-embeddings)\n"
      ]
    },
    {
      "cell_type": "markdown",
      "metadata": {
        "id": "ln23-soXeQk3"
      },
      "source": [
        "# Enabling the GPU\n",
        "\n",
        "First, you'll need to enable GPUs for the notebook:\n",
        "\n",
        "- Navigate to Edit→Notebook Settings\n",
        "- select GPU from the Hardware Accelerator drop-down\n",
        "\n",
        "[Reference](https://colab.research.google.com/notebooks/gpu.ipynb)"
      ]
    },
    {
      "cell_type": "markdown",
      "metadata": {
        "id": "QsNRo8I8Yem2"
      },
      "source": [
        "# Installing Contextualized Topic Models\n",
        "\n",
        "First, we install the contextualized topic model library"
      ]
    },
    {
      "cell_type": "code",
      "execution_count": null,
      "metadata": {
        "id": "BUw5EQi8v9r1"
      },
      "outputs": [],
      "source": [
        "%%capture\n",
        "!pip install contextualized-topic-models==2.3.0"
      ]
    },
    {
      "cell_type": "code",
      "execution_count": null,
      "metadata": {
        "id": "Jv9EL0V5-Xnp"
      },
      "outputs": [],
      "source": [
        "%%capture\n",
        "!pip install pyldavis"
      ]
    },
    {
      "cell_type": "markdown",
      "metadata": {
        "id": "9AzfVSJfZE2f"
      },
      "source": [
        "## Restart the Notebook\n",
        "\n",
        "For the changes to take effect, we now need to restart the notebook.\n",
        "\n",
        "From the Menu:\n",
        "\n",
        "Runtime → Restart Runtime"
      ]
    },
    {
      "cell_type": "markdown",
      "metadata": {
        "id": "sgxRbgSZ9MsB"
      },
      "source": [
        "# Data\n",
        "\n",
        "We are going to need some data. You should upload a file with one document per line. We assume you haven't run any preprocessing script.\n",
        "\n",
        "However, if you want to first test the model without uploading your data, you can simply use the test file I'm putting here"
      ]
    },
    {
      "cell_type": "markdown",
      "metadata": {
        "id": "M0c_ftxjxY_H"
      },
      "source": [
        "# Importing what we need"
      ]
    },
    {
      "cell_type": "code",
      "execution_count": null,
      "metadata": {
        "id": "zxqLlePRdqj8"
      },
      "outputs": [],
      "source": [
        "import gensim\n",
        "from gensim.utils import simple_preprocess\n",
        "from gensim.parsing.preprocessing import STOPWORDS\n",
        "from nltk.stem import WordNetLemmatizer, SnowballStemmer\n",
        "from nltk.stem.porter import PorterStemmer\n",
        "import numpy as np\n",
        "np.random.seed(2018)"
      ]
    },
    {
      "cell_type": "code",
      "execution_count": null,
      "metadata": {
        "id": "SZmTpQUov8y8"
      },
      "outputs": [],
      "source": [
        "from contextualized_topic_models.models.ctm import CombinedTM\n",
        "from contextualized_topic_models.utils.data_preparation import TopicModelDataPreparation\n",
        "from contextualized_topic_models.utils.preprocessing import WhiteSpacePreprocessingStopwords\n",
        "import nltk"
      ]
    },
    {
      "cell_type": "code",
      "execution_count": null,
      "metadata": {
        "id": "DlKMhO1CcAie"
      },
      "outputs": [],
      "source": [
        "import pandas as pd"
      ]
    },
    {
      "cell_type": "markdown",
      "metadata": {
        "id": "CQkeIrdWLU2m"
      },
      "source": [
        "## Preprocessing"
      ]
    },
    {
      "cell_type": "markdown",
      "metadata": {
        "id": "V-AM070Ez6lW"
      },
      "source": [
        "Why do we use the **preprocessed text** here? We need text without punctuation to build the bag of word. Also, we might want only to have the most frequent words inside the BoW. Too many words might not help."
      ]
    },
    {
      "cell_type": "code",
      "execution_count": null,
      "metadata": {
        "colab": {
          "base_uri": "https://localhost:8080/"
        },
        "id": "DoQwlcIWb2ER",
        "outputId": "591e93ca-83ea-4950-de95-0d5c32e3a593"
      },
      "outputs": [
        {
          "name": "stdout",
          "output_type": "stream",
          "text": [
            "Archive:  /content/data.zip\n",
            "  inflating: /content/data/data/apple_names.txt  \n",
            "  inflating: /content/data/data/apple_transcript.txt  \n",
            "  inflating: /content/data/data/cisco_names.txt  \n",
            "  inflating: /content/data/data/cisco_transcript.txt  \n",
            "  inflating: /content/data/data/full_company_data  \n",
            "  inflating: /content/data/data/intuit_names.txt  \n",
            "  inflating: /content/data/data/intuit_transcript.txt  \n",
            "  inflating: /content/data/data/names.txt  \n",
            "  inflating: /content/data/data/Thermo_fischer_names.txt  \n",
            "  inflating: /content/data/data/Thermo_Fischer_transcript.txt  \n",
            "  inflating: /content/data/data/UHG_names.txt  \n",
            "  inflating: /content/data/data/UHG_transcripts.txt  \n",
            "  inflating: /content/data/data/wells fargo doc.txt  \n"
          ]
        }
      ],
      "source": [
        "!unzip \"/content/data.zip\" -d \"/content/data\"\n",
        "text_file = \"/content/data/data/full_company_data\" \n"
      ]
    },
    {
      "cell_type": "code",
      "execution_count": null,
      "metadata": {
        "colab": {
          "base_uri": "https://localhost:8080/"
        },
        "id": "CU0PTBkhb_0e",
        "outputId": "362a0cc8-303c-4c6b-9bf3-c08fc92a08e7"
      },
      "outputs": [
        {
          "name": "stdout",
          "output_type": "stream",
          "text": [
            "full data :  886\n"
          ]
        }
      ],
      "source": [
        "import pickle\n",
        "\n",
        "with open(\"/content/data/data/full_company_data\", \"rb\") as fp:   \n",
        "\n",
        "  full_data = pickle.load(fp)\n",
        "\n",
        "\n",
        "print(\"full data : \", len(full_data))"
      ]
    },
    {
      "cell_type": "code",
      "execution_count": null,
      "metadata": {
        "id": "Jv3SAjJQc4k0"
      },
      "outputs": [],
      "source": [
        "import spacy"
      ]
    },
    {
      "cell_type": "code",
      "execution_count": null,
      "metadata": {
        "id": "9xDwzRKYdKdc"
      },
      "outputs": [],
      "source": [
        "nlp = spacy.load(\"en_core_web_sm\", disable=[\"parser\", \"ner\"])"
      ]
    },
    {
      "cell_type": "code",
      "execution_count": null,
      "metadata": {
        "id": "sNtut_U6dHVj"
      },
      "outputs": [],
      "source": [
        "def lemmatization(texts, allowed_postags=['NOUN', 'ADJ']): #'NOUN', 'ADJ', 'VERB', 'ADV'\n",
        "    texts_out = []\n",
        "    for sent in texts:\n",
        "        doc = nlp(\" \".join(sent)) \n",
        "        texts_out.append(\" \".join([token.lemma_ if token.lemma_ not in ['-PRON-'] else '' for token in doc if token.pos_ in allowed_postags]))\n",
        "    return texts_out\n",
        "def sent_to_words(sentences):\n",
        "    for sentence in sentences:\n",
        "        yield(gensim.utils.simple_preprocess(str(sentence), deacc=True))  # deacc=True removes punctuations\n"
      ]
    },
    {
      "cell_type": "code",
      "execution_count": null,
      "metadata": {
        "colab": {
          "base_uri": "https://localhost:8080/"
        },
        "id": "HoKrSIkxaNBt",
        "outputId": "2f2ad1ff-6d11-4e33-9c54-bc7a46be7926"
      },
      "outputs": [
        {
          "name": "stderr",
          "output_type": "stream",
          "text": [
            "[nltk_data] Downloading package stopwords to /root/nltk_data...\n",
            "[nltk_data]   Package stopwords is already up-to-date!\n",
            "/usr/local/lib/python3.7/dist-packages/sklearn/utils/deprecation.py:87: FutureWarning: Function get_feature_names is deprecated; get_feature_names is deprecated in 1.0 and will be removed in 1.2. Please use get_feature_names_out instead.\n",
            "  warnings.warn(msg, category=FutureWarning)\n"
          ]
        }
      ],
      "source": [
        "from nltk.corpus import stopwords as stop_words\n",
        "\n",
        "nltk.download('stopwords')\n",
        "\n",
        "documents = full_data\n",
        "\n",
        "stopwords = list(stop_words.words(\"english\"))\n",
        "\n",
        "sp = WhiteSpacePreprocessingStopwords(documents, stopwords_list=stopwords)\n",
        "preprocessed_documents, unpreprocessed_corpus, vocab, retained_indices = sp.preprocess()\n",
        "data_words = list(sent_to_words(preprocessed_documents))\n",
        "data_lemmatized = lemmatization(preprocessed_documents, allowed_postags=[\"NOUN\",\"ADJ\"])"
      ]
    },
    {
      "cell_type": "code",
      "execution_count": null,
      "metadata": {
        "colab": {
          "base_uri": "https://localhost:8080/"
        },
        "id": "IDxo_ERVonRE",
        "outputId": "c98b54ea-b73a-4365-f467-a73888d41ad9"
      },
      "outputs": [
        {
          "data": {
            "text/plain": [
              "['good morning thank joining us',\n",
              " 'call today marc president chief executive officer stephen williamson senior vice president chief financial officer please note call webcast live investors section website com heading events august copy press release second quarter earnings available investors section website heading financials']"
            ]
          },
          "execution_count": 20,
          "metadata": {},
          "output_type": "execute_result"
        }
      ],
      "source": [
        "preprocessed_documents[:2]"
      ]
    },
    {
      "cell_type": "code",
      "execution_count": null,
      "metadata": {
        "colab": {
          "base_uri": "https://localhost:8080/"
        },
        "id": "WLv1plAKd87Q",
        "outputId": "0e0e2293-9050-4fb7-cf56-b29984d4ffdf"
      },
      "outputs": [
        {
          "data": {
            "text/plain": [
              "['g r n g',\n",
              " 'o r c p r d h e u t e p s o e r v p r d h n p e e t e b c s t l i e s t o r e c o s t e o u g t c p p r r e e o d q u r t e r e r v i l e e s t o r e c o s t e n']"
            ]
          },
          "execution_count": 17,
          "metadata": {},
          "output_type": "execute_result"
        }
      ],
      "source": [
        "data_lemmatized[:2]"
      ]
    },
    {
      "cell_type": "markdown",
      "metadata": {
        "id": "stAb2Q4eBB3W"
      },
      "source": [
        "We don't discard the non-preprocessed texts, because we are going to use them as input for obtaining the contextualized document representations. \n",
        "\n",
        "Let's pass our files with preprocess and unpreprocessed data to our `TopicModelDataPreparation` object. This object takes care of creating the bag of words for you and of obtaining the contextualized BERT representations of documents. This operation allows us to create our training dataset.\n",
        "\n",
        "Note: Here we use the contextualized model \"paraphrase-distilroberta-base-v1\".\n"
      ]
    },
    {
      "cell_type": "code",
      "execution_count": null,
      "metadata": {
        "colab": {
          "base_uri": "https://localhost:8080/",
          "height": 138,
          "referenced_widgets": [
            "03ba31d0277f459e85299c9d35acac48",
            "a580fc77388d4800b4058d1d59888b58",
            "9988eb8148e9431ab7a247efaa97cc26",
            "37128ba5707f426f9f07080e41f2e095",
            "6922a4a67f1a4b33a66ac1d8dbc8a3d3",
            "6a483668162c4e138973aba5235d9a51",
            "05bc651539c14d549a11b31acfbd4277",
            "8fdd43b308894e11bb4b504ab62ebbc7",
            "2efacab559164b04bfb2fba333888eeb",
            "eb2dd1f9d0c64ce59e98b56884c3c752",
            "0584de6320434d8f9346074352534b7d"
          ]
        },
        "id": "KhLt6VA3wvCB",
        "outputId": "ab6e2e69-29f2-473a-ddf2-5499da3186f6"
      },
      "outputs": [
        {
          "name": "stderr",
          "output_type": "stream",
          "text": [
            "/usr/local/lib/python3.7/dist-packages/contextualized_topic_models/utils/data_preparation.py:57: UserWarning: the longest document in your collection has 304 words, the model instead truncates to 128 tokens.\n",
            "  warnings.warn(f\"the longest document in your collection has {max_local_length} words, the model instead \"\n"
          ]
        },
        {
          "data": {
            "application/vnd.jupyter.widget-view+json": {
              "model_id": "03ba31d0277f459e85299c9d35acac48",
              "version_major": 2,
              "version_minor": 0
            },
            "text/plain": [
              "Batches:   0%|          | 0/5 [00:00<?, ?it/s]"
            ]
          },
          "metadata": {},
          "output_type": "display_data"
        },
        {
          "name": "stderr",
          "output_type": "stream",
          "text": [
            "/usr/local/lib/python3.7/dist-packages/sklearn/utils/deprecation.py:87: FutureWarning: Function get_feature_names is deprecated; get_feature_names is deprecated in 1.0 and will be removed in 1.2. Please use get_feature_names_out instead.\n",
            "  warnings.warn(msg, category=FutureWarning)\n"
          ]
        }
      ],
      "source": [
        "tp = TopicModelDataPreparation(\"all-mpnet-base-v2\")\n",
        "training_dataset = tp.fit(text_for_contextual=unpreprocessed_corpus, text_for_bow=preprocessed_documents)"
      ]
    },
    {
      "cell_type": "markdown",
      "metadata": {
        "id": "-aevSxSBbYZG"
      },
      "source": [
        "Let's check the first ten words of the vocabulary "
      ]
    },
    {
      "cell_type": "code",
      "execution_count": null,
      "metadata": {
        "colab": {
          "base_uri": "https://localhost:8080/"
        },
        "id": "evwSKgdyyhWq",
        "outputId": "7ea64da5-7531-48d1-e5cf-1cdad6b19271"
      },
      "outputs": [
        {
          "data": {
            "text/plain": [
              "['ability',\n",
              " 'able',\n",
              " 'absolutely',\n",
              " 'acacia',\n",
              " 'accelerate',\n",
              " 'accelerated',\n",
              " 'accelerates',\n",
              " 'accelerating',\n",
              " 'acceleration',\n",
              " 'accepted']"
            ]
          },
          "execution_count": 22,
          "metadata": {},
          "output_type": "execute_result"
        }
      ],
      "source": [
        "tp.vocab[:10]"
      ]
    },
    {
      "cell_type": "markdown",
      "metadata": {
        "id": "4x-esnySk7uO"
      },
      "source": [
        "## Training our Combined TM\n",
        "\n",
        "Finally, we can fit our new topic model. We will ask the model to find 50 topics in our collection."
      ]
    },
    {
      "cell_type": "code",
      "execution_count": null,
      "metadata": {
        "colab": {
          "base_uri": "https://localhost:8080/"
        },
        "id": "9I3ThmBf0BcK",
        "outputId": "412f39a5-5e7f-4893-e998-d402abe52b8b"
      },
      "outputs": [
        {
          "name": "stderr",
          "output_type": "stream",
          "text": [
            "Epoch: [20/20]\t Seen Samples: [17720/17720]\tTrain Loss: 157.20151466386852\tTime: 0:00:00.432140: : 20it [00:08,  2.33it/s]\n",
            "Sampling: [20/20]: : 20it [00:07,  2.61it/s]\n"
          ]
        }
      ],
      "source": [
        "ctm = CombinedTM(bow_size=len(tp.vocab), contextual_size=768, n_components=5, num_epochs=20)\n",
        "ctm.fit(training_dataset) # run the model"
      ]
    },
    {
      "cell_type": "code",
      "execution_count": null,
      "metadata": {
        "colab": {
          "base_uri": "https://localhost:8080/"
        },
        "id": "lxcKgjbx3V2o",
        "outputId": "db4391f9-e4ee-4003-a6bf-e3761946a819"
      },
      "outputs": [
        {
          "name": "stdout",
          "output_type": "stream",
          "text": [
            "['excuse', 'stick', 'contracts', 'room', 'stepped', 'combining', 'wellness', 'copy', 'reallocate', 'containment']\n",
            "['revenue', 'quarter', 'higher', 'billion', 'million', 'year', 'income', 'expect', 'total', 'increase']\n",
            "['customers', 'platform', 'able', 'mid', 'pharma', 'really', 'large', 'biotech', 'small', 'mailchimp']\n",
            "['allocation', 'function', 'spoken', 'break', 'finished', 'anomalies', 'reasonable', 'measure', 'harbor', 'engage']\n",
            "['think', 'back', 'look', 'would', 'first', 'going', 'see', 'pretty', 'get', 'time']\n"
          ]
        }
      ],
      "source": [
        "for x in ctm.get_topic_lists(10):\n",
        "  print(x)"
      ]
    },
    {
      "cell_type": "markdown",
      "metadata": {
        "id": "UIxPpLs4sn-Q"
      },
      "source": [
        "# Visualizing \n",
        "\n",
        "We can use PyLDAvis to plot our topic in a nice and friendly manner :)"
      ]
    },
    {
      "cell_type": "code",
      "execution_count": null,
      "metadata": {
        "colab": {
          "base_uri": "https://localhost:8080/"
        },
        "id": "mnN3vcyQstZE",
        "outputId": "1bc338bd-674f-4e70-f035-09e0060b56a8"
      },
      "outputs": [
        {
          "name": "stderr",
          "output_type": "stream",
          "text": [
            "Sampling: [10/10]: : 10it [00:04,  2.00it/s]\n"
          ]
        }
      ],
      "source": [
        " lda_vis_data = ctm.get_ldavis_data_format(tp.vocab, training_dataset, n_samples=10)"
      ]
    },
    {
      "cell_type": "code",
      "execution_count": null,
      "metadata": {
        "colab": {
          "base_uri": "https://localhost:8080/",
          "height": 933
        },
        "id": "mFhhsliMtDXJ",
        "outputId": "c0901f0b-63f5-467b-c25b-73d1bab59313"
      },
      "outputs": [
        {
          "name": "stderr",
          "output_type": "stream",
          "text": [
            "Sampling: [10/10]: : 10it [00:03,  2.62it/s]\n",
            "/usr/local/lib/python3.7/dist-packages/pyLDAvis/_prepare.py:247: FutureWarning: In a future version of pandas all arguments of DataFrame.drop except for the argument 'labels' will be keyword-only\n",
            "  by='saliency', ascending=False).head(R).drop('saliency', 1)\n"
          ]
        },
        {
          "data": {
            "text/html": [
              "\n",
              "<link rel=\"stylesheet\" type=\"text/css\" href=\"https://cdn.jsdelivr.net/gh/bmabey/pyLDAvis@3.3.1/pyLDAvis/js/ldavis.v1.0.0.css\">\n",
              "\n",
              "\n",
              "<div id=\"ldavis_el3543140030828594640567910911\"></div>\n",
              "<script type=\"text/javascript\">\n",
              "\n",
              "var ldavis_el3543140030828594640567910911_data = {\"mdsDat\": {\"x\": [0.0008841656990064274, 0.0003889468099187513, 0.00023025544444564032, -0.000598843243511236, -0.0009045247098595838], \"y\": [0.00016884857868095494, 0.00014560051629490406, -0.00023136212634652486, -0.0007452293644596278, 0.000662142395830296], \"topics\": [1, 2, 3, 4, 5], \"cluster\": [1, 1, 1, 1, 1], \"Freq\": [34.25176893442709, 25.84049176789516, 20.07702839034804, 10.014024626397294, 9.816686280932412]}, \"tinfo\": {\"Term\": [\"stick\", \"verticals\", \"sterile\", \"throws\", \"frame\", \"evolving\", \"containing\", \"strategically\", \"standard\", \"reasonable\", \"observations\", \"pharmacist\", \"executed\", \"briefly\", \"fortune\", \"control\", \"explosion\", \"programs\", \"exceed\", \"exceptionally\", \"international\", \"copy\", \"spectrometers\", \"excuse\", \"vice\", \"except\", \"sensitive\", \"shot\", \"traffic\", \"contracts\", \"revenue\", \"income\", \"prior\", \"billion\", \"million\", \"guidance\", \"gaap\", \"quarter\", \"adjusted\", \"higher\", \"basis\", \"total\", \"expect\", \"increase\", \"year\", \"earnings\", \"range\", \"interest\", \"points\", \"consumer\", \"growth\", \"offset\", \"loan\", \"per\", \"net\", \"testing\", \"ago\", \"declined\", \"decline\", \"approximately\", \"full\", \"second\", \"strong\", \"grew\", \"first\", \"business\", \"think\", \"get\", \"look\", \"thing\", \"pretty\", \"lot\", \"back\", \"see\", \"environment\", \"going\", \"side\", \"little\", \"may\", \"yes\", \"would\", \"know\", \"time\", \"changes\", \"happens\", \"supply\", \"right\", \"deposit\", \"obviously\", \"come\", \"demand\", \"go\", \"start\", \"give\", \"component\", \"uncertainty\", \"quarters\", \"first\", \"card\", \"point\", \"seeing\", \"one\", \"customers\", \"us\", \"including\", \"part\", \"today\", \"banking\", \"number\", \"biotech\", \"cool\", \"emerging\", \"entire\", \"large\", \"mailchimp\", \"really\", \"mid\", \"marketing\", \"cell\", \"teams\", \"partner\", \"excellence\", \"decisions\", \"small\", \"powering\", \"pharma\", \"global\", \"confidence\", \"platform\", \"innovation\", \"exciting\", \"outside\", \"spectrometry\", \"hope\", \"powerful\", \"operational\", \"accelerating\", \"strategy\", \"capabilities\", \"able\", \"customers\", \"team\", \"company\", \"technology\", \"mass\", \"ever\", \"ai\", \"grow\", \"money\", \"businesses\", \"saw\", \"end\", \"business\", \"excuse\", \"stick\", \"stakeholders\", \"copy\", \"stepped\", \"explosion\", \"cool\", \"contracts\", \"substantially\", \"wellness\", \"stepping\", \"containment\", \"room\", \"afternoon\", \"combining\", \"reallocate\", \"patrick\", \"simon\", \"sequentially\", \"verticals\", \"discussion\", \"achieving\", \"wins\", \"justin\", \"differentiation\", \"repurchase\", \"honest\", \"rather\", \"exceed\", \"vivek\", \"variety\", \"spenders\", \"society\", \"adherence\", \"recoveries\", \"tangible\", \"locations\", \"logistics\", \"learn\", \"phase\", \"allowing\", \"gas\", \"enrollment\", \"stick\", \"anomalies\", \"allocation\", \"hearing\", \"spoken\", \"evolving\", \"function\", \"applications\", \"latest\", \"verticals\", \"break\", \"tailwinds\", \"alternatives\", \"sterile\", \"except\", \"asking\", \"vice\", \"finished\", \"movements\", \"reasonable\", \"speeding\", \"standard\", \"briefly\", \"individuals\", \"containing\", \"pockets\", \"january\", \"throws\", \"knows\", \"engage\", \"minimum\", \"measure\", \"harbor\", \"busy\", \"hypothesis\", \"aim\", \"programs\", \"onto\", \"supporting\", \"outflows\"], \"Freq\": [8.0, 9.0, 9.0, 9.0, 9.0, 9.0, 9.0, 9.0, 9.0, 9.0, 9.0, 9.0, 9.0, 9.0, 9.0, 9.0, 8.0, 9.0, 9.0, 9.0, 9.0, 8.0, 9.0, 9.0, 9.0, 9.0, 9.0, 9.0, 9.0, 9.0, 4.288416050795501, 3.9797309344904863, 3.907388960399947, 4.0482415401150345, 4.004767912820275, 3.888981299876745, 3.9189259837506683, 4.147890249878534, 3.8848129878343505, 4.097072382037981, 3.905055202600922, 3.9466238751508733, 3.968363324111141, 3.9452151121755623, 3.9891698723090303, 3.743777818583446, 3.7148078240048408, 3.8436968361546087, 3.855757910296787, 3.9202922052465, 3.9134080150363095, 3.880347261908873, 3.91350326277355, 3.730786478991777, 3.8858245715101014, 3.83030794079011, 3.8999807193982994, 3.7967001720017626, 3.8193977454334807, 3.761829711866758, 3.8463758199419713, 3.860533473723248, 3.8905670052888266, 3.8382025852562425, 3.843838390104025, 3.819681982752123, 3.014821210946167, 2.8522379543292797, 2.8934733980652454, 2.8217450730549176, 2.8744246134851004, 2.760183313978363, 2.8967549877509224, 2.8780345325525194, 2.8463209249090173, 2.8798835154894897, 2.7578032099826926, 2.7854209369911636, 2.7666544702358036, 2.704352833962504, 2.8849192247786584, 2.7194253111513143, 2.846612899480324, 2.7402341797960372, 2.7350164124327367, 2.7336593555244657, 2.6850944411784448, 2.811222911631577, 2.710253958153201, 2.7527569918811325, 2.8037500099334767, 2.731524930521189, 2.801185859709979, 2.6929425358811128, 2.70568660107034, 2.7048027247416377, 2.7414523499675685, 2.8831083007838623, 2.8184680277205447, 2.7501499543422, 2.7954423677051525, 2.7607624347477153, 2.8397188345296196, 2.79044045702881, 2.7789267749552446, 2.766963202102545, 2.7583647213907403, 2.771233188196925, 2.7564873362581173, 2.176048112565733, 2.0096769152398406, 2.1186515456559745, 2.1417609366905643, 2.1922983030357024, 2.166835868356016, 2.2081804097768885, 2.2250378942646116, 2.15478598105971, 2.1388604015999566, 2.1643987480318625, 2.074708130090086, 2.078637225288525, 2.134772642012432, 2.170814394462876, 2.071884610120189, 2.2117233260032814, 2.1614840898245626, 2.111347908262955, 2.2332820429598357, 2.137042933020662, 2.098485500409465, 2.091451967623179, 2.1290836740699586, 2.0463230929499603, 2.070801984956272, 2.054296033669959, 2.097369112169707, 2.152827501987194, 2.1568951802681724, 2.225939787669611, 2.264224688263393, 2.157668862254453, 2.152023808377943, 2.153404343034581, 2.1326605740458913, 2.133435580074362, 2.1306559741704287, 2.1382670100251966, 2.142494235390054, 2.1483573148804957, 2.1415343048023985, 2.143417092796393, 2.1374880318701566, 1.222008978435936, 1.138279727079865, 1.1085265631957162, 1.1168086054515225, 1.1287070312591496, 1.1017686280449157, 1.0688968066383269, 1.133730519976739, 1.1075565367700346, 1.117465269204571, 1.1126582836050252, 1.1132212797660785, 1.1298940010735774, 1.0992597454456885, 1.1240423631642456, 1.1149318415136695, 1.053541155137898, 1.053888198519286, 1.0966289078618188, 1.0786403274916823, 1.0667180169984347, 1.0966974800237614, 1.0638470117462524, 1.063245051628012, 1.087173874386395, 1.0711306301160541, 1.0792561561370573, 1.0611521147751426, 1.0713512057380972, 1.0866741671388522, 1.085506349099991, 1.1039047114266478, 1.0890058407802503, 1.1046582347342861, 1.0943342169594459, 1.0850457158773112, 1.0812038036580418, 1.083683298187865, 1.085399253251564, 1.087881169270252, 1.0862241004130366, 1.0851280464987125, 1.0845238850269585, 1.0714581900987123, 1.0938388539208832, 1.1138395969920978, 1.0542424193493427, 1.097043875727403, 1.076156637262896, 1.1093696791904988, 1.0464792186370717, 1.053811687897295, 1.0684731736606106, 1.096965972894643, 1.0724437364621904, 1.0765517621570337, 1.0791797419280948, 1.0577822506988745, 1.05285635315871, 1.0728917316998914, 1.0950078280069266, 1.060525789935152, 1.0905858172105154, 1.0628736647839896, 1.065535848430376, 1.0750231618361017, 1.0690907855923546, 1.0724325150015157, 1.0426593902639767, 1.069514935226122, 1.0567916330983609, 1.0625753249881698, 1.0841171846249151, 1.0787063905052157, 1.0872066469662187, 1.0856691989551392, 1.0834060245546628, 1.0669964725952985, 1.0665001387577686, 1.0710531385278237, 1.0665549512772174, 1.0659570848003146, 1.064832888658309], \"Total\": [8.0, 9.0, 9.0, 9.0, 9.0, 9.0, 9.0, 9.0, 9.0, 9.0, 9.0, 9.0, 9.0, 9.0, 9.0, 9.0, 8.0, 9.0, 9.0, 9.0, 9.0, 8.0, 9.0, 9.0, 9.0, 9.0, 9.0, 9.0, 9.0, 9.0, 10.131749215805279, 9.610521854154658, 9.51915355508266, 9.867610002992185, 9.772251413972809, 9.503282425253552, 9.596766888179713, 10.217497632422493, 9.588475755803264, 10.147069159354253, 9.723688967619767, 9.83398505869787, 9.919316942782324, 9.865449674114737, 9.979895842205272, 9.392855384278914, 9.338822714403772, 9.665653184215914, 9.698145254265485, 9.873136228183004, 9.910668295845824, 9.828201663930235, 9.927409388849703, 9.471889132118342, 9.866355789508084, 9.752500752669762, 9.93529270709392, 9.70223663246294, 9.777964717479295, 9.650091794063526, 9.871511241868856, 9.910973260869829, 10.01251201206811, 9.872979529303416, 10.095902454678656, 10.048871968440451, 9.608925929848134, 9.470991258417728, 9.618932860056649, 9.453672932092301, 9.691963045242783, 9.33069297358873, 9.86216232305008, 9.803817699443165, 9.706487347879424, 9.842972708026647, 9.471207806681097, 9.579353586858415, 9.514931943422429, 9.308178833556713, 9.931576716212142, 9.375609998138888, 9.823800427791673, 9.465434489691624, 9.44907606990447, 9.446621348455265, 9.294111396791301, 9.73338446414593, 9.386968376392403, 9.538284843582858, 9.716000781095111, 9.48085428746626, 9.732141437465758, 9.377386652798432, 9.428380469505976, 9.439208698489447, 9.573060005018439, 10.095902454678656, 9.888930257789088, 9.610334500331462, 9.836940878847416, 9.690704803003264, 10.209769763511758, 9.976401402801804, 9.956644709811226, 9.850790614846748, 9.771706626794034, 10.041112368984018, 9.888115887260225, 9.3080056196302, 8.792376694292761, 9.269981464936935, 9.374112228250914, 9.60796532073012, 9.519879519899295, 9.71200602820453, 9.794429770698052, 9.522848157272678, 9.466101313868307, 9.581449540678989, 9.190380333821663, 9.208032355045107, 9.48934245455479, 9.664197168512278, 9.237077866802442, 9.861295264347323, 9.642072604513213, 9.420807971922153, 9.969912404665425, 9.553115857158993, 9.383183870159996, 9.353165331396397, 9.524444845067, 9.159802619411245, 9.270366471024754, 9.202599885432537, 9.396389377520588, 9.658616803125447, 9.683505825500824, 9.996907865489732, 10.209769763511758, 9.696427088510662, 9.670536771141146, 9.708816344334025, 9.595461347255451, 9.618257455773646, 9.60075746117214, 9.698181773093214, 9.742010822181426, 9.816425658709896, 9.850022588376543, 10.257953626567161, 10.048871968440451, 9.419655367357452, 8.895262725362437, 8.910666850909005, 8.985010138167208, 9.145534668442899, 8.993066748286164, 8.792376694292761, 9.428224877212564, 9.214648863843427, 9.375828750020906, 9.366553791116528, 9.377386454114164, 9.520499792206358, 9.278091555174186, 9.506363583199828, 9.460925486874316, 8.945831096354954, 8.954431033953702, 9.33068594083262, 9.185850070278008, 9.098506422187766, 9.3691164944989, 9.093150389700474, 9.115547014965792, 9.368274511212705, 9.230164450915398, 9.301405918518238, 9.147200700154698, 9.235287470870677, 9.369176035499752, 9.377254283894287, 9.591413035792105, 9.429266302215765, 9.644118880564363, 9.523715678234591, 9.393511239746477, 9.365082280295631, 9.454155231980515, 9.512735390833058, 9.605369082512617, 9.552549559842179, 9.529453327456897, 9.639419393424031, 8.895262725362437, 9.171648444546523, 9.369046672363089, 8.921094743841303, 9.313541403395208, 9.179657274258593, 9.463125060270533, 8.941144189501548, 9.047027986554237, 9.185850070278008, 9.434701331541099, 9.225786430162437, 9.26309219651781, 9.312894377186964, 9.143315444122948, 9.104147945222817, 9.285187477017683, 9.50972180382295, 9.211729432155645, 9.519554271180269, 9.287875956988223, 9.325546797734892, 9.415646811118956, 9.37226687863604, 9.424993246905567, 9.167913351440015, 9.407367300449788, 9.29939002953531, 9.360053162320725, 9.553104770030158, 9.51136494219448, 9.592450248451573, 9.651360454452167, 9.744134739022057, 9.43327527804136, 9.437561871675554, 9.68435226047313, 9.525006447385522, 9.583158562204261, 9.577902547654011], \"Category\": [\"Default\", \"Default\", \"Default\", \"Default\", \"Default\", \"Default\", \"Default\", \"Default\", \"Default\", \"Default\", \"Default\", \"Default\", \"Default\", \"Default\", \"Default\", \"Default\", \"Default\", \"Default\", \"Default\", \"Default\", \"Default\", \"Default\", \"Default\", \"Default\", \"Default\", \"Default\", \"Default\", \"Default\", \"Default\", \"Default\", \"Topic1\", \"Topic1\", \"Topic1\", \"Topic1\", \"Topic1\", \"Topic1\", \"Topic1\", \"Topic1\", \"Topic1\", \"Topic1\", \"Topic1\", \"Topic1\", \"Topic1\", \"Topic1\", \"Topic1\", \"Topic1\", \"Topic1\", \"Topic1\", \"Topic1\", \"Topic1\", \"Topic1\", \"Topic1\", \"Topic1\", \"Topic1\", \"Topic1\", \"Topic1\", \"Topic1\", \"Topic1\", \"Topic1\", \"Topic1\", \"Topic1\", \"Topic1\", \"Topic1\", \"Topic1\", \"Topic1\", \"Topic1\", \"Topic2\", \"Topic2\", \"Topic2\", \"Topic2\", \"Topic2\", \"Topic2\", \"Topic2\", \"Topic2\", \"Topic2\", \"Topic2\", \"Topic2\", \"Topic2\", \"Topic2\", \"Topic2\", \"Topic2\", \"Topic2\", \"Topic2\", \"Topic2\", \"Topic2\", \"Topic2\", \"Topic2\", \"Topic2\", \"Topic2\", \"Topic2\", \"Topic2\", \"Topic2\", \"Topic2\", \"Topic2\", \"Topic2\", \"Topic2\", \"Topic2\", \"Topic2\", \"Topic2\", \"Topic2\", \"Topic2\", \"Topic2\", \"Topic2\", \"Topic2\", \"Topic2\", \"Topic2\", \"Topic2\", \"Topic2\", \"Topic2\", \"Topic3\", \"Topic3\", \"Topic3\", \"Topic3\", \"Topic3\", \"Topic3\", \"Topic3\", \"Topic3\", \"Topic3\", \"Topic3\", \"Topic3\", \"Topic3\", \"Topic3\", \"Topic3\", \"Topic3\", \"Topic3\", \"Topic3\", \"Topic3\", \"Topic3\", \"Topic3\", \"Topic3\", \"Topic3\", \"Topic3\", \"Topic3\", \"Topic3\", \"Topic3\", \"Topic3\", \"Topic3\", \"Topic3\", \"Topic3\", \"Topic3\", \"Topic3\", \"Topic3\", \"Topic3\", \"Topic3\", \"Topic3\", \"Topic3\", \"Topic3\", \"Topic3\", \"Topic3\", \"Topic3\", \"Topic3\", \"Topic3\", \"Topic3\", \"Topic4\", \"Topic4\", \"Topic4\", \"Topic4\", \"Topic4\", \"Topic4\", \"Topic4\", \"Topic4\", \"Topic4\", \"Topic4\", \"Topic4\", \"Topic4\", \"Topic4\", \"Topic4\", \"Topic4\", \"Topic4\", \"Topic4\", \"Topic4\", \"Topic4\", \"Topic4\", \"Topic4\", \"Topic4\", \"Topic4\", \"Topic4\", \"Topic4\", \"Topic4\", \"Topic4\", \"Topic4\", \"Topic4\", \"Topic4\", \"Topic4\", \"Topic4\", \"Topic4\", \"Topic4\", \"Topic4\", \"Topic4\", \"Topic4\", \"Topic4\", \"Topic4\", \"Topic4\", \"Topic4\", \"Topic4\", \"Topic4\", \"Topic5\", \"Topic5\", \"Topic5\", \"Topic5\", \"Topic5\", \"Topic5\", \"Topic5\", \"Topic5\", \"Topic5\", \"Topic5\", \"Topic5\", \"Topic5\", \"Topic5\", \"Topic5\", \"Topic5\", \"Topic5\", \"Topic5\", \"Topic5\", \"Topic5\", \"Topic5\", \"Topic5\", \"Topic5\", \"Topic5\", \"Topic5\", \"Topic5\", \"Topic5\", \"Topic5\", \"Topic5\", \"Topic5\", \"Topic5\", \"Topic5\", \"Topic5\", \"Topic5\", \"Topic5\", \"Topic5\", \"Topic5\", \"Topic5\", \"Topic5\", \"Topic5\", \"Topic5\"], \"logprob\": [30.0, 29.0, 28.0, 27.0, 26.0, 25.0, 24.0, 23.0, 22.0, 21.0, 20.0, 19.0, 18.0, 17.0, 16.0, 15.0, 14.0, 13.0, 12.0, 11.0, 10.0, 9.0, 8.0, 7.0, 6.0, 5.0, 4.0, 3.0, 2.0, 1.0, -7.3187, -7.3934, -7.4117, -7.3763, -7.3871, -7.4164, -7.4088, -7.352, -7.4175, -7.3643, -7.4123, -7.4017, -7.3962, -7.4021, -7.391, -7.4545, -7.4623, -7.4282, -7.425, -7.4084, -7.4102, -7.4187, -7.4102, -7.458, -7.4173, -7.4316, -7.4136, -7.4405, -7.4345, -7.4497, -7.4275, -7.4238, -7.416, -7.4296, -7.4281, -7.4344, -7.3892, -7.4447, -7.4303, -7.4554, -7.4369, -7.4775, -7.4292, -7.4357, -7.4468, -7.435, -7.4784, -7.4684, -7.4752, -7.4979, -7.4333, -7.4924, -7.4467, -7.4847, -7.4867, -7.4871, -7.5051, -7.4592, -7.4957, -7.4802, -7.4618, -7.4879, -7.4627, -7.5022, -7.4974, -7.4978, -7.4843, -7.4339, -7.4566, -7.4811, -7.4648, -7.4773, -7.4491, -7.4666, -7.4707, -7.475, -7.4782, -7.4735, -7.4788, -7.4629, -7.5424, -7.4896, -7.4788, -7.4555, -7.4672, -7.4483, -7.4406, -7.4727, -7.4802, -7.4683, -7.5106, -7.5087, -7.4821, -7.4653, -7.512, -7.4467, -7.4696, -7.4931, -7.437, -7.481, -7.4992, -7.5026, -7.4847, -7.5244, -7.5125, -7.5205, -7.4997, -7.4736, -7.4718, -7.4402, -7.4232, -7.4714, -7.474, -7.4734, -7.4831, -7.4827, -7.484, -7.4804, -7.4785, -7.4757, -7.4789, -7.478, -7.4808, -7.3443, -7.4153, -7.4418, -7.4344, -7.4238, -7.4479, -7.4782, -7.4193, -7.4427, -7.4338, -7.4381, -7.4376, -7.4227, -7.4502, -7.4279, -7.436, -7.4927, -7.4923, -7.4526, -7.4691, -7.4802, -7.4525, -7.4829, -7.4835, -7.4613, -7.4761, -7.4686, -7.4855, -7.4759, -7.4617, -7.4628, -7.446, -7.4596, -7.4453, -7.4547, -7.4632, -7.4668, -7.4645, -7.4629, -7.4606, -7.4621, -7.4631, -7.4637, -7.4559, -7.4352, -7.4171, -7.4721, -7.4323, -7.4515, -7.4211, -7.4795, -7.4725, -7.4587, -7.4324, -7.455, -7.4512, -7.4487, -7.4688, -7.4734, -7.4546, -7.4342, -7.4662, -7.4382, -7.464, -7.4615, -7.4526, -7.4581, -7.455, -7.4832, -7.4577, -7.4697, -7.4642, -7.4442, -7.4492, -7.4413, -7.4427, -7.4448, -7.4601, -7.4605, -7.4563, -7.4605, -7.4611, -7.4621], \"loglift\": [30.0, 29.0, 28.0, 27.0, 26.0, 25.0, 24.0, 23.0, 22.0, 21.0, 20.0, 19.0, 18.0, 17.0, 16.0, 15.0, 14.0, 13.0, 12.0, 11.0, 10.0, 9.0, 8.0, 7.0, 6.0, 5.0, 4.0, 3.0, 2.0, 1.0, 0.2117, 0.1898, 0.181, 0.1805, 0.1794, 0.1779, 0.1758, 0.1699, 0.1679, 0.1645, 0.1591, 0.1584, 0.1553, 0.1549, 0.1544, 0.1516, 0.1496, 0.1493, 0.1491, 0.1478, 0.1422, 0.1421, 0.1406, 0.1397, 0.1396, 0.1369, 0.1363, 0.1332, 0.1314, 0.1294, 0.1289, 0.1286, 0.1262, 0.1266, 0.1058, 0.1041, 0.1941, 0.1531, 0.152, 0.1442, 0.1378, 0.1352, 0.1281, 0.1276, 0.1265, 0.1242, 0.1194, 0.118, 0.118, 0.1172, 0.117, 0.1155, 0.1145, 0.1136, 0.1134, 0.1132, 0.1116, 0.1113, 0.1109, 0.1105, 0.1104, 0.1088, 0.1078, 0.1056, 0.1049, 0.1034, 0.1028, 0.1, 0.098, 0.102, 0.0951, 0.0976, 0.0736, 0.0792, 0.0771, 0.0834, 0.0884, 0.0658, 0.0759, 0.1522, 0.1297, 0.1296, 0.1293, 0.128, 0.1255, 0.1244, 0.1236, 0.1196, 0.1181, 0.1179, 0.1173, 0.1172, 0.1138, 0.1123, 0.1108, 0.1107, 0.1103, 0.11, 0.1095, 0.1081, 0.1079, 0.1077, 0.1074, 0.1068, 0.1067, 0.106, 0.106, 0.1045, 0.1038, 0.1035, 0.0995, 0.1029, 0.1029, 0.0996, 0.1017, 0.0997, 0.1002, 0.0937, 0.0911, 0.0862, 0.0796, 0.0399, 0.0578, 0.2589, 0.2452, 0.217, 0.2161, 0.209, 0.2016, 0.1939, 0.183, 0.1825, 0.1741, 0.1708, 0.1701, 0.1699, 0.1682, 0.1662, 0.1628, 0.1622, 0.1615, 0.1601, 0.1592, 0.1577, 0.1561, 0.1556, 0.1525, 0.1474, 0.1474, 0.1473, 0.1471, 0.1471, 0.1469, 0.1449, 0.1392, 0.1426, 0.1344, 0.1375, 0.1428, 0.1423, 0.1351, 0.1305, 0.1231, 0.1271, 0.1285, 0.1165, 0.2046, 0.1947, 0.1915, 0.1855, 0.1822, 0.1775, 0.1775, 0.1759, 0.1711, 0.1697, 0.1692, 0.169, 0.1688, 0.1659, 0.1642, 0.1639, 0.163, 0.1595, 0.1594, 0.1545, 0.1534, 0.1518, 0.1511, 0.1501, 0.1477, 0.1472, 0.1468, 0.1464, 0.1453, 0.145, 0.1444, 0.1437, 0.1362, 0.1245, 0.1417, 0.1408, 0.1192, 0.1316, 0.125, 0.1244]}, \"token.table\": {\"Topic\": [1, 2, 3, 4, 5, 1, 2, 3, 4, 5, 1, 2, 3, 4, 5, 1, 2, 3, 4, 5, 1, 2, 3, 4, 5, 1, 2, 3, 4, 5, 1, 2, 3, 4, 5, 1, 2, 3, 4, 5, 1, 2, 3, 4, 5, 1, 2, 3, 4, 5, 1, 2, 3, 4, 5, 1, 2, 3, 4, 5, 1, 2, 3, 4, 5, 1, 2, 3, 4, 5, 1, 2, 3, 4, 5, 1, 2, 3, 4, 5, 1, 2, 3, 4, 5, 1, 2, 3, 4, 5, 1, 2, 3, 4, 5, 1, 2, 3, 4, 5, 1, 2, 3, 4, 5, 1, 2, 3, 4, 5, 1, 2, 3, 4, 5, 1, 2, 3, 4, 5, 1, 2, 3, 4, 5, 1, 2, 3, 4, 5, 1, 2, 3, 4, 5, 1, 2, 3, 4, 5, 1, 2, 3, 4, 5, 1, 2, 3, 4, 5, 1, 2, 3, 4, 5, 1, 2, 3, 4, 5, 1, 2, 3, 4, 5, 1, 2, 3, 4, 5, 1, 2, 3, 4, 5, 1, 2, 3, 4, 5, 1, 2, 3, 4, 5, 1, 2, 3, 4, 5, 1, 2, 3, 4, 5, 1, 2, 3, 4, 5, 1, 2, 3, 4, 5, 1, 2, 3, 4, 5, 1, 2, 3, 4, 5, 1, 2, 3, 4, 5, 1, 2, 3, 4, 5, 1, 2, 3, 4, 5, 1, 2, 3, 4, 5, 1, 2, 3, 4, 5, 1, 2, 3, 4, 5, 1, 2, 3, 4, 5, 1, 2, 3, 4, 5, 1, 2, 3, 4, 5, 1, 2, 3, 4, 5, 1, 2, 3, 4, 5, 1, 2, 3, 4, 5, 1, 2, 3, 4, 5, 1, 2, 3, 4, 5, 1, 2, 3, 4, 5, 1, 2, 3, 4, 5, 1, 2, 3, 4, 5, 1, 2, 3, 4, 5, 1, 2, 3, 4, 5, 1, 2, 3, 4, 5, 1, 2, 3, 4, 5, 1, 2, 3, 4, 5, 1, 2, 3, 4, 5, 1, 2, 3, 4, 5, 1, 2, 3, 4, 5, 1, 2, 3, 4, 5, 1, 2, 3, 4, 5, 1, 2, 3, 4, 5, 1, 2, 3, 4, 5, 1, 2, 3, 4, 5, 1, 2, 3, 4, 5, 1, 2, 3, 4, 5, 1, 2, 3, 4, 5, 1, 2, 3, 4, 5, 1, 2, 3, 4, 5, 1, 2, 3, 4, 5, 1, 2, 3, 4, 5, 1, 2, 3, 4, 5, 1, 2, 3, 4, 5, 1, 2, 3, 4, 5, 1, 2, 3, 4, 5, 1, 2, 3, 4, 5, 1, 2, 3, 4, 5, 1, 2, 3, 4, 5, 1, 2, 3, 4, 5, 1, 2, 3, 4, 5, 1, 2, 3, 4, 5, 1, 2, 3, 4, 5, 1, 2, 3, 4, 5, 1, 2, 3, 4, 5, 1, 2, 3, 4, 5, 1, 2, 3, 4, 5, 1, 2, 3, 4, 5, 1, 2, 3, 4, 5, 1, 2, 3, 4, 5, 1, 2, 3, 4, 5, 1, 2, 3, 4, 5, 1, 2, 3, 4, 5, 1, 2, 3, 4, 5, 1, 2, 3, 4, 5, 1, 2, 3, 4, 5, 1, 2, 3, 4, 5, 1, 2, 3, 4, 5, 1, 2, 3, 4, 5, 1, 2, 3, 4, 5, 1, 2, 3, 4, 5, 1, 2, 3, 4, 5, 1, 2, 3, 4, 5, 1, 2, 3, 4, 5, 1, 2, 3, 4, 5, 1, 2, 3, 4, 5, 1, 2, 3, 4, 5, 1, 2, 3, 4, 5, 1, 2, 3, 4, 5, 1, 2, 3, 4, 5, 1, 2, 3, 4, 5, 1, 2, 3, 4, 5, 1, 2, 3, 4, 5, 1, 2, 3, 4, 5, 1, 2, 3, 4, 5, 1, 2, 3, 4, 5, 1, 2, 3, 4, 5, 1, 2, 3, 4, 5, 1, 2, 3, 4, 5, 1, 2, 3, 4, 5, 1, 2, 3, 4, 5, 1, 2, 3, 4, 5, 1, 2, 3, 4, 5, 1, 2, 3, 4, 5, 1, 2, 3, 4, 5, 1, 2, 3, 4, 5, 1, 2, 3, 4, 5, 1, 2, 3, 4, 5, 1, 2, 3, 4, 5, 1, 2, 3, 4, 5, 1, 2, 3, 4, 5, 1, 2, 3, 4, 5, 1, 2, 3, 4, 5, 1, 2, 3, 4, 5, 1, 2, 3, 4, 5, 1, 2, 3, 4, 5, 1, 2, 3, 4, 5, 1, 2, 3, 4, 5, 1, 2, 3, 4, 5, 1, 2, 3, 4, 5, 1, 2, 3, 4, 5, 1, 2, 3, 4, 5, 1, 2, 3, 4, 5, 1, 2, 3, 4, 5, 1, 2, 3, 4, 5, 1, 2, 3, 4, 5, 1, 2, 3, 4, 5, 1, 2, 3, 4, 5, 1, 2, 3, 4, 5, 1, 2, 3, 4, 5, 1, 2, 3, 4, 5, 1, 2, 3, 4, 5, 1, 2, 3, 4, 5, 1, 2, 3, 4, 5, 1, 2, 3, 4, 5, 1, 2, 3, 4, 5, 1, 2, 3, 4, 5, 1, 2, 3, 4, 5, 1, 2, 3, 4, 5, 1, 2, 3, 4, 5, 1, 2, 3, 4, 5, 1, 2, 3, 4, 5, 1, 2, 3, 4, 5, 1, 2, 3, 4, 5, 1, 2, 3, 4, 5, 1, 2, 3, 4, 5, 1, 2, 3, 4, 5, 1, 2, 3, 4, 5, 1, 2, 3, 4, 5, 1, 2, 3, 4, 5, 1, 2, 3, 4, 5, 1, 2, 3, 4, 5, 1, 2, 3, 4, 5, 1, 2, 3, 4, 5, 1, 2, 3, 4, 5, 1, 2, 3, 4, 5, 1, 2, 3, 4, 5, 1, 2, 3, 4, 5, 1, 2, 3, 4, 5, 1, 2, 3, 4, 5, 1, 2, 3, 4, 5, 1, 2, 3, 4, 5, 1, 2, 3, 4, 5, 1, 2, 3, 4, 5, 1, 2, 3, 4, 5, 1, 2, 3, 4, 5, 1, 2, 3, 4, 5, 1, 2, 3, 4, 5, 1, 2, 3, 4, 5, 1, 2, 3, 4, 5, 1, 2, 3, 4, 5, 1, 2, 3, 4, 5, 1, 2, 3, 4, 5, 1, 2, 3, 4, 5, 1, 2, 3, 4, 5, 1, 2, 3, 4, 5, 1, 2, 3, 4, 5, 1, 2, 3, 4, 5, 1, 2, 3, 4, 5, 1, 2, 3, 4, 5, 1, 2, 3, 4, 5, 1, 2, 3, 4, 5, 1, 2, 3, 4, 5, 1, 2, 3, 4, 5, 1, 2, 3, 4, 5], \"Freq\": [0.3000927927280677, 0.3000927927280677, 0.20006186181871183, 0.10003093090935591, 0.10003093090935591, 0.31927157118212207, 0.2128477141214147, 0.2128477141214147, 0.10642385706070735, 0.10642385706070735, 0.32020094976526947, 0.21346729984351298, 0.21346729984351298, 0.10673364992175649, 0.10673364992175649, 0.3110704085207671, 0.2073802723471781, 0.2073802723471781, 0.10369013617358905, 0.10369013617358905, 0.4171674520404421, 0.20858372602022104, 0.20858372602022104, 0.10429186301011052, 0.10429186301011052, 0.32334235787175075, 0.2155615719145005, 0.2155615719145005, 0.10778078595725026, 0.10778078595725026, 0.4026051489297292, 0.3019538616972969, 0.2013025744648646, 0.1006512872324323, 0.1006512872324323, 0.3124753450061361, 0.20831689667075742, 0.20831689667075742, 0.10415844833537871, 0.10415844833537871, 0.31787871070850815, 0.21191914047233876, 0.21191914047233876, 0.10595957023616938, 0.10595957023616938, 0.32020333603945333, 0.21346889069296887, 0.21346889069296887, 0.10673444534648444, 0.10673444534648444, 0.3140522832366822, 0.20936818882445482, 0.20936818882445482, 0.10468409441222741, 0.10468409441222741, 0.323865933357304, 0.21591062223820268, 0.21591062223820268, 0.10795531111910134, 0.10795531111910134, 0.32709496206037036, 0.21806330804024693, 0.21806330804024693, 0.10903165402012346, 0.10903165402012346, 0.3355275271729226, 0.22368501811528174, 0.22368501811528174, 0.11184250905764087, 0.11184250905764087, 0.41450382912012207, 0.3108778718400916, 0.20725191456006103, 0.10362595728003052, 0.10362595728003052, 0.3295201284129151, 0.21968008560861008, 0.21968008560861008, 0.10984004280430504, 0.10984004280430504, 0.3041929246072465, 0.3041929246072465, 0.20279528307149766, 0.10139764153574883, 0.10139764153574883, 0.39836223846628743, 0.29877167884971556, 0.19918111923314372, 0.09959055961657186, 0.09959055961657186, 0.4113665105208675, 0.3085248828906506, 0.20568325526043374, 0.10284162763021687, 0.10284162763021687, 0.4053666489440774, 0.2026833244720387, 0.2026833244720387, 0.10134166223601936, 0.10134166223601936, 0.32230320034112614, 0.21486880022741742, 0.21486880022741742, 0.10743440011370871, 0.10743440011370871, 0.3179750894679322, 0.21198339297862145, 0.21198339297862145, 0.10599169648931073, 0.10599169648931073, 0.3186185782220818, 0.21241238548138786, 0.21241238548138786, 0.10620619274069393, 0.10620619274069393, 0.39805462867498204, 0.29854097150623654, 0.19902731433749102, 0.09951365716874551, 0.09951365716874551, 0.4074802926308405, 0.3056102194731304, 0.20374014631542026, 0.10187007315771013, 0.10187007315771013, 0.30787751610063296, 0.20525167740042197, 0.20525167740042197, 0.10262583870021098, 0.10262583870021098, 0.30980515260286345, 0.206536768401909, 0.206536768401909, 0.1032683842009545, 0.1032683842009545, 0.4044926898791071, 0.3033695174093303, 0.20224634493955354, 0.10112317246977677, 0.10112317246977677, 0.31692033504911377, 0.21128022336607585, 0.21128022336607585, 0.10564011168303793, 0.10564011168303793, 0.3169426615616181, 0.3169426615616181, 0.21129510770774543, 0.10564755385387271, 0.10564755385387271, 0.31557808343263516, 0.2103853889550901, 0.2103853889550901, 0.10519269447754505, 0.10519269447754505, 0.31452195538261074, 0.31452195538261074, 0.20968130358840717, 0.10484065179420358, 0.10484065179420358, 0.31022062900919956, 0.2068137526727997, 0.2068137526727997, 0.10340687633639985, 0.10340687633639985, 0.3181882625232234, 0.3181882625232234, 0.2121255083488156, 0.1060627541744078, 0.1060627541744078, 0.3184440240095353, 0.3184440240095353, 0.2122960160063569, 0.10614800800317845, 0.10614800800317845, 0.40513975575278144, 0.3038548168145861, 0.20256987787639072, 0.10128493893819536, 0.10128493893819536, 0.31830261533449544, 0.2122017435563303, 0.2122017435563303, 0.10610087177816516, 0.10610087177816516, 0.3199185630964161, 0.2132790420642774, 0.2132790420642774, 0.1066395210321387, 0.1066395210321387, 0.31819351352668884, 0.21212900901779255, 0.21212900901779255, 0.10606450450889628, 0.10606450450889628, 0.32008181132487173, 0.32008181132487173, 0.21338787421658115, 0.10669393710829057, 0.10669393710829057, 0.3412046713088779, 0.22746978087258526, 0.22746978087258526, 0.11373489043629263, 0.11373489043629263, 0.3338894396185901, 0.22259295974572674, 0.22259295974572674, 0.11129647987286337, 0.11129647987286337, 0.39178160650550825, 0.2938362048791312, 0.19589080325275413, 0.09794540162637706, 0.09794540162637706, 0.31614413900301697, 0.21076275933534463, 0.21076275933534463, 0.10538137966767232, 0.10538137966767232, 0.40908308789962355, 0.30681231592471764, 0.20454154394981178, 0.10227077197490589, 0.10227077197490589, 0.4122760711294452, 0.3092070533470839, 0.2061380355647226, 0.1030690177823613, 0.1030690177823613, 0.30876901593475004, 0.30876901593475004, 0.20584601062316668, 0.10292300531158334, 0.10292300531158334, 0.4109567452857197, 0.30821755896428976, 0.20547837264285984, 0.10273918632142992, 0.10273918632142992, 0.3202297281542464, 0.21348648543616425, 0.21348648543616425, 0.10674324271808212, 0.10674324271808212, 0.3297244471558707, 0.2198162981039138, 0.2198162981039138, 0.1099081490519569, 0.1099081490519569, 0.42585559303882314, 0.21292779651941157, 0.21292779651941157, 0.10646389825970579, 0.10646389825970579, 0.3236252425473873, 0.2157501616982582, 0.2157501616982582, 0.1078750808491291, 0.1078750808491291, 0.3899413221795394, 0.2924559916346545, 0.1949706610897697, 0.09748533054488485, 0.09748533054488485, 0.314034031052559, 0.20935602070170597, 0.20935602070170597, 0.10467801035085299, 0.10467801035085299, 0.31122206406400227, 0.2074813760426682, 0.2074813760426682, 0.1037406880213341, 0.1037406880213341, 0.3200303054788326, 0.2133535369858884, 0.2133535369858884, 0.1066767684929442, 0.1066767684929442, 0.30907164378629826, 0.30907164378629826, 0.20604776252419882, 0.10302388126209941, 0.10302388126209941, 0.3119068099179608, 0.20793787327864055, 0.20793787327864055, 0.10396893663932028, 0.10396893663932028, 0.32680958671654753, 0.21787305781103167, 0.21787305781103167, 0.10893652890551583, 0.10893652890551583, 0.3248409981240322, 0.21656066541602148, 0.21656066541602148, 0.10828033270801074, 0.10828033270801074, 0.32580250419692447, 0.21720166946461633, 0.21720166946461633, 0.10860083473230817, 0.10860083473230817, 0.3281085530006855, 0.2187390353337903, 0.2187390353337903, 0.10936951766689515, 0.10936951766689515, 0.3228529384294629, 0.21523529228630858, 0.21523529228630858, 0.10761764614315429, 0.10761764614315429, 0.3197209008703829, 0.21314726724692193, 0.21314726724692193, 0.10657363362346096, 0.10657363362346096, 0.3184829893454591, 0.21232199289697273, 0.21232199289697273, 0.10616099644848637, 0.10616099644848637, 0.32046387421597056, 0.21364258281064702, 0.21364258281064702, 0.10682129140532351, 0.10682129140532351, 0.4032535731112568, 0.3024401798334426, 0.2016267865556284, 0.1008133932778142, 0.1008133932778142, 0.3335903184052002, 0.2223935456034668, 0.2223935456034668, 0.1111967728017334, 0.1111967728017334, 0.315466641599756, 0.21031109439983733, 0.21031109439983733, 0.10515554719991867, 0.10515554719991867, 0.39620034147084243, 0.29715025610313184, 0.19810017073542122, 0.09905008536771061, 0.09905008536771061, 0.31876721478483855, 0.2125114765232257, 0.2125114765232257, 0.10625573826161284, 0.10625573826161284, 0.320891562736116, 0.21392770849074402, 0.21392770849074402, 0.10696385424537201, 0.10696385424537201, 0.4052064473202917, 0.20260322366014585, 0.20260322366014585, 0.10130161183007293, 0.10130161183007293, 0.3170200098691537, 0.3170200098691537, 0.21134667324610246, 0.10567333662305123, 0.10567333662305123, 0.41680703997580465, 0.20840351998790232, 0.20840351998790232, 0.10420175999395116, 0.10420175999395116, 0.31481344174866777, 0.31481344174866777, 0.20987562783244518, 0.10493781391622259, 0.10493781391622259, 0.31675670667878914, 0.31675670667878914, 0.21117113778585941, 0.10558556889292971, 0.10558556889292971, 0.3199185563181113, 0.3199185563181113, 0.2132790375454075, 0.10663951877270375, 0.10663951877270375, 0.3111364250250278, 0.20742428335001853, 0.20742428335001853, 0.10371214167500926, 0.10371214167500926, 0.3164271814583224, 0.3164271814583224, 0.21095145430554826, 0.10547572715277413, 0.10547572715277413, 0.3047859715747856, 0.3047859715747856, 0.20319064771652373, 0.10159532385826187, 0.10159532385826187, 0.40514618592369533, 0.3038596394427715, 0.20257309296184767, 0.10128654648092383, 0.10128654648092383, 0.30933633439654085, 0.30933633439654085, 0.20622422293102724, 0.10311211146551362, 0.10311211146551362, 0.4036054765021899, 0.20180273825109496, 0.20180273825109496, 0.10090136912554748, 0.10090136912554748, 0.42090720037642976, 0.21045360018821488, 0.21045360018821488, 0.10522680009410744, 0.10522680009410744, 0.3174913587112576, 0.3174913587112576, 0.21166090580750505, 0.10583045290375252, 0.10583045290375252, 0.3108370072963239, 0.3108370072963239, 0.2072246715308826, 0.1036123357654413, 0.1036123357654413, 0.3362815984070852, 0.22418773227139016, 0.22418773227139016, 0.11209386613569508, 0.11209386613569508, 0.3942024970148676, 0.29565187276115074, 0.1971012485074338, 0.0985506242537169, 0.0985506242537169, 0.3225318867148113, 0.21502125780987422, 0.21502125780987422, 0.10751062890493711, 0.10751062890493711, 0.3275179744203732, 0.21834531628024884, 0.21834531628024884, 0.10917265814012442, 0.10917265814012442, 0.3180231586142043, 0.2120154390761362, 0.2120154390761362, 0.1060077195380681, 0.1060077195380681, 0.4017417630718932, 0.3013063223039199, 0.2008708815359466, 0.1004354407679733, 0.1004354407679733, 0.4162104889518343, 0.20810524447591716, 0.20810524447591716, 0.10405262223795858, 0.10405262223795858, 0.4054554158332306, 0.3040915618749229, 0.2027277079166153, 0.10136385395830765, 0.10136385395830765, 0.32009331774775435, 0.21339554516516956, 0.21339554516516956, 0.10669777258258478, 0.10669777258258478, 0.31403366659181, 0.2093557777278733, 0.2093557777278733, 0.10467788886393666, 0.10467788886393666, 0.41383649131256134, 0.310377368484421, 0.20691824565628067, 0.10345912282814033, 0.10345912282814033, 0.3151083755138155, 0.21007225034254368, 0.21007225034254368, 0.10503612517127184, 0.10503612517127184, 0.3188989973694939, 0.2125993315796626, 0.2125993315796626, 0.1062996657898313, 0.1062996657898313, 0.32910806066543646, 0.21940537377695765, 0.21940537377695765, 0.10970268688847883, 0.10970268688847883, 0.319979180084871, 0.319979180084871, 0.21331945338991398, 0.10665972669495699, 0.10665972669495699, 0.32051100009523686, 0.32051100009523686, 0.21367400006349124, 0.10683700003174562, 0.10683700003174562, 0.31224092717395724, 0.31224092717395724, 0.20816061811597147, 0.10408030905798574, 0.10408030905798574, 0.3316006101073881, 0.2210670734049254, 0.2210670734049254, 0.1105335367024627, 0.1105335367024627, 0.31536670334496514, 0.21024446889664344, 0.21024446889664344, 0.10512223444832172, 0.10512223444832172, 0.3131735323055197, 0.3131735323055197, 0.20878235487034646, 0.10439117743517323, 0.10439117743517323, 0.40292485615559803, 0.3021936421166985, 0.20146242807779902, 0.10073121403889951, 0.10073121403889951, 0.32033888333390037, 0.21355925555593358, 0.21355925555593358, 0.10677962777796679, 0.10677962777796679, 0.31732078926014645, 0.31732078926014645, 0.21154719284009763, 0.10577359642004881, 0.10577359642004881, 0.3118849090274586, 0.3118849090274586, 0.20792327268497238, 0.10396163634248619, 0.10396163634248619, 0.3215195279162801, 0.3215195279162801, 0.2143463519441867, 0.10717317597209335, 0.10717317597209335, 0.31513003853978766, 0.21008669235985844, 0.21008669235985844, 0.10504334617992922, 0.10504334617992922, 0.31503180040825024, 0.21002120027216684, 0.21002120027216684, 0.10501060013608342, 0.10501060013608342, 0.31264781248460527, 0.20843187498973684, 0.20843187498973684, 0.10421593749486842, 0.10421593749486842, 0.31529389992892887, 0.31529389992892887, 0.21019593328595257, 0.10509796664297628, 0.10509796664297628, 0.3127459535674177, 0.20849730237827846, 0.20849730237827846, 0.10424865118913923, 0.10424865118913923, 0.3062965451010824, 0.20419769673405494, 0.20419769673405494, 0.10209884836702747, 0.10209884836702747, 0.4093222565150768, 0.2046611282575384, 0.2046611282575384, 0.1023305641287692, 0.1023305641287692, 0.3154121430764736, 0.2102747620509824, 0.2102747620509824, 0.1051373810254912, 0.1051373810254912, 0.3079446384076426, 0.3079446384076426, 0.20529642560509506, 0.10264821280254753, 0.10264821280254753, 0.3256717451478563, 0.21711449676523753, 0.21711449676523753, 0.10855724838261877, 0.10855724838261877, 0.40541817924847323, 0.3040636344363549, 0.20270908962423662, 0.10135454481211831, 0.10135454481211831, 0.3033945024719196, 0.3033945024719196, 0.20226300164794642, 0.10113150082397321, 0.10113150082397321, 0.32959515417427615, 0.21973010278285077, 0.21973010278285077, 0.10986505139142538, 0.10986505139142538, 0.3195920002825192, 0.3195920002825192, 0.2130613335216795, 0.10653066676083975, 0.10653066676083975, 0.40699205579797043, 0.3052440418484778, 0.20349602789898522, 0.10174801394949261, 0.10174801394949261, 0.3095750062544743, 0.3095750062544743, 0.2063833375029829, 0.10319166875149145, 0.10319166875149145, 0.31496041672742986, 0.31496041672742986, 0.2099736111516199, 0.10498680557580994, 0.10498680557580994, 0.32599483160719805, 0.21732988773813203, 0.21732988773813203, 0.10866494386906601, 0.10866494386906601, 0.3132209776695643, 0.20881398511304286, 0.20881398511304286, 0.10440699255652143, 0.10440699255652143, 0.32074702987764997, 0.21383135325176664, 0.21383135325176664, 0.10691567662588332, 0.10691567662588332, 0.3045440835457928, 0.3045440835457928, 0.20302938903052856, 0.10151469451526428, 0.10151469451526428, 0.32642827511279954, 0.21761885007519968, 0.21761885007519968, 0.10880942503759984, 0.10880942503759984, 0.3353517373273873, 0.22356782488492488, 0.22356782488492488, 0.11178391244246244, 0.11178391244246244, 0.42230224026127505, 0.21115112013063753, 0.21115112013063753, 0.10557556006531876, 0.10557556006531876, 0.30421967090329866, 0.20281311393553242, 0.20281311393553242, 0.10140655696776621, 0.10140655696776621, 0.3279096891825774, 0.2186064594550516, 0.2186064594550516, 0.1093032297275258, 0.1093032297275258, 0.3123253228719501, 0.3123253228719501, 0.2082168819146334, 0.1041084409573167, 0.1041084409573167, 0.3009053518460351, 0.3009053518460351, 0.20060356789735675, 0.10030178394867838, 0.10030178394867838, 0.3272282235879538, 0.21815214905863586, 0.21815214905863586, 0.10907607452931793, 0.10907607452931793, 0.3121639522429245, 0.3121639522429245, 0.208109301495283, 0.1040546507476415, 0.1040546507476415, 0.41244999895631596, 0.20622499947815798, 0.20622499947815798, 0.10311249973907899, 0.10311249973907899, 0.32361180211987645, 0.21574120141325095, 0.21574120141325095, 0.10787060070662548, 0.10787060070662548, 0.3247780351383458, 0.21651869009223054, 0.21651869009223054, 0.10825934504611527, 0.10825934504611527, 0.30953481621790996, 0.30953481621790996, 0.20635654414527332, 0.10317827207263666, 0.10317827207263666, 0.4202054286501386, 0.2101027143250693, 0.2101027143250693, 0.10505135716253465, 0.10505135716253465, 0.3097780749100338, 0.20651871660668916, 0.20651871660668916, 0.10325935830334458, 0.10325935830334458, 0.39148528768013324, 0.29361396576009996, 0.19574264384006662, 0.09787132192003331, 0.09787132192003331, 0.31337942083590037, 0.31337942083590037, 0.20891961389060026, 0.10445980694530013, 0.10445980694530013, 0.428319513318374, 0.214159756659187, 0.214159756659187, 0.1070798783295935, 0.1070798783295935, 0.327969189519288, 0.218646126346192, 0.218646126346192, 0.109323063173096, 0.109323063173096, 0.3170937139460692, 0.21139580929737947, 0.21139580929737947, 0.10569790464868974, 0.10569790464868974, 0.3088960191424648, 0.3088960191424648, 0.20593067942830984, 0.10296533971415492, 0.10296533971415492, 0.315140805392777, 0.21009387026185133, 0.21009387026185133, 0.10504693513092567, 0.10504693513092567, 0.31500310397297676, 0.21000206931531784, 0.21000206931531784, 0.10500103465765892, 0.10500103465765892, 0.3250212946858684, 0.21668086312391224, 0.21668086312391224, 0.10834043156195612, 0.10834043156195612, 0.3947985599327803, 0.19739927996639015, 0.19739927996639015, 0.09869963998319507, 0.09869963998319507, 0.3227850271985894, 0.3227850271985894, 0.21519001813239294, 0.10759500906619647, 0.10759500906619647, 0.3151095074289955, 0.2100730049526637, 0.2100730049526637, 0.10503650247633185, 0.10503650247633185, 0.30456782947281064, 0.30456782947281064, 0.20304521964854044, 0.10152260982427022, 0.10152260982427022, 0.40359305738344237, 0.3026947930375818, 0.20179652869172118, 0.10089826434586059, 0.10089826434586059, 0.3060032419993278, 0.3060032419993278, 0.2040021613328852, 0.1020010806664426, 0.1020010806664426, 0.406630480884691, 0.30497286066351825, 0.2033152404423455, 0.10165762022117275, 0.10165762022117275, 0.317395204743866, 0.2115968031625773, 0.2115968031625773, 0.10579840158128866, 0.10579840158128866, 0.3215197702530642, 0.21434651350204278, 0.21434651350204278, 0.10717325675102139, 0.10717325675102139, 0.3175239295965532, 0.3175239295965532, 0.21168261973103544, 0.10584130986551772, 0.10584130986551772, 0.3167494644013371, 0.3167494644013371, 0.2111663096008914, 0.1055831548004457, 0.1055831548004457, 0.33502966169760007, 0.22335310779840006, 0.22335310779840006, 0.11167655389920003, 0.11167655389920003, 0.31042413018792175, 0.31042413018792175, 0.20694942012528117, 0.10347471006264058, 0.10347471006264058, 0.318158370317215, 0.21210558021147666, 0.21210558021147666, 0.10605279010573833, 0.10605279010573833, 0.32055276050289294, 0.21370184033526196, 0.21370184033526196, 0.10685092016763098, 0.10685092016763098, 0.3149789881510828, 0.20998599210072183, 0.20998599210072183, 0.10499299605036091, 0.10499299605036091, 0.32300172977038866, 0.21533448651359244, 0.21533448651359244, 0.10766724325679622, 0.10766724325679622, 0.31277977382529076, 0.2085198492168605, 0.2085198492168605, 0.10425992460843025, 0.10425992460843025, 0.3221116297294136, 0.2147410864862757, 0.2147410864862757, 0.10737054324313786, 0.10737054324313786, 0.3366751389312643, 0.22445009262084284, 0.22445009262084284, 0.11222504631042142, 0.11222504631042142, 0.32169695408409493, 0.21446463605606328, 0.21446463605606328, 0.10723231802803164, 0.10723231802803164, 0.30825692570094804, 0.30825692570094804, 0.20550461713396537, 0.10275230856698268, 0.10275230856698268, 0.3280289352957835, 0.21868595686385564, 0.21868595686385564, 0.10934297843192782, 0.10934297843192782, 0.32028855723278654, 0.2135257048218577, 0.2135257048218577, 0.10676285241092885, 0.10676285241092885, 0.3221340088800808, 0.21475600592005387, 0.21475600592005387, 0.10737800296002693, 0.10737800296002693, 0.33725816680448467, 0.22483877786965645, 0.22483877786965645, 0.11241938893482822, 0.11241938893482822, 0.32387771935265, 0.2159184795684333, 0.2159184795684333, 0.10795923978421665, 0.10795923978421665, 0.3106034809279549, 0.2070689872853033, 0.2070689872853033, 0.10353449364265165, 0.10353449364265165, 0.3995001449365343, 0.2996251087024007, 0.19975007246826715, 0.09987503623413357, 0.09987503623413357, 0.32556856417735497, 0.32556856417735497, 0.21704570945156998, 0.10852285472578499, 0.10852285472578499, 0.3175738594085353, 0.3175738594085353, 0.21171590627235684, 0.10585795313617842, 0.10585795313617842, 0.31304918733494874, 0.2086994582232992, 0.2086994582232992, 0.1043497291116496, 0.1043497291116496, 0.3251755308568507, 0.21678368723790048, 0.21678368723790048, 0.10839184361895024, 0.10839184361895024, 0.31936939483355187, 0.2129129298890346, 0.2129129298890346, 0.1064564649445173, 0.1064564649445173, 0.30939231251011134, 0.20626154167340757, 0.20626154167340757, 0.10313077083670379, 0.10313077083670379, 0.31310502521181205, 0.31310502521181205, 0.20873668347454138, 0.10436834173727069, 0.10436834173727069, 0.30899750222907163, 0.30899750222907163, 0.2059983348193811, 0.10299916740969055, 0.10299916740969055, 0.4101512116166711, 0.20507560580833556, 0.20507560580833556, 0.10253780290416778, 0.10253780290416778, 0.3173369780771584, 0.3173369780771584, 0.21155798538477225, 0.10577899269238612, 0.10577899269238612, 0.3122097122927259, 0.3122097122927259, 0.20813980819515063, 0.10406990409757531, 0.10406990409757531, 0.3226018040400344, 0.21506786936002295, 0.21506786936002295, 0.10753393468001148, 0.10753393468001148, 0.3053807965716564, 0.3053807965716564, 0.20358719771443762, 0.10179359885721881, 0.10179359885721881, 0.3070088076297743, 0.3070088076297743, 0.20467253841984953, 0.10233626920992477, 0.10233626920992477, 0.4067527026047409, 0.20337635130237045, 0.20337635130237045, 0.10168817565118522, 0.10168817565118522, 0.3235734013235241, 0.2157156008823494, 0.2157156008823494, 0.1078578004411747, 0.1078578004411747, 0.3178232514850624, 0.3178232514850624, 0.21188216765670828, 0.10594108382835414, 0.10594108382835414, 0.3007096325492147, 0.3007096325492147, 0.2004730883661431, 0.10023654418307155, 0.10023654418307155, 0.31992307227421457, 0.2132820481828097, 0.2132820481828097, 0.10664102409140486, 0.10664102409140486, 0.32658926251222886, 0.21772617500815256, 0.21772617500815256, 0.10886308750407628, 0.10886308750407628, 0.3230952533188455, 0.215396835545897, 0.215396835545897, 0.1076984177729485, 0.1076984177729485, 0.3201989148920906, 0.3201989148920906, 0.21346594326139373, 0.10673297163069687, 0.10673297163069687, 0.31997171449972467, 0.2133144763331498, 0.2133144763331498, 0.1066572381665749, 0.1066572381665749, 0.32991866090744587, 0.21994577393829726, 0.21994577393829726, 0.10997288696914863, 0.10997288696914863, 0.4027557873535293, 0.302066840515147, 0.20137789367676465, 0.10068894683838232, 0.10068894683838232, 0.4008057862772358, 0.3006043397079268, 0.2004028931386179, 0.10020144656930895, 0.10020144656930895, 0.32229720266920153, 0.32229720266920153, 0.2148648017794677, 0.10743240088973385, 0.10743240088973385], \"Term\": [\"able\", \"able\", \"able\", \"able\", \"able\", \"accelerating\", \"accelerating\", \"accelerating\", \"accelerating\", \"accelerating\", \"achieving\", \"achieving\", \"achieving\", \"achieving\", \"achieving\", \"adherence\", \"adherence\", \"adherence\", \"adherence\", \"adherence\", \"adjusted\", \"adjusted\", \"adjusted\", \"adjusted\", \"adjusted\", \"afternoon\", \"afternoon\", \"afternoon\", \"afternoon\", \"afternoon\", \"ago\", \"ago\", \"ago\", \"ago\", \"ago\", \"ai\", \"ai\", \"ai\", \"ai\", \"ai\", \"aim\", \"aim\", \"aim\", \"aim\", \"aim\", \"allocation\", \"allocation\", \"allocation\", \"allocation\", \"allocation\", \"allowing\", \"allowing\", \"allowing\", \"allowing\", \"allowing\", \"alternatives\", \"alternatives\", \"alternatives\", \"alternatives\", \"alternatives\", \"anomalies\", \"anomalies\", \"anomalies\", \"anomalies\", \"anomalies\", \"applications\", \"applications\", \"applications\", \"applications\", \"applications\", \"approximately\", \"approximately\", \"approximately\", \"approximately\", \"approximately\", \"asking\", \"asking\", \"asking\", \"asking\", \"asking\", \"back\", \"back\", \"back\", \"back\", \"back\", \"banking\", \"banking\", \"banking\", \"banking\", \"banking\", \"basis\", \"basis\", \"basis\", \"basis\", \"basis\", \"billion\", \"billion\", \"billion\", \"billion\", \"billion\", \"biotech\", \"biotech\", \"biotech\", \"biotech\", \"biotech\", \"break\", \"break\", \"break\", \"break\", \"break\", \"briefly\", \"briefly\", \"briefly\", \"briefly\", \"briefly\", \"business\", \"business\", \"business\", \"business\", \"business\", \"businesses\", \"businesses\", \"businesses\", \"businesses\", \"businesses\", \"busy\", \"busy\", \"busy\", \"busy\", \"busy\", \"capabilities\", \"capabilities\", \"capabilities\", \"capabilities\", \"capabilities\", \"card\", \"card\", \"card\", \"card\", \"card\", \"cell\", \"cell\", \"cell\", \"cell\", \"cell\", \"changes\", \"changes\", \"changes\", \"changes\", \"changes\", \"combining\", \"combining\", \"combining\", \"combining\", \"combining\", \"come\", \"come\", \"come\", \"come\", \"come\", \"company\", \"company\", \"company\", \"company\", \"company\", \"component\", \"component\", \"component\", \"component\", \"component\", \"confidence\", \"confidence\", \"confidence\", \"confidence\", \"confidence\", \"consumer\", \"consumer\", \"consumer\", \"consumer\", \"consumer\", \"containing\", \"containing\", \"containing\", \"containing\", \"containing\", \"containment\", \"containment\", \"containment\", \"containment\", \"containment\", \"contracts\", \"contracts\", \"contracts\", \"contracts\", \"contracts\", \"control\", \"control\", \"control\", \"control\", \"control\", \"cool\", \"cool\", \"cool\", \"cool\", \"cool\", \"copy\", \"copy\", \"copy\", \"copy\", \"copy\", \"customers\", \"customers\", \"customers\", \"customers\", \"customers\", \"decisions\", \"decisions\", \"decisions\", \"decisions\", \"decisions\", \"decline\", \"decline\", \"decline\", \"decline\", \"decline\", \"declined\", \"declined\", \"declined\", \"declined\", \"declined\", \"demand\", \"demand\", \"demand\", \"demand\", \"demand\", \"deposit\", \"deposit\", \"deposit\", \"deposit\", \"deposit\", \"differentiation\", \"differentiation\", \"differentiation\", \"differentiation\", \"differentiation\", \"discussion\", \"discussion\", \"discussion\", \"discussion\", \"discussion\", \"earnings\", \"earnings\", \"earnings\", \"earnings\", \"earnings\", \"emerging\", \"emerging\", \"emerging\", \"emerging\", \"emerging\", \"end\", \"end\", \"end\", \"end\", \"end\", \"engage\", \"engage\", \"engage\", \"engage\", \"engage\", \"enrollment\", \"enrollment\", \"enrollment\", \"enrollment\", \"enrollment\", \"entire\", \"entire\", \"entire\", \"entire\", \"entire\", \"environment\", \"environment\", \"environment\", \"environment\", \"environment\", \"ever\", \"ever\", \"ever\", \"ever\", \"ever\", \"evolving\", \"evolving\", \"evolving\", \"evolving\", \"evolving\", \"exceed\", \"exceed\", \"exceed\", \"exceed\", \"exceed\", \"excellence\", \"excellence\", \"excellence\", \"excellence\", \"excellence\", \"except\", \"except\", \"except\", \"except\", \"except\", \"exceptionally\", \"exceptionally\", \"exceptionally\", \"exceptionally\", \"exceptionally\", \"exciting\", \"exciting\", \"exciting\", \"exciting\", \"exciting\", \"excuse\", \"excuse\", \"excuse\", \"excuse\", \"excuse\", \"executed\", \"executed\", \"executed\", \"executed\", \"executed\", \"expect\", \"expect\", \"expect\", \"expect\", \"expect\", \"explosion\", \"explosion\", \"explosion\", \"explosion\", \"explosion\", \"finished\", \"finished\", \"finished\", \"finished\", \"finished\", \"first\", \"first\", \"first\", \"first\", \"first\", \"fortune\", \"fortune\", \"fortune\", \"fortune\", \"fortune\", \"frame\", \"frame\", \"frame\", \"frame\", \"frame\", \"full\", \"full\", \"full\", \"full\", \"full\", \"function\", \"function\", \"function\", \"function\", \"function\", \"gaap\", \"gaap\", \"gaap\", \"gaap\", \"gaap\", \"gas\", \"gas\", \"gas\", \"gas\", \"gas\", \"get\", \"get\", \"get\", \"get\", \"get\", \"give\", \"give\", \"give\", \"give\", \"give\", \"global\", \"global\", \"global\", \"global\", \"global\", \"go\", \"go\", \"go\", \"go\", \"go\", \"going\", \"going\", \"going\", \"going\", \"going\", \"grew\", \"grew\", \"grew\", \"grew\", \"grew\", \"grow\", \"grow\", \"grow\", \"grow\", \"grow\", \"growth\", \"growth\", \"growth\", \"growth\", \"growth\", \"guidance\", \"guidance\", \"guidance\", \"guidance\", \"guidance\", \"happens\", \"happens\", \"happens\", \"happens\", \"happens\", \"harbor\", \"harbor\", \"harbor\", \"harbor\", \"harbor\", \"hearing\", \"hearing\", \"hearing\", \"hearing\", \"hearing\", \"higher\", \"higher\", \"higher\", \"higher\", \"higher\", \"honest\", \"honest\", \"honest\", \"honest\", \"honest\", \"hope\", \"hope\", \"hope\", \"hope\", \"hope\", \"hypothesis\", \"hypothesis\", \"hypothesis\", \"hypothesis\", \"hypothesis\", \"including\", \"including\", \"including\", \"including\", \"including\", \"income\", \"income\", \"income\", \"income\", \"income\", \"increase\", \"increase\", \"increase\", \"increase\", \"increase\", \"individuals\", \"individuals\", \"individuals\", \"individuals\", \"individuals\", \"innovation\", \"innovation\", \"innovation\", \"innovation\", \"innovation\", \"interest\", \"interest\", \"interest\", \"interest\", \"interest\", \"international\", \"international\", \"international\", \"international\", \"international\", \"january\", \"january\", \"january\", \"january\", \"january\", \"justin\", \"justin\", \"justin\", \"justin\", \"justin\", \"know\", \"know\", \"know\", \"know\", \"know\", \"knows\", \"knows\", \"knows\", \"knows\", \"knows\", \"large\", \"large\", \"large\", \"large\", \"large\", \"latest\", \"latest\", \"latest\", \"latest\", \"latest\", \"learn\", \"learn\", \"learn\", \"learn\", \"learn\", \"little\", \"little\", \"little\", \"little\", \"little\", \"loan\", \"loan\", \"loan\", \"loan\", \"loan\", \"locations\", \"locations\", \"locations\", \"locations\", \"locations\", \"logistics\", \"logistics\", \"logistics\", \"logistics\", \"logistics\", \"look\", \"look\", \"look\", \"look\", \"look\", \"lot\", \"lot\", \"lot\", \"lot\", \"lot\", \"mailchimp\", \"mailchimp\", \"mailchimp\", \"mailchimp\", \"mailchimp\", \"marketing\", \"marketing\", \"marketing\", \"marketing\", \"marketing\", \"mass\", \"mass\", \"mass\", \"mass\", \"mass\", \"may\", \"may\", \"may\", \"may\", \"may\", \"measure\", \"measure\", \"measure\", \"measure\", \"measure\", \"mid\", \"mid\", \"mid\", \"mid\", \"mid\", \"million\", \"million\", \"million\", \"million\", \"million\", \"minimum\", \"minimum\", \"minimum\", \"minimum\", \"minimum\", \"money\", \"money\", \"money\", \"money\", \"money\", \"movements\", \"movements\", \"movements\", \"movements\", \"movements\", \"net\", \"net\", \"net\", \"net\", \"net\", \"number\", \"number\", \"number\", \"number\", \"number\", \"observations\", \"observations\", \"observations\", \"observations\", \"observations\", \"obviously\", \"obviously\", \"obviously\", \"obviously\", \"obviously\", \"offset\", \"offset\", \"offset\", \"offset\", \"offset\", \"one\", \"one\", \"one\", \"one\", \"one\", \"onto\", \"onto\", \"onto\", \"onto\", \"onto\", \"operational\", \"operational\", \"operational\", \"operational\", \"operational\", \"outflows\", \"outflows\", \"outflows\", \"outflows\", \"outflows\", \"outside\", \"outside\", \"outside\", \"outside\", \"outside\", \"part\", \"part\", \"part\", \"part\", \"part\", \"partner\", \"partner\", \"partner\", \"partner\", \"partner\", \"patrick\", \"patrick\", \"patrick\", \"patrick\", \"patrick\", \"per\", \"per\", \"per\", \"per\", \"per\", \"pharma\", \"pharma\", \"pharma\", \"pharma\", \"pharma\", \"pharmacist\", \"pharmacist\", \"pharmacist\", \"pharmacist\", \"pharmacist\", \"phase\", \"phase\", \"phase\", \"phase\", \"phase\", \"platform\", \"platform\", \"platform\", \"platform\", \"platform\", \"pockets\", \"pockets\", \"pockets\", \"pockets\", \"pockets\", \"point\", \"point\", \"point\", \"point\", \"point\", \"points\", \"points\", \"points\", \"points\", \"points\", \"powerful\", \"powerful\", \"powerful\", \"powerful\", \"powerful\", \"powering\", \"powering\", \"powering\", \"powering\", \"powering\", \"pretty\", \"pretty\", \"pretty\", \"pretty\", \"pretty\", \"prior\", \"prior\", \"prior\", \"prior\", \"prior\", \"programs\", \"programs\", \"programs\", \"programs\", \"programs\", \"quarter\", \"quarter\", \"quarter\", \"quarter\", \"quarter\", \"quarters\", \"quarters\", \"quarters\", \"quarters\", \"quarters\", \"range\", \"range\", \"range\", \"range\", \"range\", \"rather\", \"rather\", \"rather\", \"rather\", \"rather\", \"reallocate\", \"reallocate\", \"reallocate\", \"reallocate\", \"reallocate\", \"really\", \"really\", \"really\", \"really\", \"really\", \"reasonable\", \"reasonable\", \"reasonable\", \"reasonable\", \"reasonable\", \"recoveries\", \"recoveries\", \"recoveries\", \"recoveries\", \"recoveries\", \"repurchase\", \"repurchase\", \"repurchase\", \"repurchase\", \"repurchase\", \"revenue\", \"revenue\", \"revenue\", \"revenue\", \"revenue\", \"right\", \"right\", \"right\", \"right\", \"right\", \"room\", \"room\", \"room\", \"room\", \"room\", \"saw\", \"saw\", \"saw\", \"saw\", \"saw\", \"second\", \"second\", \"second\", \"second\", \"second\", \"see\", \"see\", \"see\", \"see\", \"see\", \"seeing\", \"seeing\", \"seeing\", \"seeing\", \"seeing\", \"sensitive\", \"sensitive\", \"sensitive\", \"sensitive\", \"sensitive\", \"sequentially\", \"sequentially\", \"sequentially\", \"sequentially\", \"sequentially\", \"shot\", \"shot\", \"shot\", \"shot\", \"shot\", \"side\", \"side\", \"side\", \"side\", \"side\", \"simon\", \"simon\", \"simon\", \"simon\", \"simon\", \"small\", \"small\", \"small\", \"small\", \"small\", \"society\", \"society\", \"society\", \"society\", \"society\", \"spectrometers\", \"spectrometers\", \"spectrometers\", \"spectrometers\", \"spectrometers\", \"spectrometry\", \"spectrometry\", \"spectrometry\", \"spectrometry\", \"spectrometry\", \"speeding\", \"speeding\", \"speeding\", \"speeding\", \"speeding\", \"spenders\", \"spenders\", \"spenders\", \"spenders\", \"spenders\", \"spoken\", \"spoken\", \"spoken\", \"spoken\", \"spoken\", \"stakeholders\", \"stakeholders\", \"stakeholders\", \"stakeholders\", \"stakeholders\", \"standard\", \"standard\", \"standard\", \"standard\", \"standard\", \"start\", \"start\", \"start\", \"start\", \"start\", \"stepped\", \"stepped\", \"stepped\", \"stepped\", \"stepped\", \"stepping\", \"stepping\", \"stepping\", \"stepping\", \"stepping\", \"sterile\", \"sterile\", \"sterile\", \"sterile\", \"sterile\", \"stick\", \"stick\", \"stick\", \"stick\", \"stick\", \"strategically\", \"strategically\", \"strategically\", \"strategically\", \"strategically\", \"strategy\", \"strategy\", \"strategy\", \"strategy\", \"strategy\", \"strong\", \"strong\", \"strong\", \"strong\", \"strong\", \"substantially\", \"substantially\", \"substantially\", \"substantially\", \"substantially\", \"supply\", \"supply\", \"supply\", \"supply\", \"supply\", \"supporting\", \"supporting\", \"supporting\", \"supporting\", \"supporting\", \"tailwinds\", \"tailwinds\", \"tailwinds\", \"tailwinds\", \"tailwinds\", \"tangible\", \"tangible\", \"tangible\", \"tangible\", \"tangible\", \"team\", \"team\", \"team\", \"team\", \"team\", \"teams\", \"teams\", \"teams\", \"teams\", \"teams\", \"technology\", \"technology\", \"technology\", \"technology\", \"technology\", \"testing\", \"testing\", \"testing\", \"testing\", \"testing\", \"thing\", \"thing\", \"thing\", \"thing\", \"thing\", \"think\", \"think\", \"think\", \"think\", \"think\", \"throws\", \"throws\", \"throws\", \"throws\", \"throws\", \"time\", \"time\", \"time\", \"time\", \"time\", \"today\", \"today\", \"today\", \"today\", \"today\", \"total\", \"total\", \"total\", \"total\", \"total\", \"traffic\", \"traffic\", \"traffic\", \"traffic\", \"traffic\", \"uncertainty\", \"uncertainty\", \"uncertainty\", \"uncertainty\", \"uncertainty\", \"us\", \"us\", \"us\", \"us\", \"us\", \"variety\", \"variety\", \"variety\", \"variety\", \"variety\", \"verticals\", \"verticals\", \"verticals\", \"verticals\", \"verticals\", \"vice\", \"vice\", \"vice\", \"vice\", \"vice\", \"vivek\", \"vivek\", \"vivek\", \"vivek\", \"vivek\", \"wellness\", \"wellness\", \"wellness\", \"wellness\", \"wellness\", \"wins\", \"wins\", \"wins\", \"wins\", \"wins\", \"would\", \"would\", \"would\", \"would\", \"would\", \"year\", \"year\", \"year\", \"year\", \"year\", \"yes\", \"yes\", \"yes\", \"yes\", \"yes\"]}, \"R\": 30, \"lambda.step\": 0.01, \"plot.opts\": {\"xlab\": \"PC1\", \"ylab\": \"PC2\"}, \"topic.order\": [2, 5, 3, 1, 4]};\n",
              "\n",
              "function LDAvis_load_lib(url, callback){\n",
              "  var s = document.createElement('script');\n",
              "  s.src = url;\n",
              "  s.async = true;\n",
              "  s.onreadystatechange = s.onload = callback;\n",
              "  s.onerror = function(){console.warn(\"failed to load library \" + url);};\n",
              "  document.getElementsByTagName(\"head\")[0].appendChild(s);\n",
              "}\n",
              "\n",
              "if(typeof(LDAvis) !== \"undefined\"){\n",
              "   // already loaded: just create the visualization\n",
              "   !function(LDAvis){\n",
              "       new LDAvis(\"#\" + \"ldavis_el3543140030828594640567910911\", ldavis_el3543140030828594640567910911_data);\n",
              "   }(LDAvis);\n",
              "}else if(typeof define === \"function\" && define.amd){\n",
              "   // require.js is available: use it to load d3/LDAvis\n",
              "   require.config({paths: {d3: \"https://d3js.org/d3.v5\"}});\n",
              "   require([\"d3\"], function(d3){\n",
              "      window.d3 = d3;\n",
              "      LDAvis_load_lib(\"https://cdn.jsdelivr.net/gh/bmabey/pyLDAvis@3.3.1/pyLDAvis/js/ldavis.v3.0.0.js\", function(){\n",
              "        new LDAvis(\"#\" + \"ldavis_el3543140030828594640567910911\", ldavis_el3543140030828594640567910911_data);\n",
              "      });\n",
              "    });\n",
              "}else{\n",
              "    // require.js not available: dynamically load d3 & LDAvis\n",
              "    LDAvis_load_lib(\"https://d3js.org/d3.v5.js\", function(){\n",
              "         LDAvis_load_lib(\"https://cdn.jsdelivr.net/gh/bmabey/pyLDAvis@3.3.1/pyLDAvis/js/ldavis.v3.0.0.js\", function(){\n",
              "                 new LDAvis(\"#\" + \"ldavis_el3543140030828594640567910911\", ldavis_el3543140030828594640567910911_data);\n",
              "            })\n",
              "         });\n",
              "}\n",
              "</script>"
            ],
            "text/plain": [
              "<IPython.core.display.HTML object>"
            ]
          },
          "execution_count": 40,
          "metadata": {},
          "output_type": "execute_result"
        }
      ],
      "source": [
        "import pyLDAvis as vis\n",
        "\n",
        "lda_vis_data = ctm.get_ldavis_data_format(tp.vocab, training_dataset, n_samples=10)\n",
        "\n",
        "ctm_pd = vis.prepare(**lda_vis_data)\n",
        "vis.display(ctm_pd)"
      ]
    },
    {
      "cell_type": "markdown",
      "metadata": {
        "id": "jeNJfHvzjD2R"
      },
      "source": [
        "# Topic Predictions\n",
        "\n",
        "Ok now we can take a document and see which topic has been assigned to it. Results will obviously change with respect to the documents you are using. For example, let's predict the topic of the first preprocessed document that is talking about a peninsula."
      ]
    },
    {
      "cell_type": "code",
      "execution_count": null,
      "metadata": {
        "colab": {
          "base_uri": "https://localhost:8080/"
        },
        "id": "Zl5O1HExjI0e",
        "outputId": "04315c52-0204-4e80-f212-d2b8906d814c"
      },
      "outputs": [
        {
          "name": "stderr",
          "output_type": "stream",
          "text": [
            "Sampling: [5/5]: : 5it [00:02,  2.21it/s]\n"
          ]
        }
      ],
      "source": [
        "topics_predictions = ctm.get_thetas(training_dataset, n_samples=5) # get all the topic predictions"
      ]
    },
    {
      "cell_type": "code",
      "execution_count": null,
      "metadata": {
        "colab": {
          "base_uri": "https://localhost:8080/",
          "height": 35
        },
        "id": "fFWsIxDYj0pC",
        "outputId": "49c7e6d8-901a-4817-e654-21847d3fb95f"
      },
      "outputs": [
        {
          "data": {
            "application/vnd.google.colaboratory.intrinsic+json": {
              "type": "string"
            },
            "text/plain": [
              "'good morning thank joining us'"
            ]
          },
          "execution_count": 25,
          "metadata": {},
          "output_type": "execute_result"
        }
      ],
      "source": [
        "preprocessed_documents[0] # see the text of our preprocessed document"
      ]
    },
    {
      "cell_type": "code",
      "execution_count": null,
      "metadata": {
        "id": "kJf1bP5PjqOQ"
      },
      "outputs": [],
      "source": [
        "import numpy as np\n",
        "topic_number = np.argmax(topics_predictions[0]) # get the topic id of the first document"
      ]
    },
    {
      "cell_type": "code",
      "execution_count": null,
      "metadata": {
        "colab": {
          "base_uri": "https://localhost:8080/"
        },
        "id": "8YIh6S-gjhCM",
        "outputId": "22296567-8927-4205-d146-acd192ca1732"
      },
      "outputs": [
        {
          "data": {
            "text/plain": [
              "2"
            ]
          },
          "execution_count": 43,
          "metadata": {},
          "output_type": "execute_result"
        }
      ],
      "source": [
        "topic_number"
      ]
    },
    {
      "cell_type": "code",
      "execution_count": null,
      "metadata": {
        "colab": {
          "base_uri": "https://localhost:8080/"
        },
        "id": "u7J_XUJKjixI",
        "outputId": "eb8ed0c3-ed70-43f0-932f-aa95284bbc04"
      },
      "outputs": [
        {
          "data": {
            "text/plain": [
              "[]"
            ]
          },
          "execution_count": 44,
          "metadata": {},
          "output_type": "execute_result"
        }
      ],
      "source": [
        "ctm.get_topic_lists(0)[1]"
      ]
    },
    {
      "cell_type": "code",
      "execution_count": null,
      "metadata": {
        "colab": {
          "base_uri": "https://localhost:8080/"
        },
        "id": "yMA9vUsgjwOi",
        "outputId": "0d44c452-b2a4-4648-e124-16464c68272e"
      },
      "outputs": [
        {
          "data": {
            "text/plain": [
              "['explosion', 'environments', 'window', 'exited', 'predictive']"
            ]
          },
          "execution_count": 45,
          "metadata": {},
          "output_type": "execute_result"
        }
      ],
      "source": [
        "ctm.get_topic_lists(5)[topic_number] #and the topic should be about natural location/places/related things"
      ]
    },
    {
      "cell_type": "markdown",
      "metadata": {
        "id": "6RyoDP6626_T"
      },
      "source": [
        "# Fin-BERT Model"
      ]
    },
    {
      "cell_type": "code",
      "execution_count": null,
      "metadata": {
        "colab": {
          "base_uri": "https://localhost:8080/",
          "height": 208,
          "referenced_widgets": [
            "488a4cd9569f4f5682550d0d23710606",
            "0df9b3a042d34e7c8abe983262127ef0",
            "c75f9042a5ee488093319f5ffea0a5e0",
            "c0624d9e792d4f48bccb72beddbd23e1",
            "a35828adab634c2a8c704739e3fc63d4",
            "fe2b54f565ad40dd996320fe73ca4af1",
            "7194ab190c7c449eb4cabaace7c8fccc",
            "e58389d9eb084e739afc7402efd12ea4",
            "4c1105d61ceb4cf3a58575cbf08f8dc9",
            "c0924de2418142eaa323f7becc24bcde",
            "6fc2bb08d9a24234bd5fc2e9b5a61edb"
          ]
        },
        "id": "C8J96T-R2_nX",
        "outputId": "c56bed8f-9183-4a33-eef7-995df5a2d189"
      },
      "outputs": [
        {
          "name": "stderr",
          "output_type": "stream",
          "text": [
            "No sentence-transformers model found with name /root/.cache/torch/sentence_transformers/ProsusAI_finbert. Creating a new one with MEAN pooling.\n",
            "Some weights of the model checkpoint at /root/.cache/torch/sentence_transformers/ProsusAI_finbert were not used when initializing BertModel: ['classifier.bias', 'classifier.weight']\n",
            "- This IS expected if you are initializing BertModel from the checkpoint of a model trained on another task or with another architecture (e.g. initializing a BertForSequenceClassification model from a BertForPreTraining model).\n",
            "- This IS NOT expected if you are initializing BertModel from the checkpoint of a model that you expect to be exactly identical (initializing a BertForSequenceClassification model from a BertForSequenceClassification model).\n",
            "/usr/local/lib/python3.7/dist-packages/contextualized_topic_models/utils/data_preparation.py:57: UserWarning: the longest document in your collection has 304 words, the model instead truncates to 128 tokens.\n",
            "  warnings.warn(f\"the longest document in your collection has {max_local_length} words, the model instead \"\n"
          ]
        },
        {
          "data": {
            "application/vnd.jupyter.widget-view+json": {
              "model_id": "488a4cd9569f4f5682550d0d23710606",
              "version_major": 2,
              "version_minor": 0
            },
            "text/plain": [
              "Batches:   0%|          | 0/5 [00:00<?, ?it/s]"
            ]
          },
          "metadata": {},
          "output_type": "display_data"
        },
        {
          "name": "stderr",
          "output_type": "stream",
          "text": [
            "/usr/local/lib/python3.7/dist-packages/sklearn/utils/deprecation.py:87: FutureWarning: Function get_feature_names is deprecated; get_feature_names is deprecated in 1.0 and will be removed in 1.2. Please use get_feature_names_out instead.\n",
            "  warnings.warn(msg, category=FutureWarning)\n"
          ]
        }
      ],
      "source": [
        "tp = TopicModelDataPreparation(\"ProsusAI/finbert\")\n",
        "training_dataset = tp.fit(text_for_contextual=unpreprocessed_corpus, text_for_bow=preprocessed_documents)"
      ]
    },
    {
      "cell_type": "code",
      "execution_count": null,
      "metadata": {
        "colab": {
          "base_uri": "https://localhost:8080/"
        },
        "id": "5znyyj8366DM",
        "outputId": "14bd7ffc-8b00-49de-9706-e4faedc4e7c7"
      },
      "outputs": [
        {
          "name": "stderr",
          "output_type": "stream",
          "text": [
            "Epoch: [20/20]\t Seen Samples: [17720/17720]\tTrain Loss: 157.22595297509875\tTime: 0:00:00.413493: : 20it [00:10,  1.96it/s]\n",
            "Sampling: [20/20]: : 20it [00:07,  2.68it/s]\n"
          ]
        }
      ],
      "source": [
        "ctm = CombinedTM(bow_size=len(tp.vocab), contextual_size=768, n_components=5, num_epochs=20)\n",
        "ctm.fit(training_dataset) # run the model"
      ]
    },
    {
      "cell_type": "code",
      "execution_count": null,
      "metadata": {
        "colab": {
          "base_uri": "https://localhost:8080/"
        },
        "id": "Hn49HmTA64G_",
        "outputId": "40a09192-a326-4f03-e668-72262b8074c3"
      },
      "outputs": [
        {
          "name": "stdout",
          "output_type": "stream",
          "text": [
            "['really', 'things', 'going', 'see', 'half', 'right', 'think', 'look', 'little', 'one']\n",
            "['recap', 'stability', 'generating', 'still', 'issues', 'activities', 'materials', 'contributions', 'foresee', 'though']\n",
            "['quarter', 'year', 'revenue', 'grew', 'adjusted', 'higher', 'points', 'increased', 'lower', 'ago']\n",
            "['stick', 'incredible', 'recognized', 'contributions', 'generating', 'sub', 'progressed', 'stepping', 'proven', 'concerns']\n",
            "['fortune', 'used', 'deadline', 'struggle', 'exception', 'sterile', 'speeding', 'confirmed', 'stable', 'contend']\n"
          ]
        }
      ],
      "source": [
        "for x in ctm.get_topic_lists(10):\n",
        "  print(x)"
      ]
    },
    {
      "cell_type": "code",
      "execution_count": null,
      "metadata": {
        "colab": {
          "base_uri": "https://localhost:8080/"
        },
        "id": "muxJfIRf694H",
        "outputId": "56b7bea1-79bc-4bc0-9b6f-7c645eefe0c9"
      },
      "outputs": [
        {
          "name": "stderr",
          "output_type": "stream",
          "text": [
            "Sampling: [10/10]: : 10it [00:03,  2.69it/s]\n"
          ]
        }
      ],
      "source": [
        " lda_vis_data = ctm.get_ldavis_data_format(tp.vocab, training_dataset, n_samples=10)"
      ]
    },
    {
      "cell_type": "code",
      "execution_count": null,
      "metadata": {
        "colab": {
          "background_save": true,
          "base_uri": "https://localhost:8080/",
          "height": 933
        },
        "id": "fvPWgP_47EJb",
        "outputId": "58ddc147-c9ab-44c9-98a4-17694fae15a8"
      },
      "outputs": [
        {
          "name": "stderr",
          "output_type": "stream",
          "text": [
            "Sampling: [10/10]: : 10it [00:03,  2.64it/s]\n"
          ]
        },
        {
          "data": {
            "text/html": [
              "\n",
              "<link rel=\"stylesheet\" type=\"text/css\" href=\"https://cdn.jsdelivr.net/gh/bmabey/pyLDAvis@3.3.1/pyLDAvis/js/ldavis.v1.0.0.css\">\n",
              "\n",
              "\n",
              "<div id=\"ldavis_el35431400308285964329511115199\"></div>\n",
              "<script type=\"text/javascript\">\n",
              "\n",
              "var ldavis_el35431400308285964329511115199_data = {\"mdsDat\": {\"x\": [0.0008841656990064274, 0.0003889468099187513, 0.00023025544444564032, -0.000598843243511236, -0.0009045247098595838], \"y\": [0.00016884857868095494, 0.00014560051629490406, -0.00023136212634652486, -0.0007452293644596278, 0.000662142395830296], \"topics\": [1, 2, 3, 4, 5], \"cluster\": [1, 1, 1, 1, 1], \"Freq\": [34.39483005873903, 25.852110834096464, 19.97986005851479, 10.218065522249843, 9.555133526399866]}, \"tinfo\": {\"Term\": [\"stick\", \"verticals\", \"sterile\", \"throws\", \"frame\", \"evolving\", \"containing\", \"reasonable\", \"standard\", \"strategically\", \"executed\", \"observations\", \"pharmacist\", \"briefly\", \"fortune\", \"control\", \"programs\", \"explosion\", \"exceed\", \"international\", \"exceptionally\", \"spectrometers\", \"except\", \"vice\", \"copy\", \"speeding\", \"sensitive\", \"shot\", \"traffic\", \"alignment\", \"revenue\", \"income\", \"prior\", \"billion\", \"million\", \"guidance\", \"gaap\", \"quarter\", \"adjusted\", \"higher\", \"basis\", \"total\", \"expect\", \"increase\", \"year\", \"earnings\", \"range\", \"interest\", \"points\", \"consumer\", \"growth\", \"offset\", \"loan\", \"per\", \"net\", \"testing\", \"ago\", \"declined\", \"decline\", \"approximately\", \"full\", \"second\", \"strong\", \"grew\", \"first\", \"business\", \"think\", \"get\", \"look\", \"thing\", \"pretty\", \"lot\", \"back\", \"see\", \"environment\", \"going\", \"side\", \"little\", \"may\", \"yes\", \"would\", \"know\", \"time\", \"happens\", \"changes\", \"supply\", \"right\", \"obviously\", \"deposit\", \"come\", \"demand\", \"go\", \"start\", \"give\", \"component\", \"uncertainty\", \"first\", \"quarters\", \"card\", \"point\", \"seeing\", \"one\", \"customers\", \"us\", \"including\", \"part\", \"today\", \"banking\", \"number\", \"biotech\", \"entire\", \"emerging\", \"cool\", \"large\", \"mailchimp\", \"really\", \"mid\", \"marketing\", \"teams\", \"cell\", \"excellence\", \"partner\", \"decisions\", \"small\", \"powering\", \"pharma\", \"confidence\", \"global\", \"platform\", \"exciting\", \"innovation\", \"spectrometry\", \"outside\", \"hope\", \"powerful\", \"operational\", \"accelerating\", \"strategy\", \"capabilities\", \"able\", \"customers\", \"team\", \"company\", \"technology\", \"mass\", \"ai\", \"ever\", \"grow\", \"money\", \"businesses\", \"saw\", \"end\", \"business\", \"excuse\", \"stick\", \"stakeholders\", \"copy\", \"stepped\", \"explosion\", \"cool\", \"contracts\", \"substantially\", \"wellness\", \"stepping\", \"containment\", \"room\", \"afternoon\", \"combining\", \"reallocate\", \"patrick\", \"simon\", \"verticals\", \"sequentially\", \"discussion\", \"achieving\", \"wins\", \"justin\", \"differentiation\", \"exceed\", \"rather\", \"repurchase\", \"honest\", \"vivek\", \"variety\", \"spenders\", \"society\", \"tangible\", \"adherence\", \"recoveries\", \"locations\", \"digesting\", \"logistics\", \"learn\", \"phase\", \"allowing\", \"gas\", \"enrollment\", \"stick\", \"anomalies\", \"allocation\", \"hearing\", \"spoken\", \"function\", \"evolving\", \"applications\", \"latest\", \"break\", \"verticals\", \"alternatives\", \"tailwinds\", \"sterile\", \"except\", \"asking\", \"vice\", \"finished\", \"movements\", \"reasonable\", \"speeding\", \"standard\", \"briefly\", \"individuals\", \"containing\", \"pockets\", \"january\", \"throws\", \"knows\", \"engage\", \"measure\", \"minimum\", \"harbor\", \"busy\", \"hypothesis\", \"aim\", \"programs\", \"onto\", \"supporting\", \"outflows\"], \"Freq\": [8.0, 9.0, 9.0, 9.0, 9.0, 9.0, 9.0, 9.0, 9.0, 9.0, 9.0, 9.0, 9.0, 9.0, 9.0, 9.0, 9.0, 8.0, 9.0, 9.0, 9.0, 9.0, 9.0, 9.0, 8.0, 9.0, 9.0, 9.0, 9.0, 9.0, 4.30632769802168, 3.9963532807622486, 3.923709152238882, 4.0651500381464825, 4.021494832323305, 3.9052246074960415, 3.9352943628666424, 4.165214955785964, 3.9010388854509914, 4.1141848343508975, 3.9213656469139844, 3.963107941470186, 3.984938190701709, 3.9616932944423158, 4.005831642676402, 3.759414647376497, 3.7303236523359753, 3.8597510018321226, 3.871862452081154, 3.9366662907298546, 3.929753346969397, 3.8965545072990415, 3.929848992532746, 3.746369046190569, 3.902054694260154, 3.8463061843817825, 3.9162699688571534, 3.8125580443021554, 3.83535041985274, 3.7775419389281732, 3.8624411750684464, 3.8766579618482657, 3.9068169360052316, 3.854233802814288, 3.8598931470171784, 3.8356358443599667, 3.0161768119591263, 2.8535204505005454, 2.8947744355712657, 2.8230138582370894, 2.8757170857894505, 2.7614244181880574, 2.8980575008092195, 2.8793286280409993, 2.8476007605141946, 2.881178442364963, 2.7590432439891606, 2.786673389186336, 2.7678984841722656, 2.7055688342439823, 2.886216415938524, 2.720648088705445, 2.847892866370575, 2.736246200456548, 2.741466313965848, 2.734888533353645, 2.6863017820088513, 2.7114726118490515, 2.812486965570439, 2.7539947568779675, 2.8050107037151673, 2.7327531486156125, 2.8024454005328714, 2.694153405572565, 2.706903201074295, 2.706018927314514, 2.884404677669769, 2.7426850318822047, 2.8197353393937874, 2.7513865470961445, 2.7966993259922877, 2.7620037993565, 2.8409957015340805, 2.79169516622895, 2.780176307079203, 2.7682073548589243, 2.7596050078783274, 2.7724792609336517, 2.7577267785877897, 2.165516525580445, 2.1313952919806907, 2.108397745238721, 1.9999505277013696, 2.181688068756969, 2.156348866575745, 2.197493309647768, 2.214269207674599, 2.1443572980433903, 2.153923541369787, 2.1285087948322743, 2.0685770852472407, 2.0646670059922534, 2.124440819088417, 2.160308137504594, 2.06185715122856, 2.2010190789507065, 2.1011294558198887, 2.15102298945741, 2.222473456530935, 2.0883292991484237, 2.1267001223950897, 2.118779384480522, 2.0813298070903388, 2.0364193460939246, 2.0607797657287024, 2.0443536995610794, 2.0872183139784726, 2.142408297572286, 2.1464562891986367, 2.2151667361168976, 2.253266346340261, 2.1472262267368554, 2.1416084936606508, 2.1429823468378033, 2.122338973059241, 2.1203440749995774, 2.123110228231581, 2.1279182751402406, 2.1321250416782096, 2.1379597451730565, 2.1311697569402597, 2.1330434326607626, 2.127143067065537, 1.246908038936888, 1.1614727610851012, 1.1311133612070121, 1.139564154327041, 1.1517050166709604, 1.124217729656962, 1.0906761280078197, 1.1568308615509937, 1.130123569994748, 1.1402341979412889, 1.1353292675415145, 1.135903735038477, 1.1529161716049279, 1.1216577272863335, 1.1469453035680723, 1.1376491503601378, 1.0750075972221418, 1.0753617117906509, 1.1006181781023683, 1.1189732850356202, 1.0884529444100928, 1.1190432543905777, 1.0855234409514865, 1.0849092155866988, 1.1093256003974818, 1.0931805367497098, 1.0827736340706202, 1.0929554667860906, 1.1012465545726529, 1.1088157113581447, 1.1076240984270063, 1.126397336834587, 1.1111948940474223, 1.1071540795658552, 1.127166213566592, 1.116631838627668, 1.103233886412096, 1.0992524841115443, 1.1057639019163141, 1.1075148204456682, 1.1100473067778303, 1.1083564742916578, 1.1072380877159487, 1.1066216161439393, 1.0429105891735666, 1.0646949495047202, 1.0841627989579852, 1.026153510100189, 1.0678145777006125, 1.0798119762650402, 1.0474838523633772, 1.0185971497087853, 1.0257342549238493, 1.0677387504868556, 1.0400051045910403, 1.0478684496719335, 1.0438698769442805, 1.0504264103620478, 1.0295990272770892, 1.0248043738288306, 1.0443059359353033, 1.0658327778064403, 1.0322694685017377, 1.0615285856992407, 1.0345547872986207, 1.0371460405465758, 1.046380576905599, 1.0406062610613234, 1.0438589544647365, 1.0148790956624958, 1.0410191097833155, 1.0286348033858124, 1.0342643963761309, 1.0552323013613758, 1.058239449022734, 1.0499656707682092, 1.0567429643013742, 1.0545400892202794, 1.0385677482925963, 1.038084638620461, 1.0425163296715676, 1.0381379907320794, 1.03755605362484, 1.0364618102174536], \"Total\": [8.0, 9.0, 9.0, 9.0, 9.0, 9.0, 9.0, 9.0, 9.0, 9.0, 9.0, 9.0, 9.0, 9.0, 9.0, 9.0, 9.0, 8.0, 9.0, 9.0, 9.0, 9.0, 9.0, 9.0, 8.0, 9.0, 9.0, 9.0, 9.0, 9.0, 10.13781422657098, 9.61378693165808, 9.523164625501785, 9.87162816450715, 9.776342714517739, 9.508593256930927, 9.601666490035276, 10.223065711460587, 9.591455491009953, 10.151520740313957, 9.727574434217185, 9.838091102731541, 9.923937245061014, 9.868650621699746, 9.984531560828254, 9.397114837638695, 9.341768969530492, 9.6697172125249, 9.702130975150075, 9.878074850770433, 9.913933898838522, 9.830345821111038, 9.932177871405909, 9.475140178325741, 9.870632581054439, 9.755684785703437, 9.940036211928904, 9.705050459838747, 9.783139078244867, 9.65290352958042, 9.875813053882347, 9.915367239111276, 10.01573559768087, 9.877101869668579, 10.1004956910798, 10.050317850852055, 9.609500461960621, 9.473617268619837, 9.618096385834011, 9.4558706174444, 9.691423188777613, 9.330432854370944, 9.861089253097102, 9.805235824580219, 9.708410417858778, 9.844839833491669, 9.468968626683642, 9.578747607933506, 9.518972679616365, 9.306147031459206, 9.932507812949705, 9.377185282724607, 9.824616585613123, 9.448557094978142, 9.468257858881797, 9.445656057640836, 9.291264534943346, 9.386507610423699, 9.737547563228894, 9.536280503737181, 9.716425190153657, 9.480588543251741, 9.73342375056876, 9.378607186603249, 9.430211742860813, 9.438275810277595, 10.1004956910798, 9.574527121797889, 9.889261485196851, 9.61257367202458, 9.842577133098791, 9.694703992536695, 10.21128454831112, 9.977772180462969, 9.959716491904809, 9.847168036426059, 9.7736635880746, 10.042536626595131, 9.88559212236423, 9.310345724568608, 9.36909776862228, 9.269991906097433, 8.7946708059146, 9.609649600538303, 9.519836428608608, 9.710656426725091, 9.794258702885848, 9.522524105512822, 9.57984846530034, 9.467938058352662, 9.206433336668098, 9.189270749465724, 9.484658035705658, 9.661823959935248, 9.23344094835406, 9.861760120120987, 9.416301190646005, 9.640520835986326, 9.96985700408337, 9.382828632680614, 9.556847874161832, 9.523812243639528, 9.355519633104558, 9.160183149518339, 9.273370090703596, 9.200953441764966, 9.398891192093913, 9.65786395043078, 9.683791762867411, 9.996381526974284, 10.21128454831112, 9.69670848678996, 9.671653090515163, 9.711510918445082, 9.595495396406259, 9.600053875444178, 9.621456266411332, 9.696425891562724, 9.739431600746057, 9.817410265765508, 9.848993483625879, 10.260988459622586, 10.050317850852055, 9.427688102874772, 8.895621709234705, 8.915198060120089, 8.98797422047599, 9.149711619568885, 8.994405519562953, 8.7946708059146, 9.43095693749792, 9.218223157017393, 9.382173938684558, 9.372218340188887, 9.379649287772855, 9.525379037542326, 9.279670947126776, 9.511992702504568, 9.466656254158618, 8.951733327059447, 8.95822367620456, 9.183561641823935, 9.337770276736528, 9.101064844326395, 9.376098160481165, 9.095454096411803, 9.117228769510982, 9.371221041166235, 9.235312384258743, 9.147873206505258, 9.234817282580257, 9.305335373635463, 9.371846989416305, 9.383952875093698, 9.595008057996102, 9.434364046398999, 9.396080614956276, 9.651769128043874, 9.530282546260345, 9.366838451876436, 9.321480858599859, 9.45818605892355, 9.51356722354581, 9.610345570279323, 9.556548733297237, 9.534020459652105, 9.643889303372251, 8.895621709234705, 9.16396757164545, 9.362644374267154, 8.916384066201724, 9.306768426261597, 9.455780338340883, 9.175103575376557, 8.934768621348818, 9.044557395183656, 9.426903764540933, 9.183561641823935, 9.254503955182383, 9.219414723395573, 9.309560383907655, 9.139099527526273, 9.098182845266473, 9.283117023149918, 9.502422122309346, 9.207848943378018, 9.5173206351082, 9.283201855182073, 9.322966701422173, 9.414920448590642, 9.36910924242725, 9.421784216839269, 9.163421912941383, 9.40194249116616, 9.29668822911631, 9.354366609620595, 9.54881557670369, 9.587110158553921, 9.506773840400935, 9.645367301984258, 9.739029531450957, 9.429299060631577, 9.436179882276488, 9.683525094107507, 9.51932386280474, 9.57678199625412, 9.57181635429248], \"Category\": [\"Default\", \"Default\", \"Default\", \"Default\", \"Default\", \"Default\", \"Default\", \"Default\", \"Default\", \"Default\", \"Default\", \"Default\", \"Default\", \"Default\", \"Default\", \"Default\", \"Default\", \"Default\", \"Default\", \"Default\", \"Default\", \"Default\", \"Default\", \"Default\", \"Default\", \"Default\", \"Default\", \"Default\", \"Default\", \"Default\", \"Topic1\", \"Topic1\", \"Topic1\", \"Topic1\", \"Topic1\", \"Topic1\", \"Topic1\", \"Topic1\", \"Topic1\", \"Topic1\", \"Topic1\", \"Topic1\", \"Topic1\", \"Topic1\", \"Topic1\", \"Topic1\", \"Topic1\", \"Topic1\", \"Topic1\", \"Topic1\", \"Topic1\", \"Topic1\", \"Topic1\", \"Topic1\", \"Topic1\", \"Topic1\", \"Topic1\", \"Topic1\", \"Topic1\", \"Topic1\", \"Topic1\", \"Topic1\", \"Topic1\", \"Topic1\", \"Topic1\", \"Topic1\", \"Topic2\", \"Topic2\", \"Topic2\", \"Topic2\", \"Topic2\", \"Topic2\", \"Topic2\", \"Topic2\", \"Topic2\", \"Topic2\", \"Topic2\", \"Topic2\", \"Topic2\", \"Topic2\", \"Topic2\", \"Topic2\", \"Topic2\", \"Topic2\", \"Topic2\", \"Topic2\", \"Topic2\", \"Topic2\", \"Topic2\", \"Topic2\", \"Topic2\", \"Topic2\", \"Topic2\", \"Topic2\", \"Topic2\", \"Topic2\", \"Topic2\", \"Topic2\", \"Topic2\", \"Topic2\", \"Topic2\", \"Topic2\", \"Topic2\", \"Topic2\", \"Topic2\", \"Topic2\", \"Topic2\", \"Topic2\", \"Topic2\", \"Topic3\", \"Topic3\", \"Topic3\", \"Topic3\", \"Topic3\", \"Topic3\", \"Topic3\", \"Topic3\", \"Topic3\", \"Topic3\", \"Topic3\", \"Topic3\", \"Topic3\", \"Topic3\", \"Topic3\", \"Topic3\", \"Topic3\", \"Topic3\", \"Topic3\", \"Topic3\", \"Topic3\", \"Topic3\", \"Topic3\", \"Topic3\", \"Topic3\", \"Topic3\", \"Topic3\", \"Topic3\", \"Topic3\", \"Topic3\", \"Topic3\", \"Topic3\", \"Topic3\", \"Topic3\", \"Topic3\", \"Topic3\", \"Topic3\", \"Topic3\", \"Topic3\", \"Topic3\", \"Topic3\", \"Topic3\", \"Topic3\", \"Topic3\", \"Topic4\", \"Topic4\", \"Topic4\", \"Topic4\", \"Topic4\", \"Topic4\", \"Topic4\", \"Topic4\", \"Topic4\", \"Topic4\", \"Topic4\", \"Topic4\", \"Topic4\", \"Topic4\", \"Topic4\", \"Topic4\", \"Topic4\", \"Topic4\", \"Topic4\", \"Topic4\", \"Topic4\", \"Topic4\", \"Topic4\", \"Topic4\", \"Topic4\", \"Topic4\", \"Topic4\", \"Topic4\", \"Topic4\", \"Topic4\", \"Topic4\", \"Topic4\", \"Topic4\", \"Topic4\", \"Topic4\", \"Topic4\", \"Topic4\", \"Topic4\", \"Topic4\", \"Topic4\", \"Topic4\", \"Topic4\", \"Topic4\", \"Topic4\", \"Topic5\", \"Topic5\", \"Topic5\", \"Topic5\", \"Topic5\", \"Topic5\", \"Topic5\", \"Topic5\", \"Topic5\", \"Topic5\", \"Topic5\", \"Topic5\", \"Topic5\", \"Topic5\", \"Topic5\", \"Topic5\", \"Topic5\", \"Topic5\", \"Topic5\", \"Topic5\", \"Topic5\", \"Topic5\", \"Topic5\", \"Topic5\", \"Topic5\", \"Topic5\", \"Topic5\", \"Topic5\", \"Topic5\", \"Topic5\", \"Topic5\", \"Topic5\", \"Topic5\", \"Topic5\", \"Topic5\", \"Topic5\", \"Topic5\", \"Topic5\", \"Topic5\", \"Topic5\"], \"logprob\": [30.0, 29.0, 28.0, 27.0, 26.0, 25.0, 24.0, 23.0, 22.0, 21.0, 20.0, 19.0, 18.0, 17.0, 16.0, 15.0, 14.0, 13.0, 12.0, 11.0, 10.0, 9.0, 8.0, 7.0, 6.0, 5.0, 4.0, 3.0, 2.0, 1.0, -7.3187, -7.3934, -7.4117, -7.3763, -7.3871, -7.4164, -7.4088, -7.352, -7.4175, -7.3643, -7.4123, -7.4017, -7.3962, -7.4021, -7.391, -7.4545, -7.4623, -7.4282, -7.425, -7.4084, -7.4102, -7.4187, -7.4102, -7.458, -7.4173, -7.4316, -7.4136, -7.4405, -7.4345, -7.4497, -7.4275, -7.4238, -7.416, -7.4296, -7.4281, -7.4344, -7.3892, -7.4447, -7.4303, -7.4554, -7.4369, -7.4775, -7.4292, -7.4357, -7.4468, -7.435, -7.4784, -7.4684, -7.4752, -7.4979, -7.4333, -7.4924, -7.4467, -7.4867, -7.4847, -7.4871, -7.5051, -7.4957, -7.4592, -7.4802, -7.4618, -7.4879, -7.4627, -7.5022, -7.4974, -7.4978, -7.4339, -7.4843, -7.4566, -7.4811, -7.4648, -7.4773, -7.4491, -7.4666, -7.4707, -7.475, -7.4782, -7.4735, -7.4788, -7.4629, -7.4788, -7.4896, -7.5424, -7.4555, -7.4672, -7.4483, -7.4406, -7.4727, -7.4683, -7.4802, -7.5087, -7.5106, -7.4821, -7.4653, -7.512, -7.4467, -7.4931, -7.4696, -7.437, -7.4992, -7.481, -7.4847, -7.5026, -7.5244, -7.5125, -7.5205, -7.4997, -7.4736, -7.4718, -7.4402, -7.4232, -7.4714, -7.474, -7.4734, -7.4831, -7.484, -7.4827, -7.4804, -7.4785, -7.4757, -7.4789, -7.478, -7.4808, -7.3443, -7.4153, -7.4418, -7.4344, -7.4238, -7.4479, -7.4782, -7.4193, -7.4427, -7.4338, -7.4381, -7.4376, -7.4227, -7.4502, -7.4279, -7.436, -7.4927, -7.4923, -7.4691, -7.4526, -7.4802, -7.4525, -7.4829, -7.4835, -7.4613, -7.4759, -7.4855, -7.4761, -7.4686, -7.4617, -7.4628, -7.446, -7.4596, -7.4632, -7.4453, -7.4547, -7.4668, -7.4704, -7.4645, -7.4629, -7.4606, -7.4621, -7.4631, -7.4637, -7.4559, -7.4352, -7.4171, -7.4721, -7.4323, -7.4211, -7.4515, -7.4795, -7.4725, -7.4324, -7.4587, -7.4512, -7.455, -7.4487, -7.4688, -7.4734, -7.4546, -7.4342, -7.4662, -7.4382, -7.464, -7.4615, -7.4526, -7.4581, -7.455, -7.4832, -7.4577, -7.4697, -7.4642, -7.4442, -7.4413, -7.4492, -7.4427, -7.4448, -7.4601, -7.4605, -7.4563, -7.4605, -7.4611, -7.4621], \"loglift\": [30.0, 29.0, 28.0, 27.0, 26.0, 25.0, 24.0, 23.0, 22.0, 21.0, 20.0, 19.0, 18.0, 17.0, 16.0, 15.0, 14.0, 13.0, 12.0, 11.0, 10.0, 9.0, 8.0, 7.0, 6.0, 5.0, 4.0, 3.0, 2.0, 1.0, 0.2111, 0.1894, 0.1806, 0.18, 0.179, 0.1774, 0.1753, 0.1694, 0.1676, 0.1641, 0.1587, 0.158, 0.1548, 0.1546, 0.154, 0.1511, 0.1493, 0.1489, 0.1487, 0.1473, 0.1419, 0.1419, 0.1401, 0.1394, 0.1392, 0.1365, 0.1358, 0.1329, 0.1309, 0.1291, 0.1285, 0.1282, 0.1258, 0.1262, 0.1053, 0.104, 0.194, 0.1528, 0.152, 0.1439, 0.1378, 0.1352, 0.1282, 0.1274, 0.1263, 0.124, 0.1196, 0.1181, 0.1176, 0.1174, 0.1169, 0.1154, 0.1145, 0.1135, 0.1133, 0.1133, 0.1119, 0.111, 0.1109, 0.1107, 0.1104, 0.1088, 0.1077, 0.1054, 0.1047, 0.1035, 0.0995, 0.1026, 0.098, 0.1018, 0.0945, 0.0972, 0.0734, 0.0791, 0.0767, 0.0838, 0.0882, 0.0657, 0.0761, 0.152, 0.1298, 0.1296, 0.1294, 0.1278, 0.1255, 0.1245, 0.1236, 0.1196, 0.1181, 0.118, 0.1174, 0.1174, 0.1143, 0.1125, 0.1112, 0.1107, 0.1105, 0.1104, 0.1095, 0.1079, 0.1078, 0.1075, 0.1075, 0.1068, 0.1064, 0.1062, 0.1057, 0.1046, 0.1038, 0.1035, 0.0993, 0.1028, 0.1028, 0.0993, 0.1017, 0.1003, 0.0993, 0.0938, 0.0914, 0.0861, 0.0797, 0.0396, 0.0576, 0.258, 0.2451, 0.2165, 0.2158, 0.2085, 0.2015, 0.1937, 0.1827, 0.1822, 0.1734, 0.1702, 0.1699, 0.1693, 0.168, 0.1656, 0.1622, 0.1615, 0.1611, 0.1595, 0.1594, 0.1574, 0.1553, 0.1553, 0.1523, 0.1471, 0.1471, 0.147, 0.1469, 0.1469, 0.1466, 0.1442, 0.1388, 0.1421, 0.1425, 0.1336, 0.1369, 0.1421, 0.1433, 0.1347, 0.1304, 0.1226, 0.1267, 0.128, 0.116, 0.2045, 0.1955, 0.1922, 0.186, 0.183, 0.1783, 0.178, 0.1766, 0.1713, 0.1701, 0.1699, 0.1697, 0.1697, 0.1662, 0.1647, 0.1645, 0.1632, 0.1603, 0.1598, 0.1547, 0.1539, 0.1521, 0.1511, 0.1505, 0.148, 0.1476, 0.1474, 0.1467, 0.1459, 0.1454, 0.1443, 0.1448, 0.1368, 0.1251, 0.1421, 0.1409, 0.1193, 0.1322, 0.1256, 0.1251]}, \"token.table\": {\"Topic\": [1, 2, 3, 4, 5, 1, 2, 3, 4, 5, 1, 2, 3, 4, 5, 1, 2, 3, 4, 5, 1, 2, 3, 4, 5, 1, 2, 3, 4, 5, 1, 2, 3, 4, 5, 1, 2, 3, 4, 5, 1, 2, 3, 4, 5, 1, 2, 3, 4, 5, 1, 2, 3, 4, 5, 1, 2, 3, 4, 5, 1, 2, 3, 4, 5, 1, 2, 3, 4, 5, 1, 2, 3, 4, 5, 1, 2, 3, 4, 5, 1, 2, 3, 4, 5, 1, 2, 3, 4, 5, 1, 2, 3, 4, 5, 1, 2, 3, 4, 5, 1, 2, 3, 4, 5, 1, 2, 3, 4, 5, 1, 2, 3, 4, 5, 1, 2, 3, 4, 5, 1, 2, 3, 4, 5, 1, 2, 3, 4, 5, 1, 2, 3, 4, 5, 1, 2, 3, 4, 5, 1, 2, 3, 4, 5, 1, 2, 3, 4, 5, 1, 2, 3, 4, 5, 1, 2, 3, 4, 5, 1, 2, 3, 4, 5, 1, 2, 3, 4, 5, 1, 2, 3, 4, 5, 1, 2, 3, 4, 5, 1, 2, 3, 4, 5, 1, 2, 3, 4, 5, 1, 2, 3, 4, 5, 1, 2, 3, 4, 5, 1, 2, 3, 4, 5, 1, 2, 3, 4, 5, 1, 2, 3, 4, 5, 1, 2, 3, 4, 5, 1, 2, 3, 4, 5, 1, 2, 3, 4, 5, 1, 2, 3, 4, 5, 1, 2, 3, 4, 5, 1, 2, 3, 4, 5, 1, 2, 3, 4, 5, 1, 2, 3, 4, 5, 1, 2, 3, 4, 5, 1, 2, 3, 4, 5, 1, 2, 3, 4, 5, 1, 2, 3, 4, 5, 1, 2, 3, 4, 5, 1, 2, 3, 4, 5, 1, 2, 3, 4, 5, 1, 2, 3, 4, 5, 1, 2, 3, 4, 5, 1, 2, 3, 4, 5, 1, 2, 3, 4, 5, 1, 2, 3, 4, 5, 1, 2, 3, 4, 5, 1, 2, 3, 4, 5, 1, 2, 3, 4, 5, 1, 2, 3, 4, 5, 1, 2, 3, 4, 5, 1, 2, 3, 4, 5, 1, 2, 3, 4, 5, 1, 2, 3, 4, 5, 1, 2, 3, 4, 5, 1, 2, 3, 4, 5, 1, 2, 3, 4, 5, 1, 2, 3, 4, 5, 1, 2, 3, 4, 5, 1, 2, 3, 4, 5, 1, 2, 3, 4, 5, 1, 2, 3, 4, 5, 1, 2, 3, 4, 5, 1, 2, 3, 4, 5, 1, 2, 3, 4, 5, 1, 2, 3, 4, 5, 1, 2, 3, 4, 5, 1, 2, 3, 4, 5, 1, 2, 3, 4, 5, 1, 2, 3, 4, 5, 1, 2, 3, 4, 5, 1, 2, 3, 4, 5, 1, 2, 3, 4, 5, 1, 2, 3, 4, 5, 1, 2, 3, 4, 5, 1, 2, 3, 4, 5, 1, 2, 3, 4, 5, 1, 2, 3, 4, 5, 1, 2, 3, 4, 5, 1, 2, 3, 4, 5, 1, 2, 3, 4, 5, 1, 2, 3, 4, 5, 1, 2, 3, 4, 5, 1, 2, 3, 4, 5, 1, 2, 3, 4, 5, 1, 2, 3, 4, 5, 1, 2, 3, 4, 5, 1, 2, 3, 4, 5, 1, 2, 3, 4, 5, 1, 2, 3, 4, 5, 1, 2, 3, 4, 5, 1, 2, 3, 4, 5, 1, 2, 3, 4, 5, 1, 2, 3, 4, 5, 1, 2, 3, 4, 5, 1, 2, 3, 4, 5, 1, 2, 3, 4, 5, 1, 2, 3, 4, 5, 1, 2, 3, 4, 5, 1, 2, 3, 4, 5, 1, 2, 3, 4, 5, 1, 2, 3, 4, 5, 1, 2, 3, 4, 5, 1, 2, 3, 4, 5, 1, 2, 3, 4, 5, 1, 2, 3, 4, 5, 1, 2, 3, 4, 5, 1, 2, 3, 4, 5, 1, 2, 3, 4, 5, 1, 2, 3, 4, 5, 1, 2, 3, 4, 5, 1, 2, 3, 4, 5, 1, 2, 3, 4, 5, 1, 2, 3, 4, 5, 1, 2, 3, 4, 5, 1, 2, 3, 4, 5, 1, 2, 3, 4, 5, 1, 2, 3, 4, 5, 1, 2, 3, 4, 5, 1, 2, 3, 4, 5, 1, 2, 3, 4, 5, 1, 2, 3, 4, 5, 1, 2, 3, 4, 5, 1, 2, 3, 4, 5, 1, 2, 3, 4, 5, 1, 2, 3, 4, 5, 1, 2, 3, 4, 5, 1, 2, 3, 4, 5, 1, 2, 3, 4, 5, 1, 2, 3, 4, 5, 1, 2, 3, 4, 5, 1, 2, 3, 4, 5, 1, 2, 3, 4, 5, 1, 2, 3, 4, 5, 1, 2, 3, 4, 5, 1, 2, 3, 4, 5, 1, 2, 3, 4, 5, 1, 2, 3, 4, 5, 1, 2, 3, 4, 5, 1, 2, 3, 4, 5, 1, 2, 3, 4, 5, 1, 2, 3, 4, 5, 1, 2, 3, 4, 5, 1, 2, 3, 4, 5, 1, 2, 3, 4, 5, 1, 2, 3, 4, 5, 1, 2, 3, 4, 5, 1, 2, 3, 4, 5, 1, 2, 3, 4, 5, 1, 2, 3, 4, 5, 1, 2, 3, 4, 5, 1, 2, 3, 4, 5, 1, 2, 3, 4, 5, 1, 2, 3, 4, 5, 1, 2, 3, 4, 5, 1, 2, 3, 4, 5, 1, 2, 3, 4, 5, 1, 2, 3, 4, 5, 1, 2, 3, 4, 5, 1, 2, 3, 4, 5, 1, 2, 3, 4, 5, 1, 2, 3, 4, 5, 1, 2, 3, 4, 5, 1, 2, 3, 4, 5, 1, 2, 3, 4, 5, 1, 2, 3, 4, 5, 1, 2, 3, 4, 5, 1, 2, 3, 4, 5, 1, 2, 3, 4, 5, 1, 2, 3, 4, 5, 1, 2, 3, 4, 5, 1, 2, 3, 4, 5, 1, 2, 3, 4, 5, 1, 2, 3, 4, 5, 1, 2, 3, 4, 5, 1, 2, 3, 4, 5, 1, 2, 3, 4, 5, 1, 2, 3, 4, 5, 1, 2, 3, 4, 5, 1, 2, 3, 4, 5, 1, 2, 3, 4, 5, 1, 2, 3, 4, 5, 1, 2, 3, 4, 5, 1, 2, 3, 4, 5, 1, 2, 3, 4, 5, 1, 2, 3, 4, 5, 1, 2, 3, 4, 5, 1, 2, 3, 4, 5, 1, 2, 3, 4, 5, 1, 2, 3, 4, 5, 1, 2, 3, 4, 5, 1, 2, 3, 4, 5, 1, 2, 3, 4, 5, 1, 2, 3, 4, 5, 1, 2, 3, 4, 5, 1, 2, 3, 4, 5, 1, 2, 3, 4, 5, 1, 2, 3, 4, 5], \"Freq\": [0.3001085934850311, 0.3001085934850311, 0.2000723956566874, 0.1000361978283437, 0.1000361978283437, 0.31918658687351514, 0.21279105791567676, 0.21279105791567676, 0.10639552895783838, 0.10639552895783838, 0.31996252051248203, 0.21330834700832138, 0.21330834700832138, 0.10665417350416069, 0.10665417350416069, 0.31082384588782747, 0.20721589725855163, 0.20721589725855163, 0.10360794862927582, 0.10360794862927582, 0.41703785246662406, 0.20851892623331203, 0.20851892623331203, 0.10425946311665601, 0.10425946311665601, 0.323287325282679, 0.215524883521786, 0.215524883521786, 0.107762441760893, 0.107762441760893, 0.4024130209102914, 0.30180976568271856, 0.2012065104551457, 0.10060325522757285, 0.10060325522757285, 0.31249824625189354, 0.20833216416792905, 0.20833216416792905, 0.10416608208396452, 0.10416608208396452, 0.3179252660957378, 0.21195017739715852, 0.21195017739715852, 0.10597508869857926, 0.10597508869857926, 0.31743752355101196, 0.21162501570067466, 0.21162501570067466, 0.10581250785033733, 0.10581250785033733, 0.3204222952486989, 0.2136148634991326, 0.2136148634991326, 0.1068074317495663, 0.1068074317495663, 0.3139208603151159, 0.20928057354341062, 0.20928057354341062, 0.10464028677170531, 0.10464028677170531, 0.32416648310145735, 0.2161109887343049, 0.2161109887343049, 0.10805549436715245, 0.10805549436715245, 0.32736912003949076, 0.21824608002632717, 0.21824608002632717, 0.10912304001316359, 0.10912304001316359, 0.33576694899874326, 0.22384463266582882, 0.22384463266582882, 0.11192231633291441, 0.11192231633291441, 0.4143830908226083, 0.31078731811695626, 0.20719154541130416, 0.10359577270565208, 0.10359577270565208, 0.32973617380758785, 0.21982411587172523, 0.21982411587172523, 0.10991205793586262, 0.10991205793586262, 0.30422602645623364, 0.30422602645623364, 0.2028173509708224, 0.1014086754854112, 0.1014086754854112, 0.3983057417392939, 0.2987293063044704, 0.19915287086964695, 0.09957643543482347, 0.09957643543482347, 0.41120219917617057, 0.30840164938212794, 0.20560109958808528, 0.10280054979404264, 0.10280054979404264, 0.4052016479289365, 0.20260082396446824, 0.20260082396446824, 0.10130041198223412, 0.10130041198223412, 0.3222221911785133, 0.2148147941190089, 0.2148147941190089, 0.10740739705950444, 0.10740739705950444, 0.31823810605603364, 0.21215873737068908, 0.21215873737068908, 0.10607936868534454, 0.10607936868534454, 0.3186431596933017, 0.21242877312886782, 0.21242877312886782, 0.10621438656443391, 0.10621438656443391, 0.3979973628058822, 0.2984980221044117, 0.1989986814029411, 0.09949934070147055, 0.09949934070147055, 0.40743942564450847, 0.30557956923338137, 0.20371971282225423, 0.10185985641112712, 0.10185985641112712, 0.30803890575666515, 0.20535927050444344, 0.20535927050444344, 0.10267963525222172, 0.10267963525222172, 0.3097960048566438, 0.20653066990442923, 0.20653066990442923, 0.10326533495221461, 0.10326533495221461, 0.40447914194478174, 0.3033593564585863, 0.20223957097239087, 0.10111978548619543, 0.10111978548619543, 0.3168588536923713, 0.2112392357949142, 0.2112392357949142, 0.1056196178974571, 0.1056196178974571, 0.3168481514459198, 0.3168481514459198, 0.21123210096394654, 0.10561605048197327, 0.10561605048197327, 0.31539132690987887, 0.2102608846065859, 0.2102608846065859, 0.10513044230329295, 0.10513044230329295, 0.31458806175262227, 0.31458806175262227, 0.20972537450174816, 0.10486268725087408, 0.10486268725087408, 0.31018482279332915, 0.20678988186221944, 0.20678988186221944, 0.10339494093110972, 0.10339494093110972, 0.31812647285159473, 0.31812647285159473, 0.21208431523439647, 0.10604215761719823, 0.10604215761719823, 0.3185964360379795, 0.3185964360379795, 0.21239762402531967, 0.10619881201265984, 0.10619881201265984, 0.4049372028890855, 0.3037029021668141, 0.20246860144454276, 0.10123430072227138, 0.10123430072227138, 0.31841102820399886, 0.21227401880266591, 0.21227401880266591, 0.10613700940133296, 0.10613700940133296, 0.31984138297268183, 0.21322758864845454, 0.21322758864845454, 0.10661379432422727, 0.10661379432422727, 0.31810133583283173, 0.21206755722188783, 0.21206755722188783, 0.10603377861094392, 0.10603377861094392, 0.32014823190209557, 0.32014823190209557, 0.21343215460139706, 0.10671607730069853, 0.10671607730069853, 0.34111566722684344, 0.22741044481789563, 0.22741044481789563, 0.11370522240894781, 0.11370522240894781, 0.3337793285127073, 0.22251955234180487, 0.22251955234180487, 0.11125977617090244, 0.11125977617090244, 0.3917234879779718, 0.29379261598347883, 0.1958617439889859, 0.09793087199449295, 0.09793087199449295, 0.3163002808015102, 0.21086685386767348, 0.21086685386767348, 0.10543342693383674, 0.10543342693383674, 0.40886672140795277, 0.3066500410559646, 0.20443336070397639, 0.10221668035198819, 0.10221668035198819, 0.4121565381398812, 0.3091174036049109, 0.2060782690699406, 0.1030391345349703, 0.1030391345349703, 0.3087555290437591, 0.3087555290437591, 0.20583701936250606, 0.10291850968125303, 0.10291850968125303, 0.41078104872163845, 0.3080857865412288, 0.20539052436081923, 0.10269526218040961, 0.10269526218040961, 0.32012904047631496, 0.2134193603175433, 0.2134193603175433, 0.10670968015877165, 0.10670968015877165, 0.3218372751613007, 0.2145581834408671, 0.2145581834408671, 0.10727909172043355, 0.10727909172043355, 0.3296317575267251, 0.2197545050178167, 0.2197545050178167, 0.10987725250890835, 0.10987725250890835, 0.4256625644265426, 0.2128312822132713, 0.2128312822132713, 0.10641564110663565, 0.10641564110663565, 0.3236248780354079, 0.21574991869027194, 0.21574991869027194, 0.10787495934513597, 0.10787495934513597, 0.38982599149586467, 0.2923694936218985, 0.19491299574793233, 0.09745649787396617, 0.09745649787396617, 0.3141750907116816, 0.20945006047445439, 0.20945006047445439, 0.10472503023722719, 0.10472503023722719, 0.3110778136940008, 0.20738520912933384, 0.20738520912933384, 0.10369260456466692, 0.10369260456466692, 0.3202015897461542, 0.21346772649743612, 0.21346772649743612, 0.10673386324871806, 0.10673386324871806, 0.3090104219823105, 0.3090104219823105, 0.20600694798820698, 0.10300347399410349, 0.10300347399410349, 0.31180311139313194, 0.20786874092875463, 0.20786874092875463, 0.10393437046437731, 0.10393437046437731, 0.32697178569745755, 0.2179811904649717, 0.2179811904649717, 0.10899059523248585, 0.10899059523248585, 0.3248401218255911, 0.21656008121706072, 0.21656008121706072, 0.10828004060853036, 0.10828004060853036, 0.32585909116958106, 0.217239394113054, 0.217239394113054, 0.108619697056527, 0.108619697056527, 0.32825991127071413, 0.21883994084714276, 0.21883994084714276, 0.10941997042357138, 0.10941997042357138, 0.32290547172420164, 0.2152703144828011, 0.2152703144828011, 0.10763515724140055, 0.10763515724140055, 0.31973300562592916, 0.2131553370839528, 0.2131553370839528, 0.1065776685419764, 0.1065776685419764, 0.31821163017529336, 0.21214108678352891, 0.21214108678352891, 0.10607054339176446, 0.10607054339176446, 0.32051306415465175, 0.21367537610310114, 0.21367537610310114, 0.10683768805155057, 0.10683768805155057, 0.40306582974320365, 0.3022993723074027, 0.20153291487160183, 0.10076645743580091, 0.10076645743580091, 0.33354066519181946, 0.22236044346121298, 0.22236044346121298, 0.11118022173060649, 0.11118022173060649, 0.3157089804458107, 0.21047265363054043, 0.21047265363054043, 0.10523632681527022, 0.10523632681527022, 0.39602016795399253, 0.2970151259654944, 0.19801008397699627, 0.09900504198849813, 0.09900504198849813, 0.3188544563176957, 0.21256963754513047, 0.21256963754513047, 0.10628481877256524, 0.10628481877256524, 0.3209632967019231, 0.2139755311346154, 0.2139755311346154, 0.1069877655673077, 0.1069877655673077, 0.4050299431728847, 0.20251497158644235, 0.20251497158644235, 0.10125748579322118, 0.10125748579322118, 0.3172662533028323, 0.3172662533028323, 0.21151083553522154, 0.10575541776761077, 0.10575541776761077, 0.4165943489238298, 0.2082971744619149, 0.2082971744619149, 0.10414858723095745, 0.10414858723095745, 0.31466263500230307, 0.31466263500230307, 0.20977509000153538, 0.10488754500076769, 0.10488754500076769, 0.3166689042776851, 0.3166689042776851, 0.2111126028517901, 0.10555630142589505, 0.10555630142589505, 0.31987692205355517, 0.31987692205355517, 0.2132512813690368, 0.1066256406845184, 0.1066256406845184, 0.31118650652167473, 0.2074576710144498, 0.2074576710144498, 0.1037288355072249, 0.1037288355072249, 0.31643605102294964, 0.31643605102294964, 0.2109573673486331, 0.10547868367431655, 0.10547868367431655, 0.3047281673180853, 0.3047281673180853, 0.20315211154539017, 0.10157605577269509, 0.10157605577269509, 0.4049770927526353, 0.3037328195644765, 0.20248854637631766, 0.10124427318815883, 0.10124427318815883, 0.3093923507021725, 0.3093923507021725, 0.20626156713478166, 0.10313078356739083, 0.10313078356739083, 0.40347253076486866, 0.20173626538243433, 0.20173626538243433, 0.10086813269121717, 0.10086813269121717, 0.4206721112068131, 0.21033605560340654, 0.21033605560340654, 0.10516802780170327, 0.10516802780170327, 0.31750879735853893, 0.31750879735853893, 0.21167253157235927, 0.10583626578617963, 0.10583626578617963, 0.3110301459834335, 0.3110301459834335, 0.20735343065562234, 0.10367671532781117, 0.10367671532781117, 0.3364592617058459, 0.22430617447056392, 0.22430617447056392, 0.11215308723528196, 0.11215308723528196, 0.3940296338178285, 0.29552222536337136, 0.19701481690891426, 0.09850740845445713, 0.09850740845445713, 0.3223956880156961, 0.21493045867713076, 0.21493045867713076, 0.10746522933856538, 0.10746522933856538, 0.3275043687481015, 0.21833624583206768, 0.21833624583206768, 0.10916812291603384, 0.10916812291603384, 0.3181572650002533, 0.2121048433335022, 0.2121048433335022, 0.1060524216667511, 0.1060524216667511, 0.4016178576218684, 0.3012133932164013, 0.2008089288109342, 0.1004044644054671, 0.1004044644054671, 0.41606913367593473, 0.20803456683796737, 0.20803456683796737, 0.10401728341898368, 0.10401728341898368, 0.4053239042837907, 0.30399292821284307, 0.20266195214189536, 0.10133097607094768, 0.10133097607094768, 0.32020119761382904, 0.21346746507588604, 0.21346746507588604, 0.10673373253794302, 0.10673373253794302, 0.31391103421358063, 0.20927402280905374, 0.20927402280905374, 0.10463701140452687, 0.10463701140452687, 0.41366256241898347, 0.3102469218142376, 0.20683128120949174, 0.10341564060474587, 0.10341564060474587, 0.31516284522376325, 0.21010856348250884, 0.21010856348250884, 0.10505428174125442, 0.10505428174125442, 0.31908299830792713, 0.21272199887195142, 0.21272199887195142, 0.10636099943597571, 0.10636099943597571, 0.32904735373453947, 0.21936490248969298, 0.21936490248969298, 0.10968245124484649, 0.10968245124484649, 0.3199254263992029, 0.3199254263992029, 0.2132836175994686, 0.1066418087997343, 0.1066418087997343, 0.3207058398710415, 0.3207058398710415, 0.21380389324736102, 0.10690194662368051, 0.10690194662368051, 0.3121862008196375, 0.3121862008196375, 0.20812413387975834, 0.10406206693987917, 0.10406206693987917, 0.3316911893994436, 0.22112745959962904, 0.22112745959962904, 0.11056372979981452, 0.11056372979981452, 0.3153391287944111, 0.21022608586294073, 0.21022608586294073, 0.10511304293147036, 0.10511304293147036, 0.31319334455741155, 0.31319334455741155, 0.20879556303827435, 0.10439778151913717, 0.10439778151913717, 0.40273141014879915, 0.3020485576115994, 0.20136570507439958, 0.10068285253719979, 0.10068285253719979, 0.32027882357670184, 0.21351921571780122, 0.21351921571780122, 0.10675960785890061, 0.10675960785890061, 0.3171855555928273, 0.3171855555928273, 0.21145703706188487, 0.10572851853094244, 0.10572851853094244, 0.31191203328119504, 0.31191203328119504, 0.2079413555207967, 0.10397067776039835, 0.10397067776039835, 0.3215284914241269, 0.3215284914241269, 0.2143523276160846, 0.1071761638080423, 0.1071761638080423, 0.31513146496766764, 0.21008764331177845, 0.21008764331177845, 0.10504382165588923, 0.10504382165588923, 0.31504252094917, 0.2100283472994467, 0.2100283472994467, 0.10501417364972335, 0.10501417364972335, 0.31264670306898085, 0.20843113537932056, 0.20843113537932056, 0.10421556768966028, 0.10421556768966028, 0.31516005991109813, 0.31516005991109813, 0.21010670660739877, 0.10505335330369939, 0.10505335330369939, 0.31292015533203255, 0.2086134368880217, 0.2086134368880217, 0.10430671844401085, 0.10430671844401085, 0.306301894916872, 0.20420126327791466, 0.20420126327791466, 0.10210063163895733, 0.10210063163895733, 0.4091509592907431, 0.20457547964537154, 0.20457547964537154, 0.10228773982268577, 0.10228773982268577, 0.3155644649135231, 0.2103763099423487, 0.2103763099423487, 0.10518815497117436, 0.10518815497117436, 0.308026189102267, 0.308026189102267, 0.20535079273484466, 0.10267539636742233, 0.10267539636742233, 0.32580899387554585, 0.21720599591703058, 0.21720599591703058, 0.10860299795851529, 0.10860299795851529, 0.405242517858232, 0.303931888393674, 0.202621258929116, 0.101310629464558, 0.101310629464558, 0.30347195826672674, 0.30347195826672674, 0.20231463884448447, 0.10115731942224224, 0.10115731942224224, 0.32963330065493557, 0.21975553376995707, 0.21975553376995707, 0.10987776688497854, 0.10987776688497854, 0.31960768845150733, 0.31960768845150733, 0.21307179230100487, 0.10653589615050243, 0.10653589615050243, 0.40690328425779787, 0.3051774631933484, 0.20345164212889894, 0.10172582106444947, 0.10172582106444947, 0.30944730260041975, 0.30944730260041975, 0.20629820173361316, 0.10314910086680658, 0.10314910086680658, 0.31514843314891594, 0.31514843314891594, 0.21009895543261065, 0.10504947771630532, 0.10504947771630532, 0.3260531660102094, 0.2173687773401396, 0.2173687773401396, 0.1086843886700698, 0.1086843886700698, 0.313420137720742, 0.20894675848049468, 0.20894675848049468, 0.10447337924024734, 0.10447337924024734, 0.3206663143952457, 0.2137775429301638, 0.2137775429301638, 0.1068887714650819, 0.1068887714650819, 0.304656119292631, 0.304656119292631, 0.20310407952842066, 0.10155203976421033, 0.10155203976421033, 0.3264676906134716, 0.21764512707564773, 0.21764512707564773, 0.10882256353782387, 0.10882256353782387, 0.3351306267057298, 0.22342041780381985, 0.22342041780381985, 0.11171020890190993, 0.11171020890190993, 0.422157342764168, 0.211078671382084, 0.211078671382084, 0.105539335691042, 0.105539335691042, 0.3042053308393791, 0.2028035538929194, 0.2028035538929194, 0.1014017769464597, 0.1014017769464597, 0.32795152621162504, 0.21863435080775, 0.21863435080775, 0.109317175403875, 0.109317175403875, 0.3121635926680632, 0.3121635926680632, 0.2081090617787088, 0.1040545308893544, 0.1040545308893544, 0.30090702391932855, 0.30090702391932855, 0.20060468261288572, 0.10030234130644286, 0.10030234130644286, 0.32738861404636826, 0.21825907603091219, 0.21825907603091219, 0.10912953801545609, 0.10912953801545609, 0.41612164821593806, 0.31209123616195356, 0.20806082410796903, 0.10403041205398451, 0.10403041205398451, 0.4122805608628807, 0.20614028043144034, 0.20614028043144034, 0.10307014021572017, 0.10307014021572017, 0.32350698512587694, 0.2156713234172513, 0.2156713234172513, 0.10783566170862564, 0.10783566170862564, 0.32490596049512566, 0.21660397366341713, 0.21660397366341713, 0.10830198683170857, 0.10830198683170857, 0.30955205871867336, 0.30955205871867336, 0.20636803914578222, 0.10318401957289111, 0.10318401957289111, 0.42002844194129807, 0.21001422097064903, 0.21001422097064903, 0.10500711048532452, 0.10500711048532452, 0.30980453614206266, 0.20653635742804177, 0.20653635742804177, 0.10326817871402089, 0.10326817871402089, 0.3912720619134623, 0.2934540464350967, 0.19563603095673116, 0.09781801547836558, 0.09781801547836558, 0.31333140131485315, 0.31333140131485315, 0.20888760087656874, 0.10444380043828437, 0.10444380043828437, 0.42818442770813203, 0.21409221385406602, 0.21409221385406602, 0.10704610692703301, 0.10704610692703301, 0.32794507884812313, 0.21863005256541543, 0.21863005256541543, 0.10931502628270771, 0.10931502628270771, 0.3169017570150101, 0.21126783801000673, 0.21126783801000673, 0.10563391900500337, 0.10563391900500337, 0.308938949970836, 0.308938949970836, 0.20595929998055734, 0.10297964999027867, 0.10297964999027867, 0.31521476632124557, 0.21014317754749706, 0.21014317754749706, 0.10507158877374853, 0.10507158877374853, 0.3147860501971362, 0.2098573667980908, 0.2098573667980908, 0.1049286833990454, 0.1049286833990454, 0.3248575373179212, 0.21657169154528083, 0.21657169154528083, 0.10828584577264042, 0.10828584577264042, 0.39456236922512267, 0.19728118461256133, 0.19728118461256133, 0.09864059230628067, 0.09864059230628067, 0.32288392916995906, 0.32288392916995906, 0.2152559527799727, 0.10762797638998635, 0.10762797638998635, 0.3149480968868657, 0.20996539792457714, 0.20996539792457714, 0.10498269896228857, 0.10498269896228857, 0.3045996532526447, 0.3045996532526447, 0.20306643550176315, 0.10153321775088157, 0.10153321775088157, 0.4034142058018744, 0.30256065435140583, 0.2017071029009372, 0.1008535514504686, 0.1008535514504686, 0.30595898494143925, 0.30595898494143925, 0.20397265662762618, 0.10198632831381309, 0.10198632831381309, 0.4063976279696839, 0.3047982209772629, 0.20319881398484194, 0.10159940699242097, 0.10159940699242097, 0.31745063557238135, 0.21163375704825424, 0.21163375704825424, 0.10581687852412712, 0.10581687852412712, 0.321275841136721, 0.21418389409114733, 0.21418389409114733, 0.10709194704557366, 0.10709194704557366, 0.3175744612665588, 0.3175744612665588, 0.21171630751103923, 0.10585815375551962, 0.10585815375551962, 0.31682436791964563, 0.31682436791964563, 0.21121624527976376, 0.10560812263988188, 0.10560812263988188, 0.3348878202236458, 0.22325854681576388, 0.22325854681576388, 0.11162927340788194, 0.11162927340788194, 0.31050037885601317, 0.31050037885601317, 0.20700025257067545, 0.10350012628533772, 0.10350012628533772, 0.3179864573007515, 0.2119909715338343, 0.2119909715338343, 0.10599548576691716, 0.10599548576691716, 0.32063362174757365, 0.21375574783171578, 0.21375574783171578, 0.10687787391585789, 0.10687787391585789, 0.3149999100416483, 0.20999994002776554, 0.20999994002776554, 0.10499997001388277, 0.10499997001388277, 0.32316436147786, 0.21544290765190668, 0.21544290765190668, 0.10772145382595334, 0.10772145382595334, 0.31266258265410396, 0.20844172176940265, 0.20844172176940265, 0.10422086088470132, 0.10422086088470132, 0.3223460456515366, 0.21489736376769106, 0.21489736376769106, 0.10744868188384553, 0.10744868188384553, 0.3365040215337167, 0.22433601435581116, 0.22433601435581116, 0.11216800717790558, 0.11216800717790558, 0.3217859825180288, 0.21452398834535255, 0.21452398834535255, 0.10726199417267628, 0.10726199417267628, 0.3082163149246121, 0.3082163149246121, 0.20547754328307474, 0.10273877164153737, 0.10273877164153737, 0.3278791862230685, 0.2185861241487123, 0.2185861241487123, 0.10929306207435616, 0.10929306207435616, 0.32009497550176985, 0.21339665033451324, 0.21339665033451324, 0.10669832516725662, 0.10669832516725662, 0.3222493733630804, 0.21483291557538692, 0.21483291557538692, 0.10741645778769346, 0.10741645778769346, 0.33724455671104425, 0.2248297044740295, 0.2248297044740295, 0.11241485223701475, 0.11241485223701475, 0.32393303356473135, 0.2159553557098209, 0.2159553557098209, 0.10797767785491046, 0.10797767785491046, 0.31062769318325173, 0.2070851287888345, 0.2070851287888345, 0.10354256439441725, 0.10354256439441725, 0.3993715649728408, 0.2995286737296306, 0.1996857824864204, 0.0998428912432102, 0.0998428912432102, 0.32544232753968894, 0.32544232753968894, 0.21696155169312598, 0.10848077584656299, 0.10848077584656299, 0.3176063135999137, 0.3176063135999137, 0.21173754239994247, 0.10586877119997123, 0.10586877119997123, 0.31325762674491553, 0.2088384178299437, 0.2088384178299437, 0.10441920891497185, 0.10441920891497185, 0.3254002656358515, 0.216933510423901, 0.216933510423901, 0.1084667552119505, 0.1084667552119505, 0.31928206269587867, 0.21285470846391913, 0.21285470846391913, 0.10642735423195956, 0.10642735423195956, 0.3093833339516152, 0.2062555559677435, 0.2062555559677435, 0.10312777798387175, 0.10312777798387175, 0.313157354301214, 0.313157354301214, 0.20877156953414266, 0.10438578476707133, 0.10438578476707133, 0.30891176720010655, 0.30891176720010655, 0.20594117813340435, 0.10297058906670217, 0.10297058906670217, 0.41001734761478137, 0.20500867380739068, 0.20500867380739068, 0.10250433690369534, 0.10250433690369534, 0.31726322423083214, 0.31726322423083214, 0.21150881615388809, 0.10575440807694404, 0.10575440807694404, 0.31219104592122693, 0.31219104592122693, 0.20812736394748463, 0.10406368197374231, 0.10406368197374231, 0.3226955584682614, 0.2151303723121743, 0.2151303723121743, 0.10756518615608715, 0.10756518615608715, 0.30535542775207236, 0.30535542775207236, 0.20357028516804826, 0.10178514258402413, 0.10178514258402413, 0.3069473358649739, 0.3069473358649739, 0.20463155724331594, 0.10231577862165797, 0.10231577862165797, 0.406582939538891, 0.2032914697694455, 0.2032914697694455, 0.10164573488472275, 0.10164573488472275, 0.3236233898102199, 0.2157489265401466, 0.2157489265401466, 0.1078744632700733, 0.1078744632700733, 0.31785466543933993, 0.31785466543933993, 0.2119031102928933, 0.10595155514644665, 0.10595155514644665, 0.3006683201160041, 0.3006683201160041, 0.20044554674400272, 0.10022277337200136, 0.10022277337200136, 0.31969470008341716, 0.21312980005561144, 0.21312980005561144, 0.10656490002780572, 0.10656490002780572, 0.3266706444629661, 0.21778042964197739, 0.21778042964197739, 0.10889021482098869, 0.10889021482098869, 0.3231673146550564, 0.21544487643670426, 0.21544487643670426, 0.10772243821835213, 0.10772243821835213, 0.32010765896924287, 0.32010765896924287, 0.21340510597949525, 0.10670255298974762, 0.10670255298974762, 0.3197553167960793, 0.21317021119738622, 0.21317021119738622, 0.10658510559869311, 0.10658510559869311, 0.3298350987427349, 0.21989006582848997, 0.21989006582848997, 0.10994503291424498, 0.10994503291424498, 0.4027180320749328, 0.3020385240561996, 0.2013590160374664, 0.1006795080187332, 0.1006795080187332, 0.40061969614007464, 0.30046477210505596, 0.20030984807003732, 0.10015492403501866, 0.10015492403501866, 0.3223675695063244, 0.3223675695063244, 0.21491171300421627, 0.10745585650210814, 0.10745585650210814], \"Term\": [\"able\", \"able\", \"able\", \"able\", \"able\", \"accelerating\", \"accelerating\", \"accelerating\", \"accelerating\", \"accelerating\", \"achieving\", \"achieving\", \"achieving\", \"achieving\", \"achieving\", \"adherence\", \"adherence\", \"adherence\", \"adherence\", \"adherence\", \"adjusted\", \"adjusted\", \"adjusted\", \"adjusted\", \"adjusted\", \"afternoon\", \"afternoon\", \"afternoon\", \"afternoon\", \"afternoon\", \"ago\", \"ago\", \"ago\", \"ago\", \"ago\", \"ai\", \"ai\", \"ai\", \"ai\", \"ai\", \"aim\", \"aim\", \"aim\", \"aim\", \"aim\", \"alignment\", \"alignment\", \"alignment\", \"alignment\", \"alignment\", \"allocation\", \"allocation\", \"allocation\", \"allocation\", \"allocation\", \"allowing\", \"allowing\", \"allowing\", \"allowing\", \"allowing\", \"alternatives\", \"alternatives\", \"alternatives\", \"alternatives\", \"alternatives\", \"anomalies\", \"anomalies\", \"anomalies\", \"anomalies\", \"anomalies\", \"applications\", \"applications\", \"applications\", \"applications\", \"applications\", \"approximately\", \"approximately\", \"approximately\", \"approximately\", \"approximately\", \"asking\", \"asking\", \"asking\", \"asking\", \"asking\", \"back\", \"back\", \"back\", \"back\", \"back\", \"banking\", \"banking\", \"banking\", \"banking\", \"banking\", \"basis\", \"basis\", \"basis\", \"basis\", \"basis\", \"billion\", \"billion\", \"billion\", \"billion\", \"billion\", \"biotech\", \"biotech\", \"biotech\", \"biotech\", \"biotech\", \"break\", \"break\", \"break\", \"break\", \"break\", \"briefly\", \"briefly\", \"briefly\", \"briefly\", \"briefly\", \"business\", \"business\", \"business\", \"business\", \"business\", \"businesses\", \"businesses\", \"businesses\", \"businesses\", \"businesses\", \"busy\", \"busy\", \"busy\", \"busy\", \"busy\", \"capabilities\", \"capabilities\", \"capabilities\", \"capabilities\", \"capabilities\", \"card\", \"card\", \"card\", \"card\", \"card\", \"cell\", \"cell\", \"cell\", \"cell\", \"cell\", \"changes\", \"changes\", \"changes\", \"changes\", \"changes\", \"combining\", \"combining\", \"combining\", \"combining\", \"combining\", \"come\", \"come\", \"come\", \"come\", \"come\", \"company\", \"company\", \"company\", \"company\", \"company\", \"component\", \"component\", \"component\", \"component\", \"component\", \"confidence\", \"confidence\", \"confidence\", \"confidence\", \"confidence\", \"consumer\", \"consumer\", \"consumer\", \"consumer\", \"consumer\", \"containing\", \"containing\", \"containing\", \"containing\", \"containing\", \"containment\", \"containment\", \"containment\", \"containment\", \"containment\", \"contracts\", \"contracts\", \"contracts\", \"contracts\", \"contracts\", \"control\", \"control\", \"control\", \"control\", \"control\", \"cool\", \"cool\", \"cool\", \"cool\", \"cool\", \"copy\", \"copy\", \"copy\", \"copy\", \"copy\", \"customers\", \"customers\", \"customers\", \"customers\", \"customers\", \"decisions\", \"decisions\", \"decisions\", \"decisions\", \"decisions\", \"decline\", \"decline\", \"decline\", \"decline\", \"decline\", \"declined\", \"declined\", \"declined\", \"declined\", \"declined\", \"demand\", \"demand\", \"demand\", \"demand\", \"demand\", \"deposit\", \"deposit\", \"deposit\", \"deposit\", \"deposit\", \"differentiation\", \"differentiation\", \"differentiation\", \"differentiation\", \"differentiation\", \"digesting\", \"digesting\", \"digesting\", \"digesting\", \"digesting\", \"discussion\", \"discussion\", \"discussion\", \"discussion\", \"discussion\", \"earnings\", \"earnings\", \"earnings\", \"earnings\", \"earnings\", \"emerging\", \"emerging\", \"emerging\", \"emerging\", \"emerging\", \"end\", \"end\", \"end\", \"end\", \"end\", \"engage\", \"engage\", \"engage\", \"engage\", \"engage\", \"enrollment\", \"enrollment\", \"enrollment\", \"enrollment\", \"enrollment\", \"entire\", \"entire\", \"entire\", \"entire\", \"entire\", \"environment\", \"environment\", \"environment\", \"environment\", \"environment\", \"ever\", \"ever\", \"ever\", \"ever\", \"ever\", \"evolving\", \"evolving\", \"evolving\", \"evolving\", \"evolving\", \"exceed\", \"exceed\", \"exceed\", \"exceed\", \"exceed\", \"excellence\", \"excellence\", \"excellence\", \"excellence\", \"excellence\", \"except\", \"except\", \"except\", \"except\", \"except\", \"exceptionally\", \"exceptionally\", \"exceptionally\", \"exceptionally\", \"exceptionally\", \"exciting\", \"exciting\", \"exciting\", \"exciting\", \"exciting\", \"excuse\", \"excuse\", \"excuse\", \"excuse\", \"excuse\", \"executed\", \"executed\", \"executed\", \"executed\", \"executed\", \"expect\", \"expect\", \"expect\", \"expect\", \"expect\", \"explosion\", \"explosion\", \"explosion\", \"explosion\", \"explosion\", \"finished\", \"finished\", \"finished\", \"finished\", \"finished\", \"first\", \"first\", \"first\", \"first\", \"first\", \"fortune\", \"fortune\", \"fortune\", \"fortune\", \"fortune\", \"frame\", \"frame\", \"frame\", \"frame\", \"frame\", \"full\", \"full\", \"full\", \"full\", \"full\", \"function\", \"function\", \"function\", \"function\", \"function\", \"gaap\", \"gaap\", \"gaap\", \"gaap\", \"gaap\", \"gas\", \"gas\", \"gas\", \"gas\", \"gas\", \"get\", \"get\", \"get\", \"get\", \"get\", \"give\", \"give\", \"give\", \"give\", \"give\", \"global\", \"global\", \"global\", \"global\", \"global\", \"go\", \"go\", \"go\", \"go\", \"go\", \"going\", \"going\", \"going\", \"going\", \"going\", \"grew\", \"grew\", \"grew\", \"grew\", \"grew\", \"grow\", \"grow\", \"grow\", \"grow\", \"grow\", \"growth\", \"growth\", \"growth\", \"growth\", \"growth\", \"guidance\", \"guidance\", \"guidance\", \"guidance\", \"guidance\", \"happens\", \"happens\", \"happens\", \"happens\", \"happens\", \"harbor\", \"harbor\", \"harbor\", \"harbor\", \"harbor\", \"hearing\", \"hearing\", \"hearing\", \"hearing\", \"hearing\", \"higher\", \"higher\", \"higher\", \"higher\", \"higher\", \"honest\", \"honest\", \"honest\", \"honest\", \"honest\", \"hope\", \"hope\", \"hope\", \"hope\", \"hope\", \"hypothesis\", \"hypothesis\", \"hypothesis\", \"hypothesis\", \"hypothesis\", \"including\", \"including\", \"including\", \"including\", \"including\", \"income\", \"income\", \"income\", \"income\", \"income\", \"increase\", \"increase\", \"increase\", \"increase\", \"increase\", \"individuals\", \"individuals\", \"individuals\", \"individuals\", \"individuals\", \"innovation\", \"innovation\", \"innovation\", \"innovation\", \"innovation\", \"interest\", \"interest\", \"interest\", \"interest\", \"interest\", \"international\", \"international\", \"international\", \"international\", \"international\", \"january\", \"january\", \"january\", \"january\", \"january\", \"justin\", \"justin\", \"justin\", \"justin\", \"justin\", \"know\", \"know\", \"know\", \"know\", \"know\", \"knows\", \"knows\", \"knows\", \"knows\", \"knows\", \"large\", \"large\", \"large\", \"large\", \"large\", \"latest\", \"latest\", \"latest\", \"latest\", \"latest\", \"learn\", \"learn\", \"learn\", \"learn\", \"learn\", \"little\", \"little\", \"little\", \"little\", \"little\", \"loan\", \"loan\", \"loan\", \"loan\", \"loan\", \"locations\", \"locations\", \"locations\", \"locations\", \"locations\", \"logistics\", \"logistics\", \"logistics\", \"logistics\", \"logistics\", \"look\", \"look\", \"look\", \"look\", \"look\", \"lot\", \"lot\", \"lot\", \"lot\", \"lot\", \"mailchimp\", \"mailchimp\", \"mailchimp\", \"mailchimp\", \"mailchimp\", \"marketing\", \"marketing\", \"marketing\", \"marketing\", \"marketing\", \"mass\", \"mass\", \"mass\", \"mass\", \"mass\", \"may\", \"may\", \"may\", \"may\", \"may\", \"measure\", \"measure\", \"measure\", \"measure\", \"measure\", \"mid\", \"mid\", \"mid\", \"mid\", \"mid\", \"million\", \"million\", \"million\", \"million\", \"million\", \"minimum\", \"minimum\", \"minimum\", \"minimum\", \"minimum\", \"money\", \"money\", \"money\", \"money\", \"money\", \"movements\", \"movements\", \"movements\", \"movements\", \"movements\", \"net\", \"net\", \"net\", \"net\", \"net\", \"number\", \"number\", \"number\", \"number\", \"number\", \"observations\", \"observations\", \"observations\", \"observations\", \"observations\", \"obviously\", \"obviously\", \"obviously\", \"obviously\", \"obviously\", \"offset\", \"offset\", \"offset\", \"offset\", \"offset\", \"one\", \"one\", \"one\", \"one\", \"one\", \"onto\", \"onto\", \"onto\", \"onto\", \"onto\", \"operational\", \"operational\", \"operational\", \"operational\", \"operational\", \"outflows\", \"outflows\", \"outflows\", \"outflows\", \"outflows\", \"outside\", \"outside\", \"outside\", \"outside\", \"outside\", \"part\", \"part\", \"part\", \"part\", \"part\", \"partner\", \"partner\", \"partner\", \"partner\", \"partner\", \"patrick\", \"patrick\", \"patrick\", \"patrick\", \"patrick\", \"per\", \"per\", \"per\", \"per\", \"per\", \"pharma\", \"pharma\", \"pharma\", \"pharma\", \"pharma\", \"pharmacist\", \"pharmacist\", \"pharmacist\", \"pharmacist\", \"pharmacist\", \"phase\", \"phase\", \"phase\", \"phase\", \"phase\", \"platform\", \"platform\", \"platform\", \"platform\", \"platform\", \"pockets\", \"pockets\", \"pockets\", \"pockets\", \"pockets\", \"point\", \"point\", \"point\", \"point\", \"point\", \"points\", \"points\", \"points\", \"points\", \"points\", \"powerful\", \"powerful\", \"powerful\", \"powerful\", \"powerful\", \"powering\", \"powering\", \"powering\", \"powering\", \"powering\", \"pretty\", \"pretty\", \"pretty\", \"pretty\", \"pretty\", \"prior\", \"prior\", \"prior\", \"prior\", \"prior\", \"programs\", \"programs\", \"programs\", \"programs\", \"programs\", \"quarter\", \"quarter\", \"quarter\", \"quarter\", \"quarter\", \"quarters\", \"quarters\", \"quarters\", \"quarters\", \"quarters\", \"range\", \"range\", \"range\", \"range\", \"range\", \"rather\", \"rather\", \"rather\", \"rather\", \"rather\", \"reallocate\", \"reallocate\", \"reallocate\", \"reallocate\", \"reallocate\", \"really\", \"really\", \"really\", \"really\", \"really\", \"reasonable\", \"reasonable\", \"reasonable\", \"reasonable\", \"reasonable\", \"recoveries\", \"recoveries\", \"recoveries\", \"recoveries\", \"recoveries\", \"repurchase\", \"repurchase\", \"repurchase\", \"repurchase\", \"repurchase\", \"revenue\", \"revenue\", \"revenue\", \"revenue\", \"revenue\", \"right\", \"right\", \"right\", \"right\", \"right\", \"room\", \"room\", \"room\", \"room\", \"room\", \"saw\", \"saw\", \"saw\", \"saw\", \"saw\", \"second\", \"second\", \"second\", \"second\", \"second\", \"see\", \"see\", \"see\", \"see\", \"see\", \"seeing\", \"seeing\", \"seeing\", \"seeing\", \"seeing\", \"sensitive\", \"sensitive\", \"sensitive\", \"sensitive\", \"sensitive\", \"sequentially\", \"sequentially\", \"sequentially\", \"sequentially\", \"sequentially\", \"shot\", \"shot\", \"shot\", \"shot\", \"shot\", \"side\", \"side\", \"side\", \"side\", \"side\", \"simon\", \"simon\", \"simon\", \"simon\", \"simon\", \"small\", \"small\", \"small\", \"small\", \"small\", \"society\", \"society\", \"society\", \"society\", \"society\", \"spectrometers\", \"spectrometers\", \"spectrometers\", \"spectrometers\", \"spectrometers\", \"spectrometry\", \"spectrometry\", \"spectrometry\", \"spectrometry\", \"spectrometry\", \"speeding\", \"speeding\", \"speeding\", \"speeding\", \"speeding\", \"spenders\", \"spenders\", \"spenders\", \"spenders\", \"spenders\", \"spoken\", \"spoken\", \"spoken\", \"spoken\", \"spoken\", \"stakeholders\", \"stakeholders\", \"stakeholders\", \"stakeholders\", \"stakeholders\", \"standard\", \"standard\", \"standard\", \"standard\", \"standard\", \"start\", \"start\", \"start\", \"start\", \"start\", \"stepped\", \"stepped\", \"stepped\", \"stepped\", \"stepped\", \"stepping\", \"stepping\", \"stepping\", \"stepping\", \"stepping\", \"sterile\", \"sterile\", \"sterile\", \"sterile\", \"sterile\", \"stick\", \"stick\", \"stick\", \"stick\", \"stick\", \"strategically\", \"strategically\", \"strategically\", \"strategically\", \"strategically\", \"strategy\", \"strategy\", \"strategy\", \"strategy\", \"strategy\", \"strong\", \"strong\", \"strong\", \"strong\", \"strong\", \"substantially\", \"substantially\", \"substantially\", \"substantially\", \"substantially\", \"supply\", \"supply\", \"supply\", \"supply\", \"supply\", \"supporting\", \"supporting\", \"supporting\", \"supporting\", \"supporting\", \"tailwinds\", \"tailwinds\", \"tailwinds\", \"tailwinds\", \"tailwinds\", \"tangible\", \"tangible\", \"tangible\", \"tangible\", \"tangible\", \"team\", \"team\", \"team\", \"team\", \"team\", \"teams\", \"teams\", \"teams\", \"teams\", \"teams\", \"technology\", \"technology\", \"technology\", \"technology\", \"technology\", \"testing\", \"testing\", \"testing\", \"testing\", \"testing\", \"thing\", \"thing\", \"thing\", \"thing\", \"thing\", \"think\", \"think\", \"think\", \"think\", \"think\", \"throws\", \"throws\", \"throws\", \"throws\", \"throws\", \"time\", \"time\", \"time\", \"time\", \"time\", \"today\", \"today\", \"today\", \"today\", \"today\", \"total\", \"total\", \"total\", \"total\", \"total\", \"traffic\", \"traffic\", \"traffic\", \"traffic\", \"traffic\", \"uncertainty\", \"uncertainty\", \"uncertainty\", \"uncertainty\", \"uncertainty\", \"us\", \"us\", \"us\", \"us\", \"us\", \"variety\", \"variety\", \"variety\", \"variety\", \"variety\", \"verticals\", \"verticals\", \"verticals\", \"verticals\", \"verticals\", \"vice\", \"vice\", \"vice\", \"vice\", \"vice\", \"vivek\", \"vivek\", \"vivek\", \"vivek\", \"vivek\", \"wellness\", \"wellness\", \"wellness\", \"wellness\", \"wellness\", \"wins\", \"wins\", \"wins\", \"wins\", \"wins\", \"would\", \"would\", \"would\", \"would\", \"would\", \"year\", \"year\", \"year\", \"year\", \"year\", \"yes\", \"yes\", \"yes\", \"yes\", \"yes\"]}, \"R\": 30, \"lambda.step\": 0.01, \"plot.opts\": {\"xlab\": \"PC1\", \"ylab\": \"PC2\"}, \"topic.order\": [2, 5, 3, 1, 4]};\n",
              "\n",
              "function LDAvis_load_lib(url, callback){\n",
              "  var s = document.createElement('script');\n",
              "  s.src = url;\n",
              "  s.async = true;\n",
              "  s.onreadystatechange = s.onload = callback;\n",
              "  s.onerror = function(){console.warn(\"failed to load library \" + url);};\n",
              "  document.getElementsByTagName(\"head\")[0].appendChild(s);\n",
              "}\n",
              "\n",
              "if(typeof(LDAvis) !== \"undefined\"){\n",
              "   // already loaded: just create the visualization\n",
              "   !function(LDAvis){\n",
              "       new LDAvis(\"#\" + \"ldavis_el35431400308285964329511115199\", ldavis_el35431400308285964329511115199_data);\n",
              "   }(LDAvis);\n",
              "}else if(typeof define === \"function\" && define.amd){\n",
              "   // require.js is available: use it to load d3/LDAvis\n",
              "   require.config({paths: {d3: \"https://d3js.org/d3.v5\"}});\n",
              "   require([\"d3\"], function(d3){\n",
              "      window.d3 = d3;\n",
              "      LDAvis_load_lib(\"https://cdn.jsdelivr.net/gh/bmabey/pyLDAvis@3.3.1/pyLDAvis/js/ldavis.v3.0.0.js\", function(){\n",
              "        new LDAvis(\"#\" + \"ldavis_el35431400308285964329511115199\", ldavis_el35431400308285964329511115199_data);\n",
              "      });\n",
              "    });\n",
              "}else{\n",
              "    // require.js not available: dynamically load d3 & LDAvis\n",
              "    LDAvis_load_lib(\"https://d3js.org/d3.v5.js\", function(){\n",
              "         LDAvis_load_lib(\"https://cdn.jsdelivr.net/gh/bmabey/pyLDAvis@3.3.1/pyLDAvis/js/ldavis.v3.0.0.js\", function(){\n",
              "                 new LDAvis(\"#\" + \"ldavis_el35431400308285964329511115199\", ldavis_el35431400308285964329511115199_data);\n",
              "            })\n",
              "         });\n",
              "}\n",
              "</script>"
            ],
            "text/plain": [
              "<IPython.core.display.HTML object>"
            ]
          },
          "execution_count": 43,
          "metadata": {},
          "output_type": "execute_result"
        }
      ],
      "source": [
        "\n",
        "lda_vis_data = ctm.get_ldavis_data_format(tp.vocab, training_dataset, n_samples=10)\n",
        "\n",
        "ctm_pd = vis.prepare(**lda_vis_data)\n",
        "vis.display(ctm_pd)"
      ]
    },
    {
      "cell_type": "markdown",
      "metadata": {
        "id": "pB9i2zyKxQ0X"
      },
      "source": [
        "# Save Our Model for Later Use"
      ]
    },
    {
      "cell_type": "code",
      "execution_count": null,
      "metadata": {
        "colab": {
          "base_uri": "https://localhost:8080/"
        },
        "id": "Ip1rP_3oxS6Z",
        "outputId": "d147745e-ec9d-4400-b931-6e148b2614d6"
      },
      "outputs": [
        {
          "name": "stderr",
          "output_type": "stream",
          "text": [
            "/usr/local/lib/python3.7/dist-packages/contextualized_topic_models/models/ctm.py:475: Warning: This is an experimental feature that we has not been fully tested. Refer to the following issue:https://github.com/MilaNLProc/contextualized-topic-models/issues/38\n",
            "  Warning)\n"
          ]
        }
      ],
      "source": [
        "ctm.save(models_dir=\"./\")"
      ]
    },
    {
      "cell_type": "code",
      "execution_count": null,
      "metadata": {
        "id": "bsRUa6p8xcuY"
      },
      "outputs": [],
      "source": [
        "# let's remove the trained model\n",
        "del ctm"
      ]
    },
    {
      "cell_type": "code",
      "execution_count": null,
      "metadata": {
        "colab": {
          "base_uri": "https://localhost:8080/"
        },
        "id": "o8UbvS8Wxadb",
        "outputId": "3f0b3c0b-1f69-4a4a-b0ad-ea23dad212b0"
      },
      "outputs": [
        {
          "name": "stderr",
          "output_type": "stream",
          "text": [
            "/content/contextualized-topic-models/contextualized_topic_models/models/ctm.py:471: Warning: This is an experimental feature that we has not been fully tested. Refer to the following issue:https://github.com/MilaNLProc/contextualized-topic-models/issues/38\n",
            "  Warning)\n"
          ]
        }
      ],
      "source": [
        "ctm = CombinedTM(bow_size=len(tp.vocab), contextual_size=768, num_epochs=100, n_components=50)\n",
        "\n",
        "ctm.load(\"/content/contextualized_topic_model_nc_50_tpm_0.0_tpv_0.98_hs_prodLDA_ac_(100, 100)_do_softplus_lr_0.2_mo_0.002_rp_0.99\",\n",
        "                                                                                                      epoch=19)"
      ]
    },
    {
      "cell_type": "code",
      "execution_count": null,
      "metadata": {
        "colab": {
          "base_uri": "https://localhost:8080/"
        },
        "id": "OY8TnjPCxfn7",
        "outputId": "ff1e73fe-053e-41fb-de6e-daa624e39ff6"
      },
      "outputs": [
        {
          "data": {
            "text/plain": [
              "[['mi', 'east', 'lies', 'south', 'village'],\n",
              " ['world', 'women', 'team', 'cup', 'international'],\n",
              " ['founded', 'school', 'education', 'university', 'established'],\n",
              " ['studied', 'painter', 'paris', 'french', 'german'],\n",
              " ['played', 'born', 'english', 'made', 'right'],\n",
              " ['film', 'directed', 'written', 'produced', 'stars'],\n",
              " ['league', 'football', 'played', 'american', 'team'],\n",
              " ['album', 'released', 'island', 'river', 'band'],\n",
              " ['de', 'greek', 'king', 'french', 'son'],\n",
              " ['member', 'party', 'politician', 'general', 'elected'],\n",
              " ['university', 'american', 'professor', 'received', 'college'],\n",
              " ['church', 'roman', 'catholic', 'century', 'diocese'],\n",
              " ['municipality', 'region', 'area', 'kilometres', 'mi'],\n",
              " ['mi', 'west', 'km', 'county', 'south'],\n",
              " ['population', 'area', 'county', 'town', 'census'],\n",
              " ['built', 'house', 'building', 'story', 'style'],\n",
              " ['game', 'developed', 'video', 'games', 'playstation'],\n",
              " ['used', 'often', 'term', 'form', 'usually'],\n",
              " ['published', 'book', 'written', 'books', 'collection'],\n",
              " ['school', 'high', 'public', 'located', 'secondary'],\n",
              " ['district', 'population', 'also', 'iran', 'province'],\n",
              " ['american', 'york', 'new', 'known', 'best'],\n",
              " ['john', 'politician', 'member', 'served', 'born'],\n",
              " ['war', 'world', 'class', 'ii', 'army'],\n",
              " ['states', 'united', 'list', 'national', 'places'],\n",
              " ['located', 'park', 'city', 'state', 'county'],\n",
              " ['government', 'organization', 'international', 'health', 'established'],\n",
              " ['born', 'player', 'former', 'career', 'played'],\n",
              " ['state', 'american', 'college', 'football', 'university'],\n",
              " ['series', 'television', 'book', 'published', 'american'],\n",
              " ['historic', 'house', 'built', 'national', 'building'],\n",
              " ['released', 'album', 'first', 'second', 'studio'],\n",
              " ['river', 'located', 'area', 'north', 'south'],\n",
              " ['university', 'professor', 'law', 'college', 'research'],\n",
              " ['world', 'event', 'championships', 'held', 'medal'],\n",
              " ['planet', 'chemical', 'given', 'forms', 'gene'],\n",
              " ['held', 'members', 'government', 'election', 'party'],\n",
              " ['actor', 'best', 'film', 'director', 'actress'],\n",
              " ['season', 'division', 'team', 'year', 'head'],\n",
              " ['information', 'system', 'company', 'computer', 'data'],\n",
              " ['club', 'football', 'league', 'team', 'association'],\n",
              " ['family', 'found', 'native', 'species', 'common'],\n",
              " ['station', 'railway', 'line', 'radio', 'owned'],\n",
              " ['held', 'season', 'series', 'race', 'place'],\n",
              " ['company', 'airport', 'owned', 'air', 'united'],\n",
              " ['music', 'formed', 'band', 'group', 'singer'],\n",
              " ['series', 'television', 'produced', 'show', 'tv'],\n",
              " ['released', 'album', 'film', 'music', 'directed'],\n",
              " ['family', 'species', 'genus', 'brown', 'found'],\n",
              " ['island', 'land', 'point', 'named', 'antarctic']]"
            ]
          },
          "execution_count": 23,
          "metadata": {
            "tags": []
          },
          "output_type": "execute_result"
        }
      ],
      "source": [
        "ctm.get_topic_lists(5)"
      ]
    },
    {
      "cell_type": "code",
      "execution_count": null,
      "metadata": {
        "id": "ZP62WW34z5WO"
      },
      "outputs": [],
      "source": [
        ""
      ]
    }
  ],
  "metadata": {
    "accelerator": "GPU",
    "colab": {
      "collapsed_sections": [
        "pB9i2zyKxQ0X"
      ],
      "name": "CTM_combined_model",
      "provenance": [],
      "toc_visible": true
    },
    "kernelspec": {
      "display_name": "Python 3",
      "name": "python3"
    },
    "widgets": {
      "application/vnd.jupyter.widget-state+json": {
        "03ba31d0277f459e85299c9d35acac48": {
          "model_module": "@jupyter-widgets/controls",
          "model_module_version": "1.5.0",
          "model_name": "HBoxModel",
          "state": {
            "_dom_classes": [],
            "_model_module": "@jupyter-widgets/controls",
            "_model_module_version": "1.5.0",
            "_model_name": "HBoxModel",
            "_view_count": null,
            "_view_module": "@jupyter-widgets/controls",
            "_view_module_version": "1.5.0",
            "_view_name": "HBoxView",
            "box_style": "",
            "children": [
              "IPY_MODEL_a580fc77388d4800b4058d1d59888b58",
              "IPY_MODEL_9988eb8148e9431ab7a247efaa97cc26",
              "IPY_MODEL_37128ba5707f426f9f07080e41f2e095"
            ],
            "layout": "IPY_MODEL_6922a4a67f1a4b33a66ac1d8dbc8a3d3"
          }
        },
        "0584de6320434d8f9346074352534b7d": {
          "model_module": "@jupyter-widgets/controls",
          "model_module_version": "1.5.0",
          "model_name": "DescriptionStyleModel",
          "state": {
            "_model_module": "@jupyter-widgets/controls",
            "_model_module_version": "1.5.0",
            "_model_name": "DescriptionStyleModel",
            "_view_count": null,
            "_view_module": "@jupyter-widgets/base",
            "_view_module_version": "1.2.0",
            "_view_name": "StyleView",
            "description_width": ""
          }
        },
        "05bc651539c14d549a11b31acfbd4277": {
          "model_module": "@jupyter-widgets/controls",
          "model_module_version": "1.5.0",
          "model_name": "DescriptionStyleModel",
          "state": {
            "_model_module": "@jupyter-widgets/controls",
            "_model_module_version": "1.5.0",
            "_model_name": "DescriptionStyleModel",
            "_view_count": null,
            "_view_module": "@jupyter-widgets/base",
            "_view_module_version": "1.2.0",
            "_view_name": "StyleView",
            "description_width": ""
          }
        },
        "0df9b3a042d34e7c8abe983262127ef0": {
          "model_module": "@jupyter-widgets/controls",
          "model_module_version": "1.5.0",
          "model_name": "HTMLModel",
          "state": {
            "_dom_classes": [],
            "_model_module": "@jupyter-widgets/controls",
            "_model_module_version": "1.5.0",
            "_model_name": "HTMLModel",
            "_view_count": null,
            "_view_module": "@jupyter-widgets/controls",
            "_view_module_version": "1.5.0",
            "_view_name": "HTMLView",
            "description": "",
            "description_tooltip": null,
            "layout": "IPY_MODEL_fe2b54f565ad40dd996320fe73ca4af1",
            "placeholder": "​",
            "style": "IPY_MODEL_7194ab190c7c449eb4cabaace7c8fccc",
            "value": "Batches: 100%"
          }
        },
        "2efacab559164b04bfb2fba333888eeb": {
          "model_module": "@jupyter-widgets/controls",
          "model_module_version": "1.5.0",
          "model_name": "ProgressStyleModel",
          "state": {
            "_model_module": "@jupyter-widgets/controls",
            "_model_module_version": "1.5.0",
            "_model_name": "ProgressStyleModel",
            "_view_count": null,
            "_view_module": "@jupyter-widgets/base",
            "_view_module_version": "1.2.0",
            "_view_name": "StyleView",
            "bar_color": null,
            "description_width": ""
          }
        },
        "37128ba5707f426f9f07080e41f2e095": {
          "model_module": "@jupyter-widgets/controls",
          "model_module_version": "1.5.0",
          "model_name": "HTMLModel",
          "state": {
            "_dom_classes": [],
            "_model_module": "@jupyter-widgets/controls",
            "_model_module_version": "1.5.0",
            "_model_name": "HTMLModel",
            "_view_count": null,
            "_view_module": "@jupyter-widgets/controls",
            "_view_module_version": "1.5.0",
            "_view_name": "HTMLView",
            "description": "",
            "description_tooltip": null,
            "layout": "IPY_MODEL_eb2dd1f9d0c64ce59e98b56884c3c752",
            "placeholder": "​",
            "style": "IPY_MODEL_0584de6320434d8f9346074352534b7d",
            "value": " 5/5 [00:04&lt;00:00,  1.21it/s]"
          }
        },
        "488a4cd9569f4f5682550d0d23710606": {
          "model_module": "@jupyter-widgets/controls",
          "model_module_version": "1.5.0",
          "model_name": "HBoxModel",
          "state": {
            "_dom_classes": [],
            "_model_module": "@jupyter-widgets/controls",
            "_model_module_version": "1.5.0",
            "_model_name": "HBoxModel",
            "_view_count": null,
            "_view_module": "@jupyter-widgets/controls",
            "_view_module_version": "1.5.0",
            "_view_name": "HBoxView",
            "box_style": "",
            "children": [
              "IPY_MODEL_0df9b3a042d34e7c8abe983262127ef0",
              "IPY_MODEL_c75f9042a5ee488093319f5ffea0a5e0",
              "IPY_MODEL_c0624d9e792d4f48bccb72beddbd23e1"
            ],
            "layout": "IPY_MODEL_a35828adab634c2a8c704739e3fc63d4"
          }
        },
        "4c1105d61ceb4cf3a58575cbf08f8dc9": {
          "model_module": "@jupyter-widgets/controls",
          "model_module_version": "1.5.0",
          "model_name": "ProgressStyleModel",
          "state": {
            "_model_module": "@jupyter-widgets/controls",
            "_model_module_version": "1.5.0",
            "_model_name": "ProgressStyleModel",
            "_view_count": null,
            "_view_module": "@jupyter-widgets/base",
            "_view_module_version": "1.2.0",
            "_view_name": "StyleView",
            "bar_color": null,
            "description_width": ""
          }
        },
        "6922a4a67f1a4b33a66ac1d8dbc8a3d3": {
          "model_module": "@jupyter-widgets/base",
          "model_module_version": "1.2.0",
          "model_name": "LayoutModel",
          "state": {
            "_model_module": "@jupyter-widgets/base",
            "_model_module_version": "1.2.0",
            "_model_name": "LayoutModel",
            "_view_count": null,
            "_view_module": "@jupyter-widgets/base",
            "_view_module_version": "1.2.0",
            "_view_name": "LayoutView",
            "align_content": null,
            "align_items": null,
            "align_self": null,
            "border": null,
            "bottom": null,
            "display": null,
            "flex": null,
            "flex_flow": null,
            "grid_area": null,
            "grid_auto_columns": null,
            "grid_auto_flow": null,
            "grid_auto_rows": null,
            "grid_column": null,
            "grid_gap": null,
            "grid_row": null,
            "grid_template_areas": null,
            "grid_template_columns": null,
            "grid_template_rows": null,
            "height": null,
            "justify_content": null,
            "justify_items": null,
            "left": null,
            "margin": null,
            "max_height": null,
            "max_width": null,
            "min_height": null,
            "min_width": null,
            "object_fit": null,
            "object_position": null,
            "order": null,
            "overflow": null,
            "overflow_x": null,
            "overflow_y": null,
            "padding": null,
            "right": null,
            "top": null,
            "visibility": null,
            "width": null
          }
        },
        "6a483668162c4e138973aba5235d9a51": {
          "model_module": "@jupyter-widgets/base",
          "model_module_version": "1.2.0",
          "model_name": "LayoutModel",
          "state": {
            "_model_module": "@jupyter-widgets/base",
            "_model_module_version": "1.2.0",
            "_model_name": "LayoutModel",
            "_view_count": null,
            "_view_module": "@jupyter-widgets/base",
            "_view_module_version": "1.2.0",
            "_view_name": "LayoutView",
            "align_content": null,
            "align_items": null,
            "align_self": null,
            "border": null,
            "bottom": null,
            "display": null,
            "flex": null,
            "flex_flow": null,
            "grid_area": null,
            "grid_auto_columns": null,
            "grid_auto_flow": null,
            "grid_auto_rows": null,
            "grid_column": null,
            "grid_gap": null,
            "grid_row": null,
            "grid_template_areas": null,
            "grid_template_columns": null,
            "grid_template_rows": null,
            "height": null,
            "justify_content": null,
            "justify_items": null,
            "left": null,
            "margin": null,
            "max_height": null,
            "max_width": null,
            "min_height": null,
            "min_width": null,
            "object_fit": null,
            "object_position": null,
            "order": null,
            "overflow": null,
            "overflow_x": null,
            "overflow_y": null,
            "padding": null,
            "right": null,
            "top": null,
            "visibility": null,
            "width": null
          }
        },
        "6fc2bb08d9a24234bd5fc2e9b5a61edb": {
          "model_module": "@jupyter-widgets/controls",
          "model_module_version": "1.5.0",
          "model_name": "DescriptionStyleModel",
          "state": {
            "_model_module": "@jupyter-widgets/controls",
            "_model_module_version": "1.5.0",
            "_model_name": "DescriptionStyleModel",
            "_view_count": null,
            "_view_module": "@jupyter-widgets/base",
            "_view_module_version": "1.2.0",
            "_view_name": "StyleView",
            "description_width": ""
          }
        },
        "7194ab190c7c449eb4cabaace7c8fccc": {
          "model_module": "@jupyter-widgets/controls",
          "model_module_version": "1.5.0",
          "model_name": "DescriptionStyleModel",
          "state": {
            "_model_module": "@jupyter-widgets/controls",
            "_model_module_version": "1.5.0",
            "_model_name": "DescriptionStyleModel",
            "_view_count": null,
            "_view_module": "@jupyter-widgets/base",
            "_view_module_version": "1.2.0",
            "_view_name": "StyleView",
            "description_width": ""
          }
        },
        "8fdd43b308894e11bb4b504ab62ebbc7": {
          "model_module": "@jupyter-widgets/base",
          "model_module_version": "1.2.0",
          "model_name": "LayoutModel",
          "state": {
            "_model_module": "@jupyter-widgets/base",
            "_model_module_version": "1.2.0",
            "_model_name": "LayoutModel",
            "_view_count": null,
            "_view_module": "@jupyter-widgets/base",
            "_view_module_version": "1.2.0",
            "_view_name": "LayoutView",
            "align_content": null,
            "align_items": null,
            "align_self": null,
            "border": null,
            "bottom": null,
            "display": null,
            "flex": null,
            "flex_flow": null,
            "grid_area": null,
            "grid_auto_columns": null,
            "grid_auto_flow": null,
            "grid_auto_rows": null,
            "grid_column": null,
            "grid_gap": null,
            "grid_row": null,
            "grid_template_areas": null,
            "grid_template_columns": null,
            "grid_template_rows": null,
            "height": null,
            "justify_content": null,
            "justify_items": null,
            "left": null,
            "margin": null,
            "max_height": null,
            "max_width": null,
            "min_height": null,
            "min_width": null,
            "object_fit": null,
            "object_position": null,
            "order": null,
            "overflow": null,
            "overflow_x": null,
            "overflow_y": null,
            "padding": null,
            "right": null,
            "top": null,
            "visibility": null,
            "width": null
          }
        },
        "9988eb8148e9431ab7a247efaa97cc26": {
          "model_module": "@jupyter-widgets/controls",
          "model_module_version": "1.5.0",
          "model_name": "FloatProgressModel",
          "state": {
            "_dom_classes": [],
            "_model_module": "@jupyter-widgets/controls",
            "_model_module_version": "1.5.0",
            "_model_name": "FloatProgressModel",
            "_view_count": null,
            "_view_module": "@jupyter-widgets/controls",
            "_view_module_version": "1.5.0",
            "_view_name": "ProgressView",
            "bar_style": "success",
            "description": "",
            "description_tooltip": null,
            "layout": "IPY_MODEL_8fdd43b308894e11bb4b504ab62ebbc7",
            "max": 5,
            "min": 0,
            "orientation": "horizontal",
            "style": "IPY_MODEL_2efacab559164b04bfb2fba333888eeb",
            "value": 5
          }
        },
        "a35828adab634c2a8c704739e3fc63d4": {
          "model_module": "@jupyter-widgets/base",
          "model_module_version": "1.2.0",
          "model_name": "LayoutModel",
          "state": {
            "_model_module": "@jupyter-widgets/base",
            "_model_module_version": "1.2.0",
            "_model_name": "LayoutModel",
            "_view_count": null,
            "_view_module": "@jupyter-widgets/base",
            "_view_module_version": "1.2.0",
            "_view_name": "LayoutView",
            "align_content": null,
            "align_items": null,
            "align_self": null,
            "border": null,
            "bottom": null,
            "display": null,
            "flex": null,
            "flex_flow": null,
            "grid_area": null,
            "grid_auto_columns": null,
            "grid_auto_flow": null,
            "grid_auto_rows": null,
            "grid_column": null,
            "grid_gap": null,
            "grid_row": null,
            "grid_template_areas": null,
            "grid_template_columns": null,
            "grid_template_rows": null,
            "height": null,
            "justify_content": null,
            "justify_items": null,
            "left": null,
            "margin": null,
            "max_height": null,
            "max_width": null,
            "min_height": null,
            "min_width": null,
            "object_fit": null,
            "object_position": null,
            "order": null,
            "overflow": null,
            "overflow_x": null,
            "overflow_y": null,
            "padding": null,
            "right": null,
            "top": null,
            "visibility": null,
            "width": null
          }
        },
        "a580fc77388d4800b4058d1d59888b58": {
          "model_module": "@jupyter-widgets/controls",
          "model_module_version": "1.5.0",
          "model_name": "HTMLModel",
          "state": {
            "_dom_classes": [],
            "_model_module": "@jupyter-widgets/controls",
            "_model_module_version": "1.5.0",
            "_model_name": "HTMLModel",
            "_view_count": null,
            "_view_module": "@jupyter-widgets/controls",
            "_view_module_version": "1.5.0",
            "_view_name": "HTMLView",
            "description": "",
            "description_tooltip": null,
            "layout": "IPY_MODEL_6a483668162c4e138973aba5235d9a51",
            "placeholder": "​",
            "style": "IPY_MODEL_05bc651539c14d549a11b31acfbd4277",
            "value": "Batches: 100%"
          }
        },
        "c0624d9e792d4f48bccb72beddbd23e1": {
          "model_module": "@jupyter-widgets/controls",
          "model_module_version": "1.5.0",
          "model_name": "HTMLModel",
          "state": {
            "_dom_classes": [],
            "_model_module": "@jupyter-widgets/controls",
            "_model_module_version": "1.5.0",
            "_model_name": "HTMLModel",
            "_view_count": null,
            "_view_module": "@jupyter-widgets/controls",
            "_view_module_version": "1.5.0",
            "_view_name": "HTMLView",
            "description": "",
            "description_tooltip": null,
            "layout": "IPY_MODEL_c0924de2418142eaa323f7becc24bcde",
            "placeholder": "​",
            "style": "IPY_MODEL_6fc2bb08d9a24234bd5fc2e9b5a61edb",
            "value": " 5/5 [00:04&lt;00:00,  1.22it/s]"
          }
        },
        "c0924de2418142eaa323f7becc24bcde": {
          "model_module": "@jupyter-widgets/base",
          "model_module_version": "1.2.0",
          "model_name": "LayoutModel",
          "state": {
            "_model_module": "@jupyter-widgets/base",
            "_model_module_version": "1.2.0",
            "_model_name": "LayoutModel",
            "_view_count": null,
            "_view_module": "@jupyter-widgets/base",
            "_view_module_version": "1.2.0",
            "_view_name": "LayoutView",
            "align_content": null,
            "align_items": null,
            "align_self": null,
            "border": null,
            "bottom": null,
            "display": null,
            "flex": null,
            "flex_flow": null,
            "grid_area": null,
            "grid_auto_columns": null,
            "grid_auto_flow": null,
            "grid_auto_rows": null,
            "grid_column": null,
            "grid_gap": null,
            "grid_row": null,
            "grid_template_areas": null,
            "grid_template_columns": null,
            "grid_template_rows": null,
            "height": null,
            "justify_content": null,
            "justify_items": null,
            "left": null,
            "margin": null,
            "max_height": null,
            "max_width": null,
            "min_height": null,
            "min_width": null,
            "object_fit": null,
            "object_position": null,
            "order": null,
            "overflow": null,
            "overflow_x": null,
            "overflow_y": null,
            "padding": null,
            "right": null,
            "top": null,
            "visibility": null,
            "width": null
          }
        },
        "c75f9042a5ee488093319f5ffea0a5e0": {
          "model_module": "@jupyter-widgets/controls",
          "model_module_version": "1.5.0",
          "model_name": "FloatProgressModel",
          "state": {
            "_dom_classes": [],
            "_model_module": "@jupyter-widgets/controls",
            "_model_module_version": "1.5.0",
            "_model_name": "FloatProgressModel",
            "_view_count": null,
            "_view_module": "@jupyter-widgets/controls",
            "_view_module_version": "1.5.0",
            "_view_name": "ProgressView",
            "bar_style": "success",
            "description": "",
            "description_tooltip": null,
            "layout": "IPY_MODEL_e58389d9eb084e739afc7402efd12ea4",
            "max": 5,
            "min": 0,
            "orientation": "horizontal",
            "style": "IPY_MODEL_4c1105d61ceb4cf3a58575cbf08f8dc9",
            "value": 5
          }
        },
        "e58389d9eb084e739afc7402efd12ea4": {
          "model_module": "@jupyter-widgets/base",
          "model_module_version": "1.2.0",
          "model_name": "LayoutModel",
          "state": {
            "_model_module": "@jupyter-widgets/base",
            "_model_module_version": "1.2.0",
            "_model_name": "LayoutModel",
            "_view_count": null,
            "_view_module": "@jupyter-widgets/base",
            "_view_module_version": "1.2.0",
            "_view_name": "LayoutView",
            "align_content": null,
            "align_items": null,
            "align_self": null,
            "border": null,
            "bottom": null,
            "display": null,
            "flex": null,
            "flex_flow": null,
            "grid_area": null,
            "grid_auto_columns": null,
            "grid_auto_flow": null,
            "grid_auto_rows": null,
            "grid_column": null,
            "grid_gap": null,
            "grid_row": null,
            "grid_template_areas": null,
            "grid_template_columns": null,
            "grid_template_rows": null,
            "height": null,
            "justify_content": null,
            "justify_items": null,
            "left": null,
            "margin": null,
            "max_height": null,
            "max_width": null,
            "min_height": null,
            "min_width": null,
            "object_fit": null,
            "object_position": null,
            "order": null,
            "overflow": null,
            "overflow_x": null,
            "overflow_y": null,
            "padding": null,
            "right": null,
            "top": null,
            "visibility": null,
            "width": null
          }
        },
        "eb2dd1f9d0c64ce59e98b56884c3c752": {
          "model_module": "@jupyter-widgets/base",
          "model_module_version": "1.2.0",
          "model_name": "LayoutModel",
          "state": {
            "_model_module": "@jupyter-widgets/base",
            "_model_module_version": "1.2.0",
            "_model_name": "LayoutModel",
            "_view_count": null,
            "_view_module": "@jupyter-widgets/base",
            "_view_module_version": "1.2.0",
            "_view_name": "LayoutView",
            "align_content": null,
            "align_items": null,
            "align_self": null,
            "border": null,
            "bottom": null,
            "display": null,
            "flex": null,
            "flex_flow": null,
            "grid_area": null,
            "grid_auto_columns": null,
            "grid_auto_flow": null,
            "grid_auto_rows": null,
            "grid_column": null,
            "grid_gap": null,
            "grid_row": null,
            "grid_template_areas": null,
            "grid_template_columns": null,
            "grid_template_rows": null,
            "height": null,
            "justify_content": null,
            "justify_items": null,
            "left": null,
            "margin": null,
            "max_height": null,
            "max_width": null,
            "min_height": null,
            "min_width": null,
            "object_fit": null,
            "object_position": null,
            "order": null,
            "overflow": null,
            "overflow_x": null,
            "overflow_y": null,
            "padding": null,
            "right": null,
            "top": null,
            "visibility": null,
            "width": null
          }
        },
        "fe2b54f565ad40dd996320fe73ca4af1": {
          "model_module": "@jupyter-widgets/base",
          "model_module_version": "1.2.0",
          "model_name": "LayoutModel",
          "state": {
            "_model_module": "@jupyter-widgets/base",
            "_model_module_version": "1.2.0",
            "_model_name": "LayoutModel",
            "_view_count": null,
            "_view_module": "@jupyter-widgets/base",
            "_view_module_version": "1.2.0",
            "_view_name": "LayoutView",
            "align_content": null,
            "align_items": null,
            "align_self": null,
            "border": null,
            "bottom": null,
            "display": null,
            "flex": null,
            "flex_flow": null,
            "grid_area": null,
            "grid_auto_columns": null,
            "grid_auto_flow": null,
            "grid_auto_rows": null,
            "grid_column": null,
            "grid_gap": null,
            "grid_row": null,
            "grid_template_areas": null,
            "grid_template_columns": null,
            "grid_template_rows": null,
            "height": null,
            "justify_content": null,
            "justify_items": null,
            "left": null,
            "margin": null,
            "max_height": null,
            "max_width": null,
            "min_height": null,
            "min_width": null,
            "object_fit": null,
            "object_position": null,
            "order": null,
            "overflow": null,
            "overflow_x": null,
            "overflow_y": null,
            "padding": null,
            "right": null,
            "top": null,
            "visibility": null,
            "width": null
          }
        }
      }
    }
  },
  "nbformat": 4,
  "nbformat_minor": 0
}